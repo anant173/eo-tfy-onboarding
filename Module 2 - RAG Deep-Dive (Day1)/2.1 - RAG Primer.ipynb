{
 "cells": [
  {
   "cell_type": "markdown",
   "id": "7c595961",
   "metadata": {},
   "source": [
    "# Retrieval Augmented Generation"
   ]
  },
  {
   "cell_type": "markdown",
   "id": "64a3e317",
   "metadata": {},
   "source": [
    "## Initial Setup"
   ]
  },
  {
   "cell_type": "code",
   "execution_count": 40,
   "id": "77eaf26c-7d86-4ae2-946c-e87350a2a7b7",
   "metadata": {},
   "outputs": [],
   "source": [
    "# !brew install wget"
   ]
  },
  {
   "cell_type": "code",
   "execution_count": 1,
   "id": "183215ba",
   "metadata": {},
   "outputs": [],
   "source": [
    "## Set HuggingFace token\n",
    "# You need to set the HuggingFace token and save it inside the .env file. Save it as HF_TOKEN=your_token_here."
   ]
  },
  {
   "cell_type": "code",
   "execution_count": 2,
   "id": "978ef9dc-8c30-4775-85ed-37d6841293ca",
   "metadata": {},
   "outputs": [],
   "source": [
    "# echo \"TOKENIZERS_PARALLELISM = false\" >> .env"
   ]
  },
  {
   "cell_type": "code",
   "execution_count": 43,
   "id": "1471f1c0-e3d1-425a-8608-30114c582537",
   "metadata": {},
   "outputs": [],
   "source": [
    "# !brew install poppler"
   ]
  },
  {
   "cell_type": "code",
   "execution_count": 44,
   "id": "aeeff7da-0f1c-47e1-82e7-9538b46816fe",
   "metadata": {},
   "outputs": [],
   "source": [
    "# !echo \"OCR_AGENT=unstructured.partition.utils.ocr_models.tesseract_ocr.OCRAgentTesseract\" >> .env"
   ]
  },
  {
   "cell_type": "code",
   "execution_count": 3,
   "id": "69151143",
   "metadata": {},
   "outputs": [],
   "source": [
    "import os, json, re, getpass, warnings\n",
    "import numpy as np\n",
    "from dotenv import load_dotenv\n",
    "from uuid import uuid4\n",
    "from IPython.display import display, Markdown"
   ]
  },
  {
   "cell_type": "code",
   "execution_count": 4,
   "id": "bc109c2e",
   "metadata": {},
   "outputs": [
    {
     "data": {
      "text/plain": [
       "True"
      ]
     },
     "execution_count": 4,
     "metadata": {},
     "output_type": "execute_result"
    }
   ],
   "source": [
    "warnings.filterwarnings('ignore')\n",
    "load_dotenv(override=True)"
   ]
  },
  {
   "cell_type": "code",
   "execution_count": 5,
   "id": "2c21204f",
   "metadata": {},
   "outputs": [],
   "source": [
    "#Check for Groq API Key\n",
    "if \"GROQ_API_KEY\" not in os.environ:\n",
    "    os.environ[\"GROQ_API_KEY\"] = getpass.getpass(\"GROQ API Key: \")"
   ]
  },
  {
   "cell_type": "code",
   "execution_count": 7,
   "id": "60fb2732",
   "metadata": {},
   "outputs": [],
   "source": [
    "#Set Hugging Face token (as we will be using some of Hugging Face's functionalities\n",
    "from huggingface_hub.hf_api import HfFolder\n",
    "HfFolder.save_token(os.environ[\"HF_TOKEN\"])"
   ]
  },
  {
   "cell_type": "code",
   "execution_count": 10,
   "id": "07142ba9",
   "metadata": {},
   "outputs": [
    {
     "data": {
      "text/plain": [
       "'2.2.6'"
      ]
     },
     "execution_count": 10,
     "metadata": {},
     "output_type": "execute_result"
    }
   ],
   "source": [
    "np.__version__"
   ]
  },
  {
   "cell_type": "markdown",
   "id": "e01662fb",
   "metadata": {},
   "source": [
    "## Part 1: Indexing"
   ]
  },
  {
   "cell_type": "code",
   "execution_count": 11,
   "id": "c3590a30",
   "metadata": {},
   "outputs": [],
   "source": [
    "# Question\n",
    "question = \"What is TrueFoundry all about?\""
   ]
  },
  {
   "cell_type": "markdown",
   "id": "171255cd",
   "metadata": {},
   "source": [
    "### Concept: Tokenization"
   ]
  },
  {
   "cell_type": "markdown",
   "id": "2f553e03",
   "metadata": {},
   "source": [
    "**tiktoken** is a fast BPE tokenizer for use with OpenAI's models. It takes a 1) text string and 2) encoding to convert string to tokens."
   ]
  },
  {
   "cell_type": "markdown",
   "id": "2fa0b445",
   "metadata": {},
   "source": [
    "**About encodings:** Encodings specify how text is converted into tokens. Different models use different encodings. \n",
    "\n",
    "`tiktoken` supports following encodings used by OpenAI models:\n",
    "\n",
    "| Encoding name | OpenAI models |\n",
    "|---|---|\n",
    "| `o200k_base` | gpt-4o, gpt-4o-mini |\n",
    "| `cl100k_base` | gpt-4-turbo, gpt-4, gpt-3.5-turbo, text-embedding-ada-002, text-embedding-3-small, text-embedding-3-large |\n",
    "| `p50k_base` | Codex models, text-davinci-002, text-davinci-003 |\n",
    "| `r50k_base` (or `gpt2`) | GPT-3 models like davinci |"
   ]
  },
  {
   "cell_type": "markdown",
   "id": "57e20bb0",
   "metadata": {},
   "source": [
    "**Note:** You can check out how a string is tokenized using the third-party [Tiktokenizer](https://tiktokenizer.vercel.app/) app. "
   ]
  },
  {
   "cell_type": "code",
   "execution_count": 11,
   "id": "0df0ce16",
   "metadata": {},
   "outputs": [],
   "source": [
    "#Import library\n",
    "import tiktoken"
   ]
  },
  {
   "cell_type": "code",
   "execution_count": 12,
   "id": "e6a21b35",
   "metadata": {},
   "outputs": [],
   "source": [
    "#Load an encoding - load encoding by name \n",
    "encoding = tiktoken.get_encoding(\"cl100k_base\")"
   ]
  },
  {
   "cell_type": "code",
   "execution_count": 13,
   "id": "66f72864",
   "metadata": {},
   "outputs": [],
   "source": [
    "#Load an encoding - load encoding for a model \n",
    "encoding = tiktoken.encoding_for_model(\"gpt-4o-mini\")"
   ]
  },
  {
   "cell_type": "code",
   "execution_count": 14,
   "id": "fcb2d154",
   "metadata": {},
   "outputs": [
    {
     "data": {
      "text/plain": [
       "[4827, 382, 6432, 7818, 1102, 722, 1078, 30]"
      ]
     },
     "execution_count": 14,
     "metadata": {},
     "output_type": "execute_result"
    }
   ],
   "source": [
    "#Turn text into tokens\n",
    "tokens = encoding.encode(question)\n",
    "tokens"
   ]
  },
  {
   "cell_type": "code",
   "execution_count": 15,
   "id": "f09614a3",
   "metadata": {},
   "outputs": [
    {
     "data": {
      "text/plain": [
       "8"
      ]
     },
     "execution_count": 15,
     "metadata": {},
     "output_type": "execute_result"
    }
   ],
   "source": [
    "len(tokens)"
   ]
  },
  {
   "cell_type": "code",
   "execution_count": 16,
   "id": "598d7315",
   "metadata": {},
   "outputs": [],
   "source": [
    "#Count tokens\n",
    "def num_tokens_from_string(string: str, encoding_name: str) -> int:\n",
    "    \"\"\"Returns the number of tokens in a text string.\"\"\"\n",
    "    encoding = tiktoken.get_encoding(encoding_name)\n",
    "    tokens = encoding.encode(string)\n",
    "    num_tokens = len(tokens)\n",
    "    return num_tokens"
   ]
  },
  {
   "cell_type": "code",
   "execution_count": 17,
   "id": "2e2016b9",
   "metadata": {},
   "outputs": [
    {
     "data": {
      "text/plain": [
       "8"
      ]
     },
     "execution_count": 17,
     "metadata": {},
     "output_type": "execute_result"
    }
   ],
   "source": [
    "num_tokens_from_string(question, \"cl100k_base\")"
   ]
  },
  {
   "cell_type": "code",
   "execution_count": 18,
   "id": "91630f39",
   "metadata": {},
   "outputs": [
    {
     "data": {
      "text/plain": [
       "'What is TrueFoundry all about?'"
      ]
     },
     "execution_count": 18,
     "metadata": {},
     "output_type": "execute_result"
    }
   ],
   "source": [
    "#Decode list of token integers to string\n",
    "encoding.decode(tokens)"
   ]
  },
  {
   "cell_type": "markdown",
   "id": "3e0eb1cc",
   "metadata": {},
   "source": [
    "#### What about non-OpenAI models?"
   ]
  },
  {
   "cell_type": "markdown",
   "id": "f8ac9af0",
   "metadata": {},
   "source": [
    " Use AutoTokenizer class from Hugging Face `transformers` library."
   ]
  },
  {
   "cell_type": "markdown",
   "id": "4a1cced5",
   "metadata": {},
   "source": [
    "**Important points**:\n",
    "- Make sure you have have created token and logged into Hugging Face Hub.\n",
    "- Please ensure the model name is correct; if it's a gated model, you might need get access from the model page on Hugging Face Hub.\n",
    "    - Access to model meta-llama/Llama-3.1-8B is restricted by default, in our example. Visit https://huggingface.co/meta-llama/Llama-3.1-8B to ask for access."
   ]
  },
  {
   "cell_type": "code",
   "execution_count": 19,
   "id": "7b0dd517",
   "metadata": {},
   "outputs": [],
   "source": [
    "from transformers import AutoTokenizer"
   ]
  },
  {
   "cell_type": "code",
   "execution_count": 20,
   "id": "4a5638b9",
   "metadata": {},
   "outputs": [],
   "source": [
    "#Model name should be as per Hugging Face - exact name can differ from the model name in Ollama/Groq, for example\n",
    "model_name = \"meta-llama/Llama-3.1-8B\""
   ]
  },
  {
   "cell_type": "code",
   "execution_count": 21,
   "id": "b18b5409",
   "metadata": {},
   "outputs": [],
   "source": [
    "# Load the tokenizer for the specified Llama 3.2 model.\n",
    "# `trust_remote_code=True` is often necessary for custom model architectures.\n",
    "tokenizer = AutoTokenizer.from_pretrained(model_name, trust_remote_code=True)"
   ]
  },
  {
   "cell_type": "code",
   "execution_count": 22,
   "id": "81f001f3",
   "metadata": {},
   "outputs": [
    {
     "data": {
      "text/plain": [
       "[128000, 3923, 374, 3082, 6788, 894, 682, 922, 30]"
      ]
     },
     "execution_count": 22,
     "metadata": {},
     "output_type": "execute_result"
    }
   ],
   "source": [
    "# Tokenize the input text.\n",
    "# `add_special_tokens=False` can be used if you only want to count content tokens\n",
    "# without BOS/EOS tokens, but typically for LLM usage, special tokens are included.\n",
    "tokens = tokenizer.encode(question, add_special_tokens=True)\n",
    "tokens"
   ]
  },
  {
   "cell_type": "code",
   "execution_count": 23,
   "id": "c4d00bc8",
   "metadata": {},
   "outputs": [
    {
     "data": {
      "text/plain": [
       "9"
      ]
     },
     "execution_count": 23,
     "metadata": {},
     "output_type": "execute_result"
    }
   ],
   "source": [
    "len(tokens)"
   ]
  },
  {
   "cell_type": "markdown",
   "id": "6ff929b5",
   "metadata": {},
   "source": [
    "**Note**: Typically, we do not need to tokenize the text beforehand when using any embedding model. Most other embedding models from libraries like LangChain or directly from model providers handle the tokenization internally as part of its process to generate the embeddings!"
   ]
  },
  {
   "cell_type": "markdown",
   "id": "96ebc453",
   "metadata": {},
   "source": [
    "### Concept: Embedding"
   ]
  },
  {
   "cell_type": "markdown",
   "id": "922d5e90",
   "metadata": {},
   "source": [
    "Conceptual Reference - [Embedding models](https://python.langchain.com/docs/concepts/embedding_models/)"
   ]
  },
  {
   "cell_type": "markdown",
   "id": "1d6e959b",
   "metadata": {},
   "source": [
    "Check out this MTEB leaderboard for benchmarking embedding models: [MTEB Leaderboard](https://huggingface.co/spaces/mteb/leaderboard) \n",
    "\n",
    "You can choose different embedding models based on \n",
    "1) Embedding dimension\n",
    "2) Max tokens supported\n",
    "3) Performance/accuracy (on specific tasks)\n",
    "4) Multilinguality/Language Support\n",
    "5) Model Size and Inference Speed/Efficiency\n",
    "6) Licensing and Usage Restrictions\n",
    "7) Cost (for API-based, like OpenAI)"
   ]
  },
  {
   "cell_type": "code",
   "execution_count": 24,
   "id": "d1f0a862",
   "metadata": {
    "scrolled": true
   },
   "outputs": [
    {
     "name": "stdout",
     "output_type": "stream",
     "text": [
      "\u001b[?2026h\u001b[?25l\u001b[1Gpulling manifest ⠋ \u001b[K\u001b[?25h\u001b[?2026l\u001b[?2026h\u001b[?25l\u001b[1Gpulling manifest ⠙ \u001b[K\u001b[?25h\u001b[?2026l\u001b[?2026h\u001b[?25l\u001b[1Gpulling manifest ⠹ \u001b[K\u001b[?25h\u001b[?2026l\u001b[?2026h\u001b[?25l\u001b[1Gpulling manifest ⠸ \u001b[K\u001b[?25h\u001b[?2026l\u001b[?2026h\u001b[?25l\u001b[1Gpulling manifest ⠼ \u001b[K\u001b[?25h\u001b[?2026l\u001b[?2026h\u001b[?25l\u001b[1Gpulling manifest ⠴ \u001b[K\u001b[?25h\u001b[?2026l\u001b[?2026h\u001b[?25l\u001b[1Gpulling manifest ⠦ \u001b[K\u001b[?25h\u001b[?2026l\u001b[?2026h\u001b[?25l\u001b[1Gpulling manifest ⠧ \u001b[K\u001b[?25h\u001b[?2026l\u001b[?2026h\u001b[?25l\u001b[1Gpulling manifest ⠇ \u001b[K\u001b[?25h\u001b[?2026l\u001b[?2026h\u001b[?25l\u001b[1Gpulling manifest ⠏ \u001b[K\u001b[?25h\u001b[?2026l\u001b[?2026h\u001b[?25l\u001b[1Gpulling manifest ⠋ \u001b[K\u001b[?25h\u001b[?2026l\u001b[?2026h\u001b[?25l\u001b[1Gpulling manifest ⠙ \u001b[K\u001b[?25h\u001b[?2026l\u001b[?2026h\u001b[?25l\u001b[1Gpulling manifest ⠹ \u001b[K\u001b[?25h\u001b[?2026l\u001b[?2026h\u001b[?25l\u001b[1Gpulling manifest ⠸ \u001b[K\u001b[?25h\u001b[?2026l\u001b[?2026h\u001b[?25l\u001b[1Gpulling manifest ⠼ \u001b[K\u001b[?25h\u001b[?2026l\u001b[?2026h\u001b[?25l\u001b[1Gpulling manifest \u001b[K\n",
      "pulling dde5aa3fc5ff: 100% ▕██████████████████▏ 2.0 GB                         \u001b[K\n",
      "pulling 966de95ca8a6: 100% ▕██████████████████▏ 1.4 KB                         \u001b[K\n",
      "pulling fcc5a6bec9da: 100% ▕██████████████████▏ 7.7 KB                         \u001b[K\n",
      "pulling a70ff7e570d9: 100% ▕██████████████████▏ 6.0 KB                         \u001b[K\n",
      "pulling 56bb8bd477a5: 100% ▕██████████████████▏   96 B                         \u001b[K\n",
      "pulling 34bb5ab01051: 100% ▕██████████████████▏  561 B                         \u001b[K\n",
      "verifying sha256 digest \u001b[K\n",
      "writing manifest \u001b[K\n",
      "success \u001b[K\u001b[?25h\u001b[?2026l\n"
     ]
    }
   ],
   "source": [
    "!ollama pull llama3.2"
   ]
  },
  {
   "cell_type": "code",
   "execution_count": 25,
   "id": "3d9ca667",
   "metadata": {},
   "outputs": [],
   "source": [
    "from langchain_ollama import OllamaEmbeddings\n",
    "\n",
    "embeddings_model = OllamaEmbeddings(model=\"llama3.2\")"
   ]
  },
  {
   "cell_type": "markdown",
   "id": "bc855924",
   "metadata": {},
   "source": [
    "**Benefit of LangChain**: It provides a universal interface for working with embedding models. The two central methods are:\n",
    "\n",
    "- `embed_documents`: for embedding multiple texts (documents)\n",
    "- `embed_query`: for embedding a single text (query)"
   ]
  },
  {
   "cell_type": "code",
   "execution_count": 26,
   "id": "313b6d02",
   "metadata": {},
   "outputs": [],
   "source": [
    "embeddings = embeddings_model.embed_documents(\n",
    "    [\n",
    "        \"Hi there!\",\n",
    "        \"We are studying Agentic AI today.\",\n",
    "        \"How's the weather?\",\n",
    "        \"TrueFoundry's GHQ is situated in San Francisco.\",\n",
    "        \"Hello there!\"\n",
    "    ]\n",
    ")"
   ]
  },
  {
   "cell_type": "code",
   "execution_count": 27,
   "id": "9db0b2f6",
   "metadata": {},
   "outputs": [
    {
     "data": {
      "text/plain": [
       "(5, 3072)"
      ]
     },
     "execution_count": 27,
     "metadata": {},
     "output_type": "execute_result"
    }
   ],
   "source": [
    "#Embedding is a list of lists - so we convert to a NumPy array to see shape\n",
    "np.array(embeddings).shape"
   ]
  },
  {
   "cell_type": "code",
   "execution_count": 28,
   "id": "6eb10f68",
   "metadata": {},
   "outputs": [],
   "source": [
    "query_embedding = embeddings_model.embed_query(question)"
   ]
  },
  {
   "cell_type": "code",
   "execution_count": 29,
   "id": "a3486fff",
   "metadata": {},
   "outputs": [
    {
     "data": {
      "text/plain": [
       "(3072,)"
      ]
     },
     "execution_count": 29,
     "metadata": {},
     "output_type": "execute_result"
    }
   ],
   "source": [
    "#Embedding is now a list - still we convert to a NumPy array to see shape\n",
    "np.array(query_embedding).shape"
   ]
  },
  {
   "cell_type": "markdown",
   "id": "3fb0acd2",
   "metadata": {},
   "source": [
    "#### Calculating Similarity"
   ]
  },
  {
   "cell_type": "markdown",
   "id": "fcc01df7",
   "metadata": {},
   "source": [
    "There are 3 common metrics used to measure similarity:\n",
    "\n",
    "- Cosine similarity (opposite of cosine distance)\n",
    "- Euclidean distance\n",
    "- Dot product\n",
    "\n",
    "Choice of similarity metric depends on the model, for example, [OpenAI suggests to use cosine similarity](https://platform.openai.com/docs/guides/embeddings/which-distance-function-should-i-use) as the primary metric. However, all the 3 metrics are similar in some aspects, so choice of metric is not a major consideration in general (see article from Google [here](https://developers.google.com/machine-learning/clustering/dnn-clustering/supervised-similarity) that demonstrates proportionality of similarity measures)."
   ]
  },
  {
   "cell_type": "code",
   "execution_count": 30,
   "id": "df12e732",
   "metadata": {},
   "outputs": [],
   "source": [
    "#Sample code for cosine similarity\n",
    "def cosine_similarity(vec1, vec2):\n",
    "    dot_product = np.dot(vec1, vec2)\n",
    "    norm_vec1 = np.linalg.norm(vec1)\n",
    "    norm_vec2 = np.linalg.norm(vec2)\n",
    "    return dot_product / (norm_vec1 * norm_vec2)"
   ]
  },
  {
   "cell_type": "code",
   "execution_count": 31,
   "id": "062c79d5",
   "metadata": {},
   "outputs": [
    {
     "data": {
      "text/plain": [
       "'What is TrueFoundry all about?'"
      ]
     },
     "execution_count": 31,
     "metadata": {},
     "output_type": "execute_result"
    }
   ],
   "source": [
    "question"
   ]
  },
  {
   "cell_type": "code",
   "execution_count": 32,
   "id": "8a9a8790",
   "metadata": {},
   "outputs": [],
   "source": [
    "query_1_embedding = embeddings_model.embed_query(\"TrueFoundry provides a low latency enterprise AI Gateway with MCP server integrations, guardrails, observability, latency based routing, model fallback, caching, quota and access control (on-premise, VPC or cloud).The company also provides a robust enterprise LLMOPs Platform for model serving, inference and efficient finetuning.\")\n",
    "query_2_embedding = embeddings_model.embed_query(\"What is TrueFoundry all about?\")"
   ]
  },
  {
   "cell_type": "code",
   "execution_count": 33,
   "id": "926dd432",
   "metadata": {},
   "outputs": [
    {
     "name": "stdout",
     "output_type": "stream",
     "text": [
      "Cosine Similarity: 0.5825017301886483\n"
     ]
    }
   ],
   "source": [
    "similarity = cosine_similarity(query_1_embedding, query_2_embedding)\n",
    "print(\"Cosine Similarity:\", similarity)"
   ]
  },
  {
   "cell_type": "markdown",
   "id": "dbe23680",
   "metadata": {},
   "source": [
    "It has a high cosine similarity, as expected.\n",
    "\n",
    "**Question**: \n",
    "- What is the min and max of cosine similarity metric?\n",
    "- What about dot product (inner product)?\n",
    "- What about euclidean distance?"
   ]
  },
  {
   "cell_type": "markdown",
   "id": "8d5820a1",
   "metadata": {},
   "source": [
    "### Loading Documents"
   ]
  },
  {
   "cell_type": "markdown",
   "id": "263f2d00",
   "metadata": {},
   "source": [
    "Reference - [Document Loaders](https://python.langchain.com/docs/integrations/document_loaders/)"
   ]
  },
  {
   "cell_type": "markdown",
   "id": "c9913951",
   "metadata": {},
   "source": [
    "**What is Beautiful Soup?** It is a library used to scrape information from web pages. It uses an HTML or XML parser under the hood!"
   ]
  },
  {
   "cell_type": "code",
   "execution_count": 34,
   "id": "41834ac0",
   "metadata": {},
   "outputs": [
    {
     "name": "stderr",
     "output_type": "stream",
     "text": [
      "USER_AGENT environment variable not set, consider setting it to identify your requests.\n"
     ]
    }
   ],
   "source": [
    "import bs4 #import Beautiful Soup\n",
    "from langchain_community.document_loaders import WebBaseLoader"
   ]
  },
  {
   "cell_type": "code",
   "execution_count": 35,
   "id": "b49595a0",
   "metadata": {},
   "outputs": [
    {
     "name": "stdout",
     "output_type": "stream",
     "text": [
      "Total characters: 3583\n",
      "\n",
      "\n",
      "Secure Deployment : VPC | On-Prem | Air-GappedAI Gateway: Fast, Scalable, Enterprise-ReadyEnterprise-Ready AI Gateway for secure, high-performance LLM access, observability, and orchestration.See detailed pricingGet Started for FreeAI Gateway: Unified LLM API AccessSimplify your GenAI stack with a single AI Gateway that integrates all major models.\n",
      "\n",
      "Connect to OpenAI, Claude, Gemini, Groq, Mistral, and 250+ LLMs through one AI Gateway API\n",
      "\n",
      "Use the platform to support chat, completion, embedding, and reranking model types.\n",
      "\n",
      "Centralize API key management and team authentication in one place.\n",
      "\n",
      "Orchestrate multi-model workloads seamlessly through your infrastructure.Read MoreAI Gateway Observability\n",
      "\n",
      "Monitor token usage, latency, error rates, and request volumes across your system.\n",
      "\n",
      "Store and inspect full request/response logs centrally to ensure compliance and simplify debugging.\n",
      "\n",
      "Tag traffic with metadata like user ID, team, or environment to gain granular insights.\n",
      "\n",
      "Filter logs and metrics by model, team, or geography to quickly pinpoint root causes and accelerate resolution.Read MoreQuota & Access Control via AI GatewayEnforce governance, control costs, and reduce risk with consistent policy management.\n",
      "\n",
      "Apply rate limits per user, service, or endpoint.\n",
      "\n",
      "Set cost-based or token-based quotas using metadata filters.\n",
      "\n",
      "Use role-based access control (RBAC) to isolate and manage usage.\n",
      "\n",
      "Govern service accounts and agent workloads at scale through centralized rules.Read MoreEnsuring predictable usage, strong access boundaries, and scalable team-level governance for your GenAI infrastructure.Low-Latency Inference Run your most performance-sensitive workloads through a high-speed infrastructure.\n",
      "\n",
      "Achieve sub-3ms internal latency even under enterprise-scale workloads.\n",
      "\n",
      "Scale seamlessly to manage burst traffic and high-throughput workloads.\n",
      "\n",
      "Deliver predictable response times for real-time chat, RAG, and AI assistants.\n",
      "\n",
      "Place deployments close to inference layers to minimize latency and eliminate network lag.Read MorePlace the AI Gateway directly in your production inference path — its low-latency architecture ensures no performance tradeoffs.AI Gateway Routing & FallbacksEnsure reliability, even during model failures, with smart AI Gateway traffic controls.\n",
      "\n",
      "Supports latency-based routing to the fastest available LLM.\n",
      "\n",
      "Distribute traffic intelligently using weighted load balancing for reliability and scale.\n",
      "\n",
      "Automatically fallback to secondary models when a request fails.\n",
      "\n",
      "Use geo-aware routing to meet regional compliance and availability needs.Read MoreThis system ensures you never go offline, even when individual models face downtime or spike in latency.Serve Self-Hosted Models Expose open-source models with full control.\n",
      "\n",
      "Deploy LLaMA, Mistral, Falcon, and more with zero SDK changes.\n",
      "\n",
      "Full compatibility with vLLM, SGLang, KServe, and Triton.\n",
      "\n",
      "Streamline operations with Helm-based management of autoscaling, GPU scheduling, and deployments\n",
      "\n",
      "Run your own models in VPC, hybrid, or air-gapped environments.Read MoreAI Gateway + MCP IntegrationPower secure agent workflows through the AI Gateway’s native MCP support.\n",
      "\n",
      "Connect enterprise tools like Slack, GitHub, Confluence, and Datadog.\n",
      "\n",
      "Easily register internal MCP Servers with minimal setup required.\n",
      "\n",
      "Apply OAuth2, RBAC, and metadata policies to every tool call.Read MoreAI Gateway Guardrails\n",
      "\n",
      "Seamlessly enforce your own safety guardrails, including PII filtering and toxicity detection\n",
      "\n",
      "Customize the AI Gateway with guardrails tailored to your compliance and safety needsRead More\n"
     ]
    }
   ],
   "source": [
    "# Only keep the main content from the full HTML\n",
    "bs4_strainer = bs4.SoupStrainer(class_=(\"section_gateway-banner ai\", \n",
    "                                        \"section_traces-features ai_gateway\",\n",
    "                                       \"section_home-ai\"))\n",
    "loader = WebBaseLoader(\n",
    "    web_paths=(\"https://www.truefoundry.com/ai-gateway\", \n",
    "               \"https://www.truefoundry.com\"),\n",
    "    bs_kwargs={\"parse_only\": bs4_strainer},\n",
    ")\n",
    "docs = loader.load()\n",
    "\n",
    "assert len(docs) == 2\n",
    "\n",
    "print(f\"Total characters: {len(docs[0].page_content)}\")\n",
    "print(docs[0].page_content) # Print a snippet to verify"
   ]
  },
  {
   "cell_type": "code",
   "execution_count": 36,
   "id": "48b71a92-296f-4750-8da9-12ba747be6e2",
   "metadata": {},
   "outputs": [
    {
     "name": "stdout",
     "output_type": "stream",
     "text": [
      "Total characters: 649\n",
      "Orchestrate Agentic AI with AI GatewayEnable intelligent multi-step reasoning, tool usage, and memory with full control and visibility across your AI agents and workflows.AI GatewayManage agent memory, tool orchestration, and action planning through a centralized protocol that supports complex, context-aware workflows.Learn More\n",
      "\n",
      "MCP & Agents RegistryMaintain a structured, discoverable registry of tools and APIs accessible to agents, complete with schema validation and access control.Learn More\n",
      "\n",
      "Prompt Lifecycle ManagementVersion, manage, and monitor prompts to ensure high-quality, repeatable behavior across agents and use cases.Learn More\n",
      "\n",
      "\n"
     ]
    }
   ],
   "source": [
    "print(f\"Total characters: {len(docs[1].page_content)}\")\n",
    "print(docs[1].page_content) # Print a snippet to verify"
   ]
  },
  {
   "cell_type": "code",
   "execution_count": 37,
   "id": "17bef68c",
   "metadata": {},
   "outputs": [],
   "source": [
    "# --- Post-processing to clean up excessive newlines and whitespace ---\n",
    "for i, doc in enumerate(docs):\n",
    "    if doc.page_content:\n",
    "        # 1. Replace multiple newlines with a single newline\n",
    "        cleaned_content = re.sub(r'\\n\\s*\\n', '\\n\\n', doc.page_content)\n",
    "        # 2. Replace multiple spaces with a single space\n",
    "        cleaned_content = re.sub(r' {2,}', ' ', cleaned_content)\n",
    "        # 3. Strip leading/trailing whitespace from each line\n",
    "        cleaned_content = '\\n'.join([line.strip() for line in cleaned_content.split('\\n')])\n",
    "        # 4. Remove leading/trailing whitespace from the whole string\n",
    "        cleaned_content = cleaned_content.strip()\n",
    "    \n",
    "        docs[i].page_content = cleaned_content\n",
    "# --- End of post-processing ---"
   ]
  },
  {
   "cell_type": "code",
   "execution_count": 38,
   "id": "7e467d9d",
   "metadata": {},
   "outputs": [
    {
     "name": "stdout",
     "output_type": "stream",
     "text": [
      "Total characters: 3581\n",
      "\n",
      "--- Cleaned Content Snippet ---\n",
      "Secure Deployment : VPC | On-Prem | Air-GappedAI Gateway: Fast, Scalable, Enterprise-ReadyEnterprise-Ready AI Gateway for secure, high-performance LLM access, observability, and orchestration.See detailed pricingGet Started for FreeAI Gateway: Unified LLM API AccessSimplify your GenAI stack with a single AI Gateway that integrates all major models.\n",
      "\n",
      "Connect to OpenAI, Claude, Gemini, Groq, Mistral, and 250+ LLMs through one AI Gateway API\n",
      "\n",
      "Use the platform to support chat, completion, embedding, and reranking model types.\n",
      "\n",
      "Centralize API key management and team authentication in one place.\n",
      "\n",
      "Orchestrate multi-model workloads seamlessly through your infrastructure.Read MoreAI Gateway Observability\n",
      "\n",
      "Monitor token usage, latency, error rates, and request volumes across your system.\n",
      "\n",
      "Store and inspect full request/response logs centrally to ensure compliance and simplify debugging.\n",
      "\n",
      "Tag traffic with metadata like user ID, team, or environment to gain granular insights.\n",
      "\n",
      "Filter logs and metrics by model, team, or geography to quickly pinpoint root causes and accelerate resolution.Read MoreQuota & Access Control via AI GatewayEnforce governance, control costs, and reduce risk with consistent policy management.\n",
      "\n",
      "Apply rate limits per user, service, or endpoint.\n",
      "\n",
      "Set cost-based or token-based quotas using metadata filters.\n",
      "\n",
      "Use role-based access control (RBAC) to isolate and manage usage.\n",
      "\n",
      "Govern service accounts and agent workloads at scale through centralized rules.Read MoreEnsuring predictable usage, strong access boundaries, and scalable team-level governance for your GenAI infrastructure.Low-Latency Inference Run your most performance-sensitive workloads through a high-speed infrastructure.\n",
      "\n",
      "Achieve sub-3ms internal latency even under enterprise-scale workloads.\n",
      "\n",
      "Scale seamlessly to manage burst traffic and high-throughput workloads.\n",
      "\n",
      "Deliver predictable response times for real-time chat, RAG, and AI assistants.\n",
      "\n",
      "Place deployments close to inference layers to minimize latency and eliminate network lag.Read MorePlace the AI Gateway directly in your production inference path — its low-latency architecture ensures no performance tradeoffs.AI Gateway Routing & FallbacksEnsure reliability, even during model failures, with smart AI Gateway traffic controls.\n",
      "\n",
      "Supports latency-based routing to the fastest available LLM.\n",
      "\n",
      "Distribute traffic intelligently using weighted load balancing for reliability and scale.\n",
      "\n",
      "Automatically fallback to secondary models when a request fails.\n",
      "\n",
      "Use geo-aware routing to meet regional compliance and availability needs.Read MoreThis system ensures you never go offline, even when individual models face downtime or spike in latency.Serve Self-Hosted Models Expose open-source models with full control.\n",
      "\n",
      "Deploy LLaMA, Mistral, Falcon, and more with zero SDK changes.\n",
      "\n",
      "Full compatibility with vLLM, SGLang, KServe, and Triton.\n",
      "\n",
      "Streamline operations with Helm-based management of autoscaling, GPU scheduling, and deployments\n",
      "\n",
      "Run your own models in VPC, hybrid, or air-gapped environments.Read MoreAI Gateway + MCP IntegrationPower secure agent workflows through the AI Gateway’s native MCP support.\n",
      "\n",
      "Connect enterprise tools like Slack, GitHub, Confluence, and Datadog.\n",
      "\n",
      "Easily register internal MCP Servers with minimal setup required.\n",
      "\n",
      "Apply OAuth2, RBAC, and metadata policies to every tool call.Read MoreAI Gateway Guardrails\n",
      "\n",
      "Seamlessly enforce your own safety guardrails, including PII filtering and toxicity detection\n",
      "\n",
      "Customize the AI Gateway with guardrails tailored to your compliance and safety needsRead More\n"
     ]
    }
   ],
   "source": [
    "print(f\"Total characters: {len(docs[0].page_content)}\")\n",
    "print(\"\\n--- Cleaned Content Snippet ---\")\n",
    "print(docs[0].page_content) # Print a snippet to verify"
   ]
  },
  {
   "cell_type": "code",
   "execution_count": 39,
   "id": "3b5f9d72",
   "metadata": {},
   "outputs": [
    {
     "name": "stdout",
     "output_type": "stream",
     "text": [
      "Total characters: 3581\n",
      "\n",
      "--- Cleaned Content Snippet ---\n",
      "Secure Deployment : VPC | On-Prem | Air-GappedAI Gateway: Fast, Scalable, Enterprise-ReadyEnterprise-Ready AI Gateway for secure, high-performance LLM access, observability, and orchestration.See detailed pricingGet Started for FreeAI Gateway: Unified LLM API AccessSimplify your GenAI stack with a single AI Gateway that integrates all major models.\n",
      "\n",
      "Connect to OpenAI, Claude, Gemini, Groq, Mistral, and 250+ LLMs through one AI Gateway API\n",
      "\n",
      "Use the platform to support chat, completion, embedding, and reranking model types.\n",
      "\n",
      "Centralize API key management and team authentication in one place.\n",
      "\n",
      "Orchestrate multi-model workloads seamlessly through your infrastructure.Read MoreAI Gateway Observability\n",
      "\n",
      "Monitor token usage, latency, error rates, and request volumes across your system.\n",
      "\n",
      "Store and inspect full request/response logs centrally to ensure compliance and simplify debugging.\n",
      "\n",
      "Tag traffic with metadata like user ID, team, or environment to gain granular insights.\n",
      "\n",
      "Filter logs and metr\n"
     ]
    }
   ],
   "source": [
    "print(f\"Total characters: {len(docs[0].page_content)}\")\n",
    "print(\"\\n--- Cleaned Content Snippet ---\")\n",
    "print(docs[0].page_content[:1000]) # Print a snippet to verify"
   ]
  },
  {
   "cell_type": "markdown",
   "id": "e3158de3",
   "metadata": {},
   "source": [
    "#### Other Useful Loaders - UnstructuredPDFLoader (Example Implementation)"
   ]
  },
  {
   "cell_type": "markdown",
   "id": "2aac4395",
   "metadata": {},
   "source": [
    "[Portable Document Format (PDF)](https://en.wikipedia.org/wiki/PDF), standardized as ISO 32000, is a file format developed by Adobe in 1992 to present documents, including text formatting and images, in a manner independent of application software, hardware, and operating systems.\n",
    "\n",
    "LangChain integrates with a host of PDF parsers. Some are simple and relatively low-level; others will support OCR and image-processing, or perform advanced document layout analysis. The right choice will depend on your use-case and through experimentation.\n",
    "\n",
    "Here we will see how to load PDF documents into the LangChain `Document` format\n",
    "\n",
    "We download a research paper to experiment with."
   ]
  },
  {
   "cell_type": "code",
   "execution_count": 12,
   "id": "65c4313e",
   "metadata": {},
   "outputs": [
    {
     "name": "stdout",
     "output_type": "stream",
     "text": [
      "--2025-09-13 13:58:24--  http://arxiv.org/pdf/2103.15348.pdf\n",
      "Resolving arxiv.org (arxiv.org)... 151.101.195.42, 151.101.67.42, 151.101.3.42, ...\n",
      "Connecting to arxiv.org (arxiv.org)|151.101.195.42|:80... connected.\n",
      "HTTP request sent, awaiting response... 301 Moved Permanently\n",
      "Location: https://arxiv.org/pdf/2103.15348.pdf [following]\n",
      "--2025-09-13 13:58:24--  https://arxiv.org/pdf/2103.15348.pdf\n",
      "Connecting to arxiv.org (arxiv.org)|151.101.195.42|:443... connected.\n",
      "HTTP request sent, awaiting response... 301 Moved Permanently\n",
      "Location: /pdf/2103.15348 [following]\n",
      "--2025-09-13 13:58:24--  https://arxiv.org/pdf/2103.15348\n",
      "Reusing existing connection to arxiv.org:443.\n",
      "HTTP request sent, awaiting response... 200 OK\n",
      "Length: 4686220 (4.5M) [application/pdf]\n",
      "Saving to: ‘layoutparser_paper.pdf’\n",
      "\n",
      "layoutparser_paper. 100%[===================>]   4.47M  20.9MB/s    in 0.2s    \n",
      "\n",
      "2025-09-13 13:58:25 (20.9 MB/s) - ‘layoutparser_paper.pdf’ saved [4686220/4686220]\n",
      "\n"
     ]
    }
   ],
   "source": [
    "!wget -O 'layoutparser_paper.pdf' 'http://arxiv.org/pdf/2103.15348.pdf'"
   ]
  },
  {
   "cell_type": "markdown",
   "id": "2c83fbc2",
   "metadata": {},
   "source": [
    "**UnstructuredPDFLoader**\n",
    "\n",
    "[Unstructured.io](https://unstructured-io.github.io/unstructured/) supports a common interface for working with unstructured or semi-structured file formats, such as Markdown or PDF. LangChain's [`UnstructuredPDFLoader`](https://api.python.langchain.com/en/latest/document_loaders/langchain_community.document_loaders.pdf.UnstructuredPDFLoader.html) integrates with Unstructured to parse PDF documents into LangChain [`Document`](https://api.python.langchain.com/en/latest/documents/langchain_core.documents.base.Document.html) objects."
   ]
  },
  {
   "cell_type": "code",
   "execution_count": 13,
   "id": "72c38057",
   "metadata": {},
   "outputs": [],
   "source": [
    "from langchain_community.document_loaders import UnstructuredPDFLoader"
   ]
  },
  {
   "cell_type": "code",
   "execution_count": 45,
   "id": "1aa9de96",
   "metadata": {},
   "outputs": [
    {
     "name": "stdout",
     "output_type": "stream",
     "text": [
      "Warning: No languages specified, defaulting to English.\n"
     ]
    },
    {
     "data": {
      "application/vnd.jupyter.widget-view+json": {
       "model_id": "f92ad34166c24c64bd9d936a0b440452",
       "version_major": 2,
       "version_minor": 0
      },
      "text/plain": [
       "Fetching 1 files:   0%|          | 0/1 [00:00<?, ?it/s]"
      ]
     },
     "metadata": {},
     "output_type": "display_data"
    },
    {
     "name": "stderr",
     "output_type": "stream",
     "text": [
      "The `max_size` parameter is deprecated and will be removed in v4.26. Please specify in `size['longest_edge'] instead`.\n"
     ]
    }
   ],
   "source": [
    "#This takes 3-4 minutes to run\n",
    "loader = UnstructuredPDFLoader('./layoutparser_paper.pdf',\n",
    "                               strategy='hi_res',\n",
    "                               extract_images_in_pdf=True,\n",
    "                               infer_table_structure=True,\n",
    "                               chunking_strategy=\"by_title\", # section-based chunking\n",
    "                               max_characters=4000, # max size of chunks\n",
    "                               new_after_n_chars=3800, # preferred size of chunks\n",
    "                               combine_text_under_n_chars=2000, # smaller chunks < 2000 chars will be combined into a larger chunk\n",
    "                               mode='elements')\n",
    "data = loader.load()"
   ]
  },
  {
   "cell_type": "code",
   "execution_count": 46,
   "id": "f76d1d64",
   "metadata": {},
   "outputs": [
    {
     "data": {
      "text/plain": [
       "16"
      ]
     },
     "execution_count": 46,
     "metadata": {},
     "output_type": "execute_result"
    }
   ],
   "source": [
    "len(data)"
   ]
  },
  {
   "cell_type": "code",
   "execution_count": 47,
   "id": "61dcfaf6",
   "metadata": {
    "scrolled": true
   },
   "outputs": [
    {
     "data": {
      "text/plain": [
       "['CompositeElement',\n",
       " 'CompositeElement',\n",
       " 'CompositeElement',\n",
       " 'CompositeElement',\n",
       " 'CompositeElement',\n",
       " 'CompositeElement',\n",
       " 'CompositeElement',\n",
       " 'CompositeElement',\n",
       " 'CompositeElement',\n",
       " 'CompositeElement',\n",
       " 'CompositeElement',\n",
       " 'CompositeElement',\n",
       " 'CompositeElement',\n",
       " 'CompositeElement',\n",
       " 'CompositeElement',\n",
       " 'CompositeElement']"
      ]
     },
     "execution_count": 47,
     "metadata": {},
     "output_type": "execute_result"
    }
   ],
   "source": [
    "[doc.metadata['category'] for doc in data]"
   ]
  },
  {
   "cell_type": "code",
   "execution_count": 48,
   "id": "b2b1d889",
   "metadata": {},
   "outputs": [
    {
     "data": {
      "text/plain": [
       "Document(metadata={'source': './layoutparser_paper.pdf', 'filetype': 'application/pdf', 'languages': ['eng'], 'last_modified': '2023-01-23T14:45:33', 'page_number': 1, 'orig_elements': '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', 'file_directory': '.', 'filename': 'layoutparser_paper.pdf', 'category': 'CompositeElement', 'element_id': 'ffbacca64b9412bdb8089f4f0e6506b9'}, page_content='[cs.CV] 21 Jun 2021\\n\\n2103.15348v2 arXiv\\n\\nLayoutParser: A Unified Toolkit for Deep Learning Based Document Image Analysis\\n\\nZejiang Shen! (4), Ruochen Zhang”, Melissa Dell?, Benjamin Charles Germain Lee*, Jacob Carlson’, and Weining Li®\\n\\n1 Allen Institute for AI shannons@allenai.org ? Brown University ruochen_zhang@brown.edu 3 Harvard University {melissadell, jacob_carlson}@fas.harvard.edu * University of Washington begl@cs.washington. edu © University of Waterloo w4221i@uwaterloo.ca\\n\\nAbstract. Recent advances in document image analysis (DIA) have been primarily driven by the application of neural networks. Ideally, research outcomes could be easily deployed in production and extended for further investigation. However, various factors like loosely organized codebases and sophisticated model configurations complicate the easy reuse of im- portant innovations by a wide audience. Though there have been on-going efforts to improve reusability and simplify deep learning (DL) model development in disciplines like natural language processing and computer vision, none of them are optimized for challenges in the domain of DIA. This represents a major gap in the existing toolkit, as DIA is central to academic research across a wide range of disciplines in the social sciences and humanities. This paper introduces LayoutParser, an open-source library for streamlining the usage of DL in DIA research and applica- tions. The core LayoutParser library comes with a set of simple and intuitive interfaces for applying and customizing DL models for layout de- tection, character recognition, and many other document processing tasks. To promote extensibility, LayoutParser also incorporates a community platform for sharing both pre-trained models and full document digiti- zation pipelines. We demonstrate that LayoutParser is helpful for both lightweight and large-scale digitization pipelines in real-word use cases. The library is publicly available at https: //layout-parser . github. io|\\n\\nKeywords: Document Image Analysis - Deep Learning - Layout Analysis - Character Recognition - Open Source library - Toolkit.')"
      ]
     },
     "execution_count": 48,
     "metadata": {},
     "output_type": "execute_result"
    }
   ],
   "source": [
    "data[0]"
   ]
  },
  {
   "cell_type": "code",
   "execution_count": 49,
   "id": "d0791206",
   "metadata": {},
   "outputs": [
    {
     "name": "stdout",
     "output_type": "stream",
     "text": [
      "1 Introduction\n",
      "\n",
      "Deep Learning(DL)-based approaches are the state-of-the-art for a wide range of document image analysis (DIA) tasks including document image classification\n",
      "\n",
      "2 Z. Shen et al.\n",
      "\n",
      "table detection [37], layout de and scene text detection [4]. A generalized learning-based framework dramatically reduces the need for the manual specification of complicated rules, which is the status quo with traditional methods. DL has the potential to transform DIA pipelines and benefit a broad spectrum of large-scale document digitization projects.\n",
      "\n",
      "However, there are several practical difficulties for taking advantages of re- cent advances in DL-based methods: 1) DL models are notoriously convoluted for reuse and extension. Existing models are developed using distinct frame- works like TensorFlow [I] or PyTorch be obfuscated by implementation details and the high-level parameters can . It can be a time-consuming and frustrating experience to debug, reproduce, and adapt existing models for DIA, and many researchers who would benefit the most from using these methods lack the technical background to implement them from scratch. 2) Document images contain diverse and disparate patterns across domains, and customized training is often required to achieve a desirable detection accuracy. Currently there is no full-fledged infrastructure for easily curating the target document image datasets and fine-tuning or re-training the models. 3) DIA usually requires a sequence of models and other processing to obtain the final outputs. Often research teams use DL models and then perform further document analyses in separate processes, and these pipelines are not documented in any central location (and often not documented at all). This makes it difficult for research teams to learn about how full pipelines are implemented and leads them to invest significant resources in reinventing the DIA wheel.\n",
      "\n",
      "LayoutParser provides a unified toolkit to support DL-based document image analysis and processing. To address the aforementioned challenges, LayoutParser is built with the following components:\n",
      "\n",
      "1. An off-the-shelf toolkit for applying DL models for recognition, and other DIA tasks (Section B) ayout det ection, character\n",
      "\n",
      "2. A rich repository of pre-trained neural network models (Model Zoo) that underlies the off-the-shelf usage\n",
      "\n",
      "3. Comprehensive tools for efficient document image tuning to support different levels of customization ata annotation and model\n",
      "\n",
      "4. A DL model hub and community platform for t tion, and discussion of DIA models and pipeline: reproducibility, and extensibility (Section [4) ne easy S. haring, distribu- s, to promote reusability,\n",
      "\n",
      "The library implements simple and intuitive Python generalizability and versatility, and can be easily instal led via pi functions for handling document image data can be seamlessly existing DIA pipelines. With detailed documentations and carefully curated tutorials, we hope this tool will benefit a variety of end-users, and will lead to advances in applications in both industry and academic research. APIs without sacrificing p. Its convenient integrated with\n",
      "\n",
      "LayoutParser is well aligned with recent efforts for improving DL model reusability in other disciplines like natural language p: rocessing puter vision [35], but with a focus on unique challenges in LayoutParser can be applied in sophisticated and large-scale digitization projects fl and com- DIA. We show\n",
      "\n",
      "LayoutParser: A Unified Toolkit for DL-Based DIA 3\n",
      "\n",
      "that require precision, efficiency, and robustness, as well as simple and light- weight document processing tasks focusing on efficacy and flexibility (Section 5). LayoutParser is being actively maintained, and support for more deep learning models and novel methods in text-based layout analysis methods [37| is planned.\n"
     ]
    }
   ],
   "source": [
    "print(data[1].page_content)"
   ]
  },
  {
   "cell_type": "code",
   "execution_count": 50,
   "id": "6d82efdd",
   "metadata": {},
   "outputs": [
    {
     "name": "stdout",
     "output_type": "stream",
     "text": [
      "total 648\n",
      "-rw-r--r--@ 1 anantagarwal  staff  84771 10 Sep 14:04 figure-10-4.jpg\n",
      "-rw-r--r--@ 1 anantagarwal  staff  41639 10 Sep 14:04 figure-11-5.jpg\n",
      "-rw-r--r--@ 1 anantagarwal  staff  62560 10 Sep 14:04 figure-13-6.jpg\n",
      "-rw-r--r--@ 1 anantagarwal  staff  36497 10 Sep 14:04 figure-4-1.jpg\n",
      "-rw-r--r--@ 1 anantagarwal  staff  29862 10 Sep 14:04 figure-6-2.jpg\n",
      "-rw-r--r--@ 1 anantagarwal  staff  64442 10 Sep 14:04 figure-9-3.jpg\n"
     ]
    }
   ],
   "source": [
    "! ls -l ./figures"
   ]
  },
  {
   "cell_type": "code",
   "execution_count": 51,
   "id": "7c2b681f",
   "metadata": {},
   "outputs": [
    {
     "data": {
      "image/jpeg": "[encoded data removed]",
      "text/plain": [
       "<IPython.core.display.Image object>"
      ]
     },
     "execution_count": 51,
     "metadata": {},
     "output_type": "execute_result"
    }
   ],
   "source": [
    "from IPython.display import Image\n",
    "\n",
    "Image('./figures/figure-9-3.jpg')"
   ]
  },
  {
   "cell_type": "markdown",
   "id": "53a3d224",
   "metadata": {},
   "source": [
    "### Splitting Documents"
   ]
  },
  {
   "cell_type": "markdown",
   "id": "b98369ad",
   "metadata": {},
   "source": [
    "**Overview**\n",
    "\n",
    "* **Goal of Chunking:** Optimize data for effective future retrieval\n",
    "\n",
    "* **Character Splitting**: Divides text into fixed N-character chunks, ignoring content or structure. However, it's very rigid; disregards text structure, making it generally not recommended.\n",
    "\n",
    "* **Recursive Character Text Splitting**: Addresses character splitting's rigidity by using a series of specified separators to split documents, considering their structure. This is a versatile \"swiss army knife\" approach, often the first choice for quick applications. Some default Separators (e.g., in LangChain):\n",
    "\n",
    "    * `\"\\n\\n\"`: Double newlines (paragraph breaks).\n",
    "    * `\"\\n\"`: Single newlines.\n",
    "    * `\" \"` : Spaces.\n",
    "    * `\"\"` : Individual characters.\n",
    "\n",
    "* **Hyperparameters (should be tuned!):**\n",
    "  * **Chunk Size:** The desired number of characters per chunk (e.g., 50, 100). (**not tokens!**)\n",
    "  * **Chunk Overlap:** The amount sequential chunks overlap to avoid context breaks, creating duplicate data (e.g., if chunk 1 is chars 1-100, chunk 2 might be 81-180 with 20 overlap).\n"
   ]
  },
  {
   "cell_type": "markdown",
   "id": "87dcb70c",
   "metadata": {},
   "source": [
    "**More References**\n",
    "\n",
    "Check out this nice visualization to understand Character Splitting and Recursive Character Text Splitting - https://chunkviz.up.railway.app/\n",
    "\n",
    "Reference (LangChain) - [Text Splitters](https://python.langchain.com/docs/concepts/text_splitters/)\n",
    "\n",
    "Overview of popular methods: \n",
    "\n",
    "| Splitter Type              | Description                                                                                                                              |\n",
    "| :------------------------- | :--------------------------------------------------------------------------------------------------------------------------------------- |\n",
    "| `RecursiveCharacterTextSplitter` | Recursively splits text into larger chunks based on several defined characters. Tries to keep related pieces of text next to each other. LangChain's recommended way to start splitting text |\n",
    "| `CharacterTextSplitter`    | Splits text based on a user defined character. One of the simpler text splitters                                                         |\n",
    "| `tiktoken`                 | Splits text based on tokens using trained LLM tokenizers like GPT-4                                                                      |\n",
    "| `spaCy`                    | Splits text using the tokenizer from the popular NLP library - `spaCy`                                                                   |\n",
    "| `SentenceTransformers`     | Splits text based on tokens using trained open LLM tokenizers available from the popular `sentence-transformers` library                 |\n",
    "| `unstructured.io`          | The unstructured library allows various splitting and chunking strategies including splitting text based on key sections and titles      |"
   ]
  },
  {
   "cell_type": "markdown",
   "id": "1479a13b",
   "metadata": {},
   "source": [
    "#### Recursive Character Text Splitter"
   ]
  },
  {
   "cell_type": "code",
   "execution_count": 52,
   "id": "fda795c4",
   "metadata": {},
   "outputs": [
    {
     "name": "stdout",
     "output_type": "stream",
     "text": [
      "Split blog post into 6 sub-documents.\n"
     ]
    }
   ],
   "source": [
    "from langchain_text_splitters import RecursiveCharacterTextSplitter\n",
    "\n",
    "text_splitter = RecursiveCharacterTextSplitter(\n",
    "    chunk_size=1000,  # chunk size (characters) - hyperparameter that can be tuned\n",
    "    chunk_overlap=200,  # chunk overlap (characters) - hyperparameter that can be tuned\n",
    "    add_start_index=True,  # track index in original document\n",
    ")\n",
    "all_splits = text_splitter.split_documents(docs)\n",
    "\n",
    "print(f\"Split blog post into {len(all_splits)} sub-documents.\")"
   ]
  },
  {
   "cell_type": "code",
   "execution_count": 53,
   "id": "e6505f09",
   "metadata": {
    "scrolled": true
   },
   "outputs": [
    {
     "name": "stdout",
     "output_type": "stream",
     "text": [
      "\n",
      "--- Split0 ---\n",
      "\n",
      "Secure Deployment : VPC | On-Prem | Air-GappedAI Gateway: Fast, Scalable, Enterprise-ReadyEnterprise-Ready AI Gateway for secure, high-performance LLM access, observability, and orchestration.See detailed pricingGet Started for FreeAI Gateway: Unified LLM API AccessSimplify your GenAI stack with a single AI Gateway that integrates all major models.\n",
      "\n",
      "Connect to OpenAI, Claude, Gemini, Groq, Mistral, and 250+ LLMs through one AI Gateway API\n",
      "\n",
      "Use the platform to support chat, completion, embedding, and reranking model types.\n",
      "\n",
      "Centralize API key management and team authentication in one place.\n",
      "\n",
      "Orchestrate multi-model workloads seamlessly through your infrastructure.Read MoreAI Gateway Observability\n",
      "\n",
      "Monitor token usage, latency, error rates, and request volumes across your system.\n",
      "\n",
      "Store and inspect full request/response logs centrally to ensure compliance and simplify debugging.\n",
      "\n",
      "Tag traffic with metadata like user ID, team, or environment to gain granular insights.\n",
      "\n",
      "--- Split1 ---\n",
      "\n",
      "Store and inspect full request/response logs centrally to ensure compliance and simplify debugging.\n",
      "\n",
      "Tag traffic with metadata like user ID, team, or environment to gain granular insights.\n",
      "\n",
      "Filter logs and metrics by model, team, or geography to quickly pinpoint root causes and accelerate resolution.Read MoreQuota & Access Control via AI GatewayEnforce governance, control costs, and reduce risk with consistent policy management.\n",
      "\n",
      "Apply rate limits per user, service, or endpoint.\n",
      "\n",
      "Set cost-based or token-based quotas using metadata filters.\n",
      "\n",
      "Use role-based access control (RBAC) to isolate and manage usage.\n",
      "\n",
      "Govern service accounts and agent workloads at scale through centralized rules.Read MoreEnsuring predictable usage, strong access boundaries, and scalable team-level governance for your GenAI infrastructure.Low-Latency Inference Run your most performance-sensitive workloads through a high-speed infrastructure.\n",
      "\n",
      "Achieve sub-3ms internal latency even under enterprise-scale workloads.\n",
      "\n",
      "--- Split2 ---\n",
      "\n",
      "Achieve sub-3ms internal latency even under enterprise-scale workloads.\n",
      "\n",
      "Scale seamlessly to manage burst traffic and high-throughput workloads.\n",
      "\n",
      "Deliver predictable response times for real-time chat, RAG, and AI assistants.\n",
      "\n",
      "Place deployments close to inference layers to minimize latency and eliminate network lag.Read MorePlace the AI Gateway directly in your production inference path — its low-latency architecture ensures no performance tradeoffs.AI Gateway Routing & FallbacksEnsure reliability, even during model failures, with smart AI Gateway traffic controls.\n",
      "\n",
      "Supports latency-based routing to the fastest available LLM.\n",
      "\n",
      "Distribute traffic intelligently using weighted load balancing for reliability and scale.\n",
      "\n",
      "Automatically fallback to secondary models when a request fails.\n",
      "\n",
      "--- Split3 ---\n",
      "\n",
      "Distribute traffic intelligently using weighted load balancing for reliability and scale.\n",
      "\n",
      "Automatically fallback to secondary models when a request fails.\n",
      "\n",
      "Use geo-aware routing to meet regional compliance and availability needs.Read MoreThis system ensures you never go offline, even when individual models face downtime or spike in latency.Serve Self-Hosted Models Expose open-source models with full control.\n",
      "\n",
      "Deploy LLaMA, Mistral, Falcon, and more with zero SDK changes.\n",
      "\n",
      "Full compatibility with vLLM, SGLang, KServe, and Triton.\n",
      "\n",
      "Streamline operations with Helm-based management of autoscaling, GPU scheduling, and deployments\n",
      "\n",
      "Run your own models in VPC, hybrid, or air-gapped environments.Read MoreAI Gateway + MCP IntegrationPower secure agent workflows through the AI Gateway’s native MCP support.\n",
      "\n",
      "Connect enterprise tools like Slack, GitHub, Confluence, and Datadog.\n",
      "\n",
      "Easily register internal MCP Servers with minimal setup required.\n",
      "\n",
      "--- Split4 ---\n",
      "\n",
      "Connect enterprise tools like Slack, GitHub, Confluence, and Datadog.\n",
      "\n",
      "Easily register internal MCP Servers with minimal setup required.\n",
      "\n",
      "Apply OAuth2, RBAC, and metadata policies to every tool call.Read MoreAI Gateway Guardrails\n",
      "\n",
      "Seamlessly enforce your own safety guardrails, including PII filtering and toxicity detection\n",
      "\n",
      "Customize the AI Gateway with guardrails tailored to your compliance and safety needsRead More\n",
      "\n",
      "--- Split5 ---\n",
      "\n",
      "Orchestrate Agentic AI with AI GatewayEnable intelligent multi-step reasoning, tool usage, and memory with full control and visibility across your AI agents and workflows.AI GatewayManage agent memory, tool orchestration, and action planning through a centralized protocol that supports complex, context-aware workflows.Learn More\n",
      "\n",
      "MCP & Agents RegistryMaintain a structured, discoverable registry of tools and APIs accessible to agents, complete with schema validation and access control.Learn More\n",
      "\n",
      "Prompt Lifecycle ManagementVersion, manage, and monitor prompts to ensure high-quality, repeatable behavior across agents and use cases.Learn More\n"
     ]
    }
   ],
   "source": [
    "for i in range(len(all_splits)):\n",
    "    print(f\"\\n--- Split{i} ---\\n\")\n",
    "    print(all_splits[i].page_content)"
   ]
  },
  {
   "cell_type": "markdown",
   "id": "441da498",
   "metadata": {},
   "source": [
    "#### Semantic Text Splitter (custom innovation)"
   ]
  },
  {
   "cell_type": "markdown",
   "id": "153a49e5",
   "metadata": {},
   "source": [
    "Innovated by Greg Kamradt [here](https://github.com/FullStackRetrieval-com/RetrievalTutorials/blob/main/tutorials/LevelsOfTextSplitting/5_Levels_Of_Text_Splitting.ipynb), and adapted by both LangChain and Llamaindex!\n",
    "\n",
    "Semantic chunking splits text into coherent segments based on semantic similarity. It works by initially splitting text into sentences, then grouping them into groups of 3, and finally merging those groups whose embeddings are semantically close."
   ]
  },
  {
   "cell_type": "code",
   "execution_count": 54,
   "id": "9df040e2",
   "metadata": {},
   "outputs": [],
   "source": [
    "from langchain_experimental.text_splitter import SemanticChunker"
   ]
  },
  {
   "cell_type": "code",
   "execution_count": 55,
   "id": "0f6471aa",
   "metadata": {},
   "outputs": [],
   "source": [
    "#Create text splitter\n",
    "text_splitter_semantic = SemanticChunker(embeddings_model)"
   ]
  },
  {
   "cell_type": "code",
   "execution_count": 56,
   "id": "4432e1d4",
   "metadata": {},
   "outputs": [
    {
     "data": {
      "text/plain": [
       "647"
      ]
     },
     "execution_count": 56,
     "metadata": {},
     "output_type": "execute_result"
    }
   ],
   "source": [
    "len(docs[1].page_content)"
   ]
  },
  {
   "cell_type": "code",
   "execution_count": 57,
   "id": "f2cad410",
   "metadata": {},
   "outputs": [],
   "source": [
    "#Reduce content of second doc for faster runtimes\n",
    "from langchain_core.documents import Document\n",
    "docs_truncated = docs.copy()\n",
    "docs_truncated[1] = Document(page_content= docs[1].page_content[:5000], metadata=docs[1].metadata)"
   ]
  },
  {
   "cell_type": "code",
   "execution_count": 58,
   "id": "87c1e024",
   "metadata": {},
   "outputs": [
    {
     "name": "stdout",
     "output_type": "stream",
     "text": [
      "Split input into 4 sub-documents.\n"
     ]
    }
   ],
   "source": [
    "#Split the documents into chunks (only pick second one)\n",
    "all_splits_semantic = text_splitter_semantic.split_documents(docs_truncated)\n",
    "print(f\"Split input into {len(all_splits_semantic)} sub-documents.\")"
   ]
  },
  {
   "cell_type": "code",
   "execution_count": 59,
   "id": "a0e39b6f",
   "metadata": {
    "scrolled": true
   },
   "outputs": [
    {
     "name": "stdout",
     "output_type": "stream",
     "text": [
      "\n",
      "--- Split0 ---\n",
      "\n",
      "Secure Deployment : VPC | On-Prem | Air-GappedAI Gateway: Fast, Scalable, Enterprise-ReadyEnterprise-Ready AI Gateway for secure, high-performance LLM access, observability, and orchestration.See detailed pricingGet Started for FreeAI Gateway: Unified LLM API AccessSimplify your GenAI stack with a single AI Gateway that integrates all major models. Connect to OpenAI, Claude, Gemini, Groq, Mistral, and 250+ LLMs through one AI Gateway API\n",
      "\n",
      "Use the platform to support chat, completion, embedding, and reranking model types. Centralize API key management and team authentication in one place. Orchestrate multi-model workloads seamlessly through your infrastructure.Read MoreAI Gateway Observability\n",
      "\n",
      "Monitor token usage, latency, error rates, and request volumes across your system. Store and inspect full request/response logs centrally to ensure compliance and simplify debugging. Tag traffic with metadata like user ID, team, or environment to gain granular insights. Filter logs and metrics by model, team, or geography to quickly pinpoint root causes and accelerate resolution.Read MoreQuota & Access Control via AI GatewayEnforce governance, control costs, and reduce risk with consistent policy management. Apply rate limits per user, service, or endpoint. Set cost-based or token-based quotas using metadata filters.\n",
      "\n",
      "--- Split1 ---\n",
      "\n",
      "Use role-based access control (RBAC) to isolate and manage usage. Govern service accounts and agent workloads at scale through centralized rules.Read MoreEnsuring predictable usage, strong access boundaries, and scalable team-level governance for your GenAI infrastructure.Low-Latency Inference Run your most performance-sensitive workloads through a high-speed infrastructure. Achieve sub-3ms internal latency even under enterprise-scale workloads. Scale seamlessly to manage burst traffic and high-throughput workloads. Deliver predictable response times for real-time chat, RAG, and AI assistants. Place deployments close to inference layers to minimize latency and eliminate network lag.Read MorePlace the AI Gateway directly in your production inference path — its low-latency architecture ensures no performance tradeoffs.AI Gateway Routing & FallbacksEnsure reliability, even during model failures, with smart AI Gateway traffic controls. Supports latency-based routing to the fastest available LLM. Distribute traffic intelligently using weighted load balancing for reliability and scale. Automatically fallback to secondary models when a request fails. Use geo-aware routing to meet regional compliance and availability needs.Read MoreThis system ensures you never go offline, even when individual models face downtime or spike in latency.Serve Self-Hosted Models Expose open-source models with full control. Deploy LLaMA, Mistral, Falcon, and more with zero SDK changes. Full compatibility with vLLM, SGLang, KServe, and Triton. Streamline operations with Helm-based management of autoscaling, GPU scheduling, and deployments\n",
      "\n",
      "Run your own models in VPC, hybrid, or air-gapped environments.Read MoreAI Gateway + MCP IntegrationPower secure agent workflows through the AI Gateway’s native MCP support. Connect enterprise tools like Slack, GitHub, Confluence, and Datadog.\n",
      "\n",
      "--- Split2 ---\n",
      "\n",
      "Easily register internal MCP Servers with minimal setup required. Apply OAuth2, RBAC, and metadata policies to every tool call.Read MoreAI Gateway Guardrails\n",
      "\n",
      "Seamlessly enforce your own safety guardrails, including PII filtering and toxicity detection\n",
      "\n",
      "Customize the AI Gateway with guardrails tailored to your compliance and safety needsRead More\n",
      "\n",
      "--- Split3 ---\n",
      "\n",
      "Orchestrate Agentic AI with AI GatewayEnable intelligent multi-step reasoning, tool usage, and memory with full control and visibility across your AI agents and workflows.AI GatewayManage agent memory, tool orchestration, and action planning through a centralized protocol that supports complex, context-aware workflows.Learn More\n",
      "\n",
      "MCP & Agents RegistryMaintain a structured, discoverable registry of tools and APIs accessible to agents, complete with schema validation and access control.Learn More\n",
      "\n",
      "Prompt Lifecycle ManagementVersion, manage, and monitor prompts to ensure high-quality, repeatable behavior across agents and use cases.Learn More\n"
     ]
    }
   ],
   "source": [
    "for i in range(len(all_splits_semantic)):\n",
    "    print(f\"\\n--- Split{i} ---\\n\")\n",
    "    print(all_splits_semantic[i].page_content)"
   ]
  },
  {
   "cell_type": "code",
   "execution_count": 60,
   "id": "25681065",
   "metadata": {},
   "outputs": [
    {
     "data": {
      "text/plain": [
       "langchain_core.documents.base.Document"
      ]
     },
     "execution_count": 60,
     "metadata": {},
     "output_type": "execute_result"
    }
   ],
   "source": [
    "#Remember that the entire document has been split into smaller documents (which we are calling chunks!)\n",
    "type(all_splits_semantic[0])"
   ]
  },
  {
   "cell_type": "markdown",
   "id": "9082e816",
   "metadata": {},
   "source": [
    "**This is much better, as we inspect on the homepage!** Note, that this method requires the use of a embedding model and is relatively much slower!"
   ]
  },
  {
   "cell_type": "markdown",
   "id": "2639c9ac",
   "metadata": {},
   "source": [
    "### Storing Documents in Vector Store"
   ]
  },
  {
   "cell_type": "markdown",
   "id": "d665077d",
   "metadata": {},
   "source": [
    "Conceptual Reference - [Vector stores](https://python.langchain.com/docs/concepts/vectorstores/)"
   ]
  },
  {
   "cell_type": "markdown",
   "id": "7f29fa90",
   "metadata": {},
   "source": [
    "#### FAISS"
   ]
  },
  {
   "cell_type": "markdown",
   "id": "6cd6343a",
   "metadata": {},
   "source": [
    "**Facebook AI Similarity Search (FAISS)** is one of the popular implementations of *efficient similarity search*. It allows us to build an index and search, but it *speeds up search times to high performance levels*."
   ]
  },
  {
   "cell_type": "code",
   "execution_count": 85,
   "id": "8106e622",
   "metadata": {},
   "outputs": [],
   "source": [
    "#Import libraries\n",
    "import faiss\n",
    "from langchain_community.docstore.in_memory import InMemoryDocstore\n",
    "from langchain_community.vectorstores import FAISS"
   ]
  },
  {
   "cell_type": "code",
   "execution_count": 86,
   "id": "551a0028",
   "metadata": {},
   "outputs": [
    {
     "name": "stdout",
     "output_type": "stream",
     "text": [
      "What is TrueFoundry all about?\n"
     ]
    },
    {
     "data": {
      "text/plain": [
       "3072"
      ]
     },
     "execution_count": 86,
     "metadata": {},
     "output_type": "execute_result"
    }
   ],
   "source": [
    "#To get the dimension of the embedding generated by the model\n",
    "print(question)\n",
    "query_embedding = embeddings_model.embed_query(question)\n",
    "len(query_embedding)"
   ]
  },
  {
   "cell_type": "code",
   "execution_count": 87,
   "id": "2948abcc",
   "metadata": {},
   "outputs": [],
   "source": [
    "#Initialize the index (using the basic IndexFlatL2 - there are IndexIVFFlat and IndexIVFPQ also available that're faster. Note the tradeoff between accuracy and speed)\n",
    "index = faiss.IndexFlatL2(len(query_embedding))"
   ]
  },
  {
   "cell_type": "code",
   "execution_count": 88,
   "id": "839aa2f6",
   "metadata": {},
   "outputs": [],
   "source": [
    "#Create a vector store\n",
    "vector_store_faiss = FAISS(\n",
    "    embedding_function=embeddings_model,\n",
    "    index=index,\n",
    "    docstore=InMemoryDocstore(),\n",
    "    index_to_docstore_id={},\n",
    ")"
   ]
  },
  {
   "cell_type": "code",
   "execution_count": 89,
   "id": "509cc759",
   "metadata": {},
   "outputs": [
    {
     "data": {
      "text/plain": [
       "4"
      ]
     },
     "execution_count": 89,
     "metadata": {},
     "output_type": "execute_result"
    }
   ],
   "source": [
    "len(all_splits_semantic)"
   ]
  },
  {
   "cell_type": "code",
   "execution_count": 90,
   "id": "508e1fd9-0bee-4c49-8429-67c44dee3233",
   "metadata": {},
   "outputs": [
    {
     "data": {
      "text/plain": [
       "[Document(metadata={'source': 'https://www.truefoundry.com/ai-gateway'}, page_content='Secure Deployment : VPC | On-Prem | Air-GappedAI Gateway: Fast, Scalable, Enterprise-ReadyEnterprise-Ready AI Gateway for secure, high-performance LLM access, observability, and orchestration.See detailed pricingGet Started for FreeAI Gateway: Unified LLM API AccessSimplify your GenAI stack with a single AI Gateway that integrates all major models. Connect to OpenAI, Claude, Gemini, Groq, Mistral, and 250+ LLMs through one AI Gateway API\\n\\nUse the platform to support chat, completion, embedding, and reranking model types. Centralize API key management and team authentication in one place. Orchestrate multi-model workloads seamlessly through your infrastructure.Read MoreAI Gateway Observability\\n\\nMonitor token usage, latency, error rates, and request volumes across your system. Store and inspect full request/response logs centrally to ensure compliance and simplify debugging. Tag traffic with metadata like user ID, team, or environment to gain granular insights. Filter logs and metrics by model, team, or geography to quickly pinpoint root causes and accelerate resolution.Read MoreQuota & Access Control via AI GatewayEnforce governance, control costs, and reduce risk with consistent policy management. Apply rate limits per user, service, or endpoint. Set cost-based or token-based quotas using metadata filters.'),\n",
       " Document(metadata={'source': 'https://www.truefoundry.com/ai-gateway'}, page_content='Use role-based access control (RBAC) to isolate and manage usage. Govern service accounts and agent workloads at scale through centralized rules.Read MoreEnsuring predictable usage, strong access boundaries, and scalable team-level governance for your GenAI infrastructure.Low-Latency Inference\\xa0Run your most performance-sensitive workloads through a high-speed infrastructure. Achieve sub-3ms internal latency even under enterprise-scale workloads. Scale seamlessly to manage burst traffic and high-throughput workloads. Deliver predictable response times for real-time chat, RAG, and AI assistants. Place deployments close to inference layers to minimize latency and eliminate network lag.Read MorePlace the AI Gateway directly in your production inference path — its low-latency architecture ensures no performance tradeoffs.AI Gateway Routing & FallbacksEnsure reliability, even during model failures, with smart AI Gateway traffic controls. Supports latency-based routing to the fastest available LLM. Distribute traffic intelligently using weighted load balancing for reliability and scale. Automatically fallback to secondary models when a request fails. Use geo-aware routing to meet regional compliance and availability needs.Read MoreThis system ensures you never go offline, even when individual models face downtime or spike in latency.Serve Self-Hosted Models Expose open-source models with full control. Deploy LLaMA, Mistral, Falcon, and more with zero SDK changes. Full compatibility with vLLM, SGLang, KServe, and Triton. Streamline operations with Helm-based management of autoscaling, GPU scheduling, and deployments\\n\\nRun your own models in VPC, hybrid, or air-gapped environments.Read MoreAI Gateway + MCP IntegrationPower secure agent workflows through the AI Gateway’s native MCP support. Connect enterprise tools like Slack, GitHub, Confluence, and Datadog.'),\n",
       " Document(metadata={'source': 'https://www.truefoundry.com/ai-gateway'}, page_content='Easily register internal MCP Servers with minimal setup required. Apply OAuth2, RBAC, and metadata policies to every tool call.Read MoreAI Gateway Guardrails\\n\\nSeamlessly enforce your own safety guardrails, including PII filtering and toxicity detection\\n\\nCustomize the AI Gateway with guardrails tailored to your compliance and safety needsRead More'),\n",
       " Document(metadata={'source': 'https://www.truefoundry.com'}, page_content='Orchestrate Agentic AI with AI GatewayEnable intelligent multi-step reasoning, tool usage, and memory with full control and visibility across your AI agents and workflows.AI GatewayManage agent memory, tool orchestration, and action planning through a centralized protocol that supports complex, context-aware workflows.Learn More\\n\\nMCP & Agents RegistryMaintain a structured, discoverable registry of tools and APIs accessible to agents, complete with schema validation and access control.Learn More\\n\\nPrompt Lifecycle ManagementVersion, manage, and monitor prompts to ensure high-quality, repeatable behavior across agents and use cases.Learn More')]"
      ]
     },
     "execution_count": 90,
     "metadata": {},
     "output_type": "execute_result"
    }
   ],
   "source": [
    "all_splits_semantic"
   ]
  },
  {
   "cell_type": "code",
   "execution_count": 91,
   "id": "2c90a886",
   "metadata": {},
   "outputs": [
    {
     "data": {
      "text/plain": [
       "['86e62ba2-b0da-4650-bf69-afe04eff2ff7',\n",
       " 'c6fca6fb-8dcf-4d64-b864-bd69487f9553',\n",
       " '910f20f9-355f-480a-8a68-8a0d7f6dedff',\n",
       " '60d3059f-5e7b-4d54-a30d-b5af61834e44']"
      ]
     },
     "execution_count": 91,
     "metadata": {},
     "output_type": "execute_result"
    }
   ],
   "source": [
    "#Add all chunks to vector DB\n",
    "uuids = [str(uuid4()) for _ in range(len(all_splits_semantic))] #Universally unique identifier\n",
    "vector_store_faiss.add_documents(documents=all_splits_semantic, ids=uuids)"
   ]
  },
  {
   "cell_type": "markdown",
   "id": "54e8fbbd",
   "metadata": {},
   "source": [
    "Although we can directly query by using `similarity_search` method of the `vector_store`, we will turn the vector store into a retriever and then use it, as it'll lead to easier usage when building our chains.\n",
    "\n",
    "**Why?** Because, both will be *Runnable* objects then!"
   ]
  },
  {
   "cell_type": "markdown",
   "id": "d39fa22e",
   "metadata": {},
   "source": [
    "#### ChromaDB"
   ]
  },
  {
   "cell_type": "markdown",
   "id": "d168c3c9",
   "metadata": {},
   "source": [
    "ChromaDB stands out as a *developer-friendly* and *open-source* vector database. Unlike FAISS, which is primarily a library for efficient similarity search, ChromaDB offers a **complete, ready-to-use solution** for storing, indexing, and querying embeddings, with built-in support for common embedding models and a Python client for ease of use."
   ]
  },
  {
   "cell_type": "code",
   "execution_count": 92,
   "id": "5506ff49",
   "metadata": {},
   "outputs": [],
   "source": [
    "#Import library\n",
    "from langchain_chroma import Chroma"
   ]
  },
  {
   "cell_type": "code",
   "execution_count": 93,
   "id": "f8d19997",
   "metadata": {},
   "outputs": [],
   "source": [
    "#Create a vector store\n",
    "vector_store_chroma = Chroma(\n",
    "    collection_name=\"rag-primer\",\n",
    "    embedding_function=embeddings_model,\n",
    "    # persist_directory=\"./chroma_langchain_db\",  # Where to save data locally, remove if not necessary\n",
    ")"
   ]
  },
  {
   "cell_type": "code",
   "execution_count": 94,
   "id": "c96ac39b",
   "metadata": {},
   "outputs": [
    {
     "data": {
      "text/plain": [
       "['dc25f487-c553-4356-8667-300534248c56',\n",
       " 'cd792498-d814-4592-bad1-dc5e9c53d635',\n",
       " '6ce0b959-0cf4-4d50-b0bc-32715e3d51f5',\n",
       " 'ca06b555-ce40-47cc-9c7a-589e51a2e25e']"
      ]
     },
     "execution_count": 94,
     "metadata": {},
     "output_type": "execute_result"
    }
   ],
   "source": [
    "#Add all chunks to vector DB\n",
    "uuids = [str(uuid4()) for _ in range(len(all_splits_semantic))] #Universally unique identifier\n",
    "vector_store_chroma.add_documents(documents=all_splits_semantic, ids=uuids)"
   ]
  },
  {
   "cell_type": "markdown",
   "id": "1dabc782",
   "metadata": {},
   "source": [
    "**Question 1**\n",
    "\n",
    "I have a document of 1M words. Consider each word as having 20 characters exactly and 1 space between each word. I am chunking it using a max chunk size of 100 characters. How many minimum chunks will I have? (consider 1 word = 1.33 tokens)\n",
    "\n",
    "Min number of chunks  = (20 characters + 1 character)*1M words / (100 characters per chunk) = 0.21M chunks\n",
    "\n",
    "*Max number of chunks  = 21M chunks*"
   ]
  },
  {
   "cell_type": "markdown",
   "id": "60049a00",
   "metadata": {},
   "source": [
    "**Question 2**\n",
    "\n",
    "What will be the embedding matrix size assuming min chunks? (d = 4096)\n",
    "\n",
    "(0.21M x 4096)"
   ]
  },
  {
   "cell_type": "markdown",
   "id": "3254e7cc",
   "metadata": {},
   "source": [
    "**Question 3**\n",
    "Consider my user prompt of 1000 words, and I am putting my complete document (=10,000 words) in the context and passing it to an LCM. Consider system prompt as \"You are a strong AI/ML researcher\". No memory. Input token cost = $0.4/1M tokens and output token cost = $1.6/1M tokens. Output = 50 words.\n",
    "\n",
    "We are using GPT4.1 mini which has a context length of 128,000 tokens and max_tokens as 4096 tokens.\n",
    "\n",
    "1) Is it possible?\n",
    "2) Cost?"
   ]
  },
  {
   "cell_type": "markdown",
   "id": "05261d2c",
   "metadata": {},
   "source": [
    "**Answer 1**\n",
    "(i)\n",
    "Input words = 1000 words (user prompt) + 10,000 words (complete document) + 6 words (system prompt)\n",
    "Output words = 50 words\n",
    "Total words = 11,056 words\n",
    "Total tokens = 11,056* 1.33 = 14,705 tokens << 128,000 token context length\n",
    "\n",
    "(ii) Output = 50 words * 1.33 = 66.5 tokens << 4096 token max tokens"
   ]
  },
  {
   "cell_type": "markdown",
   "id": "9873a151",
   "metadata": {},
   "source": [
    "**Answer 2**\n",
    "\n",
    "Input tokens = 11,006 * 1.33 = 14,638 tokens\n",
    "Input cost = 14,638 * 0.4 / 1,000,000 = $0.0058 = ~Rs. 0.5\n",
    "\n",
    "Output tokens = 66.5\n",
    "Output cost = 66.5 *1.6/1,000,000 = $0.00011 = ~Rs.0.008"
   ]
  },
  {
   "cell_type": "markdown",
   "id": "0c629dd7",
   "metadata": {},
   "source": [
    "## Part 2: Retrieval and Generation"
   ]
  },
  {
   "cell_type": "code",
   "execution_count": 95,
   "id": "af3d1302",
   "metadata": {},
   "outputs": [
    {
     "data": {
      "text/plain": [
       "'What is TrueFoundry all about?'"
      ]
     },
     "execution_count": 95,
     "metadata": {},
     "output_type": "execute_result"
    }
   ],
   "source": [
    "#Printing our main question\n",
    "question"
   ]
  },
  {
   "cell_type": "code",
   "execution_count": 96,
   "id": "02c9f71b",
   "metadata": {},
   "outputs": [],
   "source": [
    "#Also having one out of context question\n",
    "question_out_of_context = \"Portkey and LiteLLM are competitors of TrueFoundry - is that true?\""
   ]
  },
  {
   "cell_type": "markdown",
   "id": "daba0144",
   "metadata": {},
   "source": [
    "### Retrieval"
   ]
  },
  {
   "cell_type": "markdown",
   "id": "13165ea1",
   "metadata": {},
   "source": [
    "#### Retrieval Based On Semantic Similarity Search"
   ]
  },
  {
   "cell_type": "markdown",
   "id": "2baae4fd",
   "metadata": {},
   "source": [
    "The vector store can be directly queried using `similarity_search` method. However, we will turn the vector store to a retriever using `as_retriever` method, and then use it. Benefit is that the resulting retriever is a *Runnable* object, making it easier to use with chains!"
   ]
  },
  {
   "cell_type": "code",
   "execution_count": 97,
   "id": "9c8812b9",
   "metadata": {},
   "outputs": [],
   "source": [
    "#Create retriever from vector store\n",
    "retriever = vector_store_chroma.as_retriever()"
   ]
  },
  {
   "cell_type": "code",
   "execution_count": 98,
   "id": "5cf3cd8c",
   "metadata": {},
   "outputs": [
    {
     "data": {
      "text/plain": [
       "langchain_core.vectorstores.base.VectorStoreRetriever"
      ]
     },
     "execution_count": 98,
     "metadata": {},
     "output_type": "execute_result"
    }
   ],
   "source": [
    "type(retriever)"
   ]
  },
  {
   "cell_type": "code",
   "execution_count": 99,
   "id": "e978e99b",
   "metadata": {},
   "outputs": [
    {
     "data": {
      "text/plain": [
       "[Document(id='dc25f487-c553-4356-8667-300534248c56', metadata={'source': 'https://www.truefoundry.com/ai-gateway'}, page_content='Secure Deployment : VPC | On-Prem | Air-GappedAI Gateway: Fast, Scalable, Enterprise-ReadyEnterprise-Ready AI Gateway for secure, high-performance LLM access, observability, and orchestration.See detailed pricingGet Started for FreeAI Gateway: Unified LLM API AccessSimplify your GenAI stack with a single AI Gateway that integrates all major models. Connect to OpenAI, Claude, Gemini, Groq, Mistral, and 250+ LLMs through one AI Gateway API\\n\\nUse the platform to support chat, completion, embedding, and reranking model types. Centralize API key management and team authentication in one place. Orchestrate multi-model workloads seamlessly through your infrastructure.Read MoreAI Gateway Observability\\n\\nMonitor token usage, latency, error rates, and request volumes across your system. Store and inspect full request/response logs centrally to ensure compliance and simplify debugging. Tag traffic with metadata like user ID, team, or environment to gain granular insights. Filter logs and metrics by model, team, or geography to quickly pinpoint root causes and accelerate resolution.Read MoreQuota & Access Control via AI GatewayEnforce governance, control costs, and reduce risk with consistent policy management. Apply rate limits per user, service, or endpoint. Set cost-based or token-based quotas using metadata filters.'),\n",
       " Document(id='cd792498-d814-4592-bad1-dc5e9c53d635', metadata={'source': 'https://www.truefoundry.com/ai-gateway'}, page_content='Use role-based access control (RBAC) to isolate and manage usage. Govern service accounts and agent workloads at scale through centralized rules.Read MoreEnsuring predictable usage, strong access boundaries, and scalable team-level governance for your GenAI infrastructure.Low-Latency Inference\\xa0Run your most performance-sensitive workloads through a high-speed infrastructure. Achieve sub-3ms internal latency even under enterprise-scale workloads. Scale seamlessly to manage burst traffic and high-throughput workloads. Deliver predictable response times for real-time chat, RAG, and AI assistants. Place deployments close to inference layers to minimize latency and eliminate network lag.Read MorePlace the AI Gateway directly in your production inference path — its low-latency architecture ensures no performance tradeoffs.AI Gateway Routing & FallbacksEnsure reliability, even during model failures, with smart AI Gateway traffic controls. Supports latency-based routing to the fastest available LLM. Distribute traffic intelligently using weighted load balancing for reliability and scale. Automatically fallback to secondary models when a request fails. Use geo-aware routing to meet regional compliance and availability needs.Read MoreThis system ensures you never go offline, even when individual models face downtime or spike in latency.Serve Self-Hosted Models Expose open-source models with full control. Deploy LLaMA, Mistral, Falcon, and more with zero SDK changes. Full compatibility with vLLM, SGLang, KServe, and Triton. Streamline operations with Helm-based management of autoscaling, GPU scheduling, and deployments\\n\\nRun your own models in VPC, hybrid, or air-gapped environments.Read MoreAI Gateway + MCP IntegrationPower secure agent workflows through the AI Gateway’s native MCP support. Connect enterprise tools like Slack, GitHub, Confluence, and Datadog.'),\n",
       " Document(id='ca06b555-ce40-47cc-9c7a-589e51a2e25e', metadata={'source': 'https://www.truefoundry.com'}, page_content='Orchestrate Agentic AI with AI GatewayEnable intelligent multi-step reasoning, tool usage, and memory with full control and visibility across your AI agents and workflows.AI GatewayManage agent memory, tool orchestration, and action planning through a centralized protocol that supports complex, context-aware workflows.Learn More\\n\\nMCP & Agents RegistryMaintain a structured, discoverable registry of tools and APIs accessible to agents, complete with schema validation and access control.Learn More\\n\\nPrompt Lifecycle ManagementVersion, manage, and monitor prompts to ensure high-quality, repeatable behavior across agents and use cases.Learn More'),\n",
       " Document(id='e36ee7f4-e3f2-41c1-8cfc-637d9cde03d8', metadata={'start_index': 0, 'source': 'https://www.truefoundry.com/ai-gateway'}, page_content='Secure Deployment : VPC | On-Prem | Air-GappedAI Gateway: Fast, Scalable, Enterprise-ReadyEnterprise-Ready AI Gateway for secure, high-performance LLM access, observability, and orchestration.See detailed pricingGet Started for FreeAI Gateway: Unified LLM API AccessSimplify your GenAI stack with a single AI Gateway that integrates all major models.\\n\\nConnect to OpenAI, Claude, Gemini, Groq, Mistral, and 250+ LLMs through one AI Gateway API\\n\\nUse the platform to support chat, completion, embedding, and reranking model types.\\n\\nCentralize API key management and team authentication in one place.\\n\\nOrchestrate multi-model workloads seamlessly through your infrastructure.Read MoreAI Gateway Observability\\n\\nMonitor token usage, latency, error rates, and request volumes across your system.\\n\\nStore and inspect full request/response logs centrally to ensure compliance and simplify debugging.\\n\\nTag traffic with metadata like user ID, team, or environment to gain granular insights.')]"
      ]
     },
     "execution_count": 99,
     "metadata": {},
     "output_type": "execute_result"
    }
   ],
   "source": [
    "#Check default settings\n",
    "docs = retriever.invoke(question)\n",
    "docs"
   ]
  },
  {
   "cell_type": "code",
   "execution_count": 100,
   "id": "c94a76e0",
   "metadata": {},
   "outputs": [
    {
     "data": {
      "text/plain": [
       "'What is TrueFoundry all about?'"
      ]
     },
     "execution_count": 100,
     "metadata": {},
     "output_type": "execute_result"
    }
   ],
   "source": [
    "question"
   ]
  },
  {
   "cell_type": "markdown",
   "id": "6dce1986",
   "metadata": {},
   "source": [
    "**Now let's pass a search parameter, that retrieves based on similarity score threshold.**"
   ]
  },
  {
   "cell_type": "code",
   "execution_count": 107,
   "id": "0e4bca9e",
   "metadata": {},
   "outputs": [],
   "source": [
    "#Create retriever from vector store with similarity score threshold\n",
    "retriever = vector_store_chroma.as_retriever(\n",
    "    search_type=\"similarity_score_threshold\", search_kwargs={\"score_threshold\": 0.01}  # hyperparameter that can be tuned\n",
    ")"
   ]
  },
  {
   "cell_type": "code",
   "execution_count": 108,
   "id": "4c7b86bf",
   "metadata": {},
   "outputs": [
    {
     "data": {
      "text/plain": [
       "[Document(id='dc25f487-c553-4356-8667-300534248c56', metadata={'source': 'https://www.truefoundry.com/ai-gateway'}, page_content='Secure Deployment : VPC | On-Prem | Air-GappedAI Gateway: Fast, Scalable, Enterprise-ReadyEnterprise-Ready AI Gateway for secure, high-performance LLM access, observability, and orchestration.See detailed pricingGet Started for FreeAI Gateway: Unified LLM API AccessSimplify your GenAI stack with a single AI Gateway that integrates all major models. Connect to OpenAI, Claude, Gemini, Groq, Mistral, and 250+ LLMs through one AI Gateway API\\n\\nUse the platform to support chat, completion, embedding, and reranking model types. Centralize API key management and team authentication in one place. Orchestrate multi-model workloads seamlessly through your infrastructure.Read MoreAI Gateway Observability\\n\\nMonitor token usage, latency, error rates, and request volumes across your system. Store and inspect full request/response logs centrally to ensure compliance and simplify debugging. Tag traffic with metadata like user ID, team, or environment to gain granular insights. Filter logs and metrics by model, team, or geography to quickly pinpoint root causes and accelerate resolution.Read MoreQuota & Access Control via AI GatewayEnforce governance, control costs, and reduce risk with consistent policy management. Apply rate limits per user, service, or endpoint. Set cost-based or token-based quotas using metadata filters.'),\n",
       " Document(id='cd792498-d814-4592-bad1-dc5e9c53d635', metadata={'source': 'https://www.truefoundry.com/ai-gateway'}, page_content='Use role-based access control (RBAC) to isolate and manage usage. Govern service accounts and agent workloads at scale through centralized rules.Read MoreEnsuring predictable usage, strong access boundaries, and scalable team-level governance for your GenAI infrastructure.Low-Latency Inference\\xa0Run your most performance-sensitive workloads through a high-speed infrastructure. Achieve sub-3ms internal latency even under enterprise-scale workloads. Scale seamlessly to manage burst traffic and high-throughput workloads. Deliver predictable response times for real-time chat, RAG, and AI assistants. Place deployments close to inference layers to minimize latency and eliminate network lag.Read MorePlace the AI Gateway directly in your production inference path — its low-latency architecture ensures no performance tradeoffs.AI Gateway Routing & FallbacksEnsure reliability, even during model failures, with smart AI Gateway traffic controls. Supports latency-based routing to the fastest available LLM. Distribute traffic intelligently using weighted load balancing for reliability and scale. Automatically fallback to secondary models when a request fails. Use geo-aware routing to meet regional compliance and availability needs.Read MoreThis system ensures you never go offline, even when individual models face downtime or spike in latency.Serve Self-Hosted Models Expose open-source models with full control. Deploy LLaMA, Mistral, Falcon, and more with zero SDK changes. Full compatibility with vLLM, SGLang, KServe, and Triton. Streamline operations with Helm-based management of autoscaling, GPU scheduling, and deployments\\n\\nRun your own models in VPC, hybrid, or air-gapped environments.Read MoreAI Gateway + MCP IntegrationPower secure agent workflows through the AI Gateway’s native MCP support. Connect enterprise tools like Slack, GitHub, Confluence, and Datadog.'),\n",
       " Document(id='ca06b555-ce40-47cc-9c7a-589e51a2e25e', metadata={'source': 'https://www.truefoundry.com'}, page_content='Orchestrate Agentic AI with AI GatewayEnable intelligent multi-step reasoning, tool usage, and memory with full control and visibility across your AI agents and workflows.AI GatewayManage agent memory, tool orchestration, and action planning through a centralized protocol that supports complex, context-aware workflows.Learn More\\n\\nMCP & Agents RegistryMaintain a structured, discoverable registry of tools and APIs accessible to agents, complete with schema validation and access control.Learn More\\n\\nPrompt Lifecycle ManagementVersion, manage, and monitor prompts to ensure high-quality, repeatable behavior across agents and use cases.Learn More'),\n",
       " Document(id='e36ee7f4-e3f2-41c1-8cfc-637d9cde03d8', metadata={'source': 'https://www.truefoundry.com/ai-gateway', 'start_index': 0}, page_content='Secure Deployment : VPC | On-Prem | Air-GappedAI Gateway: Fast, Scalable, Enterprise-ReadyEnterprise-Ready AI Gateway for secure, high-performance LLM access, observability, and orchestration.See detailed pricingGet Started for FreeAI Gateway: Unified LLM API AccessSimplify your GenAI stack with a single AI Gateway that integrates all major models.\\n\\nConnect to OpenAI, Claude, Gemini, Groq, Mistral, and 250+ LLMs through one AI Gateway API\\n\\nUse the platform to support chat, completion, embedding, and reranking model types.\\n\\nCentralize API key management and team authentication in one place.\\n\\nOrchestrate multi-model workloads seamlessly through your infrastructure.Read MoreAI Gateway Observability\\n\\nMonitor token usage, latency, error rates, and request volumes across your system.\\n\\nStore and inspect full request/response logs centrally to ensure compliance and simplify debugging.\\n\\nTag traffic with metadata like user ID, team, or environment to gain granular insights.')]"
      ]
     },
     "execution_count": 108,
     "metadata": {},
     "output_type": "execute_result"
    }
   ],
   "source": [
    "docs = retriever.invoke(question)\n",
    "docs"
   ]
  },
  {
   "cell_type": "code",
   "execution_count": 109,
   "id": "3106a483",
   "metadata": {},
   "outputs": [
    {
     "name": "stdout",
     "output_type": "stream",
     "text": [
      "Secure Deployment : VPC | On-Prem | Air-GappedAI Gateway: Fast, Scalable, Enterprise-ReadyEnterprise-Ready AI Gateway for secure, high-performance LLM access, observability, and orchestration.See detailed pricingGet Started for FreeAI Gateway: Unified LLM API AccessSimplify your GenAI stack with a single AI Gateway that integrates all major models. Connect to OpenAI, Claude, Gemini, Groq, Mistral, and 250+ LLMs through one AI Gateway API\n",
      "\n",
      "Use the platform to support chat, completion, embedding, and reranking model types. Centralize API key management and team authentication in one place. Orchestrate multi-model workloads seamlessly through your infrastructure.Read MoreAI Gateway Observability\n",
      "\n",
      "Monitor token usage, latency, error rates, and request volumes across your system. Store and inspect full request/response logs centrally to ensure compliance and simplify debugging. Tag traffic with metadata like user ID, team, or environment to gain granular insights. Filter logs and metrics by model, team, or geography to quickly pinpoint root causes and accelerate resolution.Read MoreQuota & Access Control via AI GatewayEnforce governance, control costs, and reduce risk with consistent policy management. Apply rate limits per user, service, or endpoint. Set cost-based or token-based quotas using metadata filters.\n"
     ]
    }
   ],
   "source": [
    "print(docs[0].page_content)"
   ]
  },
  {
   "cell_type": "markdown",
   "id": "096f23ab",
   "metadata": {},
   "source": [
    "**Now let's pass another search parameter, that retrieves top k results only.**"
   ]
  },
  {
   "cell_type": "code",
   "execution_count": 110,
   "id": "eee65b21",
   "metadata": {},
   "outputs": [],
   "source": [
    "#Create retriever from vector store with similarity score threshold\n",
    "retriever = vector_store_chroma.as_retriever(\n",
    "    search_kwargs={\"k\": 3} # hyperparameter that can be tuned\n",
    ")"
   ]
  },
  {
   "cell_type": "code",
   "execution_count": 111,
   "id": "4fd307a6",
   "metadata": {},
   "outputs": [
    {
     "data": {
      "text/plain": [
       "[Document(id='dc25f487-c553-4356-8667-300534248c56', metadata={'source': 'https://www.truefoundry.com/ai-gateway'}, page_content='Secure Deployment : VPC | On-Prem | Air-GappedAI Gateway: Fast, Scalable, Enterprise-ReadyEnterprise-Ready AI Gateway for secure, high-performance LLM access, observability, and orchestration.See detailed pricingGet Started for FreeAI Gateway: Unified LLM API AccessSimplify your GenAI stack with a single AI Gateway that integrates all major models. Connect to OpenAI, Claude, Gemini, Groq, Mistral, and 250+ LLMs through one AI Gateway API\\n\\nUse the platform to support chat, completion, embedding, and reranking model types. Centralize API key management and team authentication in one place. Orchestrate multi-model workloads seamlessly through your infrastructure.Read MoreAI Gateway Observability\\n\\nMonitor token usage, latency, error rates, and request volumes across your system. Store and inspect full request/response logs centrally to ensure compliance and simplify debugging. Tag traffic with metadata like user ID, team, or environment to gain granular insights. Filter logs and metrics by model, team, or geography to quickly pinpoint root causes and accelerate resolution.Read MoreQuota & Access Control via AI GatewayEnforce governance, control costs, and reduce risk with consistent policy management. Apply rate limits per user, service, or endpoint. Set cost-based or token-based quotas using metadata filters.'),\n",
       " Document(id='cd792498-d814-4592-bad1-dc5e9c53d635', metadata={'source': 'https://www.truefoundry.com/ai-gateway'}, page_content='Use role-based access control (RBAC) to isolate and manage usage. Govern service accounts and agent workloads at scale through centralized rules.Read MoreEnsuring predictable usage, strong access boundaries, and scalable team-level governance for your GenAI infrastructure.Low-Latency Inference\\xa0Run your most performance-sensitive workloads through a high-speed infrastructure. Achieve sub-3ms internal latency even under enterprise-scale workloads. Scale seamlessly to manage burst traffic and high-throughput workloads. Deliver predictable response times for real-time chat, RAG, and AI assistants. Place deployments close to inference layers to minimize latency and eliminate network lag.Read MorePlace the AI Gateway directly in your production inference path — its low-latency architecture ensures no performance tradeoffs.AI Gateway Routing & FallbacksEnsure reliability, even during model failures, with smart AI Gateway traffic controls. Supports latency-based routing to the fastest available LLM. Distribute traffic intelligently using weighted load balancing for reliability and scale. Automatically fallback to secondary models when a request fails. Use geo-aware routing to meet regional compliance and availability needs.Read MoreThis system ensures you never go offline, even when individual models face downtime or spike in latency.Serve Self-Hosted Models Expose open-source models with full control. Deploy LLaMA, Mistral, Falcon, and more with zero SDK changes. Full compatibility with vLLM, SGLang, KServe, and Triton. Streamline operations with Helm-based management of autoscaling, GPU scheduling, and deployments\\n\\nRun your own models in VPC, hybrid, or air-gapped environments.Read MoreAI Gateway + MCP IntegrationPower secure agent workflows through the AI Gateway’s native MCP support. Connect enterprise tools like Slack, GitHub, Confluence, and Datadog.'),\n",
       " Document(id='ca06b555-ce40-47cc-9c7a-589e51a2e25e', metadata={'source': 'https://www.truefoundry.com'}, page_content='Orchestrate Agentic AI with AI GatewayEnable intelligent multi-step reasoning, tool usage, and memory with full control and visibility across your AI agents and workflows.AI GatewayManage agent memory, tool orchestration, and action planning through a centralized protocol that supports complex, context-aware workflows.Learn More\\n\\nMCP & Agents RegistryMaintain a structured, discoverable registry of tools and APIs accessible to agents, complete with schema validation and access control.Learn More\\n\\nPrompt Lifecycle ManagementVersion, manage, and monitor prompts to ensure high-quality, repeatable behavior across agents and use cases.Learn More')]"
      ]
     },
     "execution_count": 111,
     "metadata": {},
     "output_type": "execute_result"
    }
   ],
   "source": [
    "docs = retriever.invoke(question)\n",
    "docs"
   ]
  },
  {
   "cell_type": "markdown",
   "id": "cc1269b3",
   "metadata": {},
   "source": [
    "**Now let's do metadata filtering.** \n",
    "\n",
    "A lot of vector stores also support filtering on metadata. Check more information on self-querying retrieval [here](https://python.langchain.com/docs/how_to/self_query/).\n",
    "\n",
    "Thus, we can do both 1) **semantic search** by querying unstructured data directly 2) **metadata search** by applying structured query to metadata."
   ]
  },
  {
   "cell_type": "code",
   "execution_count": 113,
   "id": "17d9e4c3",
   "metadata": {},
   "outputs": [],
   "source": [
    "#Create retriever from vector store with metadata filter\n",
    "retriever = vector_store_chroma.as_retriever(\n",
    "    search_kwargs={\"filter\": {\"source\": \"https://www.truefoundry.com\"}}\n",
    ")"
   ]
  },
  {
   "cell_type": "code",
   "execution_count": 114,
   "id": "04463b7c",
   "metadata": {},
   "outputs": [],
   "source": [
    "# all_splits_semantic"
   ]
  },
  {
   "cell_type": "code",
   "execution_count": 115,
   "id": "e140f976",
   "metadata": {
    "scrolled": true
   },
   "outputs": [
    {
     "data": {
      "text/plain": [
       "[Document(id='ca06b555-ce40-47cc-9c7a-589e51a2e25e', metadata={'source': 'https://www.truefoundry.com'}, page_content='Orchestrate Agentic AI with AI GatewayEnable intelligent multi-step reasoning, tool usage, and memory with full control and visibility across your AI agents and workflows.AI GatewayManage agent memory, tool orchestration, and action planning through a centralized protocol that supports complex, context-aware workflows.Learn More\\n\\nMCP & Agents RegistryMaintain a structured, discoverable registry of tools and APIs accessible to agents, complete with schema validation and access control.Learn More\\n\\nPrompt Lifecycle ManagementVersion, manage, and monitor prompts to ensure high-quality, repeatable behavior across agents and use cases.Learn More')]"
      ]
     },
     "execution_count": 115,
     "metadata": {},
     "output_type": "execute_result"
    }
   ],
   "source": [
    "docs = retriever.invoke(question)\n",
    "docs"
   ]
  },
  {
   "cell_type": "markdown",
   "id": "4f67ae5e",
   "metadata": {},
   "source": [
    "We can see that the result from the other webpage **has been filtered out**!"
   ]
  },
  {
   "cell_type": "markdown",
   "id": "f5f6b1bc",
   "metadata": {},
   "source": [
    "#### Advanced Retrieval Based On Maximum Marginal Relevance"
   ]
  },
  {
   "cell_type": "markdown",
   "id": "0485b093",
   "metadata": {},
   "source": [
    "*Maximum marginal relevance* is a **re-ranking** algorithm that optimizes for both similarity to query *AND* diversity among selected documents. This can be used, if supported by the particular vector store."
   ]
  },
  {
   "cell_type": "code",
   "execution_count": 116,
   "id": "8d7f5a72",
   "metadata": {},
   "outputs": [
    {
     "name": "stdout",
     "output_type": "stream",
     "text": [
      "Orchestrate Agentic AI with AI GatewayEnable intelligent multi-step reasoning, tool usage, and memory with full control and visibility across your AI agents and workflows.AI GatewayManage agent memory, tool orchestration, and action planning through a centralized protocol that supports complex, context-aware workflows.Learn More\n",
      "\n",
      "MCP & Agents RegistryMaintain a structured, discoverable registry of tools and APIs accessible to agents, complete with schema validation and access control.Learn More\n",
      "\n",
      "Prompt Lifecycle ManagementVersion, manage, and monitor prompts to ensure high-quality, repeatable behavior across agents and use cases.Learn More\n",
      "----------------------------------------------------------------------------------------------------\n"
     ]
    }
   ],
   "source": [
    "#Original retrieval\n",
    "for doc in docs:\n",
    "    print(doc.page_content)\n",
    "    print(\"-\"*100)\n"
   ]
  },
  {
   "cell_type": "code",
   "execution_count": 117,
   "id": "782dc3e3",
   "metadata": {},
   "outputs": [],
   "source": [
    "retriever = vector_store_chroma.as_retriever(search_type=\"mmr\")"
   ]
  },
  {
   "cell_type": "code",
   "execution_count": 118,
   "id": "68477ff0",
   "metadata": {},
   "outputs": [
    {
     "data": {
      "text/plain": [
       "[Document(id='dc25f487-c553-4356-8667-300534248c56', metadata={'source': 'https://www.truefoundry.com/ai-gateway'}, page_content='Secure Deployment : VPC | On-Prem | Air-GappedAI Gateway: Fast, Scalable, Enterprise-ReadyEnterprise-Ready AI Gateway for secure, high-performance LLM access, observability, and orchestration.See detailed pricingGet Started for FreeAI Gateway: Unified LLM API AccessSimplify your GenAI stack with a single AI Gateway that integrates all major models. Connect to OpenAI, Claude, Gemini, Groq, Mistral, and 250+ LLMs through one AI Gateway API\\n\\nUse the platform to support chat, completion, embedding, and reranking model types. Centralize API key management and team authentication in one place. Orchestrate multi-model workloads seamlessly through your infrastructure.Read MoreAI Gateway Observability\\n\\nMonitor token usage, latency, error rates, and request volumes across your system. Store and inspect full request/response logs centrally to ensure compliance and simplify debugging. Tag traffic with metadata like user ID, team, or environment to gain granular insights. Filter logs and metrics by model, team, or geography to quickly pinpoint root causes and accelerate resolution.Read MoreQuota & Access Control via AI GatewayEnforce governance, control costs, and reduce risk with consistent policy management. Apply rate limits per user, service, or endpoint. Set cost-based or token-based quotas using metadata filters.'),\n",
       " Document(id='cd792498-d814-4592-bad1-dc5e9c53d635', metadata={'source': 'https://www.truefoundry.com/ai-gateway'}, page_content='Use role-based access control (RBAC) to isolate and manage usage. Govern service accounts and agent workloads at scale through centralized rules.Read MoreEnsuring predictable usage, strong access boundaries, and scalable team-level governance for your GenAI infrastructure.Low-Latency Inference\\xa0Run your most performance-sensitive workloads through a high-speed infrastructure. Achieve sub-3ms internal latency even under enterprise-scale workloads. Scale seamlessly to manage burst traffic and high-throughput workloads. Deliver predictable response times for real-time chat, RAG, and AI assistants. Place deployments close to inference layers to minimize latency and eliminate network lag.Read MorePlace the AI Gateway directly in your production inference path — its low-latency architecture ensures no performance tradeoffs.AI Gateway Routing & FallbacksEnsure reliability, even during model failures, with smart AI Gateway traffic controls. Supports latency-based routing to the fastest available LLM. Distribute traffic intelligently using weighted load balancing for reliability and scale. Automatically fallback to secondary models when a request fails. Use geo-aware routing to meet regional compliance and availability needs.Read MoreThis system ensures you never go offline, even when individual models face downtime or spike in latency.Serve Self-Hosted Models Expose open-source models with full control. Deploy LLaMA, Mistral, Falcon, and more with zero SDK changes. Full compatibility with vLLM, SGLang, KServe, and Triton. Streamline operations with Helm-based management of autoscaling, GPU scheduling, and deployments\\n\\nRun your own models in VPC, hybrid, or air-gapped environments.Read MoreAI Gateway + MCP IntegrationPower secure agent workflows through the AI Gateway’s native MCP support. Connect enterprise tools like Slack, GitHub, Confluence, and Datadog.'),\n",
       " Document(id='ca06b555-ce40-47cc-9c7a-589e51a2e25e', metadata={'source': 'https://www.truefoundry.com'}, page_content='Orchestrate Agentic AI with AI GatewayEnable intelligent multi-step reasoning, tool usage, and memory with full control and visibility across your AI agents and workflows.AI GatewayManage agent memory, tool orchestration, and action planning through a centralized protocol that supports complex, context-aware workflows.Learn More\\n\\nMCP & Agents RegistryMaintain a structured, discoverable registry of tools and APIs accessible to agents, complete with schema validation and access control.Learn More\\n\\nPrompt Lifecycle ManagementVersion, manage, and monitor prompts to ensure high-quality, repeatable behavior across agents and use cases.Learn More'),\n",
       " Document(id='e36ee7f4-e3f2-41c1-8cfc-637d9cde03d8', metadata={'source': 'https://www.truefoundry.com/ai-gateway', 'start_index': 0}, page_content='Secure Deployment : VPC | On-Prem | Air-GappedAI Gateway: Fast, Scalable, Enterprise-ReadyEnterprise-Ready AI Gateway for secure, high-performance LLM access, observability, and orchestration.See detailed pricingGet Started for FreeAI Gateway: Unified LLM API AccessSimplify your GenAI stack with a single AI Gateway that integrates all major models.\\n\\nConnect to OpenAI, Claude, Gemini, Groq, Mistral, and 250+ LLMs through one AI Gateway API\\n\\nUse the platform to support chat, completion, embedding, and reranking model types.\\n\\nCentralize API key management and team authentication in one place.\\n\\nOrchestrate multi-model workloads seamlessly through your infrastructure.Read MoreAI Gateway Observability\\n\\nMonitor token usage, latency, error rates, and request volumes across your system.\\n\\nStore and inspect full request/response logs centrally to ensure compliance and simplify debugging.\\n\\nTag traffic with metadata like user ID, team, or environment to gain granular insights.')]"
      ]
     },
     "execution_count": 118,
     "metadata": {},
     "output_type": "execute_result"
    }
   ],
   "source": [
    "docs = retriever.invoke(question)\n",
    "docs"
   ]
  },
  {
   "cell_type": "code",
   "execution_count": 119,
   "id": "dfe0b6ba",
   "metadata": {},
   "outputs": [
    {
     "name": "stdout",
     "output_type": "stream",
     "text": [
      "Secure Deployment : VPC | On-Prem | Air-GappedAI Gateway: Fast, Scalable, Enterprise-ReadyEnterprise-Ready AI Gateway for secure, high-performance LLM access, observability, and orchestration.See detailed pricingGet Started for FreeAI Gateway: Unified LLM API AccessSimplify your GenAI stack with a single AI Gateway that integrates all major models. Connect to OpenAI, Claude, Gemini, Groq, Mistral, and 250+ LLMs through one AI Gateway API\n",
      "\n",
      "Use the platform to support chat, completion, embedding, and reranking model types. Centralize API key management and team authentication in one place. Orchestrate multi-model workloads seamlessly through your infrastructure.Read MoreAI Gateway Observability\n",
      "\n",
      "Monitor token usage, latency, error rates, and request volumes across your system. Store and inspect full request/response logs centrally to ensure compliance and simplify debugging. Tag traffic with metadata like user ID, team, or environment to gain granular insights. Filter logs and metrics by model, team, or geography to quickly pinpoint root causes and accelerate resolution.Read MoreQuota & Access Control via AI GatewayEnforce governance, control costs, and reduce risk with consistent policy management. Apply rate limits per user, service, or endpoint. Set cost-based or token-based quotas using metadata filters.\n",
      "----------------------------------------------------------------------------------------------------\n",
      "Use role-based access control (RBAC) to isolate and manage usage. Govern service accounts and agent workloads at scale through centralized rules.Read MoreEnsuring predictable usage, strong access boundaries, and scalable team-level governance for your GenAI infrastructure.Low-Latency Inference Run your most performance-sensitive workloads through a high-speed infrastructure. Achieve sub-3ms internal latency even under enterprise-scale workloads. Scale seamlessly to manage burst traffic and high-throughput workloads. Deliver predictable response times for real-time chat, RAG, and AI assistants. Place deployments close to inference layers to minimize latency and eliminate network lag.Read MorePlace the AI Gateway directly in your production inference path — its low-latency architecture ensures no performance tradeoffs.AI Gateway Routing & FallbacksEnsure reliability, even during model failures, with smart AI Gateway traffic controls. Supports latency-based routing to the fastest available LLM. Distribute traffic intelligently using weighted load balancing for reliability and scale. Automatically fallback to secondary models when a request fails. Use geo-aware routing to meet regional compliance and availability needs.Read MoreThis system ensures you never go offline, even when individual models face downtime or spike in latency.Serve Self-Hosted Models Expose open-source models with full control. Deploy LLaMA, Mistral, Falcon, and more with zero SDK changes. Full compatibility with vLLM, SGLang, KServe, and Triton. Streamline operations with Helm-based management of autoscaling, GPU scheduling, and deployments\n",
      "\n",
      "Run your own models in VPC, hybrid, or air-gapped environments.Read MoreAI Gateway + MCP IntegrationPower secure agent workflows through the AI Gateway’s native MCP support. Connect enterprise tools like Slack, GitHub, Confluence, and Datadog.\n",
      "----------------------------------------------------------------------------------------------------\n",
      "Orchestrate Agentic AI with AI GatewayEnable intelligent multi-step reasoning, tool usage, and memory with full control and visibility across your AI agents and workflows.AI GatewayManage agent memory, tool orchestration, and action planning through a centralized protocol that supports complex, context-aware workflows.Learn More\n",
      "\n",
      "MCP & Agents RegistryMaintain a structured, discoverable registry of tools and APIs accessible to agents, complete with schema validation and access control.Learn More\n",
      "\n",
      "Prompt Lifecycle ManagementVersion, manage, and monitor prompts to ensure high-quality, repeatable behavior across agents and use cases.Learn More\n",
      "----------------------------------------------------------------------------------------------------\n",
      "Secure Deployment : VPC | On-Prem | Air-GappedAI Gateway: Fast, Scalable, Enterprise-ReadyEnterprise-Ready AI Gateway for secure, high-performance LLM access, observability, and orchestration.See detailed pricingGet Started for FreeAI Gateway: Unified LLM API AccessSimplify your GenAI stack with a single AI Gateway that integrates all major models.\n",
      "\n",
      "Connect to OpenAI, Claude, Gemini, Groq, Mistral, and 250+ LLMs through one AI Gateway API\n",
      "\n",
      "Use the platform to support chat, completion, embedding, and reranking model types.\n",
      "\n",
      "Centralize API key management and team authentication in one place.\n",
      "\n",
      "Orchestrate multi-model workloads seamlessly through your infrastructure.Read MoreAI Gateway Observability\n",
      "\n",
      "Monitor token usage, latency, error rates, and request volumes across your system.\n",
      "\n",
      "Store and inspect full request/response logs centrally to ensure compliance and simplify debugging.\n",
      "\n",
      "Tag traffic with metadata like user ID, team, or environment to gain granular insights.\n",
      "----------------------------------------------------------------------------------------------------\n"
     ]
    }
   ],
   "source": [
    "#Retrieval with MMR\n",
    "for doc in docs:\n",
    "    print(doc.page_content)\n",
    "    print(\"-\"*100)\n"
   ]
  },
  {
   "cell_type": "markdown",
   "id": "1a8e5f4b",
   "metadata": {},
   "source": [
    "#### Advanced Retrieval Based On Hybrid Search"
   ]
  },
  {
   "cell_type": "markdown",
   "id": "b898e89a",
   "metadata": {},
   "source": [
    "*Hybrid search* combines the benefits of both standard semantic similarity search offered by LangChain, as well as other search techniques (such as BM25, full-text and so on). We'll do **BM25+Semantic Search** in our example below and we'll make use of ChromaDB for a change."
   ]
  },
  {
   "cell_type": "code",
   "execution_count": 120,
   "id": "055c54a0",
   "metadata": {},
   "outputs": [],
   "source": [
    "from langchain.retrievers import BM25Retriever, EnsembleRetriever"
   ]
  },
  {
   "cell_type": "code",
   "execution_count": 124,
   "id": "1b7095bf",
   "metadata": {},
   "outputs": [],
   "source": [
    "#Initialize BM25 retriever\n",
    "bm25_retriever = BM25Retriever.from_documents(documents=all_splits_semantic)\n",
    "bm25_retriever.k = 3 # Set the number of top documents to retrieve"
   ]
  },
  {
   "cell_type": "code",
   "execution_count": 125,
   "id": "24bb6f31",
   "metadata": {},
   "outputs": [],
   "source": [
    "#Initialize ChromaDB as a retriever\n",
    "chroma_retriever = vector_store_chroma.as_retriever(search_kwargs={\"k\": 3})"
   ]
  },
  {
   "cell_type": "code",
   "execution_count": 126,
   "id": "7f16624f",
   "metadata": {},
   "outputs": [],
   "source": [
    "#Perform reciprocal rank fusion (RRF)\n",
    "ensemble_retriever = EnsembleRetriever(\n",
    "    retrievers=[bm25_retriever, chroma_retriever],\n",
    "    weights=[0.7, 0.3]\n",
    ")"
   ]
  },
  {
   "cell_type": "code",
   "execution_count": 127,
   "id": "7306d8da",
   "metadata": {},
   "outputs": [
    {
     "data": {
      "text/plain": [
       "[Document(metadata={'source': 'https://www.truefoundry.com/ai-gateway'}, page_content='Secure Deployment : VPC | On-Prem | Air-GappedAI Gateway: Fast, Scalable, Enterprise-ReadyEnterprise-Ready AI Gateway for secure, high-performance LLM access, observability, and orchestration.See detailed pricingGet Started for FreeAI Gateway: Unified LLM API AccessSimplify your GenAI stack with a single AI Gateway that integrates all major models. Connect to OpenAI, Claude, Gemini, Groq, Mistral, and 250+ LLMs through one AI Gateway API\\n\\nUse the platform to support chat, completion, embedding, and reranking model types. Centralize API key management and team authentication in one place. Orchestrate multi-model workloads seamlessly through your infrastructure.Read MoreAI Gateway Observability\\n\\nMonitor token usage, latency, error rates, and request volumes across your system. Store and inspect full request/response logs centrally to ensure compliance and simplify debugging. Tag traffic with metadata like user ID, team, or environment to gain granular insights. Filter logs and metrics by model, team, or geography to quickly pinpoint root causes and accelerate resolution.Read MoreQuota & Access Control via AI GatewayEnforce governance, control costs, and reduce risk with consistent policy management. Apply rate limits per user, service, or endpoint. Set cost-based or token-based quotas using metadata filters.'),\n",
       " Document(metadata={'source': 'https://www.truefoundry.com'}, page_content='Orchestrate Agentic AI with AI GatewayEnable intelligent multi-step reasoning, tool usage, and memory with full control and visibility across your AI agents and workflows.AI GatewayManage agent memory, tool orchestration, and action planning through a centralized protocol that supports complex, context-aware workflows.Learn More\\n\\nMCP & Agents RegistryMaintain a structured, discoverable registry of tools and APIs accessible to agents, complete with schema validation and access control.Learn More\\n\\nPrompt Lifecycle ManagementVersion, manage, and monitor prompts to ensure high-quality, repeatable behavior across agents and use cases.Learn More'),\n",
       " Document(metadata={'source': 'https://www.truefoundry.com/ai-gateway'}, page_content='Easily register internal MCP Servers with minimal setup required. Apply OAuth2, RBAC, and metadata policies to every tool call.Read MoreAI Gateway Guardrails\\n\\nSeamlessly enforce your own safety guardrails, including PII filtering and toxicity detection\\n\\nCustomize the AI Gateway with guardrails tailored to your compliance and safety needsRead More'),\n",
       " Document(id='cd792498-d814-4592-bad1-dc5e9c53d635', metadata={'source': 'https://www.truefoundry.com/ai-gateway'}, page_content='Use role-based access control (RBAC) to isolate and manage usage. Govern service accounts and agent workloads at scale through centralized rules.Read MoreEnsuring predictable usage, strong access boundaries, and scalable team-level governance for your GenAI infrastructure.Low-Latency Inference\\xa0Run your most performance-sensitive workloads through a high-speed infrastructure. Achieve sub-3ms internal latency even under enterprise-scale workloads. Scale seamlessly to manage burst traffic and high-throughput workloads. Deliver predictable response times for real-time chat, RAG, and AI assistants. Place deployments close to inference layers to minimize latency and eliminate network lag.Read MorePlace the AI Gateway directly in your production inference path — its low-latency architecture ensures no performance tradeoffs.AI Gateway Routing & FallbacksEnsure reliability, even during model failures, with smart AI Gateway traffic controls. Supports latency-based routing to the fastest available LLM. Distribute traffic intelligently using weighted load balancing for reliability and scale. Automatically fallback to secondary models when a request fails. Use geo-aware routing to meet regional compliance and availability needs.Read MoreThis system ensures you never go offline, even when individual models face downtime or spike in latency.Serve Self-Hosted Models Expose open-source models with full control. Deploy LLaMA, Mistral, Falcon, and more with zero SDK changes. Full compatibility with vLLM, SGLang, KServe, and Triton. Streamline operations with Helm-based management of autoscaling, GPU scheduling, and deployments\\n\\nRun your own models in VPC, hybrid, or air-gapped environments.Read MoreAI Gateway + MCP IntegrationPower secure agent workflows through the AI Gateway’s native MCP support. Connect enterprise tools like Slack, GitHub, Confluence, and Datadog.')]"
      ]
     },
     "execution_count": 127,
     "metadata": {},
     "output_type": "execute_result"
    }
   ],
   "source": [
    "#Perform hybrid search\n",
    "docs = ensemble_retriever.invoke(question)\n",
    "docs"
   ]
  },
  {
   "cell_type": "markdown",
   "id": "1523948a",
   "metadata": {},
   "source": [
    "### Generation"
   ]
  },
  {
   "cell_type": "markdown",
   "id": "2105f394",
   "metadata": {},
   "source": [
    "**We'll use the advanced retrieval based on hybrid search, for our generation.**"
   ]
  },
  {
   "cell_type": "code",
   "execution_count": 128,
   "id": "b6a7889c",
   "metadata": {},
   "outputs": [
    {
     "data": {
      "text/plain": [
       "'What is TrueFoundry all about?'"
      ]
     },
     "execution_count": 128,
     "metadata": {},
     "output_type": "execute_result"
    }
   ],
   "source": [
    "#For reference\n",
    "question"
   ]
  },
  {
   "cell_type": "code",
   "execution_count": 129,
   "id": "9fe70fc0",
   "metadata": {},
   "outputs": [
    {
     "data": {
      "text/plain": [
       "'Portkey and LiteLLM are competitors of TrueFoundry - is that true?'"
      ]
     },
     "execution_count": 129,
     "metadata": {},
     "output_type": "execute_result"
    }
   ],
   "source": [
    "#For reference\n",
    "question_out_of_context"
   ]
  },
  {
   "cell_type": "markdown",
   "id": "eb5cd945",
   "metadata": {},
   "source": [
    "#### Select the Chat Model"
   ]
  },
  {
   "cell_type": "markdown",
   "id": "57baa176",
   "metadata": {},
   "source": [
    "Conceptual Reference - [Chat models](https://python.langchain.com/docs/concepts/chat_models/)"
   ]
  },
  {
   "cell_type": "code",
   "execution_count": 130,
   "id": "a8995b34",
   "metadata": {},
   "outputs": [],
   "source": [
    "from langchain.chat_models import init_chat_model\n",
    "\n",
    "model_name = \"llama-3.1-8b-instant\"\n",
    "llm = init_chat_model(model_name, model_provider=\"groq\") #Other Llama alternatives available are llama3-8b-8192, llama-3.3-70b-versatile"
   ]
  },
  {
   "cell_type": "markdown",
   "id": "84ec06e2",
   "metadata": {},
   "source": [
    "**Question - Can we choose an embedding model that has a different dimension than the chat (generation) model used for RAG?**"
   ]
  },
  {
   "cell_type": "markdown",
   "id": "7f3e30ca",
   "metadata": {},
   "source": [
    "#### Create custom Chat Prompt Template"
   ]
  },
  {
   "cell_type": "code",
   "execution_count": 131,
   "id": "2431c60b",
   "metadata": {},
   "outputs": [
    {
     "data": {
      "text/plain": [
       "ChatPromptTemplate(input_variables=['context', 'question'], input_types={}, partial_variables={}, messages=[HumanMessagePromptTemplate(prompt=PromptTemplate(input_variables=['context', 'question'], input_types={}, partial_variables={}, template='You are given the following information for reference:\\n{context}\\n\\nAnswer the following question:\\nQuestion: {question}\\n'), additional_kwargs={})])"
      ]
     },
     "execution_count": 131,
     "metadata": {},
     "output_type": "execute_result"
    }
   ],
   "source": [
    "from langchain.prompts import ChatPromptTemplate\n",
    "\n",
    "# Prompt\n",
    "template = \"\"\"You are given the following information for reference:\n",
    "{context}\n",
    "\n",
    "Answer the following question:\n",
    "Question: {question}\n",
    "\"\"\"\n",
    "\n",
    "prompt = ChatPromptTemplate.from_template(template)\n",
    "prompt"
   ]
  },
  {
   "cell_type": "code",
   "execution_count": 132,
   "id": "297a12ce",
   "metadata": {},
   "outputs": [],
   "source": [
    "chain = prompt | llm"
   ]
  },
  {
   "cell_type": "code",
   "execution_count": 133,
   "id": "787ddbaa",
   "metadata": {},
   "outputs": [
    {
     "data": {
      "text/markdown": [
       "Based on the provided information, TrueFoundry appears to be a company that provides an AI Gateway platform for secure, high-performance access to Large Language Models (LLMs) and other AI capabilities. The platform offers features such as:\n",
       "\n",
       "* Unified LLM API access to connect to various models and frameworks\n",
       "* Centralized API key management and team authentication\n",
       "* Orchestration of multi-model workloads\n",
       "* Observability and monitoring of AI traffic\n",
       "* Governance and control through quota and access control\n",
       "* Integration with other tools and services through MCP (Multi-Cloud Platform) support\n",
       "\n",
       "TrueFoundry's AI Gateway seems to focus on making it easier for organizations to deploy and manage AI capabilities securely, efficiently, and scalably. The platform aims to provide a single point of access to various AI models and tools, while also offering features for monitoring, governance, and control."
      ],
      "text/plain": [
       "<IPython.core.display.Markdown object>"
      ]
     },
     "metadata": {},
     "output_type": "display_data"
    }
   ],
   "source": [
    "response = chain.invoke({\"context\":docs,\"question\":question})\n",
    "display(Markdown(response.content))"
   ]
  },
  {
   "cell_type": "code",
   "execution_count": 134,
   "id": "90447bb3",
   "metadata": {},
   "outputs": [
    {
     "data": {
      "text/markdown": [
       "Based on the provided information, there is no mention of Portkey or LiteLLM being competitors of TrueFoundry. The information provided only includes content from TrueFoundry's website, discussing their AI Gateway and its features, but does not mention any competitors."
      ],
      "text/plain": [
       "<IPython.core.display.Markdown object>"
      ]
     },
     "metadata": {},
     "output_type": "display_data"
    }
   ],
   "source": [
    "response = chain.invoke({\"context\":docs,\"question\":question_out_of_context})\n",
    "display(Markdown(response.content))"
   ]
  },
  {
   "cell_type": "markdown",
   "id": "0e6aca50",
   "metadata": {},
   "source": [
    "#### Pull Chat Prompt Template from the Hub"
   ]
  },
  {
   "cell_type": "code",
   "execution_count": 135,
   "id": "85a6dc7b",
   "metadata": {},
   "outputs": [
    {
     "data": {
      "text/plain": [
       "ChatPromptTemplate(input_variables=['context', 'question'], input_types={}, partial_variables={}, metadata={'lc_hub_owner': 'rlm', 'lc_hub_repo': 'rag-prompt', 'lc_hub_commit_hash': '50442af133e61576e74536c6556cefe1fac147cad032f4377b60c436e6cdcb6e'}, messages=[HumanMessagePromptTemplate(prompt=PromptTemplate(input_variables=['context', 'question'], input_types={}, partial_variables={}, template=\"You are an assistant for question-answering tasks. Use the following pieces of retrieved context to answer the question. If you don't know the answer, just say that you don't know. Use three sentences maximum and keep the answer concise.\\nQuestion: {question} \\nContext: {context} \\nAnswer:\"), additional_kwargs={})])"
      ]
     },
     "execution_count": 135,
     "metadata": {},
     "output_type": "execute_result"
    }
   ],
   "source": [
    "from langchain import hub\n",
    "prompt_hub_rag = hub.pull(\"rlm/rag-prompt\")\n",
    "prompt_hub_rag"
   ]
  },
  {
   "cell_type": "markdown",
   "id": "8b5745a1",
   "metadata": {},
   "source": [
    "**Notice the prompt! This is how a good prompt should look like.** It explicity states to say *I don't know* if context is missing, which is a best practice."
   ]
  },
  {
   "cell_type": "code",
   "execution_count": 136,
   "id": "49508d21",
   "metadata": {},
   "outputs": [],
   "source": [
    "chain = prompt_hub_rag | llm"
   ]
  },
  {
   "cell_type": "code",
   "execution_count": 137,
   "id": "cb251f7c",
   "metadata": {},
   "outputs": [
    {
     "data": {
      "text/markdown": [
       "TrueFoundry is an AI Gateway that provides a unified interface for accessing large language models (LLMs), simplifying the deployment of generative AI (GenAI) stacks. It offers features such as secure deployment, observability, and orchestration, allowing users to centralize API key management, team authentication, and multi-model workloads. The AI Gateway also provides low-latency inference, routing and fallbacks, and integration with enterprise tools."
      ],
      "text/plain": [
       "<IPython.core.display.Markdown object>"
      ]
     },
     "metadata": {},
     "output_type": "display_data"
    }
   ],
   "source": [
    "response = chain.invoke({\"context\":docs,\"question\":question})\n",
    "display(Markdown(response.content))"
   ]
  },
  {
   "cell_type": "code",
   "execution_count": 138,
   "id": "d198386a",
   "metadata": {},
   "outputs": [
    {
     "data": {
      "text/markdown": [
       "I don't have information that Portkey and LiteLLM are competitors of TrueFoundry in the provided context."
      ],
      "text/plain": [
       "<IPython.core.display.Markdown object>"
      ]
     },
     "metadata": {},
     "output_type": "display_data"
    }
   ],
   "source": [
    "response = chain.invoke({\"context\":docs,\"question\":question_out_of_context})\n",
    "display(Markdown(response.content))"
   ]
  },
  {
   "cell_type": "markdown",
   "id": "649bb761",
   "metadata": {},
   "source": [
    "#### Pull Chat Prompt Template from the Hub (and use LCEL!) - Recommended"
   ]
  },
  {
   "cell_type": "markdown",
   "id": "714b523e",
   "metadata": {},
   "source": [
    "Reference - [RAG chains](https://python.langchain.com/docs/how_to/sequence/)"
   ]
  },
  {
   "cell_type": "code",
   "execution_count": 139,
   "id": "53cb1059",
   "metadata": {},
   "outputs": [
    {
     "name": "stdout",
     "output_type": "stream",
     "text": [
      "Based on the provided information, TrueFoundry appears to be a company that offers an AI Gateway platform for secure, high-performance access to large language models (LLMs). The platform provides a unified API for integrating various LLMs, including OpenAI, Claude, Gemini, Groq, Mistral, and 250+ others.\n",
      "\n",
      "TrueFoundry's AI Gateway platform seems to focus on the following key aspects:\n",
      "\n",
      "1. **Security**: It provides a secure deployment environment, including VPC, on-prem, and air-gapped options, to ensure the confidentiality and integrity of AI workloads.\n",
      "2. **Governance**: The platform offers quota and access control features to enforce governance, control costs, and reduce risk.\n",
      "3. **Observability**: It provides insights into token usage, latency, error rates, and request volumes to ensure compliance and simplify debugging.\n",
      "4. **Orchestration**: TrueFoundry's AI Gateway enables the orchestration of multi-model workloads, including intelligent multi-step reasoning, tool usage, and memory management.\n",
      "5. **Integration**: The platform supports the integration of various enterprise tools, such as Slack, GitHub, Confluence, and Datadog, with AI agents and workflows.\n",
      "6. **Customization**: TrueFoundry's AI Gateway allows for customization, including the application of safety guardrails, such as PII filtering and toxicity detection.\n",
      "\n",
      "Overall, TrueFoundry's AI Gateway platform seems to be designed to provide a secure, scalable, and customizable solution for enterprise customers to deploy, manage, and govern AI workloads.\n"
     ]
    }
   ],
   "source": [
    "# USE LCEL! (Recommended)\n",
    "from langchain_core.output_parsers import StrOutputParser\n",
    "from langchain_core.runnables import RunnablePassthrough\n",
    "\n",
    "rag_chain = (\n",
    "    {\"context\": ensemble_retriever, \"question\": RunnablePassthrough()}\n",
    "    | prompt\n",
    "    | llm\n",
    "    | StrOutputParser()\n",
    ")\n",
    "\n",
    "response = rag_chain.invoke(question)\n",
    "print(response)"
   ]
  },
  {
   "cell_type": "code",
   "execution_count": 140,
   "id": "8a84b2ac",
   "metadata": {},
   "outputs": [
    {
     "data": {
      "text/plain": [
       "langchain_core.runnables.base.RunnableSequence"
      ]
     },
     "execution_count": 140,
     "metadata": {},
     "output_type": "execute_result"
    }
   ],
   "source": [
    "#What is the type?\n",
    "type(rag_chain)"
   ]
  }
 ],
 "metadata": {
  "kernelspec": {
   "display_name": "Python 3 (ipykernel)",
   "language": "python",
   "name": "python3"
  },
  "language_info": {
   "codemirror_mode": {
    "name": "ipython",
    "version": 3
   },
   "file_extension": ".py",
   "mimetype": "text/x-python",
   "name": "python",
   "nbconvert_exporter": "python",
   "pygments_lexer": "ipython3",
   "version": "3.12.11"
  },
  "varInspector": {
   "cols": {
    "lenName": 16,
    "lenType": 16,
    "lenVar": 40
   },
   "kernels_config": {
    "python": {
     "delete_cmd_postfix": "",
     "delete_cmd_prefix": "del ",
     "library": "var_list.py",
     "varRefreshCmd": "print(var_dic_list())"
    },
    "r": {
     "delete_cmd_postfix": ") ",
     "delete_cmd_prefix": "rm(",
     "library": "var_list.r",
     "varRefreshCmd": "cat(var_dic_list()) "
    }
   },
   "types_to_exclude": [
    "module",
    "function",
    "builtin_function_or_method",
    "instance",
    "_Feature"
   ],
   "window_display": false
  }
 },
 "nbformat": 4,
 "nbformat_minor": 5
}
