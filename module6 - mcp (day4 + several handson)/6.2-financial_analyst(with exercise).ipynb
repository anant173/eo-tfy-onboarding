{
 "cells": [
  {
   "cell_type": "markdown",
   "metadata": {},
   "source": [
    "# Building a Financial Analyst"
   ]
  },
  {
   "cell_type": "markdown",
   "metadata": {},
   "source": [
    "## Setup"
   ]
  },
  {
   "cell_type": "markdown",
   "metadata": {},
   "source": [
    "### Install Packages"
   ]
  },
  {
   "cell_type": "code",
   "execution_count": 18,
   "metadata": {},
   "outputs": [],
   "source": [
    "# !uv pip install yfinance crewai crewai-tools"
   ]
  },
  {
   "cell_type": "code",
   "execution_count": 19,
   "metadata": {},
   "outputs": [],
   "source": [
    "#Need to install Docker also\n",
    "#Check with docker --version on terminal/command line to check if Docker is installed\n",
    "# export PATH=\"$PATH:/Applications/Docker.app/Contents/Resources/bin/\""
   ]
  },
  {
   "cell_type": "markdown",
   "metadata": {},
   "source": [
    "### API Keys"
   ]
  },
  {
   "cell_type": "code",
   "execution_count": 20,
   "metadata": {},
   "outputs": [
    {
     "data": {
      "text/plain": [
       "True"
      ]
     },
     "execution_count": 20,
     "metadata": {},
     "output_type": "execute_result"
    }
   ],
   "source": [
    "import os, json, re, getpass\n",
    "from dotenv import load_dotenv\n",
    "\n",
    "load_dotenv(override=True)"
   ]
  },
  {
   "cell_type": "code",
   "execution_count": 21,
   "metadata": {},
   "outputs": [],
   "source": [
    "def _set_env(var: str):\n",
    "    if not os.environ.get(var):\n",
    "        os.environ[var] = getpass.getpass(f\"{var}: \")"
   ]
  },
  {
   "cell_type": "code",
   "execution_count": 22,
   "metadata": {},
   "outputs": [],
   "source": [
    "#Check for Groq API Key\n",
    "_set_env(\"GROQ_API_KEY\")"
   ]
  },
  {
   "cell_type": "markdown",
   "metadata": {},
   "source": [
    "### Libraries"
   ]
  },
  {
   "cell_type": "code",
   "execution_count": 23,
   "metadata": {},
   "outputs": [],
   "source": [
    "import warnings\n",
    "warnings.filterwarnings(\"ignore\")"
   ]
  },
  {
   "cell_type": "code",
   "execution_count": 2,
   "metadata": {},
   "outputs": [],
   "source": [
    "import re\n",
    "import json\n",
    "import os\n",
    "import yfinance as yf\n",
    "from crewai import Agent, Task, Crew, Process, LLM\n",
    "from crewai_tools import CodeInterpreterTool, FileReadTool\n",
    "from pydantic import BaseModel, Field"
   ]
  },
  {
   "cell_type": "markdown",
   "metadata": {},
   "source": [
    "## Selecting Components"
   ]
  },
  {
   "cell_type": "markdown",
   "metadata": {},
   "source": [
    "### Chat Model"
   ]
  },
  {
   "cell_type": "code",
   "execution_count": 71,
   "metadata": {},
   "outputs": [],
   "source": [
    "llm = LLM(\n",
    "    model=\"groq/llama-3.1-8b-instant\",\n",
    "    # temperature=0.5,\n",
    "    # max_completion_tokens=1024,\n",
    "    # top_p=0.9,\n",
    "    # stop=None,\n",
    "    # stream=False,\n",
    ")"
   ]
  },
  {
   "cell_type": "markdown",
   "metadata": {},
   "source": [
    "### Structured Output for Query Analysis"
   ]
  },
  {
   "cell_type": "markdown",
   "metadata": {},
   "source": [
    "**NOTE:**: When defining state in LangGraph, you have two primary options: **TypedDict** and **Pydantic BaseModel**. The best choice depends on your specific needs:\n",
    "\n",
    "**TypedDict** is a good fit if you're looking for a *lightweight solution without strict runtime type enforcement*. It's simple to use and ideal for smaller applications where the overhead of a more robust system isn't necessary.\n",
    "\n",
    "For *greater robustness and early error detection*, especially in larger or more complex applications, **Pydantic BaseModel** is the superior choice. Pydantic provides powerful data validation and parsing, catching type-related errors early in the development process and improving the overall reliability of your application."
   ]
  },
  {
   "cell_type": "code",
   "execution_count": 72,
   "metadata": {},
   "outputs": [],
   "source": [
    "## TODO: 3 fields - stock ticker symbol, timeframe and action (variable names should be symbol, timeframe, action)\n",
    "class QueryAnalysisOutput(BaseModel):\n",
    "    \"\"\"Structured output for the query analysis task.\"\"\""
   ]
  },
  {
   "cell_type": "markdown",
   "metadata": {},
   "source": [
    "## Setting up Crew of Agents"
   ]
  },
  {
   "cell_type": "markdown",
   "metadata": {},
   "source": [
    "In CrewAI, you define **agents** as independent workers, each with a specific job and objective. You then assign them **tasks**, which are detailed instructions on what they need to do to reach that objective. You can also assign **tools** directly as tasks for agents to use."
   ]
  },
  {
   "cell_type": "markdown",
   "metadata": {},
   "source": [
    "**Let's first create our CrewAI agents with role, main goal/objective, and backstory/personality.**"
   ]
  },
  {
   "cell_type": "markdown",
   "metadata": {},
   "source": [
    "### Query Parser Agent"
   ]
  },
  {
   "cell_type": "markdown",
   "metadata": {},
   "source": [
    "Agent is a financial analyst specializing in stock market data retrieval. The agent will extract stock details and fetch required data from user query."
   ]
  },
  {
   "cell_type": "code",
   "execution_count": 4,
   "metadata": {},
   "outputs": [],
   "source": [
    "## TODO\n",
    "query_parser_agent = "
   ]
  },
  {
   "cell_type": "markdown",
   "metadata": {},
   "source": [
    "### Code Writer Agent"
   ]
  },
  {
   "cell_type": "markdown",
   "metadata": {},
   "source": [
    "Agent is a Senior Python Developer whose goal is to write Python code to visualize stock data. It is a Pandas, Matlotlib and yfinance library expert as well as skilled at writing production-ready Python code. "
   ]
  },
  {
   "cell_type": "code",
   "execution_count": 74,
   "metadata": {},
   "outputs": [],
   "source": [
    "## TODO\n",
    "code_writer_agent = "
   ]
  },
  {
   "cell_type": "markdown",
   "metadata": {},
   "source": [
    "### Code Interpreter Agent"
   ]
  },
  {
   "cell_type": "markdown",
   "metadata": {},
   "source": [
    "**Note:** By default, the Code Interpreter Tool is prompted by CrewAI to run on Docker to safeguard against any usnafe action that the code can take, since it'll run in a container (i.e., `code_interpreter_tool = CodeInterpreterTool()`  or `allow_code_execution=True`).\n",
    "\n",
    "To bypass this, we can set `code_interpreter_tool = CodeInterpreterTool(unsafe_mode=True)` and use this only when defining the agent (not `allow_code_execution=True`) "
   ]
  },
  {
   "cell_type": "markdown",
   "metadata": {},
   "source": [
    "Agent is a Senior Code Execution expert that reviews and executes the generated Python code by Code Writer agent to visualize stock data."
   ]
  },
  {
   "cell_type": "code",
   "execution_count": 74,
   "metadata": {},
   "outputs": [],
   "source": [
    "## TODO\n",
    "code_interpreter_tool =\n",
    "code_execution_agent = "
   ]
  },
  {
   "cell_type": "markdown",
   "metadata": {},
   "source": [
    "**Now, let's define the agents' tasks.**"
   ]
  },
  {
   "cell_type": "markdown",
   "metadata": {},
   "source": [
    "### Query Parser Agent - Task"
   ]
  },
  {
   "cell_type": "markdown",
   "metadata": {},
   "source": [
    "The task is to analyze user query and extract stock details. Output should be a dictionary with keys: 'symbol', 'timeframe', 'action'."
   ]
  },
  {
   "cell_type": "code",
   "execution_count": 76,
   "metadata": {},
   "outputs": [],
   "source": [
    "## TODO\n",
    "query_parsing_task ="
   ]
  },
  {
   "cell_type": "markdown",
   "metadata": {},
   "source": [
    "### Code Writer Agent - Task"
   ]
  },
  {
   "cell_type": "markdown",
   "metadata": {},
   "source": [
    "The task is to write Python code to visualize stock data based on the inputs from the Stock Analyst where you would find stock symbol, timeframe and action. Output should be a clean and executable Python script file (.py) for stock visualization."
   ]
  },
  {
   "cell_type": "code",
   "execution_count": 77,
   "metadata": {},
   "outputs": [],
   "source": [
    "## TODO\n",
    "code_writer_task = "
   ]
  },
  {
   "cell_type": "markdown",
   "metadata": {},
   "source": [
    "### Code Interpreter Agent - Task"
   ]
  },
  {
   "cell_type": "markdown",
   "metadata": {},
   "source": [
    "The task is to review and execute the generated Python code by code writer agent to visualize stock data. Output should be a clean and executable Python script file (.py) for stock visualization."
   ]
  },
  {
   "cell_type": "code",
   "execution_count": 78,
   "metadata": {},
   "outputs": [],
   "source": [
    "## TODO\n",
    "code_execution_task ="
   ]
  },
  {
   "cell_type": "markdown",
   "metadata": {},
   "source": [
    "**Now, let's create crew to manage agents and task workflow.**"
   ]
  },
  {
   "cell_type": "code",
   "execution_count": 79,
   "metadata": {},
   "outputs": [],
   "source": [
    "## TODO\n",
    "crew ="
   ]
  },
  {
   "cell_type": "code",
   "execution_count": 3,
   "metadata": {},
   "outputs": [],
   "source": [
    "# Run the crew with an example query\n",
    "result = crew.kickoff(inputs={\"query\": \"Plot YTD stock gain of Tesla\"})"
   ]
  },
  {
   "cell_type": "code",
   "execution_count": 4,
   "metadata": {},
   "outputs": [],
   "source": [
    "#Print result - YOUR RESULT\n",
    "print(result.raw)"
   ]
  },
  {
   "cell_type": "code",
   "execution_count": 82,
   "metadata": {},
   "outputs": [
    {
     "name": "stdout",
     "output_type": "stream",
     "text": [
      "```\n",
      "# Import necessary libraries\n",
      "import yfinance as yf\n",
      "import pandas as pd\n",
      "import matplotlib.pyplot as plt\n",
      "\n",
      "# Define the function to visualize stock data\n",
      "def visualize_stock_data(symbol, timeframe, action):\n",
      "    \"\"\"\n",
      "    Visualize stock data based on the symbol, timeframe, and action.\n",
      "\n",
      "    Parameters:\n",
      "    symbol (str): The stock symbol to visualize.\n",
      "    timeframe (str): The timeframe for the data, such as \"YTD\" for year to date or \"1d\" for one day.\n",
      "    action (str): The action to perform, such as \"stock gain\" for visualizing stock gain.\n",
      "\n",
      "    Returns:\n",
      "    None\n",
      "    \"\"\"\n",
      "    # Download the stock data for the specified symbol and timeframe\n",
      "    ticker_data = yf.Ticker(symbol)\n",
      "    history = ticker_data.history(period=timeframe)\n",
      "\n",
      "    # Determine the plot title based on the action and timeframe\n",
      "    if action == \"stock gain\":\n",
      "        plot_title = f\"{symbol} Stock Gain Over {timeframe.capitalize()}\"\n",
      "    else:\n",
      "        plot_title = f\"{symbol} Stock Performance Over {timeframe.capitalize()}\"\n",
      "\n",
      "    # Create a figure and axis object\n",
      "    fig, ax = plt.subplots(figsize=(12, 6))\n",
      "\n",
      "    # Plot the stock data\n",
      "    ax.plot(history.index, history['Close'], label=\"Closing Price\")\n",
      "    ax.plot(history.index, history['Volume'], label=\"Trading Volume\")\n",
      "    ax.set_title(plot_title)\n",
      "    ax.set_xlabel(\"Date\")\n",
      "    ax.set_ylabel(\"Price ($)\")\n",
      "    ax.legend(loc=\"upper left\")\n",
      "\n",
      "    # Show the plot\n",
      "    plt.show()\n",
      "\n",
      "# Main script\n",
      "if __name__ == \"__main__\":\n",
      "    # Define the input parameters\n",
      "    input_data = {\n",
      "        \"symbol\": \"Tesla\",\n",
      "        \"timeframe\": \"YTD\",\n",
      "        \"action\": \"stock gain\"\n",
      "    }\n",
      "\n",
      "    # Call the function to visualize the stock data\n",
      "    visualize_stock_data(input_data[\"symbol\"], input_data[\"timeframe\"], input_data[\"action\"])\n",
      "```\n"
     ]
    }
   ],
   "source": [
    "#Print result - SAMPLE RESULT\n",
    "print(result.raw)"
   ]
  }
 ],
 "metadata": {
  "colab": {
   "provenance": []
  },
  "kernelspec": {
   "display_name": "Python 3 (ipykernel)",
   "language": "python",
   "name": "python3"
  },
  "language_info": {
   "codemirror_mode": {
    "name": "ipython",
    "version": 3
   },
   "file_extension": ".py",
   "mimetype": "text/x-python",
   "name": "python",
   "nbconvert_exporter": "python",
   "pygments_lexer": "ipython3",
   "version": "3.12.0"
  }
 },
 "nbformat": 4,
 "nbformat_minor": 4
}
