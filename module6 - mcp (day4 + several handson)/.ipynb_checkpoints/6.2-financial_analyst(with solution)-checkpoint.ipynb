{
 "cells": [
  {
   "cell_type": "markdown",
   "metadata": {},
   "source": [
    "# Building a Financial Analyst"
   ]
  },
  {
   "cell_type": "markdown",
   "metadata": {},
   "source": [
    "## Setup"
   ]
  },
  {
   "cell_type": "markdown",
   "metadata": {},
   "source": [
    "### Install Packages"
   ]
  },
  {
   "cell_type": "code",
   "execution_count": 1,
   "metadata": {},
   "outputs": [],
   "source": [
    "#Need to install Docker also\n",
    "#Check with docker --version on terminal/command line to check if Docker is installed\n",
    "# export PATH=\"$PATH:/Applications/Docker.app/Contents/Resources/bin/\""
   ]
  },
  {
   "cell_type": "markdown",
   "metadata": {},
   "source": [
    "Resolve this issue in CrewAI before proceeding: https://github.com/crewAIInc/crewAI/issues/2606"
   ]
  },
  {
   "cell_type": "markdown",
   "metadata": {},
   "source": [
    "### API Keys"
   ]
  },
  {
   "cell_type": "code",
   "execution_count": 2,
   "metadata": {},
   "outputs": [
    {
     "data": {
      "text/plain": [
       "True"
      ]
     },
     "execution_count": 2,
     "metadata": {},
     "output_type": "execute_result"
    }
   ],
   "source": [
    "import os, json, re, getpass\n",
    "from dotenv import load_dotenv\n",
    "\n",
    "load_dotenv(override=True)"
   ]
  },
  {
   "cell_type": "code",
   "execution_count": 3,
   "metadata": {},
   "outputs": [],
   "source": [
    "def _set_env(var: str):\n",
    "    if not os.environ.get(var):\n",
    "        os.environ[var] = getpass.getpass(f\"{var}: \")"
   ]
  },
  {
   "cell_type": "code",
   "execution_count": 4,
   "metadata": {},
   "outputs": [],
   "source": [
    "#Check for Groq API Key\n",
    "_set_env(\"GROQ_API_KEY\")"
   ]
  },
  {
   "cell_type": "markdown",
   "metadata": {},
   "source": [
    "### Libraries"
   ]
  },
  {
   "cell_type": "code",
   "execution_count": 5,
   "metadata": {},
   "outputs": [],
   "source": [
    "import warnings\n",
    "warnings.filterwarnings(\"ignore\")"
   ]
  },
  {
   "cell_type": "code",
   "execution_count": 14,
   "metadata": {},
   "outputs": [],
   "source": [
    "import re\n",
    "import json\n",
    "import os\n",
    "import yfinance as yf\n",
    "from crewai import Agent, Task, Crew, Process, LLM\n",
    "# from crewai_tools import CodeInterpreterTool, FileReadTool\n",
    "from pydantic import BaseModel, Field\n",
    "from IPython.display import display, Markdown"
   ]
  },
  {
   "cell_type": "markdown",
   "metadata": {},
   "source": [
    "## Selecting Components"
   ]
  },
  {
   "cell_type": "markdown",
   "metadata": {},
   "source": [
    "### Chat Model"
   ]
  },
  {
   "cell_type": "code",
   "execution_count": 15,
   "metadata": {},
   "outputs": [],
   "source": [
    "llm = LLM(\n",
    "    # model=\"groq/llama-3.1-8b-instant\",\n",
    "    model=\"openai/gpt-4o-mini\",\n",
    "    # temperature=0.5,\n",
    "    # max_completion_tokens=1024,\n",
    "    # top_p=0.9,\n",
    "    # stop=None,\n",
    "    # stream=False,\n",
    ")"
   ]
  },
  {
   "cell_type": "markdown",
   "metadata": {},
   "source": [
    "### Structured Output for Query Analysis"
   ]
  },
  {
   "cell_type": "markdown",
   "metadata": {},
   "source": [
    "**NOTE:**: When defining state in LangGraph, you have two primary options: **TypedDict** and **Pydantic BaseModel**. The best choice depends on your specific needs:\n",
    "\n",
    "**TypedDict** is a good fit if you're looking for a *lightweight solution without strict runtime type enforcement*. It's simple to use and ideal for smaller applications where the overhead of a more robust system isn't necessary.\n",
    "\n",
    "For *greater robustness and early error detection*, especially in larger or more complex applications, **Pydantic BaseModel** is the superior choice. Pydantic provides powerful data validation and parsing, catching type-related errors early in the development process and improving the overall reliability of your application."
   ]
  },
  {
   "cell_type": "code",
   "execution_count": 16,
   "metadata": {},
   "outputs": [],
   "source": [
    "class QueryAnalysisOutput(BaseModel):\n",
    "    \"\"\"Structured output for the query analysis task.\"\"\"\n",
    "    symbol: str = Field(..., description=\"Stock ticker symbol (e.g., TSLA, AAPL).\")\n",
    "    timeframe: str = Field(..., description=\"Time period (e.g., '1d', '1mo', '1y').\")\n",
    "    action: str = Field(..., description=\"Action to be performed (e.g., 'fetch', 'plot').\")"
   ]
  },
  {
   "cell_type": "markdown",
   "metadata": {},
   "source": [
    "## Setting up Crew of Agents"
   ]
  },
  {
   "cell_type": "markdown",
   "metadata": {},
   "source": [
    "In CrewAI, you define **agents** as independent workers, each with a specific job and objective. You then assign them **tasks**, which are detailed instructions on what they need to do to reach that objective. You can also assign **tools** directly as tasks for agents to use."
   ]
  },
  {
   "cell_type": "markdown",
   "metadata": {},
   "source": [
    "**Let's first create our CrewAI agents with role, main goal/objective, and backstory/personality.**"
   ]
  },
  {
   "cell_type": "markdown",
   "metadata": {},
   "source": [
    "### Query Parser Agent"
   ]
  },
  {
   "cell_type": "code",
   "execution_count": 17,
   "metadata": {},
   "outputs": [],
   "source": [
    "query_parser_agent = Agent(\n",
    "    role=\"Stock Data Analyst\",\n",
    "    goal=\"Extract stock details and fetch required data from this user query: {query}.\",\n",
    "    backstory=\"You are a financial analyst specializing in stock market data retrieval.\",\n",
    "    llm=llm,\n",
    "    verbose=True,\n",
    "    memory=True,\n",
    ")"
   ]
  },
  {
   "cell_type": "markdown",
   "metadata": {},
   "source": [
    "### Code Writer Agent"
   ]
  },
  {
   "cell_type": "code",
   "execution_count": 18,
   "metadata": {},
   "outputs": [],
   "source": [
    "code_writer_agent = Agent(\n",
    "    role=\"Senior Python Developer\",\n",
    "    goal=\"Write Python code to visualize stock data.\",\n",
    "    backstory=\"\"\"You are a Senior Python developer specializing in stock market data visualization. \n",
    "                 You are also a Pandas, Matplotlib and yfinance library expert.\n",
    "                 You are skilled at writing production-ready Python code\"\"\",\n",
    "    llm=llm,\n",
    "    verbose=True,\n",
    ")"
   ]
  },
  {
   "cell_type": "markdown",
   "metadata": {},
   "source": [
    "### Code Interpreter Agent"
   ]
  },
  {
   "cell_type": "markdown",
   "metadata": {},
   "source": [
    "**Note:** By default, the Code Interpreter Tool is prompted by CrewAI to run on Docker to safeguard against any usnafe action that the code can take, since it'll run in a container (i.e., `code_interpreter_tool = CodeInterpreterTool()`  or `allow_code_execution=True`).\n",
    "\n",
    "To bypass this, we can set `code_interpreter_tool = CodeInterpreterTool(unsafe_mode=True)` and use this only when defining the agent (not `allow_code_execution=True`) "
   ]
  },
  {
   "cell_type": "code",
   "execution_count": 19,
   "metadata": {},
   "outputs": [],
   "source": [
    "# code_interpreter_tool = CodeInterpreterTool(unsafe_mode=True)\n",
    "\n",
    "code_execution_agent = Agent(\n",
    "    role=\"Senior Code Execution Expert\",\n",
    "    goal=\"Review and execute the generated Python code by code writer agent to visualize stock data.\",\n",
    "    backstory=\"You are a code execution expert. You are skilled at executing Python code.\",\n",
    "    # tools=[code_interpreter_tool],\n",
    "    allow_code_execution=True,   # This automatically adds the CodeInterpreterTool\n",
    "    llm=llm,\n",
    "    verbose=True,\n",
    ")"
   ]
  },
  {
   "cell_type": "markdown",
   "metadata": {},
   "source": [
    "**Now, let's define the agents' tasks.**"
   ]
  },
  {
   "cell_type": "markdown",
   "metadata": {},
   "source": [
    "### Query Parser Agent - Task"
   ]
  },
  {
   "cell_type": "code",
   "execution_count": 20,
   "metadata": {},
   "outputs": [],
   "source": [
    "query_parsing_task = Task(\n",
    "    description=\"Analyze the user query and extract stock details.\",\n",
    "    expected_output=\"A dictionary with keys: 'symbol', 'timeframe', 'action'.\",\n",
    "    output_pydantic=QueryAnalysisOutput,\n",
    "    agent=query_parser_agent,\n",
    ")"
   ]
  },
  {
   "cell_type": "markdown",
   "metadata": {},
   "source": [
    "### Code Writer Agent - Task"
   ]
  },
  {
   "cell_type": "code",
   "execution_count": 21,
   "metadata": {},
   "outputs": [],
   "source": [
    "code_writer_task = Task(\n",
    "    description=\"\"\"Write Python code to visualize stock data based on the inputs from the stock analyst\n",
    "                   where you would find stock symbol, timeframe and action.\"\"\",\n",
    "    expected_output=\"A clean and executable Python script file (.py) for stock visualization.\",\n",
    "    agent=code_writer_agent,\n",
    ")"
   ]
  },
  {
   "cell_type": "markdown",
   "metadata": {},
   "source": [
    "### Code Interpreter Agent - Task"
   ]
  },
  {
   "cell_type": "code",
   "execution_count": 22,
   "metadata": {},
   "outputs": [],
   "source": [
    "code_execution_task = Task(\n",
    "    description=\"\"\"Review and execute the generated Python code by code writer agent to visualize stock data.\"\"\",\n",
    "    expected_output=\"A clean and executable Python script file (.py) for stock visualization.\",\n",
    "    agent=code_execution_agent,\n",
    ")"
   ]
  },
  {
   "cell_type": "markdown",
   "metadata": {},
   "source": [
    "**Now, let's create crew to manage agents and task workflow.**"
   ]
  },
  {
   "cell_type": "code",
   "execution_count": 23,
   "metadata": {},
   "outputs": [],
   "source": [
    "crew = Crew(\n",
    "    agents=[query_parser_agent, code_writer_agent, code_execution_agent],\n",
    "    tasks=[query_parsing_task, code_writer_task, code_execution_task],\n",
    "    process=Process.sequential\n",
    ")"
   ]
  },
  {
   "cell_type": "code",
   "execution_count": 27,
   "metadata": {},
   "outputs": [],
   "source": [
    "# Run the crew with an example query\n",
    "result = crew.kickoff(inputs={\"query\": \"Plot YTD stock gain of Tesla\"})"
   ]
  },
  {
   "cell_type": "code",
   "execution_count": null,
   "metadata": {},
   "outputs": [],
   "source": [
    "#Print result\n",
    "print(result.raw)"
   ]
  }
 ],
 "metadata": {
  "colab": {
   "provenance": []
  },
  "kernelspec": {
   "display_name": "Python 3 (ipykernel)",
   "language": "python",
   "name": "python3"
  },
  "language_info": {
   "codemirror_mode": {
    "name": "ipython",
    "version": 3
   },
   "file_extension": ".py",
   "mimetype": "text/x-python",
   "name": "python",
   "nbconvert_exporter": "python",
   "pygments_lexer": "ipython3",
   "version": "3.12.11"
  }
 },
 "nbformat": 4,
 "nbformat_minor": 4
}
