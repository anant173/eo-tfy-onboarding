{
 "cells": [
  {
   "cell_type": "markdown",
   "metadata": {},
   "source": [
    "# Solution - Travel Planner Agent"
   ]
  },
  {
   "cell_type": "markdown",
   "metadata": {},
   "source": [
    "## Problem Statement"
   ]
  },
  {
   "cell_type": "markdown",
   "metadata": {},
   "source": [
    "Refer to the Agentic Flow schematic in this same folder."
   ]
  },
  {
   "cell_type": "markdown",
   "metadata": {},
   "source": [
    "**Important Note**: Here is a common point of failure and gap in understanding, about how we can get a tool-calling agent to structure its output. Note 2 ways in which this commonly possible [here](https://langchain-ai.github.io/langgraph/how-tos/react-agent-structured-output/)."
   ]
  },
  {
   "cell_type": "markdown",
   "metadata": {},
   "source": [
    "## Initial Setup"
   ]
  },
  {
   "cell_type": "code",
   "execution_count": 1,
   "metadata": {},
   "outputs": [
    {
     "data": {
      "text/plain": [
       "True"
      ]
     },
     "execution_count": 1,
     "metadata": {},
     "output_type": "execute_result"
    }
   ],
   "source": [
    "import os, getpass\n",
    "from dotenv import load_dotenv \n",
    "load_dotenv(override=True)"
   ]
  },
  {
   "cell_type": "code",
   "execution_count": 2,
   "metadata": {},
   "outputs": [],
   "source": [
    "from IPython.display import Image, display\n",
    "from typing import TypedDict, Annotated, Optional, List, Literal, Dict\n",
    "from langgraph.graph import StateGraph, START, END, MessagesState\n",
    "from langgraph.prebuilt import ToolNode\n",
    "from langgraph.prebuilt import tools_condition\n",
    "from langchain_core.messages import AnyMessage, AIMessage, HumanMessage, ToolMessage\n",
    "from langchain_core.output_parsers import StrOutputParser, JsonOutputParser\n",
    "from langchain.prompts import PromptTemplate\n",
    "from langgraph.prebuilt import create_react_agent\n",
    "from langgraph.graph.message import add_messages\n",
    "from pydantic import BaseModel, Field\n",
    "from langchain.schema.output_parser import OutputParserException\n",
    "from warnings import filterwarnings\n",
    "import gradio as gr"
   ]
  },
  {
   "cell_type": "code",
   "execution_count": 3,
   "metadata": {},
   "outputs": [],
   "source": [
    "filterwarnings(\"ignore\")"
   ]
  },
  {
   "cell_type": "code",
   "execution_count": 4,
   "metadata": {},
   "outputs": [],
   "source": [
    "#Check for OpenAI API Key\n",
    "if \"OPENAI_API_KEY\" not in os.environ:\n",
    "    os.environ[\"OPENAI_API_KEY\"] = getpass.getpass(\"OPENAI API Key: \")\n",
    "\n",
    "#Check for Openweathermap API Key\n",
    "if \"OPENWEATHERMAP_API_KEY\" not in os.environ:\n",
    "    os.environ[\"OPENWEATHERMAP_API_KEY\"] = getpass.getpass(\"OPENWEATHERMAP API Key: \")\n",
    "\n",
    "#Check for SERPAPI API Key\n",
    "if \"SERPAPI_API_KEY\" not in os.environ:\n",
    "    os.environ[\"SERPAPI_API_KEY\"] = getpass.getpass(\"SERPAPI API Key: \")"
   ]
  },
  {
   "cell_type": "code",
   "execution_count": 5,
   "metadata": {},
   "outputs": [],
   "source": [
    "#Question\n",
    "example_prompt = \"Plan a 3-day vacation from Mumbai to a peaceful international destination this week.\" "
   ]
  },
  {
   "cell_type": "markdown",
   "metadata": {},
   "source": [
    "## Initialize"
   ]
  },
  {
   "cell_type": "markdown",
   "metadata": {},
   "source": [
    "### Chat Model"
   ]
  },
  {
   "cell_type": "code",
   "execution_count": 6,
   "metadata": {},
   "outputs": [],
   "source": [
    "from langchain.chat_models import init_chat_model\n",
    "\n",
    "model_name = \"gpt-4o-mini\"\n",
    "llm = init_chat_model(model_name, model_provider=\"openai\")"
   ]
  },
  {
   "cell_type": "markdown",
   "metadata": {},
   "source": [
    "### Tools"
   ]
  },
  {
   "cell_type": "code",
   "execution_count": 7,
   "metadata": {},
   "outputs": [],
   "source": [
    "## Needed to install for OpenWeatherMapAPI\n",
    "# !uv pip install pyowm"
   ]
  },
  {
   "cell_type": "code",
   "execution_count": 8,
   "metadata": {},
   "outputs": [],
   "source": [
    "#Weather API Tool\n",
    "from langchain_community.utilities import OpenWeatherMapAPIWrapper\n",
    "weather = OpenWeatherMapAPIWrapper()\n",
    "\n",
    "weather_tool = [weather.run]"
   ]
  },
  {
   "cell_type": "markdown",
   "metadata": {},
   "source": [
    "## Defining Components of the Graph"
   ]
  },
  {
   "cell_type": "markdown",
   "metadata": {},
   "source": [
    "### LLMs"
   ]
  },
  {
   "cell_type": "markdown",
   "metadata": {},
   "source": [
    "#### Destination Recommender LLM"
   ]
  },
  {
   "cell_type": "code",
   "execution_count": 11,
   "metadata": {},
   "outputs": [],
   "source": [
    "# Data model\n",
    "class GetDestinations(BaseModel):\n",
    "    \"\"\"Suggest upto a maximum of 4 destinations\"\"\"\n",
    "\n",
    "    destinations: List[str] = Field(\n",
    "        description=\"List of names of the destination, in the format of city, country, upto a maximum of 4.\"\n",
    "    )\n",
    "\n",
    "    reasoning: List[str] = Field(\n",
    "        description=\"List of reasoning for why each destination was chosen.\" \n",
    "    )"
   ]
  },
  {
   "cell_type": "code",
   "execution_count": 12,
   "metadata": {},
   "outputs": [],
   "source": [
    "# LLM with function call\n",
    "llm_planner_destinations = llm.with_structured_output(GetDestinations)"
   ]
  },
  {
   "cell_type": "code",
   "execution_count": 13,
   "metadata": {},
   "outputs": [],
   "source": [
    "# Planner Prompt\n",
    "destination_planner_prompt = PromptTemplate.from_template(\n",
    "        \"\"\"\n",
    "        You are an expert itinerary planner. Given a user input about their travel preferences, your goal is to generate a set of atmost 4 destinations.\n",
    "\n",
    "        Travel Request:\n",
    "        {travel_request}\n",
    "\n",
    "        \"\"\"\n",
    "    )"
   ]
  },
  {
   "cell_type": "code",
   "execution_count": 14,
   "metadata": {},
   "outputs": [],
   "source": [
    "#Initialize agent\n",
    "agent_planner_destinations = destination_planner_prompt | llm_planner_destinations"
   ]
  },
  {
   "cell_type": "markdown",
   "metadata": {},
   "source": [
    "#### Itinerary Recommender LLM"
   ]
  },
  {
   "cell_type": "code",
   "execution_count": 15,
   "metadata": {},
   "outputs": [],
   "source": [
    "# Data model\n",
    "class GetItineraries(BaseModel):\n",
    "    \"\"\"For each destination, suggest the respective itinerary\"\"\"\n",
    "\n",
    "    itineraries: List[str] = Field(\n",
    "        description=\"For each destination, generate day-wise activities that comprises of the places to visit, food to try and culture to explore.\"\n",
    "    )\n",
    "\n",
    "    reasoning: List[str] = Field(\n",
    "        description=\"List of reasoning for how each itinerary was chosen, against the user's travel request and the suggested destinations.\" \n",
    "    )"
   ]
  },
  {
   "cell_type": "code",
   "execution_count": 16,
   "metadata": {},
   "outputs": [],
   "source": [
    "# LLM with function call\n",
    "llm_planner_itineraries = llm.with_structured_output(GetItineraries)"
   ]
  },
  {
   "cell_type": "code",
   "execution_count": 17,
   "metadata": {},
   "outputs": [],
   "source": [
    "# Prompt\n",
    "itinerary_planner_prompt = PromptTemplate.from_template(\n",
    "        \"\"\"\n",
    "        You are an expert itinerary planner. Given a user input about their travel preferences, and a list of suggested destinations by \n",
    "        another travel planner, your goal is to create a detailed itinerary for each destination.\n",
    "        \n",
    "        Conversation:\n",
    "        {conversation}\n",
    "        \"\"\"\n",
    "    )"
   ]
  },
  {
   "cell_type": "code",
   "execution_count": 18,
   "metadata": {},
   "outputs": [],
   "source": [
    "#Initialize agent\n",
    "agent_planner_itineraries = itinerary_planner_prompt | llm_planner_itineraries"
   ]
  },
  {
   "cell_type": "markdown",
   "metadata": {},
   "source": [
    "#### Weather Check LLM"
   ]
  },
  {
   "cell_type": "code",
   "execution_count": 19,
   "metadata": {},
   "outputs": [],
   "source": [
    "# LLM with function call\n",
    "weather_llm_planner = llm.bind_tools(weather_tool, parallel_tool_calls=True)"
   ]
  },
  {
   "cell_type": "code",
   "execution_count": 20,
   "metadata": {},
   "outputs": [],
   "source": [
    "# Prompt\n",
    "weather_check_prompt = PromptTemplate.from_template(\n",
    "        \"\"\"\n",
    "        You are an expert itinerary planner. Given a list of suggested destinations, your job is to check weather for each destination\n",
    "        so as to filter out the ones with unpleasant weather.\n",
    "\n",
    "         Use the following rules:\n",
    "        1. If reliable weather information is already provided in the conversation, use it directly. **Do not call the weather API** for that destination.\n",
    "        2. If weather information is missing or unclear, **then and only then call the weather API**.\n",
    "    \n",
    "        Conversation:\n",
    "        {conversation}\n",
    "    \n",
    "        Give filtered destinations (only pleasant weather ones) as a comma-separated list of city-country names.\n",
    "        Say exactly: the filtered destinations to generate itineraries for are as follows: ['city-country', 'city-country']\"\n",
    "        \"\"\"\n",
    "    )"
   ]
  },
  {
   "cell_type": "code",
   "execution_count": 21,
   "metadata": {},
   "outputs": [],
   "source": [
    "#Initialize agent\n",
    "weather_check_agent = weather_check_prompt | weather_llm_planner"
   ]
  },
  {
   "cell_type": "markdown",
   "metadata": {},
   "source": [
    "### Define Graph"
   ]
  },
  {
   "cell_type": "markdown",
   "metadata": {},
   "source": [
    "#### State"
   ]
  },
  {
   "cell_type": "code",
   "execution_count": 22,
   "metadata": {},
   "outputs": [],
   "source": [
    "#Inherit from LangChain's MessagesState class\n",
    "class TravelPlanner(MessagesState):\n",
    "    user_query: Annotated[str, \"The travel request by the user\"]\n",
    "    destinations: Annotated[List[str], \"Proposed destinations\"]\n",
    "    itineraries: Annotated[List[str], \"Proposed itineraries\"]"
   ]
  },
  {
   "cell_type": "markdown",
   "metadata": {},
   "source": [
    "#### Nodes"
   ]
  },
  {
   "cell_type": "code",
   "execution_count": 23,
   "metadata": {},
   "outputs": [],
   "source": [
    "def get_destinations(state: TravelPlanner):\n",
    "    \"\"\"\n",
    "    Get a list of suggested destinations\n",
    "\n",
    "    Args:\n",
    "        state (dict): The current graph state\n",
    "\n",
    "    Returns:\n",
    "        state (dict): New key added to state, documents, that contains suggested destinations\n",
    "    \"\"\"\n",
    "    print(\"---GET DESTINATION RECOMMENDATIONS---\")\n",
    "    user_query = state[\"messages\"][0].content\n",
    "\n",
    "    # Get suggested destinations\n",
    "    trip_suggestions = agent_planner_destinations.invoke({\"travel_request\": user_query}).model_dump()\n",
    "    \n",
    "    format_ai_message = \"\\n\\n\".join([f\"Suggested Destination {i+1} is {destination}. This is chosen because: {reasoning}\" \n",
    "                                     for i, (destination, reasoning) in enumerate(zip(trip_suggestions[\"destinations\"], trip_suggestions[\"reasoning\"]))])\n",
    "\n",
    "    print(AIMessage(content=format_ai_message)) ## For debugging only\n",
    "    \n",
    "    return {\n",
    "        \"messages\": [AIMessage(content=format_ai_message)],    \n",
    "        \"destinations\": trip_suggestions[\"destinations\"],\n",
    "        \"user_query\": user_query}"
   ]
  },
  {
   "cell_type": "code",
   "execution_count": 24,
   "metadata": {},
   "outputs": [],
   "source": [
    "def check_weather(state: TravelPlanner):\n",
    "    \"\"\"\n",
    "    Given a list of suggested destinations, filter only for those with pleasant weather\n",
    "\n",
    "    Args:\n",
    "        state (dict): The current graph state\n",
    "\n",
    "    Returns:\n",
    "        state (dict): Filtered destinations, where weather is pleasant after tool call\n",
    "    \"\"\"\n",
    "    print(\"---FILTERED DESTINATIONS BASED ON WEATHER---\")\n",
    "\n",
    "    # Check weather\n",
    "    output = weather_check_agent.invoke({\"conversation\": state[\"messages\"],\n",
    "                                        \"suggested_destinations\": state[\"destinations\"]})\n",
    "    print(output) ## For debugging only\n",
    "    \n",
    "    return {\"messages\": [output]}"
   ]
  },
  {
   "cell_type": "code",
   "execution_count": 25,
   "metadata": {},
   "outputs": [],
   "source": [
    "def get_itineraries(state: TravelPlanner):\n",
    "    \"\"\"\n",
    "    Get a list of suggested itineraries\n",
    "\n",
    "    Args:\n",
    "        state (dict): The current graph state\n",
    "\n",
    "    Returns:\n",
    "        state (dict): New key added to state, documents, that contains suggested itineraries\n",
    "    \"\"\"\n",
    "    print(\"---GET DETAILED ITINERARIES OF FILTERED DESTINATIONS---\")\n",
    "    conversation_history = state[\"messages\"]\n",
    "\n",
    "    # Get suggested destinations\n",
    "    trip_suggestions = agent_planner_itineraries.invoke({\n",
    "        \"conversation\": state[\"messages\"]}).model_dump()\n",
    "\n",
    "    format_ai_message = \"\\n\\n\".join([f\"Suggested itinerary {i+1} is as follows: {itinerary}\" \n",
    "                                     for i, itinerary in enumerate(trip_suggestions[\"itineraries\"])])\n",
    "    \n",
    "    print(format_ai_message) ## For debugging only\n",
    "    \n",
    "    return {\n",
    "        \"messages\":  [AIMessage(content=format_ai_message)],    \n",
    "        \"itineraries\": trip_suggestions[\"itineraries\"]\n",
    "    }"
   ]
  },
  {
   "cell_type": "markdown",
   "metadata": {},
   "source": [
    "#### Build Graph"
   ]
  },
  {
   "cell_type": "code",
   "execution_count": 26,
   "metadata": {},
   "outputs": [
    {
     "data": {
      "image/png": "[encoded data removed]",
      "text/plain": [
       "<IPython.core.display.Image object>"
      ]
     },
     "metadata": {},
     "output_type": "display_data"
    }
   ],
   "source": [
    "# Build graph\n",
    "builder = StateGraph(TravelPlanner)\n",
    "builder.add_node(\"get_destinations\", get_destinations)\n",
    "builder.add_node(\"check_weather\", check_weather)\n",
    "builder.add_node(\"get_itineraries\", get_itineraries)\n",
    "builder.add_node(\"tools\", ToolNode(weather_tool))\n",
    "\n",
    "builder.add_edge(START, \"get_destinations\")\n",
    "builder.add_edge(\"get_destinations\", \"check_weather\")\n",
    "\n",
    "builder.add_conditional_edges(\n",
    "    \"check_weather\",\n",
    "    tools_condition,\n",
    "    {\n",
    "        \"tools\": \"tools\",\n",
    "         \"__end__\": \"get_itineraries\" \n",
    "    }\n",
    ")\n",
    "builder.add_edge(\"tools\",\"check_weather\")\n",
    "builder.add_edge(\"get_itineraries\", END)\n",
    "\n",
    "graph = builder.compile()\n",
    "\n",
    "# View\n",
    "display(Image(graph.get_graph().draw_mermaid_png()))"
   ]
  },
  {
   "cell_type": "markdown",
   "metadata": {},
   "source": [
    "#### Test Graph"
   ]
  },
  {
   "cell_type": "code",
   "execution_count": 27,
   "metadata": {},
   "outputs": [
    {
     "data": {
      "text/plain": [
       "'Plan a 3-day vacation from Mumbai to a peaceful international destination this week.'"
      ]
     },
     "execution_count": 27,
     "metadata": {},
     "output_type": "execute_result"
    }
   ],
   "source": [
    "example_prompt"
   ]
  },
  {
   "cell_type": "code",
   "execution_count": 28,
   "metadata": {},
   "outputs": [
    {
     "name": "stdout",
     "output_type": "stream",
     "text": [
      "---GET DESTINATION RECOMMENDATIONS---\n",
      "content='Suggested Destination 1 is Bali, Indonesia. This is chosen because: Bali offers serene beaches, lush landscapes, and tranquil retreats, making it perfect for relaxation.\\n\\nSuggested Destination 2 is Kyoto, Japan. This is chosen because: Kyoto is known for its peaceful temples, traditional tea houses, and beautiful gardens, ideal for a calm getaway.\\n\\nSuggested Destination 3 is Maldives. This is chosen because: The Maldives features stunning island resorts with tranquil surroundings and crystal-clear waters, perfect for unwinding.\\n\\nSuggested Destination 4 is Santorini, Greece. This is chosen because: Santorini combines beautiful landscapes, quiet villages, and breathtaking sunsets, offering a romantic and peaceful atmosphere.' additional_kwargs={} response_metadata={}\n",
      "---FILTERED DESTINATIONS BASED ON WEATHER---\n",
      "content='' additional_kwargs={'tool_calls': [{'id': 'call_0fyyK4o7ufzMBIBBMYTkE5d2', 'function': {'arguments': '{\"location\": \"Bali, Indonesia\"}', 'name': 'run'}, 'type': 'function'}, {'id': 'call_8U5bsIlxN3WwKChqMVAQ946z', 'function': {'arguments': '{\"location\": \"Kyoto, Japan\"}', 'name': 'run'}, 'type': 'function'}, {'id': 'call_2Mz51uoOJZlAKkMTzNkBgeD1', 'function': {'arguments': '{\"location\": \"Maldives\"}', 'name': 'run'}, 'type': 'function'}, {'id': 'call_VhEh0iF3wQNmG2huyn1MYcM1', 'function': {'arguments': '{\"location\": \"Santorini, Greece\"}', 'name': 'run'}, 'type': 'function'}], 'refusal': None} response_metadata={'token_usage': {'completion_tokens': 78, 'prompt_tokens': 426, 'total_tokens': 504, 'completion_tokens_details': {'accepted_prediction_tokens': 0, 'audio_tokens': 0, 'reasoning_tokens': 0, 'rejected_prediction_tokens': 0}, 'prompt_tokens_details': {'audio_tokens': 0, 'cached_tokens': 0}}, 'model_name': 'gpt-4o-mini-2024-07-18', 'system_fingerprint': None, 'id': 'chatcmpl-BuI1VSLYgBwOvQcpp5yWTST9Ie3SE', 'service_tier': 'default', 'finish_reason': 'tool_calls', 'logprobs': None} id='run--e21c13f7-1e0b-4ac7-abf8-1e026993b704-0' tool_calls=[{'name': 'run', 'args': {'location': 'Bali, Indonesia'}, 'id': 'call_0fyyK4o7ufzMBIBBMYTkE5d2', 'type': 'tool_call'}, {'name': 'run', 'args': {'location': 'Kyoto, Japan'}, 'id': 'call_8U5bsIlxN3WwKChqMVAQ946z', 'type': 'tool_call'}, {'name': 'run', 'args': {'location': 'Maldives'}, 'id': 'call_2Mz51uoOJZlAKkMTzNkBgeD1', 'type': 'tool_call'}, {'name': 'run', 'args': {'location': 'Santorini, Greece'}, 'id': 'call_VhEh0iF3wQNmG2huyn1MYcM1', 'type': 'tool_call'}] usage_metadata={'input_tokens': 426, 'output_tokens': 78, 'total_tokens': 504, 'input_token_details': {'audio': 0, 'cache_read': 0}, 'output_token_details': {'audio': 0, 'reasoning': 0}}\n",
      "---FILTERED DESTINATIONS BASED ON WEATHER---\n",
      "content=\"The filtered destinations to generate itineraries for are as follows: ['Santorini-Greece'].\" additional_kwargs={'refusal': None} response_metadata={'token_usage': {'completion_tokens': 19, 'prompt_tokens': 1747, 'total_tokens': 1766, 'completion_tokens_details': {'accepted_prediction_tokens': 0, 'audio_tokens': 0, 'reasoning_tokens': 0, 'rejected_prediction_tokens': 0}, 'prompt_tokens_details': {'audio_tokens': 0, 'cached_tokens': 0}}, 'model_name': 'gpt-4o-mini-2024-07-18', 'system_fingerprint': None, 'id': 'chatcmpl-BuI1XkoqfA5tOFdc7oQyWtq42QAEl', 'service_tier': 'default', 'finish_reason': 'stop', 'logprobs': None} id='run--ad662581-abef-461f-9bcb-49724adc350b-0' usage_metadata={'input_tokens': 1747, 'output_tokens': 19, 'total_tokens': 1766, 'input_token_details': {'audio': 0, 'cache_read': 0}, 'output_token_details': {'audio': 0, 'reasoning': 0}}\n",
      "---GET DETAILED ITINERARIES OF FILTERED DESTINATIONS---\n",
      "Suggested itinerary 1 is as follows: ### Day 1: Arrival and Exploring Oia\n",
      "- **Morning:** Arrive in Santorini and check into your hotel. Enjoy breakfast at a local cafe in Oia. Try the famous Greek yogurt with honey.  \n",
      "- **Afternoon:** Visit the iconic blue-domed churches in Oia and stroll through the charming streets. \n",
      "- **Lunch:** Have lunch at a restaurant with caldera views (try fresh seafood).  \n",
      "- **Evening:** Watch the world-famous sunset from Oia, known for its breathtaking views.  \n",
      "- **Dinner:** Enjoy a traditional Greek dinner at a taverna (try moussaka or souvlaki).\n",
      "\n",
      "### Day 2: Beaches and History\n",
      "- **Morning:** Have breakfast at your hotel. Spend the morning at Red Beach, known for its stunning red cliffs. Relax and swim in the clear waters.  \n",
      "- **Lunch:** Grab lunch at a beachside taverna (try calamari and Greek salad).  \n",
      "- **Afternoon:** Visit the ancient ruins of Akrotiri, a Minoan Bronze Age settlement preserved in volcanic ash.  \n",
      "- **Evening:** Head to Fira, Santorini's capital. Explore the shops and have cocktails at a bar with caldera views.  \n",
      "- **Dinner:** Dine at a nice restaurant in Fira (try the grilled octopus).\n",
      "\n",
      "### Day 3: Relaxation and Wine Tasting\n",
      "- **Morning:** After breakfast, go for a leisurely walk in the vineyards south of Fira.  \n",
      "- **Lunch:** Enjoy a picnic lunch with local cheese and bread among the vineyards.\n",
      "- **Afternoon:** Visit a local winery for a tasting of Santorini's unique Assyrtiko wine and learn about the wine production process.\n",
      "- **Evening:** Head back to your hotel to freshen up.  \n",
      "- **Dinner:** Enjoy a farewell dinner with traditional dishes and stunning sunset views from Fira.\n"
     ]
    }
   ],
   "source": [
    "result = graph.invoke({\"messages\":[HumanMessage(content=example_prompt)]})"
   ]
  },
  {
   "cell_type": "code",
   "execution_count": 29,
   "metadata": {
    "scrolled": true
   },
   "outputs": [
    {
     "name": "stdout",
     "output_type": "stream",
     "text": [
      "Message 0\n",
      " <class 'langchain_core.messages.human.HumanMessage'> Plan a 3-day vacation from Mumbai to a peaceful international destination this week. \n",
      "\n",
      "Message 1\n",
      " <class 'langchain_core.messages.ai.AIMessage'> Suggested Destination 1 is Bali, Indonesia. This is chosen because: Bali offers serene beaches, lush landscapes, and tranquil retreats, making it perfect for relaxation.\n",
      "\n",
      "Suggested Destination 2 is Kyoto, Japan. This is chosen because: Kyoto is known for its peaceful temples, traditional tea houses, and beautiful gardens, ideal for a calm getaway.\n",
      "\n",
      "Suggested Destination 3 is Maldives. This is chosen because: The Maldives features stunning island resorts with tranquil surroundings and crystal-clear waters, perfect for unwinding.\n",
      "\n",
      "Suggested Destination 4 is Santorini, Greece. This is chosen because: Santorini combines beautiful landscapes, quiet villages, and breathtaking sunsets, offering a romantic and peaceful atmosphere. \n",
      "\n",
      "Message 2\n",
      " <class 'langchain_core.messages.ai.AIMessage'>  \n",
      "\n",
      "Message 3\n",
      " <class 'langchain_core.messages.tool.ToolMessage'> In Bali, Indonesia, the current weather is as follows:\n",
      "Detailed status: overcast clouds\n",
      "Wind speed: 2.46 m/s, direction: 73°\n",
      "Humidity: 90%\n",
      "Temperature: \n",
      "  - Current: 21.63°C\n",
      "  - High: 21.63°C\n",
      "  - Low: 21.63°C\n",
      "  - Feels like: 22.2°C\n",
      "Rain: {}\n",
      "Heat index: None\n",
      "Cloud cover: 92% \n",
      "\n",
      "Message 4\n",
      " <class 'langchain_core.messages.tool.ToolMessage'> In Kyoto, Japan, the current weather is as follows:\n",
      "Detailed status: overcast clouds\n",
      "Wind speed: 1.13 m/s, direction: 113°\n",
      "Humidity: 92%\n",
      "Temperature: \n",
      "  - Current: 25.41°C\n",
      "  - High: 25.41°C\n",
      "  - Low: 25.41°C\n",
      "  - Feels like: 26.41°C\n",
      "Rain: {}\n",
      "Heat index: None\n",
      "Cloud cover: 100% \n",
      "\n",
      "Message 5\n",
      " <class 'langchain_core.messages.tool.ToolMessage'> In Maldives, the current weather is as follows:\n",
      "Detailed status: overcast clouds\n",
      "Wind speed: 6.53 m/s, direction: 279°\n",
      "Humidity: 80%\n",
      "Temperature: \n",
      "  - Current: 28.28°C\n",
      "  - High: 28.28°C\n",
      "  - Low: 28.28°C\n",
      "  - Feels like: 32.81°C\n",
      "Rain: {}\n",
      "Heat index: None\n",
      "Cloud cover: 100% \n",
      "\n",
      "Message 6\n",
      " <class 'langchain_core.messages.tool.ToolMessage'> In Santorini, Greece, the current weather is as follows:\n",
      "Detailed status: clear sky\n",
      "Wind speed: 4.21 m/s, direction: 292°\n",
      "Humidity: 67%\n",
      "Temperature: \n",
      "  - Current: 27.68°C\n",
      "  - High: 27.68°C\n",
      "  - Low: 27.68°C\n",
      "  - Feels like: 29.72°C\n",
      "Rain: {}\n",
      "Heat index: None\n",
      "Cloud cover: 0% \n",
      "\n",
      "Message 7\n",
      " <class 'langchain_core.messages.ai.AIMessage'> The filtered destinations to generate itineraries for are as follows: ['Santorini-Greece']. \n",
      "\n",
      "Message 8\n",
      " <class 'langchain_core.messages.ai.AIMessage'> Suggested itinerary 1 is as follows: ### Day 1: Arrival and Exploring Oia\n",
      "- **Morning:** Arrive in Santorini and check into your hotel. Enjoy breakfast at a local cafe in Oia. Try the famous Greek yogurt with honey.  \n",
      "- **Afternoon:** Visit the iconic blue-domed churches in Oia and stroll through the charming streets. \n",
      "- **Lunch:** Have lunch at a restaurant with caldera views (try fresh seafood).  \n",
      "- **Evening:** Watch the world-famous sunset from Oia, known for its breathtaking views.  \n",
      "- **Dinner:** Enjoy a traditional Greek dinner at a taverna (try moussaka or souvlaki).\n",
      "\n",
      "### Day 2: Beaches and History\n",
      "- **Morning:** Have breakfast at your hotel. Spend the morning at Red Beach, known for its stunning red cliffs. Relax and swim in the clear waters.  \n",
      "- **Lunch:** Grab lunch at a beachside taverna (try calamari and Greek salad).  \n",
      "- **Afternoon:** Visit the ancient ruins of Akrotiri, a Minoan Bronze Age settlement preserved in volcanic ash.  \n",
      "- **Evening:** Head to Fira, Santorini's capital. Explore the shops and have cocktails at a bar with caldera views.  \n",
      "- **Dinner:** Dine at a nice restaurant in Fira (try the grilled octopus).\n",
      "\n",
      "### Day 3: Relaxation and Wine Tasting\n",
      "- **Morning:** After breakfast, go for a leisurely walk in the vineyards south of Fira.  \n",
      "- **Lunch:** Enjoy a picnic lunch with local cheese and bread among the vineyards.\n",
      "- **Afternoon:** Visit a local winery for a tasting of Santorini's unique Assyrtiko wine and learn about the wine production process.\n",
      "- **Evening:** Head back to your hotel to freshen up.  \n",
      "- **Dinner:** Enjoy a farewell dinner with traditional dishes and stunning sunset views from Fira. \n",
      "\n"
     ]
    }
   ],
   "source": [
    "#See inner workings\n",
    "for i, msg in enumerate(result[\"messages\"]):\n",
    "    print(f\"Message {i}\\n\", type(msg), msg.content, \"\\n\")"
   ]
  }
 ],
 "metadata": {
  "kernelspec": {
   "display_name": "Python 3 (ipykernel)",
   "language": "python",
   "name": "python3"
  },
  "language_info": {
   "codemirror_mode": {
    "name": "ipython",
    "version": 3
   },
   "file_extension": ".py",
   "mimetype": "text/x-python",
   "name": "python",
   "nbconvert_exporter": "python",
   "pygments_lexer": "ipython3",
   "version": "3.13.5"
  },
  "varInspector": {
   "cols": {
    "lenName": 16,
    "lenType": 16,
    "lenVar": 40
   },
   "kernels_config": {
    "python": {
     "delete_cmd_postfix": "",
     "delete_cmd_prefix": "del ",
     "library": "var_list.py",
     "varRefreshCmd": "print(var_dic_list())"
    },
    "r": {
     "delete_cmd_postfix": ") ",
     "delete_cmd_prefix": "rm(",
     "library": "var_list.r",
     "varRefreshCmd": "cat(var_dic_list()) "
    }
   },
   "types_to_exclude": [
    "module",
    "function",
    "builtin_function_or_method",
    "instance",
    "_Feature"
   ],
   "window_display": false
  }
 },
 "nbformat": 4,
 "nbformat_minor": 4
}
