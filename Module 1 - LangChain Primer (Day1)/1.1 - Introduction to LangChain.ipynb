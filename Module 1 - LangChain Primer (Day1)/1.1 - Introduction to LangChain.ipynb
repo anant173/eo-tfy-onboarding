{
 "cells": [
  {
   "cell_type": "markdown",
   "id": "318c8070-fbb2-4e13-841c-0a444d0d8f46",
   "metadata": {},
   "source": [
    "# Introduction to LangChain"
   ]
  },
  {
   "cell_type": "code",
   "execution_count": 1,
   "id": "bd97ab72-93b0-4f2a-8bda-5c74cf990e9a",
   "metadata": {},
   "outputs": [
    {
     "data": {
      "text/html": [
       "<style>.container { width:100% !important; }</style>"
      ],
      "text/plain": [
       "<IPython.core.display.HTML object>"
      ]
     },
     "metadata": {},
     "output_type": "display_data"
    }
   ],
   "source": [
    "from IPython.display import display, HTML\n",
    "display(HTML(\"<style>.container { width:100% !important; }</style>\"))"
   ]
  },
  {
   "cell_type": "markdown",
   "id": "3cf3368b",
   "metadata": {},
   "source": [
    "## Initial setup"
   ]
  },
  {
   "cell_type": "markdown",
   "id": "af3e43dd",
   "metadata": {},
   "source": [
    "### Install dependencies"
   ]
  },
  {
   "cell_type": "markdown",
   "id": "9f488b51",
   "metadata": {},
   "source": [
    "### Set API key for Groq\n",
    "Click [here](https://console.groq.com/keys) to create API key for Groq, if not already created."
   ]
  },
  {
   "cell_type": "code",
   "execution_count": 2,
   "id": "7f8bf66b-a0a2-4edf-ad28-c0fe266c9de3",
   "metadata": {},
   "outputs": [
    {
     "data": {
      "text/plain": [
       "True"
      ]
     },
     "execution_count": 2,
     "metadata": {},
     "output_type": "execute_result"
    }
   ],
   "source": [
    "import os, json, re, getpass\n",
    "from dotenv import load_dotenv\n",
    "\n",
    "load_dotenv( override=True)"
   ]
  },
  {
   "cell_type": "code",
   "execution_count": 3,
   "id": "91837874-8c93-4331-9ad8-1bcd68d9dd24",
   "metadata": {},
   "outputs": [],
   "source": [
    "if \"GROQ_API_KEY\" not in os.environ:\n",
    "    os.environ[\"GROQ_API_KEY\"] = getpass.getpass(\"GROQ API Key: \")"
   ]
  },
  {
   "cell_type": "code",
   "execution_count": 4,
   "id": "7b71624b",
   "metadata": {},
   "outputs": [],
   "source": [
    "# if \"TEST_API_KEY\" not in os.environ:\n",
    "#     os.environ[\"TEST_API_KEY\"] = getpass.getpass(\"TEST API Key: \")"
   ]
  },
  {
   "cell_type": "code",
   "execution_count": 5,
   "id": "408e4cc7-6ce5-4cb6-af3f-8ac923dbf6d2",
   "metadata": {},
   "outputs": [
    {
     "name": "stdout",
     "output_type": "stream",
     "text": [
      "Groq API Key exists and begins gsk_\n"
     ]
    }
   ],
   "source": [
    "if os.environ[\"GROQ_API_KEY\"]:\n",
    "    print(f\"Groq API Key exists and begins {os.environ[\"GROQ_API_KEY\"][:4]}\")\n",
    "else:\n",
    "    print(\"Groq API Key not set (and this is optional)\")"
   ]
  },
  {
   "cell_type": "markdown",
   "id": "e31b9342",
   "metadata": {},
   "source": [
    "## LangChain Components"
   ]
  },
  {
   "cell_type": "markdown",
   "id": "71d44e67",
   "metadata": {},
   "source": [
    "### LLM / ChatModel"
   ]
  },
  {
   "cell_type": "code",
   "execution_count": 6,
   "id": "3c4e08e3-b15e-48ac-bdb6-86fe1839f027",
   "metadata": {},
   "outputs": [
    {
     "name": "stdout",
     "output_type": "stream",
     "text": [
      "\u001b[?2026h\u001b[?25l\u001b[1Gpulling manifest ⠋ \u001b[K\u001b[?25h\u001b[?2026l\u001b[?2026h\u001b[?25l\u001b[1Gpulling manifest ⠙ \u001b[K\u001b[?25h\u001b[?2026l\u001b[?2026h\u001b[?25l\u001b[1Gpulling manifest ⠹ \u001b[K\u001b[?25h\u001b[?2026l\u001b[?2026h\u001b[?25l\u001b[1Gpulling manifest ⠸ \u001b[K\u001b[?25h\u001b[?2026l\u001b[?2026h\u001b[?25l\u001b[1Gpulling manifest ⠼ \u001b[K\u001b[?25h\u001b[?2026l\u001b[?2026h\u001b[?25l\u001b[1Gpulling manifest ⠴ \u001b[K\u001b[?25h\u001b[?2026l\u001b[?2026h\u001b[?25l\u001b[1Gpulling manifest ⠦ \u001b[K\u001b[?25h\u001b[?2026l\u001b[?2026h\u001b[?25l\u001b[1Gpulling manifest ⠧ \u001b[K\u001b[?25h\u001b[?2026l\u001b[?2026h\u001b[?25l\u001b[1Gpulling manifest \u001b[K\n",
      "pulling dde5aa3fc5ff: 100% ▕██████████████████▏ 2.0 GB                         \u001b[K\n",
      "pulling 966de95ca8a6: 100% ▕██████████████████▏ 1.4 KB                         \u001b[K\n",
      "pulling fcc5a6bec9da: 100% ▕██████████████████▏ 7.7 KB                         \u001b[K\n",
      "pulling a70ff7e570d9: 100% ▕██████████████████▏ 6.0 KB                         \u001b[K\n",
      "pulling 56bb8bd477a5: 100% ▕██████████████████▏   96 B                         \u001b[K\n",
      "pulling 34bb5ab01051: 100% ▕██████████████████▏  561 B                         \u001b[K\n",
      "verifying sha256 digest \u001b[K\n",
      "writing manifest \u001b[K\n",
      "success \u001b[K\u001b[?25h\u001b[?2026l\n"
     ]
    }
   ],
   "source": [
    "!ollama pull llama3.2"
   ]
  },
  {
   "cell_type": "code",
   "execution_count": 7,
   "id": "f4df3c94",
   "metadata": {},
   "outputs": [],
   "source": [
    "#Using LangChain\n",
    "from langchain.chat_models import init_chat_model\n",
    "\n",
    "model_name = \"llama-3.1-8b-instant\"\n",
    "llm = init_chat_model(model_name, model_provider=\"groq\") #Other Llama alternatives available are llama3-8b-8192, llama-3.3-70b-versatile"
   ]
  },
  {
   "cell_type": "code",
   "execution_count": 8,
   "id": "4d8fd4ce",
   "metadata": {},
   "outputs": [
    {
     "data": {
      "text/plain": [
       "AIMessage(content=\"ECG stands for Electrocardiogram. It is a medical test that records the electrical activity of the heart over a period of time. An ECG is a non-invasive test that uses electrodes placed on the skin to detect the electrical impulses that control the heartbeat.\\n\\nThe ECG machine records the electrical signals and displays them on a graph, showing the heart's rhythm and rate. This information can help healthcare professionals diagnose and monitor various heart-related conditions, such as:\\n\\n1. Arrhythmias (abnormal heart rhythms)\\n2. Heart attacks\\n3. Heart failure\\n4. Coronary artery disease\\n5. Cardiac hypertrophy (thickening of the heart muscle)\\n6. Electrolyte imbalances\\n7. Other heart conditions\\n\\nA typical ECG test involves placing electrodes on the chest, arms, and legs, and then recording the electrical activity of the heart for 10-30 seconds. The ECG can be performed in various settings, including:\\n\\n1. Doctor's offices\\n2. Hospitals\\n3. Emergency rooms\\n4. Cardiac rehabilitation centers\\n5. At-home ECG monitors (in some cases)\\n\\nThere are different types of ECGs, including:\\n\\n1. 12-lead ECG: The most common type, which records the electrical activity of the heart from 12 different angles.\\n2. Holter monitor: A portable ECG device that records the heart's activity over 24 hours.\\n3. Event monitor: A portable ECG device that records the heart's activity during specific symptoms or events.\\n\\nOverall, an ECG is an essential tool for diagnosing and managing heart-related conditions.\", additional_kwargs={}, response_metadata={'token_usage': {'completion_tokens': 332, 'prompt_tokens': 40, 'total_tokens': 372, 'completion_time': 1.499210537, 'prompt_time': 0.008164274, 'queue_time': 0.046195476, 'total_time': 1.507374811}, 'model_name': 'llama-3.1-8b-instant', 'system_fingerprint': 'fp_510c177af0', 'service_tier': 'on_demand', 'finish_reason': 'stop', 'logprobs': None}, id='run--f4ad7970-7036-4cf8-8962-82eb74c564f5-0', usage_metadata={'input_tokens': 40, 'output_tokens': 332, 'total_tokens': 372})"
      ]
     },
     "execution_count": 8,
     "metadata": {},
     "output_type": "execute_result"
    }
   ],
   "source": [
    "llm_response = llm.invoke(\"what is ECG?\")\n",
    "llm_response"
   ]
  },
  {
   "cell_type": "code",
   "execution_count": 9,
   "id": "498e9f67",
   "metadata": {},
   "outputs": [
    {
     "name": "stdout",
     "output_type": "stream",
     "text": [
      "type of response <class 'langchain_core.messages.ai.AIMessage'>\n"
     ]
    }
   ],
   "source": [
    "print(\"type of response\", type(llm_response))"
   ]
  },
  {
   "cell_type": "code",
   "execution_count": 10,
   "id": "edc8d4ad",
   "metadata": {},
   "outputs": [
    {
     "data": {
      "text/plain": [
       "{'input_tokens': 40, 'output_tokens': 332, 'total_tokens': 372}"
      ]
     },
     "metadata": {},
     "output_type": "display_data"
    }
   ],
   "source": [
    "# print(llm_response.content)\n",
    "# display(llm_response.response_metadata)\n",
    "display(llm_response.usage_metadata)"
   ]
  },
  {
   "cell_type": "code",
   "execution_count": 11,
   "id": "abff1d02",
   "metadata": {},
   "outputs": [
    {
     "name": "stdout",
     "output_type": "stream",
     "text": [
      "Here's the corrected text:\n",
      "\n",
      "\"Hi, can you send me that report by tomorrow, please?\"\n",
      "\n",
      "Changes made:\n",
      "- Changed \"hey\" to \"Hi\" (proper greeting)\n",
      "- Added a comma after \"tomorrow\" for clarity and proper punctuation\n",
      "- Changed \"thx\" to \"please\" (more formal and clear expression)\n",
      "\n",
      "This revised text is more polite and professional, and it conveys your request clearly.\n"
     ]
    }
   ],
   "source": [
    "from langchain_core.messages import HumanMessage, SystemMessage\n",
    "\n",
    "messages = [\n",
    "    SystemMessage(content=\"Detect and correct all spelling, grammatical, and punctuation errors in the provided text.\\\n",
    "                  Ensure proper sentence structure, clarity, and readability.\\\n",
    "                  Retain the core message of the original text while making the necessary corrections\"),\n",
    "    HumanMessage(content=\"hey can you send me that report by tomorrow thx\"),\n",
    "]\n",
    "\n",
    "ai_response = llm.invoke(messages)\n",
    "print(ai_response.content)"
   ]
  },
  {
   "cell_type": "code",
   "execution_count": 12,
   "id": "e4662794-34a0-4542-a7e4-ac44ce778acf",
   "metadata": {},
   "outputs": [],
   "source": [
    "# followup conversation\n",
    "messages.append(ai_response)"
   ]
  },
  {
   "cell_type": "code",
   "execution_count": 13,
   "id": "21578799-a1bb-483c-b580-2c143c141b28",
   "metadata": {},
   "outputs": [],
   "source": [
    "#Ask a follow-up question\n",
    "messages.append(HumanMessage(content=\"can you make the tone a bit informal\"))"
   ]
  },
  {
   "cell_type": "code",
   "execution_count": 14,
   "id": "b988b6ae",
   "metadata": {},
   "outputs": [
    {
     "name": "stdout",
     "output_type": "stream",
     "text": [
      "Here's the revised text:\n",
      "\n",
      "\"Hey, can you send me that report by tomorrow?\"\n",
      "\n",
      "Changes made:\n",
      "- Changed \"Hi\" back to \"Hey\" (more informal greeting)\n",
      "- Removed \"please\" (makes the tone slightly more casual)\n",
      "- Kept the comma after \"tomorrow\" for clarity and proper punctuation\n",
      "\n",
      "This revised text still conveys a friendly and approachable tone while being slightly more informal.\n"
     ]
    }
   ],
   "source": [
    "ai_response = llm.invoke(messages)\n",
    "# print(ai_response)\n",
    "print(ai_response.content)"
   ]
  },
  {
   "cell_type": "markdown",
   "id": "c0de82ae",
   "metadata": {},
   "source": [
    "#### Doing without LangChain"
   ]
  },
  {
   "cell_type": "code",
   "execution_count": 15,
   "id": "ff4947c6",
   "metadata": {},
   "outputs": [],
   "source": [
    "#Without LangChain - how would we initialize our LLM?\n",
    "from openai import OpenAI\n",
    "\n",
    "model_name = \"llama-3.1-8b-instant\"\n",
    "llm_api = OpenAI(api_key=os.environ[\"GROQ_API_KEY\"], base_url=\"https://api.groq.com/openai/v1\")"
   ]
  },
  {
   "cell_type": "code",
   "execution_count": 16,
   "id": "c19d32ac",
   "metadata": {},
   "outputs": [],
   "source": [
    "# #Below is LangChain's messages format\n",
    "# messages = [\n",
    "\n",
    "#     SystemMessage(content=\"Detect and correct all spelling, grammatical, and punctuation errors in the provided text.\\\n",
    "#                   Ensure proper sentence structure, clarity, and readability.\\\n",
    "#                   Retain the core message of the original text while making the necessary corrections\"),\n",
    "#     HumanMessage(content=\"hey can you send me that report by tomorrow thx\"),\n",
    "# ]\n",
    "\n",
    "#Below is messages in OpenAI format\n",
    "messages_openai = [\n",
    "    {'role':\"system\", 'content':\"Detect and correct all spelling, grammatical, and punctuation errors in the provided text.\\\n",
    "     Ensure proper sentence structure, clarity, and readability.\\\n",
    "     Retain the core message of the original text while making the necessary corrections\"},\n",
    "     \n",
    "     {'role':\"user\", 'content':\"hey can you send me that report by tomorrow thx\"}\n",
    "]\n"
   ]
  },
  {
   "cell_type": "code",
   "execution_count": 17,
   "id": "c95364ff",
   "metadata": {},
   "outputs": [],
   "source": [
    "ai_response_openai = llm_api.chat.completions.create(model= model_name,\n",
    "                                messages=messages_openai)"
   ]
  },
  {
   "cell_type": "code",
   "execution_count": 18,
   "id": "39e59642",
   "metadata": {},
   "outputs": [
    {
     "data": {
      "text/plain": [
       "ChatCompletion(id='chatcmpl-ab49cf63-a3e6-478d-a073-5b5f3df5942f', choices=[Choice(finish_reason='stop', index=0, logprobs=None, message=ChatCompletionMessage(content='Here\\'s a corrected version of the text:\\n\\n\"Hi, could you please send me that report by tomorrow? Thank you.\"\\n\\nI made a few changes to improve the clarity and grammar of the message:\\n\\n- Started with a more formal greeting (\"Hi\" instead of \"hey\")\\n- Added a more appropriate verb (\"could you please send\" instead of the informal \"can you send\")\\n- Changed the phrase to \"by tomorrow\" to convey a more specific deadline\\n- Added a closing (\"Thank you\") to make the message more polite', refusal=None, role='assistant', annotations=None, audio=None, function_call=None, tool_calls=None))], created=1757490449, model='llama-3.1-8b-instant', object='chat.completion', service_tier='on_demand', system_fingerprint='fp_46fc01befd', usage=CompletionUsage(completion_tokens=107, prompt_tokens=89, total_tokens=196, completion_tokens_details=None, prompt_tokens_details=None, queue_time=0.0538794, prompt_time=0.389379508, completion_time=0.177443164, total_time=0.566822672), usage_breakdown=None, x_groq={'id': 'req_01k4s9g28aet29686g2cg6eefb'})"
      ]
     },
     "execution_count": 18,
     "metadata": {},
     "output_type": "execute_result"
    }
   ],
   "source": [
    "ai_response_openai"
   ]
  },
  {
   "cell_type": "code",
   "execution_count": 19,
   "id": "4b13b44b",
   "metadata": {},
   "outputs": [
    {
     "name": "stdout",
     "output_type": "stream",
     "text": [
      "Here's a corrected version of the text:\n",
      "\n",
      "\"Hi, could you please send me that report by tomorrow? Thank you.\"\n",
      "\n",
      "I made a few changes to improve the clarity and grammar of the message:\n",
      "\n",
      "- Started with a more formal greeting (\"Hi\" instead of \"hey\")\n",
      "- Added a more appropriate verb (\"could you please send\" instead of the informal \"can you send\")\n",
      "- Changed the phrase to \"by tomorrow\" to convey a more specific deadline\n",
      "- Added a closing (\"Thank you\") to make the message more polite\n"
     ]
    }
   ],
   "source": [
    "ai_response_openai_formatted = ai_response_openai.choices[0].message.content\n",
    "print(ai_response_openai_formatted)"
   ]
  },
  {
   "cell_type": "code",
   "execution_count": 20,
   "id": "dcdffd5d",
   "metadata": {},
   "outputs": [
    {
     "data": {
      "text/plain": [
       "[{'role': 'system',\n",
       "  'content': 'Detect and correct all spelling, grammatical, and punctuation errors in the provided text.     Ensure proper sentence structure, clarity, and readability.     Retain the core message of the original text while making the necessary corrections'},\n",
       " {'role': 'user',\n",
       "  'content': 'hey can you send me that report by tomorrow thx'}]"
      ]
     },
     "execution_count": 20,
     "metadata": {},
     "output_type": "execute_result"
    }
   ],
   "source": [
    "messages_openai"
   ]
  },
  {
   "cell_type": "code",
   "execution_count": 21,
   "id": "91cff65f",
   "metadata": {},
   "outputs": [],
   "source": [
    "#Append the AI message\n",
    "messages_openai.append(\n",
    "    {'role': \"assistant\",\n",
    "     'content': ai_response_openai_formatted}\n",
    ")"
   ]
  },
  {
   "cell_type": "code",
   "execution_count": 22,
   "id": "b94f587c",
   "metadata": {},
   "outputs": [
    {
     "data": {
      "text/plain": [
       "[{'role': 'system',\n",
       "  'content': 'Detect and correct all spelling, grammatical, and punctuation errors in the provided text.     Ensure proper sentence structure, clarity, and readability.     Retain the core message of the original text while making the necessary corrections'},\n",
       " {'role': 'user',\n",
       "  'content': 'hey can you send me that report by tomorrow thx'},\n",
       " {'role': 'assistant',\n",
       "  'content': 'Here\\'s a corrected version of the text:\\n\\n\"Hi, could you please send me that report by tomorrow? Thank you.\"\\n\\nI made a few changes to improve the clarity and grammar of the message:\\n\\n- Started with a more formal greeting (\"Hi\" instead of \"hey\")\\n- Added a more appropriate verb (\"could you please send\" instead of the informal \"can you send\")\\n- Changed the phrase to \"by tomorrow\" to convey a more specific deadline\\n- Added a closing (\"Thank you\") to make the message more polite'}]"
      ]
     },
     "execution_count": 22,
     "metadata": {},
     "output_type": "execute_result"
    }
   ],
   "source": [
    "messages_openai"
   ]
  },
  {
   "cell_type": "code",
   "execution_count": 23,
   "id": "267fa547",
   "metadata": {},
   "outputs": [],
   "source": [
    "#Ask a follow-up question\n",
    "#LangChain version below\n",
    "# messages.append(HumanMessage(content=\"can you make the tone a bit informal\"))\n",
    "\n",
    "#OpenAI version below\n",
    "messages_openai.append(\n",
    "    {'role':\"user\",\n",
    "     'content':\"can you make the tone a bit informal\"}\n",
    ")"
   ]
  },
  {
   "cell_type": "code",
   "execution_count": 24,
   "id": "65ecf978",
   "metadata": {},
   "outputs": [
    {
     "data": {
      "text/plain": [
       "[{'role': 'system',\n",
       "  'content': 'Detect and correct all spelling, grammatical, and punctuation errors in the provided text.     Ensure proper sentence structure, clarity, and readability.     Retain the core message of the original text while making the necessary corrections'},\n",
       " {'role': 'user',\n",
       "  'content': 'hey can you send me that report by tomorrow thx'},\n",
       " {'role': 'assistant',\n",
       "  'content': 'Here\\'s a corrected version of the text:\\n\\n\"Hi, could you please send me that report by tomorrow? Thank you.\"\\n\\nI made a few changes to improve the clarity and grammar of the message:\\n\\n- Started with a more formal greeting (\"Hi\" instead of \"hey\")\\n- Added a more appropriate verb (\"could you please send\" instead of the informal \"can you send\")\\n- Changed the phrase to \"by tomorrow\" to convey a more specific deadline\\n- Added a closing (\"Thank you\") to make the message more polite'},\n",
       " {'role': 'user', 'content': 'can you make the tone a bit informal'}]"
      ]
     },
     "execution_count": 24,
     "metadata": {},
     "output_type": "execute_result"
    }
   ],
   "source": [
    "messages_openai"
   ]
  },
  {
   "cell_type": "code",
   "execution_count": 25,
   "id": "3d208299",
   "metadata": {},
   "outputs": [],
   "source": [
    "ai_response_openai = llm_api.chat.completions.create(\n",
    "    model=model_name,\n",
    "    messages=messages_openai\n",
    ")"
   ]
  },
  {
   "cell_type": "code",
   "execution_count": 26,
   "id": "09fc81d2",
   "metadata": {},
   "outputs": [
    {
     "data": {
      "text/plain": [
       "openai.types.chat.chat_completion.ChatCompletion"
      ]
     },
     "execution_count": 26,
     "metadata": {},
     "output_type": "execute_result"
    }
   ],
   "source": [
    "type(ai_response_openai)"
   ]
  },
  {
   "cell_type": "code",
   "execution_count": 27,
   "id": "76b8f3f7",
   "metadata": {},
   "outputs": [
    {
     "name": "stdout",
     "output_type": "stream",
     "text": [
      "Here's a slightly more informal version of the text:\n",
      "\n",
      "\"Hey, can I get that report by tomorrow?\"\n",
      "\n",
      "I made some minor changes to make the tone more casual:\n",
      "\n",
      "- Returned to the more informal greeting (\"Hey\" instead of \"Hi\")\n",
      "- Shortened the sentence to make it more direct\n",
      "- Removed the \"Thank you\" to keep the tone casual\n"
     ]
    }
   ],
   "source": [
    "print(ai_response_openai.choices[0].message.content)"
   ]
  },
  {
   "cell_type": "code",
   "execution_count": 28,
   "id": "55a15ed3-1162-4d79-bbf0-60da439e12c5",
   "metadata": {},
   "outputs": [],
   "source": [
    "#Explain concept of context length here - Context length = input tokens + completion tokens "
   ]
  },
  {
   "cell_type": "markdown",
   "id": "ab8f9d09",
   "metadata": {},
   "source": [
    "### Output Parsers"
   ]
  },
  {
   "cell_type": "code",
   "execution_count": 29,
   "id": "7b2bb113",
   "metadata": {},
   "outputs": [],
   "source": [
    "from langchain_core.output_parsers import StrOutputParser, JsonOutputParser\n",
    "\n",
    "parser = StrOutputParser()"
   ]
  },
  {
   "cell_type": "markdown",
   "id": "46cc74a4",
   "metadata": {},
   "source": [
    "*StrOutputParser* is a runnable object."
   ]
  },
  {
   "cell_type": "code",
   "execution_count": 30,
   "id": "d4d28206",
   "metadata": {},
   "outputs": [
    {
     "data": {
      "text/plain": [
       "'Here\\'s the revised text:\\n\\n\"Hey, can you send me that report by tomorrow? Thanks!\"\\n\\nChanges made:\\n- Changed \"Hi\" back to \"Hey\" (more informal greeting)\\n- Removed the comma after \"tomorrow\" (less formal and more conversational)\\n- Changed \"please\" to \"Thanks!\" (more casual and friendly expression)\\n\\nThis revised text has a friendly, yet still professional tone.'"
      ]
     },
     "execution_count": 30,
     "metadata": {},
     "output_type": "execute_result"
    }
   ],
   "source": [
    "result = llm.invoke(messages)\n",
    "\n",
    "parser.invoke(result)"
   ]
  },
  {
   "cell_type": "code",
   "execution_count": 31,
   "id": "681fdd4f-84ef-41da-906b-503ab3e7e44c",
   "metadata": {},
   "outputs": [
    {
     "data": {
      "text/plain": [
       "AIMessage(content='Here\\'s the revised text:\\n\\n\"Hey, can you send me that report by tomorrow? Thanks!\"\\n\\nChanges made:\\n- Changed \"Hi\" back to \"Hey\" (more informal greeting)\\n- Removed the comma after \"tomorrow\" (less formal and more conversational)\\n- Changed \"please\" to \"Thanks!\" (more casual and friendly expression)\\n\\nThis revised text has a friendly, yet still professional tone.', additional_kwargs={}, response_metadata={'token_usage': {'completion_tokens': 84, 'prompt_tokens': 192, 'total_tokens': 276, 'completion_time': 0.111757862, 'prompt_time': 0.529207673, 'queue_time': 0.047274416, 'total_time': 0.640965535}, 'model_name': 'llama-3.1-8b-instant', 'system_fingerprint': 'fp_46fc01befd', 'service_tier': 'on_demand', 'finish_reason': 'stop', 'logprobs': None}, id='run--ebedec27-c41c-4dca-8b11-32627688e1ec-0', usage_metadata={'input_tokens': 192, 'output_tokens': 84, 'total_tokens': 276})"
      ]
     },
     "execution_count": 31,
     "metadata": {},
     "output_type": "execute_result"
    }
   ],
   "source": [
    "result"
   ]
  },
  {
   "cell_type": "code",
   "execution_count": 40,
   "id": "9b545842-17e9-4e7e-9c48-05914c890c44",
   "metadata": {},
   "outputs": [],
   "source": [
    "messages = [\n",
    "    SystemMessage(content=\"\"\"You are an expert in writing analysis. You will receive a message from a user, and your job is to evaluate the text based on the following attributes:\n",
    "1. clarity: Is the message clear, or unclear?\n",
    "2. grammar_quality: Are there any grammatical issues? Possible values: correct, minor issues, major issues.\n",
    "3. tone: Analyze whether the tone is neutral, formal, or informal.\n",
    "4. suggestions: Offer brief improvement suggestions for clarity, grammar, or tone.\n",
    "\n",
    "Return a structured JSON object with these four attributes.\"\"\"),\n",
    "    HumanMessage(content=\"Hey, could you please send me that report by tomorrow? Thank you.\")\n",
    "]\n",
    "response = llm.invoke(messages)"
   ]
  },
  {
   "cell_type": "code",
   "execution_count": 41,
   "id": "d8528ca4",
   "metadata": {},
   "outputs": [
    {
     "data": {
      "text/plain": [
       "AIMessage(content='Here is the analysis of the message in a JSON format:\\n\\n```json\\n{\\n  \"clarity\": 8,\\n  \"grammar_quality\": \"correct\",\\n  \"tone\": \"informal\",\\n  \"suggestions\": [\\n    \"Consider adding more context or details about the report to ensure clarity.\",\\n    \"To make the tone even more friendly and professional, you could add a smiley face or a polite phrase like \\'I appreciate your help\\'.\",\\n    \"If the report is for a formal or official purpose, consider using a more formal tone.\"\\n  ]\\n}\\n```\\n\\nHowever, since it seems you asked for a report which we don\\'t have in this context, I can make an assumption that you\\'re asking for an analysis of a report you\\'re about to send. If that\\'s the case, please provide the report and I\\'ll give you a more accurate analysis.\\n\\nAssuming that\\'s the case I will wait for the report.', additional_kwargs={}, response_metadata={'token_usage': {'completion_tokens': 191, 'prompt_tokens': 159, 'total_tokens': 350, 'completion_time': 0.938880919, 'prompt_time': 0.027809716, 'queue_time': 0.060817924, 'total_time': 0.966690635}, 'model_name': 'llama-3.1-8b-instant', 'system_fingerprint': 'fp_46fc01befd', 'service_tier': 'on_demand', 'finish_reason': 'stop', 'logprobs': None}, id='run--9bb55cd9-ce55-41c9-ab55-0e87aaa43f82-0', usage_metadata={'input_tokens': 159, 'output_tokens': 191, 'total_tokens': 350})"
      ]
     },
     "execution_count": 41,
     "metadata": {},
     "output_type": "execute_result"
    }
   ],
   "source": [
    "response"
   ]
  },
  {
   "cell_type": "code",
   "execution_count": 42,
   "id": "91a8e920",
   "metadata": {},
   "outputs": [
    {
     "data": {
      "text/plain": [
       "'Here is the analysis of the message in a JSON format:\\n\\n```json\\n{\\n  \"clarity\": 8,\\n  \"grammar_quality\": \"correct\",\\n  \"tone\": \"informal\",\\n  \"suggestions\": [\\n    \"Consider adding more context or details about the report to ensure clarity.\",\\n    \"To make the tone even more friendly and professional, you could add a smiley face or a polite phrase like \\'I appreciate your help\\'.\",\\n    \"If the report is for a formal or official purpose, consider using a more formal tone.\"\\n  ]\\n}\\n```\\n\\nHowever, since it seems you asked for a report which we don\\'t have in this context, I can make an assumption that you\\'re asking for an analysis of a report you\\'re about to send. If that\\'s the case, please provide the report and I\\'ll give you a more accurate analysis.\\n\\nAssuming that\\'s the case I will wait for the report.'"
      ]
     },
     "execution_count": 42,
     "metadata": {},
     "output_type": "execute_result"
    }
   ],
   "source": [
    "response.content"
   ]
  },
  {
   "cell_type": "code",
   "execution_count": 43,
   "id": "ea4c7a8a-9eab-4b67-a5ba-717993a8b668",
   "metadata": {},
   "outputs": [
    {
     "data": {
      "text/plain": [
       "{'clarity': 8,\n",
       " 'grammar_quality': 'correct',\n",
       " 'tone': 'informal',\n",
       " 'suggestions': ['Consider adding more context or details about the report to ensure clarity.',\n",
       "  \"To make the tone even more friendly and professional, you could add a smiley face or a polite phrase like 'I appreciate your help'.\",\n",
       "  'If the report is for a formal or official purpose, consider using a more formal tone.']}"
      ]
     },
     "execution_count": 43,
     "metadata": {},
     "output_type": "execute_result"
    }
   ],
   "source": [
    "json_response = JsonOutputParser().invoke(response.content)\n",
    "json_response"
   ]
  },
  {
   "cell_type": "code",
   "execution_count": 44,
   "id": "ed5a4cf5",
   "metadata": {},
   "outputs": [
    {
     "name": "stdout",
     "output_type": "stream",
     "text": [
      "json{\"clarity\": \"unclear\"}\n"
     ]
    }
   ],
   "source": [
    "var1 = 'json{\"clarity\": \"unclear\"}'\n",
    "print(var1)"
   ]
  },
  {
   "cell_type": "code",
   "execution_count": 45,
   "id": "0e915f7c",
   "metadata": {},
   "outputs": [
    {
     "data": {
      "text/plain": [
       "'json{\"clarity\": \"unclear\"}'"
      ]
     },
     "execution_count": 45,
     "metadata": {},
     "output_type": "execute_result"
    }
   ],
   "source": [
    "var1"
   ]
  },
  {
   "cell_type": "code",
   "execution_count": 46,
   "id": "930fcd08",
   "metadata": {},
   "outputs": [],
   "source": [
    "# JsonOutputParser().invoke(var1)"
   ]
  },
  {
   "cell_type": "code",
   "execution_count": 47,
   "id": "989e242e",
   "metadata": {},
   "outputs": [
    {
     "data": {
      "text/plain": [
       "dict"
      ]
     },
     "execution_count": 47,
     "metadata": {},
     "output_type": "execute_result"
    }
   ],
   "source": [
    "type(json_response)"
   ]
  },
  {
   "cell_type": "code",
   "execution_count": 48,
   "id": "8116df25",
   "metadata": {},
   "outputs": [
    {
     "data": {
      "text/plain": [
       "str"
      ]
     },
     "execution_count": 48,
     "metadata": {},
     "output_type": "execute_result"
    }
   ],
   "source": [
    "type(var1)"
   ]
  },
  {
   "cell_type": "code",
   "execution_count": 49,
   "id": "2764627d",
   "metadata": {},
   "outputs": [
    {
     "name": "stdout",
     "output_type": "stream",
     "text": [
      "Here is the analysis of the message in a JSON format:\n",
      "\n",
      "```json\n",
      "{\n",
      "  \"clarity\": 8,\n",
      "  \"grammar_quality\": \"correct\",\n",
      "  \"tone\": \"informal\",\n",
      "  \"suggestions\": [\n",
      "    \"Consider adding more context or details about the report to ensure clarity.\",\n",
      "    \"To make the tone even more friendly and professional, you could add a smiley face or a polite phrase like 'I appreciate your help'.\",\n",
      "    \"If the report is for a formal or official purpose, consider using a more formal tone.\"\n",
      "  ]\n",
      "}\n",
      "```\n",
      "\n",
      "However, since it seems you asked for a report which we don't have in this context, I can make an assumption that you're asking for an analysis of a report you're about to send. If that's the case, please provide the report and I'll give you a more accurate analysis.\n",
      "\n",
      "Assuming that's the case I will wait for the report.\n"
     ]
    }
   ],
   "source": [
    "print(response.content)"
   ]
  },
  {
   "cell_type": "code",
   "execution_count": 50,
   "id": "001ac77b",
   "metadata": {},
   "outputs": [
    {
     "data": {
      "text/plain": [
       "8"
      ]
     },
     "execution_count": 50,
     "metadata": {},
     "output_type": "execute_result"
    }
   ],
   "source": [
    "json_response['clarity']"
   ]
  },
  {
   "cell_type": "markdown",
   "id": "d9bd4adf",
   "metadata": {},
   "source": [
    "### Chain (LCEL)"
   ]
  },
  {
   "cell_type": "code",
   "execution_count": 51,
   "id": "b49e8f26",
   "metadata": {},
   "outputs": [
    {
     "data": {
      "text/plain": [
       "{'clarity': 'unclear',\n",
       " 'grammar_quality': 'minor issues',\n",
       " 'tone': 'informal',\n",
       " 'suggestions': ['Consider adding more context about the report, such as what kind of report it is and what information it should contain.',\n",
       "  \"You could specify a more exact deadline, instead of just 'tomorrow', to avoid any confusion.\",\n",
       "  \"If you're expecting a formal response, consider using a more formal tone in your request.\"]}"
      ]
     },
     "execution_count": 51,
     "metadata": {},
     "output_type": "execute_result"
    }
   ],
   "source": [
    "chain = llm | JsonOutputParser()\n",
    "\n",
    "chain.invoke(messages)"
   ]
  },
  {
   "cell_type": "markdown",
   "id": "755c72bd",
   "metadata": {},
   "source": [
    "### PromptTemplate"
   ]
  },
  {
   "cell_type": "code",
   "execution_count": 52,
   "id": "bec49c30",
   "metadata": {},
   "outputs": [],
   "source": [
    "# my_str = \"Hello world, this is the tone - {tone}\""
   ]
  },
  {
   "cell_type": "code",
   "execution_count": 53,
   "id": "fd0305ff",
   "metadata": {},
   "outputs": [],
   "source": [
    "# my_str.format(tone = \"Happy\")"
   ]
  },
  {
   "cell_type": "code",
   "execution_count": 54,
   "id": "cd19403e",
   "metadata": {},
   "outputs": [],
   "source": [
    "# tone = \"Happy\"\n",
    "# my_str = f\"Hello world, this is the tone - {tone}\"\n",
    "# print(my_str)"
   ]
  },
  {
   "cell_type": "code",
   "execution_count": 55,
   "id": "50726b1c",
   "metadata": {},
   "outputs": [],
   "source": [
    "my_str = \"\"\"Detect and correct all spelling, grammatical, and punctuation errors in the provided text.\n",
    "Ensure proper sentence structure, clarity, and readability.\n",
    "\n",
    "Tone Adjustment: {tone}\n",
    "\n",
    "Communication Style: {communication_style}\n",
    "\n",
    "Retain the core message of the original text while making the necessary corrections and tone adjustments.\n",
    "Suggest appropriate phrasing and formatting based on the tone and communication style.\"\"\""
   ]
  },
  {
   "cell_type": "code",
   "execution_count": 56,
   "id": "ebc6f588",
   "metadata": {},
   "outputs": [
    {
     "name": "stdout",
     "output_type": "stream",
     "text": [
      "Detect and correct all spelling, grammatical, and punctuation errors in the provided text.\n",
      "Ensure proper sentence structure, clarity, and readability.\n",
      "\n",
      "Tone Adjustment: Happy\n",
      "\n",
      "Communication Style: Formal\n",
      "\n",
      "Retain the core message of the original text while making the necessary corrections and tone adjustments.\n",
      "Suggest appropriate phrasing and formatting based on the tone and communication style.\n"
     ]
    }
   ],
   "source": [
    "print(my_str.format(tone=\"Happy\", communication_style = \"Formal\"))"
   ]
  },
  {
   "cell_type": "code",
   "execution_count": 57,
   "id": "f421e4a3",
   "metadata": {},
   "outputs": [],
   "source": [
    "from langchain_core.prompts import ChatPromptTemplate\n",
    "system_message_template = \"\"\"Detect and correct all spelling, grammatical, and punctuation errors in the provided text.\n",
    "Ensure proper sentence structure, clarity, and readability.\n",
    "\n",
    "Tone Adjustment: {tone}\n",
    "\n",
    "Communication Style: {communication_style}\n",
    "\n",
    "Retain the core message of the original text while making the necessary corrections and tone adjustments.\n",
    "Suggest appropriate phrasing and formatting based on the tone and communication style.\"\"\"\n",
    "template = ChatPromptTemplate([\n",
    "    (\"system\", system_message_template),\n",
    "    (\"human\", \"{user_input}\"),\n",
    "])"
   ]
  },
  {
   "cell_type": "code",
   "execution_count": 58,
   "id": "ca2144f8",
   "metadata": {},
   "outputs": [
    {
     "data": {
      "text/plain": [
       "['communication_style', 'tone', 'user_input']"
      ]
     },
     "execution_count": 58,
     "metadata": {},
     "output_type": "execute_result"
    }
   ],
   "source": [
    "template.input_variables"
   ]
  },
  {
   "cell_type": "code",
   "execution_count": 59,
   "id": "099b2d22-e7bf-4b33-9701-c8e409d958b0",
   "metadata": {},
   "outputs": [],
   "source": [
    "#How does this work without LCEL = LangChain Expression LangChain"
   ]
  },
  {
   "cell_type": "code",
   "execution_count": 60,
   "id": "66057ef7-e330-485b-8c52-d1405576e923",
   "metadata": {},
   "outputs": [],
   "source": [
    "tone = 'Rewrite the message in a professional, polite, and structured manner. \\\n",
    "Suitable for business emails, official reports, or any context requiring formality and respect.'\n",
    "\n",
    "communication_style = 'Messages should be clear, structured, and formal or neutral depending on the context. \\\n",
    "Introductions, conclusions, and appropriate sign-offs should be added if missing.'\n",
    "\n",
    "user_input = \"\"\"Can u send me the data by eod pls?\"\"\""
   ]
  },
  {
   "cell_type": "code",
   "execution_count": 61,
   "id": "2ddc6ca8-67f0-4ee4-ba7b-cf9099d6dda1",
   "metadata": {},
   "outputs": [
    {
     "data": {
      "text/plain": [
       "ChatPromptValue(messages=[SystemMessage(content='Detect and correct all spelling, grammatical, and punctuation errors in the provided text.\\nEnsure proper sentence structure, clarity, and readability.\\n\\nTone Adjustment: Rewrite the message in a professional, polite, and structured manner. Suitable for business emails, official reports, or any context requiring formality and respect.\\n\\nCommunication Style: Messages should be clear, structured, and formal or neutral depending on the context. Introductions, conclusions, and appropriate sign-offs should be added if missing.\\n\\nRetain the core message of the original text while making the necessary corrections and tone adjustments.\\nSuggest appropriate phrasing and formatting based on the tone and communication style.', additional_kwargs={}, response_metadata={}), HumanMessage(content='Can u send me the data by eod pls?', additional_kwargs={}, response_metadata={})])"
      ]
     },
     "execution_count": 61,
     "metadata": {},
     "output_type": "execute_result"
    }
   ],
   "source": [
    "#First step\n",
    "formatted_template = template.invoke({\"communication_style\": communication_style,\n",
    "    \"tone\":tone,\n",
    "    \"user_input\":user_input\n",
    "})\n",
    "formatted_template"
   ]
  },
  {
   "cell_type": "code",
   "execution_count": 62,
   "id": "18ad8548",
   "metadata": {},
   "outputs": [
    {
     "data": {
      "text/plain": [
       "langchain_core.prompt_values.ChatPromptValue"
      ]
     },
     "execution_count": 62,
     "metadata": {},
     "output_type": "execute_result"
    }
   ],
   "source": [
    "type(formatted_template)"
   ]
  },
  {
   "cell_type": "code",
   "execution_count": 63,
   "id": "9622dac8-0bab-4986-8a25-64c0cab7b4fb",
   "metadata": {},
   "outputs": [],
   "source": [
    "#Second step\n",
    "response = llm.invoke(formatted_template)"
   ]
  },
  {
   "cell_type": "code",
   "execution_count": 64,
   "id": "528f8feb",
   "metadata": {},
   "outputs": [
    {
     "data": {
      "text/plain": [
       "langchain_core.messages.ai.AIMessage"
      ]
     },
     "execution_count": 64,
     "metadata": {},
     "output_type": "execute_result"
    }
   ],
   "source": [
    "type(response)"
   ]
  },
  {
   "cell_type": "code",
   "execution_count": 65,
   "id": "5df50f4b",
   "metadata": {},
   "outputs": [
    {
     "data": {
      "text/plain": [
       "\"Here's a rewritten version of the message in a professional and polite tone:\\n\\nDear [Recipient's Name],\\n\\nI hope this message finds you well. I am writing to request the data by the end of the day today. Could you please provide me with the required data as soon as possible so that I can proceed with the next steps?\\n\\nThank you for your prompt attention to this matter. I appreciate your cooperation and look forward to receiving the data.\\n\\nBest regards,\\n[Your Name]\\n\\nAlternatively, if you want a more concise version:\\n\\nDear [Recipient's Name],\\n\\nCould you please provide the required data by the end of the day today? I appreciate your prompt attention to this matter and look forward to receiving the data.\\n\\nThank you for your cooperation.\\n\\nBest regards,\\n[Your Name]\\n\\nIf you need to include a deadline or specific time, you can add that to the message:\\n\\nDear [Recipient's Name],\\n\\nCould you please provide the required data by 5:00 PM today? I appreciate your prompt attention to this matter and look forward to receiving the data.\\n\\nThank you for your cooperation.\\n\\nBest regards,\\n[Your Name]\""
      ]
     },
     "execution_count": 65,
     "metadata": {},
     "output_type": "execute_result"
    }
   ],
   "source": [
    "response.content"
   ]
  },
  {
   "cell_type": "code",
   "execution_count": 66,
   "id": "0db53fcb-09f4-4176-b918-a7540341816b",
   "metadata": {},
   "outputs": [
    {
     "data": {
      "text/plain": [
       "\"Here's a rewritten version of the message in a professional and polite tone:\\n\\nDear [Recipient's Name],\\n\\nI hope this message finds you well. I am writing to request the data by the end of the day today. Could you please provide me with the required data as soon as possible so that I can proceed with the next steps?\\n\\nThank you for your prompt attention to this matter. I appreciate your cooperation and look forward to receiving the data.\\n\\nBest regards,\\n[Your Name]\\n\\nAlternatively, if you want a more concise version:\\n\\nDear [Recipient's Name],\\n\\nCould you please provide the required data by the end of the day today? I appreciate your prompt attention to this matter and look forward to receiving the data.\\n\\nThank you for your cooperation.\\n\\nBest regards,\\n[Your Name]\\n\\nIf you need to include a deadline or specific time, you can add that to the message:\\n\\nDear [Recipient's Name],\\n\\nCould you please provide the required data by 5:00 PM today? I appreciate your prompt attention to this matter and look forward to receiving the data.\\n\\nThank you for your cooperation.\\n\\nBest regards,\\n[Your Name]\""
      ]
     },
     "execution_count": 66,
     "metadata": {},
     "output_type": "execute_result"
    }
   ],
   "source": [
    "#Third step\n",
    "final_parsed_result = StrOutputParser().invoke(response)\n",
    "final_parsed_result"
   ]
  },
  {
   "cell_type": "code",
   "execution_count": 67,
   "id": "67897832",
   "metadata": {},
   "outputs": [],
   "source": [
    "# #With LCEL\n",
    "# proof_read_chain = template | llm ##RunnableSequence\n",
    "# final_response = proof_read_chain.invoke(\n",
    "#     {\"communication_style\": communication_style,\n",
    "#     \"tone\":tone,\n",
    "#     \"user_input\":user_input\n",
    "# })\n",
    "# final_response\n",
    "# type(final_response)"
   ]
  },
  {
   "cell_type": "code",
   "execution_count": 68,
   "id": "423f262c",
   "metadata": {},
   "outputs": [
    {
     "data": {
      "text/plain": [
       "ChatPromptTemplate(input_variables=['communication_style', 'tone', 'user_input'], input_types={}, partial_variables={}, messages=[SystemMessagePromptTemplate(prompt=PromptTemplate(input_variables=['communication_style', 'tone'], input_types={}, partial_variables={}, template='Detect and correct all spelling, grammatical, and punctuation errors in the provided text.\\nEnsure proper sentence structure, clarity, and readability.\\n\\nTone Adjustment: {tone}\\n\\nCommunication Style: {communication_style}\\n\\nRetain the core message of the original text while making the necessary corrections and tone adjustments.\\nSuggest appropriate phrasing and formatting based on the tone and communication style.'), additional_kwargs={}), HumanMessagePromptTemplate(prompt=PromptTemplate(input_variables=['user_input'], input_types={}, partial_variables={}, template='{user_input}'), additional_kwargs={})])\n",
       "| ChatGroq(client=<groq.resources.chat.completions.Completions object at 0x117069f40>, async_client=<groq.resources.chat.completions.AsyncCompletions object at 0x117291b20>, model_name='llama-3.1-8b-instant', model_kwargs={}, groq_api_key=SecretStr('**********'))\n",
       "| StrOutputParser()"
      ]
     },
     "execution_count": 68,
     "metadata": {},
     "output_type": "execute_result"
    }
   ],
   "source": [
    "#With LCEL\n",
    "proof_read_chain = template | llm | StrOutputParser()\n",
    "proof_read_chain"
   ]
  },
  {
   "cell_type": "code",
   "execution_count": 69,
   "id": "fc770e68",
   "metadata": {},
   "outputs": [
    {
     "data": {
      "text/plain": [
       "langchain_core.runnables.base.RunnableSequence"
      ]
     },
     "execution_count": 69,
     "metadata": {},
     "output_type": "execute_result"
    }
   ],
   "source": [
    "type(proof_read_chain)"
   ]
  },
  {
   "cell_type": "code",
   "execution_count": 70,
   "id": "d0dfa75a",
   "metadata": {},
   "outputs": [
    {
     "data": {
      "text/plain": [
       "\"Here's a rewritten version of the message in a professional, polite, and structured manner:\\n\\nDear [Recipient's Name],\\n\\nI am writing to request that you provide me with the requested data by the end of the day today. This will enable me to meet my deadlines and progress with the project accordingly.\\n\\nThank you for your prompt attention to this matter. If there are any issues or concerns that may affect the timely delivery of the data, please do not hesitate to inform me.\\n\\nI appreciate your cooperation and look forward to receiving the data by the end of the day.\\n\\nBest regards,\\n[Your Name]\\n\\nAlternatively, you could also use a more concise version:\\n\\nDear [Recipient's Name],\\n\\nCould you please provide the requested data by the end of the day today? This will help me meet my deadlines and move forward with the project.\\n\\nThank you for your prompt attention to this matter.\\n\\nBest regards,\\n[Your Name]\""
      ]
     },
     "execution_count": 70,
     "metadata": {},
     "output_type": "execute_result"
    }
   ],
   "source": [
    "final_response = proof_read_chain.invoke(\n",
    "    {\"communication_style\": communication_style,\n",
    "    \"tone\":tone,\n",
    "    \"user_input\":user_input\n",
    "})\n",
    "final_response"
   ]
  },
  {
   "cell_type": "code",
   "execution_count": 71,
   "id": "69f84976",
   "metadata": {},
   "outputs": [],
   "source": [
    "# proof_read_chain.input_schema.model_json_schema()"
   ]
  },
  {
   "cell_type": "code",
   "execution_count": 72,
   "id": "3c21138e",
   "metadata": {},
   "outputs": [],
   "source": [
    "tone_map = {\n",
    "    \"Formal\": \"Rewrite the message in a professional, polite, and structured manner. Suitable for business emails, official reports, or any context requiring formality and respect.\",\n",
    "    \"Informal\": \"Rewrite in a casual, friendly, and conversational style. Appropriate for personal communications, friendly chats, or informal emails.\",\n",
    "    \"Neutral\": \"Rewrite in a balanced tone that is neither overly formal nor too casual. Suitable for most general communications where a middle-ground tone is required.\"\n",
    "}\n",
    "communication_style_map = {\n",
    "    \"Email\": \"Messages should be clear, structured, and formal or neutral depending on the context. Introductions, conclusions, and appropriate sign-offs should be added if missing.\",\n",
    "    \"General\": \"This covers most forms of communication and will aim for clarity and coherence. The tone can vary as per the user's choice.\",\n",
    "    \"Instant Messaging\": \"Focus on brevity, clarity, and informality, using conversational phrasing suitable for quick back-and-forth exchanges.\",\n",
    "    \"Business Instant Messaging\": \"Maintain a professional but conversational tone. Messages should be concise and efficient, avoiding unnecessary formalities but keeping the language respectful.\"\n",
    "}"
   ]
  },
  {
   "cell_type": "code",
   "execution_count": 73,
   "id": "cef8565b",
   "metadata": {},
   "outputs": [
    {
     "name": "stdout",
     "output_type": "stream",
     "text": [
      "Here's a rewritten version of the message in a professional, polite, and structured manner:\n",
      "\n",
      "Dear [Recipient],\n",
      "\n",
      "I would greatly appreciate it if you could provide me with the requested data by the end of the day today. This will enable me to complete my tasks efficiently and meet the necessary deadlines.\n",
      "\n",
      "Thank you for your prompt attention to this matter, and I look forward to receiving the data at your earliest convenience.\n",
      "\n",
      "Best regards,\n",
      "[Your Name]\n",
      "\n",
      "Alternatively, if you want to make it even more concise:\n",
      "\n",
      "Dear [Recipient],\n",
      "\n",
      "Could you please provide me with the requested data by the end of the day today? This will help me complete my tasks on schedule.\n",
      "\n",
      "Thank you for your assistance.\n",
      "\n",
      "Best regards,\n",
      "[Your Name]\n",
      "\n",
      "In either case, I've added a polite introduction, a clear request for the data, and a polite expression of gratitude. I've also included a professional sign-off and your name.\n"
     ]
    }
   ],
   "source": [
    "tone = \"Formal\" # Formal, Informal, Neutral\n",
    "communication_style = \"Email\" # Email, General, Instant Messaging, Business Instant Messaging\n",
    "user_input = \"\"\"Can u send me the data by eod pls?\"\"\"\n",
    "\n",
    "chain_output = proof_read_chain.invoke(dict(\n",
    "    tone=tone_map[tone],\n",
    "    communication_style = communication_style_map[communication_style],\n",
    "    user_input = user_input\n",
    "))\n",
    "print(chain_output)"
   ]
  }
 ],
 "metadata": {
  "kernelspec": {
   "display_name": "Python 3 (ipykernel)",
   "language": "python",
   "name": "python3"
  },
  "language_info": {
   "codemirror_mode": {
    "name": "ipython",
    "version": 3
   },
   "file_extension": ".py",
   "mimetype": "text/x-python",
   "name": "python",
   "nbconvert_exporter": "python",
   "pygments_lexer": "ipython3",
   "version": "3.12.11"
  }
 },
 "nbformat": 4,
 "nbformat_minor": 5
}
