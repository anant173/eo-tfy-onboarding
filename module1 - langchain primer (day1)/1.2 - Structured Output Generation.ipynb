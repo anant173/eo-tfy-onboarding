{
 "cells": [
  {
   "cell_type": "code",
   "execution_count": 1,
   "id": "9ffbfd67",
   "metadata": {},
   "outputs": [
    {
     "data": {
      "text/html": [
       "<style>.container { width:100% !important; }</style>"
      ],
      "text/plain": [
       "<IPython.core.display.HTML object>"
      ]
     },
     "metadata": {},
     "output_type": "display_data"
    }
   ],
   "source": [
    "from IPython.display import display, HTML\n",
    "display(HTML(\"<style>.container { width:100% !important; }</style>\"))"
   ]
  },
  {
   "cell_type": "markdown",
   "id": "c7ef3f0d",
   "metadata": {},
   "source": [
    "# Initial setup"
   ]
  },
  {
   "cell_type": "markdown",
   "id": "2f8653bf",
   "metadata": {},
   "source": [
    "## Set API key for Groq\n",
    "Click [here](https://console.groq.com/keys) to create API key for Groq, if not already created."
   ]
  },
  {
   "cell_type": "code",
   "execution_count": 2,
   "id": "19c179ee",
   "metadata": {},
   "outputs": [
    {
     "data": {
      "text/plain": [
       "True"
      ]
     },
     "execution_count": 2,
     "metadata": {},
     "output_type": "execute_result"
    }
   ],
   "source": [
    "import os, json, re, getpass\n",
    "from dotenv import load_dotenv\n",
    "\n",
    "load_dotenv( override=True)"
   ]
  },
  {
   "cell_type": "code",
   "execution_count": 3,
   "id": "2862e2fe",
   "metadata": {},
   "outputs": [],
   "source": [
    "if \"GROQ_API_KEY\" not in os.environ:\n",
    "    os.environ[\"GROQ_API_KEY\"] = getpass.getpass(\"GROQ API Key: \")"
   ]
  },
  {
   "cell_type": "code",
   "execution_count": 4,
   "id": "4d391a50",
   "metadata": {},
   "outputs": [],
   "source": [
    "# if \"TEST_API_KEY\" not in os.environ:\n",
    "#     os.environ[\"TEST_API_KEY\"] = getpass.getpass(\"TEST API Key: \")"
   ]
  },
  {
   "cell_type": "code",
   "execution_count": 5,
   "id": "46b506bd",
   "metadata": {},
   "outputs": [],
   "source": [
    "from langchain.chat_models import init_chat_model\n",
    "model_name = \"llama-3.1-8b-instant\" ##set Llama 3.1 8B as the LLM for this lab"
   ]
  },
  {
   "cell_type": "markdown",
   "id": "7b2ee201",
   "metadata": {},
   "source": [
    "# Structured Output Generation Methods"
   ]
  },
  {
   "cell_type": "markdown",
   "id": "f94c859a",
   "metadata": {},
   "source": [
    "## 0. Without a Method"
   ]
  },
  {
   "cell_type": "code",
   "execution_count": 6,
   "id": "ee01ca2d",
   "metadata": {},
   "outputs": [],
   "source": [
    "#Initialize LLM\n",
    "llm = init_chat_model(model_name, \n",
    "                      model_provider=\"groq\")"
   ]
  },
  {
   "cell_type": "code",
   "execution_count": 7,
   "id": "10463ea3",
   "metadata": {},
   "outputs": [],
   "source": [
    "prompt = \"\"\"Who won the Champions league in 2022?\n",
    "            Output should be in JSON and have following fields:\n",
    "            win_team, lose_team, venue, date, score\n",
    "         \"\"\""
   ]
  },
  {
   "cell_type": "code",
   "execution_count": 8,
   "id": "48953066",
   "metadata": {},
   "outputs": [
    {
     "name": "stdout",
     "output_type": "stream",
     "text": [
      "The 2022 UEFA Champions League Final was played between Real Madrid and Liverpool. \n",
      "\n",
      "Here's the result in JSON format:\n",
      "\n",
      "```json\n",
      "{\n",
      "  \"win_team\": \"Real Madrid\",\n",
      "  \"lose_team\": \"Liverpool\",\n",
      "  \"venue\": \"Stade de France\",\n",
      "  \"date\": \"May 28, 2022\",\n",
      "  \"score\": \"1-0\"\n",
      "}\n",
      "```\n",
      "\n",
      "This is the result of the game, where Real Madrid won with a 1-0 score against Liverpool at the Stade de France on May 28, 2022.\n"
     ]
    }
   ],
   "source": [
    "llm_response = llm.invoke(prompt)\n",
    "print(llm_response.content)"
   ]
  },
  {
   "cell_type": "markdown",
   "id": "3aab9328",
   "metadata": {},
   "source": [
    "## 1. Native LLM Output Response Support"
   ]
  },
  {
   "cell_type": "code",
   "execution_count": 9,
   "id": "2435301e",
   "metadata": {},
   "outputs": [],
   "source": [
    "#Initialize LLM\n",
    "llm = init_chat_model(model_name, \n",
    "                      model_provider=\"groq\",\n",
    "                      model_kwargs={\"response_format\": {\"type\": \"json_object\"}})"
   ]
  },
  {
   "cell_type": "code",
   "execution_count": 10,
   "id": "476933b6",
   "metadata": {},
   "outputs": [
    {
     "name": "stdout",
     "output_type": "stream",
     "text": [
      "{\n",
      "   \"win_team\": \"Real Madrid\",\n",
      "   \"lose_team\": \"Liverpool\",\n",
      "   \"venue\": \"Stade de France\",\n",
      "   \"date\": \"October 28, 2022\",\n",
      "   \"score\": \"1-0\"\n",
      "}\n"
     ]
    }
   ],
   "source": [
    "llm_response = llm.invoke(prompt)\n",
    "print(llm_response.content)"
   ]
  },
  {
   "cell_type": "code",
   "execution_count": 11,
   "id": "7d2dd735",
   "metadata": {},
   "outputs": [
    {
     "data": {
      "text/plain": [
       "str"
      ]
     },
     "execution_count": 11,
     "metadata": {},
     "output_type": "execute_result"
    }
   ],
   "source": [
    "# What would this be?\n",
    "type(llm_response.content)"
   ]
  },
  {
   "cell_type": "markdown",
   "id": "d9cf5dc0",
   "metadata": {},
   "source": [
    "## 2. Output Parsers"
   ]
  },
  {
   "cell_type": "code",
   "execution_count": 12,
   "id": "a7ccc17c",
   "metadata": {},
   "outputs": [],
   "source": [
    "#Initialize LLM without native support\n",
    "llm = init_chat_model(model_name, \n",
    "                      model_provider=\"groq\")"
   ]
  },
  {
   "cell_type": "code",
   "execution_count": 13,
   "id": "3e5dad09",
   "metadata": {},
   "outputs": [],
   "source": [
    "from langchain_core.output_parsers import JsonOutputParser\n",
    "\n",
    "parser = JsonOutputParser()"
   ]
  },
  {
   "cell_type": "markdown",
   "id": "8d527b56",
   "metadata": {},
   "source": [
    "*JsonOutputParser* is a runnable object."
   ]
  },
  {
   "cell_type": "code",
   "execution_count": 14,
   "id": "881e7049",
   "metadata": {},
   "outputs": [
    {
     "data": {
      "text/plain": [
       "{'clarity': 'unclear'}"
      ]
     },
     "execution_count": 14,
     "metadata": {},
     "output_type": "execute_result"
    }
   ],
   "source": [
    "#Example on a sample string\n",
    "sample_json_str = '{\"clarity\": \"unclear\"}'\n",
    "JsonOutputParser().invoke(sample_json_str)"
   ]
  },
  {
   "cell_type": "code",
   "execution_count": 15,
   "id": "beadc8d0",
   "metadata": {},
   "outputs": [],
   "source": [
    "# print(sample_json_str)"
   ]
  },
  {
   "cell_type": "code",
   "execution_count": 16,
   "id": "dea4798e",
   "metadata": {},
   "outputs": [],
   "source": [
    "#Create a chain\n",
    "chain = llm | parser"
   ]
  },
  {
   "cell_type": "code",
   "execution_count": 17,
   "id": "80221c81",
   "metadata": {},
   "outputs": [
    {
     "name": "stdout",
     "output_type": "stream",
     "text": [
      "{'win_team': 'Real Madrid', 'lose_team': 'Liverpool', 'venue': 'Stade de France, Saint-Denis, France', 'date': 'May 28, 2022', 'score': '1-0'}\n"
     ]
    }
   ],
   "source": [
    "#Get response\n",
    "llm_response = chain.invoke(prompt)\n",
    "print(llm_response)"
   ]
  },
  {
   "cell_type": "code",
   "execution_count": 18,
   "id": "d5be91de",
   "metadata": {},
   "outputs": [
    {
     "data": {
      "text/plain": [
       "dict"
      ]
     },
     "execution_count": 18,
     "metadata": {},
     "output_type": "execute_result"
    }
   ],
   "source": [
    "type(llm_response)"
   ]
  },
  {
   "cell_type": "code",
   "execution_count": 19,
   "id": "d2c20c0e",
   "metadata": {},
   "outputs": [
    {
     "data": {
      "text/plain": [
       "{'win_team': 'Real Madrid',\n",
       " 'lose_team': 'Liverpool',\n",
       " 'venue': 'Stade de France, Saint-Denis, France',\n",
       " 'date': 'May 28, 2022',\n",
       " 'score': '1-0'}"
      ]
     },
     "execution_count": 19,
     "metadata": {},
     "output_type": "execute_result"
    }
   ],
   "source": [
    "llm_response"
   ]
  },
  {
   "cell_type": "markdown",
   "id": "0e923d48",
   "metadata": {},
   "source": [
    "## 3. Output Parsers With Pydantic"
   ]
  },
  {
   "cell_type": "code",
   "execution_count": 20,
   "id": "f2346590",
   "metadata": {},
   "outputs": [],
   "source": [
    "#Initialize LLM without native support\n",
    "llm = init_chat_model(model_name, \n",
    "                      model_provider=\"groq\")"
   ]
  },
  {
   "cell_type": "code",
   "execution_count": 21,
   "id": "3d96bd16",
   "metadata": {},
   "outputs": [],
   "source": [
    "from pydantic import BaseModel, Field\n",
    "\n",
    "class GameDetails(BaseModel):\n",
    "    win_team: str = Field(description=\"The winning team in the football game, and most popular player\")\n",
    "    lose_team: str = Field(description=\"The losing team in the football game, and most popular player\")\n",
    "    venue: str = Field(description=\"The venue of the football game, and format should be stadium/venue, city, country\")\n",
    "    date: str = Field(description=\"The date of the football game, and format should be MMM-YY strictly\")\n",
    "    score: str = Field(description=\"The score of the football game, and format should losing team score - winning team score; eg. 1-2\")\n",
    "\n",
    "\n",
    "parser = JsonOutputParser(pydantic_object=GameDetails)"
   ]
  },
  {
   "cell_type": "code",
   "execution_count": 22,
   "id": "6f009e65",
   "metadata": {},
   "outputs": [
    {
     "name": "stdout",
     "output_type": "stream",
     "text": [
      "The output should be formatted as a JSON instance that conforms to the JSON schema below.\n",
      "\n",
      "As an example, for the schema {\"properties\": {\"foo\": {\"title\": \"Foo\", \"description\": \"a list of strings\", \"type\": \"array\", \"items\": {\"type\": \"string\"}}}, \"required\": [\"foo\"]}\n",
      "the object {\"foo\": [\"bar\", \"baz\"]} is a well-formatted instance of the schema. The object {\"properties\": {\"foo\": [\"bar\", \"baz\"]}} is not well-formatted.\n",
      "\n",
      "Here is the output schema:\n",
      "```\n",
      "{\"properties\": {\"win_team\": {\"description\": \"The winning team in the football game, and most popular player\", \"title\": \"Win Team\", \"type\": \"string\"}, \"lose_team\": {\"description\": \"The losing team in the football game, and most popular player\", \"title\": \"Lose Team\", \"type\": \"string\"}, \"venue\": {\"description\": \"The venue of the football game, and format should be stadium/venue, city, country\", \"title\": \"Venue\", \"type\": \"string\"}, \"date\": {\"description\": \"The date of the football game, and format should be MMM-YY strictly\", \"title\": \"Date\", \"type\": \"string\"}, \"score\": {\"description\": \"The score of the football game, and format should losing team score - winning team score; eg. 1-2\", \"title\": \"Score\", \"type\": \"string\"}}, \"required\": [\"win_team\", \"lose_team\", \"venue\", \"date\", \"score\"]}\n",
      "```\n"
     ]
    }
   ],
   "source": [
    "#Best practice to add this in the prompt directly\n",
    "print(parser.get_format_instructions())"
   ]
  },
  {
   "cell_type": "code",
   "execution_count": 23,
   "id": "35ba8bf8",
   "metadata": {},
   "outputs": [
    {
     "name": "stdout",
     "output_type": "stream",
     "text": [
      "Who won the Champions league in 2022?\n",
      "            Output should be in JSON and have following fields:\n",
      "            win_team, lose_team, venue, date, score\n",
      "         \n"
     ]
    }
   ],
   "source": [
    "print(prompt)"
   ]
  },
  {
   "cell_type": "code",
   "execution_count": 24,
   "id": "7025fa00",
   "metadata": {},
   "outputs": [],
   "source": [
    "#Create a chain\n",
    "chain = llm | parser"
   ]
  },
  {
   "cell_type": "code",
   "execution_count": 25,
   "id": "0c802e62",
   "metadata": {},
   "outputs": [
    {
     "name": "stdout",
     "output_type": "stream",
     "text": [
      "{'win_team': 'Real Madrid', 'lose_team': 'Liverpool', 'venue': 'Stade de France', 'date': 'May 28, 2022', 'score': '1-0'}\n"
     ]
    }
   ],
   "source": [
    "#Get response\n",
    "llm_response = chain.invoke(prompt)\n",
    "print(llm_response)"
   ]
  },
  {
   "cell_type": "code",
   "execution_count": null,
   "id": "bd3b5df7",
   "metadata": {},
   "outputs": [],
   "source": [
    "type(llm_response)"
   ]
  },
  {
   "cell_type": "code",
   "execution_count": 26,
   "id": "43d91dbc",
   "metadata": {},
   "outputs": [
    {
     "data": {
      "text/plain": [
       "{'win_team': 'Real Madrid',\n",
       " 'lose_team': 'Liverpool',\n",
       " 'venue': 'Stade de France',\n",
       " 'date': 'May 28, 2022',\n",
       " 'score': '1-0'}"
      ]
     },
     "execution_count": 26,
     "metadata": {},
     "output_type": "execute_result"
    }
   ],
   "source": [
    "llm_response"
   ]
  },
  {
   "cell_type": "code",
   "execution_count": 27,
   "id": "c379145b",
   "metadata": {},
   "outputs": [],
   "source": [
    "new_prompt = prompt + \"\\n\\n\" + \"Please return the output in the following JSON format: \" + parser.get_format_instructions()"
   ]
  },
  {
   "cell_type": "code",
   "execution_count": 28,
   "id": "0d1aac32",
   "metadata": {},
   "outputs": [
    {
     "data": {
      "text/plain": [
       "{'win_team': 'Real Madrid',\n",
       " 'lose_team': 'Liverpool',\n",
       " 'venue': 'Stade de France, Saint-Denis, France',\n",
       " 'date': 'May-2022',\n",
       " 'score': '1-0'}"
      ]
     },
     "execution_count": 28,
     "metadata": {},
     "output_type": "execute_result"
    }
   ],
   "source": [
    "#Get response\n",
    "llm_response = chain.invoke(new_prompt)\n",
    "llm_response"
   ]
  },
  {
   "cell_type": "markdown",
   "id": "cd86faf2",
   "metadata": {},
   "source": [
    "## 4. Structured Output (without parsers)"
   ]
  },
  {
   "cell_type": "markdown",
   "id": "d8e930ec",
   "metadata": {},
   "source": [
    "### With Pydantic"
   ]
  },
  {
   "cell_type": "code",
   "execution_count": 29,
   "id": "607fbb1b",
   "metadata": {},
   "outputs": [],
   "source": [
    "#Initialize LLM without native support\n",
    "llm = init_chat_model(model_name, \n",
    "                      model_provider=\"groq\",\n",
    "                      temperature=0.0)"
   ]
  },
  {
   "cell_type": "code",
   "execution_count": 30,
   "id": "5fbe86b2",
   "metadata": {},
   "outputs": [],
   "source": [
    "prompt = \"Who won the Champions league in 2022?\""
   ]
  },
  {
   "cell_type": "code",
   "execution_count": 31,
   "id": "a1a512bc",
   "metadata": {},
   "outputs": [],
   "source": [
    "from pydantic import BaseModel, Field\n",
    "\n",
    "class GameDetails(BaseModel):\n",
    "    \"Given a user question about a sports event, list the winning team, losing team, venue, date and final score of the game.\"\n",
    "    win_team: str = Field(description=\"The winning team in the football game, and most popular player\")\n",
    "    lose_team: str = Field(description=\"The losing team in the football game, and most popular player\")\n",
    "    venue: str = Field(description=\"The venue of the football game, and format should be stadium/venue, city, country\")\n",
    "    date: str = Field(description=\"The date of the football game, and format should be MMM-YY strictly\")\n",
    "    score: dict = Field(description=\"The score of the football game, and format should {losing team: score, winning team: score}\")"
   ]
  },
  {
   "cell_type": "code",
   "execution_count": 32,
   "id": "44f4edc5",
   "metadata": {},
   "outputs": [],
   "source": [
    "structured_llm = llm.with_structured_output(GameDetails)"
   ]
  },
  {
   "cell_type": "code",
   "execution_count": 33,
   "id": "e59b4c03",
   "metadata": {},
   "outputs": [
    {
     "data": {
      "text/plain": [
       "GameDetails(win_team='Real Madrid', lose_team='Liverpool', venue='Stade de France, Saint-Denis, France', date='May-22', score={'Liverpool': 0, 'Real Madrid': 1})"
      ]
     },
     "execution_count": 33,
     "metadata": {},
     "output_type": "execute_result"
    }
   ],
   "source": [
    "structured_llm.invoke(prompt)"
   ]
  },
  {
   "cell_type": "code",
   "execution_count": 34,
   "id": "1329e05b",
   "metadata": {},
   "outputs": [
    {
     "data": {
      "text/plain": [
       "{'win_team': 'Real Madrid',\n",
       " 'lose_team': 'Liverpool',\n",
       " 'venue': 'Stade de France, Saint-Denis, France',\n",
       " 'date': 'May-22',\n",
       " 'score': {'Liverpool': 0, 'Real Madrid': 1}}"
      ]
     },
     "execution_count": 34,
     "metadata": {},
     "output_type": "execute_result"
    }
   ],
   "source": [
    "#.model_dump() method converts a model to a dictionary\n",
    "llm_response = structured_llm.invoke(prompt).model_dump()\n",
    "llm_response"
   ]
  },
  {
   "cell_type": "code",
   "execution_count": 35,
   "id": "5821844f",
   "metadata": {},
   "outputs": [
    {
     "data": {
      "text/plain": [
       "dict"
      ]
     },
     "execution_count": 35,
     "metadata": {},
     "output_type": "execute_result"
    }
   ],
   "source": [
    "type(llm_response)"
   ]
  },
  {
   "cell_type": "markdown",
   "id": "ac1ec85f",
   "metadata": {},
   "source": [
    "### With TypedDict"
   ]
  },
  {
   "cell_type": "code",
   "execution_count": 29,
   "id": "b912e772",
   "metadata": {},
   "outputs": [],
   "source": [
    "#Initialize LLM without native support\n",
    "llm = init_chat_model(model_name, \n",
    "                      model_provider=\"groq\",\n",
    "                      temperature=0.0)"
   ]
  },
  {
   "cell_type": "code",
   "execution_count": 30,
   "id": "31bc2ce4",
   "metadata": {},
   "outputs": [],
   "source": [
    "prompt = \"Who won the Champions league in 2022?\""
   ]
  },
  {
   "cell_type": "code",
   "execution_count": 36,
   "id": "d5e23100",
   "metadata": {},
   "outputs": [],
   "source": [
    "from typing_extensions import Annotated, TypedDict\n",
    "from typing import Optional\n",
    "\n",
    "class GameDetails(TypedDict):\n",
    "    \"Given a user question about a sports event, list the winning team, losing team, venue, date and final score of the game.\"\n",
    "    win_team: str = Field(description=\"The winning team in the football game, and most popular player\")\n",
    "    lose_team: str = Field(description=\"The losing team in the football game, and most popular player\")\n",
    "    venue: str = Field(description=\"The venue of the football game, and format should be stadium/venue, city, country\")\n",
    "    date: str = Field(description=\"The date of the football game, and format should be MMM-YY strictly\")\n",
    "    score: dict = Field(description=\"The score of the football game, and format should {losing team: score, winning team: score}\")"
   ]
  },
  {
   "cell_type": "code",
   "execution_count": 37,
   "id": "10597a67",
   "metadata": {},
   "outputs": [],
   "source": [
    "structured_llm = llm.with_structured_output(GameDetails)"
   ]
  },
  {
   "cell_type": "code",
   "execution_count": 42,
   "id": "e0c247b5",
   "metadata": {},
   "outputs": [
    {
     "data": {
      "text/plain": [
       "{'competition': 'Champions League',\n",
       " 'date': '2022-05-28',\n",
       " 'lose_team': 'Liverpool',\n",
       " 'score': {'fullTime': {'lose_team': 0, 'win_team': 1},\n",
       "  'halftime': {'lose_team': 0, 'win_team': 0}},\n",
       " 'venue': 'Stade de France',\n",
       " 'win_team': 'Real Madrid'}"
      ]
     },
     "execution_count": 42,
     "metadata": {},
     "output_type": "execute_result"
    }
   ],
   "source": [
    "llm_response = structured_llm.invoke(prompt)\n",
    "llm_response"
   ]
  },
  {
   "cell_type": "code",
   "execution_count": 43,
   "id": "15c86463",
   "metadata": {},
   "outputs": [
    {
     "data": {
      "text/plain": [
       "dict"
      ]
     },
     "execution_count": 43,
     "metadata": {},
     "output_type": "execute_result"
    }
   ],
   "source": [
    "type(llm_response)"
   ]
  },
  {
   "cell_type": "markdown",
   "id": "36e6491c",
   "metadata": {},
   "source": [
    "### With JSON Schema"
   ]
  },
  {
   "cell_type": "code",
   "execution_count": 44,
   "id": "731d9a5a",
   "metadata": {},
   "outputs": [],
   "source": [
    "#Initialize LLM without native support\n",
    "llm = init_chat_model(model_name, \n",
    "                      model_provider=\"groq\",\n",
    "                      temperature=0.0)"
   ]
  },
  {
   "cell_type": "code",
   "execution_count": 45,
   "id": "e3e104f6",
   "metadata": {},
   "outputs": [],
   "source": [
    "prompt = \"Who won the Champions league in 2022?\""
   ]
  },
  {
   "cell_type": "code",
   "execution_count": 55,
   "id": "fb8359e3",
   "metadata": {},
   "outputs": [],
   "source": [
    "json_schema = {\n",
    "    \"title\": \"GameDetails\",\n",
    "    \"description\": \"Given a user question about a sports event, list the winning team, losing team, venue, date and final score of the game.\",\n",
    "    \"type\": \"object\",\n",
    "    \"properties\": {\n",
    "        \"win_team\": {\n",
    "            \"type\": \"string\",\n",
    "            \"description\": \"The winning team in the football game, and most popular player\"\n",
    "        },\n",
    "        \"lose_team\": {\n",
    "            \"type\": \"string\",\n",
    "            \"description\": \"The losing team in the football game, and most popular player\"\n",
    "        },\n",
    "        \"venue\": {\n",
    "            \"type\": \"string\",\n",
    "            \"description\": \"The venue of the football game, and format should be stadium/venue, city, country\"\n",
    "        },\n",
    "        \"date\": {\n",
    "            \"type\": \"string\",\n",
    "            \"description\": \"The date of the football game, and format should be MMM-YY strictly\"\n",
    "        },\n",
    "        \"score\": {\n",
    "            \"type\": \"object\",\n",
    "            \"description\": \"The score of the football game, and format should {losing team: score, winning team: score}\"\n",
    "        }\n",
    "    },\n",
    "    \"required\": [\"win_team\", \"lose_team\", \"venue\",\"date\",\"score\"],\n",
    "}"
   ]
  },
  {
   "cell_type": "code",
   "execution_count": 56,
   "id": "afb3b4d2",
   "metadata": {},
   "outputs": [],
   "source": [
    "structured_llm = llm.with_structured_output(json_schema)"
   ]
  },
  {
   "cell_type": "code",
   "execution_count": 57,
   "id": "eff3fea7",
   "metadata": {},
   "outputs": [
    {
     "data": {
      "text/plain": [
       "{'date': 'May-22',\n",
       " 'lose_team': 'Liverpool',\n",
       " 'score': {'Liverpool': '0', 'Real Madrid': '1'},\n",
       " 'venue': 'Stade de France, Saint-Denis, France',\n",
       " 'win_team': 'Real Madrid'}"
      ]
     },
     "execution_count": 57,
     "metadata": {},
     "output_type": "execute_result"
    }
   ],
   "source": [
    "llm_response = structured_llm.invoke(prompt)\n",
    "llm_response"
   ]
  },
  {
   "cell_type": "code",
   "execution_count": 58,
   "id": "d73c8ceb",
   "metadata": {},
   "outputs": [
    {
     "data": {
      "text/plain": [
       "dict"
      ]
     },
     "execution_count": 58,
     "metadata": {},
     "output_type": "execute_result"
    }
   ],
   "source": [
    "type(llm_response)"
   ]
  }
 ],
 "metadata": {
  "kernelspec": {
   "display_name": "Python 3 (ipykernel)",
   "language": "python",
   "name": "python3"
  },
  "language_info": {
   "codemirror_mode": {
    "name": "ipython",
    "version": 3
   },
   "file_extension": ".py",
   "mimetype": "text/x-python",
   "name": "python",
   "nbconvert_exporter": "python",
   "pygments_lexer": "ipython3",
   "version": "3.13.5"
  },
  "varInspector": {
   "cols": {
    "lenName": 16,
    "lenType": 16,
    "lenVar": 40
   },
   "kernels_config": {
    "python": {
     "delete_cmd_postfix": "",
     "delete_cmd_prefix": "del ",
     "library": "var_list.py",
     "varRefreshCmd": "print(var_dic_list())"
    },
    "r": {
     "delete_cmd_postfix": ") ",
     "delete_cmd_prefix": "rm(",
     "library": "var_list.r",
     "varRefreshCmd": "cat(var_dic_list()) "
    }
   },
   "types_to_exclude": [
    "module",
    "function",
    "builtin_function_or_method",
    "instance",
    "_Feature"
   ],
   "window_display": false
  }
 },
 "nbformat": 4,
 "nbformat_minor": 5
}
