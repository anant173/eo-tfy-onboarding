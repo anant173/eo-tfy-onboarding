{
 "cells": [
  {
   "cell_type": "markdown",
   "id": "131e14d0",
   "metadata": {},
   "source": [
    "# Retrieval Augmented Generation with LangGraph"
   ]
  },
  {
   "cell_type": "markdown",
   "id": "30632154",
   "metadata": {},
   "source": [
    "## Initial Setup"
   ]
  },
  {
   "cell_type": "code",
   "execution_count": 1,
   "id": "10fca11c",
   "metadata": {},
   "outputs": [],
   "source": [
    "import os, json, re, getpass, warnings\n",
    "import numpy as np\n",
    "from dotenv import load_dotenv\n",
    "from uuid import uuid4\n",
    "from IPython.display import display, Markdown"
   ]
  },
  {
   "cell_type": "code",
   "execution_count": 2,
   "id": "ce25dbfc",
   "metadata": {},
   "outputs": [
    {
     "data": {
      "text/plain": [
       "True"
      ]
     },
     "execution_count": 2,
     "metadata": {},
     "output_type": "execute_result"
    }
   ],
   "source": [
    "warnings.filterwarnings('ignore')\n",
    "load_dotenv(override=True)"
   ]
  },
  {
   "cell_type": "code",
   "execution_count": 3,
   "id": "b13fa3a9",
   "metadata": {},
   "outputs": [],
   "source": [
    "#Check for Groq API Key\n",
    "if \"GROQ_API_KEY\" not in os.environ:\n",
    "    os.environ[\"GROQ_API_KEY\"] = getpass.getpass(\"GROQ API Key: \")"
   ]
  },
  {
   "cell_type": "markdown",
   "id": "75b191e9",
   "metadata": {},
   "source": [
    "## Defining Components"
   ]
  },
  {
   "cell_type": "code",
   "execution_count": 4,
   "id": "191901d6",
   "metadata": {},
   "outputs": [],
   "source": [
    "# Question\n",
    "question = \"What is TrueFoundry all about?\""
   ]
  },
  {
   "cell_type": "markdown",
   "id": "2ec991ab",
   "metadata": {},
   "source": [
    "### Chat Model"
   ]
  },
  {
   "cell_type": "code",
   "execution_count": 5,
   "id": "c3e79ce0",
   "metadata": {},
   "outputs": [],
   "source": [
    "from langchain.chat_models import init_chat_model\n",
    "\n",
    "model_name = \"llama-3.1-8b-instant\"\n",
    "llm = init_chat_model(model_name, model_provider=\"groq\") #Other Llama alternatives available are llama3-8b-8192, llama-3.3-70b-versatile"
   ]
  },
  {
   "cell_type": "markdown",
   "id": "02d51397",
   "metadata": {},
   "source": [
    "### Embedding Model"
   ]
  },
  {
   "cell_type": "code",
   "execution_count": 6,
   "id": "6a6d5af0",
   "metadata": {},
   "outputs": [
    {
     "name": "stdout",
     "output_type": "stream",
     "text": [
      "\u001b[?2026h\u001b[?25l\u001b[1Gpulling manifest ⠋ \u001b[K\u001b[?25h\u001b[?2026l\u001b[?2026h\u001b[?25l\u001b[1Gpulling manifest ⠙ \u001b[K\u001b[?25h\u001b[?2026l\u001b[?2026h\u001b[?25l\u001b[1Gpulling manifest ⠹ \u001b[K\u001b[?25h\u001b[?2026l\u001b[?2026h\u001b[?25l\u001b[1Gpulling manifest ⠸ \u001b[K\u001b[?25h\u001b[?2026l\u001b[?2026h\u001b[?25l\u001b[1Gpulling manifest ⠼ \u001b[K\u001b[?25h\u001b[?2026l\u001b[?2026h\u001b[?25l\u001b[1Gpulling manifest ⠴ \u001b[K\u001b[?25h\u001b[?2026l\u001b[?2026h\u001b[?25l\u001b[1Gpulling manifest ⠦ \u001b[K\u001b[?25h\u001b[?2026l\u001b[?2026h\u001b[?25l\u001b[1Gpulling manifest ⠧ \u001b[K\u001b[?25h\u001b[?2026l\u001b[?2026h\u001b[?25l\u001b[1Gpulling manifest ⠇ \u001b[K\u001b[?25h\u001b[?2026l\u001b[?2026h\u001b[?25l\u001b[1Gpulling manifest ⠏ \u001b[K\u001b[?25h\u001b[?2026l\u001b[?2026h\u001b[?25l\u001b[1Gpulling manifest ⠋ \u001b[K\u001b[?25h\u001b[?2026l\u001b[?2026h\u001b[?25l\u001b[1Gpulling manifest ⠙ \u001b[K\u001b[?25h\u001b[?2026l\u001b[?2026h\u001b[?25l\u001b[1Gpulling manifest ⠹ \u001b[K\u001b[?25h\u001b[?2026l\u001b[?2026h\u001b[?25l\u001b[1Gpulling manifest ⠸ \u001b[K\u001b[?25h\u001b[?2026l\u001b[?2026h\u001b[?25l\u001b[1Gpulling manifest ⠼ \u001b[K\u001b[?25h\u001b[?2026l\u001b[?2026h\u001b[?25l\u001b[1Gpulling manifest ⠴ \u001b[K\u001b[?25h\u001b[?2026l\u001b[?2026h\u001b[?25l\u001b[1Gpulling manifest ⠦ \u001b[K\u001b[?25h\u001b[?2026l\u001b[?2026h\u001b[?25l\u001b[1Gpulling manifest ⠧ \u001b[K\u001b[?25h\u001b[?2026l\u001b[?2026h\u001b[?25l\u001b[1Gpulling manifest ⠇ \u001b[K\u001b[?25h\u001b[?2026l\u001b[?2026h\u001b[?25l\u001b[1Gpulling manifest ⠏ \u001b[K\u001b[?25h\u001b[?2026l\u001b[?2026h\u001b[?25l\u001b[1Gpulling manifest ⠋ \u001b[K\u001b[?25h\u001b[?2026l\u001b[?2026h\u001b[?25l\u001b[1Gpulling manifest ⠙ \u001b[K\u001b[?25h\u001b[?2026l\u001b[?2026h\u001b[?25l\u001b[1Gpulling manifest ⠹ \u001b[K\u001b[?25h\u001b[?2026l\u001b[?2026h\u001b[?25l\u001b[1Gpulling manifest ⠸ \u001b[K\u001b[?25h\u001b[?2026l\u001b[?2026h\u001b[?25l\u001b[1Gpulling manifest ⠼ \u001b[K\u001b[?25h\u001b[?2026l\u001b[?2026h\u001b[?25l\u001b[1Gpulling manifest ⠴ \u001b[K\u001b[?25h\u001b[?2026l\u001b[?2026h\u001b[?25l\u001b[1Gpulling manifest ⠦ \u001b[K\u001b[?25h\u001b[?2026l\u001b[?2026h\u001b[?25l\u001b[1Gpulling manifest ⠧ \u001b[K\u001b[?25h\u001b[?2026l\u001b[?2026h\u001b[?25l\u001b[1Gpulling manifest ⠇ \u001b[K\u001b[?25h\u001b[?2026l\u001b[?2026h\u001b[?25l\u001b[1Gpulling manifest ⠏ \u001b[K\u001b[?25h\u001b[?2026l\u001b[?2026h\u001b[?25l\u001b[1Gpulling manifest \u001b[K\n",
      "pulling 667b0c1932bc: 100% ▕██████████████████▏ 4.9 GB                         \u001b[K\n",
      "pulling 948af2743fc7: 100% ▕██████████████████▏ 1.5 KB                         \u001b[K\n",
      "pulling 0ba8f0e314b4: 100% ▕██████████████████▏  12 KB                         \u001b[K\n",
      "pulling 56bb8bd477a5: 100% ▕██████████████████▏   96 B                         \u001b[K\n",
      "pulling 455f34728c9b: 100% ▕██████████████████▏  487 B                         \u001b[K\n",
      "verifying sha256 digest \u001b[K\n",
      "writing manifest \u001b[K\n",
      "success \u001b[K\u001b[?25h\u001b[?2026l\n"
     ]
    }
   ],
   "source": [
    "!ollama pull llama3.1:8b"
   ]
  },
  {
   "cell_type": "code",
   "execution_count": 7,
   "id": "fe886d92",
   "metadata": {},
   "outputs": [],
   "source": [
    "from langchain_ollama import OllamaEmbeddings\n",
    "\n",
    "embeddings_model = OllamaEmbeddings(model=\"llama3.1:8b\")"
   ]
  },
  {
   "cell_type": "markdown",
   "id": "17e527e0",
   "metadata": {},
   "source": [
    "### Vector Store"
   ]
  },
  {
   "cell_type": "code",
   "execution_count": 23,
   "id": "a544c260",
   "metadata": {},
   "outputs": [],
   "source": [
    "#Import library\n",
    "from langchain_chroma import Chroma"
   ]
  },
  {
   "cell_type": "code",
   "execution_count": 24,
   "id": "1ef1bc9a",
   "metadata": {},
   "outputs": [],
   "source": [
    "#Create a vector store\n",
    "vector_store_chroma = Chroma(\n",
    "    collection_name=\"rag_with_langgraph\",\n",
    "    embedding_function=embeddings_model,\n",
    "    # persist_directory=\"./chroma_langchain_db\",  # Where to save data locally, remove if not necessary\n",
    ")"
   ]
  },
  {
   "cell_type": "markdown",
   "id": "91794b05",
   "metadata": {},
   "source": [
    "## Indexing"
   ]
  },
  {
   "cell_type": "markdown",
   "id": "64df8599",
   "metadata": {},
   "source": [
    "### Loading Documents"
   ]
  },
  {
   "cell_type": "code",
   "execution_count": 12,
   "id": "02c1e2a0",
   "metadata": {},
   "outputs": [
    {
     "name": "stderr",
     "output_type": "stream",
     "text": [
      "USER_AGENT environment variable not set, consider setting it to identify your requests.\n"
     ]
    }
   ],
   "source": [
    "import bs4 #import Beautiful Soup\n",
    "from langchain_community.document_loaders import WebBaseLoader"
   ]
  },
  {
   "cell_type": "code",
   "execution_count": 14,
   "id": "146c2450",
   "metadata": {},
   "outputs": [],
   "source": [
    "# Only keep the main content from the full HTML\n",
    "bs4_strainer = bs4.SoupStrainer(class_=(\"section_gateway-banner ai\", \n",
    "                                        \"section_traces-features ai_gateway\",\n",
    "                                       \"section_home-ai\"))\n",
    "loader = WebBaseLoader(\n",
    "    web_paths=(\"https://www.truefoundry.com/ai-gateway\", \n",
    "               \"https://www.truefoundry.com\"),\n",
    "    bs_kwargs={\"parse_only\": bs4_strainer},\n",
    ")\n",
    "docs = loader.load()\n",
    "\n",
    "assert len(docs) == 2"
   ]
  },
  {
   "cell_type": "code",
   "execution_count": 15,
   "id": "b4684cc9",
   "metadata": {},
   "outputs": [],
   "source": [
    "# --- Post-processing to clean up excessive newlines and whitespace ---\n",
    "for i, doc in enumerate(docs):\n",
    "    if doc.page_content:\n",
    "        # 1. Replace multiple newlines with a single newline\n",
    "        cleaned_content = re.sub(r'\\n\\s*\\n', '\\n\\n', doc.page_content)\n",
    "        # 2. Replace multiple spaces with a single space\n",
    "        cleaned_content = re.sub(r' {2,}', ' ', cleaned_content)\n",
    "        # 3. Strip leading/trailing whitespace from each line\n",
    "        cleaned_content = '\\n'.join([line.strip() for line in cleaned_content.split('\\n')])\n",
    "        # 4. Remove leading/trailing whitespace from the whole string\n",
    "        cleaned_content = cleaned_content.strip()\n",
    "    \n",
    "        docs[i].page_content = cleaned_content\n",
    "# --- End of post-processing ---"
   ]
  },
  {
   "cell_type": "markdown",
   "id": "6a0074ee",
   "metadata": {},
   "source": [
    "### Splitting Documents"
   ]
  },
  {
   "cell_type": "code",
   "execution_count": 17,
   "id": "5328d1c7-0083-4a7b-8b42-cb356e2de02a",
   "metadata": {},
   "outputs": [],
   "source": [
    "from langchain_experimental.text_splitter import SemanticChunker"
   ]
  },
  {
   "cell_type": "code",
   "execution_count": 18,
   "id": "1a83c157-925a-4c59-8d0b-4892596fd5d9",
   "metadata": {},
   "outputs": [],
   "source": [
    "#Create text splitter\n",
    "text_splitter_semantic = SemanticChunker(embeddings_model)"
   ]
  },
  {
   "cell_type": "code",
   "execution_count": 19,
   "id": "a70ee779-b59d-430a-8eaf-6de2f9079d92",
   "metadata": {},
   "outputs": [
    {
     "data": {
      "text/plain": [
       "647"
      ]
     },
     "execution_count": 19,
     "metadata": {},
     "output_type": "execute_result"
    }
   ],
   "source": [
    "len(docs[1].page_content)"
   ]
  },
  {
   "cell_type": "code",
   "execution_count": 20,
   "id": "eaf8038a-67e5-4d76-95d5-43a092f5844f",
   "metadata": {},
   "outputs": [],
   "source": [
    "#Reduce content of second doc for faster runtimes\n",
    "from langchain_core.documents import Document\n",
    "docs_truncated = docs.copy()\n",
    "docs_truncated[1] = Document(page_content= docs[1].page_content[:5000], metadata=docs[1].metadata)"
   ]
  },
  {
   "cell_type": "code",
   "execution_count": 21,
   "id": "b298d532-fcc2-42ec-a30b-8fbd3b2bb71d",
   "metadata": {},
   "outputs": [
    {
     "name": "stdout",
     "output_type": "stream",
     "text": [
      "Split input into 4 sub-documents.\n"
     ]
    }
   ],
   "source": [
    "#Split the documents into chunks (only pick second one)\n",
    "all_splits_semantic = text_splitter_semantic.split_documents(docs_truncated)\n",
    "print(f\"Split input into {len(all_splits_semantic)} sub-documents.\")"
   ]
  },
  {
   "cell_type": "code",
   "execution_count": 22,
   "id": "29371bbc-80d8-4a98-9a50-c9c6b0f26929",
   "metadata": {},
   "outputs": [
    {
     "name": "stdout",
     "output_type": "stream",
     "text": [
      "\n",
      "--- Split0 ---\n",
      "\n",
      "Secure Deployment : VPC | On-Prem | Air-GappedAI Gateway: Fast, Scalable, Enterprise-ReadyEnterprise-Ready AI Gateway for secure, high-performance LLM access, observability, and orchestration.See detailed pricingGet Started for FreeAI Gateway: Unified LLM API AccessSimplify your GenAI stack with a single AI Gateway that integrates all major models. Connect to OpenAI, Claude, Gemini, Groq, Mistral, and 250+ LLMs through one AI Gateway API\n",
      "\n",
      "Use the platform to support chat, completion, embedding, and reranking model types. Centralize API key management and team authentication in one place. Orchestrate multi-model workloads seamlessly through your infrastructure.Read MoreAI Gateway Observability\n",
      "\n",
      "Monitor token usage, latency, error rates, and request volumes across your system. Store and inspect full request/response logs centrally to ensure compliance and simplify debugging. Tag traffic with metadata like user ID, team, or environment to gain granular insights. Filter logs and metrics by model, team, or geography to quickly pinpoint root causes and accelerate resolution.Read MoreQuota & Access Control via AI GatewayEnforce governance, control costs, and reduce risk with consistent policy management. Apply rate limits per user, service, or endpoint. Set cost-based or token-based quotas using metadata filters.\n",
      "\n",
      "--- Split1 ---\n",
      "\n",
      "Use role-based access control (RBAC) to isolate and manage usage. Govern service accounts and agent workloads at scale through centralized rules.Read MoreEnsuring predictable usage, strong access boundaries, and scalable team-level governance for your GenAI infrastructure.Low-Latency Inference Run your most performance-sensitive workloads through a high-speed infrastructure. Achieve sub-3ms internal latency even under enterprise-scale workloads. Scale seamlessly to manage burst traffic and high-throughput workloads. Deliver predictable response times for real-time chat, RAG, and AI assistants. Place deployments close to inference layers to minimize latency and eliminate network lag.Read MorePlace the AI Gateway directly in your production inference path — its low-latency architecture ensures no performance tradeoffs.AI Gateway Routing & FallbacksEnsure reliability, even during model failures, with smart AI Gateway traffic controls. Supports latency-based routing to the fastest available LLM. Distribute traffic intelligently using weighted load balancing for reliability and scale. Automatically fallback to secondary models when a request fails. Use geo-aware routing to meet regional compliance and availability needs.Read MoreThis system ensures you never go offline, even when individual models face downtime or spike in latency.Serve Self-Hosted Models Expose open-source models with full control. Deploy LLaMA, Mistral, Falcon, and more with zero SDK changes. Full compatibility with vLLM, SGLang, KServe, and Triton. Streamline operations with Helm-based management of autoscaling, GPU scheduling, and deployments\n",
      "\n",
      "Run your own models in VPC, hybrid, or air-gapped environments.Read MoreAI Gateway + MCP IntegrationPower secure agent workflows through the AI Gateway’s native MCP support. Connect enterprise tools like Slack, GitHub, Confluence, and Datadog.\n",
      "\n",
      "--- Split2 ---\n",
      "\n",
      "Easily register internal MCP Servers with minimal setup required. Apply OAuth2, RBAC, and metadata policies to every tool call.Read MoreAI Gateway Guardrails\n",
      "\n",
      "Seamlessly enforce your own safety guardrails, including PII filtering and toxicity detection\n",
      "\n",
      "Customize the AI Gateway with guardrails tailored to your compliance and safety needsRead More\n",
      "\n",
      "--- Split3 ---\n",
      "\n",
      "Orchestrate Agentic AI with AI GatewayEnable intelligent multi-step reasoning, tool usage, and memory with full control and visibility across your AI agents and workflows.AI GatewayManage agent memory, tool orchestration, and action planning through a centralized protocol that supports complex, context-aware workflows.Learn More\n",
      "\n",
      "MCP & Agents RegistryMaintain a structured, discoverable registry of tools and APIs accessible to agents, complete with schema validation and access control.Learn More\n",
      "\n",
      "Prompt Lifecycle ManagementVersion, manage, and monitor prompts to ensure high-quality, repeatable behavior across agents and use cases.Learn More\n"
     ]
    }
   ],
   "source": [
    "for i in range(len(all_splits_semantic)):\n",
    "    print(f\"\\n--- Split{i} ---\\n\")\n",
    "    print(all_splits_semantic[i].page_content)"
   ]
  },
  {
   "cell_type": "markdown",
   "id": "038e070a",
   "metadata": {},
   "source": [
    "### Storing in Vector Store"
   ]
  },
  {
   "cell_type": "code",
   "execution_count": 25,
   "id": "6b50f7fd-e35b-481e-9585-3a649a950b11",
   "metadata": {},
   "outputs": [
    {
     "data": {
      "text/plain": [
       "['0c288e38-b127-40fc-9ed6-90681aef2964',\n",
       " '8786ce46-226e-4b4f-8f79-47a809d66d6a',\n",
       " 'e51d8ce0-d060-4dca-ba4c-49debeff217d',\n",
       " 'e63ba32e-98ae-44b1-a927-c0e2d56823b6']"
      ]
     },
     "execution_count": 25,
     "metadata": {},
     "output_type": "execute_result"
    }
   ],
   "source": [
    "#Add all chunks to vector DB\n",
    "uuids = [str(uuid4()) for _ in range(len(all_splits_semantic))] #Universally unique identifier\n",
    "vector_store_chroma.add_documents(documents=all_splits_semantic, ids=uuids)"
   ]
  },
  {
   "cell_type": "markdown",
   "id": "4e558d1f",
   "metadata": {},
   "source": [
    "## Retrieval and Generation with LangGraph"
   ]
  },
  {
   "cell_type": "markdown",
   "id": "a64dff69",
   "metadata": {},
   "source": [
    "### Define Prompt"
   ]
  },
  {
   "cell_type": "code",
   "execution_count": 26,
   "id": "8d6374cd",
   "metadata": {},
   "outputs": [
    {
     "name": "stdout",
     "output_type": "stream",
     "text": [
      "You are an assistant for question-answering tasks. Use the following pieces of retrieved context to answer the question. If you don't know the answer, just say that you don't know. Use three sentences maximum and keep the answer concise.\n",
      "Question: (question goes here) \n",
      "Context: (context goes here) \n",
      "Answer:\n"
     ]
    }
   ],
   "source": [
    "#Use Prompt Template\n",
    "from langchain import hub\n",
    "\n",
    "prompt = hub.pull(\"rlm/rag-prompt\")\n",
    "\n",
    "example_messages = prompt.invoke(\n",
    "    {\"context\": \"(context goes here)\", \"question\": \"(question goes here)\"}\n",
    ").to_messages()\n",
    "\n",
    "assert len(example_messages) == 1\n",
    "print(example_messages[0].content)"
   ]
  },
  {
   "cell_type": "markdown",
   "id": "a0435516",
   "metadata": {},
   "source": [
    "### Create Graph"
   ]
  },
  {
   "cell_type": "code",
   "execution_count": 27,
   "id": "aca81c94",
   "metadata": {},
   "outputs": [],
   "source": [
    "from langchain_core.documents import Document\n",
    "from typing_extensions import List, TypedDict\n",
    "\n",
    "class State(TypedDict):\n",
    "    question: str\n",
    "    context: List[Document]\n",
    "    answer: str"
   ]
  },
  {
   "cell_type": "code",
   "execution_count": 29,
   "id": "d5691a27",
   "metadata": {},
   "outputs": [],
   "source": [
    "def retrieve(state: State):\n",
    "    retrieved_docs = vector_store_chroma.similarity_search(state[\"question\"])\n",
    "    return {\"context\": retrieved_docs}\n",
    "\n",
    "def generate(state: State):\n",
    "    docs_content = \"\\n\\n\".join(doc.page_content for doc in state[\"context\"])\n",
    "    messages = prompt.invoke({\"question\": state[\"question\"], \"context\": docs_content})\n",
    "    response = llm.invoke(messages)\n",
    "    return {\"answer\": response.content}"
   ]
  },
  {
   "cell_type": "code",
   "execution_count": 30,
   "id": "77fa28b1",
   "metadata": {},
   "outputs": [],
   "source": [
    "from langgraph.graph import START, StateGraph, END\n",
    "\n",
    "graph_builder = StateGraph(State)\n",
    "\n",
    "graph_builder.add_node(\"retrieve\", retrieve)\n",
    "graph_builder.add_node(\"generate\", generate)\n",
    "\n",
    "graph_builder.add_edge(START, \"retrieve\")\n",
    "graph_builder.add_edge(\"retrieve\",\"generate\")\n",
    "graph_builder.add_edge(\"generate\",END)\n",
    "\n",
    "graph = graph_builder.compile()\n",
    "\n",
    "# # Add memory\n",
    "# memory = MemorySaver()\n",
    "# graph = graph_builder.compile(checkpointer=memory)\n",
    "\n",
    "# config = {\"configurable\": {\"thread_id\": \"abc123\"}}"
   ]
  },
  {
   "cell_type": "code",
   "execution_count": 31,
   "id": "76a39287",
   "metadata": {},
   "outputs": [],
   "source": [
    "# from langgraph.graph import START, StateGraph\n",
    "\n",
    "# graph_builder = StateGraph(State).add_sequence([retrieve, generate])\n",
    "# graph_builder.add_edge(START, \"retrieve\")\n",
    "# graph = graph_builder.compile()\n",
    "\n",
    "# # # Add memory\n",
    "# # memory = MemorySaver()\n",
    "# # graph = graph_builder.compile(checkpointer=memory)\n",
    "\n",
    "# # config = {\"configurable\": {\"thread_id\": \"abc123\"}}"
   ]
  },
  {
   "cell_type": "code",
   "execution_count": 32,
   "id": "fb33aedd",
   "metadata": {},
   "outputs": [
    {
     "data": {
      "image/png": "[encoded data removed]",
      "text/plain": [
       "<IPython.core.display.Image object>"
      ]
     },
     "metadata": {},
     "output_type": "display_data"
    }
   ],
   "source": [
    "from IPython.display import Image, display\n",
    "\n",
    "display(Image(graph.get_graph().draw_mermaid_png()))"
   ]
  },
  {
   "cell_type": "markdown",
   "id": "05f5c3af",
   "metadata": {},
   "source": [
    "### Invoke Graph"
   ]
  },
  {
   "cell_type": "code",
   "execution_count": 33,
   "id": "e13ec649",
   "metadata": {},
   "outputs": [
    {
     "name": "stdout",
     "output_type": "stream",
     "text": [
      "Context: [Document(id='e63ba32e-98ae-44b1-a927-c0e2d56823b6', metadata={'source': 'https://www.truefoundry.com'}, page_content='Orchestrate Agentic AI with AI GatewayEnable intelligent multi-step reasoning, tool usage, and memory with full control and visibility across your AI agents and workflows.AI GatewayManage agent memory, tool orchestration, and action planning through a centralized protocol that supports complex, context-aware workflows.Learn More\\n\\nMCP & Agents RegistryMaintain a structured, discoverable registry of tools and APIs accessible to agents, complete with schema validation and access control.Learn More\\n\\nPrompt Lifecycle ManagementVersion, manage, and monitor prompts to ensure high-quality, repeatable behavior across agents and use cases.Learn More'), Document(id='8786ce46-226e-4b4f-8f79-47a809d66d6a', metadata={'source': 'https://www.truefoundry.com/ai-gateway'}, page_content='Use role-based access control (RBAC) to isolate and manage usage. Govern service accounts and agent workloads at scale through centralized rules.Read MoreEnsuring predictable usage, strong access boundaries, and scalable team-level governance for your GenAI infrastructure.Low-Latency Inference\\xa0Run your most performance-sensitive workloads through a high-speed infrastructure. Achieve sub-3ms internal latency even under enterprise-scale workloads. Scale seamlessly to manage burst traffic and high-throughput workloads. Deliver predictable response times for real-time chat, RAG, and AI assistants. Place deployments close to inference layers to minimize latency and eliminate network lag.Read MorePlace the AI Gateway directly in your production inference path — its low-latency architecture ensures no performance tradeoffs.AI Gateway Routing & FallbacksEnsure reliability, even during model failures, with smart AI Gateway traffic controls. Supports latency-based routing to the fastest available LLM. Distribute traffic intelligently using weighted load balancing for reliability and scale. Automatically fallback to secondary models when a request fails. Use geo-aware routing to meet regional compliance and availability needs.Read MoreThis system ensures you never go offline, even when individual models face downtime or spike in latency.Serve Self-Hosted Models Expose open-source models with full control. Deploy LLaMA, Mistral, Falcon, and more with zero SDK changes. Full compatibility with vLLM, SGLang, KServe, and Triton. Streamline operations with Helm-based management of autoscaling, GPU scheduling, and deployments\\n\\nRun your own models in VPC, hybrid, or air-gapped environments.Read MoreAI Gateway + MCP IntegrationPower secure agent workflows through the AI Gateway’s native MCP support. Connect enterprise tools like Slack, GitHub, Confluence, and Datadog.'), Document(id='e51d8ce0-d060-4dca-ba4c-49debeff217d', metadata={'source': 'https://www.truefoundry.com/ai-gateway'}, page_content='Easily register internal MCP Servers with minimal setup required. Apply OAuth2, RBAC, and metadata policies to every tool call.Read MoreAI Gateway Guardrails\\n\\nSeamlessly enforce your own safety guardrails, including PII filtering and toxicity detection\\n\\nCustomize the AI Gateway with guardrails tailored to your compliance and safety needsRead More'), Document(id='0c288e38-b127-40fc-9ed6-90681aef2964', metadata={'source': 'https://www.truefoundry.com/ai-gateway'}, page_content='Secure Deployment : VPC | On-Prem | Air-GappedAI Gateway: Fast, Scalable, Enterprise-ReadyEnterprise-Ready AI Gateway for secure, high-performance LLM access, observability, and orchestration.See detailed pricingGet Started for FreeAI Gateway: Unified LLM API AccessSimplify your GenAI stack with a single AI Gateway that integrates all major models. Connect to OpenAI, Claude, Gemini, Groq, Mistral, and 250+ LLMs through one AI Gateway API\\n\\nUse the platform to support chat, completion, embedding, and reranking model types. Centralize API key management and team authentication in one place. Orchestrate multi-model workloads seamlessly through your infrastructure.Read MoreAI Gateway Observability\\n\\nMonitor token usage, latency, error rates, and request volumes across your system. Store and inspect full request/response logs centrally to ensure compliance and simplify debugging. Tag traffic with metadata like user ID, team, or environment to gain granular insights. Filter logs and metrics by model, team, or geography to quickly pinpoint root causes and accelerate resolution.Read MoreQuota & Access Control via AI GatewayEnforce governance, control costs, and reduce risk with consistent policy management. Apply rate limits per user, service, or endpoint. Set cost-based or token-based quotas using metadata filters.')]\n",
      "\n",
      "\n",
      "Answer: TrueFoundry is an AI infrastructure platform that enables orchestration of Agentic AI through its AI Gateway, which manages agent memory, tool orchestration, and action planning. The platform provides features such as role-based access control, low-latency inference, and secure deployment options. It also supports integration with various enterprise tools and models.\n"
     ]
    }
   ],
   "source": [
    "result = graph.invoke({\"question\": question})\n",
    "\n",
    "## ----- To run with memory -----\n",
    "# result = graph.invoke({\"question\": question},config)\n",
    "\n",
    "print(f'Context: {result[\"context\"]}\\n\\n')\n",
    "print(f'Answer: {result[\"answer\"]}')"
   ]
  }
 ],
 "metadata": {
  "kernelspec": {
   "display_name": "Python 3 (ipykernel)",
   "language": "python",
   "name": "python3"
  },
  "language_info": {
   "codemirror_mode": {
    "name": "ipython",
    "version": 3
   },
   "file_extension": ".py",
   "mimetype": "text/x-python",
   "name": "python",
   "nbconvert_exporter": "python",
   "pygments_lexer": "ipython3",
   "version": "3.12.11"
  },
  "varInspector": {
   "cols": {
    "lenName": 16,
    "lenType": 16,
    "lenVar": 40
   },
   "kernels_config": {
    "python": {
     "delete_cmd_postfix": "",
     "delete_cmd_prefix": "del ",
     "library": "var_list.py",
     "varRefreshCmd": "print(var_dic_list())"
    },
    "r": {
     "delete_cmd_postfix": ") ",
     "delete_cmd_prefix": "rm(",
     "library": "var_list.r",
     "varRefreshCmd": "cat(var_dic_list()) "
    }
   },
   "types_to_exclude": [
    "module",
    "function",
    "builtin_function_or_method",
    "instance",
    "_Feature"
   ],
   "window_display": false
  }
 },
 "nbformat": 4,
 "nbformat_minor": 5
}
