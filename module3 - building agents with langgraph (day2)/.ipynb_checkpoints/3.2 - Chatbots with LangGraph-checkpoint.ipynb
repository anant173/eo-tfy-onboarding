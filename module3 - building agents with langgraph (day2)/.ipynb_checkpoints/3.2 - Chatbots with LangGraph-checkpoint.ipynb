{
 "cells": [
  {
   "cell_type": "code",
   "execution_count": 1,
   "id": "af16949a",
   "metadata": {},
   "outputs": [
    {
     "data": {
      "text/html": [
       "<style>.container { width:100% !important; }</style>"
      ],
      "text/plain": [
       "<IPython.core.display.HTML object>"
      ]
     },
     "metadata": {},
     "output_type": "display_data"
    }
   ],
   "source": [
    "from IPython.display import display, HTML\n",
    "display(HTML(\"<style>.container { width:100% !important; }</style>\"))"
   ]
  },
  {
   "cell_type": "markdown",
   "id": "22eac427",
   "metadata": {},
   "source": [
    "# Building a Chatbot"
   ]
  },
  {
   "cell_type": "markdown",
   "id": "bce082ee",
   "metadata": {},
   "source": [
    "## Simple Chatbot"
   ]
  },
  {
   "cell_type": "code",
   "execution_count": 3,
   "id": "ad349c8a",
   "metadata": {},
   "outputs": [],
   "source": [
    "from IPython.display import Image, display\n",
    "from typing import TypedDict, Annotated\n",
    "from langgraph.graph import add_messages, StateGraph, END\n",
    "from langchain_groq import ChatGroq\n",
    "from langchain_core.messages import AIMessage, HumanMessage\n",
    "from dotenv import load_dotenv\n",
    "import os"
   ]
  },
  {
   "cell_type": "code",
   "execution_count": 4,
   "id": "13a8747b",
   "metadata": {},
   "outputs": [
    {
     "data": {
      "text/plain": [
       "True"
      ]
     },
     "execution_count": 4,
     "metadata": {},
     "output_type": "execute_result"
    }
   ],
   "source": [
    "load_dotenv(override=True)"
   ]
  },
  {
   "cell_type": "code",
   "execution_count": 5,
   "id": "9b4bc302",
   "metadata": {},
   "outputs": [],
   "source": [
    "#Check for environment variables\n",
    "def _set_env(var: str):\n",
    "    if not os.environ.get(var):\n",
    "        os.environ[var] = getpass.getpass(f\"{var}: \")"
   ]
  },
  {
   "cell_type": "code",
   "execution_count": 6,
   "id": "f51e9d43",
   "metadata": {},
   "outputs": [],
   "source": [
    "#Make sure this exists\n",
    "_set_env(\"GROQ_API_KEY\")"
   ]
  },
  {
   "cell_type": "code",
   "execution_count": 7,
   "id": "08aa08f4",
   "metadata": {},
   "outputs": [],
   "source": [
    "llm = ChatGroq(model=\"llama-3.1-8b-instant\")"
   ]
  },
  {
   "cell_type": "code",
   "execution_count": 8,
   "id": "182e5c0c",
   "metadata": {},
   "outputs": [],
   "source": [
    "class SimpleChatState(TypedDict):\n",
    "    messages: Annotated[list, add_messages]"
   ]
  },
  {
   "cell_type": "code",
   "execution_count": 9,
   "id": "a95b9d4a",
   "metadata": {},
   "outputs": [],
   "source": [
    "def simple_chatbot(state: SimpleChatState):\n",
    "    return {\n",
    "        \"messages\": [llm.invoke(state[\"messages\"])]\n",
    "    }"
   ]
  },
  {
   "cell_type": "code",
   "execution_count": 10,
   "id": "cc63914b",
   "metadata": {},
   "outputs": [],
   "source": [
    "graph = StateGraph(SimpleChatState)\n",
    "\n",
    "graph.add_node(\"simple_chatbot\", simple_chatbot)\n",
    "graph.set_entry_point(\"simple_chatbot\")\n",
    "graph.add_edge(\"simple_chatbot\", END)\n",
    "\n",
    "app = graph.compile()"
   ]
  },
  {
   "cell_type": "code",
   "execution_count": 11,
   "id": "73eca1d1",
   "metadata": {},
   "outputs": [
    {
     "data": {
      "image/png": "[encoded data removed]",
      "text/plain": [
       "<IPython.core.display.Image object>"
      ]
     },
     "metadata": {},
     "output_type": "display_data"
    }
   ],
   "source": [
    "display(Image(app.get_graph(xray=True).draw_mermaid_png()))"
   ]
  },
  {
   "cell_type": "code",
   "execution_count": 13,
   "id": "8f28b7ec",
   "metadata": {},
   "outputs": [],
   "source": [
    "while True: \n",
    "    user_input = input(\"User: \")\n",
    "    if(user_input in [\"exit\", \"end\"]):\n",
    "        break\n",
    "    else: \n",
    "        result = app.invoke({\n",
    "            \"messages\": [HumanMessage(content=user_input)]\n",
    "        })\n",
    "\n",
    "        print(\"AI: \" + result[\"messages\"][-1].content + \"\\n\")"
   ]
  },
  {
   "cell_type": "markdown",
   "id": "1f38a484",
   "metadata": {},
   "source": [
    "## Adding Tools"
   ]
  },
  {
   "cell_type": "code",
   "execution_count": 16,
   "id": "b4eb93fe",
   "metadata": {},
   "outputs": [],
   "source": [
    "from IPython.display import Image, display\n",
    "from typing import TypedDict, Annotated\n",
    "from langgraph.graph import add_messages, StateGraph, END\n",
    "from langchain_groq import ChatGroq\n",
    "from langchain_core.messages import AIMessage, HumanMessage\n",
    "from dotenv import load_dotenv\n",
    "from langchain_tavily import TavilySearch\n",
    "from langgraph.prebuilt import ToolNode, tools_condition"
   ]
  },
  {
   "cell_type": "code",
   "execution_count": 17,
   "id": "b26bd8d7",
   "metadata": {},
   "outputs": [],
   "source": [
    "class SimpleChatState(TypedDict):\n",
    "    messages: Annotated[list, add_messages]"
   ]
  },
  {
   "cell_type": "code",
   "execution_count": 18,
   "id": "0fab7387",
   "metadata": {},
   "outputs": [],
   "source": [
    "llm = ChatGroq(model=\"llama-3.1-8b-instant\")"
   ]
  },
  {
   "cell_type": "code",
   "execution_count": 19,
   "id": "eaa132fa",
   "metadata": {},
   "outputs": [],
   "source": [
    "search_tool = TavilySearch(max_results=2)\n",
    "tools = [search_tool]"
   ]
  },
  {
   "cell_type": "code",
   "execution_count": 20,
   "id": "cb6542a8",
   "metadata": {},
   "outputs": [],
   "source": [
    "llm_with_tools = llm.bind_tools(tools=tools)"
   ]
  },
  {
   "cell_type": "code",
   "execution_count": 21,
   "id": "580c9e10",
   "metadata": {},
   "outputs": [],
   "source": [
    "def tool_enabled_chatbot(state: SimpleChatState):\n",
    "    return {\n",
    "        \"messages\": [llm_with_tools.invoke(state[\"messages\"])], \n",
    "    }"
   ]
  },
  {
   "cell_type": "markdown",
   "id": "32de0ba7",
   "metadata": {},
   "source": [
    "We use the [built-in `ToolNode`](https://langchain-ai.github.io/langgraph/reference/prebuilt/?h=tools+condition#toolnode) and simply pass a list of our tools to initialize it. \n"
   ]
  },
  {
   "cell_type": "code",
   "execution_count": 22,
   "id": "b807b5ef",
   "metadata": {},
   "outputs": [],
   "source": [
    "tool_node = ToolNode(tools=tools)"
   ]
  },
  {
   "cell_type": "markdown",
   "id": "ee8f0d1c",
   "metadata": {},
   "source": [
    "We can also use the [built-in `tools_condition`](https://langchain-ai.github.io/langgraph/reference/prebuilt/?h=tools+condition#tools_condition) as our conditional edge. Here - we first define a custom router for explanation, but show a streamlined manner just using `tools_condition`."
   ]
  },
  {
   "cell_type": "code",
   "execution_count": 23,
   "id": "234027af",
   "metadata": {},
   "outputs": [],
   "source": [
    "#From scratch - else use tools_condition\n",
    "def tools_router(state: SimpleChatState):\n",
    "    last_message = state[\"messages\"][-1]\n",
    "\n",
    "    if(hasattr(last_message, \"tool_calls\") and len(last_message.tool_calls) > 0):\n",
    "        return \"tools\"\n",
    "    else: \n",
    "        return \"end\""
   ]
  },
  {
   "cell_type": "code",
   "execution_count": 24,
   "id": "ee4161d8",
   "metadata": {},
   "outputs": [],
   "source": [
    "#From scratch - else use tools_condition\n",
    "graph = StateGraph(SimpleChatState)\n",
    "\n",
    "graph.add_node(\"chatbot\", tool_enabled_chatbot)\n",
    "graph.add_node(\"tools\", tool_node)\n",
    "graph.set_entry_point(\"chatbot\")\n",
    "\n",
    "graph.add_conditional_edges(\"chatbot\", \n",
    "                            tools_router,\n",
    "                           {\n",
    "                               \"tools\": \"tools\",\n",
    "                               \"end\": END\n",
    "                           })\n",
    "graph.add_edge(\"tools\", \"chatbot\")\n",
    "\n",
    "app = graph.compile()"
   ]
  },
  {
   "cell_type": "code",
   "execution_count": 25,
   "id": "8c57e60e",
   "metadata": {},
   "outputs": [
    {
     "data": {
      "image/png": "[encoded data removed]",
      "text/plain": [
       "<IPython.core.display.Image object>"
      ]
     },
     "metadata": {},
     "output_type": "display_data"
    }
   ],
   "source": [
    "display(Image(app.get_graph(xray=True).draw_mermaid_png()))"
   ]
  },
  {
   "cell_type": "code",
   "execution_count": 26,
   "id": "dfb56183",
   "metadata": {},
   "outputs": [],
   "source": [
    "#Using tools_condition\n",
    "graph = StateGraph(SimpleChatState)\n",
    "\n",
    "graph.add_node(\"chatbot\", tool_enabled_chatbot)\n",
    "graph.add_node(\"tools\", tool_node)\n",
    "graph.set_entry_point(\"chatbot\")\n",
    "\n",
    "graph.add_conditional_edges(\"chatbot\", \n",
    "                            tools_condition)\n",
    "graph.add_edge(\"tools\", \"chatbot\")\n",
    "\n",
    "app = graph.compile()"
   ]
  },
  {
   "cell_type": "code",
   "execution_count": 27,
   "id": "ed219c7a",
   "metadata": {},
   "outputs": [
    {
     "data": {
      "image/png": "[encoded data removed]",
      "text/plain": [
       "<IPython.core.display.Image object>"
      ]
     },
     "metadata": {},
     "output_type": "display_data"
    }
   ],
   "source": [
    "display(Image(app.get_graph(xray=True).draw_mermaid_png()))"
   ]
  },
  {
   "cell_type": "code",
   "execution_count": 29,
   "id": "09729020",
   "metadata": {},
   "outputs": [],
   "source": [
    "while True: \n",
    "    user_input = input(\"User: \")\n",
    "    if(user_input in [\"exit\", \"end\"]):\n",
    "        break\n",
    "    else: \n",
    "        result = app.invoke({\n",
    "            \"messages\": [HumanMessage(content=user_input)]\n",
    "        })\n",
    "\n",
    "        print(\"AI: \" + result[\"messages\"][-1].content + \"\\n\")"
   ]
  },
  {
   "cell_type": "markdown",
   "id": "09e6fb8d",
   "metadata": {},
   "source": [
    "**Question** Who returns a ToolMessage?"
   ]
  },
  {
   "cell_type": "markdown",
   "id": "18f3d9b4",
   "metadata": {},
   "source": [
    "## Adding Memory"
   ]
  },
  {
   "cell_type": "markdown",
   "id": "601a10ad",
   "metadata": {},
   "source": [
    "**We are referring to short-term memory enabled by thread-level persistence here below, and not long-term memory which is across user or applications.**"
   ]
  },
  {
   "cell_type": "code",
   "execution_count": 30,
   "id": "481d792c",
   "metadata": {},
   "outputs": [],
   "source": [
    "from IPython.display import Image, display\n",
    "from typing import TypedDict, Annotated\n",
    "from langgraph.graph import add_messages, StateGraph, END\n",
    "from langchain_groq import ChatGroq\n",
    "from langchain_core.messages import AIMessage, HumanMessage\n",
    "from dotenv import load_dotenv\n",
    "from langchain_tavily import TavilySearch\n",
    "from langgraph.prebuilt import ToolNode, tools_condition\n",
    "from langgraph.checkpoint.memory import InMemorySaver"
   ]
  },
  {
   "cell_type": "code",
   "execution_count": 31,
   "id": "9e9d037b",
   "metadata": {},
   "outputs": [],
   "source": [
    "memory = InMemorySaver()"
   ]
  },
  {
   "cell_type": "code",
   "execution_count": 32,
   "id": "3ca595f1",
   "metadata": {},
   "outputs": [],
   "source": [
    "llm = ChatGroq(model=\"llama-3.1-8b-instant\")"
   ]
  },
  {
   "cell_type": "code",
   "execution_count": 33,
   "id": "67eb1092",
   "metadata": {},
   "outputs": [],
   "source": [
    "search_tool = TavilySearch(max_results=2)\n",
    "tools = [search_tool]"
   ]
  },
  {
   "cell_type": "code",
   "execution_count": 34,
   "id": "9e22af25",
   "metadata": {},
   "outputs": [],
   "source": [
    "llm_with_tools = llm.bind_tools(tools=tools)"
   ]
  },
  {
   "cell_type": "code",
   "execution_count": 35,
   "id": "85f19dad",
   "metadata": {},
   "outputs": [],
   "source": [
    "tool_node = ToolNode(tools=tools)"
   ]
  },
  {
   "cell_type": "code",
   "execution_count": 36,
   "id": "19bd1207",
   "metadata": {},
   "outputs": [],
   "source": [
    "class SimpleChatState(TypedDict):\n",
    "    messages: Annotated[list, add_messages]"
   ]
  },
  {
   "cell_type": "code",
   "execution_count": 37,
   "id": "0587f7d7",
   "metadata": {},
   "outputs": [],
   "source": [
    "def tool_enabled_chatbot(state: SimpleChatState):\n",
    "    return {\n",
    "        \"messages\": [llm_with_tools.invoke(state[\"messages\"])], \n",
    "    }"
   ]
  },
  {
   "cell_type": "code",
   "execution_count": 38,
   "id": "6f4ff03d",
   "metadata": {},
   "outputs": [],
   "source": [
    "#From scratch - else use tools_condition\n",
    "graph = StateGraph(SimpleChatState)\n",
    "\n",
    "graph.add_node(\"chatbot\", tool_enabled_chatbot)\n",
    "graph.add_node(\"tools\", tool_node)\n",
    "graph.set_entry_point(\"chatbot\")\n",
    "\n",
    "graph.add_conditional_edges(\"chatbot\", \n",
    "                            tools_condition)\n",
    "\n",
    "graph.add_edge(\"tools\", \"chatbot\")\n",
    "\n",
    "app = graph.compile(checkpointer=memory)\n",
    "\n",
    "config = {\"configurable\": {\n",
    "    \"thread_id\": 1\n",
    "}}"
   ]
  },
  {
   "cell_type": "code",
   "execution_count": 39,
   "id": "70d506b3",
   "metadata": {},
   "outputs": [
    {
     "data": {
      "image/png": "[encoded data removed]",
      "text/plain": [
       "<IPython.core.display.Image object>"
      ]
     },
     "metadata": {},
     "output_type": "display_data"
    }
   ],
   "source": [
    "display(Image(app.get_graph(xray=True).draw_mermaid_png()))"
   ]
  },
  {
   "cell_type": "code",
   "execution_count": 64,
   "id": "7a8cdc69",
   "metadata": {},
   "outputs": [],
   "source": [
    "while True: \n",
    "    user_input = input(\"User: \")\n",
    "    if(user_input in [\"exit\", \"end\"]):\n",
    "        break\n",
    "    else: \n",
    "        result = app.invoke({\n",
    "            \"messages\": [HumanMessage(content=user_input)]\n",
    "        }, config=config)\n",
    "\n",
    "        print(\"AI: \" + result[\"messages\"][-1].content)"
   ]
  },
  {
   "cell_type": "markdown",
   "id": "69b97341",
   "metadata": {},
   "source": [
    "**With short-term memory, long covnersations can lead to context length being exceeded. Common counteractions include trimming, deleting, summarizing messages and managing checkpoints.**"
   ]
  },
  {
   "cell_type": "markdown",
   "id": "155deefa",
   "metadata": {},
   "source": [
    "### Use in Production"
   ]
  },
  {
   "cell_type": "markdown",
   "id": "a4d2a755",
   "metadata": {},
   "source": [
    "**In production, we should use a checkpointer backed by a database.**"
   ]
  },
  {
   "cell_type": "code",
   "execution_count": 40,
   "id": "531c2ed5",
   "metadata": {},
   "outputs": [],
   "source": [
    "from IPython.display import Image, display\n",
    "from typing import TypedDict, Annotated\n",
    "from langgraph.graph import add_messages, StateGraph, END\n",
    "from langchain_groq import ChatGroq\n",
    "from langchain_core.messages import HumanMessage\n",
    "from dotenv import load_dotenv\n",
    "from langchain_tavily import TavilySearch\n",
    "from langgraph.prebuilt import ToolNode, tools_condition\n",
    "from langgraph.checkpoint.sqlite import SqliteSaver\n",
    "import sqlite3 #in built with Python"
   ]
  },
  {
   "cell_type": "code",
   "execution_count": 41,
   "id": "eddef60b",
   "metadata": {},
   "outputs": [],
   "source": [
    "#Create a connection string\n",
    "sqlite_conn = sqlite3.connect(\"checkpoint.sqlite\", check_same_thread=False)"
   ]
  },
  {
   "cell_type": "code",
   "execution_count": 42,
   "id": "96461085",
   "metadata": {},
   "outputs": [],
   "source": [
    "#Replace memory saver with SqliteSaver - everything else is same\n",
    "memory = SqliteSaver(sqlite_conn)"
   ]
  },
  {
   "cell_type": "markdown",
   "id": "80ea0f53",
   "metadata": {},
   "source": [
    "**After every single node execution, this checkpointer will append new checkpoints and save the state.**"
   ]
  },
  {
   "cell_type": "code",
   "execution_count": 43,
   "id": "4df7a439",
   "metadata": {},
   "outputs": [],
   "source": [
    "llm = ChatGroq(model=\"llama-3.1-8b-instant\")"
   ]
  },
  {
   "cell_type": "code",
   "execution_count": 44,
   "id": "cca26254",
   "metadata": {},
   "outputs": [],
   "source": [
    "search_tool = TavilySearch(max_results=2)\n",
    "tools = [search_tool]"
   ]
  },
  {
   "cell_type": "code",
   "execution_count": 45,
   "id": "bbceda9f",
   "metadata": {},
   "outputs": [],
   "source": [
    "llm_with_tools = llm.bind_tools(tools=tools)"
   ]
  },
  {
   "cell_type": "code",
   "execution_count": 46,
   "id": "c4ffe8af",
   "metadata": {},
   "outputs": [],
   "source": [
    "tool_node = ToolNode(tools=tools)"
   ]
  },
  {
   "cell_type": "code",
   "execution_count": 47,
   "id": "597ddcbe",
   "metadata": {},
   "outputs": [],
   "source": [
    "class SimpleChatState(TypedDict):\n",
    "    messages: Annotated[list, add_messages]"
   ]
  },
  {
   "cell_type": "code",
   "execution_count": 48,
   "id": "d41be588",
   "metadata": {},
   "outputs": [],
   "source": [
    "def tool_enabled_chatbot(state: SimpleChatState):\n",
    "    return {\n",
    "        \"messages\": [llm_with_tools.invoke(state[\"messages\"])], \n",
    "    }"
   ]
  },
  {
   "cell_type": "code",
   "execution_count": 49,
   "id": "49afcdbc",
   "metadata": {},
   "outputs": [],
   "source": [
    "#From scratch - else use tools_condition\n",
    "graph = StateGraph(SimpleChatState)\n",
    "\n",
    "graph.add_node(\"chatbot\", tool_enabled_chatbot)\n",
    "graph.add_node(\"tools\", tool_node)\n",
    "graph.set_entry_point(\"chatbot\")\n",
    "\n",
    "graph.add_conditional_edges(\"chatbot\", \n",
    "                            tools_condition)\n",
    "\n",
    "graph.add_edge(\"tools\", \"chatbot\")\n",
    "\n",
    "app = graph.compile(checkpointer=memory)\n",
    "\n",
    "config = {\"configurable\": {\n",
    "    \"thread_id\": 1\n",
    "}}"
   ]
  },
  {
   "cell_type": "code",
   "execution_count": 50,
   "id": "d53266fd",
   "metadata": {},
   "outputs": [
    {
     "data": {
      "image/png": "[encoded data removed]",
      "text/plain": [
       "<IPython.core.display.Image object>"
      ]
     },
     "metadata": {},
     "output_type": "display_data"
    }
   ],
   "source": [
    "display(Image(app.get_graph(xray=True).draw_mermaid_png()))"
   ]
  },
  {
   "cell_type": "code",
   "execution_count": 51,
   "id": "eb419b96",
   "metadata": {},
   "outputs": [],
   "source": [
    "while True: \n",
    "    user_input = input(\"User: \")\n",
    "    if(user_input in [\"exit\", \"end\"]):\n",
    "        break\n",
    "    else: \n",
    "        result = app.invoke({\n",
    "            \"messages\": [HumanMessage(content=user_input)]\n",
    "        }, config=config)\n",
    "\n",
    "        print(\"AI: \" + result[\"messages\"][-1].content)"
   ]
  },
  {
   "cell_type": "code",
   "execution_count": null,
   "id": "36496869",
   "metadata": {},
   "outputs": [],
   "source": [
    "#Running again - it is able to recall\n",
    "while True: \n",
    "    user_input = input(\"User: \")\n",
    "    if(user_input in [\"exit\", \"end\"]):\n",
    "        break\n",
    "    else: \n",
    "        result = app.invoke({\n",
    "            \"messages\": [HumanMessage(content=user_input)]\n",
    "        }, config=config)\n",
    "\n",
    "        print(\"AI: \" + result[\"messages\"][-1].content)"
   ]
  },
  {
   "cell_type": "code",
   "execution_count": null,
   "id": "84b5add0",
   "metadata": {},
   "outputs": [
    {
     "name": "stdout",
     "output_type": "stream",
     "text": [
      "User: What did we talk about earlier?\n",
      "AI: It seems we didn't have a previous conversation. Let's start fresh. How can I assist you today?\n"
     ]
    }
   ],
   "source": [
    "#After deleting, it's not able to recall\n",
    "while True: \n",
    "    user_input = input(\"User: \")\n",
    "    if(user_input in [\"exit\", \"end\"]):\n",
    "        break\n",
    "    else: \n",
    "        result = app.invoke({\n",
    "            \"messages\": [HumanMessage(content=user_input)]\n",
    "        }, config=config)\n",
    "\n",
    "        print(\"AI: \" + result[\"messages\"][-1].content)"
   ]
  },
  {
   "cell_type": "markdown",
   "id": "656867a1",
   "metadata": {},
   "source": [
    "**Show example when deleting the SQLite causes the memory to not work - \"DELETE FROM checkpoints\".**"
   ]
  },
  {
   "cell_type": "markdown",
   "id": "682e566b",
   "metadata": {},
   "source": [
    "# Human in the Loop"
   ]
  },
  {
   "cell_type": "markdown",
   "id": "67823834",
   "metadata": {},
   "source": [
    "**Human-in-the-loop** workflow integrates human inputs into automated processes, and is especially useful as LLMs can generate inaccurate content or require more information occasionally:\n",
    "\n",
    "- **Reviewing tool calls**: Reviewing, editing or approving tools calls requested by the LLM before execution \n",
    "- **Validating LLM outputs**: Reviewing, editing or approving content generated by LLM\n",
    "- **Providing context**: For clarification or more details or to support multi-turn conversations"
   ]
  },
  {
   "cell_type": "markdown",
   "id": "ac2bcef8",
   "metadata": {},
   "source": [
    "There are 4 key design patterns:\n",
    "\n",
    "- **Approve or reject**: Depending on the human's approval or rejection, the graph can proceed with the action or take an alternative path.\n",
    "<img src=\"images/approve-or-reject.png\" width=\"30%\" height = \"30%\" alt=\"Approve or reject\">\n",
    "\n",
    "\n",
    "\n",
    "- **Review and edit state**: A human can review and edit the state of the graph. This is useful for correcting mistakes or updating the state with additional information.\n",
    "<img src=\"images/edit-graph-state-simple.png\" width=\"40%\" height = \"40%\" alt=\"Review and edit state\">\n",
    "\n",
    "\n",
    "- **Review tool calls**: A human can review and edit the output from the LLM before proceeding. This is particularly critical in applications where the tool calls requested by the LLM may be sensitive or require human oversight.\n",
    "<img src=\"images/tool-call-review.png\" width=\"40%\" height = \"40%\" alt=\"Review tool calls\">\n",
    "\n",
    "\n",
    "- **Validating human input**: To validate the input provided by the human within the graph itself (rather than on the client side)."
   ]
  },
  {
   "cell_type": "markdown",
   "id": "f502ee60",
   "metadata": {},
   "source": [
    "Let's take an example:\n",
    "\n",
    "<img src=\"images/human-in-the-loop-example.png\" width=\"20%\" height = \"20%\" alt=\"Example\">"
   ]
  },
  {
   "cell_type": "markdown",
   "id": "1c93b1a9",
   "metadata": {},
   "source": [
    "## Basic Working Version"
   ]
  },
  {
   "cell_type": "code",
   "execution_count": 52,
   "id": "7f58cf78",
   "metadata": {},
   "outputs": [],
   "source": [
    "from typing import TypedDict, Annotated\n",
    "from langchain_core.messages import HumanMessage\n",
    "from langgraph.graph import add_messages, StateGraph, END\n",
    "from langchain_groq import ChatGroq"
   ]
  },
  {
   "cell_type": "code",
   "execution_count": 53,
   "id": "02e95067",
   "metadata": {},
   "outputs": [],
   "source": [
    "class State(TypedDict): \n",
    "    messages: Annotated[list, add_messages]"
   ]
  },
  {
   "cell_type": "code",
   "execution_count": 54,
   "id": "02003701",
   "metadata": {},
   "outputs": [],
   "source": [
    "llm = ChatGroq(model=\"llama-3.1-8b-instant\")"
   ]
  },
  {
   "cell_type": "code",
   "execution_count": 55,
   "id": "a5bcd55c",
   "metadata": {},
   "outputs": [],
   "source": [
    "GENERATE_POST = \"generate_post\"\n",
    "GET_REVIEW_DECISION = \"get_review_decision\"\n",
    "POST = \"post\"\n",
    "COLLECT_FEEDBACK = \"collect_feedback\""
   ]
  },
  {
   "cell_type": "code",
   "execution_count": 56,
   "id": "16e8c0b9",
   "metadata": {},
   "outputs": [],
   "source": [
    "#Add node\n",
    "def generate_post(state: State): \n",
    "    return {\n",
    "        \"messages\": [llm.invoke(state[\"messages\"])]\n",
    "    }"
   ]
  },
  {
   "cell_type": "code",
   "execution_count": 57,
   "id": "ca9a9671",
   "metadata": {},
   "outputs": [],
   "source": [
    "#Add node\n",
    "def post(state: State):  \n",
    "    final_post = state[\"messages\"][-1].content  \n",
    "    print(\"\\nFinal Tweet:\\n\")\n",
    "    print(final_post)\n",
    "    print(\"\\nTweet has been approved and is now live on Twitter!\")"
   ]
  },
  {
   "cell_type": "code",
   "execution_count": 58,
   "id": "d1cc9422",
   "metadata": {},
   "outputs": [],
   "source": [
    "#Add node\n",
    "def collect_feedback(state: State):  \n",
    "    feedback = input(\"How can I improve this tweet?\")\n",
    "    return {\n",
    "        \"messages\": [HumanMessage(content=feedback)]\n",
    "    }"
   ]
  },
  {
   "cell_type": "code",
   "execution_count": 59,
   "id": "dbb8f3a3",
   "metadata": {},
   "outputs": [],
   "source": [
    "#Add conditional edge\n",
    "def get_review_decision(state: State):  \n",
    "    post_content = state[\"messages\"][-1].content \n",
    "    \n",
    "    print(\"\\nCurrent Tweet:\\n\")\n",
    "    print(post_content)\n",
    "    print(\"\\n\")\n",
    "\n",
    "    decision = input(\"Tweet? (yes/no): \")\n",
    "\n",
    "    if decision.lower() == \"yes\":\n",
    "        return \"post\"\n",
    "    else:\n",
    "        return \"collect_feedback\""
   ]
  },
  {
   "cell_type": "code",
   "execution_count": 60,
   "id": "34aa7316",
   "metadata": {},
   "outputs": [],
   "source": [
    "graph = StateGraph(State)\n",
    "\n",
    "graph.add_node(GENERATE_POST, generate_post)\n",
    "graph.add_node(COLLECT_FEEDBACK, collect_feedback)\n",
    "graph.add_node(POST, post)\n",
    "\n",
    "graph.set_entry_point(GENERATE_POST)\n",
    "\n",
    "graph.add_conditional_edges(GENERATE_POST, \n",
    "                            get_review_decision,\n",
    "                           {\n",
    "                               \"post\": POST,\n",
    "                               \"collect_feedback\": COLLECT_FEEDBACK\n",
    "                           })\n",
    "graph.add_edge(COLLECT_FEEDBACK, GENERATE_POST)\n",
    "graph.add_edge(POST, END)\n",
    "\n",
    "app = graph.compile()"
   ]
  },
  {
   "cell_type": "code",
   "execution_count": 61,
   "id": "177a739d",
   "metadata": {},
   "outputs": [
    {
     "data": {
      "image/png": "[encoded data removed]",
      "text/plain": [
       "<IPython.core.display.Image object>"
      ]
     },
     "metadata": {},
     "output_type": "display_data"
    }
   ],
   "source": [
    "display(Image(app.get_graph(xray=True).draw_mermaid_png()))"
   ]
  },
  {
   "cell_type": "code",
   "execution_count": 63,
   "id": "2ef151d6",
   "metadata": {},
   "outputs": [],
   "source": [
    "response = app.invoke({\n",
    "    \"messages\": [HumanMessage(content=\"Write me a Tweet on TrueFoundry launching the MCP (Model Context Protocol) gateway\")]\n",
    "})\n",
    "\n",
    "print(\"\\n\\n\", response)"
   ]
  },
  {
   "cell_type": "markdown",
   "id": "c3cf9353",
   "metadata": {},
   "source": [
    "There are several drawbacks of using `input()` function, things like it freezes your program until something's typed, works only in terminals not web apps, can handle only one user at a time, and all progress is deleted if program crashes.\n",
    "\n",
    "That's why we use the `interrput()` method provided by LangGraph."
   ]
  },
  {
   "cell_type": "markdown",
   "id": "a096823e",
   "metadata": {},
   "source": [
    "## Using interrupt()"
   ]
  },
  {
   "cell_type": "markdown",
   "id": "c26e3114",
   "metadata": {},
   "source": [
    "**Benefits**:\n",
    "\n",
    "- Pauses workflow and saves state to pick back up later\n",
    "- Works in web apps, APIs and other interfaces\n",
    "- Supports multiple users/sessions concurrently\n",
    "- Recovers from crashes and handles restarts\n",
    "- Lets humans take time to respond\n",
    "- Perfect for human-in-the-loop systems"
   ]
  },
  {
   "cell_type": "markdown",
   "id": "991fe380",
   "metadata": {},
   "source": [
    "**There are two ways for using interrupts:**\n",
    "\n",
    "1. Interrupt in the compile step\n",
    "\n",
    "`graph = graph_builder.compile(checkpointer=checkpointer, interrupt_before = [\"tools\"])`\n",
    "    \n",
    "2. Interrupt function with command class\n",
    "\n",
    "`human_review = interrupt(\n",
    "    {\n",
    "        \"question\": \"Is this correct?\",\n",
    "        \"tool_call\": tool_call\n",
    "    }\n",
    ")`\n",
    "\n",
    "`if review_action == \"continue\":\n",
    "    return Command(goto = \"run_tool\")`\n"
   ]
  },
  {
   "cell_type": "markdown",
   "id": "840941ba",
   "metadata": {},
   "source": [
    "**The Command class in LangGraph allows us to create edgeless workflows**."
   ]
  },
  {
   "cell_type": "markdown",
   "id": "dfc09b4e",
   "metadata": {},
   "source": [
    "### Basic Examples for Understanding"
   ]
  },
  {
   "cell_type": "markdown",
   "id": "11085dfd",
   "metadata": {},
   "source": [
    "#### Example 1"
   ]
  },
  {
   "cell_type": "markdown",
   "id": "3ef28cc4",
   "metadata": {},
   "source": [
    "Approve or reject use case with the second way of using `interrupt()` method"
   ]
  },
  {
   "cell_type": "code",
   "execution_count": 64,
   "id": "759ded18",
   "metadata": {},
   "outputs": [],
   "source": [
    "from langgraph.graph import StateGraph, START, END\n",
    "from langgraph.types import Command, interrupt\n",
    "from typing import TypedDict\n",
    "from langgraph.checkpoint.memory import MemorySaver"
   ]
  },
  {
   "cell_type": "code",
   "execution_count": 65,
   "id": "4ab29af8",
   "metadata": {},
   "outputs": [],
   "source": [
    "memory = MemorySaver()"
   ]
  },
  {
   "cell_type": "code",
   "execution_count": 66,
   "id": "162414ab",
   "metadata": {},
   "outputs": [],
   "source": [
    "class State(TypedDict):\n",
    "    value: str"
   ]
  },
  {
   "cell_type": "code",
   "execution_count": 67,
   "id": "a3873018",
   "metadata": {},
   "outputs": [],
   "source": [
    "def node_a(state: State): \n",
    "    print(\"Node A\")\n",
    "    return Command(\n",
    "        goto=\"node_b\", \n",
    "        update={\n",
    "            \"value\": state[\"value\"] + \"a\"\n",
    "        }\n",
    "    )"
   ]
  },
  {
   "cell_type": "code",
   "execution_count": 68,
   "id": "ad1fa2b7",
   "metadata": {},
   "outputs": [],
   "source": [
    "def node_b(state: State): \n",
    "    print(\"Node B\")\n",
    "\n",
    "    human_response = interrupt(\"Do you want to go to C or D? Type C/D\")\n",
    "\n",
    "    print(\"Human Review Values: \", human_response)\n",
    "    \n",
    "    if(human_response == \"C\"): \n",
    "        return Command(\n",
    "            goto=\"node_c\", \n",
    "            update={\n",
    "                \"value\": state[\"value\"] + \"b\"\n",
    "            }\n",
    "        ) \n",
    "    elif(human_response == \"D\"): \n",
    "        return Command(\n",
    "            goto=\"node_d\", \n",
    "            update={\n",
    "                \"value\": state[\"value\"] + \"b\"\n",
    "            }\n",
    "        )"
   ]
  },
  {
   "cell_type": "code",
   "execution_count": 69,
   "id": "e5e8fad7",
   "metadata": {},
   "outputs": [],
   "source": [
    "def node_c(state: State): \n",
    "    print(\"Node C\")\n",
    "    return Command(\n",
    "        goto=END, \n",
    "        update={\n",
    "            \"value\": state[\"value\"] + \"c\"\n",
    "        }\n",
    "    )"
   ]
  },
  {
   "cell_type": "code",
   "execution_count": 70,
   "id": "0869cdab",
   "metadata": {},
   "outputs": [],
   "source": [
    "def node_d(state: State): \n",
    "    print(\"Node D\")\n",
    "    return Command(\n",
    "        goto=END, \n",
    "        update={\n",
    "            \"value\": state[\"value\"] + \"d\"\n",
    "        }\n",
    ")"
   ]
  },
  {
   "cell_type": "code",
   "execution_count": 71,
   "id": "1d56584f",
   "metadata": {},
   "outputs": [],
   "source": [
    "graph = StateGraph(State)\n",
    "\n",
    "graph.add_node(\"node_a\", node_a)\n",
    "graph.add_node(\"node_b\", node_b)\n",
    "graph.add_node(\"node_c\", node_c)\n",
    "graph.add_node(\"node_d\", node_d)\n",
    "\n",
    "graph.set_entry_point(\"node_a\") \n",
    "\n",
    "app = graph.compile(checkpointer=memory)"
   ]
  },
  {
   "cell_type": "code",
   "execution_count": 72,
   "id": "efcf058d",
   "metadata": {},
   "outputs": [],
   "source": [
    "config = {\"configurable\": {\"thread_id\": \"1\"}}"
   ]
  },
  {
   "cell_type": "code",
   "execution_count": 73,
   "id": "b7a5e10b",
   "metadata": {},
   "outputs": [],
   "source": [
    "initialState = {\n",
    "    \"value\": \"\"\n",
    "}"
   ]
  },
  {
   "cell_type": "code",
   "execution_count": 74,
   "id": "64baa4f7",
   "metadata": {},
   "outputs": [
    {
     "name": "stdout",
     "output_type": "stream",
     "text": [
      "Node A\n",
      "Node B\n"
     ]
    },
    {
     "data": {
      "text/plain": [
       "[{'node_a': {'value': 'a'}},\n",
       " {'__interrupt__': (Interrupt(value='Do you want to go to C or D? Type C/D', resumable=True, ns=['node_b:0e55c4b8-59b7-0879-2f81-d62a4237922a']),)}]"
      ]
     },
     "execution_count": 74,
     "metadata": {},
     "output_type": "execute_result"
    }
   ],
   "source": [
    "first_result = app.invoke(initialState, config, stream_mode=\"updates\")\n",
    "first_result"
   ]
  },
  {
   "cell_type": "code",
   "execution_count": 75,
   "id": "5dc49e84",
   "metadata": {},
   "outputs": [
    {
     "name": "stdout",
     "output_type": "stream",
     "text": [
      "('node_b',)\n"
     ]
    }
   ],
   "source": [
    "#This gives information about the next node to go to, since it is checkpointed\n",
    "print(app.get_state(config).next)"
   ]
  },
  {
   "cell_type": "code",
   "execution_count": 76,
   "id": "ecade4a9",
   "metadata": {},
   "outputs": [
    {
     "name": "stdout",
     "output_type": "stream",
     "text": [
      "Node B\n",
      "Human Review Values:  C\n",
      "Node C\n"
     ]
    },
    {
     "data": {
      "text/plain": [
       "[{'node_b': {'value': 'ab'}}, {'node_c': {'value': 'abc'}}]"
      ]
     },
     "execution_count": 76,
     "metadata": {},
     "output_type": "execute_result"
    }
   ],
   "source": [
    "#I want to go to C\n",
    "second_result = app.invoke(Command(resume=\"C\"), config=config, stream_mode=\"updates\")\n",
    "second_result"
   ]
  },
  {
   "cell_type": "code",
   "execution_count": 77,
   "id": "78b7a181",
   "metadata": {},
   "outputs": [
    {
     "data": {
      "text/plain": [
       "[]"
      ]
     },
     "execution_count": 77,
     "metadata": {},
     "output_type": "execute_result"
    }
   ],
   "source": [
    "#Running this again, we'll not get anything because the graph has already executed - there's no interrupt method. Either change the thread id and start from scratch / or use time travel\n",
    "second_result = app.invoke(Command(resume=\"C\"), config=config, stream_mode=\"updates\")\n",
    "second_result"
   ]
  },
  {
   "cell_type": "markdown",
   "id": "5d9d0b6f",
   "metadata": {},
   "source": [
    "#### Example 2"
   ]
  },
  {
   "cell_type": "markdown",
   "id": "76cd6ab2",
   "metadata": {},
   "source": [
    "Reviewing tool calls and using the first way of using `interrupt` method to check before the tool is actually executed."
   ]
  },
  {
   "cell_type": "code",
   "execution_count": 78,
   "id": "70052fff",
   "metadata": {},
   "outputs": [],
   "source": [
    "from IPython.display import Image, display\n",
    "from typing import TypedDict, Annotated\n",
    "from langgraph.graph import add_messages, StateGraph, END\n",
    "from langchain_groq import ChatGroq\n",
    "from langchain_core.messages import AIMessage, HumanMessage\n",
    "from dotenv import load_dotenv\n",
    "from langchain_tavily import TavilySearch\n",
    "from langgraph.prebuilt import ToolNode, tools_condition\n",
    "from langgraph.checkpoint.memory import InMemorySaver"
   ]
  },
  {
   "cell_type": "code",
   "execution_count": 79,
   "id": "214c0183",
   "metadata": {},
   "outputs": [],
   "source": [
    "memory = InMemorySaver()"
   ]
  },
  {
   "cell_type": "code",
   "execution_count": 80,
   "id": "ec883198",
   "metadata": {},
   "outputs": [],
   "source": [
    "class SimpleChatState(TypedDict):\n",
    "    messages: Annotated[list, add_messages]"
   ]
  },
  {
   "cell_type": "code",
   "execution_count": 81,
   "id": "64eb664d",
   "metadata": {},
   "outputs": [],
   "source": [
    "llm = ChatGroq(model=\"llama-3.1-8b-instant\")"
   ]
  },
  {
   "cell_type": "code",
   "execution_count": 82,
   "id": "29d1d5a5",
   "metadata": {},
   "outputs": [],
   "source": [
    "search_tool = TavilySearch(max_results=2)\n",
    "tools = [search_tool]"
   ]
  },
  {
   "cell_type": "code",
   "execution_count": 83,
   "id": "9b5c9e79",
   "metadata": {},
   "outputs": [],
   "source": [
    "llm_with_tools = llm.bind_tools(tools=tools)"
   ]
  },
  {
   "cell_type": "code",
   "execution_count": 84,
   "id": "d2a5d1d8",
   "metadata": {},
   "outputs": [],
   "source": [
    "def tool_enabled_chatbot(state: SimpleChatState):\n",
    "    return {\n",
    "        \"messages\": [llm_with_tools.invoke(state[\"messages\"])], \n",
    "    }"
   ]
  },
  {
   "cell_type": "markdown",
   "id": "e45afd85",
   "metadata": {},
   "source": [
    "We use the [built-in `ToolNode`](https://langchain-ai.github.io/langgraph/reference/prebuilt/?h=tools+condition#toolnode) and simply pass a list of our tools to initialize it. \n"
   ]
  },
  {
   "cell_type": "code",
   "execution_count": 85,
   "id": "5478d70f",
   "metadata": {},
   "outputs": [],
   "source": [
    "tool_node = ToolNode(tools=tools)"
   ]
  },
  {
   "cell_type": "markdown",
   "id": "6aaf7f66",
   "metadata": {},
   "source": [
    "We can also use the [built-in `tools_condition`](https://langchain-ai.github.io/langgraph/reference/prebuilt/?h=tools+condition#tools_condition) as our conditional edge. Here - we first define a custom router for explanation, but show a streamlined manner just using `tools_condition`."
   ]
  },
  {
   "cell_type": "code",
   "execution_count": 86,
   "id": "49c5d73b",
   "metadata": {},
   "outputs": [
    {
     "data": {
      "text/plain": [
       "<langgraph.graph.state.StateGraph at 0x10dcb4590>"
      ]
     },
     "execution_count": 86,
     "metadata": {},
     "output_type": "execute_result"
    }
   ],
   "source": [
    "#Using tools_condition\n",
    "graph = StateGraph(SimpleChatState)\n",
    "\n",
    "graph.add_node(\"chatbot\", tool_enabled_chatbot)\n",
    "graph.add_node(\"tools\", tool_node)\n",
    "graph.set_entry_point(\"chatbot\")\n",
    "\n",
    "graph.add_conditional_edges(\"chatbot\", \n",
    "                            tools_condition)\n",
    "graph.add_edge(\"tools\", \"chatbot\")"
   ]
  },
  {
   "cell_type": "code",
   "execution_count": 87,
   "id": "c0f0d999",
   "metadata": {},
   "outputs": [],
   "source": [
    "#This is where there's a change | there's also an interrupt_after that exits the graph after the tool node is executed (another use case)\n",
    "app = graph.compile(checkpointer=memory, interrupt_before=[\"tools\"])"
   ]
  },
  {
   "cell_type": "code",
   "execution_count": 88,
   "id": "d449c885",
   "metadata": {},
   "outputs": [
    {
     "data": {
      "image/png": "[encoded data removed]",
      "text/plain": [
       "<IPython.core.display.Image object>"
      ]
     },
     "metadata": {},
     "output_type": "display_data"
    }
   ],
   "source": [
    "display(Image(app.get_graph(xray=True).draw_mermaid_png()))"
   ]
  },
  {
   "cell_type": "code",
   "execution_count": 89,
   "id": "7c48ede2",
   "metadata": {},
   "outputs": [],
   "source": [
    "config = {\"configurable\": {\n",
    "    \"thread_id\": 1\n",
    "}}"
   ]
  },
  {
   "cell_type": "code",
   "execution_count": 90,
   "id": "877b8e4c",
   "metadata": {},
   "outputs": [
    {
     "name": "stdout",
     "output_type": "stream",
     "text": [
      "================================\u001b[1m Human Message \u001b[0m=================================\n",
      "\n",
      "What is the current weather in Indore?\n",
      "==================================\u001b[1m Ai Message \u001b[0m==================================\n",
      "Tool Calls:\n",
      "  tavily_search (68hwhd2wn)\n",
      " Call ID: 68hwhd2wn\n",
      "  Args:\n",
      "    query: Indore current weather\n",
      "    topic: news\n"
     ]
    }
   ],
   "source": [
    "#We'll not use invoke and use stream instead -> invoke returns a value only when the graph has executed, either because of interrupt method or the graph has completed | stream emits events after every single node\n",
    "events = app.stream({\n",
    "    \"messages\": [HumanMessage(content=\"What is the current weather in Indore?\")]\n",
    "}, config=config, stream_mode=\"values\")\n",
    "\n",
    "for event in events:\n",
    "    event[\"messages\"][-1].pretty_print()"
   ]
  },
  {
   "cell_type": "code",
   "execution_count": 91,
   "id": "4900bb3a",
   "metadata": {},
   "outputs": [
    {
     "data": {
      "text/plain": [
       "('tools',)"
      ]
     },
     "execution_count": 91,
     "metadata": {},
     "output_type": "execute_result"
    }
   ],
   "source": [
    "#This will be tools, because the tool node is responsible for executing the tool call\n",
    "snapshot = app.get_state(config=config)\n",
    "snapshot.next"
   ]
  },
  {
   "cell_type": "code",
   "execution_count": 92,
   "id": "f379358c",
   "metadata": {},
   "outputs": [
    {
     "name": "stdout",
     "output_type": "stream",
     "text": [
      "==================================\u001b[1m Ai Message \u001b[0m==================================\n",
      "Tool Calls:\n",
      "  tavily_search (68hwhd2wn)\n",
      " Call ID: 68hwhd2wn\n",
      "  Args:\n",
      "    query: Indore current weather\n",
      "    topic: news\n",
      "=================================\u001b[1m Tool Message \u001b[0m=================================\n",
      "Name: tavily_search\n",
      "\n",
      "{\"query\": \"Indore current weather\", \"follow_up_questions\": null, \"answer\": null, \"images\": [], \"results\": [{\"url\": \"https://www.skynews.com.au/australia-news/weather/showers-likely-to-ease-in-nations-drenched-southwest-corner-after-wet-and-chilly-weekend-for-west-coast/news-story/5d5b6f94988edc1ffbffb0f9e43ea9d8\", \"title\": \"Showers likely to ease in drenched and chilly south-west - Sky News Australia\", \"score\": 0.1591785, \"published_date\": \"Sun, 07 Sep 2025 19:18:43 GMT\", \"content\": \"Skies are expected to gradually clear in the country’s south-west corner following a wet and chilly weekend for much of the west coast. Examining the forecast for the start of the week, Sky News Weather Presenter Julia Seymour said a cold front, which had brought wet and windy weather with it, would continue to push across the country’s south-east into Monday. Further ahead, though, the BOM has forecast just a five percent chance of rain for the city on Tuesday and a maximum temperature of 18 degrees, with sunny conditions looking likely for WA's capital later in the week before wet weather is expected to return by the weekend.\", \"raw_content\": null}, {\"url\": \"https://kfgo.com/2025/09/09/police-officer-suffers-self-inflicted-gunshot-wound-after-several-hours-of-negotiations/\", \"title\": \"Police officer suffers self-inflicted gunshot wound after several hours of negotiations - The Mighty 790 KFGO\", \"score\": 0.096441865, \"published_date\": \"Wed, 10 Sep 2025 02:04:33 GMT\", \"content\": \"* WEATHER (KFGO KZZY) – Devils Lake police say an off-duty officer shot himself after an hours-long standoff at a home in Devils Lake. Police Chief Jason Toso says officers responded to a home late Monday night after a 911 hang-up call. A judge approved a search warrant for the home. Toso says the officer was taken to a hospital. ## Comments You must be logged in to post a comment. 1h agoUS health officials compiling examples of COVID vaccine harm during pregnancy, WSJ reports 2h agoDollar treads water ahead of inflation reports; US rate cut bets intact 52m agoSlim iPhone Air could be a design win for Apple, analysts say 1h ago ## Current Weather » ### Fargo, ND Fargo, ND, USA\", \"raw_content\": null}], \"response_time\": 0.35, \"request_id\": \"a93781ac-4569-43ff-80d2-47d181fcff1d\"}\n",
      "==================================\u001b[1m Ai Message \u001b[0m==================================\n",
      "\n",
      "It seems like the function call did not return the current weather in Indore. Let's try again with a different function call.\n",
      "Tool Calls:\n",
      "  tavily_search (cqcx0c0p6)\n",
      " Call ID: cqcx0c0p6\n",
      "  Args:\n",
      "    query: Indore weather today\n",
      "    topic: general\n"
     ]
    }
   ],
   "source": [
    "#Executes Tavily search tool\n",
    "events = app.stream(None, config, stream_mode=\"values\")\n",
    "for event in events:\n",
    "    event[\"messages\"][-1].pretty_print()"
   ]
  },
  {
   "cell_type": "markdown",
   "id": "cd996cc2",
   "metadata": {},
   "source": [
    "#### Example 3 - Coming back to our main example in this section"
   ]
  },
  {
   "cell_type": "markdown",
   "id": "d7d81098",
   "metadata": {},
   "source": [
    "Multi-turn conversations and reuse the Tweet creation example"
   ]
  },
  {
   "cell_type": "code",
   "execution_count": 93,
   "id": "a850067d",
   "metadata": {},
   "outputs": [],
   "source": [
    "from langgraph.graph import StateGraph, START, END, add_messages\n",
    "from langgraph.types import Command, interrupt\n",
    "from typing import TypedDict, Annotated, List\n",
    "from langgraph.checkpoint.memory import MemorySaver\n",
    "from langchain_groq import ChatGroq\n",
    "from langchain_core.messages import HumanMessage, SystemMessage, AIMessage\n",
    "import uuid"
   ]
  },
  {
   "cell_type": "code",
   "execution_count": 94,
   "id": "d6716688",
   "metadata": {},
   "outputs": [],
   "source": [
    "llm = ChatGroq(model=\"llama-3.1-8b-instant\")"
   ]
  },
  {
   "cell_type": "code",
   "execution_count": 95,
   "id": "9f43cf5c",
   "metadata": {},
   "outputs": [],
   "source": [
    "class State(TypedDict): \n",
    "    tweet_topic: str #in the beginning\n",
    "    generated_post: Annotated[List[str], add_messages] #every time the model created the post\n",
    "    human_feedback: Annotated[List[str], add_messages] #every time there's a feedback"
   ]
  },
  {
   "cell_type": "code",
   "execution_count": 96,
   "id": "cb107204",
   "metadata": {},
   "outputs": [],
   "source": [
    "def model(state: State): \n",
    "    \"\"\" Here, we're using the LLM to generate a Twitter post with human feedback incorporated \"\"\"\n",
    "\n",
    "    print(\"[model] Generating content\")\n",
    "    tweet_topic = state[\"tweet_topic\"]\n",
    "    feedback = state[\"human_feedback\"] if \"human_feedback\" in state else [\"No Feedback yet\"]\n",
    "\n",
    "    # Here, we define the prompt \n",
    "\n",
    "    prompt = f\"\"\"\n",
    "\n",
    "        Tweet Topic: {tweet_topic}\n",
    "        Human Feedback: {feedback[-1] if feedback else \"No feedback yet\"}\n",
    "\n",
    "        Generate a structured and well-written Twitter post based on the given topic.\n",
    "\n",
    "        Consider previous human feedback to refine the reponse. \n",
    "    \"\"\"\n",
    "\n",
    "    response = llm.invoke([\n",
    "        SystemMessage(content=\"You are an expert Twitter content writer\"), \n",
    "        HumanMessage(content=prompt)\n",
    "    ])\n",
    "\n",
    "    generated_twitter_post = response.content\n",
    "\n",
    "    print(f\"[model_node] Generated post:\\n{generated_twitter_post}\\n\")\n",
    "\n",
    "    return {\n",
    "       \"generated_post\": [AIMessage(content=generated_twitter_post)] , \n",
    "       \"human_feedback\": feedback\n",
    "    }"
   ]
  },
  {
   "cell_type": "code",
   "execution_count": 97,
   "id": "70f891df",
   "metadata": {},
   "outputs": [],
   "source": [
    "def human_node(state: State): \n",
    "    \"\"\"Human Intervention node - loops back to model unless input is done\"\"\"\n",
    "\n",
    "    print(\"\\n [human_node] awaiting human feedback...\")\n",
    "\n",
    "    generated_post = state[\"generated_post\"]\n",
    "\n",
    "    # Interrupt to get user feedback\n",
    "\n",
    "    user_feedback = interrupt(\n",
    "        {\n",
    "            \"generated_post\": generated_post, \n",
    "            \"message\": \"Provide feedback or type 'done' to finish\"\n",
    "        }\n",
    "    )\n",
    "\n",
    "    print(f\"[human_node] Received human feedback: {user_feedback}\")\n",
    "\n",
    "    # If user types \"done\", transition to END node\n",
    "    if user_feedback.lower() == \"done\": \n",
    "        return Command(update={\"human_feedback\": state[\"human_feedback\"] + [\"Finalised\"]}, goto=\"end_node\")\n",
    "\n",
    "    # Otherwise, update feedback and return to model for re-generation\n",
    "    return Command(update={\"human_feedback\": state[\"human_feedback\"] + [user_feedback]}, goto=\"model\")"
   ]
  },
  {
   "cell_type": "code",
   "execution_count": 98,
   "id": "a7a228f9",
   "metadata": {},
   "outputs": [],
   "source": [
    "def end_node(state: State): \n",
    "    \"\"\" Final node \"\"\"\n",
    "    print(\"\\n[end_node] Process finished\")\n",
    "    print(\"Final Generated Post:\", state[\"generated_post\"][-1])\n",
    "    print(\"Final Human Feedback\", state[\"human_feedback\"])\n",
    "    return {\"generated_post\": state[\"generated_post\"], \"human_feedback\": state[\"human_feedback\"]}"
   ]
  },
  {
   "cell_type": "code",
   "execution_count": 99,
   "id": "7736a52b",
   "metadata": {},
   "outputs": [
    {
     "data": {
      "text/plain": [
       "<langgraph.graph.state.StateGraph at 0x10dc29250>"
      ]
     },
     "execution_count": 99,
     "metadata": {},
     "output_type": "execute_result"
    }
   ],
   "source": [
    "# Buiding the Graph\n",
    "\n",
    "graph = StateGraph(State)\n",
    "graph.add_node(\"model\", model)\n",
    "graph.add_node(\"human_node\", human_node)\n",
    "graph.add_node(\"end_node\", end_node)\n",
    "\n",
    "graph.set_entry_point(\"model\")"
   ]
  },
  {
   "cell_type": "code",
   "execution_count": 100,
   "id": "047f401f",
   "metadata": {},
   "outputs": [
    {
     "data": {
      "text/plain": [
       "<langgraph.graph.state.StateGraph at 0x10dc29250>"
      ]
     },
     "execution_count": 100,
     "metadata": {},
     "output_type": "execute_result"
    }
   ],
   "source": [
    "# Define the flow\n",
    "\n",
    "graph.add_edge(START, \"model\")\n",
    "graph.add_edge(\"model\", \"human_node\")\n",
    "\n",
    "graph.set_finish_point(\"end_node\")"
   ]
  },
  {
   "cell_type": "code",
   "execution_count": 101,
   "id": "28b8967f",
   "metadata": {},
   "outputs": [],
   "source": [
    "# Enable Interrupt mechanism\n",
    "checkpointer = MemorySaver()\n",
    "app = graph.compile(checkpointer=checkpointer)"
   ]
  },
  {
   "cell_type": "code",
   "execution_count": 102,
   "id": "ce3502e1",
   "metadata": {},
   "outputs": [],
   "source": [
    "# display(Image(app.get_graph(xray=True).draw_mermaid_png()))"
   ]
  },
  {
   "cell_type": "code",
   "execution_count": 103,
   "id": "c693c84c",
   "metadata": {},
   "outputs": [],
   "source": [
    "thread_config = {\"configurable\": {\n",
    "    \"thread_id\": uuid.uuid4()\n",
    "}}"
   ]
  },
  {
   "cell_type": "code",
   "execution_count": 107,
   "id": "a85a3e03",
   "metadata": {},
   "outputs": [
    {
     "name": "stdin",
     "output_type": "stream",
     "text": [
      "Enter your Tweet topic:  AI Gateway\n"
     ]
    }
   ],
   "source": [
    "tweet_topic = input(\"Enter your Tweet topic: \")\n",
    "initial_state = {\n",
    "    \"tweet_topic\": tweet_topic, \n",
    "    \"generated_post\": [], \n",
    "    \"human_feedback\": []\n",
    "}"
   ]
  },
  {
   "cell_type": "code",
   "execution_count": 108,
   "id": "1006799e",
   "metadata": {},
   "outputs": [
    {
     "name": "stdout",
     "output_type": "stream",
     "text": [
      "[model] Generating content\n",
      "[model_node] Generated post:\n",
      "Since there is no previous human feedback, I will generate a basic structured and well-written Twitter post based on the topic 'AI Gateway'.\n",
      "\n",
      "**Tweet:**\n",
      "\n",
      "1. **Catchy Title:** \n",
      "\"Unlock the Future of Tech: Discover the AI Gateway Revolutionizing Industries! \"\n",
      "\n",
      "2. **Content:**\n",
      "\"Imagine a world where machines can learn, adapt, and interact seamlessly. Introducing the AI Gateway - a cutting-edge technology bridging the gap between humans and artificial intelligence. \n",
      "\n",
      "From enhanced customer experiences to optimized business processes, the AI Gateway is transforming industries at an unprecedented pace. \n",
      "\n",
      "Ready to unlock the full potential of AI? Let's dive into the world of AI Gateway and explore its limitless possibilities! #AIGateway #ArtificialIntelligence #TechRevolution\"\n",
      "\n",
      "3. **Visuals:** Add an eye-catching image or GIF that represents AI Gateway technology. This could be an illustration of a person interacting with a futuristic AI interface or a graph showing the exponential growth of AI adoption.\n",
      "\n",
      "**Engagement Strategy:**\n",
      "\n",
      "- Tag relevant influencers and industry leaders in the tech space to encourage discussion and feedback.\n",
      "- Use relevant hashtags to increase the tweet's visibility and attract new followers interested in AI and technology.\n",
      "- Encourage users to share their experiences or thoughts about AI Gateway in the comments section.\n",
      "- Run a poll or a Q&A session to engage the audience and gather feedback on the topic.\n",
      "\n",
      "\n",
      " [human_node] awaiting human feedback...\n"
     ]
    },
    {
     "name": "stdin",
     "output_type": "stream",
     "text": [
      "Provide feedback (or type 'done' when finished):  done\n"
     ]
    },
    {
     "name": "stdout",
     "output_type": "stream",
     "text": [
      "\n",
      " [human_node] awaiting human feedback...\n",
      "[human_node] Received human feedback: done\n",
      "\n",
      "[end_node] Process finished\n",
      "Final Generated Post: content='Since there is no previous human feedback, I will generate a basic structured and well-written Twitter post based on the topic \\'AI Gateway\\'.\\n\\n**Tweet:**\\n\\n1. **Catchy Title:** \\n\"Unlock the Future of Tech: Discover the AI Gateway Revolutionizing Industries! \"\\n\\n2. **Content:**\\n\"Imagine a world where machines can learn, adapt, and interact seamlessly. Introducing the AI Gateway - a cutting-edge technology bridging the gap between humans and artificial intelligence. \\n\\nFrom enhanced customer experiences to optimized business processes, the AI Gateway is transforming industries at an unprecedented pace. \\n\\nReady to unlock the full potential of AI? Let\\'s dive into the world of AI Gateway and explore its limitless possibilities! #AIGateway #ArtificialIntelligence #TechRevolution\"\\n\\n3. **Visuals:** Add an eye-catching image or GIF that represents AI Gateway technology. This could be an illustration of a person interacting with a futuristic AI interface or a graph showing the exponential growth of AI adoption.\\n\\n**Engagement Strategy:**\\n\\n- Tag relevant influencers and industry leaders in the tech space to encourage discussion and feedback.\\n- Use relevant hashtags to increase the tweet\\'s visibility and attract new followers interested in AI and technology.\\n- Encourage users to share their experiences or thoughts about AI Gateway in the comments section.\\n- Run a poll or a Q&A session to engage the audience and gather feedback on the topic.' additional_kwargs={} response_metadata={} id='bfafaee6-db77-4609-bf44-11ece4bb0b24'\n",
      "Final Human Feedback [HumanMessage(content='Finalised', additional_kwargs={}, response_metadata={}, id='b0abc09e-9669-4767-a0ed-166300babd43')]\n"
     ]
    }
   ],
   "source": [
    "for chunk in app.stream(initial_state, config=thread_config):\n",
    "    for node_id, value in chunk.items():\n",
    "        #  If we reach an interrupt, continuously ask for human feedback\n",
    "\n",
    "        if(node_id == \"__interrupt__\"):\n",
    "            while True: \n",
    "                user_feedback = input(\"Provide feedback (or type 'done' when finished): \")\n",
    "\n",
    "                # Resume the graph execution with the user's feedback\n",
    "                app.invoke(Command(resume=user_feedback), config=thread_config)\n",
    "\n",
    "                # Exit loop if user says done\n",
    "                if user_feedback.lower() == \"done\":\n",
    "                    break"
   ]
  },
  {
   "cell_type": "markdown",
   "id": "54313006",
   "metadata": {},
   "source": [
    "# Streaming"
   ]
  },
  {
   "cell_type": "code",
   "execution_count": 109,
   "id": "f6cef708",
   "metadata": {},
   "outputs": [],
   "source": [
    "from IPython.display import Image, display\n",
    "from typing import TypedDict, Annotated\n",
    "from langgraph.graph import add_messages, StateGraph, END\n",
    "from langchain_groq import ChatGroq\n",
    "from langchain_core.messages import AIMessage, HumanMessage\n",
    "from dotenv import load_dotenv\n",
    "from langchain_tavily import TavilySearch\n",
    "from langgraph.prebuilt import ToolNode, tools_condition"
   ]
  },
  {
   "cell_type": "code",
   "execution_count": 110,
   "id": "b4249bbb",
   "metadata": {},
   "outputs": [],
   "source": [
    "class SimpleChatState(TypedDict):\n",
    "    messages: Annotated[list, add_messages]"
   ]
  },
  {
   "cell_type": "code",
   "execution_count": 111,
   "id": "1986ea8b",
   "metadata": {},
   "outputs": [],
   "source": [
    "llm = ChatGroq(model=\"llama-3.1-8b-instant\")"
   ]
  },
  {
   "cell_type": "code",
   "execution_count": 112,
   "id": "ddf5cb08",
   "metadata": {},
   "outputs": [],
   "source": [
    "search_tool = TavilySearch(max_results=2)\n",
    "tools = [search_tool]"
   ]
  },
  {
   "cell_type": "code",
   "execution_count": 113,
   "id": "640e3925",
   "metadata": {},
   "outputs": [],
   "source": [
    "llm_with_tools = llm.bind_tools(tools=tools)"
   ]
  },
  {
   "cell_type": "code",
   "execution_count": 114,
   "id": "e9e423d2",
   "metadata": {},
   "outputs": [],
   "source": [
    "def tool_enabled_chatbot(state: SimpleChatState):\n",
    "    return {\n",
    "        \"messages\": [llm_with_tools.invoke(state[\"messages\"])], \n",
    "    }"
   ]
  },
  {
   "cell_type": "markdown",
   "id": "e48826a0",
   "metadata": {},
   "source": [
    "We use the [built-in `ToolNode`](https://langchain-ai.github.io/langgraph/reference/prebuilt/?h=tools+condition#toolnode) and simply pass a list of our tools to initialize it. \n"
   ]
  },
  {
   "cell_type": "code",
   "execution_count": 115,
   "id": "c4ceca94",
   "metadata": {},
   "outputs": [],
   "source": [
    "tool_node = ToolNode(tools=tools)"
   ]
  },
  {
   "cell_type": "markdown",
   "id": "d448afe4",
   "metadata": {},
   "source": [
    "We can also use the [built-in `tools_condition`](https://langchain-ai.github.io/langgraph/reference/prebuilt/?h=tools+condition#tools_condition) as our conditional edge. Here - we first define a custom router for explanation, but show a streamlined manner just using `tools_condition`."
   ]
  },
  {
   "cell_type": "code",
   "execution_count": 116,
   "id": "7ddee425",
   "metadata": {},
   "outputs": [],
   "source": [
    "#From scratch - else use tools_condition\n",
    "def tools_router(state: SimpleChatState):\n",
    "    last_message = state[\"messages\"][-1]\n",
    "\n",
    "    if(hasattr(last_message, \"tool_calls\") and len(last_message.tool_calls) > 0):\n",
    "        return \"tools\"\n",
    "    else: \n",
    "        return \"end\""
   ]
  },
  {
   "cell_type": "code",
   "execution_count": 117,
   "id": "abc21da9",
   "metadata": {},
   "outputs": [],
   "source": [
    "#Using tools_condition\n",
    "graph = StateGraph(SimpleChatState)\n",
    "\n",
    "graph.add_node(\"chatbot\", tool_enabled_chatbot)\n",
    "graph.add_node(\"tools\", tool_node)\n",
    "graph.set_entry_point(\"chatbot\")\n",
    "\n",
    "graph.add_conditional_edges(\"chatbot\", \n",
    "                            tools_condition)\n",
    "graph.add_edge(\"tools\", \"chatbot\")\n",
    "\n",
    "app = graph.compile()"
   ]
  },
  {
   "cell_type": "code",
   "execution_count": 118,
   "id": "469b11c0",
   "metadata": {},
   "outputs": [
    {
     "data": {
      "image/png": "[encoded data removed]",
      "text/plain": [
       "<IPython.core.display.Image object>"
      ]
     },
     "metadata": {},
     "output_type": "display_data"
    }
   ],
   "source": [
    "display(Image(app.get_graph(xray=True).draw_mermaid_png()))"
   ]
  },
  {
   "cell_type": "code",
   "execution_count": 119,
   "id": "dc756a85",
   "metadata": {},
   "outputs": [],
   "source": [
    "## From earlier --> \n",
    "# result = app.invoke({\n",
    "#     \"messages\": [HumanMessage(content=user_input)]\n",
    "# })\n",
    "\n",
    "# print(\"AI: \" + result[\"messages\"][-1].content + \"\\n\")"
   ]
  },
  {
   "cell_type": "code",
   "execution_count": 120,
   "id": "3c6ce9da",
   "metadata": {},
   "outputs": [
    {
     "name": "stdout",
     "output_type": "stream",
     "text": [
      "[HumanMessage(content=\"What's the current weather in Indore?\", additional_kwargs={}, response_metadata={}, id='ae32f409-7610-498e-86c9-93b48bbc9edc')] \n",
      "\n",
      "\n",
      "[HumanMessage(content=\"What's the current weather in Indore?\", additional_kwargs={}, response_metadata={}, id='ae32f409-7610-498e-86c9-93b48bbc9edc'), AIMessage(content='', additional_kwargs={'tool_calls': [{'id': 'dbmd5es38', 'function': {'arguments': '{\"query\":\"Indore current weather\",\"topic\":\"news\"}', 'name': 'tavily_search'}, 'type': 'function'}]}, response_metadata={'token_usage': {'completion_tokens': 25, 'prompt_tokens': 1795, 'total_tokens': 1820, 'completion_time': 0.041766137, 'prompt_time': 0.418882558, 'queue_time': 0.047633141, 'total_time': 0.460648695}, 'model_name': 'llama-3.1-8b-instant', 'system_fingerprint': 'fp_510c177af0', 'service_tier': 'on_demand', 'finish_reason': 'tool_calls', 'logprobs': None}, id='run--5518d852-6fa2-43eb-8526-b1ad1165a793-0', tool_calls=[{'name': 'tavily_search', 'args': {'query': 'Indore current weather', 'topic': 'news'}, 'id': 'dbmd5es38', 'type': 'tool_call'}], usage_metadata={'input_tokens': 1795, 'output_tokens': 25, 'total_tokens': 1820})] \n",
      "\n",
      "\n",
      "[HumanMessage(content=\"What's the current weather in Indore?\", additional_kwargs={}, response_metadata={}, id='ae32f409-7610-498e-86c9-93b48bbc9edc'), AIMessage(content='', additional_kwargs={'tool_calls': [{'id': 'dbmd5es38', 'function': {'arguments': '{\"query\":\"Indore current weather\",\"topic\":\"news\"}', 'name': 'tavily_search'}, 'type': 'function'}]}, response_metadata={'token_usage': {'completion_tokens': 25, 'prompt_tokens': 1795, 'total_tokens': 1820, 'completion_time': 0.041766137, 'prompt_time': 0.418882558, 'queue_time': 0.047633141, 'total_time': 0.460648695}, 'model_name': 'llama-3.1-8b-instant', 'system_fingerprint': 'fp_510c177af0', 'service_tier': 'on_demand', 'finish_reason': 'tool_calls', 'logprobs': None}, id='run--5518d852-6fa2-43eb-8526-b1ad1165a793-0', tool_calls=[{'name': 'tavily_search', 'args': {'query': 'Indore current weather', 'topic': 'news'}, 'id': 'dbmd5es38', 'type': 'tool_call'}], usage_metadata={'input_tokens': 1795, 'output_tokens': 25, 'total_tokens': 1820}), ToolMessage(content='{\"query\": \"Indore current weather\", \"follow_up_questions\": null, \"answer\": null, \"images\": [], \"results\": [{\"url\": \"https://www.skynews.com.au/australia-news/weather/showers-likely-to-ease-in-nations-drenched-southwest-corner-after-wet-and-chilly-weekend-for-west-coast/news-story/5d5b6f94988edc1ffbffb0f9e43ea9d8\", \"title\": \"Showers likely to ease in drenched and chilly south-west - Sky News Australia\", \"score\": 0.1591785, \"published_date\": \"Sun, 07 Sep 2025 19:18:43 GMT\", \"content\": \"Skies are expected to gradually clear in the country’s south-west corner following a wet and chilly weekend for much of the west coast. Examining the forecast for the start of the week, Sky News Weather Presenter Julia Seymour said a cold front, which had brought wet and windy weather with it, would continue to push across the country’s south-east into Monday. Further ahead, though, the BOM has forecast just a five percent chance of rain for the city on Tuesday and a maximum temperature of 18 degrees, with sunny conditions looking likely for WA\\'s capital later in the week before wet weather is expected to return by the weekend.\", \"raw_content\": null}, {\"url\": \"https://kfgo.com/2025/09/09/police-officer-suffers-self-inflicted-gunshot-wound-after-several-hours-of-negotiations/\", \"title\": \"Police officer suffers self-inflicted gunshot wound after several hours of negotiations - The Mighty 790 KFGO\", \"score\": 0.096441865, \"published_date\": \"Wed, 10 Sep 2025 02:04:33 GMT\", \"content\": \"* WEATHER (KFGO KZZY) – Devils Lake police say an off-duty officer shot himself after an hours-long standoff at a home in Devils Lake. Police Chief Jason Toso says officers responded to a home late Monday night after a 911 hang-up call. A judge approved a search warrant for the home. Toso says the officer was taken to a hospital. ## Comments You must be logged in to post a comment. 1h agoUS health officials compiling examples of COVID vaccine harm during pregnancy, WSJ reports 2h agoDollar treads water ahead of inflation reports; US rate cut bets intact 52m agoSlim iPhone Air could be a design win for Apple, analysts say 1h ago ## Current Weather » ### Fargo, ND Fargo, ND, USA\", \"raw_content\": null}], \"response_time\": 0.39, \"request_id\": \"58833c46-8a9a-47ab-8f8a-8df599ce3ce2\"}', name='tavily_search', id='7f909c22-cc6c-4727-8293-7ecb1d36a992', tool_call_id='dbmd5es38')] \n",
      "\n",
      "\n",
      "[HumanMessage(content=\"What's the current weather in Indore?\", additional_kwargs={}, response_metadata={}, id='ae32f409-7610-498e-86c9-93b48bbc9edc'), AIMessage(content='', additional_kwargs={'tool_calls': [{'id': 'dbmd5es38', 'function': {'arguments': '{\"query\":\"Indore current weather\",\"topic\":\"news\"}', 'name': 'tavily_search'}, 'type': 'function'}]}, response_metadata={'token_usage': {'completion_tokens': 25, 'prompt_tokens': 1795, 'total_tokens': 1820, 'completion_time': 0.041766137, 'prompt_time': 0.418882558, 'queue_time': 0.047633141, 'total_time': 0.460648695}, 'model_name': 'llama-3.1-8b-instant', 'system_fingerprint': 'fp_510c177af0', 'service_tier': 'on_demand', 'finish_reason': 'tool_calls', 'logprobs': None}, id='run--5518d852-6fa2-43eb-8526-b1ad1165a793-0', tool_calls=[{'name': 'tavily_search', 'args': {'query': 'Indore current weather', 'topic': 'news'}, 'id': 'dbmd5es38', 'type': 'tool_call'}], usage_metadata={'input_tokens': 1795, 'output_tokens': 25, 'total_tokens': 1820}), ToolMessage(content='{\"query\": \"Indore current weather\", \"follow_up_questions\": null, \"answer\": null, \"images\": [], \"results\": [{\"url\": \"https://www.skynews.com.au/australia-news/weather/showers-likely-to-ease-in-nations-drenched-southwest-corner-after-wet-and-chilly-weekend-for-west-coast/news-story/5d5b6f94988edc1ffbffb0f9e43ea9d8\", \"title\": \"Showers likely to ease in drenched and chilly south-west - Sky News Australia\", \"score\": 0.1591785, \"published_date\": \"Sun, 07 Sep 2025 19:18:43 GMT\", \"content\": \"Skies are expected to gradually clear in the country’s south-west corner following a wet and chilly weekend for much of the west coast. Examining the forecast for the start of the week, Sky News Weather Presenter Julia Seymour said a cold front, which had brought wet and windy weather with it, would continue to push across the country’s south-east into Monday. Further ahead, though, the BOM has forecast just a five percent chance of rain for the city on Tuesday and a maximum temperature of 18 degrees, with sunny conditions looking likely for WA\\'s capital later in the week before wet weather is expected to return by the weekend.\", \"raw_content\": null}, {\"url\": \"https://kfgo.com/2025/09/09/police-officer-suffers-self-inflicted-gunshot-wound-after-several-hours-of-negotiations/\", \"title\": \"Police officer suffers self-inflicted gunshot wound after several hours of negotiations - The Mighty 790 KFGO\", \"score\": 0.096441865, \"published_date\": \"Wed, 10 Sep 2025 02:04:33 GMT\", \"content\": \"* WEATHER (KFGO KZZY) – Devils Lake police say an off-duty officer shot himself after an hours-long standoff at a home in Devils Lake. Police Chief Jason Toso says officers responded to a home late Monday night after a 911 hang-up call. A judge approved a search warrant for the home. Toso says the officer was taken to a hospital. ## Comments You must be logged in to post a comment. 1h agoUS health officials compiling examples of COVID vaccine harm during pregnancy, WSJ reports 2h agoDollar treads water ahead of inflation reports; US rate cut bets intact 52m agoSlim iPhone Air could be a design win for Apple, analysts say 1h ago ## Current Weather » ### Fargo, ND Fargo, ND, USA\", \"raw_content\": null}], \"response_time\": 0.39, \"request_id\": \"58833c46-8a9a-47ab-8f8a-8df599ce3ce2\"}', name='tavily_search', id='7f909c22-cc6c-4727-8293-7ecb1d36a992', tool_call_id='dbmd5es38'), AIMessage(content=\"The function call was not sufficient to find the weather in Indore. Let's try another function call to get the weather in Indore.\\n\\n\", additional_kwargs={'tool_calls': [{'id': 'tjaaann0d', 'function': {'arguments': '{\"query\":\"Indore weather today\",\"topic\":\"news\"}', 'name': 'tavily_search'}, 'type': 'function'}]}, response_metadata={'token_usage': {'completion_tokens': 53, 'prompt_tokens': 2424, 'total_tokens': 2477, 'completion_time': 0.095351205, 'prompt_time': 0.315274855, 'queue_time': 0.048175344, 'total_time': 0.41062606}, 'model_name': 'llama-3.1-8b-instant', 'system_fingerprint': 'fp_55d70a61e4', 'service_tier': 'on_demand', 'finish_reason': 'tool_calls', 'logprobs': None}, id='run--1297e856-46c8-47bb-9878-3152abe87c2a-0', tool_calls=[{'name': 'tavily_search', 'args': {'query': 'Indore weather today', 'topic': 'news'}, 'id': 'tjaaann0d', 'type': 'tool_call'}], usage_metadata={'input_tokens': 2424, 'output_tokens': 53, 'total_tokens': 2477})] \n",
      "\n",
      "\n",
      "[HumanMessage(content=\"What's the current weather in Indore?\", additional_kwargs={}, response_metadata={}, id='ae32f409-7610-498e-86c9-93b48bbc9edc'), AIMessage(content='', additional_kwargs={'tool_calls': [{'id': 'dbmd5es38', 'function': {'arguments': '{\"query\":\"Indore current weather\",\"topic\":\"news\"}', 'name': 'tavily_search'}, 'type': 'function'}]}, response_metadata={'token_usage': {'completion_tokens': 25, 'prompt_tokens': 1795, 'total_tokens': 1820, 'completion_time': 0.041766137, 'prompt_time': 0.418882558, 'queue_time': 0.047633141, 'total_time': 0.460648695}, 'model_name': 'llama-3.1-8b-instant', 'system_fingerprint': 'fp_510c177af0', 'service_tier': 'on_demand', 'finish_reason': 'tool_calls', 'logprobs': None}, id='run--5518d852-6fa2-43eb-8526-b1ad1165a793-0', tool_calls=[{'name': 'tavily_search', 'args': {'query': 'Indore current weather', 'topic': 'news'}, 'id': 'dbmd5es38', 'type': 'tool_call'}], usage_metadata={'input_tokens': 1795, 'output_tokens': 25, 'total_tokens': 1820}), ToolMessage(content='{\"query\": \"Indore current weather\", \"follow_up_questions\": null, \"answer\": null, \"images\": [], \"results\": [{\"url\": \"https://www.skynews.com.au/australia-news/weather/showers-likely-to-ease-in-nations-drenched-southwest-corner-after-wet-and-chilly-weekend-for-west-coast/news-story/5d5b6f94988edc1ffbffb0f9e43ea9d8\", \"title\": \"Showers likely to ease in drenched and chilly south-west - Sky News Australia\", \"score\": 0.1591785, \"published_date\": \"Sun, 07 Sep 2025 19:18:43 GMT\", \"content\": \"Skies are expected to gradually clear in the country’s south-west corner following a wet and chilly weekend for much of the west coast. Examining the forecast for the start of the week, Sky News Weather Presenter Julia Seymour said a cold front, which had brought wet and windy weather with it, would continue to push across the country’s south-east into Monday. Further ahead, though, the BOM has forecast just a five percent chance of rain for the city on Tuesday and a maximum temperature of 18 degrees, with sunny conditions looking likely for WA\\'s capital later in the week before wet weather is expected to return by the weekend.\", \"raw_content\": null}, {\"url\": \"https://kfgo.com/2025/09/09/police-officer-suffers-self-inflicted-gunshot-wound-after-several-hours-of-negotiations/\", \"title\": \"Police officer suffers self-inflicted gunshot wound after several hours of negotiations - The Mighty 790 KFGO\", \"score\": 0.096441865, \"published_date\": \"Wed, 10 Sep 2025 02:04:33 GMT\", \"content\": \"* WEATHER (KFGO KZZY) – Devils Lake police say an off-duty officer shot himself after an hours-long standoff at a home in Devils Lake. Police Chief Jason Toso says officers responded to a home late Monday night after a 911 hang-up call. A judge approved a search warrant for the home. Toso says the officer was taken to a hospital. ## Comments You must be logged in to post a comment. 1h agoUS health officials compiling examples of COVID vaccine harm during pregnancy, WSJ reports 2h agoDollar treads water ahead of inflation reports; US rate cut bets intact 52m agoSlim iPhone Air could be a design win for Apple, analysts say 1h ago ## Current Weather » ### Fargo, ND Fargo, ND, USA\", \"raw_content\": null}], \"response_time\": 0.39, \"request_id\": \"58833c46-8a9a-47ab-8f8a-8df599ce3ce2\"}', name='tavily_search', id='7f909c22-cc6c-4727-8293-7ecb1d36a992', tool_call_id='dbmd5es38'), AIMessage(content=\"The function call was not sufficient to find the weather in Indore. Let's try another function call to get the weather in Indore.\\n\\n\", additional_kwargs={'tool_calls': [{'id': 'tjaaann0d', 'function': {'arguments': '{\"query\":\"Indore weather today\",\"topic\":\"news\"}', 'name': 'tavily_search'}, 'type': 'function'}]}, response_metadata={'token_usage': {'completion_tokens': 53, 'prompt_tokens': 2424, 'total_tokens': 2477, 'completion_time': 0.095351205, 'prompt_time': 0.315274855, 'queue_time': 0.048175344, 'total_time': 0.41062606}, 'model_name': 'llama-3.1-8b-instant', 'system_fingerprint': 'fp_55d70a61e4', 'service_tier': 'on_demand', 'finish_reason': 'tool_calls', 'logprobs': None}, id='run--1297e856-46c8-47bb-9878-3152abe87c2a-0', tool_calls=[{'name': 'tavily_search', 'args': {'query': 'Indore weather today', 'topic': 'news'}, 'id': 'tjaaann0d', 'type': 'tool_call'}], usage_metadata={'input_tokens': 2424, 'output_tokens': 53, 'total_tokens': 2477}), ToolMessage(content='{\"query\": \"Indore weather today\", \"follow_up_questions\": null, \"answer\": null, \"images\": [], \"results\": [{\"url\": \"https://www.skynews.com.au/australia-news/weather/showers-likely-to-ease-in-nations-drenched-southwest-corner-after-wet-and-chilly-weekend-for-west-coast/news-story/5d5b6f94988edc1ffbffb0f9e43ea9d8\", \"title\": \"Showers likely to ease in drenched and chilly south-west - Sky News Australia\", \"score\": 0.19761509, \"published_date\": \"Sun, 07 Sep 2025 19:18:43 GMT\", \"content\": \"Skies are expected to gradually clear in the country’s south-west corner following a wet and chilly weekend for much of the west coast. Examining the forecast for the start of the week, Sky News Weather Presenter Julia Seymour said a cold front, which had brought wet and windy weather with it, would continue to push across the country’s south-east into Monday. Further ahead, though, the BOM has forecast just a five percent chance of rain for the city on Tuesday and a maximum temperature of 18 degrees, with sunny conditions looking likely for WA\\'s capital later in the week before wet weather is expected to return by the weekend.\", \"raw_content\": null}, {\"url\": \"https://www.hindustantimes.com/india-news/gstslash-to-lower-agriculture-costs-spur-mechanisation-101757013170261.html\", \"title\": \"GST slash to lower agriculture costs, spur mechanisation | Latest News India - Hindustan Times\", \"score\": 0.11876296, \"published_date\": \"Thu, 04 Sep 2025 21:00:38 GMT\", \"content\": \"HT Premium Articles * HT Premium * US News + ht100 * GST Rate Cut * Delhi News + Delhi News The GST regime completed eight years on July 1 2025 and a reduction in the rates and restructuring of the slabs are expected to boost domestic consumption, helping to cushion a much-feared fall in exports in the wake of Trump’s 50% tariff. Get Latest real-time updates on India News, Weather Today, Latest News with including Bihar Chunav and Uttarakhand Cloudbursts on Hindustan Times. Get Latest real-time updates on India News, Weather Today, Latest News with including Bihar Chunav and Uttarakhand Cloudbursts on Hindustan Times. News / India News / GST slash to lower agriculture costs, spur mechanisation\", \"raw_content\": null}], \"response_time\": 0.23, \"request_id\": \"6dc9822a-e4e2-47ac-810d-a00d88e7b43d\"}', name='tavily_search', id='104581b7-bbe9-42bc-a1dd-29e073316424', tool_call_id='tjaaann0d')] \n",
      "\n",
      "\n",
      "[HumanMessage(content=\"What's the current weather in Indore?\", additional_kwargs={}, response_metadata={}, id='ae32f409-7610-498e-86c9-93b48bbc9edc'), AIMessage(content='', additional_kwargs={'tool_calls': [{'id': 'dbmd5es38', 'function': {'arguments': '{\"query\":\"Indore current weather\",\"topic\":\"news\"}', 'name': 'tavily_search'}, 'type': 'function'}]}, response_metadata={'token_usage': {'completion_tokens': 25, 'prompt_tokens': 1795, 'total_tokens': 1820, 'completion_time': 0.041766137, 'prompt_time': 0.418882558, 'queue_time': 0.047633141, 'total_time': 0.460648695}, 'model_name': 'llama-3.1-8b-instant', 'system_fingerprint': 'fp_510c177af0', 'service_tier': 'on_demand', 'finish_reason': 'tool_calls', 'logprobs': None}, id='run--5518d852-6fa2-43eb-8526-b1ad1165a793-0', tool_calls=[{'name': 'tavily_search', 'args': {'query': 'Indore current weather', 'topic': 'news'}, 'id': 'dbmd5es38', 'type': 'tool_call'}], usage_metadata={'input_tokens': 1795, 'output_tokens': 25, 'total_tokens': 1820}), ToolMessage(content='{\"query\": \"Indore current weather\", \"follow_up_questions\": null, \"answer\": null, \"images\": [], \"results\": [{\"url\": \"https://www.skynews.com.au/australia-news/weather/showers-likely-to-ease-in-nations-drenched-southwest-corner-after-wet-and-chilly-weekend-for-west-coast/news-story/5d5b6f94988edc1ffbffb0f9e43ea9d8\", \"title\": \"Showers likely to ease in drenched and chilly south-west - Sky News Australia\", \"score\": 0.1591785, \"published_date\": \"Sun, 07 Sep 2025 19:18:43 GMT\", \"content\": \"Skies are expected to gradually clear in the country’s south-west corner following a wet and chilly weekend for much of the west coast. Examining the forecast for the start of the week, Sky News Weather Presenter Julia Seymour said a cold front, which had brought wet and windy weather with it, would continue to push across the country’s south-east into Monday. Further ahead, though, the BOM has forecast just a five percent chance of rain for the city on Tuesday and a maximum temperature of 18 degrees, with sunny conditions looking likely for WA\\'s capital later in the week before wet weather is expected to return by the weekend.\", \"raw_content\": null}, {\"url\": \"https://kfgo.com/2025/09/09/police-officer-suffers-self-inflicted-gunshot-wound-after-several-hours-of-negotiations/\", \"title\": \"Police officer suffers self-inflicted gunshot wound after several hours of negotiations - The Mighty 790 KFGO\", \"score\": 0.096441865, \"published_date\": \"Wed, 10 Sep 2025 02:04:33 GMT\", \"content\": \"* WEATHER (KFGO KZZY) – Devils Lake police say an off-duty officer shot himself after an hours-long standoff at a home in Devils Lake. Police Chief Jason Toso says officers responded to a home late Monday night after a 911 hang-up call. A judge approved a search warrant for the home. Toso says the officer was taken to a hospital. ## Comments You must be logged in to post a comment. 1h agoUS health officials compiling examples of COVID vaccine harm during pregnancy, WSJ reports 2h agoDollar treads water ahead of inflation reports; US rate cut bets intact 52m agoSlim iPhone Air could be a design win for Apple, analysts say 1h ago ## Current Weather » ### Fargo, ND Fargo, ND, USA\", \"raw_content\": null}], \"response_time\": 0.39, \"request_id\": \"58833c46-8a9a-47ab-8f8a-8df599ce3ce2\"}', name='tavily_search', id='7f909c22-cc6c-4727-8293-7ecb1d36a992', tool_call_id='dbmd5es38'), AIMessage(content=\"The function call was not sufficient to find the weather in Indore. Let's try another function call to get the weather in Indore.\\n\\n\", additional_kwargs={'tool_calls': [{'id': 'tjaaann0d', 'function': {'arguments': '{\"query\":\"Indore weather today\",\"topic\":\"news\"}', 'name': 'tavily_search'}, 'type': 'function'}]}, response_metadata={'token_usage': {'completion_tokens': 53, 'prompt_tokens': 2424, 'total_tokens': 2477, 'completion_time': 0.095351205, 'prompt_time': 0.315274855, 'queue_time': 0.048175344, 'total_time': 0.41062606}, 'model_name': 'llama-3.1-8b-instant', 'system_fingerprint': 'fp_55d70a61e4', 'service_tier': 'on_demand', 'finish_reason': 'tool_calls', 'logprobs': None}, id='run--1297e856-46c8-47bb-9878-3152abe87c2a-0', tool_calls=[{'name': 'tavily_search', 'args': {'query': 'Indore weather today', 'topic': 'news'}, 'id': 'tjaaann0d', 'type': 'tool_call'}], usage_metadata={'input_tokens': 2424, 'output_tokens': 53, 'total_tokens': 2477}), ToolMessage(content='{\"query\": \"Indore weather today\", \"follow_up_questions\": null, \"answer\": null, \"images\": [], \"results\": [{\"url\": \"https://www.skynews.com.au/australia-news/weather/showers-likely-to-ease-in-nations-drenched-southwest-corner-after-wet-and-chilly-weekend-for-west-coast/news-story/5d5b6f94988edc1ffbffb0f9e43ea9d8\", \"title\": \"Showers likely to ease in drenched and chilly south-west - Sky News Australia\", \"score\": 0.19761509, \"published_date\": \"Sun, 07 Sep 2025 19:18:43 GMT\", \"content\": \"Skies are expected to gradually clear in the country’s south-west corner following a wet and chilly weekend for much of the west coast. Examining the forecast for the start of the week, Sky News Weather Presenter Julia Seymour said a cold front, which had brought wet and windy weather with it, would continue to push across the country’s south-east into Monday. Further ahead, though, the BOM has forecast just a five percent chance of rain for the city on Tuesday and a maximum temperature of 18 degrees, with sunny conditions looking likely for WA\\'s capital later in the week before wet weather is expected to return by the weekend.\", \"raw_content\": null}, {\"url\": \"https://www.hindustantimes.com/india-news/gstslash-to-lower-agriculture-costs-spur-mechanisation-101757013170261.html\", \"title\": \"GST slash to lower agriculture costs, spur mechanisation | Latest News India - Hindustan Times\", \"score\": 0.11876296, \"published_date\": \"Thu, 04 Sep 2025 21:00:38 GMT\", \"content\": \"HT Premium Articles * HT Premium * US News + ht100 * GST Rate Cut * Delhi News + Delhi News The GST regime completed eight years on July 1 2025 and a reduction in the rates and restructuring of the slabs are expected to boost domestic consumption, helping to cushion a much-feared fall in exports in the wake of Trump’s 50% tariff. Get Latest real-time updates on India News, Weather Today, Latest News with including Bihar Chunav and Uttarakhand Cloudbursts on Hindustan Times. Get Latest real-time updates on India News, Weather Today, Latest News with including Bihar Chunav and Uttarakhand Cloudbursts on Hindustan Times. News / India News / GST slash to lower agriculture costs, spur mechanisation\", \"raw_content\": null}], \"response_time\": 0.23, \"request_id\": \"6dc9822a-e4e2-47ac-810d-a00d88e7b43d\"}', name='tavily_search', id='104581b7-bbe9-42bc-a1dd-29e073316424', tool_call_id='tjaaann0d'), AIMessage(content='Unfortunately, I do not have access to real-time weather information. However, the available search results do not provide any information about the current weather in Indore.', additional_kwargs={}, response_metadata={'token_usage': {'completion_tokens': 33, 'prompt_tokens': 3051, 'total_tokens': 3084, 'completion_time': 0.054872504, 'prompt_time': 0.29289571, 'queue_time': 0.047008429, 'total_time': 0.347768214}, 'model_name': 'llama-3.1-8b-instant', 'system_fingerprint': 'fp_510c177af0', 'service_tier': 'on_demand', 'finish_reason': 'stop', 'logprobs': None}, id='run--4e775ccf-b1a6-40b9-b935-712885ab5ac7-0', usage_metadata={'input_tokens': 3051, 'output_tokens': 33, 'total_tokens': 3084})] \n",
      "\n",
      "\n"
     ]
    }
   ],
   "source": [
    "input = {\n",
    "    \"messages\": [\"What's the current weather in Indore?\"]\n",
    "}\n",
    "\n",
    "#Stream model to values means that after execution of every node, an event will be emitted showing us the entire state at that point\n",
    "events = app.stream(input=input, stream_mode=\"values\")\n",
    "\n",
    "#For every event from the generator, we'll see the event\n",
    "for event in events: \n",
    "    print(event[\"messages\"], \"\\n\\n\")"
   ]
  },
  {
   "cell_type": "code",
   "execution_count": 121,
   "id": "76a28728",
   "metadata": {},
   "outputs": [
    {
     "name": "stdout",
     "output_type": "stream",
     "text": [
      "{'chatbot': {'messages': [AIMessage(content='', additional_kwargs={'tool_calls': [{'id': 'efmexm4yw', 'function': {'arguments': '{\"query\":\"Bangalore current weather\",\"topic\":\"general\"}', 'name': 'tavily_search'}, 'type': 'function'}]}, response_metadata={'token_usage': {'completion_tokens': 25, 'prompt_tokens': 1794, 'total_tokens': 1819, 'completion_time': 0.04794163, 'prompt_time': 0.345000874, 'queue_time': 0.079784165, 'total_time': 0.392942504}, 'model_name': 'llama-3.1-8b-instant', 'system_fingerprint': 'fp_46fc01befd', 'service_tier': 'on_demand', 'finish_reason': 'tool_calls', 'logprobs': None}, id='run--5c15bbcd-b9aa-4bde-9f84-3e3ac5644b7d-0', tool_calls=[{'name': 'tavily_search', 'args': {'query': 'Bangalore current weather', 'topic': 'general'}, 'id': 'efmexm4yw', 'type': 'tool_call'}], usage_metadata={'input_tokens': 1794, 'output_tokens': 25, 'total_tokens': 1819})]}} \n",
      "\n",
      "\n",
      "{'tools': {'messages': [ToolMessage(content='{\"query\": \"Bangalore current weather\", \"follow_up_questions\": null, \"answer\": null, \"images\": [], \"results\": [{\"title\": \"Weather in Bangalore, India\", \"url\": \"https://www.weatherapi.com/\", \"content\": \"{\\'location\\': {\\'name\\': \\'Bangalore\\', \\'region\\': \\'Karnataka\\', \\'country\\': \\'India\\', \\'lat\\': 12.9833, \\'lon\\': 77.5833, \\'tz_id\\': \\'Asia/Kolkata\\', \\'localtime_epoch\\': 1757494752, \\'localtime\\': \\'2025-09-10 14:29\\'}, \\'current\\': {\\'last_updated_epoch\\': 1757493900, \\'last_updated\\': \\'2025-09-10 14:15\\', \\'temp_c\\': 31.1, \\'temp_f\\': 88.0, \\'is_day\\': 1, \\'condition\\': {\\'text\\': \\'Partly cloudy\\', \\'icon\\': \\'//cdn.weatherapi.com/weather/64x64/day/116.png\\', \\'code\\': 1003}, \\'wind_mph\\': 4.9, \\'wind_kph\\': 7.9, \\'wind_degree\\': 231, \\'wind_dir\\': \\'SW\\', \\'pressure_mb\\': 1012.0, \\'pressure_in\\': 29.88, \\'precip_mm\\': 0.25, \\'precip_in\\': 0.01, \\'humidity\\': 55, \\'cloud\\': 50, \\'feelslike_c\\': 34.1, \\'feelslike_f\\': 93.4, \\'windchill_c\\': 27.6, \\'windchill_f\\': 81.7, \\'heatindex_c\\': 28.6, \\'heatindex_f\\': 83.6, \\'dewpoint_c\\': 17.6, \\'dewpoint_f\\': 63.6, \\'vis_km\\': 8.0, \\'vis_miles\\': 4.0, \\'uv\\': 6.8, \\'gust_mph\\': 6.8, \\'gust_kph\\': 11.0}}\", \"score\": 0.9541674, \"raw_content\": null}, {\"url\": \"https://timesofindia.indiatimes.com/weather/bengaluru-weather-forecast-today/560001\", \"title\": \"Bengaluru Weather Forecast 10 Sep 2025 - The Times of India\", \"content\": \"Today\\'s Weather in Bengaluru: In Bengaluru today, the weather is expected to be Partly Cloudy with a maximum temperature of 29°C and a minimum of 23°C.\", \"score\": 0.9524019, \"raw_content\": null}], \"response_time\": 1.35, \"request_id\": \"0ff8e653-c71e-42e5-a9dd-104e8688cb3a\"}', name='tavily_search', id='26180ab0-89b1-423d-bb19-36ac7650f1d1', tool_call_id='efmexm4yw')]}} \n",
      "\n",
      "\n",
      "{'chatbot': {'messages': [AIMessage(content='The current weather in Bangalore is partly cloudy with a maximum temperature of 29°C and a minimum of 23°C.', additional_kwargs={}, response_metadata={'token_usage': {'completion_tokens': 25, 'prompt_tokens': 2435, 'total_tokens': 2460, 'completion_time': 0.037591597, 'prompt_time': 0.219349329, 'queue_time': 0.04647946, 'total_time': 0.256940926}, 'model_name': 'llama-3.1-8b-instant', 'system_fingerprint': 'fp_510c177af0', 'service_tier': 'on_demand', 'finish_reason': 'stop', 'logprobs': None}, id='run--41aa96fd-efd0-4ec1-abf3-badddc626bac-0', usage_metadata={'input_tokens': 2435, 'output_tokens': 25, 'total_tokens': 2460})]}} \n",
      "\n",
      "\n"
     ]
    }
   ],
   "source": [
    "input = {\n",
    "    \"messages\": [\"What's the current weather in Bangalore?\"]\n",
    "}\n",
    "\n",
    "#Updates gives the new item that has been added to the list, and which node did the change\n",
    "events = app.stream(input=input, stream_mode=\"updates\")\n",
    "\n",
    "for event in events: \n",
    "    print(event, \"\\n\\n\")"
   ]
  },
  {
   "cell_type": "code",
   "execution_count": 122,
   "id": "f2fe17a2",
   "metadata": {},
   "outputs": [
    {
     "name": "stdout",
     "output_type": "stream",
     "text": [
      "{'event': 'on_chain_start', 'data': {'input': {'messages': ['Hi, how are you?']}}, 'name': 'LangGraph', 'tags': [], 'run_id': '3c70990f-0475-4571-b48a-d31e485d7115', 'metadata': {}, 'parent_ids': []} \n",
      "\n",
      "\n",
      "{'event': 'on_chain_start', 'data': {'input': {'messages': [HumanMessage(content='Hi, how are you?', additional_kwargs={}, response_metadata={}, id='31a14430-1b55-45ee-8309-7410406bf172')]}}, 'name': 'chatbot', 'tags': ['graph:step:1'], 'run_id': 'fac07a1c-0549-4921-b162-216bb7a0ad8d', 'metadata': {'langgraph_step': 1, 'langgraph_node': 'chatbot', 'langgraph_triggers': ('branch:to:chatbot',), 'langgraph_path': ('__pregel_pull', 'chatbot'), 'langgraph_checkpoint_ns': 'chatbot:a64b279e-f133-ba4c-0ecc-28fa66ab8216'}, 'parent_ids': ['3c70990f-0475-4571-b48a-d31e485d7115']} \n",
      "\n",
      "\n",
      "{'event': 'on_chat_model_start', 'data': {'input': {'messages': [[HumanMessage(content='Hi, how are you?', additional_kwargs={}, response_metadata={}, id='31a14430-1b55-45ee-8309-7410406bf172')]]}}, 'name': 'ChatGroq', 'tags': ['seq:step:1'], 'run_id': 'e08df820-6dd1-488a-aaea-53201f44ab9b', 'metadata': {'langgraph_step': 1, 'langgraph_node': 'chatbot', 'langgraph_triggers': ('branch:to:chatbot',), 'langgraph_path': ('__pregel_pull', 'chatbot'), 'langgraph_checkpoint_ns': 'chatbot:a64b279e-f133-ba4c-0ecc-28fa66ab8216', 'checkpoint_ns': 'chatbot:a64b279e-f133-ba4c-0ecc-28fa66ab8216', 'ls_provider': 'groq', 'ls_model_name': 'llama-3.1-8b-instant', 'ls_model_type': 'chat', 'ls_temperature': 0.7}, 'parent_ids': ['3c70990f-0475-4571-b48a-d31e485d7115', 'fac07a1c-0549-4921-b162-216bb7a0ad8d']} \n",
      "\n",
      "\n",
      "{'event': 'on_chat_model_stream', 'data': {'chunk': AIMessageChunk(content='', additional_kwargs={}, response_metadata={}, id='run--e08df820-6dd1-488a-aaea-53201f44ab9b')}, 'run_id': 'e08df820-6dd1-488a-aaea-53201f44ab9b', 'name': 'ChatGroq', 'tags': ['seq:step:1'], 'metadata': {'langgraph_step': 1, 'langgraph_node': 'chatbot', 'langgraph_triggers': ('branch:to:chatbot',), 'langgraph_path': ('__pregel_pull', 'chatbot'), 'langgraph_checkpoint_ns': 'chatbot:a64b279e-f133-ba4c-0ecc-28fa66ab8216', 'checkpoint_ns': 'chatbot:a64b279e-f133-ba4c-0ecc-28fa66ab8216', 'ls_provider': 'groq', 'ls_model_name': 'llama-3.1-8b-instant', 'ls_model_type': 'chat', 'ls_temperature': 0.7}, 'parent_ids': ['3c70990f-0475-4571-b48a-d31e485d7115', 'fac07a1c-0549-4921-b162-216bb7a0ad8d']} \n",
      "\n",
      "\n",
      "{'event': 'on_chat_model_stream', 'data': {'chunk': AIMessageChunk(content='I', additional_kwargs={}, response_metadata={}, id='run--e08df820-6dd1-488a-aaea-53201f44ab9b')}, 'run_id': 'e08df820-6dd1-488a-aaea-53201f44ab9b', 'name': 'ChatGroq', 'tags': ['seq:step:1'], 'metadata': {'langgraph_step': 1, 'langgraph_node': 'chatbot', 'langgraph_triggers': ('branch:to:chatbot',), 'langgraph_path': ('__pregel_pull', 'chatbot'), 'langgraph_checkpoint_ns': 'chatbot:a64b279e-f133-ba4c-0ecc-28fa66ab8216', 'checkpoint_ns': 'chatbot:a64b279e-f133-ba4c-0ecc-28fa66ab8216', 'ls_provider': 'groq', 'ls_model_name': 'llama-3.1-8b-instant', 'ls_model_type': 'chat', 'ls_temperature': 0.7}, 'parent_ids': ['3c70990f-0475-4571-b48a-d31e485d7115', 'fac07a1c-0549-4921-b162-216bb7a0ad8d']} \n",
      "\n",
      "\n",
      "{'event': 'on_chat_model_stream', 'data': {'chunk': AIMessageChunk(content=\"'m\", additional_kwargs={}, response_metadata={}, id='run--e08df820-6dd1-488a-aaea-53201f44ab9b')}, 'run_id': 'e08df820-6dd1-488a-aaea-53201f44ab9b', 'name': 'ChatGroq', 'tags': ['seq:step:1'], 'metadata': {'langgraph_step': 1, 'langgraph_node': 'chatbot', 'langgraph_triggers': ('branch:to:chatbot',), 'langgraph_path': ('__pregel_pull', 'chatbot'), 'langgraph_checkpoint_ns': 'chatbot:a64b279e-f133-ba4c-0ecc-28fa66ab8216', 'checkpoint_ns': 'chatbot:a64b279e-f133-ba4c-0ecc-28fa66ab8216', 'ls_provider': 'groq', 'ls_model_name': 'llama-3.1-8b-instant', 'ls_model_type': 'chat', 'ls_temperature': 0.7}, 'parent_ids': ['3c70990f-0475-4571-b48a-d31e485d7115', 'fac07a1c-0549-4921-b162-216bb7a0ad8d']} \n",
      "\n",
      "\n",
      "{'event': 'on_chat_model_stream', 'data': {'chunk': AIMessageChunk(content=' just', additional_kwargs={}, response_metadata={}, id='run--e08df820-6dd1-488a-aaea-53201f44ab9b')}, 'run_id': 'e08df820-6dd1-488a-aaea-53201f44ab9b', 'name': 'ChatGroq', 'tags': ['seq:step:1'], 'metadata': {'langgraph_step': 1, 'langgraph_node': 'chatbot', 'langgraph_triggers': ('branch:to:chatbot',), 'langgraph_path': ('__pregel_pull', 'chatbot'), 'langgraph_checkpoint_ns': 'chatbot:a64b279e-f133-ba4c-0ecc-28fa66ab8216', 'checkpoint_ns': 'chatbot:a64b279e-f133-ba4c-0ecc-28fa66ab8216', 'ls_provider': 'groq', 'ls_model_name': 'llama-3.1-8b-instant', 'ls_model_type': 'chat', 'ls_temperature': 0.7}, 'parent_ids': ['3c70990f-0475-4571-b48a-d31e485d7115', 'fac07a1c-0549-4921-b162-216bb7a0ad8d']} \n",
      "\n",
      "\n",
      "{'event': 'on_chat_model_stream', 'data': {'chunk': AIMessageChunk(content=' a', additional_kwargs={}, response_metadata={}, id='run--e08df820-6dd1-488a-aaea-53201f44ab9b')}, 'run_id': 'e08df820-6dd1-488a-aaea-53201f44ab9b', 'name': 'ChatGroq', 'tags': ['seq:step:1'], 'metadata': {'langgraph_step': 1, 'langgraph_node': 'chatbot', 'langgraph_triggers': ('branch:to:chatbot',), 'langgraph_path': ('__pregel_pull', 'chatbot'), 'langgraph_checkpoint_ns': 'chatbot:a64b279e-f133-ba4c-0ecc-28fa66ab8216', 'checkpoint_ns': 'chatbot:a64b279e-f133-ba4c-0ecc-28fa66ab8216', 'ls_provider': 'groq', 'ls_model_name': 'llama-3.1-8b-instant', 'ls_model_type': 'chat', 'ls_temperature': 0.7}, 'parent_ids': ['3c70990f-0475-4571-b48a-d31e485d7115', 'fac07a1c-0549-4921-b162-216bb7a0ad8d']} \n",
      "\n",
      "\n",
      "{'event': 'on_chat_model_stream', 'data': {'chunk': AIMessageChunk(content=' language', additional_kwargs={}, response_metadata={}, id='run--e08df820-6dd1-488a-aaea-53201f44ab9b')}, 'run_id': 'e08df820-6dd1-488a-aaea-53201f44ab9b', 'name': 'ChatGroq', 'tags': ['seq:step:1'], 'metadata': {'langgraph_step': 1, 'langgraph_node': 'chatbot', 'langgraph_triggers': ('branch:to:chatbot',), 'langgraph_path': ('__pregel_pull', 'chatbot'), 'langgraph_checkpoint_ns': 'chatbot:a64b279e-f133-ba4c-0ecc-28fa66ab8216', 'checkpoint_ns': 'chatbot:a64b279e-f133-ba4c-0ecc-28fa66ab8216', 'ls_provider': 'groq', 'ls_model_name': 'llama-3.1-8b-instant', 'ls_model_type': 'chat', 'ls_temperature': 0.7}, 'parent_ids': ['3c70990f-0475-4571-b48a-d31e485d7115', 'fac07a1c-0549-4921-b162-216bb7a0ad8d']} \n",
      "\n",
      "\n",
      "{'event': 'on_chat_model_stream', 'data': {'chunk': AIMessageChunk(content=' model', additional_kwargs={}, response_metadata={}, id='run--e08df820-6dd1-488a-aaea-53201f44ab9b')}, 'run_id': 'e08df820-6dd1-488a-aaea-53201f44ab9b', 'name': 'ChatGroq', 'tags': ['seq:step:1'], 'metadata': {'langgraph_step': 1, 'langgraph_node': 'chatbot', 'langgraph_triggers': ('branch:to:chatbot',), 'langgraph_path': ('__pregel_pull', 'chatbot'), 'langgraph_checkpoint_ns': 'chatbot:a64b279e-f133-ba4c-0ecc-28fa66ab8216', 'checkpoint_ns': 'chatbot:a64b279e-f133-ba4c-0ecc-28fa66ab8216', 'ls_provider': 'groq', 'ls_model_name': 'llama-3.1-8b-instant', 'ls_model_type': 'chat', 'ls_temperature': 0.7}, 'parent_ids': ['3c70990f-0475-4571-b48a-d31e485d7115', 'fac07a1c-0549-4921-b162-216bb7a0ad8d']} \n",
      "\n",
      "\n",
      "{'event': 'on_chat_model_stream', 'data': {'chunk': AIMessageChunk(content=',', additional_kwargs={}, response_metadata={}, id='run--e08df820-6dd1-488a-aaea-53201f44ab9b')}, 'run_id': 'e08df820-6dd1-488a-aaea-53201f44ab9b', 'name': 'ChatGroq', 'tags': ['seq:step:1'], 'metadata': {'langgraph_step': 1, 'langgraph_node': 'chatbot', 'langgraph_triggers': ('branch:to:chatbot',), 'langgraph_path': ('__pregel_pull', 'chatbot'), 'langgraph_checkpoint_ns': 'chatbot:a64b279e-f133-ba4c-0ecc-28fa66ab8216', 'checkpoint_ns': 'chatbot:a64b279e-f133-ba4c-0ecc-28fa66ab8216', 'ls_provider': 'groq', 'ls_model_name': 'llama-3.1-8b-instant', 'ls_model_type': 'chat', 'ls_temperature': 0.7}, 'parent_ids': ['3c70990f-0475-4571-b48a-d31e485d7115', 'fac07a1c-0549-4921-b162-216bb7a0ad8d']} \n",
      "\n",
      "\n",
      "{'event': 'on_chat_model_stream', 'data': {'chunk': AIMessageChunk(content=' so', additional_kwargs={}, response_metadata={}, id='run--e08df820-6dd1-488a-aaea-53201f44ab9b')}, 'run_id': 'e08df820-6dd1-488a-aaea-53201f44ab9b', 'name': 'ChatGroq', 'tags': ['seq:step:1'], 'metadata': {'langgraph_step': 1, 'langgraph_node': 'chatbot', 'langgraph_triggers': ('branch:to:chatbot',), 'langgraph_path': ('__pregel_pull', 'chatbot'), 'langgraph_checkpoint_ns': 'chatbot:a64b279e-f133-ba4c-0ecc-28fa66ab8216', 'checkpoint_ns': 'chatbot:a64b279e-f133-ba4c-0ecc-28fa66ab8216', 'ls_provider': 'groq', 'ls_model_name': 'llama-3.1-8b-instant', 'ls_model_type': 'chat', 'ls_temperature': 0.7}, 'parent_ids': ['3c70990f-0475-4571-b48a-d31e485d7115', 'fac07a1c-0549-4921-b162-216bb7a0ad8d']} \n",
      "\n",
      "\n",
      "{'event': 'on_chat_model_stream', 'data': {'chunk': AIMessageChunk(content=' I', additional_kwargs={}, response_metadata={}, id='run--e08df820-6dd1-488a-aaea-53201f44ab9b')}, 'run_id': 'e08df820-6dd1-488a-aaea-53201f44ab9b', 'name': 'ChatGroq', 'tags': ['seq:step:1'], 'metadata': {'langgraph_step': 1, 'langgraph_node': 'chatbot', 'langgraph_triggers': ('branch:to:chatbot',), 'langgraph_path': ('__pregel_pull', 'chatbot'), 'langgraph_checkpoint_ns': 'chatbot:a64b279e-f133-ba4c-0ecc-28fa66ab8216', 'checkpoint_ns': 'chatbot:a64b279e-f133-ba4c-0ecc-28fa66ab8216', 'ls_provider': 'groq', 'ls_model_name': 'llama-3.1-8b-instant', 'ls_model_type': 'chat', 'ls_temperature': 0.7}, 'parent_ids': ['3c70990f-0475-4571-b48a-d31e485d7115', 'fac07a1c-0549-4921-b162-216bb7a0ad8d']} \n",
      "\n",
      "\n",
      "{'event': 'on_chat_model_stream', 'data': {'chunk': AIMessageChunk(content=' don', additional_kwargs={}, response_metadata={}, id='run--e08df820-6dd1-488a-aaea-53201f44ab9b')}, 'run_id': 'e08df820-6dd1-488a-aaea-53201f44ab9b', 'name': 'ChatGroq', 'tags': ['seq:step:1'], 'metadata': {'langgraph_step': 1, 'langgraph_node': 'chatbot', 'langgraph_triggers': ('branch:to:chatbot',), 'langgraph_path': ('__pregel_pull', 'chatbot'), 'langgraph_checkpoint_ns': 'chatbot:a64b279e-f133-ba4c-0ecc-28fa66ab8216', 'checkpoint_ns': 'chatbot:a64b279e-f133-ba4c-0ecc-28fa66ab8216', 'ls_provider': 'groq', 'ls_model_name': 'llama-3.1-8b-instant', 'ls_model_type': 'chat', 'ls_temperature': 0.7}, 'parent_ids': ['3c70990f-0475-4571-b48a-d31e485d7115', 'fac07a1c-0549-4921-b162-216bb7a0ad8d']} \n",
      "\n",
      "\n",
      "{'event': 'on_chat_model_stream', 'data': {'chunk': AIMessageChunk(content=\"'t\", additional_kwargs={}, response_metadata={}, id='run--e08df820-6dd1-488a-aaea-53201f44ab9b')}, 'run_id': 'e08df820-6dd1-488a-aaea-53201f44ab9b', 'name': 'ChatGroq', 'tags': ['seq:step:1'], 'metadata': {'langgraph_step': 1, 'langgraph_node': 'chatbot', 'langgraph_triggers': ('branch:to:chatbot',), 'langgraph_path': ('__pregel_pull', 'chatbot'), 'langgraph_checkpoint_ns': 'chatbot:a64b279e-f133-ba4c-0ecc-28fa66ab8216', 'checkpoint_ns': 'chatbot:a64b279e-f133-ba4c-0ecc-28fa66ab8216', 'ls_provider': 'groq', 'ls_model_name': 'llama-3.1-8b-instant', 'ls_model_type': 'chat', 'ls_temperature': 0.7}, 'parent_ids': ['3c70990f-0475-4571-b48a-d31e485d7115', 'fac07a1c-0549-4921-b162-216bb7a0ad8d']} \n",
      "\n",
      "\n",
      "{'event': 'on_chat_model_stream', 'data': {'chunk': AIMessageChunk(content=' have', additional_kwargs={}, response_metadata={}, id='run--e08df820-6dd1-488a-aaea-53201f44ab9b')}, 'run_id': 'e08df820-6dd1-488a-aaea-53201f44ab9b', 'name': 'ChatGroq', 'tags': ['seq:step:1'], 'metadata': {'langgraph_step': 1, 'langgraph_node': 'chatbot', 'langgraph_triggers': ('branch:to:chatbot',), 'langgraph_path': ('__pregel_pull', 'chatbot'), 'langgraph_checkpoint_ns': 'chatbot:a64b279e-f133-ba4c-0ecc-28fa66ab8216', 'checkpoint_ns': 'chatbot:a64b279e-f133-ba4c-0ecc-28fa66ab8216', 'ls_provider': 'groq', 'ls_model_name': 'llama-3.1-8b-instant', 'ls_model_type': 'chat', 'ls_temperature': 0.7}, 'parent_ids': ['3c70990f-0475-4571-b48a-d31e485d7115', 'fac07a1c-0549-4921-b162-216bb7a0ad8d']} \n",
      "\n",
      "\n",
      "{'event': 'on_chat_model_stream', 'data': {'chunk': AIMessageChunk(content=' feelings', additional_kwargs={}, response_metadata={}, id='run--e08df820-6dd1-488a-aaea-53201f44ab9b')}, 'run_id': 'e08df820-6dd1-488a-aaea-53201f44ab9b', 'name': 'ChatGroq', 'tags': ['seq:step:1'], 'metadata': {'langgraph_step': 1, 'langgraph_node': 'chatbot', 'langgraph_triggers': ('branch:to:chatbot',), 'langgraph_path': ('__pregel_pull', 'chatbot'), 'langgraph_checkpoint_ns': 'chatbot:a64b279e-f133-ba4c-0ecc-28fa66ab8216', 'checkpoint_ns': 'chatbot:a64b279e-f133-ba4c-0ecc-28fa66ab8216', 'ls_provider': 'groq', 'ls_model_name': 'llama-3.1-8b-instant', 'ls_model_type': 'chat', 'ls_temperature': 0.7}, 'parent_ids': ['3c70990f-0475-4571-b48a-d31e485d7115', 'fac07a1c-0549-4921-b162-216bb7a0ad8d']} \n",
      "\n",
      "\n",
      "{'event': 'on_chat_model_stream', 'data': {'chunk': AIMessageChunk(content=' or', additional_kwargs={}, response_metadata={}, id='run--e08df820-6dd1-488a-aaea-53201f44ab9b')}, 'run_id': 'e08df820-6dd1-488a-aaea-53201f44ab9b', 'name': 'ChatGroq', 'tags': ['seq:step:1'], 'metadata': {'langgraph_step': 1, 'langgraph_node': 'chatbot', 'langgraph_triggers': ('branch:to:chatbot',), 'langgraph_path': ('__pregel_pull', 'chatbot'), 'langgraph_checkpoint_ns': 'chatbot:a64b279e-f133-ba4c-0ecc-28fa66ab8216', 'checkpoint_ns': 'chatbot:a64b279e-f133-ba4c-0ecc-28fa66ab8216', 'ls_provider': 'groq', 'ls_model_name': 'llama-3.1-8b-instant', 'ls_model_type': 'chat', 'ls_temperature': 0.7}, 'parent_ids': ['3c70990f-0475-4571-b48a-d31e485d7115', 'fac07a1c-0549-4921-b162-216bb7a0ad8d']} \n",
      "\n",
      "\n",
      "{'event': 'on_chat_model_stream', 'data': {'chunk': AIMessageChunk(content=' emotions', additional_kwargs={}, response_metadata={}, id='run--e08df820-6dd1-488a-aaea-53201f44ab9b')}, 'run_id': 'e08df820-6dd1-488a-aaea-53201f44ab9b', 'name': 'ChatGroq', 'tags': ['seq:step:1'], 'metadata': {'langgraph_step': 1, 'langgraph_node': 'chatbot', 'langgraph_triggers': ('branch:to:chatbot',), 'langgraph_path': ('__pregel_pull', 'chatbot'), 'langgraph_checkpoint_ns': 'chatbot:a64b279e-f133-ba4c-0ecc-28fa66ab8216', 'checkpoint_ns': 'chatbot:a64b279e-f133-ba4c-0ecc-28fa66ab8216', 'ls_provider': 'groq', 'ls_model_name': 'llama-3.1-8b-instant', 'ls_model_type': 'chat', 'ls_temperature': 0.7}, 'parent_ids': ['3c70990f-0475-4571-b48a-d31e485d7115', 'fac07a1c-0549-4921-b162-216bb7a0ad8d']} \n",
      "\n",
      "\n",
      "{'event': 'on_chat_model_stream', 'data': {'chunk': AIMessageChunk(content=' like', additional_kwargs={}, response_metadata={}, id='run--e08df820-6dd1-488a-aaea-53201f44ab9b')}, 'run_id': 'e08df820-6dd1-488a-aaea-53201f44ab9b', 'name': 'ChatGroq', 'tags': ['seq:step:1'], 'metadata': {'langgraph_step': 1, 'langgraph_node': 'chatbot', 'langgraph_triggers': ('branch:to:chatbot',), 'langgraph_path': ('__pregel_pull', 'chatbot'), 'langgraph_checkpoint_ns': 'chatbot:a64b279e-f133-ba4c-0ecc-28fa66ab8216', 'checkpoint_ns': 'chatbot:a64b279e-f133-ba4c-0ecc-28fa66ab8216', 'ls_provider': 'groq', 'ls_model_name': 'llama-3.1-8b-instant', 'ls_model_type': 'chat', 'ls_temperature': 0.7}, 'parent_ids': ['3c70990f-0475-4571-b48a-d31e485d7115', 'fac07a1c-0549-4921-b162-216bb7a0ad8d']} \n",
      "\n",
      "\n",
      "{'event': 'on_chat_model_stream', 'data': {'chunk': AIMessageChunk(content=' humans', additional_kwargs={}, response_metadata={}, id='run--e08df820-6dd1-488a-aaea-53201f44ab9b')}, 'run_id': 'e08df820-6dd1-488a-aaea-53201f44ab9b', 'name': 'ChatGroq', 'tags': ['seq:step:1'], 'metadata': {'langgraph_step': 1, 'langgraph_node': 'chatbot', 'langgraph_triggers': ('branch:to:chatbot',), 'langgraph_path': ('__pregel_pull', 'chatbot'), 'langgraph_checkpoint_ns': 'chatbot:a64b279e-f133-ba4c-0ecc-28fa66ab8216', 'checkpoint_ns': 'chatbot:a64b279e-f133-ba4c-0ecc-28fa66ab8216', 'ls_provider': 'groq', 'ls_model_name': 'llama-3.1-8b-instant', 'ls_model_type': 'chat', 'ls_temperature': 0.7}, 'parent_ids': ['3c70990f-0475-4571-b48a-d31e485d7115', 'fac07a1c-0549-4921-b162-216bb7a0ad8d']} \n",
      "\n",
      "\n",
      "{'event': 'on_chat_model_stream', 'data': {'chunk': AIMessageChunk(content=' do', additional_kwargs={}, response_metadata={}, id='run--e08df820-6dd1-488a-aaea-53201f44ab9b')}, 'run_id': 'e08df820-6dd1-488a-aaea-53201f44ab9b', 'name': 'ChatGroq', 'tags': ['seq:step:1'], 'metadata': {'langgraph_step': 1, 'langgraph_node': 'chatbot', 'langgraph_triggers': ('branch:to:chatbot',), 'langgraph_path': ('__pregel_pull', 'chatbot'), 'langgraph_checkpoint_ns': 'chatbot:a64b279e-f133-ba4c-0ecc-28fa66ab8216', 'checkpoint_ns': 'chatbot:a64b279e-f133-ba4c-0ecc-28fa66ab8216', 'ls_provider': 'groq', 'ls_model_name': 'llama-3.1-8b-instant', 'ls_model_type': 'chat', 'ls_temperature': 0.7}, 'parent_ids': ['3c70990f-0475-4571-b48a-d31e485d7115', 'fac07a1c-0549-4921-b162-216bb7a0ad8d']} \n",
      "\n",
      "\n",
      "{'event': 'on_chat_model_stream', 'data': {'chunk': AIMessageChunk(content=',', additional_kwargs={}, response_metadata={}, id='run--e08df820-6dd1-488a-aaea-53201f44ab9b')}, 'run_id': 'e08df820-6dd1-488a-aaea-53201f44ab9b', 'name': 'ChatGroq', 'tags': ['seq:step:1'], 'metadata': {'langgraph_step': 1, 'langgraph_node': 'chatbot', 'langgraph_triggers': ('branch:to:chatbot',), 'langgraph_path': ('__pregel_pull', 'chatbot'), 'langgraph_checkpoint_ns': 'chatbot:a64b279e-f133-ba4c-0ecc-28fa66ab8216', 'checkpoint_ns': 'chatbot:a64b279e-f133-ba4c-0ecc-28fa66ab8216', 'ls_provider': 'groq', 'ls_model_name': 'llama-3.1-8b-instant', 'ls_model_type': 'chat', 'ls_temperature': 0.7}, 'parent_ids': ['3c70990f-0475-4571-b48a-d31e485d7115', 'fac07a1c-0549-4921-b162-216bb7a0ad8d']} \n",
      "\n",
      "\n",
      "{'event': 'on_chat_model_stream', 'data': {'chunk': AIMessageChunk(content=' but', additional_kwargs={}, response_metadata={}, id='run--e08df820-6dd1-488a-aaea-53201f44ab9b')}, 'run_id': 'e08df820-6dd1-488a-aaea-53201f44ab9b', 'name': 'ChatGroq', 'tags': ['seq:step:1'], 'metadata': {'langgraph_step': 1, 'langgraph_node': 'chatbot', 'langgraph_triggers': ('branch:to:chatbot',), 'langgraph_path': ('__pregel_pull', 'chatbot'), 'langgraph_checkpoint_ns': 'chatbot:a64b279e-f133-ba4c-0ecc-28fa66ab8216', 'checkpoint_ns': 'chatbot:a64b279e-f133-ba4c-0ecc-28fa66ab8216', 'ls_provider': 'groq', 'ls_model_name': 'llama-3.1-8b-instant', 'ls_model_type': 'chat', 'ls_temperature': 0.7}, 'parent_ids': ['3c70990f-0475-4571-b48a-d31e485d7115', 'fac07a1c-0549-4921-b162-216bb7a0ad8d']} \n",
      "\n",
      "\n",
      "{'event': 'on_chat_model_stream', 'data': {'chunk': AIMessageChunk(content=' I', additional_kwargs={}, response_metadata={}, id='run--e08df820-6dd1-488a-aaea-53201f44ab9b')}, 'run_id': 'e08df820-6dd1-488a-aaea-53201f44ab9b', 'name': 'ChatGroq', 'tags': ['seq:step:1'], 'metadata': {'langgraph_step': 1, 'langgraph_node': 'chatbot', 'langgraph_triggers': ('branch:to:chatbot',), 'langgraph_path': ('__pregel_pull', 'chatbot'), 'langgraph_checkpoint_ns': 'chatbot:a64b279e-f133-ba4c-0ecc-28fa66ab8216', 'checkpoint_ns': 'chatbot:a64b279e-f133-ba4c-0ecc-28fa66ab8216', 'ls_provider': 'groq', 'ls_model_name': 'llama-3.1-8b-instant', 'ls_model_type': 'chat', 'ls_temperature': 0.7}, 'parent_ids': ['3c70990f-0475-4571-b48a-d31e485d7115', 'fac07a1c-0549-4921-b162-216bb7a0ad8d']} \n",
      "\n",
      "\n",
      "{'event': 'on_chat_model_stream', 'data': {'chunk': AIMessageChunk(content=\"'m\", additional_kwargs={}, response_metadata={}, id='run--e08df820-6dd1-488a-aaea-53201f44ab9b')}, 'run_id': 'e08df820-6dd1-488a-aaea-53201f44ab9b', 'name': 'ChatGroq', 'tags': ['seq:step:1'], 'metadata': {'langgraph_step': 1, 'langgraph_node': 'chatbot', 'langgraph_triggers': ('branch:to:chatbot',), 'langgraph_path': ('__pregel_pull', 'chatbot'), 'langgraph_checkpoint_ns': 'chatbot:a64b279e-f133-ba4c-0ecc-28fa66ab8216', 'checkpoint_ns': 'chatbot:a64b279e-f133-ba4c-0ecc-28fa66ab8216', 'ls_provider': 'groq', 'ls_model_name': 'llama-3.1-8b-instant', 'ls_model_type': 'chat', 'ls_temperature': 0.7}, 'parent_ids': ['3c70990f-0475-4571-b48a-d31e485d7115', 'fac07a1c-0549-4921-b162-216bb7a0ad8d']} \n",
      "\n",
      "\n",
      "{'event': 'on_chat_model_stream', 'data': {'chunk': AIMessageChunk(content=' functioning', additional_kwargs={}, response_metadata={}, id='run--e08df820-6dd1-488a-aaea-53201f44ab9b')}, 'run_id': 'e08df820-6dd1-488a-aaea-53201f44ab9b', 'name': 'ChatGroq', 'tags': ['seq:step:1'], 'metadata': {'langgraph_step': 1, 'langgraph_node': 'chatbot', 'langgraph_triggers': ('branch:to:chatbot',), 'langgraph_path': ('__pregel_pull', 'chatbot'), 'langgraph_checkpoint_ns': 'chatbot:a64b279e-f133-ba4c-0ecc-28fa66ab8216', 'checkpoint_ns': 'chatbot:a64b279e-f133-ba4c-0ecc-28fa66ab8216', 'ls_provider': 'groq', 'ls_model_name': 'llama-3.1-8b-instant', 'ls_model_type': 'chat', 'ls_temperature': 0.7}, 'parent_ids': ['3c70990f-0475-4571-b48a-d31e485d7115', 'fac07a1c-0549-4921-b162-216bb7a0ad8d']} \n",
      "\n",
      "\n",
      "{'event': 'on_chat_model_stream', 'data': {'chunk': AIMessageChunk(content=' properly', additional_kwargs={}, response_metadata={}, id='run--e08df820-6dd1-488a-aaea-53201f44ab9b')}, 'run_id': 'e08df820-6dd1-488a-aaea-53201f44ab9b', 'name': 'ChatGroq', 'tags': ['seq:step:1'], 'metadata': {'langgraph_step': 1, 'langgraph_node': 'chatbot', 'langgraph_triggers': ('branch:to:chatbot',), 'langgraph_path': ('__pregel_pull', 'chatbot'), 'langgraph_checkpoint_ns': 'chatbot:a64b279e-f133-ba4c-0ecc-28fa66ab8216', 'checkpoint_ns': 'chatbot:a64b279e-f133-ba4c-0ecc-28fa66ab8216', 'ls_provider': 'groq', 'ls_model_name': 'llama-3.1-8b-instant', 'ls_model_type': 'chat', 'ls_temperature': 0.7}, 'parent_ids': ['3c70990f-0475-4571-b48a-d31e485d7115', 'fac07a1c-0549-4921-b162-216bb7a0ad8d']} \n",
      "\n",
      "\n",
      "{'event': 'on_chat_model_stream', 'data': {'chunk': AIMessageChunk(content=' and', additional_kwargs={}, response_metadata={}, id='run--e08df820-6dd1-488a-aaea-53201f44ab9b')}, 'run_id': 'e08df820-6dd1-488a-aaea-53201f44ab9b', 'name': 'ChatGroq', 'tags': ['seq:step:1'], 'metadata': {'langgraph_step': 1, 'langgraph_node': 'chatbot', 'langgraph_triggers': ('branch:to:chatbot',), 'langgraph_path': ('__pregel_pull', 'chatbot'), 'langgraph_checkpoint_ns': 'chatbot:a64b279e-f133-ba4c-0ecc-28fa66ab8216', 'checkpoint_ns': 'chatbot:a64b279e-f133-ba4c-0ecc-28fa66ab8216', 'ls_provider': 'groq', 'ls_model_name': 'llama-3.1-8b-instant', 'ls_model_type': 'chat', 'ls_temperature': 0.7}, 'parent_ids': ['3c70990f-0475-4571-b48a-d31e485d7115', 'fac07a1c-0549-4921-b162-216bb7a0ad8d']} \n",
      "\n",
      "\n",
      "{'event': 'on_chat_model_stream', 'data': {'chunk': AIMessageChunk(content=' ready', additional_kwargs={}, response_metadata={}, id='run--e08df820-6dd1-488a-aaea-53201f44ab9b')}, 'run_id': 'e08df820-6dd1-488a-aaea-53201f44ab9b', 'name': 'ChatGroq', 'tags': ['seq:step:1'], 'metadata': {'langgraph_step': 1, 'langgraph_node': 'chatbot', 'langgraph_triggers': ('branch:to:chatbot',), 'langgraph_path': ('__pregel_pull', 'chatbot'), 'langgraph_checkpoint_ns': 'chatbot:a64b279e-f133-ba4c-0ecc-28fa66ab8216', 'checkpoint_ns': 'chatbot:a64b279e-f133-ba4c-0ecc-28fa66ab8216', 'ls_provider': 'groq', 'ls_model_name': 'llama-3.1-8b-instant', 'ls_model_type': 'chat', 'ls_temperature': 0.7}, 'parent_ids': ['3c70990f-0475-4571-b48a-d31e485d7115', 'fac07a1c-0549-4921-b162-216bb7a0ad8d']} \n",
      "\n",
      "\n",
      "{'event': 'on_chat_model_stream', 'data': {'chunk': AIMessageChunk(content=' to', additional_kwargs={}, response_metadata={}, id='run--e08df820-6dd1-488a-aaea-53201f44ab9b')}, 'run_id': 'e08df820-6dd1-488a-aaea-53201f44ab9b', 'name': 'ChatGroq', 'tags': ['seq:step:1'], 'metadata': {'langgraph_step': 1, 'langgraph_node': 'chatbot', 'langgraph_triggers': ('branch:to:chatbot',), 'langgraph_path': ('__pregel_pull', 'chatbot'), 'langgraph_checkpoint_ns': 'chatbot:a64b279e-f133-ba4c-0ecc-28fa66ab8216', 'checkpoint_ns': 'chatbot:a64b279e-f133-ba4c-0ecc-28fa66ab8216', 'ls_provider': 'groq', 'ls_model_name': 'llama-3.1-8b-instant', 'ls_model_type': 'chat', 'ls_temperature': 0.7}, 'parent_ids': ['3c70990f-0475-4571-b48a-d31e485d7115', 'fac07a1c-0549-4921-b162-216bb7a0ad8d']} \n",
      "\n",
      "\n",
      "{'event': 'on_chat_model_stream', 'data': {'chunk': AIMessageChunk(content=' help', additional_kwargs={}, response_metadata={}, id='run--e08df820-6dd1-488a-aaea-53201f44ab9b')}, 'run_id': 'e08df820-6dd1-488a-aaea-53201f44ab9b', 'name': 'ChatGroq', 'tags': ['seq:step:1'], 'metadata': {'langgraph_step': 1, 'langgraph_node': 'chatbot', 'langgraph_triggers': ('branch:to:chatbot',), 'langgraph_path': ('__pregel_pull', 'chatbot'), 'langgraph_checkpoint_ns': 'chatbot:a64b279e-f133-ba4c-0ecc-28fa66ab8216', 'checkpoint_ns': 'chatbot:a64b279e-f133-ba4c-0ecc-28fa66ab8216', 'ls_provider': 'groq', 'ls_model_name': 'llama-3.1-8b-instant', 'ls_model_type': 'chat', 'ls_temperature': 0.7}, 'parent_ids': ['3c70990f-0475-4571-b48a-d31e485d7115', 'fac07a1c-0549-4921-b162-216bb7a0ad8d']} \n",
      "\n",
      "\n",
      "{'event': 'on_chat_model_stream', 'data': {'chunk': AIMessageChunk(content=' you', additional_kwargs={}, response_metadata={}, id='run--e08df820-6dd1-488a-aaea-53201f44ab9b')}, 'run_id': 'e08df820-6dd1-488a-aaea-53201f44ab9b', 'name': 'ChatGroq', 'tags': ['seq:step:1'], 'metadata': {'langgraph_step': 1, 'langgraph_node': 'chatbot', 'langgraph_triggers': ('branch:to:chatbot',), 'langgraph_path': ('__pregel_pull', 'chatbot'), 'langgraph_checkpoint_ns': 'chatbot:a64b279e-f133-ba4c-0ecc-28fa66ab8216', 'checkpoint_ns': 'chatbot:a64b279e-f133-ba4c-0ecc-28fa66ab8216', 'ls_provider': 'groq', 'ls_model_name': 'llama-3.1-8b-instant', 'ls_model_type': 'chat', 'ls_temperature': 0.7}, 'parent_ids': ['3c70990f-0475-4571-b48a-d31e485d7115', 'fac07a1c-0549-4921-b162-216bb7a0ad8d']} \n",
      "\n",
      "\n",
      "{'event': 'on_chat_model_stream', 'data': {'chunk': AIMessageChunk(content=' with', additional_kwargs={}, response_metadata={}, id='run--e08df820-6dd1-488a-aaea-53201f44ab9b')}, 'run_id': 'e08df820-6dd1-488a-aaea-53201f44ab9b', 'name': 'ChatGroq', 'tags': ['seq:step:1'], 'metadata': {'langgraph_step': 1, 'langgraph_node': 'chatbot', 'langgraph_triggers': ('branch:to:chatbot',), 'langgraph_path': ('__pregel_pull', 'chatbot'), 'langgraph_checkpoint_ns': 'chatbot:a64b279e-f133-ba4c-0ecc-28fa66ab8216', 'checkpoint_ns': 'chatbot:a64b279e-f133-ba4c-0ecc-28fa66ab8216', 'ls_provider': 'groq', 'ls_model_name': 'llama-3.1-8b-instant', 'ls_model_type': 'chat', 'ls_temperature': 0.7}, 'parent_ids': ['3c70990f-0475-4571-b48a-d31e485d7115', 'fac07a1c-0549-4921-b162-216bb7a0ad8d']} \n",
      "\n",
      "\n",
      "{'event': 'on_chat_model_stream', 'data': {'chunk': AIMessageChunk(content=' any', additional_kwargs={}, response_metadata={}, id='run--e08df820-6dd1-488a-aaea-53201f44ab9b')}, 'run_id': 'e08df820-6dd1-488a-aaea-53201f44ab9b', 'name': 'ChatGroq', 'tags': ['seq:step:1'], 'metadata': {'langgraph_step': 1, 'langgraph_node': 'chatbot', 'langgraph_triggers': ('branch:to:chatbot',), 'langgraph_path': ('__pregel_pull', 'chatbot'), 'langgraph_checkpoint_ns': 'chatbot:a64b279e-f133-ba4c-0ecc-28fa66ab8216', 'checkpoint_ns': 'chatbot:a64b279e-f133-ba4c-0ecc-28fa66ab8216', 'ls_provider': 'groq', 'ls_model_name': 'llama-3.1-8b-instant', 'ls_model_type': 'chat', 'ls_temperature': 0.7}, 'parent_ids': ['3c70990f-0475-4571-b48a-d31e485d7115', 'fac07a1c-0549-4921-b162-216bb7a0ad8d']} \n",
      "\n",
      "\n",
      "{'event': 'on_chat_model_stream', 'data': {'chunk': AIMessageChunk(content=' questions', additional_kwargs={}, response_metadata={}, id='run--e08df820-6dd1-488a-aaea-53201f44ab9b')}, 'run_id': 'e08df820-6dd1-488a-aaea-53201f44ab9b', 'name': 'ChatGroq', 'tags': ['seq:step:1'], 'metadata': {'langgraph_step': 1, 'langgraph_node': 'chatbot', 'langgraph_triggers': ('branch:to:chatbot',), 'langgraph_path': ('__pregel_pull', 'chatbot'), 'langgraph_checkpoint_ns': 'chatbot:a64b279e-f133-ba4c-0ecc-28fa66ab8216', 'checkpoint_ns': 'chatbot:a64b279e-f133-ba4c-0ecc-28fa66ab8216', 'ls_provider': 'groq', 'ls_model_name': 'llama-3.1-8b-instant', 'ls_model_type': 'chat', 'ls_temperature': 0.7}, 'parent_ids': ['3c70990f-0475-4571-b48a-d31e485d7115', 'fac07a1c-0549-4921-b162-216bb7a0ad8d']} \n",
      "\n",
      "\n",
      "{'event': 'on_chat_model_stream', 'data': {'chunk': AIMessageChunk(content=' or', additional_kwargs={}, response_metadata={}, id='run--e08df820-6dd1-488a-aaea-53201f44ab9b')}, 'run_id': 'e08df820-6dd1-488a-aaea-53201f44ab9b', 'name': 'ChatGroq', 'tags': ['seq:step:1'], 'metadata': {'langgraph_step': 1, 'langgraph_node': 'chatbot', 'langgraph_triggers': ('branch:to:chatbot',), 'langgraph_path': ('__pregel_pull', 'chatbot'), 'langgraph_checkpoint_ns': 'chatbot:a64b279e-f133-ba4c-0ecc-28fa66ab8216', 'checkpoint_ns': 'chatbot:a64b279e-f133-ba4c-0ecc-28fa66ab8216', 'ls_provider': 'groq', 'ls_model_name': 'llama-3.1-8b-instant', 'ls_model_type': 'chat', 'ls_temperature': 0.7}, 'parent_ids': ['3c70990f-0475-4571-b48a-d31e485d7115', 'fac07a1c-0549-4921-b162-216bb7a0ad8d']} \n",
      "\n",
      "\n",
      "{'event': 'on_chat_model_stream', 'data': {'chunk': AIMessageChunk(content=' tasks', additional_kwargs={}, response_metadata={}, id='run--e08df820-6dd1-488a-aaea-53201f44ab9b')}, 'run_id': 'e08df820-6dd1-488a-aaea-53201f44ab9b', 'name': 'ChatGroq', 'tags': ['seq:step:1'], 'metadata': {'langgraph_step': 1, 'langgraph_node': 'chatbot', 'langgraph_triggers': ('branch:to:chatbot',), 'langgraph_path': ('__pregel_pull', 'chatbot'), 'langgraph_checkpoint_ns': 'chatbot:a64b279e-f133-ba4c-0ecc-28fa66ab8216', 'checkpoint_ns': 'chatbot:a64b279e-f133-ba4c-0ecc-28fa66ab8216', 'ls_provider': 'groq', 'ls_model_name': 'llama-3.1-8b-instant', 'ls_model_type': 'chat', 'ls_temperature': 0.7}, 'parent_ids': ['3c70990f-0475-4571-b48a-d31e485d7115', 'fac07a1c-0549-4921-b162-216bb7a0ad8d']} \n",
      "\n",
      "\n",
      "{'event': 'on_chat_model_stream', 'data': {'chunk': AIMessageChunk(content=' you', additional_kwargs={}, response_metadata={}, id='run--e08df820-6dd1-488a-aaea-53201f44ab9b')}, 'run_id': 'e08df820-6dd1-488a-aaea-53201f44ab9b', 'name': 'ChatGroq', 'tags': ['seq:step:1'], 'metadata': {'langgraph_step': 1, 'langgraph_node': 'chatbot', 'langgraph_triggers': ('branch:to:chatbot',), 'langgraph_path': ('__pregel_pull', 'chatbot'), 'langgraph_checkpoint_ns': 'chatbot:a64b279e-f133-ba4c-0ecc-28fa66ab8216', 'checkpoint_ns': 'chatbot:a64b279e-f133-ba4c-0ecc-28fa66ab8216', 'ls_provider': 'groq', 'ls_model_name': 'llama-3.1-8b-instant', 'ls_model_type': 'chat', 'ls_temperature': 0.7}, 'parent_ids': ['3c70990f-0475-4571-b48a-d31e485d7115', 'fac07a1c-0549-4921-b162-216bb7a0ad8d']} \n",
      "\n",
      "\n",
      "{'event': 'on_chat_model_stream', 'data': {'chunk': AIMessageChunk(content=' may', additional_kwargs={}, response_metadata={}, id='run--e08df820-6dd1-488a-aaea-53201f44ab9b')}, 'run_id': 'e08df820-6dd1-488a-aaea-53201f44ab9b', 'name': 'ChatGroq', 'tags': ['seq:step:1'], 'metadata': {'langgraph_step': 1, 'langgraph_node': 'chatbot', 'langgraph_triggers': ('branch:to:chatbot',), 'langgraph_path': ('__pregel_pull', 'chatbot'), 'langgraph_checkpoint_ns': 'chatbot:a64b279e-f133-ba4c-0ecc-28fa66ab8216', 'checkpoint_ns': 'chatbot:a64b279e-f133-ba4c-0ecc-28fa66ab8216', 'ls_provider': 'groq', 'ls_model_name': 'llama-3.1-8b-instant', 'ls_model_type': 'chat', 'ls_temperature': 0.7}, 'parent_ids': ['3c70990f-0475-4571-b48a-d31e485d7115', 'fac07a1c-0549-4921-b162-216bb7a0ad8d']} \n",
      "\n",
      "\n",
      "{'event': 'on_chat_model_stream', 'data': {'chunk': AIMessageChunk(content=' have', additional_kwargs={}, response_metadata={}, id='run--e08df820-6dd1-488a-aaea-53201f44ab9b')}, 'run_id': 'e08df820-6dd1-488a-aaea-53201f44ab9b', 'name': 'ChatGroq', 'tags': ['seq:step:1'], 'metadata': {'langgraph_step': 1, 'langgraph_node': 'chatbot', 'langgraph_triggers': ('branch:to:chatbot',), 'langgraph_path': ('__pregel_pull', 'chatbot'), 'langgraph_checkpoint_ns': 'chatbot:a64b279e-f133-ba4c-0ecc-28fa66ab8216', 'checkpoint_ns': 'chatbot:a64b279e-f133-ba4c-0ecc-28fa66ab8216', 'ls_provider': 'groq', 'ls_model_name': 'llama-3.1-8b-instant', 'ls_model_type': 'chat', 'ls_temperature': 0.7}, 'parent_ids': ['3c70990f-0475-4571-b48a-d31e485d7115', 'fac07a1c-0549-4921-b162-216bb7a0ad8d']} \n",
      "\n",
      "\n",
      "{'event': 'on_chat_model_stream', 'data': {'chunk': AIMessageChunk(content='!', additional_kwargs={}, response_metadata={}, id='run--e08df820-6dd1-488a-aaea-53201f44ab9b')}, 'run_id': 'e08df820-6dd1-488a-aaea-53201f44ab9b', 'name': 'ChatGroq', 'tags': ['seq:step:1'], 'metadata': {'langgraph_step': 1, 'langgraph_node': 'chatbot', 'langgraph_triggers': ('branch:to:chatbot',), 'langgraph_path': ('__pregel_pull', 'chatbot'), 'langgraph_checkpoint_ns': 'chatbot:a64b279e-f133-ba4c-0ecc-28fa66ab8216', 'checkpoint_ns': 'chatbot:a64b279e-f133-ba4c-0ecc-28fa66ab8216', 'ls_provider': 'groq', 'ls_model_name': 'llama-3.1-8b-instant', 'ls_model_type': 'chat', 'ls_temperature': 0.7}, 'parent_ids': ['3c70990f-0475-4571-b48a-d31e485d7115', 'fac07a1c-0549-4921-b162-216bb7a0ad8d']} \n",
      "\n",
      "\n",
      "{'event': 'on_chat_model_stream', 'data': {'chunk': AIMessageChunk(content=' How', additional_kwargs={}, response_metadata={}, id='run--e08df820-6dd1-488a-aaea-53201f44ab9b')}, 'run_id': 'e08df820-6dd1-488a-aaea-53201f44ab9b', 'name': 'ChatGroq', 'tags': ['seq:step:1'], 'metadata': {'langgraph_step': 1, 'langgraph_node': 'chatbot', 'langgraph_triggers': ('branch:to:chatbot',), 'langgraph_path': ('__pregel_pull', 'chatbot'), 'langgraph_checkpoint_ns': 'chatbot:a64b279e-f133-ba4c-0ecc-28fa66ab8216', 'checkpoint_ns': 'chatbot:a64b279e-f133-ba4c-0ecc-28fa66ab8216', 'ls_provider': 'groq', 'ls_model_name': 'llama-3.1-8b-instant', 'ls_model_type': 'chat', 'ls_temperature': 0.7}, 'parent_ids': ['3c70990f-0475-4571-b48a-d31e485d7115', 'fac07a1c-0549-4921-b162-216bb7a0ad8d']} \n",
      "\n",
      "\n",
      "{'event': 'on_chat_model_stream', 'data': {'chunk': AIMessageChunk(content=' can', additional_kwargs={}, response_metadata={}, id='run--e08df820-6dd1-488a-aaea-53201f44ab9b')}, 'run_id': 'e08df820-6dd1-488a-aaea-53201f44ab9b', 'name': 'ChatGroq', 'tags': ['seq:step:1'], 'metadata': {'langgraph_step': 1, 'langgraph_node': 'chatbot', 'langgraph_triggers': ('branch:to:chatbot',), 'langgraph_path': ('__pregel_pull', 'chatbot'), 'langgraph_checkpoint_ns': 'chatbot:a64b279e-f133-ba4c-0ecc-28fa66ab8216', 'checkpoint_ns': 'chatbot:a64b279e-f133-ba4c-0ecc-28fa66ab8216', 'ls_provider': 'groq', 'ls_model_name': 'llama-3.1-8b-instant', 'ls_model_type': 'chat', 'ls_temperature': 0.7}, 'parent_ids': ['3c70990f-0475-4571-b48a-d31e485d7115', 'fac07a1c-0549-4921-b162-216bb7a0ad8d']} \n",
      "\n",
      "\n",
      "{'event': 'on_chat_model_stream', 'data': {'chunk': AIMessageChunk(content=' I', additional_kwargs={}, response_metadata={}, id='run--e08df820-6dd1-488a-aaea-53201f44ab9b')}, 'run_id': 'e08df820-6dd1-488a-aaea-53201f44ab9b', 'name': 'ChatGroq', 'tags': ['seq:step:1'], 'metadata': {'langgraph_step': 1, 'langgraph_node': 'chatbot', 'langgraph_triggers': ('branch:to:chatbot',), 'langgraph_path': ('__pregel_pull', 'chatbot'), 'langgraph_checkpoint_ns': 'chatbot:a64b279e-f133-ba4c-0ecc-28fa66ab8216', 'checkpoint_ns': 'chatbot:a64b279e-f133-ba4c-0ecc-28fa66ab8216', 'ls_provider': 'groq', 'ls_model_name': 'llama-3.1-8b-instant', 'ls_model_type': 'chat', 'ls_temperature': 0.7}, 'parent_ids': ['3c70990f-0475-4571-b48a-d31e485d7115', 'fac07a1c-0549-4921-b162-216bb7a0ad8d']} \n",
      "\n",
      "\n",
      "{'event': 'on_chat_model_stream', 'data': {'chunk': AIMessageChunk(content=' assist', additional_kwargs={}, response_metadata={}, id='run--e08df820-6dd1-488a-aaea-53201f44ab9b')}, 'run_id': 'e08df820-6dd1-488a-aaea-53201f44ab9b', 'name': 'ChatGroq', 'tags': ['seq:step:1'], 'metadata': {'langgraph_step': 1, 'langgraph_node': 'chatbot', 'langgraph_triggers': ('branch:to:chatbot',), 'langgraph_path': ('__pregel_pull', 'chatbot'), 'langgraph_checkpoint_ns': 'chatbot:a64b279e-f133-ba4c-0ecc-28fa66ab8216', 'checkpoint_ns': 'chatbot:a64b279e-f133-ba4c-0ecc-28fa66ab8216', 'ls_provider': 'groq', 'ls_model_name': 'llama-3.1-8b-instant', 'ls_model_type': 'chat', 'ls_temperature': 0.7}, 'parent_ids': ['3c70990f-0475-4571-b48a-d31e485d7115', 'fac07a1c-0549-4921-b162-216bb7a0ad8d']} \n",
      "\n",
      "\n",
      "{'event': 'on_chat_model_stream', 'data': {'chunk': AIMessageChunk(content=' you', additional_kwargs={}, response_metadata={}, id='run--e08df820-6dd1-488a-aaea-53201f44ab9b')}, 'run_id': 'e08df820-6dd1-488a-aaea-53201f44ab9b', 'name': 'ChatGroq', 'tags': ['seq:step:1'], 'metadata': {'langgraph_step': 1, 'langgraph_node': 'chatbot', 'langgraph_triggers': ('branch:to:chatbot',), 'langgraph_path': ('__pregel_pull', 'chatbot'), 'langgraph_checkpoint_ns': 'chatbot:a64b279e-f133-ba4c-0ecc-28fa66ab8216', 'checkpoint_ns': 'chatbot:a64b279e-f133-ba4c-0ecc-28fa66ab8216', 'ls_provider': 'groq', 'ls_model_name': 'llama-3.1-8b-instant', 'ls_model_type': 'chat', 'ls_temperature': 0.7}, 'parent_ids': ['3c70990f-0475-4571-b48a-d31e485d7115', 'fac07a1c-0549-4921-b162-216bb7a0ad8d']} \n",
      "\n",
      "\n",
      "{'event': 'on_chat_model_stream', 'data': {'chunk': AIMessageChunk(content=' today', additional_kwargs={}, response_metadata={}, id='run--e08df820-6dd1-488a-aaea-53201f44ab9b')}, 'run_id': 'e08df820-6dd1-488a-aaea-53201f44ab9b', 'name': 'ChatGroq', 'tags': ['seq:step:1'], 'metadata': {'langgraph_step': 1, 'langgraph_node': 'chatbot', 'langgraph_triggers': ('branch:to:chatbot',), 'langgraph_path': ('__pregel_pull', 'chatbot'), 'langgraph_checkpoint_ns': 'chatbot:a64b279e-f133-ba4c-0ecc-28fa66ab8216', 'checkpoint_ns': 'chatbot:a64b279e-f133-ba4c-0ecc-28fa66ab8216', 'ls_provider': 'groq', 'ls_model_name': 'llama-3.1-8b-instant', 'ls_model_type': 'chat', 'ls_temperature': 0.7}, 'parent_ids': ['3c70990f-0475-4571-b48a-d31e485d7115', 'fac07a1c-0549-4921-b162-216bb7a0ad8d']} \n",
      "\n",
      "\n",
      "{'event': 'on_chat_model_stream', 'data': {'chunk': AIMessageChunk(content='?', additional_kwargs={}, response_metadata={}, id='run--e08df820-6dd1-488a-aaea-53201f44ab9b')}, 'run_id': 'e08df820-6dd1-488a-aaea-53201f44ab9b', 'name': 'ChatGroq', 'tags': ['seq:step:1'], 'metadata': {'langgraph_step': 1, 'langgraph_node': 'chatbot', 'langgraph_triggers': ('branch:to:chatbot',), 'langgraph_path': ('__pregel_pull', 'chatbot'), 'langgraph_checkpoint_ns': 'chatbot:a64b279e-f133-ba4c-0ecc-28fa66ab8216', 'checkpoint_ns': 'chatbot:a64b279e-f133-ba4c-0ecc-28fa66ab8216', 'ls_provider': 'groq', 'ls_model_name': 'llama-3.1-8b-instant', 'ls_model_type': 'chat', 'ls_temperature': 0.7}, 'parent_ids': ['3c70990f-0475-4571-b48a-d31e485d7115', 'fac07a1c-0549-4921-b162-216bb7a0ad8d']} \n",
      "\n",
      "\n",
      "{'event': 'on_chat_model_stream', 'data': {'chunk': AIMessageChunk(content=' Would', additional_kwargs={}, response_metadata={}, id='run--e08df820-6dd1-488a-aaea-53201f44ab9b')}, 'run_id': 'e08df820-6dd1-488a-aaea-53201f44ab9b', 'name': 'ChatGroq', 'tags': ['seq:step:1'], 'metadata': {'langgraph_step': 1, 'langgraph_node': 'chatbot', 'langgraph_triggers': ('branch:to:chatbot',), 'langgraph_path': ('__pregel_pull', 'chatbot'), 'langgraph_checkpoint_ns': 'chatbot:a64b279e-f133-ba4c-0ecc-28fa66ab8216', 'checkpoint_ns': 'chatbot:a64b279e-f133-ba4c-0ecc-28fa66ab8216', 'ls_provider': 'groq', 'ls_model_name': 'llama-3.1-8b-instant', 'ls_model_type': 'chat', 'ls_temperature': 0.7}, 'parent_ids': ['3c70990f-0475-4571-b48a-d31e485d7115', 'fac07a1c-0549-4921-b162-216bb7a0ad8d']} \n",
      "\n",
      "\n",
      "{'event': 'on_chat_model_stream', 'data': {'chunk': AIMessageChunk(content=' you', additional_kwargs={}, response_metadata={}, id='run--e08df820-6dd1-488a-aaea-53201f44ab9b')}, 'run_id': 'e08df820-6dd1-488a-aaea-53201f44ab9b', 'name': 'ChatGroq', 'tags': ['seq:step:1'], 'metadata': {'langgraph_step': 1, 'langgraph_node': 'chatbot', 'langgraph_triggers': ('branch:to:chatbot',), 'langgraph_path': ('__pregel_pull', 'chatbot'), 'langgraph_checkpoint_ns': 'chatbot:a64b279e-f133-ba4c-0ecc-28fa66ab8216', 'checkpoint_ns': 'chatbot:a64b279e-f133-ba4c-0ecc-28fa66ab8216', 'ls_provider': 'groq', 'ls_model_name': 'llama-3.1-8b-instant', 'ls_model_type': 'chat', 'ls_temperature': 0.7}, 'parent_ids': ['3c70990f-0475-4571-b48a-d31e485d7115', 'fac07a1c-0549-4921-b162-216bb7a0ad8d']} \n",
      "\n",
      "\n",
      "{'event': 'on_chat_model_stream', 'data': {'chunk': AIMessageChunk(content=' like', additional_kwargs={}, response_metadata={}, id='run--e08df820-6dd1-488a-aaea-53201f44ab9b')}, 'run_id': 'e08df820-6dd1-488a-aaea-53201f44ab9b', 'name': 'ChatGroq', 'tags': ['seq:step:1'], 'metadata': {'langgraph_step': 1, 'langgraph_node': 'chatbot', 'langgraph_triggers': ('branch:to:chatbot',), 'langgraph_path': ('__pregel_pull', 'chatbot'), 'langgraph_checkpoint_ns': 'chatbot:a64b279e-f133-ba4c-0ecc-28fa66ab8216', 'checkpoint_ns': 'chatbot:a64b279e-f133-ba4c-0ecc-28fa66ab8216', 'ls_provider': 'groq', 'ls_model_name': 'llama-3.1-8b-instant', 'ls_model_type': 'chat', 'ls_temperature': 0.7}, 'parent_ids': ['3c70990f-0475-4571-b48a-d31e485d7115', 'fac07a1c-0549-4921-b162-216bb7a0ad8d']} \n",
      "\n",
      "\n",
      "{'event': 'on_chat_model_stream', 'data': {'chunk': AIMessageChunk(content=' to', additional_kwargs={}, response_metadata={}, id='run--e08df820-6dd1-488a-aaea-53201f44ab9b')}, 'run_id': 'e08df820-6dd1-488a-aaea-53201f44ab9b', 'name': 'ChatGroq', 'tags': ['seq:step:1'], 'metadata': {'langgraph_step': 1, 'langgraph_node': 'chatbot', 'langgraph_triggers': ('branch:to:chatbot',), 'langgraph_path': ('__pregel_pull', 'chatbot'), 'langgraph_checkpoint_ns': 'chatbot:a64b279e-f133-ba4c-0ecc-28fa66ab8216', 'checkpoint_ns': 'chatbot:a64b279e-f133-ba4c-0ecc-28fa66ab8216', 'ls_provider': 'groq', 'ls_model_name': 'llama-3.1-8b-instant', 'ls_model_type': 'chat', 'ls_temperature': 0.7}, 'parent_ids': ['3c70990f-0475-4571-b48a-d31e485d7115', 'fac07a1c-0549-4921-b162-216bb7a0ad8d']} \n",
      "\n",
      "\n",
      "{'event': 'on_chat_model_stream', 'data': {'chunk': AIMessageChunk(content=' search', additional_kwargs={}, response_metadata={}, id='run--e08df820-6dd1-488a-aaea-53201f44ab9b')}, 'run_id': 'e08df820-6dd1-488a-aaea-53201f44ab9b', 'name': 'ChatGroq', 'tags': ['seq:step:1'], 'metadata': {'langgraph_step': 1, 'langgraph_node': 'chatbot', 'langgraph_triggers': ('branch:to:chatbot',), 'langgraph_path': ('__pregel_pull', 'chatbot'), 'langgraph_checkpoint_ns': 'chatbot:a64b279e-f133-ba4c-0ecc-28fa66ab8216', 'checkpoint_ns': 'chatbot:a64b279e-f133-ba4c-0ecc-28fa66ab8216', 'ls_provider': 'groq', 'ls_model_name': 'llama-3.1-8b-instant', 'ls_model_type': 'chat', 'ls_temperature': 0.7}, 'parent_ids': ['3c70990f-0475-4571-b48a-d31e485d7115', 'fac07a1c-0549-4921-b162-216bb7a0ad8d']} \n",
      "\n",
      "\n",
      "{'event': 'on_chat_model_stream', 'data': {'chunk': AIMessageChunk(content=' for', additional_kwargs={}, response_metadata={}, id='run--e08df820-6dd1-488a-aaea-53201f44ab9b')}, 'run_id': 'e08df820-6dd1-488a-aaea-53201f44ab9b', 'name': 'ChatGroq', 'tags': ['seq:step:1'], 'metadata': {'langgraph_step': 1, 'langgraph_node': 'chatbot', 'langgraph_triggers': ('branch:to:chatbot',), 'langgraph_path': ('__pregel_pull', 'chatbot'), 'langgraph_checkpoint_ns': 'chatbot:a64b279e-f133-ba4c-0ecc-28fa66ab8216', 'checkpoint_ns': 'chatbot:a64b279e-f133-ba4c-0ecc-28fa66ab8216', 'ls_provider': 'groq', 'ls_model_name': 'llama-3.1-8b-instant', 'ls_model_type': 'chat', 'ls_temperature': 0.7}, 'parent_ids': ['3c70990f-0475-4571-b48a-d31e485d7115', 'fac07a1c-0549-4921-b162-216bb7a0ad8d']} \n",
      "\n",
      "\n",
      "{'event': 'on_chat_model_stream', 'data': {'chunk': AIMessageChunk(content=' some', additional_kwargs={}, response_metadata={}, id='run--e08df820-6dd1-488a-aaea-53201f44ab9b')}, 'run_id': 'e08df820-6dd1-488a-aaea-53201f44ab9b', 'name': 'ChatGroq', 'tags': ['seq:step:1'], 'metadata': {'langgraph_step': 1, 'langgraph_node': 'chatbot', 'langgraph_triggers': ('branch:to:chatbot',), 'langgraph_path': ('__pregel_pull', 'chatbot'), 'langgraph_checkpoint_ns': 'chatbot:a64b279e-f133-ba4c-0ecc-28fa66ab8216', 'checkpoint_ns': 'chatbot:a64b279e-f133-ba4c-0ecc-28fa66ab8216', 'ls_provider': 'groq', 'ls_model_name': 'llama-3.1-8b-instant', 'ls_model_type': 'chat', 'ls_temperature': 0.7}, 'parent_ids': ['3c70990f-0475-4571-b48a-d31e485d7115', 'fac07a1c-0549-4921-b162-216bb7a0ad8d']} \n",
      "\n",
      "\n",
      "{'event': 'on_chat_model_stream', 'data': {'chunk': AIMessageChunk(content=' information', additional_kwargs={}, response_metadata={}, id='run--e08df820-6dd1-488a-aaea-53201f44ab9b')}, 'run_id': 'e08df820-6dd1-488a-aaea-53201f44ab9b', 'name': 'ChatGroq', 'tags': ['seq:step:1'], 'metadata': {'langgraph_step': 1, 'langgraph_node': 'chatbot', 'langgraph_triggers': ('branch:to:chatbot',), 'langgraph_path': ('__pregel_pull', 'chatbot'), 'langgraph_checkpoint_ns': 'chatbot:a64b279e-f133-ba4c-0ecc-28fa66ab8216', 'checkpoint_ns': 'chatbot:a64b279e-f133-ba4c-0ecc-28fa66ab8216', 'ls_provider': 'groq', 'ls_model_name': 'llama-3.1-8b-instant', 'ls_model_type': 'chat', 'ls_temperature': 0.7}, 'parent_ids': ['3c70990f-0475-4571-b48a-d31e485d7115', 'fac07a1c-0549-4921-b162-216bb7a0ad8d']} \n",
      "\n",
      "\n",
      "{'event': 'on_chat_model_stream', 'data': {'chunk': AIMessageChunk(content=' using', additional_kwargs={}, response_metadata={}, id='run--e08df820-6dd1-488a-aaea-53201f44ab9b')}, 'run_id': 'e08df820-6dd1-488a-aaea-53201f44ab9b', 'name': 'ChatGroq', 'tags': ['seq:step:1'], 'metadata': {'langgraph_step': 1, 'langgraph_node': 'chatbot', 'langgraph_triggers': ('branch:to:chatbot',), 'langgraph_path': ('__pregel_pull', 'chatbot'), 'langgraph_checkpoint_ns': 'chatbot:a64b279e-f133-ba4c-0ecc-28fa66ab8216', 'checkpoint_ns': 'chatbot:a64b279e-f133-ba4c-0ecc-28fa66ab8216', 'ls_provider': 'groq', 'ls_model_name': 'llama-3.1-8b-instant', 'ls_model_type': 'chat', 'ls_temperature': 0.7}, 'parent_ids': ['3c70990f-0475-4571-b48a-d31e485d7115', 'fac07a1c-0549-4921-b162-216bb7a0ad8d']} \n",
      "\n",
      "\n",
      "{'event': 'on_chat_model_stream', 'data': {'chunk': AIMessageChunk(content=' the', additional_kwargs={}, response_metadata={}, id='run--e08df820-6dd1-488a-aaea-53201f44ab9b')}, 'run_id': 'e08df820-6dd1-488a-aaea-53201f44ab9b', 'name': 'ChatGroq', 'tags': ['seq:step:1'], 'metadata': {'langgraph_step': 1, 'langgraph_node': 'chatbot', 'langgraph_triggers': ('branch:to:chatbot',), 'langgraph_path': ('__pregel_pull', 'chatbot'), 'langgraph_checkpoint_ns': 'chatbot:a64b279e-f133-ba4c-0ecc-28fa66ab8216', 'checkpoint_ns': 'chatbot:a64b279e-f133-ba4c-0ecc-28fa66ab8216', 'ls_provider': 'groq', 'ls_model_name': 'llama-3.1-8b-instant', 'ls_model_type': 'chat', 'ls_temperature': 0.7}, 'parent_ids': ['3c70990f-0475-4571-b48a-d31e485d7115', 'fac07a1c-0549-4921-b162-216bb7a0ad8d']} \n",
      "\n",
      "\n",
      "{'event': 'on_chat_model_stream', 'data': {'chunk': AIMessageChunk(content=\" '\", additional_kwargs={}, response_metadata={}, id='run--e08df820-6dd1-488a-aaea-53201f44ab9b')}, 'run_id': 'e08df820-6dd1-488a-aaea-53201f44ab9b', 'name': 'ChatGroq', 'tags': ['seq:step:1'], 'metadata': {'langgraph_step': 1, 'langgraph_node': 'chatbot', 'langgraph_triggers': ('branch:to:chatbot',), 'langgraph_path': ('__pregel_pull', 'chatbot'), 'langgraph_checkpoint_ns': 'chatbot:a64b279e-f133-ba4c-0ecc-28fa66ab8216', 'checkpoint_ns': 'chatbot:a64b279e-f133-ba4c-0ecc-28fa66ab8216', 'ls_provider': 'groq', 'ls_model_name': 'llama-3.1-8b-instant', 'ls_model_type': 'chat', 'ls_temperature': 0.7}, 'parent_ids': ['3c70990f-0475-4571-b48a-d31e485d7115', 'fac07a1c-0549-4921-b162-216bb7a0ad8d']} \n",
      "\n",
      "\n",
      "{'event': 'on_chat_model_stream', 'data': {'chunk': AIMessageChunk(content='t', additional_kwargs={}, response_metadata={}, id='run--e08df820-6dd1-488a-aaea-53201f44ab9b')}, 'run_id': 'e08df820-6dd1-488a-aaea-53201f44ab9b', 'name': 'ChatGroq', 'tags': ['seq:step:1'], 'metadata': {'langgraph_step': 1, 'langgraph_node': 'chatbot', 'langgraph_triggers': ('branch:to:chatbot',), 'langgraph_path': ('__pregel_pull', 'chatbot'), 'langgraph_checkpoint_ns': 'chatbot:a64b279e-f133-ba4c-0ecc-28fa66ab8216', 'checkpoint_ns': 'chatbot:a64b279e-f133-ba4c-0ecc-28fa66ab8216', 'ls_provider': 'groq', 'ls_model_name': 'llama-3.1-8b-instant', 'ls_model_type': 'chat', 'ls_temperature': 0.7}, 'parent_ids': ['3c70990f-0475-4571-b48a-d31e485d7115', 'fac07a1c-0549-4921-b162-216bb7a0ad8d']} \n",
      "\n",
      "\n",
      "{'event': 'on_chat_model_stream', 'data': {'chunk': AIMessageChunk(content='av', additional_kwargs={}, response_metadata={}, id='run--e08df820-6dd1-488a-aaea-53201f44ab9b')}, 'run_id': 'e08df820-6dd1-488a-aaea-53201f44ab9b', 'name': 'ChatGroq', 'tags': ['seq:step:1'], 'metadata': {'langgraph_step': 1, 'langgraph_node': 'chatbot', 'langgraph_triggers': ('branch:to:chatbot',), 'langgraph_path': ('__pregel_pull', 'chatbot'), 'langgraph_checkpoint_ns': 'chatbot:a64b279e-f133-ba4c-0ecc-28fa66ab8216', 'checkpoint_ns': 'chatbot:a64b279e-f133-ba4c-0ecc-28fa66ab8216', 'ls_provider': 'groq', 'ls_model_name': 'llama-3.1-8b-instant', 'ls_model_type': 'chat', 'ls_temperature': 0.7}, 'parent_ids': ['3c70990f-0475-4571-b48a-d31e485d7115', 'fac07a1c-0549-4921-b162-216bb7a0ad8d']} \n",
      "\n",
      "\n",
      "{'event': 'on_chat_model_stream', 'data': {'chunk': AIMessageChunk(content='ily', additional_kwargs={}, response_metadata={}, id='run--e08df820-6dd1-488a-aaea-53201f44ab9b')}, 'run_id': 'e08df820-6dd1-488a-aaea-53201f44ab9b', 'name': 'ChatGroq', 'tags': ['seq:step:1'], 'metadata': {'langgraph_step': 1, 'langgraph_node': 'chatbot', 'langgraph_triggers': ('branch:to:chatbot',), 'langgraph_path': ('__pregel_pull', 'chatbot'), 'langgraph_checkpoint_ns': 'chatbot:a64b279e-f133-ba4c-0ecc-28fa66ab8216', 'checkpoint_ns': 'chatbot:a64b279e-f133-ba4c-0ecc-28fa66ab8216', 'ls_provider': 'groq', 'ls_model_name': 'llama-3.1-8b-instant', 'ls_model_type': 'chat', 'ls_temperature': 0.7}, 'parent_ids': ['3c70990f-0475-4571-b48a-d31e485d7115', 'fac07a1c-0549-4921-b162-216bb7a0ad8d']} \n",
      "\n",
      "\n",
      "{'event': 'on_chat_model_stream', 'data': {'chunk': AIMessageChunk(content='_search', additional_kwargs={}, response_metadata={}, id='run--e08df820-6dd1-488a-aaea-53201f44ab9b')}, 'run_id': 'e08df820-6dd1-488a-aaea-53201f44ab9b', 'name': 'ChatGroq', 'tags': ['seq:step:1'], 'metadata': {'langgraph_step': 1, 'langgraph_node': 'chatbot', 'langgraph_triggers': ('branch:to:chatbot',), 'langgraph_path': ('__pregel_pull', 'chatbot'), 'langgraph_checkpoint_ns': 'chatbot:a64b279e-f133-ba4c-0ecc-28fa66ab8216', 'checkpoint_ns': 'chatbot:a64b279e-f133-ba4c-0ecc-28fa66ab8216', 'ls_provider': 'groq', 'ls_model_name': 'llama-3.1-8b-instant', 'ls_model_type': 'chat', 'ls_temperature': 0.7}, 'parent_ids': ['3c70990f-0475-4571-b48a-d31e485d7115', 'fac07a1c-0549-4921-b162-216bb7a0ad8d']} \n",
      "\n",
      "\n",
      "{'event': 'on_chat_model_stream', 'data': {'chunk': AIMessageChunk(content=\"'\", additional_kwargs={}, response_metadata={}, id='run--e08df820-6dd1-488a-aaea-53201f44ab9b')}, 'run_id': 'e08df820-6dd1-488a-aaea-53201f44ab9b', 'name': 'ChatGroq', 'tags': ['seq:step:1'], 'metadata': {'langgraph_step': 1, 'langgraph_node': 'chatbot', 'langgraph_triggers': ('branch:to:chatbot',), 'langgraph_path': ('__pregel_pull', 'chatbot'), 'langgraph_checkpoint_ns': 'chatbot:a64b279e-f133-ba4c-0ecc-28fa66ab8216', 'checkpoint_ns': 'chatbot:a64b279e-f133-ba4c-0ecc-28fa66ab8216', 'ls_provider': 'groq', 'ls_model_name': 'llama-3.1-8b-instant', 'ls_model_type': 'chat', 'ls_temperature': 0.7}, 'parent_ids': ['3c70990f-0475-4571-b48a-d31e485d7115', 'fac07a1c-0549-4921-b162-216bb7a0ad8d']} \n",
      "\n",
      "\n",
      "{'event': 'on_chat_model_stream', 'data': {'chunk': AIMessageChunk(content=' function', additional_kwargs={}, response_metadata={}, id='run--e08df820-6dd1-488a-aaea-53201f44ab9b')}, 'run_id': 'e08df820-6dd1-488a-aaea-53201f44ab9b', 'name': 'ChatGroq', 'tags': ['seq:step:1'], 'metadata': {'langgraph_step': 1, 'langgraph_node': 'chatbot', 'langgraph_triggers': ('branch:to:chatbot',), 'langgraph_path': ('__pregel_pull', 'chatbot'), 'langgraph_checkpoint_ns': 'chatbot:a64b279e-f133-ba4c-0ecc-28fa66ab8216', 'checkpoint_ns': 'chatbot:a64b279e-f133-ba4c-0ecc-28fa66ab8216', 'ls_provider': 'groq', 'ls_model_name': 'llama-3.1-8b-instant', 'ls_model_type': 'chat', 'ls_temperature': 0.7}, 'parent_ids': ['3c70990f-0475-4571-b48a-d31e485d7115', 'fac07a1c-0549-4921-b162-216bb7a0ad8d']} \n",
      "\n",
      "\n",
      "{'event': 'on_chat_model_stream', 'data': {'chunk': AIMessageChunk(content='?', additional_kwargs={}, response_metadata={}, id='run--e08df820-6dd1-488a-aaea-53201f44ab9b')}, 'run_id': 'e08df820-6dd1-488a-aaea-53201f44ab9b', 'name': 'ChatGroq', 'tags': ['seq:step:1'], 'metadata': {'langgraph_step': 1, 'langgraph_node': 'chatbot', 'langgraph_triggers': ('branch:to:chatbot',), 'langgraph_path': ('__pregel_pull', 'chatbot'), 'langgraph_checkpoint_ns': 'chatbot:a64b279e-f133-ba4c-0ecc-28fa66ab8216', 'checkpoint_ns': 'chatbot:a64b279e-f133-ba4c-0ecc-28fa66ab8216', 'ls_provider': 'groq', 'ls_model_name': 'llama-3.1-8b-instant', 'ls_model_type': 'chat', 'ls_temperature': 0.7}, 'parent_ids': ['3c70990f-0475-4571-b48a-d31e485d7115', 'fac07a1c-0549-4921-b162-216bb7a0ad8d']} \n",
      "\n",
      "\n",
      "{'event': 'on_chat_model_stream', 'data': {'chunk': AIMessageChunk(content='', additional_kwargs={}, response_metadata={'finish_reason': 'stop', 'model_name': 'llama-3.1-8b-instant', 'system_fingerprint': 'fp_510c177af0', 'service_tier': 'on_demand'}, id='run--e08df820-6dd1-488a-aaea-53201f44ab9b', usage_metadata={'input_tokens': 1792, 'output_tokens': 64, 'total_tokens': 1856})}, 'run_id': 'e08df820-6dd1-488a-aaea-53201f44ab9b', 'name': 'ChatGroq', 'tags': ['seq:step:1'], 'metadata': {'langgraph_step': 1, 'langgraph_node': 'chatbot', 'langgraph_triggers': ('branch:to:chatbot',), 'langgraph_path': ('__pregel_pull', 'chatbot'), 'langgraph_checkpoint_ns': 'chatbot:a64b279e-f133-ba4c-0ecc-28fa66ab8216', 'checkpoint_ns': 'chatbot:a64b279e-f133-ba4c-0ecc-28fa66ab8216', 'ls_provider': 'groq', 'ls_model_name': 'llama-3.1-8b-instant', 'ls_model_type': 'chat', 'ls_temperature': 0.7}, 'parent_ids': ['3c70990f-0475-4571-b48a-d31e485d7115', 'fac07a1c-0549-4921-b162-216bb7a0ad8d']} \n",
      "\n",
      "\n",
      "{'event': 'on_chat_model_end', 'data': {'output': AIMessage(content=\"I'm just a language model, so I don't have feelings or emotions like humans do, but I'm functioning properly and ready to help you with any questions or tasks you may have! How can I assist you today? Would you like to search for some information using the 'tavily_search' function?\", additional_kwargs={}, response_metadata={'finish_reason': 'stop', 'model_name': 'llama-3.1-8b-instant', 'system_fingerprint': 'fp_510c177af0', 'service_tier': 'on_demand'}, id='run--e08df820-6dd1-488a-aaea-53201f44ab9b', usage_metadata={'input_tokens': 1792, 'output_tokens': 64, 'total_tokens': 1856}), 'input': {'messages': [[HumanMessage(content='Hi, how are you?', additional_kwargs={}, response_metadata={}, id='31a14430-1b55-45ee-8309-7410406bf172')]]}}, 'run_id': 'e08df820-6dd1-488a-aaea-53201f44ab9b', 'name': 'ChatGroq', 'tags': ['seq:step:1'], 'metadata': {'langgraph_step': 1, 'langgraph_node': 'chatbot', 'langgraph_triggers': ('branch:to:chatbot',), 'langgraph_path': ('__pregel_pull', 'chatbot'), 'langgraph_checkpoint_ns': 'chatbot:a64b279e-f133-ba4c-0ecc-28fa66ab8216', 'checkpoint_ns': 'chatbot:a64b279e-f133-ba4c-0ecc-28fa66ab8216', 'ls_provider': 'groq', 'ls_model_name': 'llama-3.1-8b-instant', 'ls_model_type': 'chat', 'ls_temperature': 0.7, 'LANGSMITH_TRACING': 'true', 'LANGSMITH_ENDPOINT': 'https://api.smith.langchain.com', 'revision_id': '6f1655f-dirty'}, 'parent_ids': ['3c70990f-0475-4571-b48a-d31e485d7115', 'fac07a1c-0549-4921-b162-216bb7a0ad8d']} \n",
      "\n",
      "\n",
      "{'event': 'on_chain_start', 'data': {'input': {'messages': [HumanMessage(content='Hi, how are you?', additional_kwargs={}, response_metadata={}, id='31a14430-1b55-45ee-8309-7410406bf172'), AIMessage(content=\"I'm just a language model, so I don't have feelings or emotions like humans do, but I'm functioning properly and ready to help you with any questions or tasks you may have! How can I assist you today? Would you like to search for some information using the 'tavily_search' function?\", additional_kwargs={}, response_metadata={'finish_reason': 'stop', 'model_name': 'llama-3.1-8b-instant', 'system_fingerprint': 'fp_510c177af0', 'service_tier': 'on_demand'}, id='run--e08df820-6dd1-488a-aaea-53201f44ab9b', usage_metadata={'input_tokens': 1792, 'output_tokens': 64, 'total_tokens': 1856})]}}, 'name': 'tools_condition', 'tags': ['seq:step:3'], 'run_id': '35316c88-b97d-411d-ae1f-2702844170e8', 'metadata': {'langgraph_step': 1, 'langgraph_node': 'chatbot', 'langgraph_triggers': ('branch:to:chatbot',), 'langgraph_path': ('__pregel_pull', 'chatbot'), 'langgraph_checkpoint_ns': 'chatbot:a64b279e-f133-ba4c-0ecc-28fa66ab8216'}, 'parent_ids': ['3c70990f-0475-4571-b48a-d31e485d7115', 'fac07a1c-0549-4921-b162-216bb7a0ad8d']} \n",
      "\n",
      "\n",
      "{'event': 'on_chain_end', 'data': {'output': '__end__', 'input': {'messages': [HumanMessage(content='Hi, how are you?', additional_kwargs={}, response_metadata={}, id='31a14430-1b55-45ee-8309-7410406bf172'), AIMessage(content=\"I'm just a language model, so I don't have feelings or emotions like humans do, but I'm functioning properly and ready to help you with any questions or tasks you may have! How can I assist you today? Would you like to search for some information using the 'tavily_search' function?\", additional_kwargs={}, response_metadata={'finish_reason': 'stop', 'model_name': 'llama-3.1-8b-instant', 'system_fingerprint': 'fp_510c177af0', 'service_tier': 'on_demand'}, id='run--e08df820-6dd1-488a-aaea-53201f44ab9b', usage_metadata={'input_tokens': 1792, 'output_tokens': 64, 'total_tokens': 1856})]}}, 'run_id': '35316c88-b97d-411d-ae1f-2702844170e8', 'name': 'tools_condition', 'tags': ['seq:step:3'], 'metadata': {'langgraph_step': 1, 'langgraph_node': 'chatbot', 'langgraph_triggers': ('branch:to:chatbot',), 'langgraph_path': ('__pregel_pull', 'chatbot'), 'langgraph_checkpoint_ns': 'chatbot:a64b279e-f133-ba4c-0ecc-28fa66ab8216', 'LANGSMITH_TRACING': 'true', 'LANGSMITH_ENDPOINT': 'https://api.smith.langchain.com', 'revision_id': '6f1655f-dirty'}, 'parent_ids': ['3c70990f-0475-4571-b48a-d31e485d7115', 'fac07a1c-0549-4921-b162-216bb7a0ad8d']} \n",
      "\n",
      "\n",
      "{'event': 'on_chain_stream', 'run_id': 'fac07a1c-0549-4921-b162-216bb7a0ad8d', 'name': 'chatbot', 'tags': ['graph:step:1'], 'metadata': {'langgraph_step': 1, 'langgraph_node': 'chatbot', 'langgraph_triggers': ('branch:to:chatbot',), 'langgraph_path': ('__pregel_pull', 'chatbot'), 'langgraph_checkpoint_ns': 'chatbot:a64b279e-f133-ba4c-0ecc-28fa66ab8216'}, 'data': {'chunk': {'messages': [AIMessage(content=\"I'm just a language model, so I don't have feelings or emotions like humans do, but I'm functioning properly and ready to help you with any questions or tasks you may have! How can I assist you today? Would you like to search for some information using the 'tavily_search' function?\", additional_kwargs={}, response_metadata={'finish_reason': 'stop', 'model_name': 'llama-3.1-8b-instant', 'system_fingerprint': 'fp_510c177af0', 'service_tier': 'on_demand'}, id='run--e08df820-6dd1-488a-aaea-53201f44ab9b', usage_metadata={'input_tokens': 1792, 'output_tokens': 64, 'total_tokens': 1856})]}}, 'parent_ids': ['3c70990f-0475-4571-b48a-d31e485d7115']} \n",
      "\n",
      "\n",
      "{'event': 'on_chain_end', 'data': {'output': {'messages': [AIMessage(content=\"I'm just a language model, so I don't have feelings or emotions like humans do, but I'm functioning properly and ready to help you with any questions or tasks you may have! How can I assist you today? Would you like to search for some information using the 'tavily_search' function?\", additional_kwargs={}, response_metadata={'finish_reason': 'stop', 'model_name': 'llama-3.1-8b-instant', 'system_fingerprint': 'fp_510c177af0', 'service_tier': 'on_demand'}, id='run--e08df820-6dd1-488a-aaea-53201f44ab9b', usage_metadata={'input_tokens': 1792, 'output_tokens': 64, 'total_tokens': 1856})]}, 'input': {'messages': [HumanMessage(content='Hi, how are you?', additional_kwargs={}, response_metadata={}, id='31a14430-1b55-45ee-8309-7410406bf172')]}}, 'run_id': 'fac07a1c-0549-4921-b162-216bb7a0ad8d', 'name': 'chatbot', 'tags': ['graph:step:1'], 'metadata': {'langgraph_step': 1, 'langgraph_node': 'chatbot', 'langgraph_triggers': ('branch:to:chatbot',), 'langgraph_path': ('__pregel_pull', 'chatbot'), 'langgraph_checkpoint_ns': 'chatbot:a64b279e-f133-ba4c-0ecc-28fa66ab8216', 'LANGSMITH_TRACING': 'true', 'LANGSMITH_ENDPOINT': 'https://api.smith.langchain.com', 'revision_id': '6f1655f-dirty'}, 'parent_ids': ['3c70990f-0475-4571-b48a-d31e485d7115']} \n",
      "\n",
      "\n",
      "{'event': 'on_chain_stream', 'run_id': '3c70990f-0475-4571-b48a-d31e485d7115', 'name': 'LangGraph', 'tags': [], 'metadata': {}, 'data': {'chunk': {'chatbot': {'messages': [AIMessage(content=\"I'm just a language model, so I don't have feelings or emotions like humans do, but I'm functioning properly and ready to help you with any questions or tasks you may have! How can I assist you today? Would you like to search for some information using the 'tavily_search' function?\", additional_kwargs={}, response_metadata={'finish_reason': 'stop', 'model_name': 'llama-3.1-8b-instant', 'system_fingerprint': 'fp_510c177af0', 'service_tier': 'on_demand'}, id='run--e08df820-6dd1-488a-aaea-53201f44ab9b', usage_metadata={'input_tokens': 1792, 'output_tokens': 64, 'total_tokens': 1856})]}}}, 'parent_ids': []} \n",
      "\n",
      "\n",
      "{'event': 'on_chain_end', 'data': {'output': {'messages': [HumanMessage(content='Hi, how are you?', additional_kwargs={}, response_metadata={}, id='31a14430-1b55-45ee-8309-7410406bf172'), AIMessage(content=\"I'm just a language model, so I don't have feelings or emotions like humans do, but I'm functioning properly and ready to help you with any questions or tasks you may have! How can I assist you today? Would you like to search for some information using the 'tavily_search' function?\", additional_kwargs={}, response_metadata={'finish_reason': 'stop', 'model_name': 'llama-3.1-8b-instant', 'system_fingerprint': 'fp_510c177af0', 'service_tier': 'on_demand'}, id='run--e08df820-6dd1-488a-aaea-53201f44ab9b', usage_metadata={'input_tokens': 1792, 'output_tokens': 64, 'total_tokens': 1856})]}}, 'run_id': '3c70990f-0475-4571-b48a-d31e485d7115', 'name': 'LangGraph', 'tags': [], 'metadata': {}, 'parent_ids': []} \n",
      "\n",
      "\n"
     ]
    }
   ],
   "source": [
    "input = {\n",
    "    \"messages\": [\"Hi, how are you?\"]\n",
    "}\n",
    "\n",
    "#Stream the events as they happen inside the node, not at the end of the node! And use latest version - v2.  \n",
    "events = app.astream_events(input=input, version=\"v2\")\n",
    "\n",
    "# Async is used because this is an asynchronous operation.\n",
    "async for event in events: \n",
    "    print(event, \"\\n\\n\")"
   ]
  },
  {
   "cell_type": "code",
   "execution_count": 123,
   "id": "2d860bd2",
   "metadata": {},
   "outputs": [
    {
     "name": "stdout",
     "output_type": "stream",
     "text": [
      "I'm a large language model, so I don't have a physical body or emotions. However, I'm functioning properly and ready to assist you with any questions or information you may need. What would you like to talk about or learn today?"
     ]
    }
   ],
   "source": [
    "input = {\n",
    "    \"messages\": [\"Hi, how are you? Tell me everything!\"]\n",
    "}\n",
    "\n",
    "#Stream the events as they happen inside the node, not at the end of the node!\n",
    "events = app.astream_events(input=input, version=\"v2\")\n",
    "\n",
    "#We are only interested in the streams emitted by the LLM - on_chat_model_stream\n",
    "async for event in events: \n",
    "    if event[\"event\"] == \"on_chat_model_stream\":\n",
    "        print(event[\"data\"][\"chunk\"].content, end=\"\", flush=True) #Flush everything from the buffer as and when some value is stored in it\n",
    "        \n",
    "#We can also add langgraph_node as a condition, and then stream to the UI!"
   ]
  }
 ],
 "metadata": {
  "kernelspec": {
   "display_name": "Python 3 (ipykernel)",
   "language": "python",
   "name": "python3"
  },
  "language_info": {
   "codemirror_mode": {
    "name": "ipython",
    "version": 3
   },
   "file_extension": ".py",
   "mimetype": "text/x-python",
   "name": "python",
   "nbconvert_exporter": "python",
   "pygments_lexer": "ipython3",
   "version": "3.12.11"
  },
  "varInspector": {
   "cols": {
    "lenName": 16,
    "lenType": 16,
    "lenVar": 40
   },
   "kernels_config": {
    "python": {
     "delete_cmd_postfix": "",
     "delete_cmd_prefix": "del ",
     "library": "var_list.py",
     "varRefreshCmd": "print(var_dic_list())"
    },
    "r": {
     "delete_cmd_postfix": ") ",
     "delete_cmd_prefix": "rm(",
     "library": "var_list.r",
     "varRefreshCmd": "cat(var_dic_list()) "
    }
   },
   "types_to_exclude": [
    "module",
    "function",
    "builtin_function_or_method",
    "instance",
    "_Feature"
   ],
   "window_display": false
  }
 },
 "nbformat": 4,
 "nbformat_minor": 5
}
