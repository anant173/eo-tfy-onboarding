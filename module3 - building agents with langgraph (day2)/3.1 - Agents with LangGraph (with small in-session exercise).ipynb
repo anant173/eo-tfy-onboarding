{
 "cells": [
  {
   "cell_type": "markdown",
   "id": "b86a89f2",
   "metadata": {},
   "source": [
    "# Initial Setup"
   ]
  },
  {
   "cell_type": "code",
   "execution_count": 1,
   "id": "a7bd3c5e",
   "metadata": {},
   "outputs": [
    {
     "data": {
      "text/html": [
       "<style>.container { width:100% !important; }</style>"
      ],
      "text/plain": [
       "<IPython.core.display.HTML object>"
      ]
     },
     "metadata": {},
     "output_type": "display_data"
    }
   ],
   "source": [
    "from IPython.display import display, HTML\n",
    "display(HTML(\"<style>.container { width:100% !important; }</style>\"))"
   ]
  },
  {
   "cell_type": "code",
   "execution_count": 2,
   "id": "7c6b38b3",
   "metadata": {},
   "outputs": [],
   "source": [
    "# !uv pip install langchain_google_genai langchain langchain_community langchain-groq langchain_openai langgraph grandalf"
   ]
  },
  {
   "cell_type": "code",
   "execution_count": 3,
   "id": "388ccaa4",
   "metadata": {},
   "outputs": [],
   "source": [
    "from IPython.display import Image, display\n",
    "from langchain_openai import ChatOpenAI\n",
    "from dotenv import load_dotenv\n",
    "from langchain.agents import initialize_agent, tool\n",
    "from langchain_community.tools import TavilySearchResults\n",
    "import datetime, os, getpass"
   ]
  },
  {
   "cell_type": "code",
   "execution_count": 4,
   "id": "20899c19",
   "metadata": {},
   "outputs": [
    {
     "data": {
      "text/plain": [
       "True"
      ]
     },
     "execution_count": 4,
     "metadata": {},
     "output_type": "execute_result"
    }
   ],
   "source": [
    "load_dotenv(override=True)"
   ]
  },
  {
   "cell_type": "code",
   "execution_count": 5,
   "id": "380584d4",
   "metadata": {},
   "outputs": [],
   "source": [
    "#Check for environment variables\n",
    "def _set_env(var: str):\n",
    "    if not os.environ.get(var):\n",
    "        os.environ[var] = getpass.getpass(f\"{var}: \")"
   ]
  },
  {
   "cell_type": "code",
   "execution_count": 6,
   "id": "9ce73b5b",
   "metadata": {},
   "outputs": [],
   "source": [
    "#Make sure this exists\n",
    "_set_env(\"OPENAI_API_KEY\")"
   ]
  },
  {
   "cell_type": "code",
   "execution_count": 272,
   "id": "e7b6d46d",
   "metadata": {},
   "outputs": [],
   "source": [
    "# #Set the following env variables\n",
    "# LANGSMITH_TRACING=\"true\"\n",
    "# LANGSMITH_ENDPOINT=\"https://api.smith.langchain.com\"\n",
    "# LANGSMITH_API_KEY=\"<your-api-key>\"\n",
    "# LANGSMITH_PROJECT=\"your-project-name\""
   ]
  },
  {
   "cell_type": "code",
   "execution_count": 32,
   "id": "5d80afa7",
   "metadata": {},
   "outputs": [],
   "source": [
    "#Checks\n",
    "_set_env(\"LANGSMITH_TRACING\")\n",
    "_set_env(\"LANGSMITH_ENDPOINT\")\n",
    "_set_env(\"LANGSMITH_API_KEY\")\n",
    "_set_env(\"LANGCHAIN_PROJECT\")"
   ]
  },
  {
   "cell_type": "markdown",
   "id": "a192214d",
   "metadata": {},
   "source": [
    "**All invocations of LangChain runnables within your applications are automatically traced, by setting the above environment variables. For other scenarios, there are other ways to do this.**"
   ]
  },
  {
   "cell_type": "markdown",
   "id": "cf58785b",
   "metadata": {},
   "source": [
    "# Basic ReACT Agent"
   ]
  },
  {
   "cell_type": "code",
   "execution_count": 7,
   "id": "57cee9bc",
   "metadata": {},
   "outputs": [],
   "source": [
    "model_name = \"gpt-4o-mini\"\n",
    "llm = ChatOpenAI(\n",
    "    model = model_name\n",
    "#     temperature=0,\n",
    "#     max_tokens=None,\n",
    "#     timeout=None,\n",
    "#     max_retries=2,\n",
    ")"
   ]
  },
  {
   "cell_type": "code",
   "execution_count": 8,
   "id": "04a6b29e",
   "metadata": {},
   "outputs": [
    {
     "name": "stderr",
     "output_type": "stream",
     "text": [
      "/var/folders/lf/hqk7z7j55856d37927df0b2w0000gn/T/ipykernel_7826/3131362913.py:1: LangChainDeprecationWarning: The class `TavilySearchResults` was deprecated in LangChain 0.3.25 and will be removed in 1.0. An updated version of the class exists in the :class:`~langchain-tavily package and should be used instead. To use it run `pip install -U :class:`~langchain-tavily` and import as `from :class:`~langchain_tavily import TavilySearch``.\n",
      "  search_tool = TavilySearchResults(search_depth=\"basic\")\n"
     ]
    }
   ],
   "source": [
    "search_tool = TavilySearchResults(search_depth=\"basic\")"
   ]
  },
  {
   "cell_type": "code",
   "execution_count": 9,
   "id": "2e94f556",
   "metadata": {},
   "outputs": [],
   "source": [
    "@tool\n",
    "def get_system_time(format: str = \"%Y-%m-%d %H:%M:%S\"):\n",
    "    \"\"\" Returns the current date and time in the specified format \"\"\"\n",
    "\n",
    "    current_time = datetime.datetime.now()\n",
    "    formatted_time = current_time.strftime(format)\n",
    "    return formatted_time"
   ]
  },
  {
   "cell_type": "code",
   "execution_count": 10,
   "id": "8e17a2ec",
   "metadata": {},
   "outputs": [],
   "source": [
    "tools = [search_tool, get_system_time]"
   ]
  },
  {
   "cell_type": "code",
   "execution_count": 12,
   "id": "535e9b73",
   "metadata": {},
   "outputs": [],
   "source": [
    "#LangChain's in-built class using initialize_agent and AgentExecutor\n",
    "agent = initialize_agent(tools=tools, llm=llm, agent=\"zero-shot-react-description\", verbose=True)"
   ]
  },
  {
   "cell_type": "code",
   "execution_count": 13,
   "id": "fbfe52fa",
   "metadata": {},
   "outputs": [
    {
     "name": "stdout",
     "output_type": "stream",
     "text": [
      "\n",
      "\n",
      "\u001b[1m> Entering new AgentExecutor chain...\u001b[0m\n",
      "\u001b[32;1m\u001b[1;3mI need to gather information about TrueFoundry to understand what it is and what services or products it offers. I'll start by searching for it online to get the most accurate and up-to-date information.  \n",
      "Action: tavily_search_results_json  \n",
      "Action Input: \"What is TrueFoundry?\"  \u001b[0m\n",
      "Observation: \u001b[36;1m\u001b[1;3m[{'title': 'TrueFoundry: Enterprise‑Ready Agentic AI', 'url': 'https://www.truefoundry.com/', 'content': 'Enterprise‑Ready Agentic AI | TrueFoundry How Nvidia uses LLM Agents to Optimize GPU Cluster Utilization # Enterprise‑Ready Agentic AI — Secure, Scalable, Governed ## Govern, Deploy, Scale & Trace Agentic AI in One Unified Platform ## Orchestrate Agentic AI with AI Gateway Enable intelligent multi-step reasoning, tool usage, and memory with full control and visibility across your AI agents and workflows. ## Deploy and Scale Any Agentic AI Workload ### Host any AI Model Provision dedicated Model Control Protocol (MCP) servers to manage agent traffic, scale model access, enforce rate limits, and isolate workloads by team or project. reduction in time-to-production for models TrueFoundry boosted our model deployment velocity across teams.', 'score': 0.98521}, {'title': 'What does TrueFoundry do? - Medium', 'url': 'https://medium.com/@khotijahs1/what-does-truefoundry-do-6c23fda2ee5e', 'content': 'TrueFoundry provides data scientists and ML engineers with the fastest post-model pipeline framework. Enable instant monitoring endpoints for your models in 15', 'score': 0.98338}, {'title': 'TrueFoundry - LinkedIn', 'url': 'https://www.linkedin.com/company/truefoundry', 'content': 'Overview:\\nTrueFoundry is a Cloud-native PaaS for Machine learning teams to build, deploy and ship ML/LLM Applications on their own cloud/on-prem Infra in a faster, scalable, cost efficient way with the right governance controls, allowing them to achieve 90% faster time to value than other teams. TrueFoundry abstracts out the engineering required and offers GenAI accelerators - LLM PlayGround, LLM Gateway, LLM Deploy, LLM Finetune, RAG Playground and Application Templates that can enable an organisation to speed up the layout of their overall GenAI/LLMOps framework. Enterprises can plug and play these accelerators with their internal systems as well as build on top of our accelerators to enable a LLMOps platform of their choice to the GenAI developers. TrueFoundry is modular and completely API driven, has native integration with popular tools in the market like LangChain, VectorDBs, GuardRails, etc. TrueFoundry works with 25+ Fortune 500 Companies as well as hi-Tech midmarket companies including likes of WadhwaniAI, WhatFix, 2 Fortune 100 healthcare, Games24x7, AvisoAI etc. TrueFoundry is backed by Sequoia, Eniac & Angels like Naval Ravikant, Anthony Goldbloom & 50+ AI & ML leaders from top tech companies, Fortune 500 CXOs and founders at Unicorns like AlphaSense, Innovaccer, WhatFix, Rubrik etc.\\n\\nWebsite: https://truefoundry.com/\\nCrunchbase Url: https://www.crunchbase.com/organization/truefoundry?utm_source=linkedin&utm_medium=referral&utm_campaign=linkedin_companies&utm_content=profile_cta_anon&trk=funding_crunchbase\\nLinkedin Url: https://www.linkedin.com/company/truefoundry\\n\\nIndustry:\\nSoftware Development\\n\\nCompany size:\\n11-50 employees\\n71 associated members (LinkedIn members who’ve listed TrueFoundry as their current workplace on their profile)\\n\\nFounded:\\n2021\\n\\nFunding:\\nLast Round Date: 2025-03-06T00:00:00.000Z\\nLast Round Type: Series A\\nTotal Rounds: 3\\nLast Round Raised: US$ 19.0M\\n\\nInvestors:\\nIntel Capital, + 9 Other investors', 'score': 0.97606}, {'title': 'AWS Marketplace: TrueFoundry - Amazon.com', 'url': 'https://aws.amazon.com/marketplace/pp/prodview-rbdp6sy6y2lpq', 'content': 'TrueFoundry offers an AI platform designed to streamline the training and deployment of machine learning models on Kubernetes.', 'score': 0.97544}, {'title': 'TrueFoundry - GitHub', 'url': 'https://github.com/truefoundry', 'content': 'TrueFoundry is a cloud-agnostic PaaS running on Kubernetes that standardizes model training & deployments for ML/LLMs using developer-friendly APIs.', 'score': 0.9694}]\u001b[0m\n",
      "Thought:\u001b[32;1m\u001b[1;3mI now know that TrueFoundry is a cloud-native platform designed for machine learning (ML) teams to help them build, deploy, and manage their ML and large language model (LLM) applications efficiently. The platform aims to reduce the time and complexity involved in deploying models and includes various features such as GenAI accelerators, model control protocols, and native integration with popular toolsets. TrueFoundry has been recognized for enabling organizations to achieve significantly faster time-to-value and supports various enterprise applications with a modular API-driven design. \n",
      "\n",
      "Final Answer: TrueFoundry is a cloud-native Platform as a Service (PaaS) designed for ML teams to build, deploy, and manage ML and LLM applications efficiently, providing features that streamline the development and governance of AI workloads.\u001b[0m\n",
      "\n",
      "\u001b[1m> Finished chain.\u001b[0m\n"
     ]
    },
    {
     "data": {
      "text/plain": [
       "{'input': 'What is TrueFoundry?',\n",
       " 'output': 'TrueFoundry is a cloud-native Platform as a Service (PaaS) designed for ML teams to build, deploy, and manage ML and LLM applications efficiently, providing features that streamline the development and governance of AI workloads.'}"
      ]
     },
     "execution_count": 13,
     "metadata": {},
     "output_type": "execute_result"
    }
   ],
   "source": [
    "agent.invoke(\"What is TrueFoundry?\")"
   ]
  },
  {
   "cell_type": "markdown",
   "id": "c16e1ecd",
   "metadata": {},
   "source": [
    "# Basic Reflection Agent"
   ]
  },
  {
   "cell_type": "code",
   "execution_count": 120,
   "id": "4bb11712",
   "metadata": {},
   "outputs": [],
   "source": [
    "from langchain_core.prompts import ChatPromptTemplate, MessagesPlaceholder\n",
    "from typing import List, Sequence\n",
    "from langchain_core.messages import BaseMessage, HumanMessage\n",
    "from langgraph.graph import StateGraph, END, MessagesState"
   ]
  },
  {
   "cell_type": "markdown",
   "id": "50a9ed18",
   "metadata": {},
   "source": [
    "**Also, cover how the MessagesState uses the add_messages reducer function under the hood.**"
   ]
  },
  {
   "cell_type": "code",
   "execution_count": 150,
   "id": "335c4008",
   "metadata": {},
   "outputs": [],
   "source": [
    "generation_prompt = ChatPromptTemplate.from_messages(\n",
    "    [\n",
    "        (\n",
    "            \"system\",\n",
    "            \"You are a twitter techie influencer assistant tasked with writing excellent twitter posts.\"\n",
    "            \" Generate the best twitter post possible for the user's request.\"\n",
    "            \" If the user provides critique, respond with a revised version of your previous attempts.\",\n",
    "        ),\n",
    "        MessagesPlaceholder(variable_name=\"messages\"),\n",
    "    ]\n",
    ")"
   ]
  },
  {
   "cell_type": "code",
   "execution_count": 151,
   "id": "6dbb11e8",
   "metadata": {},
   "outputs": [],
   "source": [
    "reflection_prompt = ChatPromptTemplate.from_messages(\n",
    "    [\n",
    "        (\n",
    "            \"system\",\n",
    "            \"You are a viral twitter influencer grading a tweet. Your task is to critique the user's tweet.\"\n",
    "            \" Provide a few recommendations in less than a line for improvement. If the tweet is excellent and no more revisions are needed, end your critique with the word 'STOP'.\"\n",
    "            \" If more revisions are needed, end your critique with the word 'REVISE'.\",\n",
    "        ),\n",
    "        MessagesPlaceholder(variable_name=\"messages\"),\n",
    "    ]\n",
    ")"
   ]
  },
  {
   "cell_type": "code",
   "execution_count": 152,
   "id": "046701e1",
   "metadata": {},
   "outputs": [],
   "source": [
    "generation_chain = generation_prompt | llm\n",
    "reflection_chain = reflection_prompt | llm"
   ]
  },
  {
   "cell_type": "code",
   "execution_count": 153,
   "id": "9ad066c6",
   "metadata": {},
   "outputs": [],
   "source": [
    "REFLECT = \"reflect\"\n",
    "GENERATE = \"generate\""
   ]
  },
  {
   "cell_type": "code",
   "execution_count": 154,
   "id": "a8a4856f",
   "metadata": {},
   "outputs": [],
   "source": [
    "#Define generate node\n",
    "def generate_node(state: MessagesState):\n",
    "    response = generation_chain.invoke({\n",
    "        \"messages\": state['messages']\n",
    "    })\n",
    "    return {\"messages\": [response]} # Return a dictionary with the new message to append to the state."
   ]
  },
  {
   "cell_type": "code",
   "execution_count": 155,
   "id": "5f5d3b83",
   "metadata": {},
   "outputs": [],
   "source": [
    "#Define reflect node\n",
    "def reflect_node(state: MessagesState):\n",
    "    last_ai_message = state[\"messages\"][-1]\n",
    "    response = reflection_chain.invoke({\"messages\": [last_ai_message]})\n",
    "    \n",
    "    return {\"messages\": [HumanMessage(content=response.content)]}"
   ]
  },
  {
   "cell_type": "code",
   "execution_count": 161,
   "id": "b3b2df62",
   "metadata": {},
   "outputs": [],
   "source": [
    "def should_continue(state: MessagesState):\n",
    "    \"\"\"\n",
    "    Determines whether to continue the reflection loop based on the last critique.\n",
    "    \n",
    "    The reflection LLM is prompted to end its response with 'STOP' or 'REVISE'.\n",
    "    We check for this signal.\n",
    "    \"\"\"\n",
    "    last_message = state[\"messages\"][-1]\n",
    "    if \"STOP\" in last_message.content.upper():\n",
    "        return \"end\"  # The critique says the tweet is good, so we end.\n",
    "    elif (len(state[\"messages\"]) > 6):\n",
    "        return \"end\"\n",
    "    else:\n",
    "        return \"generate\"  # The critique says to revise, so we go back to the generate node."
   ]
  },
  {
   "cell_type": "code",
   "execution_count": 162,
   "id": "fe76c4f8",
   "metadata": {},
   "outputs": [],
   "source": [
    "# ## EXERCISE - SPOT THE ERRORS\n",
    "# #Create graph\n",
    "# graph = StateGraph(MessagesState)\n",
    "\n",
    "# #Add nodes\n",
    "# graph.add_node(GENERATE, generate_node)\n",
    "# graph.add_node(REFLECT, reflect_node)\n",
    "\n",
    "# #Set the entry point\n",
    "# graph.set_entry_point(GENERATE)\n",
    "\n",
    "# #Add edges\n",
    "# graph.add_conditional_edges(GENERATE, should_continue)\n",
    "# graph.add_edge(REFLECT, GENERATE)\n",
    "\n",
    "# app = graph.compile()\n",
    "\n",
    "# display(Image(app.get_graph(xray=True).draw_mermaid_png()))"
   ]
  },
  {
   "cell_type": "code",
   "execution_count": 163,
   "id": "5081856c",
   "metadata": {},
   "outputs": [],
   "source": [
    "#Create graph\n",
    "graph = StateGraph(MessagesState)\n",
    "\n",
    "#Add nodes\n",
    "graph.add_node(GENERATE, generate_node)\n",
    "graph.add_node(REFLECT, reflect_node)\n",
    "\n",
    "#Set the entry point\n",
    "graph.set_entry_point(GENERATE)\n",
    "\n",
    "#Add edges\n",
    "graph.add_edge(GENERATE, REFLECT)\n",
    "graph.add_conditional_edges(REFLECT, \n",
    "                            should_continue,\n",
    "                           {\n",
    "                               \"generate\": GENERATE,\n",
    "                               \"end\": END\n",
    "                           })\n",
    "\n",
    "app = graph.compile()"
   ]
  },
  {
   "cell_type": "code",
   "execution_count": 164,
   "id": "fff0906c",
   "metadata": {},
   "outputs": [
    {
     "data": {
      "image/png": "[encoded data removed]",
      "text/plain": [
       "<IPython.core.display.Image object>"
      ]
     },
     "metadata": {},
     "output_type": "display_data"
    }
   ],
   "source": [
    "display(Image(app.get_graph(xray=True).draw_mermaid_png()))"
   ]
  },
  {
   "cell_type": "code",
   "execution_count": 165,
   "id": "2612229d",
   "metadata": {
    "scrolled": false
   },
   "outputs": [
    {
     "name": "stdout",
     "output_type": "stream",
     "text": [
      "{'messages': [HumanMessage(content='1 line on Indo-US relations', additional_kwargs={}, response_metadata={}, id='3ec90343-14b2-447c-872c-f9b87c14e4f2'), AIMessage(content='\"Strengthening ties, the Indo-US partnership is a powerful blend of innovation, diplomacy, and shared values driving global progress! 🇺🇸🤝🇮🇳 #IndoUSRelations\"', additional_kwargs={'refusal': None}, response_metadata={'token_usage': {'completion_tokens': 41, 'prompt_tokens': 59, 'total_tokens': 100, 'completion_tokens_details': {'accepted_prediction_tokens': 0, 'audio_tokens': 0, 'reasoning_tokens': 0, 'rejected_prediction_tokens': 0}, 'prompt_tokens_details': {'audio_tokens': 0, 'cached_tokens': 0}}, 'model_name': 'gpt-4o-mini-2024-07-18', 'system_fingerprint': 'fp_8bda4d3a2c', 'id': 'chatcmpl-CBx7c1JxJlXZ1BNtHMc4op66vZwSx', 'service_tier': 'default', 'finish_reason': 'stop', 'logprobs': None}, id='run--9ba4ba04-0a1d-4038-8667-dfc0bf0ae111-0', usage_metadata={'input_tokens': 59, 'output_tokens': 41, 'total_tokens': 100, 'input_token_details': {'audio': 0, 'cache_read': 0}, 'output_token_details': {'audio': 0, 'reasoning': 0}}), HumanMessage(content='The sentiment is strong, but it could use more engagement. Consider adding a question or a call to action to encourage interaction. Also, a personal touch or anecdote might enhance relatability. REVISE', additional_kwargs={}, response_metadata={}, id='332dc0f3-1f1f-43c8-8b5d-e8dc60739170'), AIMessage(content='\"From tech collaborations to defense ties, the Indo-US partnership is thriving! 🌍✨ What do you think is the most exciting opportunity for our countries in the next decade? Share your thoughts! 🇺🇸🤝🇮🇳 #IndoUSRelations\"', additional_kwargs={'refusal': None}, response_metadata={'token_usage': {'completion_tokens': 55, 'prompt_tokens': 149, 'total_tokens': 204, 'completion_tokens_details': {'accepted_prediction_tokens': 0, 'audio_tokens': 0, 'reasoning_tokens': 0, 'rejected_prediction_tokens': 0}, 'prompt_tokens_details': {'audio_tokens': 0, 'cached_tokens': 0}}, 'model_name': 'gpt-4o-mini-2024-07-18', 'system_fingerprint': 'fp_560af6e559', 'id': 'chatcmpl-CBx7fSe34YnFJufhYOMBPGMF6E8F7', 'service_tier': 'default', 'finish_reason': 'stop', 'logprobs': None}, id='run--0247b001-05e9-4a5b-8f00-4b73bb0e158b-0', usage_metadata={'input_tokens': 149, 'output_tokens': 55, 'total_tokens': 204, 'input_token_details': {'audio': 0, 'cache_read': 0}, 'output_token_details': {'audio': 0, 'reasoning': 0}}), HumanMessage(content='Great engagement prompt! To enhance it, consider making it more personal, maybe share your own thoughts first, or use a trending hashtag to broaden your reach. REVISE', additional_kwargs={}, response_metadata={}, id='13ca91ad-91f2-45d8-a5f7-5e578e7298af'), AIMessage(content='\"As someone who thrives on innovation, I’m thrilled about the Indo-US partnership, especially in tech and sustainability! 🌍✨ I believe our collaboration can lead to groundbreaking solutions. What do you think is the most exciting opportunity for our countries in the next decade? Share your thoughts! 🇺🇸🤝🇮🇳 #IndoUSRelations #InnovationForChange\"', additional_kwargs={'refusal': None}, response_metadata={'token_usage': {'completion_tokens': 76, 'prompt_tokens': 246, 'total_tokens': 322, 'completion_tokens_details': {'accepted_prediction_tokens': 0, 'audio_tokens': 0, 'reasoning_tokens': 0, 'rejected_prediction_tokens': 0}, 'prompt_tokens_details': {'audio_tokens': 0, 'cached_tokens': 0}}, 'model_name': 'gpt-4o-mini-2024-07-18', 'system_fingerprint': 'fp_560af6e559', 'id': 'chatcmpl-CBx7jKA7tRRFWCLxECWBKiy6AWO7G', 'service_tier': 'default', 'finish_reason': 'stop', 'logprobs': None}, id='run--aaadf820-1601-4f87-8f8f-24bee759ee9f-0', usage_metadata={'input_tokens': 246, 'output_tokens': 76, 'total_tokens': 322, 'input_token_details': {'audio': 0, 'cache_read': 0}, 'output_token_details': {'audio': 0, 'reasoning': 0}}), HumanMessage(content='This tweet has a positive tone and encourages engagement, but it could be more concise. \\n\\n- Simplify your message for quicker readability.\\n- Use a more direct call-to-action for responses.\\n- Consider adding a personal touch or anecdote for relatability.\\n\\nREVISE', additional_kwargs={}, response_metadata={}, id='265e8a4f-6b5e-4453-947c-8751d4f59650')]}\n"
     ]
    }
   ],
   "source": [
    "response = app.invoke({\"messages\":[HumanMessage(content=\"1 line on Indo-US relations\")]})\n",
    "\n",
    "print(response)"
   ]
  },
  {
   "cell_type": "markdown",
   "id": "a7de5147",
   "metadata": {},
   "source": [
    "# State Deep-Dive"
   ]
  },
  {
   "cell_type": "markdown",
   "id": "e341de22",
   "metadata": {},
   "source": [
    "## Simple Implementation"
   ]
  },
  {
   "cell_type": "code",
   "execution_count": 29,
   "id": "4b7b99a1",
   "metadata": {},
   "outputs": [],
   "source": [
    "from typing import TypedDict, List, Annotated\n",
    "from langgraph.graph import END, StateGraph\n",
    "import operator"
   ]
  },
  {
   "cell_type": "code",
   "execution_count": 167,
   "id": "d6aab486",
   "metadata": {},
   "outputs": [],
   "source": [
    "class SimpleState(TypedDict):\n",
    "    count: int\n",
    "    sum: Annotated[int, operator.add]\n",
    "    history: Annotated[List[int], operator.concat]"
   ]
  },
  {
   "cell_type": "code",
   "execution_count": 168,
   "id": "f77be841",
   "metadata": {},
   "outputs": [],
   "source": [
    "def increment(state: SimpleState) -> SimpleState: \n",
    "\n",
    "    new_count = state[\"count\"] + 1\n",
    "\n",
    "    return {\n",
    "        \"count\": new_count, \n",
    "        \"sum\": new_count, \n",
    "        \"history\": [new_count]\n",
    "    }"
   ]
  },
  {
   "cell_type": "code",
   "execution_count": 169,
   "id": "c817d1e8",
   "metadata": {},
   "outputs": [],
   "source": [
    "def should_continue(state):\n",
    "    if(state[\"count\"] < 5): \n",
    "        return \"continue\"\n",
    "    else: \n",
    "        return \"stop\"\n",
    "    "
   ]
  },
  {
   "cell_type": "code",
   "execution_count": 170,
   "id": "1ba45dab",
   "metadata": {},
   "outputs": [],
   "source": [
    "#Initialize graph\n",
    "graph = StateGraph(SimpleState)\n",
    "\n",
    "#Add node\n",
    "graph.add_node(\"increment\", increment)\n",
    "\n",
    "#Set entry point\n",
    "graph.set_entry_point(\"increment\")\n",
    "\n",
    "# Add edges\n",
    "graph.add_conditional_edges(\n",
    "    \"increment\", \n",
    "    should_continue, \n",
    "    {\n",
    "        \"continue\": \"increment\", \n",
    "        \"stop\": END\n",
    "    }\n",
    ")\n",
    "\n",
    "#Compile\n",
    "app = graph.compile()"
   ]
  },
  {
   "cell_type": "code",
   "execution_count": 171,
   "id": "9a7954e3",
   "metadata": {},
   "outputs": [
    {
     "name": "stdout",
     "output_type": "stream",
     "text": [
      "{'count': 5, 'sum': 15, 'history': [1, 2, 3, 4, 5]}\n"
     ]
    }
   ],
   "source": [
    "state = {\n",
    "    \"count\": 0, \n",
    "    \"sum\": 0, \n",
    "    \"history\": []\n",
    "}\n",
    "\n",
    "result = app.invoke(state)\n",
    "print(result)"
   ]
  },
  {
   "cell_type": "markdown",
   "id": "6528b20d",
   "metadata": {},
   "source": [
    "## Better Implementation"
   ]
  },
  {
   "cell_type": "code",
   "execution_count": 172,
   "id": "fabc06dd",
   "metadata": {},
   "outputs": [],
   "source": [
    "#Define a complex state with annotations\n",
    "class ComplexState(TypedDict):\n",
    "    count: int\n",
    "    total_sum: Annotated[int, operator.add]\n",
    "    history: Annotated[List[int], operator.concat]"
   ]
  },
  {
   "cell_type": "code",
   "execution_count": 173,
   "id": "6e0135d7",
   "metadata": {},
   "outputs": [],
   "source": [
    "#Define a node to update the state\n",
    "def increment(state: ComplexState) -> ComplexState:\n",
    "    new_count = state[\"count\"] + 1\n",
    "    \n",
    "    # Return updates for each key. LangGraph handles the merging.\n",
    "    return {\n",
    "        \"count\": new_count,\n",
    "        \"total_sum\": new_count, # LangGraph will add this to the total_sum\n",
    "        \"history\": [new_count]  # LangGraph will concatenate this to the history list\n",
    "    }"
   ]
  },
  {
   "cell_type": "code",
   "execution_count": 177,
   "id": "a9c0660f",
   "metadata": {},
   "outputs": [],
   "source": [
    "#Define a condition for the loop\n",
    "def should_continue(state: ComplexState):\n",
    "    if state[\"count\"] < 5:\n",
    "        return \"continue\"\n",
    "    else:\n",
    "        return \"stop\"\n",
    "    "
   ]
  },
  {
   "cell_type": "code",
   "execution_count": 178,
   "id": "069367be",
   "metadata": {},
   "outputs": [],
   "source": [
    "#Build and compile the graph\n",
    "graph = StateGraph(ComplexState)\n",
    "graph.add_node(\"increment\", increment)\n",
    "graph.set_entry_point(\"increment\")\n",
    "graph.add_conditional_edges(\n",
    "    \"increment\",\n",
    "    should_continue,\n",
    "    {\n",
    "        \"continue\": \"increment\",\n",
    "        \"stop\": END\n",
    "    }\n",
    ")\n",
    "app = graph.compile()"
   ]
  },
  {
   "cell_type": "code",
   "execution_count": 179,
   "id": "74fd7a15",
   "metadata": {},
   "outputs": [
    {
     "name": "stdout",
     "output_type": "stream",
     "text": [
      "{'count': 5, 'total_sum': 15, 'history': [1, 2, 3, 4, 5]}\n"
     ]
    }
   ],
   "source": [
    "#Run the graph with an initial state\n",
    "state = {\n",
    "    \"count\": 0,\n",
    "    \"total_sum\": 0,\n",
    "    \"history\": []\n",
    "}\n",
    "result = app.invoke(state)\n",
    "print(result)"
   ]
  },
  {
   "cell_type": "markdown",
   "id": "e03829ff",
   "metadata": {},
   "source": [
    "# ReACT Agent using LangGraph - Part 1"
   ]
  },
  {
   "cell_type": "code",
   "execution_count": 34,
   "id": "80c2f6d6",
   "metadata": {},
   "outputs": [],
   "source": [
    "from langchain.agents import tool, create_react_agent\n",
    "from langgraph.graph import END, StateGraph\n",
    "import datetime\n",
    "from langchain_community.tools import TavilySearchResults\n",
    "from langchain import hub"
   ]
  },
  {
   "cell_type": "code",
   "execution_count": 15,
   "id": "9a13e348",
   "metadata": {},
   "outputs": [],
   "source": [
    "# Why do we want to use LangGraph instead of in-built LangChain function? - infinite loop problem and more control\n",
    "# Combines two key components - create_react_agent and AgentExecutor class (this we will eliminate in LangGraph) \n",
    "# AgentExecutor controls the looping between LangChain and LLM\n",
    "\n",
    "# What create_react_agent does -> Thought, action, action input and parses that into one of the 2 classes - AgentAction and AgentFinish\n",
    "# What AgentExecutor does -> Takes agent from create_react_agent and manages execution loop; receives user's question and feeds to agent"
   ]
  },
  {
   "cell_type": "markdown",
   "id": "a9ec37c4",
   "metadata": {},
   "source": [
    "## Reasoning Runnable"
   ]
  },
  {
   "cell_type": "code",
   "execution_count": 16,
   "id": "e2c27940",
   "metadata": {},
   "outputs": [],
   "source": [
    "@tool\n",
    "def get_system_time(format: str = \"%Y-%m-%d %H:%M:%S\"):\n",
    "    \"\"\" Returns the current date and time in the specified format \"\"\"\n",
    "\n",
    "    current_time = datetime.datetime.now()\n",
    "    formatted_time = current_time.strftime(format)\n",
    "    return formatted_time"
   ]
  },
  {
   "cell_type": "code",
   "execution_count": 17,
   "id": "5978da3e",
   "metadata": {},
   "outputs": [],
   "source": [
    "search_tool = TavilySearchResults(search_depth=\"basic\")"
   ]
  },
  {
   "cell_type": "code",
   "execution_count": 18,
   "id": "176ed371",
   "metadata": {},
   "outputs": [],
   "source": [
    "react_prompt = hub.pull(\"hwchase17/react\")"
   ]
  },
  {
   "cell_type": "code",
   "execution_count": 19,
   "id": "59d8ce1c",
   "metadata": {},
   "outputs": [
    {
     "name": "stdout",
     "output_type": "stream",
     "text": [
      "Answer the following questions as best you can. You have access to the following tools:\n",
      "\n",
      "{tools}\n",
      "\n",
      "Use the following format:\n",
      "\n",
      "Question: the input question you must answer\n",
      "Thought: you should always think about what to do\n",
      "Action: the action to take, should be one of [{tool_names}]\n",
      "Action Input: the input to the action\n",
      "Observation: the result of the action\n",
      "... (this Thought/Action/Action Input/Observation can repeat N times)\n",
      "Thought: I now know the final answer\n",
      "Final Answer: the final answer to the original input question\n",
      "\n",
      "Begin!\n",
      "\n",
      "Question: {input}\n",
      "Thought:{agent_scratchpad}\n"
     ]
    }
   ],
   "source": [
    "print(react_prompt.template)"
   ]
  },
  {
   "cell_type": "code",
   "execution_count": 20,
   "id": "0fdf733e",
   "metadata": {},
   "outputs": [],
   "source": [
    "tools = [get_system_time, search_tool]"
   ]
  },
  {
   "cell_type": "code",
   "execution_count": 21,
   "id": "93645df3",
   "metadata": {},
   "outputs": [],
   "source": [
    "react_agent_runnable = create_react_agent(tools=tools, llm=llm, prompt=react_prompt)"
   ]
  },
  {
   "cell_type": "markdown",
   "id": "69a61024",
   "metadata": {},
   "source": [
    "## State"
   ]
  },
  {
   "cell_type": "code",
   "execution_count": 22,
   "id": "c340e368",
   "metadata": {},
   "outputs": [],
   "source": [
    "import operator\n",
    "from typing import Annotated, TypedDict, Union\n",
    "from langchain_core.agents import AgentAction, AgentFinish"
   ]
  },
  {
   "cell_type": "code",
   "execution_count": 23,
   "id": "7dc28b42",
   "metadata": {},
   "outputs": [],
   "source": [
    "class AgentState(TypedDict):\n",
    "    input: str\n",
    "    agent_outcome: Union[AgentAction, AgentFinish, None]\n",
    "    intermediate_steps: Annotated[list[tuple[AgentAction, str]], operator.add]"
   ]
  },
  {
   "cell_type": "markdown",
   "id": "99683937",
   "metadata": {},
   "source": [
    "## Building Nodes"
   ]
  },
  {
   "cell_type": "code",
   "execution_count": 24,
   "id": "18c45c0a",
   "metadata": {},
   "outputs": [],
   "source": [
    "def reason_node(state: AgentState):\n",
    "    agent_outcome = react_agent_runnable.invoke(state)\n",
    "    return {\"agent_outcome\": agent_outcome}"
   ]
  },
  {
   "cell_type": "code",
   "execution_count": 25,
   "id": "cccc3ea9",
   "metadata": {},
   "outputs": [],
   "source": [
    "def act_node(state: AgentState):\n",
    "    agent_action = state[\"agent_outcome\"]\n",
    "    \n",
    "    ## ----- Since ToolExecutor is deprecated ----- START -----\n",
    "    ## Else just do: output = tool_executor.invoke(agent_action)\n",
    "    \n",
    "    # Extract tool name and input from AgentAction\n",
    "    tool_name = agent_action.tool\n",
    "    tool_input = agent_action.tool_input\n",
    "    \n",
    "    # Find the matching tool function\n",
    "    tool_function = None\n",
    "    for tool in tools:\n",
    "        if tool.name == tool_name:\n",
    "            tool_function = tool\n",
    "            break\n",
    "    \n",
    "    # Execute the tool with the input\n",
    "    if tool_function:\n",
    "        if isinstance(tool_input, dict):\n",
    "            output = tool_function.invoke(**tool_input)\n",
    "        else:\n",
    "            output = tool_function.invoke(tool_input)\n",
    "    else:\n",
    "        output = f\"Tool '{tool_name}' not found\"\n",
    "    \n",
    "    ## ----- Since ToolExecutor is deprecated ----- END -----\n",
    "    \n",
    "    return {\"intermediate_steps\": [(agent_action, str(output))]}"
   ]
  },
  {
   "cell_type": "markdown",
   "id": "07513170",
   "metadata": {},
   "source": [
    "## Final Graph"
   ]
  },
  {
   "cell_type": "code",
   "execution_count": 26,
   "id": "90a16e51",
   "metadata": {},
   "outputs": [],
   "source": [
    "REASON_NODE = \"reason_node\"\n",
    "ACT_NODE = \"act_node\""
   ]
  },
  {
   "cell_type": "code",
   "execution_count": 27,
   "id": "808b8b7b",
   "metadata": {},
   "outputs": [],
   "source": [
    "def should_continue(state: AgentState) -> str:\n",
    "    if isinstance(state[\"agent_outcome\"], AgentFinish):\n",
    "        return \"end\"\n",
    "    else:\n",
    "        return \"act\""
   ]
  },
  {
   "cell_type": "code",
   "execution_count": 30,
   "id": "7508f3e9",
   "metadata": {},
   "outputs": [],
   "source": [
    "graph = StateGraph(AgentState)\n",
    "\n",
    "graph.add_node(REASON_NODE, reason_node)\n",
    "graph.add_node(ACT_NODE, act_node)\n",
    "\n",
    "graph.set_entry_point(REASON_NODE)\n",
    "\n",
    "graph.add_conditional_edges(\n",
    "    REASON_NODE,\n",
    "    should_continue,\n",
    "    {\n",
    "        \"act\": ACT_NODE,\n",
    "        \"end\": END\n",
    "    }\n",
    ")\n",
    "\n",
    "graph.add_edge(ACT_NODE, REASON_NODE)\n",
    "\n",
    "app = graph.compile()"
   ]
  },
  {
   "cell_type": "code",
   "execution_count": 31,
   "id": "80bf54ee",
   "metadata": {},
   "outputs": [
    {
     "data": {
      "image/png": "[encoded data removed]",
      "text/plain": [
       "<IPython.core.display.Image object>"
      ]
     },
     "metadata": {},
     "output_type": "display_data"
    }
   ],
   "source": [
    "display(Image(app.get_graph(xray=True).draw_mermaid_png()))"
   ]
  },
  {
   "cell_type": "code",
   "execution_count": 238,
   "id": "d66c7627",
   "metadata": {},
   "outputs": [
    {
     "name": "stdout",
     "output_type": "stream",
     "text": [
      "The last Hackathon at TrueFoundry was held approximately 2 years ago. This is the final result.\n"
     ]
    }
   ],
   "source": [
    "result = app.invoke(\n",
    "    {\n",
    "        \"input\": \"How many years ago was the last Hackathon at TrueFoundry?\", \n",
    "        \"agent_outcome\": None, \n",
    "        \"intermediate_steps\": []\n",
    "    }\n",
    ")\n",
    "\n",
    "print(result[\"agent_outcome\"].return_values[\"output\"], \"This is the final result.\")"
   ]
  },
  {
   "cell_type": "markdown",
   "id": "8eb6f993",
   "metadata": {},
   "source": [
    "**Explore tracing the graph using LangSmith.**"
   ]
  },
  {
   "cell_type": "code",
   "execution_count": 275,
   "id": "aeb3ed1f",
   "metadata": {},
   "outputs": [],
   "source": [
    "# #Invoke and inspect for non LangChain\n",
    "# from langsmith import traceable\n",
    "# @traceable\n",
    "# def get_response(question):\n",
    "#     result = app.invoke(\n",
    "#         {\n",
    "#             \"input\": question, \n",
    "#             \"agent_outcome\": None, \n",
    "#             \"intermediate_steps\": []\n",
    "#         }\n",
    "#     )\n",
    "\n",
    "#     return(result[\"agent_outcome\"].return_values[\"output\"], \"This is the final result.\")\n",
    "# get_response(\"How many years ago was the last Hackathon at TrueFoundry?\")"
   ]
  },
  {
   "cell_type": "markdown",
   "id": "9834fc16",
   "metadata": {},
   "source": [
    "# ReACT Agent using LangGraph - Part 2"
   ]
  },
  {
   "cell_type": "markdown",
   "id": "70e9edfd",
   "metadata": {},
   "source": [
    "**This is recommended by LangChain to be the most production-ready way to do it.**"
   ]
  },
  {
   "cell_type": "code",
   "execution_count": 35,
   "id": "9e1fbbb7",
   "metadata": {},
   "outputs": [],
   "source": [
    "from langgraph.prebuilt import create_react_agent"
   ]
  },
  {
   "cell_type": "code",
   "execution_count": 36,
   "id": "2eddad4b",
   "metadata": {},
   "outputs": [],
   "source": [
    "#Initialize the agent\n",
    "agent = create_react_agent(\n",
    "    model=model_name,  \n",
    "    tools=tools,  \n",
    "    prompt=\"You are a helpful assistant\"  \n",
    ")"
   ]
  },
  {
   "cell_type": "code",
   "execution_count": 37,
   "id": "45bd3076",
   "metadata": {},
   "outputs": [
    {
     "data": {
      "text/plain": [
       "{'messages': [HumanMessage(content='How many years ago was the last Hackathon at TrueFoundry?', additional_kwargs={}, response_metadata={}, id='267b6b91-ca48-4332-bb3b-b276b85fe470'),\n",
       "  AIMessage(content='', additional_kwargs={'tool_calls': [{'id': 'call_GXA8eAtapgoJK33Qk7bfnzSh', 'function': {'arguments': '{\"query\":\"last Hackathon at TrueFoundry\"}', 'name': 'tavily_search_results_json'}, 'type': 'function'}], 'refusal': None}, response_metadata={'token_usage': {'completion_tokens': 24, 'prompt_tokens': 142, 'total_tokens': 166, 'completion_tokens_details': {'accepted_prediction_tokens': 0, 'audio_tokens': 0, 'reasoning_tokens': 0, 'rejected_prediction_tokens': 0}, 'prompt_tokens_details': {'audio_tokens': 0, 'cached_tokens': 0}}, 'model_name': 'gpt-4o-mini-2024-07-18', 'system_fingerprint': 'fp_8bda4d3a2c', 'id': 'chatcmpl-CBykUd3C8AVqfHXjkoLDTxqpmnggy', 'service_tier': 'default', 'finish_reason': 'tool_calls', 'logprobs': None}, id='run--36f33e56-819b-4640-9b06-02292889c597-0', tool_calls=[{'name': 'tavily_search_results_json', 'args': {'query': 'last Hackathon at TrueFoundry'}, 'id': 'call_GXA8eAtapgoJK33Qk7bfnzSh', 'type': 'tool_call'}], usage_metadata={'input_tokens': 142, 'output_tokens': 24, 'total_tokens': 166, 'input_token_details': {'audio': 0, 'cache_read': 0}, 'output_token_details': {'audio': 0, 'reasoning': 0}}),\n",
       "  ToolMessage(content='[{\"title\": \"Culture - TrueFoundry\", \"url\": \"https://www.truefoundry.com/blogs/categories/culture\", \"content\": \"Unleashing Innovation: Highlights from TrueFoundry\\'s Internal Hackathon. Culture · January 12, 2023. |. 5 min read. TrueFoundry Company Retreat 2022! Culture.\", \"score\": 0.69199765}, {\"title\": \"TrueFoundry 2023 Year-End Review\", \"url\": \"https://www.truefoundry.com/blog/truefoundry-2023-year-end-review\", \"content\": \"As 2023 draws to a close, it\\'s time to reflect on TrueFoundry\\'s journey over the past year. ... Hackathon. Culture. December 31, 2022. |. 5 min\", \"score\": 0.6194488}, {\"title\": \"TrueFoundry Company Retreat 2022\", \"url\": \"https://www.truefoundry.com/blog/truefoundry-company-retreat-1-0\", \"content\": \"... Hackathon. December 31, 2023. |. 5 min read. TrueFoundry: 2023 year-end review. December 31, 2022. |. 5 min read. TrueFoundry: 2022 year-end\", \"score\": 0.5749443}, {\"title\": \"Highlights from TrueFoundry\\'s Internal Hackathon\", \"url\": \"https://www.truefoundry.com/blog/truefoundry-generative-ai-hackathon\", \"content\": \"Explore highlights and innovations from TrueFoundry\\'s hackathon. Discover creative solutions and insights by our team to drive innovation\", \"score\": 0.5433243}, {\"title\": \"Policy Hackathon 2024 - The Foundry\", \"url\": \"https://www.ilpfoundry.us/policy-hackathon-2024/\", \"content\": \"Are you passionate about AI policy? The Foundry\\'s 4th Policy Hackathon is coming this Fall! September 24-27, 2024. More details here!\", \"score\": 0.3905461}]', name='tavily_search_results_json', id='6887a483-7adb-49c2-a185-968113824cfb', tool_call_id='call_GXA8eAtapgoJK33Qk7bfnzSh', artifact={'query': 'last Hackathon at TrueFoundry', 'follow_up_questions': None, 'answer': None, 'images': [], 'results': [{'url': 'https://www.truefoundry.com/blogs/categories/culture', 'title': 'Culture - TrueFoundry', 'content': \"Unleashing Innovation: Highlights from TrueFoundry's Internal Hackathon. Culture · January 12, 2023. |. 5 min read. TrueFoundry Company Retreat 2022! Culture.\", 'score': 0.69199765, 'raw_content': None}, {'url': 'https://www.truefoundry.com/blog/truefoundry-2023-year-end-review', 'title': 'TrueFoundry 2023 Year-End Review', 'content': \"As 2023 draws to a close, it's time to reflect on TrueFoundry's journey over the past year. ... Hackathon. Culture. December 31, 2022. |. 5 min\", 'score': 0.6194488, 'raw_content': None}, {'url': 'https://www.truefoundry.com/blog/truefoundry-company-retreat-1-0', 'title': 'TrueFoundry Company Retreat 2022', 'content': '... Hackathon. December 31, 2023. |. 5 min read. TrueFoundry: 2023 year-end review. December 31, 2022. |. 5 min read. TrueFoundry: 2022 year-end', 'score': 0.5749443, 'raw_content': None}, {'url': 'https://www.truefoundry.com/blog/truefoundry-generative-ai-hackathon', 'title': \"Highlights from TrueFoundry's Internal Hackathon\", 'content': \"Explore highlights and innovations from TrueFoundry's hackathon. Discover creative solutions and insights by our team to drive innovation\", 'score': 0.5433243, 'raw_content': None}, {'url': 'https://www.ilpfoundry.us/policy-hackathon-2024/', 'title': 'Policy Hackathon 2024 - The Foundry', 'content': \"Are you passionate about AI policy? The Foundry's 4th Policy Hackathon is coming this Fall! September 24-27, 2024. More details here!\", 'score': 0.3905461, 'raw_content': None}], 'response_time': 1.43, 'request_id': '94dbe6c7-24a6-4551-9c0e-606c8df83fd9'}),\n",
       "  AIMessage(content='', additional_kwargs={'tool_calls': [{'id': 'call_AYpFTMZkpnV9r0eXiT4R6zSQ', 'function': {'arguments': '{\"format\":\"%Y\"}', 'name': 'get_system_time'}, 'type': 'function'}], 'refusal': None}, response_metadata={'token_usage': {'completion_tokens': 16, 'prompt_tokens': 624, 'total_tokens': 640, 'completion_tokens_details': {'accepted_prediction_tokens': 0, 'audio_tokens': 0, 'reasoning_tokens': 0, 'rejected_prediction_tokens': 0}, 'prompt_tokens_details': {'audio_tokens': 0, 'cached_tokens': 0}}, 'model_name': 'gpt-4o-mini-2024-07-18', 'system_fingerprint': 'fp_8bda4d3a2c', 'id': 'chatcmpl-CBykXafv3cMnPX1z6hK8iouYIBE66', 'service_tier': 'default', 'finish_reason': 'tool_calls', 'logprobs': None}, id='run--a140b36b-1caf-4dea-b795-796207e3ab44-0', tool_calls=[{'name': 'get_system_time', 'args': {'format': '%Y'}, 'id': 'call_AYpFTMZkpnV9r0eXiT4R6zSQ', 'type': 'tool_call'}], usage_metadata={'input_tokens': 624, 'output_tokens': 16, 'total_tokens': 640, 'input_token_details': {'audio': 0, 'cache_read': 0}, 'output_token_details': {'audio': 0, 'reasoning': 0}}),\n",
       "  ToolMessage(content='2025', name='get_system_time', id='1c7ceffe-09d5-4037-b9b4-cf0cff5f7196', tool_call_id='call_AYpFTMZkpnV9r0eXiT4R6zSQ'),\n",
       "  AIMessage(content=\"The last Hackathon at TrueFoundry took place on December 31, 2022. Given that it's currently 2025, this was approximately 2 years ago.\", additional_kwargs={'refusal': None}, response_metadata={'token_usage': {'completion_tokens': 36, 'prompt_tokens': 651, 'total_tokens': 687, 'completion_tokens_details': {'accepted_prediction_tokens': 0, 'audio_tokens': 0, 'reasoning_tokens': 0, 'rejected_prediction_tokens': 0}, 'prompt_tokens_details': {'audio_tokens': 0, 'cached_tokens': 0}}, 'model_name': 'gpt-4o-mini-2024-07-18', 'system_fingerprint': 'fp_8bda4d3a2c', 'id': 'chatcmpl-CBykZZXzr06cZQJm2eehitr1kMYoN', 'service_tier': 'default', 'finish_reason': 'stop', 'logprobs': None}, id='run--6b61c6a4-cb37-4db8-a186-37917159f7fd-0', usage_metadata={'input_tokens': 651, 'output_tokens': 36, 'total_tokens': 687, 'input_token_details': {'audio': 0, 'cache_read': 0}, 'output_token_details': {'audio': 0, 'reasoning': 0}})]}"
      ]
     },
     "execution_count": 37,
     "metadata": {},
     "output_type": "execute_result"
    }
   ],
   "source": [
    "# Run the agent\n",
    "agent.invoke(\n",
    "    {\"messages\": [{\"role\": \"user\", \"content\": \"How many years ago was the last Hackathon at TrueFoundry?\"}]}\n",
    ")"
   ]
  },
  {
   "cell_type": "markdown",
   "id": "08d2480e",
   "metadata": {},
   "source": [
    "**Explore tracing the graph using LangSmith.**"
   ]
  },
  {
   "cell_type": "markdown",
   "id": "eb956a18",
   "metadata": {},
   "source": [
    "## Add memory"
   ]
  },
  {
   "cell_type": "code",
   "execution_count": 38,
   "id": "18b2cabf",
   "metadata": {},
   "outputs": [],
   "source": [
    "from langgraph.prebuilt import create_react_agent\n",
    "from langgraph.checkpoint.memory import InMemorySaver"
   ]
  },
  {
   "cell_type": "markdown",
   "id": "7a72184b",
   "metadata": {},
   "source": [
    "### Issue without memory"
   ]
  },
  {
   "cell_type": "code",
   "execution_count": 45,
   "id": "9ce34fce",
   "metadata": {},
   "outputs": [],
   "source": [
    "agent = create_react_agent(\n",
    "    model=model_name,\n",
    "    tools=tools)"
   ]
  },
  {
   "cell_type": "code",
   "execution_count": 46,
   "id": "139302db",
   "metadata": {},
   "outputs": [],
   "source": [
    "first_response = agent.invoke(\n",
    "    {\"messages\": [{\"role\": \"user\", \"content\": \"What is TrueFoundry all about?\"}]},\n",
    "    config  \n",
    ")"
   ]
  },
  {
   "cell_type": "code",
   "execution_count": 47,
   "id": "c982c9ad",
   "metadata": {},
   "outputs": [],
   "source": [
    "second_response = agent.invoke(\n",
    "    {\"messages\": [{\"role\": \"user\", \"content\": \"What's unique about it?\"}]},\n",
    "    config\n",
    ")"
   ]
  },
  {
   "cell_type": "code",
   "execution_count": 48,
   "id": "8922791e",
   "metadata": {},
   "outputs": [
    {
     "data": {
      "text/plain": [
       "{'messages': [HumanMessage(content=\"What's unique about it?\", additional_kwargs={}, response_metadata={}, id='5cf4b510-c244-43e2-9ec0-150ae948532c'),\n",
       "  AIMessage(content='Could you please provide more context or specify what you are referring to? It could be a product, a place, an event, or something else entirely.', additional_kwargs={'refusal': None}, response_metadata={'token_usage': {'completion_tokens': 32, 'prompt_tokens': 127, 'total_tokens': 159, 'completion_tokens_details': {'accepted_prediction_tokens': 0, 'audio_tokens': 0, 'reasoning_tokens': 0, 'rejected_prediction_tokens': 0}, 'prompt_tokens_details': {'audio_tokens': 0, 'cached_tokens': 0}}, 'model_name': 'gpt-4o-mini-2024-07-18', 'system_fingerprint': 'fp_8bda4d3a2c', 'id': 'chatcmpl-CByrchk4TDvOXDf0fNtQJhcWs1WFj', 'service_tier': 'default', 'finish_reason': 'stop', 'logprobs': None}, id='run--372740fc-849b-4a86-b110-6759fef02c26-0', usage_metadata={'input_tokens': 127, 'output_tokens': 32, 'total_tokens': 159, 'input_token_details': {'audio': 0, 'cache_read': 0}, 'output_token_details': {'audio': 0, 'reasoning': 0}})]}"
      ]
     },
     "execution_count": 48,
     "metadata": {},
     "output_type": "execute_result"
    }
   ],
   "source": [
    "second_response"
   ]
  },
  {
   "cell_type": "markdown",
   "id": "24de1d8a",
   "metadata": {},
   "source": [
    "### Resolved by memory"
   ]
  },
  {
   "cell_type": "markdown",
   "id": "e296ad98",
   "metadata": {},
   "source": [
    "To enable multi-turn conversations with an agent, we need to \n",
    "\n",
    "1. **Enable persistence** by providing a **checkpointer** when creating an agent. Checkpoints save the complete state after a node finishes its work.\n",
    "\n",
    "2. At runtime, we need to provide a config containing **thread_id** — which is simply a unique identifier for each specific conversation or workflow execution (session). This is important because there can be simultaneously running conversations/workflows."
   ]
  },
  {
   "cell_type": "code",
   "execution_count": 39,
   "id": "4f7c74ba",
   "metadata": {},
   "outputs": [],
   "source": [
    "checkpointer = InMemorySaver()"
   ]
  },
  {
   "cell_type": "code",
   "execution_count": 40,
   "id": "ee8145fa",
   "metadata": {},
   "outputs": [],
   "source": [
    "agent = create_react_agent(\n",
    "    model=model_name,\n",
    "    tools=tools,\n",
    "    checkpointer=checkpointer  \n",
    ")"
   ]
  },
  {
   "cell_type": "code",
   "execution_count": 41,
   "id": "121ffebe",
   "metadata": {},
   "outputs": [],
   "source": [
    "# Run the agent\n",
    "config = {\"configurable\": {\"thread_id\": \"1\"}}"
   ]
  },
  {
   "cell_type": "code",
   "execution_count": 42,
   "id": "3c420a0a",
   "metadata": {},
   "outputs": [],
   "source": [
    "first_response = agent.invoke(\n",
    "    {\"messages\": [{\"role\": \"user\", \"content\": \"What is TrueFoundry all about?\"}]},\n",
    "    config  \n",
    ")"
   ]
  },
  {
   "cell_type": "code",
   "execution_count": 43,
   "id": "0b02a41b",
   "metadata": {},
   "outputs": [],
   "source": [
    "second_response = agent.invoke(\n",
    "    {\"messages\": [{\"role\": \"user\", \"content\": \"What's unique about it?\"}]},\n",
    "    config\n",
    ")"
   ]
  },
  {
   "cell_type": "code",
   "execution_count": 44,
   "id": "3749d83f",
   "metadata": {},
   "outputs": [
    {
     "data": {
      "text/plain": [
       "{'messages': [HumanMessage(content='What is TrueFoundry all about?', additional_kwargs={}, response_metadata={}, id='330ca88d-f536-428e-961b-c8ff346b2944'),\n",
       "  AIMessage(content='', additional_kwargs={'tool_calls': [{'id': 'call_X5T6vj6NG2jmjxroDqsuRgwO', 'function': {'arguments': '{\"query\":\"TrueFoundry\"}', 'name': 'tavily_search_results_json'}, 'type': 'function'}], 'refusal': None}, response_metadata={'token_usage': {'completion_tokens': 20, 'prompt_tokens': 130, 'total_tokens': 150, 'completion_tokens_details': {'accepted_prediction_tokens': 0, 'audio_tokens': 0, 'reasoning_tokens': 0, 'rejected_prediction_tokens': 0}, 'prompt_tokens_details': {'audio_tokens': 0, 'cached_tokens': 0}}, 'model_name': 'gpt-4o-mini-2024-07-18', 'system_fingerprint': 'fp_8bda4d3a2c', 'id': 'chatcmpl-CBypp3gBk6AjvQVLfb97VanMB3jWC', 'service_tier': 'default', 'finish_reason': 'tool_calls', 'logprobs': None}, id='run--94fe0a40-2d81-4306-a55b-892b6255dac4-0', tool_calls=[{'name': 'tavily_search_results_json', 'args': {'query': 'TrueFoundry'}, 'id': 'call_X5T6vj6NG2jmjxroDqsuRgwO', 'type': 'tool_call'}], usage_metadata={'input_tokens': 130, 'output_tokens': 20, 'total_tokens': 150, 'input_token_details': {'audio': 0, 'cache_read': 0}, 'output_token_details': {'audio': 0, 'reasoning': 0}}),\n",
       "  ToolMessage(content='[{\"title\": \"TrueFoundry: Enterprise‑Ready Agentic AI\", \"url\": \"https://www.truefoundry.com/\", \"content\": \"Enterprise‑Ready Agentic AI | TrueFoundry How Nvidia uses LLM Agents to Optimize GPU Cluster Utilization # Enterprise‑Ready Agentic AI — Secure, Scalable, Governed ## Govern, Deploy, Scale & Trace Agentic AI in One Unified Platform ## Orchestrate Agentic AI with AI Gateway Enable intelligent multi-step reasoning, tool usage, and memory with full control and visibility across your AI agents and workflows. ## Deploy and Scale Any Agentic AI Workload ### Host any AI Model Provision dedicated Model Control Protocol (MCP) servers to manage agent traffic, scale model access, enforce rate limits, and isolate workloads by team or project. reduction in time-to-production for models TrueFoundry boosted our model deployment velocity across teams.\", \"score\": 0.98589}, {\"title\": \"TrueFoundry - LinkedIn\", \"url\": \"https://www.linkedin.com/company/truefoundry\", \"content\": \"Overview:\\\\nTrueFoundry is a Cloud-native PaaS for Machine learning teams to build, deploy and ship ML/LLM Applications on their own cloud/on-prem Infra in a faster, scalable, cost efficient way with the right governance controls, allowing them to achieve 90% faster time to value than other teams. TrueFoundry abstracts out the engineering required and offers GenAI accelerators - LLM PlayGround, LLM Gateway, LLM Deploy, LLM Finetune, RAG Playground and Application Templates that can enable an organisation to speed up the layout of their overall GenAI/LLMOps framework. Enterprises can plug and play these accelerators with their internal systems as well as build on top of our accelerators to enable a LLMOps platform of their choice to the GenAI developers. TrueFoundry is modular and completely API driven, has native integration with popular tools in the market like LangChain, VectorDBs, GuardRails, etc. TrueFoundry works with 25+ Fortune 500 Companies as well as hi-Tech midmarket companies including likes of WadhwaniAI, WhatFix, 2 Fortune 100 healthcare, Games24x7, AvisoAI etc. TrueFoundry is backed by Sequoia, Eniac & Angels like Naval Ravikant, Anthony Goldbloom & 50+ AI & ML leaders from top tech companies, Fortune 500 CXOs and founders at Unicorns like AlphaSense, Innovaccer, WhatFix, Rubrik etc.\\\\n\\\\nWebsite: https://truefoundry.com/\\\\nCrunchbase Url: https://www.crunchbase.com/organization/truefoundry?utm_source=linkedin&utm_medium=referral&utm_campaign=linkedin_companies&utm_content=profile_cta_anon&trk=funding_crunchbase\\\\nLinkedin Url: https://www.linkedin.com/company/truefoundry\\\\n\\\\nIndustry:\\\\nSoftware Development\\\\n\\\\nCompany size:\\\\n11-50 employees\\\\n71 associated members (LinkedIn members who’ve listed TrueFoundry as their current workplace on their profile)\\\\n\\\\nFounded:\\\\n2021\\\\n\\\\nFunding:\\\\nLast Round Date: 2025-03-06T00:00:00.000Z\\\\nLast Round Type: Series A\\\\nTotal Rounds: 3\\\\nLast Round Raised: US$ 19.0M\\\\n\\\\nInvestors:\\\\nIntel Capital, + 9 Other investors\", \"score\": 0.98253}, {\"title\": \"TrueFoundry - Crunchbase Company Profile & Funding\", \"url\": \"https://www.crunchbase.com/organization/truefoundry\", \"content\": \"TrueFoundry is an enterprise platform that helps enterprise teams build, deploy, and manage large language model applications at scale. Founded Aug 19, 2021\", \"score\": 0.97786}, {\"title\": \"TrueFoundry Careers - Wellfound\", \"url\": \"https://wellfound.com/company/truefoundry\", \"content\": \"TrueFoundry is a powerful LLMOps & MLOps platform that enables Machine learning teams to train and Deploy models at the speed of Big Tech with 100% reliability\", \"score\": 0.97304}, {\"title\": \"TrueFoundry ✓\", \"url\": \"https://x.com/truefoundry?ref_src=twsrc%5Egoogle%7Ctwcamp%5Eserp%7Ctwgr%5Eauthor\", \"content\": \"Hello Palo Alto Folks! Our co-founder @Anuraag_kgp will be there today for a firechat with @Z21Ventures & @AlmaImmigration 🚀 He’ll share GTM lessons on scaling devtools—from OSS traction to enterprise deals & pitfalls to avoid. 🔗 Register link (limited seats) 👇 ⏰ Sept 3 |\", \"score\": 0.96715}]', name='tavily_search_results_json', id='a5477cb5-6103-48ca-941b-ef4c8dd13d57', tool_call_id='call_X5T6vj6NG2jmjxroDqsuRgwO', artifact={'query': 'TrueFoundry', 'follow_up_questions': None, 'answer': None, 'images': [], 'results': [{'url': 'https://www.truefoundry.com/', 'title': 'TrueFoundry: Enterprise‑Ready Agentic AI', 'content': 'Enterprise‑Ready Agentic AI | TrueFoundry How Nvidia uses LLM Agents to Optimize GPU Cluster Utilization # Enterprise‑Ready Agentic AI — Secure, Scalable, Governed ## Govern, Deploy, Scale & Trace Agentic AI in One Unified Platform ## Orchestrate Agentic AI with AI Gateway Enable intelligent multi-step reasoning, tool usage, and memory with full control and visibility across your AI agents and workflows. ## Deploy and Scale Any Agentic AI Workload ### Host any AI Model Provision dedicated Model Control Protocol (MCP) servers to manage agent traffic, scale model access, enforce rate limits, and isolate workloads by team or project. reduction in time-to-production for models TrueFoundry boosted our model deployment velocity across teams.', 'score': 0.98589, 'raw_content': None}, {'url': 'https://www.linkedin.com/company/truefoundry', 'title': 'TrueFoundry - LinkedIn', 'content': 'Overview:\\nTrueFoundry is a Cloud-native PaaS for Machine learning teams to build, deploy and ship ML/LLM Applications on their own cloud/on-prem Infra in a faster, scalable, cost efficient way with the right governance controls, allowing them to achieve 90% faster time to value than other teams. TrueFoundry abstracts out the engineering required and offers GenAI accelerators - LLM PlayGround, LLM Gateway, LLM Deploy, LLM Finetune, RAG Playground and Application Templates that can enable an organisation to speed up the layout of their overall GenAI/LLMOps framework. Enterprises can plug and play these accelerators with their internal systems as well as build on top of our accelerators to enable a LLMOps platform of their choice to the GenAI developers. TrueFoundry is modular and completely API driven, has native integration with popular tools in the market like LangChain, VectorDBs, GuardRails, etc. TrueFoundry works with 25+ Fortune 500 Companies as well as hi-Tech midmarket companies including likes of WadhwaniAI, WhatFix, 2 Fortune 100 healthcare, Games24x7, AvisoAI etc. TrueFoundry is backed by Sequoia, Eniac & Angels like Naval Ravikant, Anthony Goldbloom & 50+ AI & ML leaders from top tech companies, Fortune 500 CXOs and founders at Unicorns like AlphaSense, Innovaccer, WhatFix, Rubrik etc.\\n\\nWebsite: https://truefoundry.com/\\nCrunchbase Url: https://www.crunchbase.com/organization/truefoundry?utm_source=linkedin&utm_medium=referral&utm_campaign=linkedin_companies&utm_content=profile_cta_anon&trk=funding_crunchbase\\nLinkedin Url: https://www.linkedin.com/company/truefoundry\\n\\nIndustry:\\nSoftware Development\\n\\nCompany size:\\n11-50 employees\\n71 associated members (LinkedIn members who’ve listed TrueFoundry as their current workplace on their profile)\\n\\nFounded:\\n2021\\n\\nFunding:\\nLast Round Date: 2025-03-06T00:00:00.000Z\\nLast Round Type: Series A\\nTotal Rounds: 3\\nLast Round Raised: US$ 19.0M\\n\\nInvestors:\\nIntel Capital, + 9 Other investors', 'score': 0.98253, 'raw_content': None}, {'url': 'https://www.crunchbase.com/organization/truefoundry', 'title': 'TrueFoundry - Crunchbase Company Profile & Funding', 'content': 'TrueFoundry is an enterprise platform that helps enterprise teams build, deploy, and manage large language model applications at scale. Founded Aug 19, 2021', 'score': 0.97786, 'raw_content': None}, {'url': 'https://wellfound.com/company/truefoundry', 'title': 'TrueFoundry Careers - Wellfound', 'content': 'TrueFoundry is a powerful LLMOps & MLOps platform that enables Machine learning teams to train and Deploy models at the speed of Big Tech with 100% reliability', 'score': 0.97304, 'raw_content': None}, {'url': 'https://x.com/truefoundry?ref_src=twsrc%5Egoogle%7Ctwcamp%5Eserp%7Ctwgr%5Eauthor', 'title': 'TrueFoundry ✓', 'content': 'Hello Palo Alto Folks! Our co-founder @Anuraag_kgp will be there today for a firechat with @Z21Ventures & @AlmaImmigration 🚀 He’ll share GTM lessons on scaling devtools—from OSS traction to enterprise deals & pitfalls to avoid. 🔗 Register link (limited seats) 👇 ⏰ Sept 3 |', 'score': 0.96715, 'raw_content': None}], 'response_time': 1.22, 'request_id': 'de98b31a-69b5-4625-ba49-8cb8ceb9f5cd'}),\n",
       "  AIMessage(content=\"TrueFoundry is an enterprise platform designed for machine learning teams to build, deploy, and manage large language model (LLM) applications at scale. Here's an overview of what TrueFoundry offers:\\n\\n1. **Platform Overview**: TrueFoundry is a cloud-native Platform as a Service (PaaS) that accelerates the creation and deployment of machine learning (ML) and LLM applications. It helps teams achieve a 90% faster time to value compared to traditional methods by abstracting the engineering complexities involved.\\n\\n2. **Key Features**:\\n   - **Agentic AI**: TrueFoundry provides a unified platform that allows for governance, deployment, scaling, and tracing of AI models. It enables intelligent multi-step reasoning and tool usage.\\n   - **Accelerators**: The platform offers various GenAI accelerators such as LLM Playground, LLM Deploy, and Application Templates that facilitate rapid development and integration.\\n   - **Modularity and API-Driven**: TrueFoundry is modular and API-driven, allowing seamless integration with popular tools in the market including LangChain and VectorDBs.\\n\\n3. **Target Users**: The platform caters to enterprises, including Fortune 500 companies, by enabling them to integrate and build upon their existing systems to establish custom LLMOps frameworks.\\n\\n4. **Investment and Growth**: Founded in 2021, TrueFoundry has gained attention and funding from notable investors such as Sequoia Capital and Intel Capital, raising a total of $19 million across multiple funding rounds.\\n\\n5. **Company Mission**: TrueFoundry aims to help organizations manage AI workloads effectively while enhancing operational efficiency and reducing the time required to bring AI models into production.\\n\\nFor more detailed information, you can visit their official website: [TrueFoundry](https://www.truefoundry.com/).\", additional_kwargs={'refusal': None}, response_metadata={'token_usage': {'completion_tokens': 370, 'prompt_tokens': 1180, 'total_tokens': 1550, 'completion_tokens_details': {'accepted_prediction_tokens': 0, 'audio_tokens': 0, 'reasoning_tokens': 0, 'rejected_prediction_tokens': 0}, 'prompt_tokens_details': {'audio_tokens': 0, 'cached_tokens': 0}}, 'model_name': 'gpt-4o-mini-2024-07-18', 'system_fingerprint': 'fp_8bda4d3a2c', 'id': 'chatcmpl-CBypsnyiT1dAMLhpsYua8oQkgdpgT', 'service_tier': 'default', 'finish_reason': 'stop', 'logprobs': None}, id='run--c08262d4-9f82-4f3c-943b-08c3e2d44e97-0', usage_metadata={'input_tokens': 1180, 'output_tokens': 370, 'total_tokens': 1550, 'input_token_details': {'audio': 0, 'cache_read': 0}, 'output_token_details': {'audio': 0, 'reasoning': 0}}),\n",
       "  HumanMessage(content=\"What's unique about it?\", additional_kwargs={}, response_metadata={}, id='c2888224-6b58-4446-ada5-fd696c90188f'),\n",
       "  AIMessage(content='', additional_kwargs={'tool_calls': [{'id': 'call_OD5jjGtvHBCT4MFJPA1BNYOf', 'function': {'arguments': '{\"query\":\"TrueFoundry unique features advantages\"}', 'name': 'tavily_search_results_json'}, 'type': 'function'}], 'refusal': None}, response_metadata={'token_usage': {'completion_tokens': 23, 'prompt_tokens': 1562, 'total_tokens': 1585, 'completion_tokens_details': {'accepted_prediction_tokens': 0, 'audio_tokens': 0, 'reasoning_tokens': 0, 'rejected_prediction_tokens': 0}, 'prompt_tokens_details': {'audio_tokens': 0, 'cached_tokens': 1408}}, 'model_name': 'gpt-4o-mini-2024-07-18', 'system_fingerprint': 'fp_8bda4d3a2c', 'id': 'chatcmpl-CBypyXimWO2U0dokant69JLE7TGHZ', 'service_tier': 'default', 'finish_reason': 'tool_calls', 'logprobs': None}, id='run--17888646-2bcf-4e43-bd02-aa56995cf555-0', tool_calls=[{'name': 'tavily_search_results_json', 'args': {'query': 'TrueFoundry unique features advantages'}, 'id': 'call_OD5jjGtvHBCT4MFJPA1BNYOf', 'type': 'tool_call'}], usage_metadata={'input_tokens': 1562, 'output_tokens': 23, 'total_tokens': 1585, 'input_token_details': {'audio': 0, 'cache_read': 1408}, 'output_token_details': {'audio': 0, 'reasoning': 0}}),\n",
       "  ToolMessage(content='[{\"title\": \"On Premise AI Platform - TrueFoundry\", \"url\": \"https://www.truefoundry.com/blog/on-premise-ai-platform\", \"content\": \"An **on premise AI platform** is a comprehensive environment composed of hardware, software, and orchestration tools that allows an organization to develop, train, deploy, and monitor artificial intelligence (AI) and machine learning (ML) models entirely within its own infrastructure. By hosting AI infrastructure internally, organizations gain complete control over data residency, security protocols, model execution, and system customization. On premise AI platforms offer a unique combination of security, performance, and control that cloud-native environments can’t fully replicate. TrueFoundry provides a tightly integrated set of core modules that allow enterprises to build scalable, secure, and fully observable on premise AI platforms. For organizations where data governance, system customization, and infrastructure control are critical, on premise AI platforms offer unmatched value.\", \"score\": 0.98598}, {\"title\": \"Top 5 AI Gateways in 2025 - TrueFoundry\", \"url\": \"https://www.truefoundry.com/blog/best-ai-gateway\", \"content\": \"The platform\\'s strength lies in universal API compatibility, supporting major providers with advanced load balancing and retry logic. Cost\", \"score\": 0.98387}, {\"title\": \"Wall of love - TrueFoundry\", \"url\": \"https://www.truefoundry.com/wall-of-love\", \"content\": \"Their outstanding customer support and unique SSH feature make development easy and cost-effective, perfectly fulfilling all our use cases.\", \"score\": 0.9796}, {\"title\": \"TrueFoundry GCP Vertex AI Comparison Unveiling Strengths and ...\", \"url\": \"https://apipark.com/technews/NPn0G0j8.html\", \"content\": \"TrueFoundry, on the other hand, emphasizes ease of use and accessibility. It provides a simplified interface for deploying machine learning\", \"score\": 0.97556}, {\"title\": \"TrueFoundry\\'s Tech Triumph: Powered by Civo\\'s Kubernetes Edge\", \"url\": \"https://www.civo.com/case-studies/true-foundry\", \"content\": \"Unlock the full potential of your machine learning or AI projects with Civo\\'s Cloud GPU solutions. Civo emerged as the cloud provider of choice for TrueFoundry, primarily due to its robust GPU offering. The integration of Civo\\'s GPU-powered clusters into TrueFoundry\\'s platform was pivotal, enabling quick and seamless deployment of large language models (LLMs) and intensive ML models. With Civo\\'s GPU infrastructure, TrueFoundry successfully launched more than 120 clusters, demonstrating not only the scalability but also the reliability of Civo\\'s GPU services. *   Civo\\'s infrastructure supported the demand for GPU resources, crucial for TrueFoundry\\'s LLM offerings. *   Civo\\'s responsive customer service and comprehensive documentation ensured a smooth operation for TrueFoundry\\'s technical teams.\", \"score\": 0.96754}]', name='tavily_search_results_json', id='f847ab38-a219-4760-a5b2-0766c618afb4', tool_call_id='call_OD5jjGtvHBCT4MFJPA1BNYOf', artifact={'query': 'TrueFoundry unique features advantages', 'follow_up_questions': None, 'answer': None, 'images': [], 'results': [{'url': 'https://www.truefoundry.com/blog/on-premise-ai-platform', 'title': 'On Premise AI Platform - TrueFoundry', 'content': 'An **on premise AI platform** is a comprehensive environment composed of hardware, software, and orchestration tools that allows an organization to develop, train, deploy, and monitor artificial intelligence (AI) and machine learning (ML) models entirely within its own infrastructure. By hosting AI infrastructure internally, organizations gain complete control over data residency, security protocols, model execution, and system customization. On premise AI platforms offer a unique combination of security, performance, and control that cloud-native environments can’t fully replicate. TrueFoundry provides a tightly integrated set of core modules that allow enterprises to build scalable, secure, and fully observable on premise AI platforms. For organizations where data governance, system customization, and infrastructure control are critical, on premise AI platforms offer unmatched value.', 'score': 0.98598, 'raw_content': None}, {'url': 'https://www.truefoundry.com/blog/best-ai-gateway', 'title': 'Top 5 AI Gateways in 2025 - TrueFoundry', 'content': \"The platform's strength lies in universal API compatibility, supporting major providers with advanced load balancing and retry logic. Cost\", 'score': 0.98387, 'raw_content': None}, {'url': 'https://www.truefoundry.com/wall-of-love', 'title': 'Wall of love - TrueFoundry', 'content': 'Their outstanding customer support and unique SSH feature make development easy and cost-effective, perfectly fulfilling all our use cases.', 'score': 0.9796, 'raw_content': None}, {'url': 'https://apipark.com/technews/NPn0G0j8.html', 'title': 'TrueFoundry GCP Vertex AI Comparison Unveiling Strengths and ...', 'content': 'TrueFoundry, on the other hand, emphasizes ease of use and accessibility. It provides a simplified interface for deploying machine learning', 'score': 0.97556, 'raw_content': None}, {'url': 'https://www.civo.com/case-studies/true-foundry', 'title': \"TrueFoundry's Tech Triumph: Powered by Civo's Kubernetes Edge\", 'content': \"Unlock the full potential of your machine learning or AI projects with Civo's Cloud GPU solutions. Civo emerged as the cloud provider of choice for TrueFoundry, primarily due to its robust GPU offering. The integration of Civo's GPU-powered clusters into TrueFoundry's platform was pivotal, enabling quick and seamless deployment of large language models (LLMs) and intensive ML models. With Civo's GPU infrastructure, TrueFoundry successfully launched more than 120 clusters, demonstrating not only the scalability but also the reliability of Civo's GPU services. *   Civo's infrastructure supported the demand for GPU resources, crucial for TrueFoundry's LLM offerings. *   Civo's responsive customer service and comprehensive documentation ensured a smooth operation for TrueFoundry's technical teams.\", 'score': 0.96754, 'raw_content': None}], 'response_time': 1.41, 'request_id': '52b8ddad-abfd-4ddd-826d-073aaa4dbab7'}),\n",
       "  AIMessage(content='TrueFoundry stands out in the landscape of AI and machine learning platforms due to several unique features and advantages:\\n\\n1. **On-Premise Capability**: TrueFoundry offers the flexibility to deploy AI and ML models on-premise, giving organizations complete control over their data, security protocols, and customization of their AI infrastructure. This is particularly beneficial for enterprises that prioritize data governance and security.\\n\\n2. **Seamless Integration**: The platform is designed with universal API compatibility, allowing it to support major providers with advanced load balancing and retry logic. This ensures that businesses can integrate TrueFoundry with their existing systems easily, enhancing operational efficiency.\\n\\n3. **Accelerated Development**: TrueFoundry provides tools and features that allow companies to significantly speed up the deployment of machine learning models. Users report a 90% faster time to value, thus enabling organizations to quickly realize the benefits of their AI initiatives.\\n\\n4. **User-Friendly Interface**: The platform emphasizes ease of use and accessibility, featuring a simplified interface that facilitates the deployment of machine learning applications. This lowers the barrier to entry for teams and speeds up the development process.\\n\\n5. **Robust Support and Documentation**: TrueFoundry is noted for its outstanding customer support and comprehensive documentation, which enhances the user experience, making the development process smoother and more efficient.\\n\\n6. **Modular and API-Driven Approach**: The platform is modular and completely API-driven, which allows for a high degree of customization and scalability. This makes it adaptable to the specific needs of different organizations.\\n\\n7. **Cloud and GPU Integration**: TrueFoundry has successfully integrated with cloud providers like Civo to leverage GPU-powered infrastructure, which enables quick deployment of large language models and other intensive machine learning applications.\\n\\nThese unique features make TrueFoundry an attractive option for enterprises looking to harness the power of AI and machine learning while maintaining control over their data and infrastructure.', additional_kwargs={'refusal': None}, response_metadata={'token_usage': {'completion_tokens': 385, 'prompt_tokens': 2220, 'total_tokens': 2605, 'completion_tokens_details': {'accepted_prediction_tokens': 0, 'audio_tokens': 0, 'reasoning_tokens': 0, 'rejected_prediction_tokens': 0}, 'prompt_tokens_details': {'audio_tokens': 0, 'cached_tokens': 0}}, 'model_name': 'gpt-4o-mini-2024-07-18', 'system_fingerprint': 'fp_8bda4d3a2c', 'id': 'chatcmpl-CByq1tMQVwoh1Ep2oOMWNnLmFis0c', 'service_tier': 'default', 'finish_reason': 'stop', 'logprobs': None}, id='run--2ecf18cb-9824-4599-b9da-409697a9f9a4-0', usage_metadata={'input_tokens': 2220, 'output_tokens': 385, 'total_tokens': 2605, 'input_token_details': {'audio': 0, 'cache_read': 0}, 'output_token_details': {'audio': 0, 'reasoning': 0}})]}"
      ]
     },
     "execution_count": 44,
     "metadata": {},
     "output_type": "execute_result"
    }
   ],
   "source": [
    "second_response"
   ]
  },
  {
   "cell_type": "markdown",
   "id": "c399707b",
   "metadata": {},
   "source": [
    "## Configure structured output"
   ]
  },
  {
   "cell_type": "code",
   "execution_count": 51,
   "id": "c8157331",
   "metadata": {},
   "outputs": [],
   "source": [
    "from pydantic import BaseModel, Field\n",
    "from langgraph.prebuilt import create_react_agent"
   ]
  },
  {
   "cell_type": "code",
   "execution_count": 52,
   "id": "029bb32f",
   "metadata": {},
   "outputs": [],
   "source": [
    "class KeyEntities(BaseModel):\n",
    "    entities: str = Field(description=\"Key named entities in the piece of text\")"
   ]
  },
  {
   "cell_type": "code",
   "execution_count": 53,
   "id": "8e47168e",
   "metadata": {},
   "outputs": [],
   "source": [
    "agent = create_react_agent(\n",
    "    model=model_name,\n",
    "    tools=tools,\n",
    "    response_format=KeyEntities  \n",
    ")"
   ]
  },
  {
   "cell_type": "code",
   "execution_count": 54,
   "id": "d9e30cd5",
   "metadata": {},
   "outputs": [
    {
     "data": {
      "text/plain": [
       "KeyEntities(entities='India, United States, Biden, Modi, G20, Mission 500, Russian oil, trade relations')"
      ]
     },
     "execution_count": 54,
     "metadata": {},
     "output_type": "execute_result"
    }
   ],
   "source": [
    "response = agent.invoke(\n",
    "    {\"messages\": [{\"role\": \"user\", \"content\": \"What's happening in Indo-US relations currently?\"}]}\n",
    ")\n",
    "\n",
    "response[\"structured_response\"]"
   ]
  }
 ],
 "metadata": {
  "kernelspec": {
   "display_name": "Python 3 (ipykernel)",
   "language": "python",
   "name": "python3"
  },
  "language_info": {
   "codemirror_mode": {
    "name": "ipython",
    "version": 3
   },
   "file_extension": ".py",
   "mimetype": "text/x-python",
   "name": "python",
   "nbconvert_exporter": "python",
   "pygments_lexer": "ipython3",
   "version": "3.13.5"
  },
  "varInspector": {
   "cols": {
    "lenName": 16,
    "lenType": 16,
    "lenVar": 40
   },
   "kernels_config": {
    "python": {
     "delete_cmd_postfix": "",
     "delete_cmd_prefix": "del ",
     "library": "var_list.py",
     "varRefreshCmd": "print(var_dic_list())"
    },
    "r": {
     "delete_cmd_postfix": ") ",
     "delete_cmd_prefix": "rm(",
     "library": "var_list.r",
     "varRefreshCmd": "cat(var_dic_list()) "
    }
   },
   "types_to_exclude": [
    "module",
    "function",
    "builtin_function_or_method",
    "instance",
    "_Feature"
   ],
   "window_display": false
  }
 },
 "nbformat": 4,
 "nbformat_minor": 5
}
