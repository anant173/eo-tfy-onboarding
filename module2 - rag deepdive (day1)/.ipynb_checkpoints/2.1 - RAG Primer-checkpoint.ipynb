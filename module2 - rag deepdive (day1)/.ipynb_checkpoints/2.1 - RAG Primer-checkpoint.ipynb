{
 "cells": [
  {
   "cell_type": "markdown",
   "id": "7c595961",
   "metadata": {},
   "source": [
    "# Retrieval Augmented Generation"
   ]
  },
  {
   "cell_type": "markdown",
   "id": "64a3e317",
   "metadata": {},
   "source": [
    "## Initial Setup"
   ]
  },
  {
   "cell_type": "code",
   "execution_count": 2,
   "id": "3d81c2f1",
   "metadata": {},
   "outputs": [],
   "source": [
    "# !uv pip install \"numpy<2\"\n",
    "# !uv pip install langchain_community langchain_ollama unstructured pi_heif unstructured_inference torch torchvision langchain-groq langchain_chroma tiktoken unstructured_pytesseract faiss-cpu langchain_experimental rank_bm25\n",
    "# !uv pip install layoutparser -U\n"
   ]
  },
  {
   "cell_type": "code",
   "execution_count": 2,
   "id": "183215ba",
   "metadata": {},
   "outputs": [],
   "source": [
    "## Specific instructions to get UnstructuredPDFLoader to run\n",
    "\n",
    "# 1. Install Poppler (dependency for pdf2image) \n",
    "# For instructions on Poppler installation on other systems, see this - https://pdf2image.readthedocs.io/en/latest/installation.html\n",
    "# !brew install poppler\n",
    "\n",
    "# 2. Set HuggingFace token\n",
    "# You also need to set the HuggingFace token and save it inside the .env file. Save it as HF_TOKEN=your_token_here."
   ]
  },
  {
   "cell_type": "code",
   "execution_count": 3,
   "id": "69151143",
   "metadata": {},
   "outputs": [],
   "source": [
    "import os, json, re, getpass, warnings\n",
    "import numpy as np\n",
    "from dotenv import load_dotenv\n",
    "from uuid import uuid4\n",
    "from IPython.display import display, Markdown"
   ]
  },
  {
   "cell_type": "code",
   "execution_count": 4,
   "id": "bc109c2e",
   "metadata": {},
   "outputs": [
    {
     "data": {
      "text/plain": [
       "True"
      ]
     },
     "execution_count": 4,
     "metadata": {},
     "output_type": "execute_result"
    }
   ],
   "source": [
    "warnings.filterwarnings('ignore')\n",
    "load_dotenv(override=True)"
   ]
  },
  {
   "cell_type": "code",
   "execution_count": 5,
   "id": "2c21204f",
   "metadata": {},
   "outputs": [],
   "source": [
    "#Check for Groq API Key\n",
    "if \"GROQ_API_KEY\" not in os.environ:\n",
    "    os.environ[\"GROQ_API_KEY\"] = getpass.getpass(\"GROQ API Key: \")"
   ]
  },
  {
   "cell_type": "code",
   "execution_count": 6,
   "id": "60fb2732",
   "metadata": {},
   "outputs": [],
   "source": [
    "#Set Hugging Face token (as we will be using some of Hugging Face's functionalities\n",
    "from huggingface_hub.hf_api import HfFolder\n",
    "HfFolder.save_token(os.environ[\"HF_TOKEN\"])"
   ]
  },
  {
   "cell_type": "code",
   "execution_count": 7,
   "id": "154f07ef",
   "metadata": {},
   "outputs": [],
   "source": [
    "# !uv pip install \"numpy<2\""
   ]
  },
  {
   "cell_type": "code",
   "execution_count": 8,
   "id": "07142ba9",
   "metadata": {},
   "outputs": [
    {
     "data": {
      "text/plain": [
       "'1.26.4'"
      ]
     },
     "execution_count": 8,
     "metadata": {},
     "output_type": "execute_result"
    }
   ],
   "source": [
    "np.__version__"
   ]
  },
  {
   "cell_type": "markdown",
   "id": "e01662fb",
   "metadata": {},
   "source": [
    "## Part 1: Indexing"
   ]
  },
  {
   "cell_type": "code",
   "execution_count": 9,
   "id": "c3590a30",
   "metadata": {},
   "outputs": [],
   "source": [
    "# Question\n",
    "question = \"What is the PGP AI & DS at Jio Institute all about?\""
   ]
  },
  {
   "cell_type": "markdown",
   "id": "171255cd",
   "metadata": {
    "jp-MarkdownHeadingCollapsed": true
   },
   "source": [
    "### Concept: Tokenization"
   ]
  },
  {
   "cell_type": "markdown",
   "id": "2f553e03",
   "metadata": {},
   "source": [
    "**tiktoken** is a fast BPE tokenizer for use with OpenAI's models. It takes a 1) text string and 2) encoding to convert string to tokens."
   ]
  },
  {
   "cell_type": "markdown",
   "id": "2fa0b445",
   "metadata": {},
   "source": [
    "**About encodings:** Encodings specify how text is converted into tokens. Different models use different encodings. \n",
    "\n",
    "`tiktoken` supports following encodings used by OpenAI models:\n",
    "\n",
    "| Encoding name | OpenAI models |\n",
    "|---|---|\n",
    "| `o200k_base` | gpt-4o, gpt-4o-mini |\n",
    "| `cl100k_base` | gpt-4-turbo, gpt-4, gpt-3.5-turbo, text-embedding-ada-002, text-embedding-3-small, text-embedding-3-large |\n",
    "| `p50k_base` | Codex models, text-davinci-002, text-davinci-003 |\n",
    "| `r50k_base` (or `gpt2`) | GPT-3 models like davinci |"
   ]
  },
  {
   "cell_type": "markdown",
   "id": "57e20bb0",
   "metadata": {},
   "source": [
    "**Note:** You can check out how a string is tokenized using the third-party [Tiktokenizer](https://tiktokenizer.vercel.app/) app. "
   ]
  },
  {
   "cell_type": "code",
   "execution_count": 10,
   "id": "0df0ce16",
   "metadata": {},
   "outputs": [],
   "source": [
    "#Import library\n",
    "import tiktoken"
   ]
  },
  {
   "cell_type": "code",
   "execution_count": 11,
   "id": "e6a21b35",
   "metadata": {},
   "outputs": [],
   "source": [
    "#Load an encoding - load encoding by name \n",
    "encoding = tiktoken.get_encoding(\"cl100k_base\")"
   ]
  },
  {
   "cell_type": "code",
   "execution_count": 12,
   "id": "66f72864",
   "metadata": {},
   "outputs": [],
   "source": [
    "#Load an encoding - load encoding for a model \n",
    "encoding = tiktoken.encoding_for_model(\"gpt-4o-mini\")"
   ]
  },
  {
   "cell_type": "code",
   "execution_count": 13,
   "id": "fcb2d154",
   "metadata": {},
   "outputs": [
    {
     "data": {
      "text/plain": [
       "[4827,\n",
       " 382,\n",
       " 290,\n",
       " 398,\n",
       " 29864,\n",
       " 20837,\n",
       " 827,\n",
       " 35363,\n",
       " 540,\n",
       " 643,\n",
       " 726,\n",
       " 14544,\n",
       " 722,\n",
       " 1078,\n",
       " 30]"
      ]
     },
     "execution_count": 13,
     "metadata": {},
     "output_type": "execute_result"
    }
   ],
   "source": [
    "#Turn text into tokens\n",
    "tokens = encoding.encode(question)\n",
    "tokens"
   ]
  },
  {
   "cell_type": "code",
   "execution_count": 14,
   "id": "f09614a3",
   "metadata": {},
   "outputs": [
    {
     "data": {
      "text/plain": [
       "15"
      ]
     },
     "execution_count": 14,
     "metadata": {},
     "output_type": "execute_result"
    }
   ],
   "source": [
    "len(tokens)"
   ]
  },
  {
   "cell_type": "code",
   "execution_count": 15,
   "id": "598d7315",
   "metadata": {},
   "outputs": [],
   "source": [
    "#Count tokens\n",
    "def num_tokens_from_string(string: str, encoding_name: str) -> int:\n",
    "    \"\"\"Returns the number of tokens in a text string.\"\"\"\n",
    "    encoding = tiktoken.get_encoding(encoding_name)\n",
    "    tokens = encoding.encode(string)\n",
    "    num_tokens = len(tokens)\n",
    "    return num_tokens"
   ]
  },
  {
   "cell_type": "code",
   "execution_count": 16,
   "id": "2e2016b9",
   "metadata": {},
   "outputs": [
    {
     "data": {
      "text/plain": [
       "15"
      ]
     },
     "execution_count": 16,
     "metadata": {},
     "output_type": "execute_result"
    }
   ],
   "source": [
    "num_tokens_from_string(question, \"cl100k_base\")"
   ]
  },
  {
   "cell_type": "code",
   "execution_count": 17,
   "id": "91630f39",
   "metadata": {},
   "outputs": [
    {
     "data": {
      "text/plain": [
       "'What is the PGP AI & DS at Jio Institute all about?'"
      ]
     },
     "execution_count": 17,
     "metadata": {},
     "output_type": "execute_result"
    }
   ],
   "source": [
    "#Decode list of token integers to string\n",
    "encoding.decode(tokens)"
   ]
  },
  {
   "cell_type": "markdown",
   "id": "3e0eb1cc",
   "metadata": {},
   "source": [
    "#### What about non-OpenAI models?"
   ]
  },
  {
   "cell_type": "markdown",
   "id": "f8ac9af0",
   "metadata": {},
   "source": [
    " Use AutoTokenizer class from Hugging Face `transformers` library."
   ]
  },
  {
   "cell_type": "markdown",
   "id": "4a1cced5",
   "metadata": {},
   "source": [
    "**Important points**:\n",
    "- Make sure you have have created token and logged into Hugging Face Hub.\n",
    "- Please ensure the model name is correct; if it's a gated model, you might need get access from the model page on Hugging Face Hub.\n",
    "    - Access to model meta-llama/Llama-3.1-8B is restricted by default, in our example. Visit https://huggingface.co/meta-llama/Llama-3.1-8B to ask for access."
   ]
  },
  {
   "cell_type": "code",
   "execution_count": 18,
   "id": "fc7d8156",
   "metadata": {},
   "outputs": [],
   "source": [
    "# !uv pip install transformers -U"
   ]
  },
  {
   "cell_type": "code",
   "execution_count": 19,
   "id": "7b0dd517",
   "metadata": {},
   "outputs": [],
   "source": [
    "from transformers import AutoTokenizer"
   ]
  },
  {
   "cell_type": "code",
   "execution_count": 20,
   "id": "4a5638b9",
   "metadata": {},
   "outputs": [],
   "source": [
    "#Model name should be as per Hugging Face - exact name can differ from the model name in Ollama/Groq, for example\n",
    "model_name = \"meta-llama/Llama-3.1-8B\""
   ]
  },
  {
   "cell_type": "code",
   "execution_count": 21,
   "id": "b18b5409",
   "metadata": {},
   "outputs": [],
   "source": [
    "# Load the tokenizer for the specified Llama 3.2 model.\n",
    "# `trust_remote_code=True` is often necessary for custom model architectures.\n",
    "tokenizer = AutoTokenizer.from_pretrained(model_name, trust_remote_code=True)"
   ]
  },
  {
   "cell_type": "code",
   "execution_count": 22,
   "id": "81f001f3",
   "metadata": {},
   "outputs": [
    {
     "data": {
      "text/plain": [
       "[128000,\n",
       " 3923,\n",
       " 374,\n",
       " 279,\n",
       " 393,\n",
       " 25434,\n",
       " 15592,\n",
       " 612,\n",
       " 21223,\n",
       " 520,\n",
       " 622,\n",
       " 822,\n",
       " 10181,\n",
       " 682,\n",
       " 922,\n",
       " 30]"
      ]
     },
     "execution_count": 22,
     "metadata": {},
     "output_type": "execute_result"
    }
   ],
   "source": [
    "# Tokenize the input text.\n",
    "# `add_special_tokens=False` can be used if you only want to count content tokens\n",
    "# without BOS/EOS tokens, but typically for LLM usage, special tokens are included.\n",
    "tokens = tokenizer.encode(question, add_special_tokens=True)\n",
    "tokens"
   ]
  },
  {
   "cell_type": "code",
   "execution_count": 23,
   "id": "c4d00bc8",
   "metadata": {},
   "outputs": [
    {
     "data": {
      "text/plain": [
       "16"
      ]
     },
     "execution_count": 23,
     "metadata": {},
     "output_type": "execute_result"
    }
   ],
   "source": [
    "len(tokens)"
   ]
  },
  {
   "cell_type": "markdown",
   "id": "6ff929b5",
   "metadata": {},
   "source": [
    "**Note**: Typically, we do not need to tokenize the text beforehand when using any embedding model. Most other embedding models from libraries like LangChain or directly from model providers handle the tokenization internally as part of its process to generate the embeddings!"
   ]
  },
  {
   "cell_type": "markdown",
   "id": "96ebc453",
   "metadata": {
    "jp-MarkdownHeadingCollapsed": true
   },
   "source": [
    "### Concept: Embedding"
   ]
  },
  {
   "cell_type": "markdown",
   "id": "922d5e90",
   "metadata": {},
   "source": [
    "Conceptual Reference - [Embedding models](https://python.langchain.com/docs/concepts/embedding_models/)"
   ]
  },
  {
   "cell_type": "markdown",
   "id": "1d6e959b",
   "metadata": {},
   "source": [
    "Check out this MTEB leaderboard for benchmarking embedding models: [MTEB Leaderboard](https://huggingface.co/spaces/mteb/leaderboard) \n",
    "\n",
    "You can choose different embedding models based on \n",
    "1) Embedding dimension\n",
    "2) Max tokens supported\n",
    "3) Performance/accuracy (on specific tasks)\n",
    "4) Multilinguality/Language Support\n",
    "5) Model Size and Inference Speed/Efficiency\n",
    "6) Licensing and Usage Restrictions\n",
    "7) Cost (for API-based, like OpenAI)"
   ]
  },
  {
   "cell_type": "code",
   "execution_count": 24,
   "id": "d1f0a862",
   "metadata": {
    "scrolled": true
   },
   "outputs": [
    {
     "name": "stderr",
     "output_type": "stream",
     "text": [
      "huggingface/tokenizers: The current process just got forked, after parallelism has already been used. Disabling parallelism to avoid deadlocks...\n",
      "To disable this warning, you can either:\n",
      "\t- Avoid using `tokenizers` before the fork if possible\n",
      "\t- Explicitly set the environment variable TOKENIZERS_PARALLELISM=(true | false)\n"
     ]
    },
    {
     "name": "stdout",
     "output_type": "stream",
     "text": [
      "\u001b[?2026h\u001b[?25l\u001b[1Gpulling manifest ⠋ \u001b[K\u001b[?25h\u001b[?2026l\u001b[?2026h\u001b[?25l\u001b[1Gpulling manifest ⠙ \u001b[K\u001b[?25h\u001b[?2026l\u001b[?2026h\u001b[?25l\u001b[1Gpulling manifest ⠹ \u001b[K\u001b[?25h\u001b[?2026l\u001b[?2026h\u001b[?25l\u001b[1Gpulling manifest ⠸ \u001b[K\u001b[?25h\u001b[?2026l\u001b[?2026h\u001b[?25l\u001b[1Gpulling manifest ⠼ \u001b[K\u001b[?25h\u001b[?2026l\u001b[?2026h\u001b[?25l\u001b[1Gpulling manifest ⠴ \u001b[K\u001b[?25h\u001b[?2026l\u001b[?2026h\u001b[?25l\u001b[1Gpulling manifest ⠦ \u001b[K\u001b[?25h\u001b[?2026l\u001b[?2026h\u001b[?25l\u001b[1Gpulling manifest ⠧ \u001b[K\u001b[?25h\u001b[?2026l\u001b[?2026h\u001b[?25l\u001b[1Gpulling manifest ⠇ \u001b[K\u001b[?25h\u001b[?2026l\u001b[?2026h\u001b[?25l\u001b[1Gpulling manifest ⠏ \u001b[K\u001b[?25h\u001b[?2026l\u001b[?2026h\u001b[?25l\u001b[1Gpulling manifest ⠋ \u001b[K\u001b[?25h\u001b[?2026l\u001b[?2026h\u001b[?25l\u001b[1Gpulling manifest ⠙ \u001b[K\u001b[?25h\u001b[?2026l\u001b[?2026h\u001b[?25l\u001b[1Gpulling manifest ⠹ \u001b[K\u001b[?25h\u001b[?2026l\u001b[?2026h\u001b[?25l\u001b[1Gpulling manifest ⠸ \u001b[K\u001b[?25h\u001b[?2026l\u001b[?2026h\u001b[?25l\u001b[1Gpulling manifest ⠼ \u001b[K\u001b[?25h\u001b[?2026l\u001b[?2026h\u001b[?25l\u001b[1Gpulling manifest ⠴ \u001b[K\u001b[?25h\u001b[?2026l\u001b[?2026h\u001b[?25l\u001b[1Gpulling manifest ⠦ \u001b[K\u001b[?25h\u001b[?2026l\u001b[?2026h\u001b[?25l\u001b[1Gpulling manifest ⠧ \u001b[K\u001b[?25h\u001b[?2026l\u001b[?2026h\u001b[?25l\u001b[1Gpulling manifest ⠇ \u001b[K\u001b[?25h\u001b[?2026l\u001b[?2026h\u001b[?25l\u001b[1Gpulling manifest ⠏ \u001b[K\u001b[?25h\u001b[?2026l\u001b[?2026h\u001b[?25l\u001b[1Gpulling manifest ⠋ \u001b[K\u001b[?25h\u001b[?2026l\u001b[?2026h\u001b[?25l\u001b[1Gpulling manifest ⠙ \u001b[K\u001b[?25h\u001b[?2026l\u001b[?2026h\u001b[?25l\u001b[1Gpulling manifest \u001b[K\n",
      "pulling dde5aa3fc5ff: 100% ▕██████████████████▏ 2.0 GB                         \u001b[K\n",
      "pulling 966de95ca8a6: 100% ▕██████████████████▏ 1.4 KB                         \u001b[K\n",
      "pulling fcc5a6bec9da: 100% ▕██████████████████▏ 7.7 KB                         \u001b[K\n",
      "pulling a70ff7e570d9: 100% ▕██████████████████▏ 6.0 KB                         \u001b[K\n",
      "pulling 56bb8bd477a5: 100% ▕██████████████████▏   96 B                         \u001b[K\n",
      "pulling 34bb5ab01051: 100% ▕██████████████████▏  561 B                         \u001b[K\n",
      "verifying sha256 digest \u001b[K\n",
      "writing manifest \u001b[K\n",
      "success \u001b[K\u001b[?25h\u001b[?2026l\n"
     ]
    }
   ],
   "source": [
    "!ollama pull llama3.2"
   ]
  },
  {
   "cell_type": "code",
   "execution_count": 25,
   "id": "3d9ca667",
   "metadata": {},
   "outputs": [],
   "source": [
    "from langchain_ollama import OllamaEmbeddings\n",
    "\n",
    "embeddings_model = OllamaEmbeddings(model=\"llama3.2\")"
   ]
  },
  {
   "cell_type": "markdown",
   "id": "bc855924",
   "metadata": {},
   "source": [
    "**Benefit of LangChain**: It provides a universal interface for working with embedding models. The two central methods are:\n",
    "\n",
    "- `embed_documents`: for embedding multiple texts (documents)\n",
    "- `embed_query`: for embedding a single text (query)"
   ]
  },
  {
   "cell_type": "code",
   "execution_count": 26,
   "id": "313b6d02",
   "metadata": {},
   "outputs": [],
   "source": [
    "embeddings = embeddings_model.embed_documents(\n",
    "    [\n",
    "        \"Hi there!\",\n",
    "        \"We are studying GenAI today.\",\n",
    "        \"How's the weather?\",\n",
    "        \"Jio Institute is situated in Ulwe.\",\n",
    "        \"Hello there!\"\n",
    "    ]\n",
    ")"
   ]
  },
  {
   "cell_type": "code",
   "execution_count": 27,
   "id": "9db0b2f6",
   "metadata": {},
   "outputs": [
    {
     "data": {
      "text/plain": [
       "(5, 3072)"
      ]
     },
     "execution_count": 27,
     "metadata": {},
     "output_type": "execute_result"
    }
   ],
   "source": [
    "#Embedding is a list of lists - so we convert to a NumPy array to see shape\n",
    "np.array(embeddings).shape"
   ]
  },
  {
   "cell_type": "code",
   "execution_count": 28,
   "id": "6eb10f68",
   "metadata": {},
   "outputs": [],
   "source": [
    "query_embedding = embeddings_model.embed_query(question)"
   ]
  },
  {
   "cell_type": "code",
   "execution_count": 29,
   "id": "a3486fff",
   "metadata": {},
   "outputs": [
    {
     "data": {
      "text/plain": [
       "(3072,)"
      ]
     },
     "execution_count": 29,
     "metadata": {},
     "output_type": "execute_result"
    }
   ],
   "source": [
    "#Embedding is now a list - still we convert to a NumPy array to see shape\n",
    "np.array(query_embedding).shape"
   ]
  },
  {
   "cell_type": "markdown",
   "id": "3fb0acd2",
   "metadata": {},
   "source": [
    "#### Calculating Similarity"
   ]
  },
  {
   "cell_type": "markdown",
   "id": "fcc01df7",
   "metadata": {},
   "source": [
    "There are 3 common metrics used to measure similarity:\n",
    "\n",
    "- Cosine similarity (opposite of cosine distance)\n",
    "- Euclidean distance\n",
    "- Dot product\n",
    "\n",
    "Choice of similarity metric depends on the model, for example, [OpenAI suggests to use cosine similarity](https://platform.openai.com/docs/guides/embeddings/which-distance-function-should-i-use) as the primary metric. However, all the 3 metrics are similar in some aspects, so choice of metric is not a major consideration in general (see article from Google [here](https://developers.google.com/machine-learning/clustering/dnn-clustering/supervised-similarity) that demonstrates proportionality of similarity measures)."
   ]
  },
  {
   "cell_type": "code",
   "execution_count": 30,
   "id": "df12e732",
   "metadata": {},
   "outputs": [],
   "source": [
    "#Sample code for cosine similarity\n",
    "def cosine_similarity(vec1, vec2):\n",
    "    dot_product = np.dot(vec1, vec2)\n",
    "    norm_vec1 = np.linalg.norm(vec1)\n",
    "    norm_vec2 = np.linalg.norm(vec2)\n",
    "    return dot_product / (norm_vec1 * norm_vec2)"
   ]
  },
  {
   "cell_type": "code",
   "execution_count": 31,
   "id": "062c79d5",
   "metadata": {},
   "outputs": [
    {
     "data": {
      "text/plain": [
       "'What is the PGP AI & DS at Jio Institute all about?'"
      ]
     },
     "execution_count": 31,
     "metadata": {},
     "output_type": "execute_result"
    }
   ],
   "source": [
    "question"
   ]
  },
  {
   "cell_type": "code",
   "execution_count": 32,
   "id": "8a9a8790",
   "metadata": {},
   "outputs": [],
   "source": [
    "query_1_embedding = embeddings_model.embed_query(\"Jio Institute has a good batch of Data Science and AI students!\")\n",
    "query_2_embedding = embeddings_model.embed_query(\"What is the best PGP program at Jio Institute?\")"
   ]
  },
  {
   "cell_type": "code",
   "execution_count": 33,
   "id": "926dd432",
   "metadata": {},
   "outputs": [
    {
     "name": "stdout",
     "output_type": "stream",
     "text": [
      "Cosine Similarity: 0.6007616827411798\n"
     ]
    }
   ],
   "source": [
    "similarity = cosine_similarity(query_1_embedding, query_2_embedding)\n",
    "print(\"Cosine Similarity:\", similarity)"
   ]
  },
  {
   "cell_type": "markdown",
   "id": "dbe23680",
   "metadata": {},
   "source": [
    "It has a high cosine similarity, as expected.\n",
    "\n",
    "**Question**: \n",
    "- What is the min and max of cosine similarity metric?\n",
    "- What about dot product (inner product)?\n",
    "- What about euclidean distance?"
   ]
  },
  {
   "cell_type": "markdown",
   "id": "8d5820a1",
   "metadata": {},
   "source": [
    "### Loading Documents"
   ]
  },
  {
   "cell_type": "markdown",
   "id": "263f2d00",
   "metadata": {},
   "source": [
    "Reference - [Document Loaders](https://python.langchain.com/docs/integrations/document_loaders/)"
   ]
  },
  {
   "cell_type": "markdown",
   "id": "c9913951",
   "metadata": {},
   "source": [
    "**What is Beautiful Soup?** It is a library used to scrape information from web pages. It uses an HTML or XML parser under the hood!"
   ]
  },
  {
   "cell_type": "code",
   "execution_count": 34,
   "id": "41834ac0",
   "metadata": {},
   "outputs": [
    {
     "name": "stderr",
     "output_type": "stream",
     "text": [
      "USER_AGENT environment variable not set, consider setting it to identify your requests.\n"
     ]
    }
   ],
   "source": [
    "import bs4 #import Beautiful Soup\n",
    "from langchain_community.document_loaders import WebBaseLoader"
   ]
  },
  {
   "cell_type": "code",
   "execution_count": 35,
   "id": "b49595a0",
   "metadata": {
    "scrolled": true
   },
   "outputs": [
    {
     "name": "stdout",
     "output_type": "stream",
     "text": [
      "Total characters: 4210\n",
      "\n",
      "\n",
      "\n",
      "\n",
      "\n",
      "\n",
      "\n",
      "\n",
      "\n",
      "\n",
      "About Us\n",
      "\n",
      "\n",
      "\n",
      "\n",
      "\n",
      "\n",
      "Jio Institute is a multidisciplinary higher education institute set up as a philanthropic initiative by the Reliance Group. The Institute is dedicated to the pursuit of excellence by bringing together global scholars and thought leaders and providing an enriching student experience through world-class education, and a culture of research and innovation.\n",
      "\n",
      "\n",
      "\n",
      "\n",
      "\n",
      "\n",
      "\n",
      " \n",
      "\n",
      "\n",
      "\n",
      "\n",
      "\n",
      "\n",
      "\n",
      "\n",
      "\n",
      "\n",
      "\n",
      "\n",
      "\n",
      "\n",
      "\n",
      "\n",
      "\n",
      " \n",
      "\n",
      "\n",
      "Our Story\n",
      "Pursuit of excellence in academics, research and innovation.\n",
      "We stand at the confluence of the best higher education practices from India and the world. The institute aims to nurture students’ aspirations, and provide a platform to their entrepreneurial spirit.\n",
      "\n",
      "Read more\n",
      "\n",
      "\n",
      "\n",
      "\n",
      "\n",
      " \n",
      "\n",
      "\n",
      "Our Vision\n",
      "In sync with global aspirations. In step with changing times.\n",
      "We envisage to be a world-class higher education institute through our multi-disciplinary academic programmes, robust research endeavours and a culture of innovation and entrepreneurship.\n",
      "\n",
      "Read more\n",
      "\n",
      "\n",
      "\n",
      "\n",
      "\n",
      " \n",
      "\n",
      "\n",
      "Growth Plan\n",
      "Well thought out growth strategy.\n",
      "In the future, we envisage to cater to 10,000 students across multiple disciplines covering undergraduate, post graduate, doctoral, and post-doctoral programmes.\n",
      "\n",
      "Read more\n",
      "\n",
      "\n",
      "\n",
      "\n",
      "\n",
      "\n",
      "\n",
      "\n",
      "\n",
      "\n",
      "\n",
      "\n",
      "\n",
      "\n",
      "\n",
      "\n",
      "\n",
      "\n",
      "\n",
      "\n",
      "\n",
      "\n",
      "Founders\n",
      "Our founders’ legacy of transformative endeavors and their unwavering faith in the potential of India’s youth form the keystone of Jio Institute.\n",
      "\n",
      "\n",
      "\n",
      "\n",
      "\n",
      "\n",
      "\n",
      "\n",
      "\n",
      "\n",
      "\n",
      "\n",
      "\n",
      "\n",
      "\n",
      "Smt. Nita Ambani\n",
      "Founder Chairperson, Reliance Foundation Institution of Education and Research\n",
      "Know More\n",
      "\n",
      "\n",
      "\n",
      "\n",
      "\n",
      "\n",
      "\n",
      "\n",
      "\n",
      "\n",
      "\n",
      "\n",
      "\n",
      "Shri Mukesh Ambani\n",
      "Chairman and Managing Director, Reliance Industries Limited\n",
      "Know More\n",
      "\n",
      "\n",
      "\n",
      "\n",
      "\n",
      "\n",
      "\n",
      "\n",
      "\n",
      "\n",
      "\n",
      "\n",
      "\n",
      "\n",
      "\n",
      "\n",
      "\n",
      "\n",
      "Governing Council\n",
      "\n",
      "\n",
      "\n",
      "\n",
      "\n",
      "\n",
      "\n",
      "FOUNDER\n",
      "Smt. Nita Ambani\n",
      "\n",
      "Founder Chairperson, Reliance Foundation Institution of Education and Research\n",
      "\n",
      "\n",
      "See Profile\n",
      "\n",
      "\n",
      "\n",
      "\n",
      "\n",
      "\n",
      "Chancellor\n",
      "Dr. Raghunath Mashelkar\n",
      "\n",
      "Padma Vibhushan | Former Director General, CSIR, Government of India | Ex-officio invitee, Governing Council, Jio Institute\n",
      "\n",
      "\n",
      "See Profile\n",
      "\n",
      "\n",
      "\n",
      "\n",
      "\n",
      "\n",
      "\n",
      "Mr. Akash Ambani\n",
      "\n",
      "Chairman, Reliance Jio Infocomm Ltd | Director, Reliance Retail Ventures Ltd.\n",
      "\n",
      "\n",
      "See Profile\n",
      "\n",
      "\n",
      "\n",
      "\n",
      "\n",
      "\n",
      "VICE-CHANCELLOR\n",
      "Dr. Dipak Jain\n",
      "\n",
      "Former Dean, Kellogg School of Management, USA  | Former Dean, INSEAD, France | Ex-officio invitee, Governing Council, Jio Institute\n",
      "\n",
      "\n",
      "See Profile\n",
      "\n",
      "\n",
      "\n",
      "\n",
      "\n",
      "\n",
      "\n",
      "Ms. Isha Ambani\n",
      "\n",
      "Member of Executive Leadership teams, Reliance Retail, Reliance Jio, Reliance Foundation, and Dhirubhai Ambani International School\n",
      "\n",
      "\n",
      "See Profile\n",
      "\n",
      "\n",
      "\n",
      "\n",
      "\n",
      "\n",
      "\n",
      "Dr. Pradeep Khosla\n",
      "\n",
      "Chancellor, University of California, San Diego, USA\n",
      "\n",
      "\n",
      "See Profile\n",
      "\n",
      "\n",
      "\n",
      "\n",
      "\n",
      "\n",
      "\n",
      "Mr. Anant Ambani\n",
      "\n",
      "Director, Jio Platforms Limited and Reliance Retail Ventures Ltd. \n",
      "\n",
      "\n",
      "See Profile\n",
      "\n",
      "\n",
      "\n",
      "\n",
      "\n",
      "\n",
      "\n",
      "Dr. Bimal Patel\n",
      "\n",
      "President, CEPT University | Managing Director, HCP Design, Planning and Management Pvt. Ltd.\n",
      "\n",
      "\n",
      "See Profile\n",
      "\n",
      "\n",
      "\n",
      "\n",
      "\n",
      "\n",
      "\n",
      "Mr. Vikram  Mehta\n",
      "\n",
      "Former Executive Chairman, Brookings India | Former CEO, Shell India\n",
      "\n",
      "\n",
      "See Profile\n",
      "\n",
      "\n",
      "\n",
      "\n",
      "\n",
      "\n",
      "\n",
      "Mr. Jalaj Dani\n",
      "\n",
      "Chairman of the Board of Governors, IIM Trichy  | Co-Promoter, Asian Paints\n",
      "\n",
      "\n",
      "See Profile\n",
      "\n",
      "\n",
      "\n",
      "\n",
      "\n",
      "\n",
      "\n",
      "Mr. R. Venkataramanan\n",
      "\n",
      "Former Managing Trustee, Tata Trusts\n",
      "\n",
      "\n",
      "See Profile\n",
      "\n",
      "\n",
      "\n",
      "\n",
      "\n",
      "\n",
      "\n",
      "\n",
      "\n",
      "\n",
      "\n",
      "\n",
      "\n",
      "\n",
      "\n",
      "\n",
      "\n",
      "\n",
      "Jio Institute Leadership\n",
      "From reputed academicians and researchers around the world to Indian stalwarts across the spectrum – Jio Institute’s distinguished leadership is committed to guiding the Institute from strength to strength.\n",
      "\n",
      "\n",
      "\n",
      "\n",
      "\n",
      "\n",
      "\n",
      "\n",
      "\n",
      "\n",
      "\n",
      "Chancellor\n",
      "          Dr. Raghunath Mashelkar\n",
      "        \n",
      "Padma Vibhushan | Former Director General, CSIR, Government of India\n",
      "\n",
      "\n",
      "See Profile\n",
      "\n",
      "\n",
      "\n",
      "\n",
      "\n",
      "\n",
      "\n",
      "\n",
      "VICE-CHANCELLOR\n",
      "          Dr. Dipak Jain\n",
      "        \n",
      "Former Dean, Kellogg School of Management, USA  | Former Dean, INSEAD, France\n",
      "\n",
      "\n",
      "See Profile\n",
      "\n",
      "\n",
      "\n",
      "\n",
      "\n",
      "\n",
      "\n",
      "\n",
      "\n",
      "\n",
      "\n",
      "\n",
      "\n",
      "\n",
      "\n",
      "\n",
      "\n",
      "\n",
      "\n",
      "\n",
      "\n",
      "Campus Experience & Student Life\n",
      "A vibrant campus replete with world-class facilities.\n",
      "\n",
      "\n",
      "\n",
      "\n",
      "\n",
      "\n",
      "\n",
      "\n",
      "\n",
      "\n",
      "\n",
      "\n",
      "                         Food & Dining\n",
      "                        \n",
      "\n",
      "\n",
      "\n",
      "\n",
      "\n",
      "\n",
      "\n",
      "\n",
      "                         Auditorium\n",
      "                        \n",
      "\n",
      "\n",
      "\n",
      "\n",
      "\n",
      "\n",
      "\n",
      "\n",
      "                         Library\n",
      "                        \n",
      "\n",
      "\n",
      "\n",
      "\n",
      "\n",
      "\n",
      "\n",
      "\n",
      "                         Tech Enabled Classrooms\n",
      "                        \n",
      "\n",
      "\n",
      "\n",
      "\n",
      "\n",
      "\n",
      "\n",
      "\n",
      "                         State of the art labs\n",
      "                        \n",
      "\n",
      "\n",
      "\n",
      "\n",
      "\n",
      "\n",
      "\n",
      "\n",
      "                         Sport & Fitness\n",
      "                        \n",
      "\n",
      "\n",
      "\n",
      "\n",
      "\n",
      "Previous\n",
      "Next\n",
      "\n",
      "\n",
      "\n",
      "\n",
      "\n",
      "\n",
      "Explore Campus Life\n",
      "\n",
      "\n",
      "\n",
      "\n",
      "\n",
      "\n",
      "\n",
      "\n",
      "\n",
      "\n",
      "\n"
     ]
    }
   ],
   "source": [
    "# Only keep the main content from the full HTML\n",
    "bs4_strainer = bs4.SoupStrainer(class_=(\"node__content clearfix\", \"col-md-9 pl-lg-5\"))\n",
    "loader = WebBaseLoader(\n",
    "    web_paths=(\"https://www.jioinstitute.edu.in/about/\",\n",
    "    \"https://www.jioinstitute.edu.in/academics/artificial-intelligence-data-science\"),\n",
    "    bs_kwargs={\"parse_only\": bs4_strainer},\n",
    ")\n",
    "docs = loader.load()\n",
    "\n",
    "assert len(docs) == 2\n",
    "\n",
    "print(f\"Total characters: {len(docs[0].page_content)}\")\n",
    "print(docs[0].page_content) # Print a snippet to verify"
   ]
  },
  {
   "cell_type": "code",
   "execution_count": 36,
   "id": "17bef68c",
   "metadata": {},
   "outputs": [],
   "source": [
    "# --- Post-processing to clean up excessive newlines and whitespace ---\n",
    "for i, doc in enumerate(docs):\n",
    "    if doc.page_content:\n",
    "        # 1. Replace multiple newlines with a single newline\n",
    "        cleaned_content = re.sub(r'\\n\\s*\\n', '\\n\\n', doc.page_content)\n",
    "        # 2. Replace multiple spaces with a single space\n",
    "        cleaned_content = re.sub(r' {2,}', ' ', cleaned_content)\n",
    "        # 3. Strip leading/trailing whitespace from each line\n",
    "        cleaned_content = '\\n'.join([line.strip() for line in cleaned_content.split('\\n')])\n",
    "        # 4. Remove leading/trailing whitespace from the whole string\n",
    "        cleaned_content = cleaned_content.strip()\n",
    "    \n",
    "        docs[i].page_content = cleaned_content\n",
    "# --- End of post-processing ---"
   ]
  },
  {
   "cell_type": "code",
   "execution_count": 37,
   "id": "7e467d9d",
   "metadata": {},
   "outputs": [
    {
     "name": "stdout",
     "output_type": "stream",
     "text": [
      "Total characters: 3548\n",
      "\n",
      "--- Cleaned Content Snippet ---\n",
      "About Us\n",
      "\n",
      "Jio Institute is a multidisciplinary higher education institute set up as a philanthropic initiative by the Reliance Group. The Institute is dedicated to the pursuit of excellence by bringing together global scholars and thought leaders and providing an enriching student experience through world-class education, and a culture of research and innovation.\n",
      "\n",
      "Our Story\n",
      "Pursuit of excellence in academics, research and innovation.\n",
      "We stand at the confluence of the best higher education practices from India and the world. The institute aims to nurture students’ aspirations, and provide a platform to their entrepreneurial spirit.\n",
      "\n",
      "Read more\n",
      "\n",
      "Our Vision\n",
      "In sync with global aspirations. In step with changing times.\n",
      "We envisage to be a world-class higher education institute through our multi-disciplinary academic programmes, robust research endeavours and a culture of innovation and entrepreneurship.\n",
      "\n",
      "Read more\n",
      "\n",
      "Growth Plan\n",
      "Well thought out growth strategy.\n",
      "In the future, we envisage to \n"
     ]
    }
   ],
   "source": [
    "print(f\"Total characters: {len(docs[0].page_content)}\")\n",
    "print(\"\\n--- Cleaned Content Snippet ---\")\n",
    "print(docs[0].page_content[:1000]) # Print a snippet to verify"
   ]
  },
  {
   "cell_type": "code",
   "execution_count": 38,
   "id": "3b5f9d72",
   "metadata": {},
   "outputs": [
    {
     "name": "stdout",
     "output_type": "stream",
     "text": [
      "Total characters: 37253\n",
      "\n",
      "--- Cleaned Content Snippet ---\n",
      "PGP in Artificial Intelligence & Data Science\n",
      "\n",
      "This postgraduate programme has a comprehensive and rigorous curriculum that covers foundation and advanced courses to train future-ready full-stack data scientists and AI architects.  Download Brochure\n",
      "\n",
      "Video\n",
      "\n",
      "Video\n",
      "\n",
      "Video\n",
      "\n",
      "Video\n",
      "\n",
      "Video\n",
      "\n",
      "Video\n",
      "\n",
      "Video\n",
      "\n",
      "Video\n",
      "\n",
      "Programme overviewIn this programme, students will embark on a journey that explores the fascinating realm of cutting-edge AI technologies that are reshaping industries, revolutionizing decision-making, and transforming the way we interact with data/information. Our comprehensive and rigorous curriculum covers courses from foundation to advanced levels. Key concepts and technologies include Machine Learning, Deep Learning, Fundamentals of AI, Natural Language Processing (NLP), Optimization, Bigdata Engineering, Data Visualisation, Responsible AI, Reinforcement Learning and Time Series Analysis. The various courses are taught by renowned research-oriented faculty and industry practitio\n"
     ]
    }
   ],
   "source": [
    "print(f\"Total characters: {len(docs[1].page_content)}\")\n",
    "print(\"\\n--- Cleaned Content Snippet ---\")\n",
    "print(docs[1].page_content[:1000]) # Print a snippet to verify"
   ]
  },
  {
   "cell_type": "markdown",
   "id": "e3158de3",
   "metadata": {
    "jp-MarkdownHeadingCollapsed": true
   },
   "source": [
    "#### Other Useful Loaders - UnstructuredPDFLoader (Example Implementation)"
   ]
  },
  {
   "cell_type": "markdown",
   "id": "2aac4395",
   "metadata": {},
   "source": [
    "[Portable Document Format (PDF)](https://en.wikipedia.org/wiki/PDF), standardized as ISO 32000, is a file format developed by Adobe in 1992 to present documents, including text formatting and images, in a manner independent of application software, hardware, and operating systems.\n",
    "\n",
    "LangChain integrates with a host of PDF parsers. Some are simple and relatively low-level; others will support OCR and image-processing, or perform advanced document layout analysis. The right choice will depend on your use-case and through experimentation.\n",
    "\n",
    "Here we will see how to load PDF documents into the LangChain `Document` format\n",
    "\n",
    "We download a research paper to experiment with."
   ]
  },
  {
   "cell_type": "code",
   "execution_count": 39,
   "id": "65c4313e",
   "metadata": {},
   "outputs": [
    {
     "name": "stderr",
     "output_type": "stream",
     "text": [
      "huggingface/tokenizers: The current process just got forked, after parallelism has already been used. Disabling parallelism to avoid deadlocks...\n",
      "To disable this warning, you can either:\n",
      "\t- Avoid using `tokenizers` before the fork if possible\n",
      "\t- Explicitly set the environment variable TOKENIZERS_PARALLELISM=(true | false)\n"
     ]
    },
    {
     "name": "stdout",
     "output_type": "stream",
     "text": [
      "--2025-07-10 16:37:37--  http://arxiv.org/pdf/2103.15348.pdf\n",
      "Resolving arxiv.org (arxiv.org)... 151.101.131.42, 151.101.3.42, 151.101.67.42, ...\n",
      "Connecting to arxiv.org (arxiv.org)|151.101.131.42|:80... connected.\n",
      "HTTP request sent, awaiting response... 301 Moved Permanently\n",
      "Location: http://arxiv.org/pdf/2103.15348 [following]\n",
      "--2025-07-10 16:37:37--  http://arxiv.org/pdf/2103.15348\n",
      "Reusing existing connection to arxiv.org:80.\n",
      "HTTP request sent, awaiting response... 200 OK\n",
      "Length: 4686220 (4.5M) [application/pdf]\n",
      "Saving to: 'layoutparser_paper.pdf'\n",
      "\n",
      "layoutparser_paper. 100%[===================>]   4.47M  3.81MB/s    in 1.2s    \n",
      "\n",
      "2025-07-10 16:37:39 (3.81 MB/s) - 'layoutparser_paper.pdf' saved [4686220/4686220]\n",
      "\n"
     ]
    }
   ],
   "source": [
    "!wget -O 'layoutparser_paper.pdf' 'http://arxiv.org/pdf/2103.15348.pdf'"
   ]
  },
  {
   "cell_type": "markdown",
   "id": "2c83fbc2",
   "metadata": {},
   "source": [
    "**UnstructuredPDFLoader**\n",
    "\n",
    "[Unstructured.io](https://unstructured-io.github.io/unstructured/) supports a common interface for working with unstructured or semi-structured file formats, such as Markdown or PDF. LangChain's [`UnstructuredPDFLoader`](https://api.python.langchain.com/en/latest/document_loaders/langchain_community.document_loaders.pdf.UnstructuredPDFLoader.html) integrates with Unstructured to parse PDF documents into LangChain [`Document`](https://api.python.langchain.com/en/latest/documents/langchain_core.documents.base.Document.html) objects."
   ]
  },
  {
   "cell_type": "code",
   "execution_count": 40,
   "id": "72c38057",
   "metadata": {},
   "outputs": [],
   "source": [
    "from langchain_community.document_loaders import UnstructuredPDFLoader"
   ]
  },
  {
   "cell_type": "code",
   "execution_count": 42,
   "id": "1aa9de96",
   "metadata": {},
   "outputs": [
    {
     "name": "stderr",
     "output_type": "stream",
     "text": [
      "huggingface/tokenizers: The current process just got forked, after parallelism has already been used. Disabling parallelism to avoid deadlocks...\n",
      "To disable this warning, you can either:\n",
      "\t- Avoid using `tokenizers` before the fork if possible\n",
      "\t- Explicitly set the environment variable TOKENIZERS_PARALLELISM=(true | false)\n",
      "[nltk_data] Error loading averaged_perceptron_tagger_eng: <urlopen\n",
      "[nltk_data]     error [SSL: CERTIFICATE_VERIFY_FAILED] certificate\n",
      "[nltk_data]     verify failed: unable to get local issuer certificate\n",
      "[nltk_data]     (_ssl.c:1000)>\n",
      "[nltk_data] Error loading punkt_tab: <urlopen error [SSL:\n",
      "[nltk_data]     CERTIFICATE_VERIFY_FAILED] certificate verify failed:\n",
      "[nltk_data]     unable to get local issuer certificate (_ssl.c:1000)>\n",
      "huggingface/tokenizers: The current process just got forked, after parallelism has already been used. Disabling parallelism to avoid deadlocks...\n",
      "To disable this warning, you can either:\n",
      "\t- Avoid using `tokenizers` before the fork if possible\n",
      "\t- Explicitly set the environment variable TOKENIZERS_PARALLELISM=(true | false)\n",
      "huggingface/tokenizers: The current process just got forked, after parallelism has already been used. Disabling parallelism to avoid deadlocks...\n",
      "To disable this warning, you can either:\n",
      "\t- Avoid using `tokenizers` before the fork if possible\n",
      "\t- Explicitly set the environment variable TOKENIZERS_PARALLELISM=(true | false)\n",
      "huggingface/tokenizers: The current process just got forked, after parallelism has already been used. Disabling parallelism to avoid deadlocks...\n",
      "To disable this warning, you can either:\n",
      "\t- Avoid using `tokenizers` before the fork if possible\n",
      "\t- Explicitly set the environment variable TOKENIZERS_PARALLELISM=(true | false)\n",
      "huggingface/tokenizers: The current process just got forked, after parallelism has already been used. Disabling parallelism to avoid deadlocks...\n",
      "To disable this warning, you can either:\n",
      "\t- Avoid using `tokenizers` before the fork if possible\n",
      "\t- Explicitly set the environment variable TOKENIZERS_PARALLELISM=(true | false)\n",
      "huggingface/tokenizers: The current process just got forked, after parallelism has already been used. Disabling parallelism to avoid deadlocks...\n",
      "To disable this warning, you can either:\n",
      "\t- Avoid using `tokenizers` before the fork if possible\n",
      "\t- Explicitly set the environment variable TOKENIZERS_PARALLELISM=(true | false)\n",
      "huggingface/tokenizers: The current process just got forked, after parallelism has already been used. Disabling parallelism to avoid deadlocks...\n",
      "To disable this warning, you can either:\n",
      "\t- Avoid using `tokenizers` before the fork if possible\n",
      "\t- Explicitly set the environment variable TOKENIZERS_PARALLELISM=(true | false)\n",
      "huggingface/tokenizers: The current process just got forked, after parallelism has already been used. Disabling parallelism to avoid deadlocks...\n",
      "To disable this warning, you can either:\n",
      "\t- Avoid using `tokenizers` before the fork if possible\n",
      "\t- Explicitly set the environment variable TOKENIZERS_PARALLELISM=(true | false)\n",
      "The `max_size` parameter is deprecated and will be removed in v4.26. Please specify in `size['longest_edge'] instead`.\n",
      "huggingface/tokenizers: The current process just got forked, after parallelism has already been used. Disabling parallelism to avoid deadlocks...\n",
      "To disable this warning, you can either:\n",
      "\t- Avoid using `tokenizers` before the fork if possible\n",
      "\t- Explicitly set the environment variable TOKENIZERS_PARALLELISM=(true | false)\n",
      "huggingface/tokenizers: The current process just got forked, after parallelism has already been used. Disabling parallelism to avoid deadlocks...\n",
      "To disable this warning, you can either:\n",
      "\t- Avoid using `tokenizers` before the fork if possible\n",
      "\t- Explicitly set the environment variable TOKENIZERS_PARALLELISM=(true | false)\n",
      "huggingface/tokenizers: The current process just got forked, after parallelism has already been used. Disabling parallelism to avoid deadlocks...\n",
      "To disable this warning, you can either:\n",
      "\t- Avoid using `tokenizers` before the fork if possible\n",
      "\t- Explicitly set the environment variable TOKENIZERS_PARALLELISM=(true | false)\n",
      "huggingface/tokenizers: The current process just got forked, after parallelism has already been used. Disabling parallelism to avoid deadlocks...\n",
      "To disable this warning, you can either:\n",
      "\t- Avoid using `tokenizers` before the fork if possible\n",
      "\t- Explicitly set the environment variable TOKENIZERS_PARALLELISM=(true | false)\n",
      "huggingface/tokenizers: The current process just got forked, after parallelism has already been used. Disabling parallelism to avoid deadlocks...\n",
      "To disable this warning, you can either:\n",
      "\t- Avoid using `tokenizers` before the fork if possible\n",
      "\t- Explicitly set the environment variable TOKENIZERS_PARALLELISM=(true | false)\n",
      "huggingface/tokenizers: The current process just got forked, after parallelism has already been used. Disabling parallelism to avoid deadlocks...\n",
      "To disable this warning, you can either:\n",
      "\t- Avoid using `tokenizers` before the fork if possible\n",
      "\t- Explicitly set the environment variable TOKENIZERS_PARALLELISM=(true | false)\n",
      "huggingface/tokenizers: The current process just got forked, after parallelism has already been used. Disabling parallelism to avoid deadlocks...\n",
      "To disable this warning, you can either:\n",
      "\t- Avoid using `tokenizers` before the fork if possible\n",
      "\t- Explicitly set the environment variable TOKENIZERS_PARALLELISM=(true | false)\n",
      "huggingface/tokenizers: The current process just got forked, after parallelism has already been used. Disabling parallelism to avoid deadlocks...\n",
      "To disable this warning, you can either:\n",
      "\t- Avoid using `tokenizers` before the fork if possible\n",
      "\t- Explicitly set the environment variable TOKENIZERS_PARALLELISM=(true | false)\n",
      "huggingface/tokenizers: The current process just got forked, after parallelism has already been used. Disabling parallelism to avoid deadlocks...\n",
      "To disable this warning, you can either:\n",
      "\t- Avoid using `tokenizers` before the fork if possible\n",
      "\t- Explicitly set the environment variable TOKENIZERS_PARALLELISM=(true | false)\n",
      "huggingface/tokenizers: The current process just got forked, after parallelism has already been used. Disabling parallelism to avoid deadlocks...\n",
      "To disable this warning, you can either:\n",
      "\t- Avoid using `tokenizers` before the fork if possible\n",
      "\t- Explicitly set the environment variable TOKENIZERS_PARALLELISM=(true | false)\n",
      "huggingface/tokenizers: The current process just got forked, after parallelism has already been used. Disabling parallelism to avoid deadlocks...\n",
      "To disable this warning, you can either:\n",
      "\t- Avoid using `tokenizers` before the fork if possible\n",
      "\t- Explicitly set the environment variable TOKENIZERS_PARALLELISM=(true | false)\n",
      "huggingface/tokenizers: The current process just got forked, after parallelism has already been used. Disabling parallelism to avoid deadlocks...\n",
      "To disable this warning, you can either:\n",
      "\t- Avoid using `tokenizers` before the fork if possible\n",
      "\t- Explicitly set the environment variable TOKENIZERS_PARALLELISM=(true | false)\n",
      "huggingface/tokenizers: The current process just got forked, after parallelism has already been used. Disabling parallelism to avoid deadlocks...\n",
      "To disable this warning, you can either:\n",
      "\t- Avoid using `tokenizers` before the fork if possible\n",
      "\t- Explicitly set the environment variable TOKENIZERS_PARALLELISM=(true | false)\n",
      "huggingface/tokenizers: The current process just got forked, after parallelism has already been used. Disabling parallelism to avoid deadlocks...\n",
      "To disable this warning, you can either:\n",
      "\t- Avoid using `tokenizers` before the fork if possible\n",
      "\t- Explicitly set the environment variable TOKENIZERS_PARALLELISM=(true | false)\n",
      "huggingface/tokenizers: The current process just got forked, after parallelism has already been used. Disabling parallelism to avoid deadlocks...\n",
      "To disable this warning, you can either:\n",
      "\t- Avoid using `tokenizers` before the fork if possible\n",
      "\t- Explicitly set the environment variable TOKENIZERS_PARALLELISM=(true | false)\n",
      "huggingface/tokenizers: The current process just got forked, after parallelism has already been used. Disabling parallelism to avoid deadlocks...\n",
      "To disable this warning, you can either:\n",
      "\t- Avoid using `tokenizers` before the fork if possible\n",
      "\t- Explicitly set the environment variable TOKENIZERS_PARALLELISM=(true | false)\n",
      "huggingface/tokenizers: The current process just got forked, after parallelism has already been used. Disabling parallelism to avoid deadlocks...\n",
      "To disable this warning, you can either:\n",
      "\t- Avoid using `tokenizers` before the fork if possible\n",
      "\t- Explicitly set the environment variable TOKENIZERS_PARALLELISM=(true | false)\n",
      "huggingface/tokenizers: The current process just got forked, after parallelism has already been used. Disabling parallelism to avoid deadlocks...\n",
      "To disable this warning, you can either:\n",
      "\t- Avoid using `tokenizers` before the fork if possible\n",
      "\t- Explicitly set the environment variable TOKENIZERS_PARALLELISM=(true | false)\n",
      "huggingface/tokenizers: The current process just got forked, after parallelism has already been used. Disabling parallelism to avoid deadlocks...\n",
      "To disable this warning, you can either:\n",
      "\t- Avoid using `tokenizers` before the fork if possible\n",
      "\t- Explicitly set the environment variable TOKENIZERS_PARALLELISM=(true | false)\n",
      "huggingface/tokenizers: The current process just got forked, after parallelism has already been used. Disabling parallelism to avoid deadlocks...\n",
      "To disable this warning, you can either:\n",
      "\t- Avoid using `tokenizers` before the fork if possible\n",
      "\t- Explicitly set the environment variable TOKENIZERS_PARALLELISM=(true | false)\n"
     ]
    }
   ],
   "source": [
    "#This takes 3-4 minutes to run\n",
    "loader = UnstructuredPDFLoader('./layoutparser_paper.pdf',\n",
    "                               strategy='hi_res',\n",
    "                               extract_images_in_pdf=True,\n",
    "                               infer_table_structure=True,\n",
    "                               chunking_strategy=\"by_title\", # section-based chunking\n",
    "                               max_characters=4000, # max size of chunks\n",
    "                               new_after_n_chars=3800, # preferred size of chunks\n",
    "                               combine_text_under_n_chars=2000, # smaller chunks < 2000 chars will be combined into a larger chunk\n",
    "                               mode='elements')\n",
    "data = loader.load()"
   ]
  },
  {
   "cell_type": "code",
   "execution_count": 44,
   "id": "f76d1d64",
   "metadata": {},
   "outputs": [
    {
     "data": {
      "text/plain": [
       "16"
      ]
     },
     "execution_count": 44,
     "metadata": {},
     "output_type": "execute_result"
    }
   ],
   "source": [
    "len(data)"
   ]
  },
  {
   "cell_type": "code",
   "execution_count": 17,
   "id": "61dcfaf6",
   "metadata": {},
   "outputs": [
    {
     "data": {
      "text/plain": [
       "['CompositeElement',\n",
       " 'CompositeElement',\n",
       " 'CompositeElement',\n",
       " 'CompositeElement',\n",
       " 'CompositeElement',\n",
       " 'CompositeElement',\n",
       " 'CompositeElement',\n",
       " 'CompositeElement',\n",
       " 'CompositeElement',\n",
       " 'CompositeElement',\n",
       " 'CompositeElement',\n",
       " 'CompositeElement',\n",
       " 'CompositeElement',\n",
       " 'CompositeElement',\n",
       " 'CompositeElement',\n",
       " 'CompositeElement']"
      ]
     },
     "execution_count": 17,
     "metadata": {},
     "output_type": "execute_result"
    }
   ],
   "source": [
    "[doc.metadata['category'] for doc in data]"
   ]
  },
  {
   "cell_type": "code",
   "execution_count": 18,
   "id": "b2b1d889",
   "metadata": {},
   "outputs": [
    {
     "data": {
      "text/plain": [
       "Document(metadata={'source': './layoutparser_paper.pdf', 'filetype': 'application/pdf', 'languages': ['eng'], 'last_modified': '2023-01-23T14:45:33', 'page_number': 1, 'orig_elements': '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', 'file_directory': '.', 'filename': 'layoutparser_paper.pdf', 'category': 'CompositeElement', 'element_id': 'ffbacca64b9412bdb8089f4f0e6506b9'}, page_content='[cs.CV] 21 Jun 2021\\n\\n2103.15348v2 arXiv\\n\\nLayoutParser: A Unified Toolkit for Deep Learning Based Document Image Analysis\\n\\nZejiang Shen! (4), Ruochen Zhang”, Melissa Dell?, Benjamin Charles Germain Lee*, Jacob Carlson’, and Weining Li®\\n\\n1 Allen Institute for AI shannons@allenai.org ? Brown University ruochen_zhang@brown.edu 3 Harvard University {melissadell, jacob_carlson}@fas.harvard.edu * University of Washington begl@cs.washington. edu © University of Waterloo w4221i@uwaterloo.ca\\n\\nAbstract. Recent advances in document image analysis (DIA) have been primarily driven by the application of neural networks. Ideally, research outcomes could be easily deployed in production and extended for further investigation. However, various factors like loosely organized codebases and sophisticated model configurations complicate the easy reuse of im- portant innovations by a wide audience. Though there have been on-going efforts to improve reusability and simplify deep learning (DL) model development in disciplines like natural language processing and computer vision, none of them are optimized for challenges in the domain of DIA. This represents a major gap in the existing toolkit, as DIA is central to academic research across a wide range of disciplines in the social sciences and humanities. This paper introduces LayoutParser, an open-source library for streamlining the usage of DL in DIA research and applica- tions. The core LayoutParser library comes with a set of simple and intuitive interfaces for applying and customizing DL models for layout de- tection, character recognition, and many other document processing tasks. To promote extensibility, LayoutParser also incorporates a community platform for sharing both pre-trained models and full document digiti- zation pipelines. We demonstrate that LayoutParser is helpful for both lightweight and large-scale digitization pipelines in real-word use cases. The library is publicly available at https: //layout-parser . github. io|\\n\\nKeywords: Document Image Analysis - Deep Learning - Layout Analysis - Character Recognition - Open Source library - Toolkit.')"
      ]
     },
     "execution_count": 18,
     "metadata": {},
     "output_type": "execute_result"
    }
   ],
   "source": [
    "data[0]"
   ]
  },
  {
   "cell_type": "code",
   "execution_count": 46,
   "id": "d0791206",
   "metadata": {},
   "outputs": [
    {
     "name": "stdout",
     "output_type": "stream",
     "text": [
      "1 Introduction\n",
      "\n",
      "Deep Learning(DL)-based approaches are the state-of-the-art for a wide range of document image analysis (DIA) tasks including document image classification\n",
      "\n",
      "2 Z. Shen et al.\n",
      "\n",
      "table detection [37], layout de and scene text detection [4]. A generalized learning-based framework dramatically reduces the need for the manual specification of complicated rules, which is the status quo with traditional methods. DL has the potential to transform DIA pipelines and benefit a broad spectrum of large-scale document digitization projects.\n",
      "\n",
      "However, there are several practical difficulties for taking advantages of re- cent advances in DL-based methods: 1) DL models are notoriously convoluted for reuse and extension. Existing models are developed using distinct frame- works like TensorFlow [I] or PyTorch be obfuscated by implementation details and the high-level parameters can . It can be a time-consuming and frustrating experience to debug, reproduce, and adapt existing models for DIA, and many researchers who would benefit the most from using these methods lack the technical background to implement them from scratch. 2) Document images contain diverse and disparate patterns across domains, and customized training is often required to achieve a desirable detection accuracy. Currently there is no full-fledged infrastructure for easily curating the target document image datasets and fine-tuning or re-training the models. 3) DIA usually requires a sequence of models and other processing to obtain the final outputs. Often research teams use DL models and then perform further document analyses in separate processes, and these pipelines are not documented in any central location (and often not documented at all). This makes it difficult for research teams to learn about how full pipelines are implemented and leads them to invest significant resources in reinventing the DIA wheel.\n",
      "\n",
      "LayoutParser provides a unified toolkit to support DL-based document image analysis and processing. To address the aforementioned challenges, LayoutParser is built with the following components:\n",
      "\n",
      "1. An off-the-shelf toolkit for applying DL models for recognition, and other DIA tasks (Section B) ayout det ection, character\n",
      "\n",
      "2. A rich repository of pre-trained neural network models (Model Zoo) that underlies the off-the-shelf usage\n",
      "\n",
      "3. Comprehensive tools for efficient document image tuning to support different levels of customization ata annotation and model\n",
      "\n",
      "4. A DL model hub and community platform for t tion, and discussion of DIA models and pipeline: reproducibility, and extensibility (Section [4) ne easy S. haring, distribu- s, to promote reusability,\n",
      "\n",
      "The library implements simple and intuitive Python generalizability and versatility, and can be easily instal led via pi functions for handling document image data can be seamlessly existing DIA pipelines. With detailed documentations and carefully curated tutorials, we hope this tool will benefit a variety of end-users, and will lead to advances in applications in both industry and academic research. APIs without sacrificing p. Its convenient integrated with\n",
      "\n",
      "LayoutParser is well aligned with recent efforts for improving DL model reusability in other disciplines like natural language p: rocessing puter vision [35], but with a focus on unique challenges in LayoutParser can be applied in sophisticated and large-scale digitization projects fl and com- DIA. We show\n",
      "\n",
      "LayoutParser: A Unified Toolkit for DL-Based DIA 3\n",
      "\n",
      "that require precision, efficiency, and robustness, as well as simple and light- weight document processing tasks focusing on efficacy and flexibility (Section 5). LayoutParser is being actively maintained, and support for more deep learning models and novel methods in text-based layout analysis methods [37| is planned.\n"
     ]
    }
   ],
   "source": [
    "print(data[1].page_content)"
   ]
  },
  {
   "cell_type": "code",
   "execution_count": 47,
   "id": "6d82efdd",
   "metadata": {},
   "outputs": [
    {
     "name": "stderr",
     "output_type": "stream",
     "text": [
      "huggingface/tokenizers: The current process just got forked, after parallelism has already been used. Disabling parallelism to avoid deadlocks...\n",
      "To disable this warning, you can either:\n",
      "\t- Avoid using `tokenizers` before the fork if possible\n",
      "\t- Explicitly set the environment variable TOKENIZERS_PARALLELISM=(true | false)\n"
     ]
    },
    {
     "name": "stdout",
     "output_type": "stream",
     "text": [
      "total 648\n",
      "-rw-r--r--@ 1 anantagarwal  staff  84771 Jul  9 12:23 figure-10-4.jpg\n",
      "-rw-r--r--@ 1 anantagarwal  staff  41639 Jul  9 12:23 figure-11-5.jpg\n",
      "-rw-r--r--@ 1 anantagarwal  staff  62560 Jul  9 12:23 figure-13-6.jpg\n",
      "-rw-r--r--@ 1 anantagarwal  staff  36497 Jul  9 12:23 figure-4-1.jpg\n",
      "-rw-r--r--@ 1 anantagarwal  staff  29862 Jul  9 12:23 figure-6-2.jpg\n",
      "-rw-r--r--@ 1 anantagarwal  staff  64442 Jul  9 12:23 figure-9-3.jpg\n"
     ]
    }
   ],
   "source": [
    "! ls -l ./figures"
   ]
  },
  {
   "cell_type": "code",
   "execution_count": 50,
   "id": "7c2b681f",
   "metadata": {},
   "outputs": [
    {
     "data": {
      "image/jpeg": "[encoded data removed]",
      "text/plain": [
       "<IPython.core.display.Image object>"
      ]
     },
     "execution_count": 50,
     "metadata": {},
     "output_type": "execute_result"
    }
   ],
   "source": [
    "from IPython.display import Image\n",
    "\n",
    "Image('./figures/figure-9-3.jpg')"
   ]
  },
  {
   "cell_type": "markdown",
   "id": "53a3d224",
   "metadata": {
    "jp-MarkdownHeadingCollapsed": true
   },
   "source": [
    "### Splitting Documents"
   ]
  },
  {
   "cell_type": "markdown",
   "id": "b98369ad",
   "metadata": {},
   "source": [
    "**Overview**\n",
    "\n",
    "* **Goal of Chunking:** Optimize data for effective future retrieval\n",
    "\n",
    "* **Character Splitting**: Divides text into fixed N-character chunks, ignoring content or structure. However, it's very rigid; disregards text structure, making it generally not recommended.\n",
    "\n",
    "* **Recursive Character Text Splitting**: Addresses character splitting's rigidity by using a series of specified separators to split documents, considering their structure. This is a versatile \"swiss army knife\" approach, often the first choice for quick applications. Some default Separators (e.g., in LangChain):\n",
    "\n",
    "    * `\"\\n\\n\"`: Double newlines (paragraph breaks).\n",
    "    * `\"\\n\"`: Single newlines.\n",
    "    * `\" \"` : Spaces.\n",
    "    * `\"\"` : Individual characters.\n",
    "\n",
    "* **Hyperparameters (should be tuned!):**\n",
    "  * **Chunk Size:** The desired number of characters per chunk (e.g., 50, 100). (**not tokens!**)\n",
    "  * **Chunk Overlap:** The amount sequential chunks overlap to avoid context breaks, creating duplicate data (e.g., if chunk 1 is chars 1-100, chunk 2 might be 81-180 with 20 overlap).\n"
   ]
  },
  {
   "cell_type": "markdown",
   "id": "87dcb70c",
   "metadata": {},
   "source": [
    "**More References**\n",
    "\n",
    "Check out this nice visualization to understand Character Splitting and Recursive Character Text Splitting - https://chunkviz.up.railway.app/\n",
    "\n",
    "Reference (LangChain) - [Text Splitters](https://python.langchain.com/docs/concepts/text_splitters/)\n",
    "\n",
    "Overview of popular methods: \n",
    "\n",
    "| Splitter Type              | Description                                                                                                                              |\n",
    "| :------------------------- | :--------------------------------------------------------------------------------------------------------------------------------------- |\n",
    "| `RecursiveCharacterTextSplitter` | Recursively splits text into larger chunks based on several defined characters. Tries to keep related pieces of text next to each other. LangChain's recommended way to start splitting text |\n",
    "| `CharacterTextSplitter`    | Splits text based on a user defined character. One of the simpler text splitters                                                         |\n",
    "| `tiktoken`                 | Splits text based on tokens using trained LLM tokenizers like GPT-4                                                                      |\n",
    "| `spaCy`                    | Splits text using the tokenizer from the popular NLP library - `spaCy`                                                                   |\n",
    "| `SentenceTransformers`     | Splits text based on tokens using trained open LLM tokenizers available from the popular `sentence-transformers` library                 |\n",
    "| `unstructured.io`          | The unstructured library allows various splitting and chunking strategies including splitting text based on key sections and titles      |"
   ]
  },
  {
   "cell_type": "markdown",
   "id": "1479a13b",
   "metadata": {},
   "source": [
    "#### Recursive Character Text Splitter"
   ]
  },
  {
   "cell_type": "code",
   "execution_count": 40,
   "id": "fda795c4",
   "metadata": {},
   "outputs": [
    {
     "name": "stdout",
     "output_type": "stream",
     "text": [
      "Split blog post into 62 sub-documents.\n"
     ]
    }
   ],
   "source": [
    "from langchain_text_splitters import RecursiveCharacterTextSplitter\n",
    "\n",
    "text_splitter = RecursiveCharacterTextSplitter(\n",
    "    chunk_size=1000,  # chunk size (characters) - hyperparameter that can be tuned\n",
    "    chunk_overlap=200,  # chunk overlap (characters) - hyperparameter that can be tuned\n",
    "    add_start_index=True,  # track index in original document\n",
    ")\n",
    "all_splits = text_splitter.split_documents(docs)\n",
    "\n",
    "print(f\"Split blog post into {len(all_splits)} sub-documents.\")"
   ]
  },
  {
   "cell_type": "code",
   "execution_count": 41,
   "id": "e6505f09",
   "metadata": {
    "scrolled": true
   },
   "outputs": [
    {
     "name": "stdout",
     "output_type": "stream",
     "text": [
      "\n",
      "--- Split0 ---\n",
      "\n",
      "About Us\n",
      "\n",
      "Jio Institute is a multidisciplinary higher education institute set up as a philanthropic initiative by the Reliance Group. The Institute is dedicated to the pursuit of excellence by bringing together global scholars and thought leaders and providing an enriching student experience through world-class education, and a culture of research and innovation.\n",
      "\n",
      "Our Story\n",
      "Pursuit of excellence in academics, research and innovation.\n",
      "We stand at the confluence of the best higher education practices from India and the world. The institute aims to nurture students’ aspirations, and provide a platform to their entrepreneurial spirit.\n",
      "\n",
      "Read more\n",
      "\n",
      "Our Vision\n",
      "In sync with global aspirations. In step with changing times.\n",
      "We envisage to be a world-class higher education institute through our multi-disciplinary academic programmes, robust research endeavours and a culture of innovation and entrepreneurship.\n",
      "\n",
      "Read more\n",
      "\n",
      "--- Split1 ---\n",
      "\n",
      "Read more\n",
      "\n",
      "Growth Plan\n",
      "Well thought out growth strategy.\n",
      "In the future, we envisage to cater to 10,000 students across multiple disciplines covering undergraduate, post graduate, doctoral, and post-doctoral programmes.\n",
      "\n",
      "Read more\n",
      "\n",
      "Founders\n",
      "Our founders’ legacy of transformative endeavors and their unwavering faith in the potential of India’s youth form the keystone of Jio Institute.\n",
      "\n",
      "Smt. Nita Ambani\n",
      "Founder Chairperson, Reliance Foundation Institution of Education and Research\n",
      "Know More\n",
      "\n",
      "Shri Mukesh Ambani\n",
      "Chairman and Managing Director, Reliance Industries Limited\n",
      "Know More\n",
      "\n",
      "Governing Council\n",
      "\n",
      "FOUNDER\n",
      "Smt. Nita Ambani\n",
      "\n",
      "Founder Chairperson, Reliance Foundation Institution of Education and Research\n",
      "\n",
      "See Profile\n",
      "\n",
      "Chancellor\n",
      "Dr. Raghunath Mashelkar\n",
      "\n",
      "Padma Vibhushan | Former Director General, CSIR, Government of India | Ex-officio invitee, Governing Council, Jio Institute\n",
      "\n",
      "See Profile\n",
      "\n",
      "Mr. Akash Ambani\n",
      "\n",
      "Chairman, Reliance Jio Infocomm Ltd | Director, Reliance Retail Ventures Ltd.\n",
      "\n",
      "--- Split2 ---\n",
      "\n",
      "See Profile\n",
      "\n",
      "Mr. Akash Ambani\n",
      "\n",
      "Chairman, Reliance Jio Infocomm Ltd | Director, Reliance Retail Ventures Ltd.\n",
      "\n",
      "See Profile\n",
      "\n",
      "VICE-CHANCELLOR\n",
      "Dr. Dipak Jain\n",
      "\n",
      "Former Dean, Kellogg School of Management, USA | Former Dean, INSEAD, France | Ex-officio invitee, Governing Council, Jio Institute\n",
      "\n",
      "See Profile\n",
      "\n",
      "Ms. Isha Ambani\n",
      "\n",
      "Member of Executive Leadership teams, Reliance Retail, Reliance Jio, Reliance Foundation, and Dhirubhai Ambani International School\n",
      "\n",
      "See Profile\n",
      "\n",
      "Dr. Pradeep Khosla\n",
      "\n",
      "Chancellor, University of California, San Diego, USA\n",
      "\n",
      "See Profile\n",
      "\n",
      "Mr. Anant Ambani\n",
      "\n",
      "Director, Jio Platforms Limited and Reliance Retail Ventures Ltd.\n",
      "\n",
      "See Profile\n",
      "\n",
      "Dr. Bimal Patel\n",
      "\n",
      "President, CEPT University | Managing Director, HCP Design, Planning and Management Pvt. Ltd.\n",
      "\n",
      "See Profile\n",
      "\n",
      "Mr. Vikram Mehta\n",
      "\n",
      "Former Executive Chairman, Brookings India | Former CEO, Shell India\n",
      "\n",
      "See Profile\n",
      "\n",
      "Mr. Jalaj Dani\n",
      "\n",
      "Chairman of the Board of Governors, IIM Trichy | Co-Promoter, Asian Paints\n",
      "\n",
      "See Profile\n",
      "\n",
      "--- Split3 ---\n",
      "\n",
      "Former Executive Chairman, Brookings India | Former CEO, Shell India\n",
      "\n",
      "See Profile\n",
      "\n",
      "Mr. Jalaj Dani\n",
      "\n",
      "Chairman of the Board of Governors, IIM Trichy | Co-Promoter, Asian Paints\n",
      "\n",
      "See Profile\n",
      "\n",
      "Mr. R. Venkataramanan\n",
      "\n",
      "Former Managing Trustee, Tata Trusts\n",
      "\n",
      "See Profile\n",
      "\n",
      "Jio Institute Leadership\n",
      "From reputed academicians and researchers around the world to Indian stalwarts across the spectrum – Jio Institute’s distinguished leadership is committed to guiding the Institute from strength to strength.\n",
      "\n",
      "Chancellor\n",
      "Dr. Raghunath Mashelkar\n",
      "\n",
      "Padma Vibhushan | Former Director General, CSIR, Government of India\n",
      "\n",
      "See Profile\n",
      "\n",
      "VICE-CHANCELLOR\n",
      "Dr. Dipak Jain\n",
      "\n",
      "Former Dean, Kellogg School of Management, USA | Former Dean, INSEAD, France\n",
      "\n",
      "See Profile\n",
      "\n",
      "Campus Experience & Student Life\n",
      "A vibrant campus replete with world-class facilities.\n",
      "\n",
      "Food & Dining\n",
      "\n",
      "Auditorium\n",
      "\n",
      "Library\n",
      "\n",
      "Tech Enabled Classrooms\n",
      "\n",
      "State of the art labs\n",
      "\n",
      "Sport & Fitness\n",
      "\n",
      "Previous\n",
      "Next\n",
      "\n",
      "Explore Campus Life\n",
      "\n",
      "--- Split4 ---\n",
      "\n",
      "PGP in Artificial Intelligence & Data Science\n",
      "\n",
      "This postgraduate programme has a comprehensive and rigorous curriculum that covers foundation and advanced courses to train future-ready full-stack data scientists and AI architects.  Download Brochure\n",
      "\n",
      "Video\n",
      "\n",
      "Video\n",
      "\n",
      "Video\n",
      "\n",
      "Video\n",
      "\n",
      "Video\n",
      "\n",
      "Video\n",
      "\n",
      "Video\n",
      "\n",
      "Video\n",
      "\n",
      "--- Split5 ---\n",
      "\n",
      "Programme overviewIn this programme, students will embark on a journey that explores the fascinating realm of cutting-edge AI technologies that are reshaping industries, revolutionizing decision-making, and transforming the way we interact with data/information. Our comprehensive and rigorous curriculum covers courses from foundation to advanced levels. Key concepts and technologies include Machine Learning, Deep Learning, Fundamentals of AI, Natural Language Processing (NLP), Optimization, Bigdata Engineering, Data Visualisation, Responsible AI, Reinforcement Learning and Time Series Analysis. The various courses are taught by renowned research-oriented faculty and industry practitioners from India and from around the world. The programme aims to instil strong theoretical foundations as well as the know-how to create practical solutions for enterprises and society. Students learn to convert business problems and workflows into AI&DS products and solutions across multiple\n",
      "\n",
      "--- Split6 ---\n",
      "\n",
      "as well as the know-how to create practical solutions for enterprises and society. Students learn to convert business problems and workflows into AI&DS products and solutions across multiple verticals/industries. Enriched by exposure to real-life AI&DS applications through capstone projects and lectures from industry veterans, students are exposed to hands-on exercises, practical projects and quizzes to reinforce their learning.\n",
      "\n",
      "--- Split7 ---\n",
      "\n",
      "PGP in Artificial Intelligence & Data Science\n",
      "\n",
      "Leadership\n",
      "Faculty\n",
      "Advisors\n",
      "Curriculum\n",
      "Tools\n",
      "Highlights\n",
      "Admissions\n",
      "FAQ\n",
      "Brochure\n",
      "\n",
      "PGP in Artificial Intelligence & Data Science\n",
      "\n",
      "Choose your purpose\n",
      "\n",
      "Leadership\n",
      "Faculty\n",
      "Advisors\n",
      "Curriculum\n",
      "Tools\n",
      "Highlights\n",
      "Admissions\n",
      "FAQ\n",
      "Brochure\n",
      "\n",
      "Programme Leadership\n",
      "\n",
      "Dr. Larry Birnbaum\n",
      "\n",
      "Professor, Computer Science, Northwestern University, USA\n",
      "\n",
      "See Profile\n",
      "\n",
      "Dr. Shailesh Kumar\n",
      "\n",
      "Chief Data Scientist, Center of Excellence in AI/ML, Reliance Jio\n",
      "\n",
      "See Profile\n",
      "\n",
      "Faculty\n",
      "\n",
      "Anant Agarwal\n",
      "Data Science Manager, Nissan Motor Corporation, India\n",
      "\n",
      "See Profile\n",
      "\n",
      "Anmol Karnwal\n",
      "Applied AI Scientist, Microsoft, India\n",
      "\n",
      "See Profile\n",
      "\n",
      "Dr. Arindam Banerjee\n",
      "Founder Professor at the Department of Computer Science, University of Illinois Urbana-Champaign, USA\n",
      "\n",
      "See Profile\n",
      "\n",
      "Arpit Yadav\n",
      "Senior Data Scientist-R&D, CCE Bangalore, India\n",
      "\n",
      "See Profile\n",
      "\n",
      "Dr. Chandra Sekhar Bhagavatula\n",
      "Senior Research Scientist, Allen Institute for AI, USA\n",
      "\n",
      "See Profile\n",
      "\n",
      "--- Split8 ---\n",
      "\n",
      "See Profile\n",
      "\n",
      "Arpit Yadav\n",
      "Senior Data Scientist-R&D, CCE Bangalore, India\n",
      "\n",
      "See Profile\n",
      "\n",
      "Dr. Chandra Sekhar Bhagavatula\n",
      "Senior Research Scientist, Allen Institute for AI, USA\n",
      "\n",
      "See Profile\n",
      "\n",
      "Dr. Divyakant Agrawal\n",
      "Distinguished Professor, University of California, Santa Barbara, USA\n",
      "\n",
      "See Profile\n",
      "\n",
      "Dr. Dwarikanath Mahapatra\n",
      "Senior Research Scientist at the Inception Institute of Artificial Intelligence, Abu Dhabi, UAE\n",
      "\n",
      "See Profile\n",
      "\n",
      "Dr. Gaurav Aggarwal\n",
      "Vice President, Special Projects AI/ML, Reliance Jio, India\n",
      "\n",
      "See Profile\n",
      "\n",
      "Dr. Khyathi Chandu\n",
      "Research Scientist, Allen Institute of AI, USA\n",
      "\n",
      "See Profile\n",
      "\n",
      "Dr. Larry Birnbaum\n",
      "Professor, Computer Science, Northwestern University, USA\n",
      "\n",
      "See Profile\n",
      "\n",
      "Manaranjan Pradhan\n",
      "Founder & Director, AwesomeStats Consulting Pvt Ltd, India | Adjunct Faculty for Indian Institute of Management, Bangalore and Indian School of Business, Hyderabad\n",
      "\n",
      "See Profile\n",
      "\n",
      "Dr. Niket Tandon\n",
      "Senior Research Scientist, Allen Institute of AI, USA\n",
      "\n",
      "See Profile\n",
      "\n",
      "--- Split9 ---\n",
      "\n",
      "See Profile\n",
      "\n",
      "Dr. Niket Tandon\n",
      "Senior Research Scientist, Allen Institute of AI, USA\n",
      "\n",
      "See Profile\n",
      "\n",
      "Rishabh Sharma\n",
      "Principal Software Engineer and Founder, MindsOnAI Technologies (OPC), India\n",
      "\n",
      "See Profile\n",
      "\n",
      "Dr. Shailesh Kumar\n",
      "Chief Data Scientist, Center of Excellence in AI/ML, Reliance Jio\n",
      "\n",
      "See Profile\n",
      "\n",
      "Sray Agarwal\n",
      "Principal Consultant, Fractal AI, UK\n",
      "\n",
      "See Profile\n",
      "\n",
      "Dr. Sudipta Roy\n",
      "Associate Professor, Artificial Intelligence & Data Science, Jio Institute, India\n",
      "\n",
      "See Profile\n",
      "\n",
      "Dr. Varun Aggarwala\n",
      "Assistant Professor, Jio Institute\n",
      "\n",
      "See Profile\n",
      "\n",
      "Dr. Vidya Setlur\n",
      "Senior Director, Tableau Research, Tableau, USA\n",
      "\n",
      "See Profile\n",
      "\n",
      "Dr. Vishal Lala\n",
      "Professor of Marketing, Lubin School of Business, PACE University, USA\n",
      "\n",
      "See Profile\n",
      "\n",
      "Dr. Vishnuprasad Nagadevara\n",
      "Former Professor and Dean, Indian Institute of Management Bangalore, India\n",
      "\n",
      "See Profile\n",
      "\n",
      "Programme Advisory Council\n",
      "\n",
      "Dr. Dan Roth\n",
      "Eduardo D. Glandt Distinguished Professor, University of Pennsylvania, USA\n",
      "\n",
      "See Profile\n",
      "\n",
      "--- Split10 ---\n",
      "\n",
      "See Profile\n",
      "\n",
      "Programme Advisory Council\n",
      "\n",
      "Dr. Dan Roth\n",
      "Eduardo D. Glandt Distinguished Professor, University of Pennsylvania, USA\n",
      "\n",
      "See Profile\n",
      "\n",
      "Dr. Joydeep Ghosh\n",
      "Schlumberger Centennial Chair Professor of Electrical and Computer Engineering, University of Texas at Austin, USA\n",
      "\n",
      "See Profile\n",
      "\n",
      "Dr. Maneesh Agarwala\n",
      "Forest Baskett Professor of Computer Science | Director of the Brown Institute for Media Innovation, Stanford University, USA\n",
      "\n",
      "See Profile\n",
      "\n",
      "Dr. Michael Franklin\n",
      "Liew Family Chairman of Computer Science, Senior Advisor to the Provost for Computing and Data Science, The University of Chicago, USA\n",
      "\n",
      "See Profile\n",
      "\n",
      "Dr. M Vidyasagar\n",
      "Fellow of The Royal Society, UK | National Science Chair, Science & Engineering Research Board (SERB), India | Distinguished Professor, Electrical Engineering, IIT Hyderabad, India\n",
      "\n",
      "See Profile\n",
      "\n",
      "Dr. Padmanabhan Anandan\n",
      "Former CEO, Wadhwani Institute for Artificial Intelligence, India | Researcher Emeritus, Microsoft Research India\n",
      "\n",
      "See Profile\n",
      "\n",
      "--- Split11 ---\n",
      "\n",
      "See Profile\n",
      "\n",
      "Dr. Padmanabhan Anandan\n",
      "Former CEO, Wadhwani Institute for Artificial Intelligence, India | Researcher Emeritus, Microsoft Research India\n",
      "\n",
      "See Profile\n",
      "\n",
      "Dr. Prateek Jain\n",
      "Sr. Principal Researcher, Microsoft Research India\n",
      "\n",
      "See Profile\n",
      "\n",
      "Dr. Rajesh Gupta\n",
      "Distinguished Professor, Department of Computer Science & Engineering, University of California, San Diego, USA | Director, Halicioglu Data Science Institute, University of California, San Diego, USA\n",
      "\n",
      "See Profile\n",
      "\n",
      "Sudhir Wadhwa\n",
      "Chief Data & AI Officer, Aduro, USA | Programme Advisory Council, AI & DS, Jio Institute\n",
      "\n",
      "See Profile\n",
      "\n",
      "Dr. Uday B. Desai\n",
      "Founding Director and Professor Emeritus, Electrical Engineering, Indian Institute of Technology, Hyderabad, India\n",
      "\n",
      "See Profile\n",
      "\n",
      "Course Curriculum\n",
      "\n",
      "No Description\n",
      "Foundation Courses\n",
      "\n",
      "Mathematical Foundations (Probability, Statistics, Linear Algebra)\n",
      "\n",
      "Mathematical Foundations (Probability, Statistics, Linear Algebra)\n",
      "\n",
      "x\n",
      "\n",
      "--- Split12 ---\n",
      "\n",
      "Course Curriculum\n",
      "\n",
      "No Description\n",
      "Foundation Courses\n",
      "\n",
      "Mathematical Foundations (Probability, Statistics, Linear Algebra)\n",
      "\n",
      "Mathematical Foundations (Probability, Statistics, Linear Algebra)\n",
      "\n",
      "x\n",
      "\n",
      "This course covers essential mathematical concepts that form the backbone of AI and machine learning. Students will explore probability theory, statistical inference, and key linear algebra techniques used in data representation and model computations. Emphasis is placed on eigenvalues, matrix factorization, and vector spaces, crucial for optimization and deep learning. The course includes practical applications in AI and real-world problem-solving. By the end, learners will develop a strong mathematical intuition for AI algorithms. Hands-on exercises reinforce theoretical concepts through Python-based implementations.\n",
      "\n",
      "Python Programming\n",
      "\n",
      "Python Programming\n",
      "\n",
      "x\n",
      "\n",
      "--- Split13 ---\n",
      "\n",
      "Python Programming\n",
      "\n",
      "Python Programming\n",
      "\n",
      "x\n",
      "\n",
      "This course provides a foundational and practical introduction to Python for AI and data science applications. Students will learn core programming concepts, including data structures, control flow, functions, and object-oriented programming. Special focus is given to data manipulation, visualization, and automation using libraries like NumPy, Pandas, and Matplotlib. Hands-on projects will reinforce concepts through real-world scenarios in AI, finance, and business analytics. Students will also explore debugging techniques and best practices for writing efficient code. By the end, learners will be proficient in Python and ready for advanced AI coursework.\n",
      "\n",
      "Data Structures and Algorithms\n",
      "\n",
      "Data Structures and Algorithms\n",
      "\n",
      "x\n",
      "\n",
      "--- Split14 ---\n",
      "\n",
      "A good algorithm usually comes together with a set of good data structures that allow the algorithm to manipulate the data efficiently. In this course, we consider the common data structures that are used in various computational problems. You will learn how these data structures are implemented in programming languages. This will help you understand what is going on inside a particular built-in data structure implementation and what to expect from it. You will also learn typical use cases for these data structures. In this course, we will explore several fundamental algorithms and data structures in computer science. Some of the data structures, we will encounter include linked lists, stacks, queues, trees, heaps, hash tables, and graphs. We will study and analyze algorithms for searching, traversing trees, hashing, manipulating priority queues, sorting, finding shortest paths in graphs, and much more.The basic idea of this course is to help you understand many of the fundamental\n",
      "\n",
      "--- Split15 ---\n",
      "\n",
      "traversing trees, hashing, manipulating priority queues, sorting, finding shortest paths in graphs, and much more.The basic idea of this course is to help you understand many of the fundamental data structures of computer science. With an appreciation for data structures and algorithms and practical experience in implementing them you can be a much more effective designer and developer for new applications. Elegant algorithms are also a nice counterpoint to the crafty code and weird features we encounter in daily work.\n",
      "\n",
      "--- Split16 ---\n",
      "\n",
      "Databases & Data Warehouses\n",
      "\n",
      "Databases & Data Warehouses\n",
      "\n",
      "x\n",
      "\n",
      "The ability to deal with data plays a critical role in all disciplines of information technology. This course covers all the essential topics in database management building the foundation needed for dealing with persistent data. It introduces the fundamental concepts of designing, using, and implementing database systems and applications.Database system architectures, Relational data model, Query Processing, Database design, Data Storage and Indexing, Query Optimization, Transaction Management, Data Warehousing, Data Analytics, Advanced Topics: Data Mining, Blockchains, etc.\n",
      "\n",
      "Optimization for Business\n",
      "\n",
      "Optimization for Business\n",
      "\n",
      "x\n",
      "\n",
      "--- Split17 ---\n",
      "\n",
      "The applicability and use of optimization and decision models have increased significantly in recent years.  Information has become an important organizational resource, and optimization models play an important role in the optimal utilization of this resource along with others, in the form of organizing and structuring information so that it can be used more efficiently. This course will introduce and apply optimization techniques to managerial decision problems with the objective of enhancing decision-making capabilities as well as knowledge about using spreadsheet-based tools.The course emphasizes model-formulation skills and provides a basic understanding of some of the assumptions and limitations of decision models. We will not focus on algorithmic details but will use established software packages to obtain the solutions.  The major emphasis is on interpreting the solution and strategizing based on the interpretation.  The aim of the course is to help students become intelligent\n",
      "\n",
      "--- Split18 ---\n",
      "\n",
      "packages to obtain the solutions.  The major emphasis is on interpreting the solution and strategizing based on the interpretation.  The aim of the course is to help students become intelligent consumers of analytical modeling tools and adopt an analytical, data-driven approach to making business decisions.\n",
      "\n",
      "--- Split19 ---\n",
      "\n",
      "Data Visualization\n",
      "\n",
      "Data Visualization\n",
      "\n",
      "x\n",
      "\n",
      "Data contains a wealth of insights about the process that generated it. Finding deep insights from data by asking it the right questions, interpreting the answer to those questions correctly, and letting the data speak to us is an essential skill for a data scientist. There is data all around us. As humans, to make sense of the world and the information that it contains, we rely on our visual systems and cognitive abilities. Well-designed information visualizations leverage these human capabilities to help see and understand data. In this course, we will study techniques for understanding and creating effective visualizations based on principles from perception, design, and cognitive science. The course is targeted toward students interested in understanding effective visualizations, building better visualization tools and systems, as well as understanding the state of the art in research in this space.\n",
      "\n",
      "Time Series Analysis\n",
      "\n",
      "--- Split20 ---\n",
      "\n",
      "Time Series Analysis\n",
      "\n",
      "Time Series Analysis\n",
      "\n",
      "x\n",
      "\n",
      "--- Split21 ---\n",
      "\n",
      "Data obtained from observations collected sequentially over time are extremely common in a business requiring analysis of time series data. Some examples are weekly interest rates, daily closing stock prices, monthly price indices, yearly sales figures, etc. In addition, time series analysis is applicable in diverse fields.  Much familiar time series occur in the field of economics, where we are continually exposed to daily stock market quotations or monthly unemployment figures, annual GDP figures, etc.  Social scientists follow population series, such as birthrates or school enrollments. An epidemiologist might be interested in the number of Covid - 19 cases observed over some period.The first step in any time series investigation involves scrutiny of the recorded data plotted over time. This scrutiny often suggests the method of analysis as well as statistics that will be of use in summarizing the information in the data. The time domain approach which assumes that correlation\n",
      "\n",
      "--- Split22 ---\n",
      "\n",
      "time. This scrutiny often suggests the method of analysis as well as statistics that will be of use in summarizing the information in the data. The time domain approach which assumes that correlation between adjacent points in time is best explained in terms of a dependence of the current value on past values. This focuses on modeling some future value of a time series as a parametric function of the current and past values, usually by decomposing components of time series data.  Another approach develops a systematic class of models called autoregressive integrated moving average (ARIMA) models to handle time-correlated modeling and forecasting, with a provision for treating more than one input series through multivariate ARIMA. A completely different approach to time series analysis is the survival analysis. The objective of this course is to expose students to various methods of analyzing time series data to understand its behavior as well as make forecasts for the future.\n",
      "\n",
      "--- Split23 ---\n",
      "\n",
      ".\n",
      "Core Courses\n",
      "\n",
      "Big-Data Engineering\n",
      "\n",
      "Big-Data Engineering\n",
      "\n",
      "x\n",
      "\n",
      "--- Split24 ---\n",
      "\n",
      "Traditional database systems and data analysis algorithms have become increasingly insufficient to deal with this unprecedented growth in the volume, variety, velocity, and veracity of data. Big Data tools and techniques promise to store and crunch this data at scale, find deep insights in it, build sophisticated prescriptive, predictive, and descriptive models from it, and enable accurate and real-time decisions. Adapting business models to digital through data and analytics is critical for the long-term success of mainstream enterprises.The objective of this course is to primarily focus on modern database systems to solve real-world business problems for both batch and streaming data. This course aims to take a 360-degree view of the Big Data ecosystem through various prisms i.e., start-ups, VC firms, publicly traded, and privately held corporations. The course is going to be a good mix of theory, hands-on experience, and class discussions on both case studies as well as business\n",
      "\n",
      "--- Split25 ---\n",
      "\n",
      "VC firms, publicly traded, and privately held corporations. The course is going to be a good mix of theory, hands-on experience, and class discussions on both case studies as well as business use cases.\n",
      "\n",
      "--- Split26 ---\n",
      "\n",
      "Machine Learning (Supervised & Unsupervised Learning)\n",
      "\n",
      "Machine Learning (Supervised & Unsupervised Learning)\n",
      "\n",
      "x\n",
      "\n",
      "--- Split27 ---\n",
      "\n",
      "Most modern Enterprises across variety of verticals that have become “data rich” due to the first wave of digital transformation (Automation) are now investing heavily to become “AI First” in their second wave of digital transformation. They are aspiring to migrate from broadcast, batch, reactive, tactical decision-making to personalized, real-time, proactive, strategic decision-making. This has the potential to improve the quality of service they provide to their customers, the efficiency and reliability of their operations, optimal utilization of their resources – personnel, money, and materials, and adapting their ability to make dynamic decisions with evolving contexts. This in turn leads to systemic growth in customer satisfaction, net profitability, and market share.This unprecedented paradigm shifts in “how Enterprises make decisions” is enabled by a proven suite of algorithms, techniques, frameworks, processes, and platforms that have emerged in the varied fields of Artificial\n",
      "\n",
      "--- Split28 ---\n",
      "\n",
      "paradigm shifts in “how Enterprises make decisions” is enabled by a proven suite of algorithms, techniques, frameworks, processes, and platforms that have emerged in the varied fields of Artificial Intelligence, Machine Learning, Data Mining, Statistical Pattern Recognition, etc. over the last several decades.In this course, we will study a plethora of frameworks, algorithms, techniques, tools, and guiding principles to (a) understand any type of data better, (b) combine it with the domain knowledge appropriately, (d) find deeper insights hidden in the data, (d) build a wide variety of powerful descriptive, predictive, and prescriptive models, and (e) continuously improve them with feedback data coming from the environment they are deployed in.\n",
      "\n",
      "--- Split29 ---\n",
      "\n",
      "Natural Language Processing\n",
      "\n",
      "Natural Language Processing\n",
      "\n",
      "x\n",
      "\n",
      "--- Split30 ---\n",
      "\n",
      "Language can be considered our “sixth sense” that has literally made humans the dominant species on the planet and made modern human civilization possible. It is the primary mechanism used throughout human history to communicate and share knowledge both across society and across generations. One of the holy grails of AI is to build Machines that can “understand” (analyze), “generate” (synthesize), and “translate” language the way humans do so that we can communicate with machines in our natural languages the way we communicate with each other.This course introduces the major challenges of, and classic approaches to, Natural Language Processing (NLP) at a beginning graduate level.  The course takes a functional approach — developing data representations and algorithms based on analysis of what is required by key uses of language — as well as considering the critical properties of language with respect to these uses.  The primary focus is on developing applications to enable computer\n",
      "\n",
      "--- Split31 ---\n",
      "\n",
      "what is required by key uses of language — as well as considering the critical properties of language with respect to these uses.  The primary focus is on developing applications to enable computer use of language as a medium of communication with human beings.\n",
      "\n",
      "--- Split32 ---\n",
      "\n",
      "Classical Approaches to Modern AI in Computer Vision\n",
      "\n",
      "Classical Approaches to Modern AI in Computer Vision\n",
      "\n",
      "x\n",
      "\n",
      "This course delves into the evolution of computer vision, from classical image processing to deep learning-based AI techniques. Topics include feature extraction, object detection, and convolutional neural networks (CNNs) for image recognition. Students will study traditional approaches like edge detection and SIFT before transitioning to modern architectures such as ResNets and Transformers. Case studies on medical imaging, autonomous vehicles, and facial recognition are included. Practical coding exercises will provide hands-on experience with OpenCV and TensorFlow. The course equips students with the ability to design and implement vision-based AI solutions.\n",
      "\n",
      "Deep Learning\n",
      "\n",
      "Deep Learning\n",
      "\n",
      "x\n",
      "\n",
      "--- Split33 ---\n",
      "\n",
      "Deep Learning\n",
      "\n",
      "Deep Learning\n",
      "\n",
      "x\n",
      "\n",
      "Unstructured and semantically low-level data such as images, videos, audio, and text are becoming increasingly common in enterprises and society as people and systems generate and consume such data in both public and private settings. Human systems of visual, auditory, and linguistic perception and generation have mastered the art of processing such data in the brain. Modern Deep learning systems try to mimic a similar multi-layered architecture to interpret this low-level data (e.g., pixels, signals, words) into high-level semantics. This course explores the biological, computational, theoretical, architectural, and modelling aspects of deep learning models that come in a variety of architectures, on different data types and are used for a variety of applications.\n",
      "\n",
      "Responsible AI\n",
      "\n",
      "Responsible AI\n",
      "\n",
      "x\n",
      "\n",
      "--- Split34 ---\n",
      "\n",
      "Responsible AI\n",
      "\n",
      "Responsible AI\n",
      "\n",
      "x\n",
      "\n",
      "“With great power comes great responsibility”. AI is emerging as a tool for fundamental and disruptive transformation of human society. If not used ethically and responsibly, it has the potential of doing more harm than good to individuals, societies, and the human civilization as a whole. Strong regulations are emerging across the globe to ensure that AI is used for the right purpose, in the right way, and with the right governance.\n",
      "In this core course we will understand the emerging guiding principles of Responsible AI, the state-of-the-art algorithms used to detect and correct any intentional or unintentional transgressions by AI systems w.r.t. these guiding principles, and the emerging landscape of regulations for AI across the world. This will enable emerging data scientists to “consciously and proactively” incorporate these principles and regulations into their model building from the start and not as an afterthought.\n",
      "\n",
      "--- Split35 ---\n",
      "\n",
      "Gen AI & Prompt Engineering\n",
      "\n",
      "Gen AI & Prompt Engineering\n",
      "\n",
      "x\n",
      "\n",
      "This course explores Generative AI models and the principles of prompt engineering for effective interaction with AI systems. Topics include the architecture of generative models like GANs, VAEs, and diffusion models, along with practical applications in text, image, and code generation. A deep dive into prompt engineering strategies will enhance students’ ability to guide AI outputs efficiently. The course includes industry use cases such as chatbots, content creation, and AI-assisted design. Ethical considerations and limitations of generative AI are also discussed. Hands-on labs with tools like ChatGPT and Stable Diffusion ensure experiential learning.\n",
      "\n",
      "No Description No Description No Description No Description No Description No Description No Description No Description No Description No Description No Description No Description No Description No Description No Description No Description\n",
      "Advanced Courses\n",
      "\n",
      "--- Split36 ---\n",
      "\n",
      "Advanced Topics in Machine Learning\n",
      "\n",
      "Advanced Topics in Machine Learning\n",
      "\n",
      "x\n",
      "\n",
      "With this unprecedented growth in the volume, variety, velocity, and veracity of data, it has become increasing challenging to deal with big data using the traditional data management systems. Deriving insights from big data in near real time has become is critical for the long-term success of mainstream enterprises. So, the objective of this course is to primarily focus on modern data architecture and data lake design to facilitate downstream analytics applications including descriptive and predictive analysis. Many new ideas that have evolved in recent times like data lake-house, data discovery, feature stores, experiment tracking will also be discussed in detail to empower the participants to design and develop advanced data management systems in the real world.\n",
      "\n",
      "Advanced Topics in Bigdata Engineering\n",
      "\n",
      "Advanced Topics in Bigdata Engineering\n",
      "\n",
      "x\n",
      "\n",
      "--- Split37 ---\n",
      "\n",
      "Advanced Topics in Bigdata Engineering\n",
      "\n",
      "Advanced Topics in Bigdata Engineering\n",
      "\n",
      "x\n",
      "\n",
      "With this unprecedented growth in the volume, variety, velocity, and veracity of data, it has become increasing challenging to deal with big data using the traditional data management systems. Deriving insights from big data in near real time has become is critical for the long-term success of mainstream enterprises. So, the objective of this course is to primarily focus on modern data architecture and data lake design to facilitate downstream analytics applications including descriptive and predictive analysis. Many new ideas that have evolved in recent times like data lake-house, data discovery, feature stores, experiment tracking will also be discussed in detail to empower the participants to design and develop advanced data management systems in the real world.\n",
      "\n",
      "Large Language Models (LLMs)\n",
      "\n",
      "Large Language Models (LLMs)\n",
      "\n",
      "x\n",
      "\n",
      "--- Split38 ---\n",
      "\n",
      "Large Language Models (LLMs)\n",
      "\n",
      "Large Language Models (LLMs)\n",
      "\n",
      "x\n",
      "\n",
      "This course explores the architecture, training, and applications of Large Language Models (LLMs) like GPT, BERT, and LLaMA. Students will understand transformer architectures, attention mechanisms, and model fine-tuning for domain-specific tasks. The course covers ethical concerns, bias mitigation, and responsible AI practices in LLM deployment. Hands-on labs include building and fine-tuning LLMs using Hugging Face and OpenAI APIs. Use cases in natural language processing, chatbot development, and automated text generation are discussed. By the end, students will be equipped to leverage LLMs for enterprise and research applications.\n",
      "\n",
      "Machine Learning Operations (ML Ops)\n",
      "\n",
      "Machine Learning Operations (ML Ops)\n",
      "\n",
      "x\n",
      "\n",
      "--- Split39 ---\n",
      "\n",
      "Machine Learning Operations (ML Ops)\n",
      "\n",
      "Machine Learning Operations (ML Ops)\n",
      "\n",
      "x\n",
      "\n",
      "Machine Learning Operations (MLOps) refers to the tools, techniques and practical experiences required to train your machine learning models and deploy and monitor them in production. After we have trained our machine learning model, the next big task is to deploy the model to production and scale it so that more users can use it. In this course, you will learn how to use various tools and methodologies to do all this effectively.While knowing machine learning and deep learning concepts is essential, but for building a successful career in Artificial Intelligence, you need to have good experience with production engineering capabilities. This course deep-dives into machine learning and deep learning algorithms along with building expertise in DevOps technologies.\n",
      "\n",
      "Human Computer Interface\n",
      "\n",
      "Human Computer Interface\n",
      "\n",
      "x\n",
      "\n",
      "--- Split40 ---\n",
      "\n",
      "Human Computer Interface\n",
      "\n",
      "Human Computer Interface\n",
      "\n",
      "x\n",
      "\n",
      "This course examines the design and evaluation of user interfaces that enable seamless interaction between humans and computers. Topics include usability principles, cognitive psychology, and interface design for web, mobile, and AI-driven applications. Students will explore gesture-based, voice-controlled, and multimodal interfaces, along with accessibility considerations. Case studies in VR, AR, and AI-assisted interfaces provide real-world insights. Hands-on projects will involve prototyping and testing interfaces using tools like Figma and UX research methodologies. The course prepares students to design intuitive, user-friendly digital experiences.\n",
      "\n",
      "Digital Business Transformation using AI\n",
      "\n",
      "Digital Business Transformation using AI\n",
      "\n",
      "x\n",
      "\n",
      "--- Split41 ---\n",
      "\n",
      "Digital Business Transformation using AI\n",
      "\n",
      "Digital Business Transformation using AI\n",
      "\n",
      "x\n",
      "\n",
      "This course explores the strategic role of AI in driving digital business transformation across industries. Students will analyze AI-driven innovation in areas such as automation, customer experience, and data-driven decision-making. Key topics include predictive analytics, AI-powered marketing, and operational efficiencies through intelligent systems. Case studies from finance, healthcare, and retail illustrate real-world applications. Ethical and regulatory considerations in AI adoption are also covered. By the end, students will be equipped with the knowledge to leverage AI for competitive advantage in digital enterprises.\n",
      "\n",
      "--- Split42 ---\n",
      "\n",
      "In this “industry talk series” and “case studies for AI applications” course, students will learn how AI/DS is applied to various industry verticals. The wide variety of use-cases across different verticals will highlight the common principles of applied AI/DS in real-world inclsing: (a) understanding the right pain points and identifying the right opportunities for AI/DS in each vertical, (b) formulating the business problem into an AI architecture, (c) using both domain knowledge and data to build AI/ML/DL models, and (d) integrating these models into the existing business processes. This course will have industry lectures throughout the year on:\n",
      "AI for X series\n",
      "\n",
      "AI for Industry Verticals\n",
      "\n",
      "AI for Industry Verticals\n",
      "\n",
      "x\n",
      "\n",
      "●    AI for Telecom●    AI for Retail●    AI for Manufacturing●    AI for Refineries●    AI for Banking●    AI for Finance●    AI for Insurance\n",
      "\n",
      "AI for Society Verticals\n",
      "\n",
      "AI for Society Verticals\n",
      "\n",
      "x\n",
      "\n",
      "--- Split43 ---\n",
      "\n",
      "●    AI for Telecom●    AI for Retail●    AI for Manufacturing●    AI for Refineries●    AI for Banking●    AI for Finance●    AI for Insurance\n",
      "\n",
      "AI for Society Verticals\n",
      "\n",
      "AI for Society Verticals\n",
      "\n",
      "x\n",
      "\n",
      "●    AI for Agriculture●    AI for Healthcare●    AI for Education●    AI for Smart Cities●    AI for Sustainability\n",
      "\n",
      "AI for Business Functions\n",
      "\n",
      "AI for Business Functions\n",
      "\n",
      "x\n",
      "\n",
      "●    AI for Customer Lifetime Management●    AI for Human Resources ●    AI for Accounting and Finance●    AI for Infrastructure and Asset Management●    AI for Supply Chain and Operations●    AI for Risk and Compliance\n",
      "\n",
      "NA\n",
      "Holistic Learning Module\n",
      "\n",
      "Design Thinking\n",
      "\n",
      "Design Thinking\n",
      "\n",
      "x\n",
      "\n",
      "--- Split44 ---\n",
      "\n",
      "“Necessity is the mother of invention”. Every successful product that we use today is addressing a very critical human need, addressing an important individual, industrial, or societal pain point, and has evolved over multiple iterations through a very well defined process that has now matured into what we call “Design Thinking”. Traditionally, the design thinking process is taught mostly to product managers, customer experience designers, and growth managers. But as the charter of AI/DS is evolving from merely “embedding intelligence into existing products and services” to “building intelligent solutions for society”, it becomes critical for AI architects and Data Scientists to also become first principles “product thinkers” and “design thinkers”. This hands-on Holistic Learning Module on Design Thinking will explore the core guiding principles and a systematic process of both conceiving new, and continuously improving existing products by identifying the right pain points and\n",
      "\n",
      "--- Split45 ---\n",
      "\n",
      "on Design Thinking will explore the core guiding principles and a systematic process of both conceiving new, and continuously improving existing products by identifying the right pain points and addressing them with the right product features.\n",
      "\n",
      "--- Split46 ---\n",
      "\n",
      "System and Solution Thinking\n",
      "\n",
      "System and Solution Thinking\n",
      "\n",
      "x\n",
      "\n",
      "--- Split47 ---\n",
      "\n",
      "Over the last several centuries, products have evolved from mostly physical products such as cars and TV’s to purely digital products such as search engines and social networks. The next generation products will be complex digital-physical ecosystem products such as telecom networks, e-commerce platforms, agriculture and healthcare for a country, smart cities of the future, and so on. Today these third generation products are put together by clobbering together existing building blocks giving a very siloed experience to customers, a broken architecture to engineers, and a fragmented and inefficient design of operations. A whole new set of skills are needed to conceive, design, build, and operate such ecosystem products that will require a new kind of integrated operating system that doesn't exist yet. The Holistic Learning Module on System and Solution Thinking will develop the required skills to not just build and deploy bottom-up AI/ML models wrapped in microservices but to build a\n",
      "\n",
      "--- Split48 ---\n",
      "\n",
      "exist yet. The Holistic Learning Module on System and Solution Thinking will develop the required skills to not just build and deploy bottom-up AI/ML models wrapped in microservices but to build a top-down AI + IT architecture for such complex ecosystems.\n",
      "\n",
      "--- Split49 ---\n",
      "\n",
      "Communication Skills for Data Scientists\n",
      "\n",
      "Communication Skills for Data Scientists\n",
      "\n",
      "x\n",
      "\n",
      "--- Split50 ---\n",
      "\n",
      "x\n",
      "\n",
      "Data Scientists and AI experts not only have to create intelligent solutions for businesses but they also have to become well versed in the art of domain, business, technical, and engineering communication. As they have to work with multiple stakeholders in the ecosystem including the business leadership that articulates the problem statements in business terms, subject matter experts that have built up enormous domain knowledge within the vertical over the years, data and engineering teams that will help them build and deploy the AI solutions at scale, and the operations team who will execute the decisions generated by the AI systems. This Holistic Learning Module will explore the art of listening and conversing about pain points that AI/DS can address, domain knowledge required to build the right models and solutions, presenting the insights generated from the data, and describing the nuances of the solution to business, platform, and operations stakeholders.\n",
      "\n",
      "--- Split51 ---\n",
      "\n",
      "Leadership & Entrepreneurship for AI&DS\n",
      "\n",
      "Leadership & Entrepreneurship for AI&DS\n",
      "\n",
      "x\n",
      "\n",
      "--- Split52 ---\n",
      "\n",
      "Leadership & Entrepreneurship for AI&DS\n",
      "\n",
      "x\n",
      "\n",
      "There are three different types of leadership and entrepreneurial opportunities for data scientists and AI experts in the foreseeable future. First, leading the transformation journeys of existing businesses in different verticals such as banking, finance, insurance, manufacturing, retail, telecom, mobility, entertainment, etc. from “data-rich” organizations to “AI-first” organizations. Second, building startups that champion an AI-first solution to industrial or societal use-cases addressing the efficiency, precision, personalization, automation, and democratization of AI in these areas, and third, to create completely new business or technology innovations that could disrupt the way we live, work, educate our children, take care of our health, grow our crops, or run our cities and governments. This holistic learning module will explore the opportunities, challenges, and a journey towards a “Data Science Leader and Entrepreneur”.\n",
      "\n",
      "--- Split53 ---\n",
      "\n",
      "Laboratories\n",
      "\n",
      "AR/VR Lab\n",
      "\n",
      "AR/VR Lab\n",
      "\n",
      "x\n",
      "\n",
      "AR/VR (Augmented Reality/ Virtual Reality) Lab particularly focuses on interaction technologies including virtual, augmented and mixed reality as well as mobile computing, epigenetic and evolutionary robotics, and haptic communication.\n",
      "\n",
      "Computer Vision Lab\n",
      "\n",
      "Computer Vision Lab\n",
      "\n",
      "x\n",
      "\n",
      "This lab provides exposure to students to the complexity, breadth, and depth of how vision works and how to make machines “see the way humans do” in different areas including healthcare, agriculture, retail, autonomous vehicles, drones, manufacturing, security, traﬃc management, remote sensing, defense applications, and so on.\n",
      "\n",
      "Media Studio\n",
      "\n",
      "Media Studio\n",
      "\n",
      "x\n",
      "\n",
      "Media Studio is designed with state of the art equipment used in newsrooms for students to gain extensive practice in the technology and process of content creation. Students will get hands-on training in the audio, video, and social construction of media and the associated best practices in audience research.\n",
      "\n",
      "--- Split54 ---\n",
      "\n",
      "Production Control Lab\n",
      "\n",
      "Production Control Lab\n",
      "\n",
      "x\n",
      "\n",
      "Production Control Lab will complement the media studio to mimic the environment and technological standards of the live creation of digital media and longer feature programming. Students will become skilled at lighting design, reading from a teleprompter, managing multiple audio and video inputs, in-ear communication and monitoring, robotic and person-operated cameras, pacing and voice, and collaborative construction of media at this lab.\n",
      "\n",
      "Video Editing Bay\n",
      "\n",
      "Video Editing Bay\n",
      "\n",
      "x\n",
      "\n",
      "Video Editing Bay includes state-of-the-art audio equipment and is also be outﬁtted for HD, Ultra-HD, and 4K video editing including Adobe Creative Suite software, a playback interface, a color console, and a professional reference monitor. In these rooms, students will be able to reﬁne and edit video shorts, news pieces, feature-length stories, documentaries, and AR/VR content.\n",
      "\n",
      "Audio Editing Bay\n",
      "\n",
      "Audio Editing Bay\n",
      "\n",
      "x\n",
      "\n",
      "--- Split55 ---\n",
      "\n",
      "Audio Editing Bay\n",
      "\n",
      "Audio Editing Bay\n",
      "\n",
      "x\n",
      "\n",
      "Audio Editing Bay comprises acoustically treated rooms that will be equipped with sound-mixing consoles, associated software, surround sound, and ampliﬁcation. These rooms will allow students to record and edit podcasts, and voice-overs for ﬁlms and AR/VR applications.\n",
      "\n",
      "Placement Overview\n",
      "\n",
      "Tools and Platforms covered\n",
      "\n",
      "Previous\n",
      "Next\n",
      "\n",
      "Highlights\n",
      "\n",
      "Experiential Learning\n",
      "Jio Institute takes a holistic approach to education, prioritizing the overall growth of students alongside their academic progress. The institute designs courses that enable students to acquire crucial contemporary life skills, regardless of their chosen field of study.\n",
      "Know more\n",
      "\n",
      "--- Split56 ---\n",
      "\n",
      "Study Abroad\n",
      "The Study Abroad Module is a key element of the curriculum. It provides students with essential international exposure through mandatory study at a top global university. This experience integrates academic learning with industry and cultural immersion. By participating in contemporary courses and engaging with diverse environments, students develop a global mindset that enhances their professional profiles\n",
      "Know more\n",
      "\n",
      "Capstone and Industry Immersion\n",
      "Jio Institute aims to be a leading institute operating in a global ecosystem, incorporating real-world applications into its core pedagogical elements. Students of Jio Institute receive an opportunity to immerse themselves in professional setups that focus on developing the relevant skills and personal networks needed to succeed in an interconnected global work environment.\n",
      "Know more\n",
      "\n",
      "--- Split57 ---\n",
      "\n",
      "Innovation and Entrepreneurship\n",
      "For students who are keen to ideate, innovate, and incubate their own ventures, Jio Institute provides mentorship and networking opportunities with incubators and entrepreneurs.\n",
      "\n",
      "Know more\n",
      "\n",
      "Laboratories\n",
      "Jio Institute’s specialized laboratories and studio spaces are equipped with cutting-edge gadgets and technologies, creating an ideal environment for students to conduct experiments, explore innovative ideas and tackle complex challenges.\n",
      "Know more\n",
      "\n",
      "Admissions & Fees\n",
      "\n",
      "--- Split58 ---\n",
      "\n",
      "Admissions & Fees\n",
      "\n",
      "Jio Institute has formulated a seamless digital admissions process to apply to its academic programmes. We invite applications from meritorious students from accross the globe. Eligibility for PGP in Artificial Intelligence & Data Science :A four-year undergraduate degree or its equivalent, in the field of Engineering/Science/ Mathematics and Statistics with minimum 50 per cent or equivalent CGPA. A postgraduate degree (if the undergraduate degree is of three years) in the field of Engineering/Science/Mathematics and Statistics with minimum 50 per cent or equivalent CGPA.A strong foundation in Mathematics, Statistics and Computer Science along with programming experience.A valid GRE/GMAT/GATE/CAT score or appear for Jio Institute Entrance Test (JET)Preference shall be given to candidates with relevant experience. Know More\n",
      "\n",
      "Frequently asked questions\n",
      "\n",
      "--- Split59 ---\n",
      "\n",
      "When will Jio Institute begin its academic year?Academic year 2025-26 will begin in April 2025. For more information about our academic programmes, please click here- Admissions What about placements? Are you giving any assurance?Jio Institute has a dedicated Office of Career Services (OCS) which liaises with corporates, start-ups, and MNCs to explore live projects and job opportunities for students. Apart from inviting companies for placements, the OCS also provides a comprehensive career preparation module that will help the student pursue a career of his/her choice. For more details, please visit Office of Career ServicesWhat is the ‘Study Abroad’ module at Jio Institute?Jio Institute has designed a module in collaboration with leading academic institutions from different parts of the world to provide students with an opportunity to experience their academic and research ecosystems; enhance skills relevant to their programmes as well as explore global cultures.For more information,\n",
      "\n",
      "--- Split60 ---\n",
      "\n",
      "to provide students with an opportunity to experience their academic and research ecosystems; enhance skills relevant to their programmes as well as explore global cultures.For more information, click here.Are Scholarships available? How can I get Scholarship?Jio Institute believes that all deserving candidates should have an opportunity to fulfil their higher education aspirations irrespective of their financial constraints.  As a part of Jio Institute’s commitment to access and diversity, Jio Institute offers merit-based and need-based scholarships, supporting students from various disciplines and backgrounds.You can apply for our programmes by visiting our Admissions portal.\n",
      "\n",
      "--- Split61 ---\n",
      "\n",
      "See all\n",
      "\n",
      "Download Brochure×\n"
     ]
    }
   ],
   "source": [
    "for i in range(len(all_splits)):\n",
    "    print(f\"\\n--- Split{i} ---\\n\")\n",
    "    print(all_splits[i].page_content)"
   ]
  },
  {
   "cell_type": "markdown",
   "id": "441da498",
   "metadata": {},
   "source": [
    "#### Semantic Text Splitter (custom innovation)"
   ]
  },
  {
   "cell_type": "markdown",
   "id": "153a49e5",
   "metadata": {},
   "source": [
    "Innovated by Greg Kamradt [here](https://github.com/FullStackRetrieval-com/RetrievalTutorials/blob/main/tutorials/LevelsOfTextSplitting/5_Levels_Of_Text_Splitting.ipynb), and adapted by both LangChain and Llamaindex!\n",
    "\n",
    "Semantic chunking splits text into coherent segments based on semantic similarity. It works by initially splitting text into sentences, then grouping them into groups of 3, and finally merging those groups whose embeddings are semantically close."
   ]
  },
  {
   "cell_type": "code",
   "execution_count": 42,
   "id": "9df040e2",
   "metadata": {},
   "outputs": [],
   "source": [
    "from langchain_experimental.text_splitter import SemanticChunker"
   ]
  },
  {
   "cell_type": "code",
   "execution_count": 43,
   "id": "0f6471aa",
   "metadata": {},
   "outputs": [],
   "source": [
    "#Create text splitter\n",
    "text_splitter_semantic = SemanticChunker(embeddings_model)"
   ]
  },
  {
   "cell_type": "code",
   "execution_count": 44,
   "id": "4432e1d4",
   "metadata": {},
   "outputs": [
    {
     "data": {
      "text/plain": [
       "37253"
      ]
     },
     "execution_count": 44,
     "metadata": {},
     "output_type": "execute_result"
    }
   ],
   "source": [
    "len(docs[1].page_content)"
   ]
  },
  {
   "cell_type": "code",
   "execution_count": 45,
   "id": "f2cad410",
   "metadata": {},
   "outputs": [],
   "source": [
    "#Reduce content of second doc for faster runtimes\n",
    "from langchain_core.documents import Document\n",
    "docs_truncated = docs.copy()\n",
    "docs_truncated[1] = Document(page_content= docs[1].page_content[:5000], metadata=docs[1].metadata)"
   ]
  },
  {
   "cell_type": "code",
   "execution_count": 46,
   "id": "87c1e024",
   "metadata": {},
   "outputs": [
    {
     "name": "stdout",
     "output_type": "stream",
     "text": [
      "Split input into 6 sub-documents.\n"
     ]
    }
   ],
   "source": [
    "#Split the documents into chunks (only pick second one)\n",
    "all_splits_semantic = text_splitter_semantic.split_documents(docs_truncated)\n",
    "print(f\"Split input into {len(all_splits_semantic)} sub-documents.\")"
   ]
  },
  {
   "cell_type": "code",
   "execution_count": 47,
   "id": "a0e39b6f",
   "metadata": {
    "scrolled": true
   },
   "outputs": [
    {
     "name": "stdout",
     "output_type": "stream",
     "text": [
      "\n",
      "--- Split0 ---\n",
      "\n",
      "About Us\n",
      "\n",
      "Jio Institute is a multidisciplinary higher education institute set up as a philanthropic initiative by the Reliance Group. The Institute is dedicated to the pursuit of excellence by bringing together global scholars and thought leaders and providing an enriching student experience through world-class education, and a culture of research and innovation. Our Story\n",
      "Pursuit of excellence in academics, research and innovation. We stand at the confluence of the best higher education practices from India and the world. The institute aims to nurture students’ aspirations, and provide a platform to their entrepreneurial spirit. Read more\n",
      "\n",
      "Our Vision\n",
      "In sync with global aspirations. In step with changing times. We envisage to be a world-class higher education institute through our multi-disciplinary academic programmes, robust research endeavours and a culture of innovation and entrepreneurship. Read more\n",
      "\n",
      "Growth Plan\n",
      "Well thought out growth strategy. In the future, we envisage to cater to 10,000 students across multiple disciplines covering undergraduate, post graduate, doctoral, and post-doctoral programmes. Read more\n",
      "\n",
      "Founders\n",
      "Our founders’ legacy of transformative endeavors and their unwavering faith in the potential of India’s youth form the keystone of Jio Institute. Smt. Nita Ambani\n",
      "Founder Chairperson, Reliance Foundation Institution of Education and Research\n",
      "Know More\n",
      "\n",
      "Shri Mukesh Ambani\n",
      "Chairman and Managing Director, Reliance Industries Limited\n",
      "Know More\n",
      "\n",
      "Governing Council\n",
      "\n",
      "FOUNDER\n",
      "Smt. Nita Ambani\n",
      "\n",
      "Founder Chairperson, Reliance Foundation Institution of Education and Research\n",
      "\n",
      "See Profile\n",
      "\n",
      "Chancellor\n",
      "Dr. Raghunath Mashelkar\n",
      "\n",
      "Padma Vibhushan | Former Director General, CSIR, Government of India | Ex-officio invitee, Governing Council, Jio Institute\n",
      "\n",
      "See Profile\n",
      "\n",
      "Mr. Akash Ambani\n",
      "\n",
      "Chairman, Reliance Jio Infocomm Ltd | Director, Reliance Retail Ventures Ltd. See Profile\n",
      "\n",
      "VICE-CHANCELLOR\n",
      "Dr. Dipak Jain\n",
      "\n",
      "Former Dean, Kellogg School of Management, USA | Former Dean, INSEAD, France | Ex-officio invitee, Governing Council, Jio Institute\n",
      "\n",
      "See Profile\n",
      "\n",
      "Ms. Isha Ambani\n",
      "\n",
      "Member of Executive Leadership teams, Reliance Retail, Reliance Jio, Reliance Foundation, and Dhirubhai Ambani International School\n",
      "\n",
      "See Profile\n",
      "\n",
      "Dr. Pradeep Khosla\n",
      "\n",
      "Chancellor, University of California, San Diego, USA\n",
      "\n",
      "See Profile\n",
      "\n",
      "Mr. Anant Ambani\n",
      "\n",
      "Director, Jio Platforms Limited and Reliance Retail Ventures Ltd. See Profile\n",
      "\n",
      "Dr. Bimal Patel\n",
      "\n",
      "President, CEPT University | Managing Director, HCP Design, Planning and Management Pvt. Ltd. See Profile\n",
      "\n",
      "Mr. Vikram Mehta\n",
      "\n",
      "Former Executive Chairman, Brookings India | Former CEO, Shell India\n",
      "\n",
      "See Profile\n",
      "\n",
      "Mr. Jalaj Dani\n",
      "\n",
      "Chairman of the Board of Governors, IIM Trichy | Co-Promoter, Asian Paints\n",
      "\n",
      "See Profile\n",
      "\n",
      "Mr.\n",
      "\n",
      "--- Split1 ---\n",
      "\n",
      "R. Venkataramanan\n",
      "\n",
      "Former Managing Trustee, Tata Trusts\n",
      "\n",
      "See Profile\n",
      "\n",
      "Jio Institute Leadership\n",
      "From reputed academicians and researchers around the world to Indian stalwarts across the spectrum – Jio Institute’s distinguished leadership is committed to guiding the Institute from strength to strength. Chancellor\n",
      "Dr.\n",
      "\n",
      "--- Split2 ---\n",
      "\n",
      "Raghunath Mashelkar\n",
      "\n",
      "Padma Vibhushan | Former Director General, CSIR, Government of India\n",
      "\n",
      "See Profile\n",
      "\n",
      "VICE-CHANCELLOR\n",
      "Dr. Dipak Jain\n",
      "\n",
      "Former Dean, Kellogg School of Management, USA | Former Dean, INSEAD, France\n",
      "\n",
      "See Profile\n",
      "\n",
      "Campus Experience & Student Life\n",
      "A vibrant campus replete with world-class facilities. Food & Dining\n",
      "\n",
      "Auditorium\n",
      "\n",
      "Library\n",
      "\n",
      "Tech Enabled Classrooms\n",
      "\n",
      "State of the art labs\n",
      "\n",
      "Sport & Fitness\n",
      "\n",
      "Previous\n",
      "Next\n",
      "\n",
      "Explore Campus Life\n",
      "\n",
      "--- Split3 ---\n",
      "\n",
      "PGP in Artificial Intelligence & Data Science\n",
      "\n",
      "This postgraduate programme has a comprehensive and rigorous curriculum that covers foundation and advanced courses to train future-ready full-stack data scientists and AI architects. Download Brochure\n",
      "\n",
      "Video\n",
      "\n",
      "Video\n",
      "\n",
      "Video\n",
      "\n",
      "Video\n",
      "\n",
      "Video\n",
      "\n",
      "Video\n",
      "\n",
      "Video\n",
      "\n",
      "Video\n",
      "\n",
      "Programme overviewIn this programme, students will embark on a journey that explores the fascinating realm of cutting-edge AI technologies that are reshaping industries, revolutionizing decision-making, and transforming the way we interact with data/information. Our comprehensive and rigorous curriculum covers courses from foundation to advanced levels. Key concepts and technologies include Machine Learning, Deep Learning, Fundamentals of AI, Natural Language Processing (NLP), Optimization, Bigdata Engineering, Data Visualisation, Responsible AI, Reinforcement Learning and Time Series Analysis. The various courses are taught by renowned research-oriented faculty and industry practitioners from India and from around the world. The programme aims to instil strong theoretical foundations as well as the know-how to create practical solutions for enterprises and society. Students learn to convert business problems and workflows into AI&DS products and solutions across multiple verticals/industries.\n",
      "\n",
      "--- Split4 ---\n",
      "\n",
      "Enriched by exposure to real-life AI&DS applications through capstone projects and lectures from industry veterans, students are exposed to hands-on exercises, practical projects and quizzes to reinforce their learning. PGP in Artificial Intelligence & Data Science\n",
      "\n",
      "Leadership\n",
      "Faculty\n",
      "Advisors\n",
      "Curriculum\n",
      "Tools\n",
      "Highlights\n",
      "Admissions\n",
      "FAQ\n",
      "Brochure\n",
      "\n",
      "PGP in Artificial Intelligence & Data Science\n",
      "\n",
      "Choose your purpose\n",
      "\n",
      "Leadership\n",
      "Faculty\n",
      "Advisors\n",
      "Curriculum\n",
      "Tools\n",
      "Highlights\n",
      "Admissions\n",
      "FAQ\n",
      "Brochure\n",
      "\n",
      "Programme Leadership\n",
      "\n",
      "Dr. Larry Birnbaum\n",
      "\n",
      "Professor, Computer Science, Northwestern University, USA\n",
      "\n",
      "See Profile\n",
      "\n",
      "Dr. Shailesh Kumar\n",
      "\n",
      "Chief Data Scientist, Center of Excellence in AI/ML, Reliance Jio\n",
      "\n",
      "See Profile\n",
      "\n",
      "Faculty\n",
      "\n",
      "Anant Agarwal\n",
      "Data Science Manager, Nissan Motor Corporation, India\n",
      "\n",
      "See Profile\n",
      "\n",
      "Anmol Karnwal\n",
      "Applied AI Scientist, Microsoft, India\n",
      "\n",
      "See Profile\n",
      "\n",
      "Dr. Arindam Banerjee\n",
      "Founder Professor at the Department of Computer Science, University of Illinois Urbana-Champaign, USA\n",
      "\n",
      "See Profile\n",
      "\n",
      "Arpit Yadav\n",
      "Senior Data Scientist-R&D, CCE Bangalore, India\n",
      "\n",
      "See Profile\n",
      "\n",
      "Dr. Chandra Sekhar Bhagavatula\n",
      "Senior Research Scientist, Allen Institute for AI, USA\n",
      "\n",
      "See Profile\n",
      "\n",
      "Dr. Divyakant Agrawal\n",
      "Distinguished Professor, University of California, Santa Barbara, USA\n",
      "\n",
      "See Profile\n",
      "\n",
      "Dr. Dwarikanath Mahapatra\n",
      "Senior Research Scientist at the Inception Institute of Artificial Intelligence, Abu Dhabi, UAE\n",
      "\n",
      "See Profile\n",
      "\n",
      "Dr. Gaurav Aggarwal\n",
      "Vice President, Special Projects AI/ML, Reliance Jio, India\n",
      "\n",
      "See Profile\n",
      "\n",
      "Dr. Khyathi Chandu\n",
      "Research Scientist, Allen Institute of AI, USA\n",
      "\n",
      "See Profile\n",
      "\n",
      "Dr. Larry Birnbaum\n",
      "Professor, Computer Science, Northwestern University, USA\n",
      "\n",
      "See Profile\n",
      "\n",
      "Manaranjan Pradhan\n",
      "Founder & Director, AwesomeStats Consulting Pvt Ltd, India | Adjunct Faculty for Indian Institute of Management, Bangalore and Indian School of Business, Hyderabad\n",
      "\n",
      "See Profile\n",
      "\n",
      "Dr. Niket Tandon\n",
      "Senior Research Scientist, Allen Institute of AI, USA\n",
      "\n",
      "See Profile\n",
      "\n",
      "Rishabh Sharma\n",
      "Principal Software Engineer and Founder, MindsOnAI Technologies (OPC), India\n",
      "\n",
      "See Profile\n",
      "\n",
      "Dr. Shailesh Kumar\n",
      "Chief Data Scientist, Center of Excellence in AI/ML, Reliance Jio\n",
      "\n",
      "See Profile\n",
      "\n",
      "Sray Agarwal\n",
      "Principal Consultant, Fractal AI, UK\n",
      "\n",
      "See Profile\n",
      "\n",
      "Dr. Sudipta Roy\n",
      "Associate Professor, Artificial Intelligence & Data Science, Jio Institute, India\n",
      "\n",
      "See Profile\n",
      "\n",
      "Dr. Varun Aggarwala\n",
      "Assistant Professor, Jio Institute\n",
      "\n",
      "See Profile\n",
      "\n",
      "Dr. Vidya Setlur\n",
      "Senior Director, Tableau Research, Tableau, USA\n",
      "\n",
      "See Profile\n",
      "\n",
      "Dr. Vishal Lala\n",
      "Professor of Marketing, Lubin School of Business, PACE University, USA\n",
      "\n",
      "See Profile\n",
      "\n",
      "Dr. Vishnuprasad Nagadevara\n",
      "Former Professor and Dean, Indian Institute of Management Bangalore, India\n",
      "\n",
      "See Profile\n",
      "\n",
      "Programme Advisory Council\n",
      "\n",
      "Dr. Dan Roth\n",
      "Eduardo D. Glandt Distinguished Professor, University of Pennsylvania, USA\n",
      "\n",
      "See Profile\n",
      "\n",
      "Dr. Joydeep Ghosh\n",
      "Schlumberger Centennial Chair Professor of Electrical and Computer Engineering, University of Texas at Austin, USA\n",
      "\n",
      "See Profile\n",
      "\n",
      "Dr. Maneesh Agarwala\n",
      "Forest Baskett Professor of Computer Science | Director of the Brown Institute for Media Innovation, Stanford University, USA\n",
      "\n",
      "See Profile\n",
      "\n",
      "Dr. Michael Franklin\n",
      "Liew Family Chairman of Computer Science, Senior Advisor to the Provost for Computing and Data Science, The University of Chicago, USA\n",
      "\n",
      "See Profile\n",
      "\n",
      "Dr.\n",
      "\n",
      "--- Split5 ---\n",
      "\n",
      "M Vidyasagar\n",
      "Fellow of The Royal Society, UK | National Science Chair, Science & Engineering Research Board (SERB), India | Distinguished Professor, Electrical Engineering, IIT Hyderabad, India\n",
      "\n",
      "See Profile\n",
      "\n",
      "Dr. Padmanabhan Anandan\n",
      "Former CEO, Wadhwani Institute for Artificial Intelligence, India | Researcher Emeritus, Microsoft Research India\n",
      "\n",
      "See Prof\n"
     ]
    }
   ],
   "source": [
    "for i in range(len(all_splits_semantic)):\n",
    "    print(f\"\\n--- Split{i} ---\\n\")\n",
    "    print(all_splits_semantic[i].page_content)"
   ]
  },
  {
   "cell_type": "code",
   "execution_count": 48,
   "id": "25681065",
   "metadata": {},
   "outputs": [
    {
     "data": {
      "text/plain": [
       "langchain_core.documents.base.Document"
      ]
     },
     "execution_count": 48,
     "metadata": {},
     "output_type": "execute_result"
    }
   ],
   "source": [
    "#Remember that the entire document has been split into smaller documents (which we are calling chunks!)\n",
    "type(all_splits_semantic[0])"
   ]
  },
  {
   "cell_type": "markdown",
   "id": "9082e816",
   "metadata": {},
   "source": [
    "**This is much better, as we inspect on the homepage!** Note, that this method requires the use of a embedding model and is relatively much slower!"
   ]
  },
  {
   "cell_type": "markdown",
   "id": "2639c9ac",
   "metadata": {},
   "source": [
    "### Storing Documents in Vector Store"
   ]
  },
  {
   "cell_type": "markdown",
   "id": "d665077d",
   "metadata": {},
   "source": [
    "Conceptual Reference - [Vector stores](https://python.langchain.com/docs/concepts/vectorstores/)"
   ]
  },
  {
   "cell_type": "markdown",
   "id": "7f29fa90",
   "metadata": {
    "jp-MarkdownHeadingCollapsed": true
   },
   "source": [
    "#### FAISS"
   ]
  },
  {
   "cell_type": "markdown",
   "id": "6cd6343a",
   "metadata": {},
   "source": [
    "**Facebook AI Similarity Search (FAISS)** is one of the popular implementations of *efficient similarity search*. It allows us to build an index and search, but it *speeds up search times to high performance levels*."
   ]
  },
  {
   "cell_type": "code",
   "execution_count": 1,
   "id": "8106e622",
   "metadata": {},
   "outputs": [
    {
     "ename": "ModuleNotFoundError",
     "evalue": "No module named 'faiss'",
     "output_type": "error",
     "traceback": [
      "\u001b[31m---------------------------------------------------------------------------\u001b[39m",
      "\u001b[31mModuleNotFoundError\u001b[39m                       Traceback (most recent call last)",
      "\u001b[36mCell\u001b[39m\u001b[36m \u001b[39m\u001b[32mIn[1]\u001b[39m\u001b[32m, line 2\u001b[39m\n\u001b[32m      1\u001b[39m \u001b[38;5;66;03m#Import libraries\u001b[39;00m\n\u001b[32m----> \u001b[39m\u001b[32m2\u001b[39m \u001b[38;5;28;01mimport\u001b[39;00m\u001b[38;5;250m \u001b[39m\u001b[34;01mfaiss\u001b[39;00m\n\u001b[32m      3\u001b[39m \u001b[38;5;28;01mfrom\u001b[39;00m\u001b[38;5;250m \u001b[39m\u001b[34;01mlangchain_community\u001b[39;00m\u001b[34;01m.\u001b[39;00m\u001b[34;01mdocstore\u001b[39;00m\u001b[34;01m.\u001b[39;00m\u001b[34;01min_memory\u001b[39;00m\u001b[38;5;250m \u001b[39m\u001b[38;5;28;01mimport\u001b[39;00m InMemoryDocstore\n\u001b[32m      4\u001b[39m \u001b[38;5;28;01mfrom\u001b[39;00m\u001b[38;5;250m \u001b[39m\u001b[34;01mlangchain_community\u001b[39;00m\u001b[34;01m.\u001b[39;00m\u001b[34;01mvectorstores\u001b[39;00m\u001b[38;5;250m \u001b[39m\u001b[38;5;28;01mimport\u001b[39;00m FAISS\n",
      "\u001b[31mModuleNotFoundError\u001b[39m: No module named 'faiss'"
     ]
    }
   ],
   "source": [
    "#Import libraries\n",
    "import faiss\n",
    "from langchain_community.docstore.in_memory import InMemoryDocstore\n",
    "from langchain_community.vectorstores import FAISS"
   ]
  },
  {
   "cell_type": "code",
   "execution_count": 50,
   "id": "551a0028",
   "metadata": {},
   "outputs": [
    {
     "name": "stdout",
     "output_type": "stream",
     "text": [
      "What is the PGP AI & DS at Jio Institute all about?\n"
     ]
    },
    {
     "data": {
      "text/plain": [
       "3072"
      ]
     },
     "execution_count": 50,
     "metadata": {},
     "output_type": "execute_result"
    }
   ],
   "source": [
    "#To get the dimension of the embedding generated by the model\n",
    "print(question)\n",
    "query_embedding = embeddings_model.embed_query(question)\n",
    "len(query_embedding)"
   ]
  },
  {
   "cell_type": "code",
   "execution_count": 51,
   "id": "2948abcc",
   "metadata": {},
   "outputs": [],
   "source": [
    "#Initialize the index (using the basic IndexFlatL2 - there are IndexIVFFlat and IndexIVFPQ also available that're faster. Note the tradeoff between accuracy and speed)\n",
    "index = faiss.IndexFlatL2(len(query_embedding))"
   ]
  },
  {
   "cell_type": "code",
   "execution_count": 52,
   "id": "839aa2f6",
   "metadata": {},
   "outputs": [],
   "source": [
    "#Create a vector store\n",
    "vector_store_faiss = FAISS(\n",
    "    embedding_function=embeddings_model,\n",
    "    index=index,\n",
    "    docstore=InMemoryDocstore(),\n",
    "    index_to_docstore_id={},\n",
    ")"
   ]
  },
  {
   "cell_type": "code",
   "execution_count": 53,
   "id": "509cc759",
   "metadata": {},
   "outputs": [
    {
     "data": {
      "text/plain": [
       "6"
      ]
     },
     "execution_count": 53,
     "metadata": {},
     "output_type": "execute_result"
    }
   ],
   "source": [
    "len(all_splits_semantic)"
   ]
  },
  {
   "cell_type": "code",
   "execution_count": 54,
   "id": "2c90a886",
   "metadata": {},
   "outputs": [
    {
     "data": {
      "text/plain": [
       "['6dafd123-d9ff-4da2-b2d9-acb9de305e5f',\n",
       " '288bd933-e39e-4ad3-b247-603f55f106ab',\n",
       " 'e7c5a2a0-cf62-4d16-9ed2-d7e8a8f2c462',\n",
       " '10e1ba56-d2cb-40dc-b51a-287a2ffe8cf3',\n",
       " '191d7341-80d8-4382-834c-7a4ebfaf75ff',\n",
       " 'e19b054a-b0e1-40a9-815e-ed1e5638812e']"
      ]
     },
     "execution_count": 54,
     "metadata": {},
     "output_type": "execute_result"
    }
   ],
   "source": [
    "#Add all chunks to vector DB\n",
    "uuids = [str(uuid4()) for _ in range(len(all_splits_semantic))] #Universally unique identifier\n",
    "vector_store_faiss.add_documents(documents=all_splits_semantic, ids=uuids)"
   ]
  },
  {
   "cell_type": "markdown",
   "id": "54e8fbbd",
   "metadata": {},
   "source": [
    "Although we can directly query by using `similarity_search` method of the `vector_store`, we will turn the vector store into a retriever and then use it, as it'll lead to easier usage when building our chains.\n",
    "\n",
    "**Why?** Because, both will be *Runnable* objects then!"
   ]
  },
  {
   "cell_type": "markdown",
   "id": "d39fa22e",
   "metadata": {},
   "source": [
    "#### ChromaDB"
   ]
  },
  {
   "cell_type": "markdown",
   "id": "d168c3c9",
   "metadata": {},
   "source": [
    "ChromaDB stands out as a *developer-friendly* and *open-source* vector database. Unlike FAISS, which is primarily a library for efficient similarity search, ChromaDB offers a **complete, ready-to-use solution** for storing, indexing, and querying embeddings, with built-in support for common embedding models and a Python client for ease of use."
   ]
  },
  {
   "cell_type": "code",
   "execution_count": 55,
   "id": "5506ff49",
   "metadata": {},
   "outputs": [],
   "source": [
    "#Import library\n",
    "from langchain_chroma import Chroma"
   ]
  },
  {
   "cell_type": "code",
   "execution_count": 56,
   "id": "f8d19997",
   "metadata": {},
   "outputs": [],
   "source": [
    "#Create a vector store\n",
    "vector_store_chroma = Chroma(\n",
    "    collection_name=\"session-3\",\n",
    "    embedding_function=embeddings_model,\n",
    "    # persist_directory=\"./chroma_langchain_db\",  # Where to save data locally, remove if not necessary\n",
    ")"
   ]
  },
  {
   "cell_type": "code",
   "execution_count": 57,
   "id": "c96ac39b",
   "metadata": {},
   "outputs": [
    {
     "data": {
      "text/plain": [
       "['e88b2642-9ac4-4391-bc02-bbeca3520cf8',\n",
       " 'b2377bd3-cb93-4c50-a33f-be10f4f74e72',\n",
       " '2dd4c9ee-5b4d-4653-941c-e7fe847488e1',\n",
       " '387fb496-ad54-4e59-ac2f-a55bc87c086e',\n",
       " 'a57091cb-09ab-4d44-9de4-0e0f67cc0bb5',\n",
       " '9160e92c-c926-4c47-94ee-311c40e05110']"
      ]
     },
     "execution_count": 57,
     "metadata": {},
     "output_type": "execute_result"
    }
   ],
   "source": [
    "#Add all chunks to vector DB\n",
    "uuids = [str(uuid4()) for _ in range(len(all_splits_semantic))] #Universally unique identifier\n",
    "vector_store_chroma.add_documents(documents=all_splits_semantic, ids=uuids)"
   ]
  },
  {
   "cell_type": "markdown",
   "id": "1dabc782",
   "metadata": {},
   "source": [
    "**Question 1**\n",
    "\n",
    "I have a document of 1M words. Consider each word as having 20 characters exactly and 1 space between each word. I am chunking it using a max chunk size of 100 characters. How many minimum chunks will I have? (consider 1 word = 1.33 tokens)\n",
    "\n",
    "Min number of chunks  = (20 characters + 1 character)*1M words / (100 characters per chunk) = 0.21M chunks\n",
    "\n",
    "*Max number of chunks  = 21M chunks*"
   ]
  },
  {
   "cell_type": "markdown",
   "id": "60049a00",
   "metadata": {},
   "source": [
    "**Question 2**\n",
    "\n",
    "What will be the embedding matrix size assuming min chunks? (d = 4096)\n",
    "\n",
    "(0.21M x 4096)"
   ]
  },
  {
   "cell_type": "markdown",
   "id": "3254e7cc",
   "metadata": {},
   "source": [
    "**Question 3**\n",
    "Consider my user prompt of 1000 words, and I am putting my complete document (=10,000 words) in the context and passing it to an LCM. Consider system prompt as \"You are a strong AI/ML researcher\". No memory. Input token cost = $0.4/1M tokens and output token cost = $1.6/1M tokens. Output = 50 words.\n",
    "\n",
    "We are using GPT4.1 mini which has a context length of 128,000 tokens and max_tokens as 4096 tokens.\n",
    "\n",
    "1) Is it possible?\n",
    "2) Cost?"
   ]
  },
  {
   "cell_type": "markdown",
   "id": "05261d2c",
   "metadata": {},
   "source": [
    "**Answer 1**\n",
    "(i)\n",
    "Input words = 1000 words (user prompt) + 10,000 words (complete document) + 6 words (system prompt)\n",
    "Output words = 50 words\n",
    "Total words = 11,056 words\n",
    "Total tokens = 11,056* 1.33 = 14,705 tokens << 128,000 token context length\n",
    "\n",
    "(ii) Output = 50 words * 1.33 = 66.5 tokens << 4096 token max tokens"
   ]
  },
  {
   "cell_type": "markdown",
   "id": "9873a151",
   "metadata": {},
   "source": [
    "**Answer 2**\n",
    "\n",
    "Input tokens = 11,006 * 1.33 = 14,638 tokens\n",
    "Input cost = 14,638 * 0.4 / 1,000,000 = $0.0058 = ~Rs. 0.5\n",
    "\n",
    "Output tokens = 66.5\n",
    "Output cost = 66.5 *1.6/1,000,000 = $0.00011 = ~Rs.0.008"
   ]
  },
  {
   "cell_type": "code",
   "execution_count": null,
   "id": "2f2f4072",
   "metadata": {},
   "outputs": [],
   "source": []
  },
  {
   "cell_type": "markdown",
   "id": "0c629dd7",
   "metadata": {},
   "source": [
    "## Part 2: Retrieval and Generation"
   ]
  },
  {
   "cell_type": "code",
   "execution_count": 259,
   "id": "af3d1302",
   "metadata": {},
   "outputs": [
    {
     "data": {
      "text/plain": [
       "'What is the PGP AI & DS at Jio Institute all about?'"
      ]
     },
     "execution_count": 259,
     "metadata": {},
     "output_type": "execute_result"
    }
   ],
   "source": [
    "#Printing our main question\n",
    "question"
   ]
  },
  {
   "cell_type": "code",
   "execution_count": 109,
   "id": "02c9f71b",
   "metadata": {},
   "outputs": [],
   "source": [
    "#Also having one out of context question\n",
    "question_out_of_context = \"IIM Calcutta's PGDBA program seems to be affiliated with Jio Institute, is that true?\""
   ]
  },
  {
   "cell_type": "markdown",
   "id": "daba0144",
   "metadata": {},
   "source": [
    "### Retrieval"
   ]
  },
  {
   "cell_type": "markdown",
   "id": "13165ea1",
   "metadata": {
    "jp-MarkdownHeadingCollapsed": true
   },
   "source": [
    "#### Retrieval Based On Semantic Similarity Search"
   ]
  },
  {
   "cell_type": "markdown",
   "id": "2baae4fd",
   "metadata": {},
   "source": [
    "The vector store can be directly queried using `similarity_search` method. However, we will turn the vector store to a retriever using `as_retriever` method, and then use it. Benefit is that the resulting retriever is a *Runnable* object, making it easier to use with chains!"
   ]
  },
  {
   "cell_type": "code",
   "execution_count": 94,
   "id": "9c8812b9",
   "metadata": {},
   "outputs": [],
   "source": [
    "#Create retriever from vector store\n",
    "retriever = vector_store_faiss.as_retriever()"
   ]
  },
  {
   "cell_type": "code",
   "execution_count": 95,
   "id": "5cf3cd8c",
   "metadata": {},
   "outputs": [
    {
     "data": {
      "text/plain": [
       "langchain_core.vectorstores.base.VectorStoreRetriever"
      ]
     },
     "execution_count": 95,
     "metadata": {},
     "output_type": "execute_result"
    }
   ],
   "source": [
    "type(retriever)"
   ]
  },
  {
   "cell_type": "code",
   "execution_count": 96,
   "id": "e978e99b",
   "metadata": {},
   "outputs": [
    {
     "data": {
      "text/plain": [
       "[Document(id='4256b285-9264-4b32-b58d-86c360aefe20', metadata={'source': 'https://www.jioinstitute.edu.in/academics/artificial-intelligence-data-science'}, page_content='PGP in Artificial Intelligence & Data Science\\n\\nThis postgraduate programme has a comprehensive and rigorous curriculum that covers foundation and advanced courses to train future-ready full-stack data scientists and AI architects. Download Brochure\\n\\nVideo\\n\\nVideo\\n\\nVideo\\n\\nVideo\\n\\nVideo\\n\\nVideo\\n\\nVideo\\n\\nVideo\\n\\nProgramme overviewIn this programme, students will embark on a journey that explores the fascinating realm of cutting-edge AI technologies that are reshaping industries, revolutionizing decision-making, and transforming the way we interact with data/information. Our comprehensive and rigorous curriculum covers courses from foundation to advanced levels. Key concepts and technologies include Machine Learning, Deep Learning, Fundamentals of AI, Natural Language Processing (NLP), Optimization, Bigdata Engineering, Data Visualisation, Responsible AI, Reinforcement Learning and Time Series Analysis. The various courses are taught by renowned research-oriented faculty and industry practitioners from India and from around the world. The programme aims to instil strong theoretical foundations as well as the know-how to create practical solutions for enterprises and society. Students learn to convert business problems and workflows into AI&DS products and solutions across multiple verticals/industries.'),\n",
       " Document(id='7e67e18d-bee4-4dab-ad6d-87d6f7e8d87a', metadata={'source': 'https://www.jioinstitute.edu.in/about/'}, page_content='Raghunath Mashelkar\\n\\nPadma Vibhushan | Former Director General, CSIR, Government of India\\n\\nSee Profile\\n\\nVICE-CHANCELLOR\\nDr. Dipak Jain\\n\\nFormer Dean, Kellogg School of Management, USA | Former Dean, INSEAD, France\\n\\nSee Profile\\n\\nCampus Experience & Student Life\\nA vibrant campus replete with world-class facilities. Food & Dining\\n\\nAuditorium\\n\\nLibrary\\n\\nTech Enabled Classrooms\\n\\nState of the art labs\\n\\nSport & Fitness\\n\\nPrevious\\nNext\\n\\nExplore Campus Life'),\n",
       " Document(id='7025bdad-92c3-4917-8741-3e327ee45405', metadata={'source': 'https://www.jioinstitute.edu.in/about/'}, page_content='About Us\\n\\nJio Institute is a multidisciplinary higher education institute set up as a philanthropic initiative by the Reliance Group. The Institute is dedicated to the pursuit of excellence by bringing together global scholars and thought leaders and providing an enriching student experience through world-class education, and a culture of research and innovation. Our Story\\nPursuit of excellence in academics, research and innovation. We stand at the confluence of the best higher education practices from India and the world. The institute aims to nurture students’ aspirations, and provide a platform to their entrepreneurial spirit. Read more\\n\\nOur Vision\\nIn sync with global aspirations. In step with changing times. We envisage to be a world-class higher education institute through our multi-disciplinary academic programmes, robust research endeavours and a culture of innovation and entrepreneurship. Read more\\n\\nGrowth Plan\\nWell thought out growth strategy. In the future, we envisage to cater to 10,000 students across multiple disciplines covering undergraduate, post graduate, doctoral, and post-doctoral programmes. Read more\\n\\nFounders\\nOur founders’ legacy of transformative endeavors and their unwavering faith in the potential of India’s youth form the keystone of Jio Institute. Smt. Nita Ambani\\nFounder Chairperson, Reliance Foundation Institution of Education and Research\\nKnow More\\n\\nShri Mukesh Ambani\\nChairman and Managing Director, Reliance Industries Limited\\nKnow More\\n\\nGoverning Council\\n\\nFOUNDER\\nSmt. Nita Ambani\\n\\nFounder Chairperson, Reliance Foundation Institution of Education and Research\\n\\nSee Profile\\n\\nChancellor\\nDr. Raghunath Mashelkar\\n\\nPadma Vibhushan | Former Director General, CSIR, Government of India | Ex-officio invitee, Governing Council, Jio Institute\\n\\nSee Profile\\n\\nMr. Akash Ambani\\n\\nChairman, Reliance Jio Infocomm Ltd | Director, Reliance Retail Ventures Ltd. See Profile\\n\\nVICE-CHANCELLOR\\nDr. Dipak Jain\\n\\nFormer Dean, Kellogg School of Management, USA | Former Dean, INSEAD, France | Ex-officio invitee, Governing Council, Jio Institute\\n\\nSee Profile\\n\\nMs. Isha Ambani\\n\\nMember of Executive Leadership teams, Reliance Retail, Reliance Jio, Reliance Foundation, and Dhirubhai Ambani International School\\n\\nSee Profile\\n\\nDr. Pradeep Khosla\\n\\nChancellor, University of California, San Diego, USA\\n\\nSee Profile\\n\\nMr. Anant Ambani\\n\\nDirector, Jio Platforms Limited and Reliance Retail Ventures Ltd. See Profile\\n\\nDr. Bimal Patel\\n\\nPresident, CEPT University | Managing Director, HCP Design, Planning and Management Pvt. Ltd. See Profile\\n\\nMr. Vikram Mehta\\n\\nFormer Executive Chairman, Brookings India | Former CEO, Shell India\\n\\nSee Profile\\n\\nMr. Jalaj Dani\\n\\nChairman of the Board of Governors, IIM Trichy | Co-Promoter, Asian Paints\\n\\nSee Profile\\n\\nMr.'),\n",
       " Document(id='9a5374d9-1629-47c6-b45c-70c0587badde', metadata={'source': 'https://www.jioinstitute.edu.in/academics/artificial-intelligence-data-science'}, page_content='Enriched by exposure to real-life AI&DS applications through capstone projects and lectures from industry veterans, students are exposed to hands-on exercises, practical projects and quizzes to reinforce their learning. PGP in Artificial Intelligence & Data Science\\n\\nLeadership\\nFaculty\\nAdvisors\\nCurriculum\\nTools\\nHighlights\\nAdmissions\\nFAQ\\nBrochure\\n\\nPGP in Artificial Intelligence & Data Science\\n\\nChoose your purpose\\n\\nLeadership\\nFaculty\\nAdvisors\\nCurriculum\\nTools\\nHighlights\\nAdmissions\\nFAQ\\nBrochure\\n\\nProgramme Leadership\\n\\nDr. Larry Birnbaum\\n\\nProfessor, Computer Science, Northwestern University, USA\\n\\nSee Profile\\n\\nDr. Shailesh Kumar\\n\\nChief Data Scientist, Center of Excellence in AI/ML, Reliance Jio\\n\\nSee Profile\\n\\nFaculty\\n\\nAnant Agarwal\\nData Science Manager, Nissan Motor Corporation, India\\n\\nSee Profile\\n\\nAnmol Karnwal\\nApplied AI Scientist, Microsoft, India\\n\\nSee Profile\\n\\nDr. Arindam Banerjee\\nFounder Professor at the Department of Computer Science, University of Illinois Urbana-Champaign, USA\\n\\nSee Profile\\n\\nArpit Yadav\\nSenior Data Scientist-R&D, CCE Bangalore, India\\n\\nSee Profile\\n\\nDr. Chandra Sekhar Bhagavatula\\nSenior Research Scientist, Allen Institute for AI, USA\\n\\nSee Profile\\n\\nDr. Divyakant Agrawal\\nDistinguished Professor, University of California, Santa Barbara, USA\\n\\nSee Profile\\n\\nDr. Dwarikanath Mahapatra\\nSenior Research Scientist at the Inception Institute of Artificial Intelligence, Abu Dhabi, UAE\\n\\nSee Profile\\n\\nDr. Gaurav Aggarwal\\nVice President, Special Projects AI/ML, Reliance Jio, India\\n\\nSee Profile\\n\\nDr. Khyathi Chandu\\nResearch Scientist, Allen Institute of AI, USA\\n\\nSee Profile\\n\\nDr. Larry Birnbaum\\nProfessor, Computer Science, Northwestern University, USA\\n\\nSee Profile\\n\\nManaranjan Pradhan\\nFounder & Director, AwesomeStats Consulting Pvt Ltd, India | Adjunct Faculty for Indian Institute of Management, Bangalore and Indian School of Business, Hyderabad\\n\\nSee Profile\\n\\nDr. Niket Tandon\\nSenior Research Scientist, Allen Institute of AI, USA\\n\\nSee Profile\\n\\nRishabh Sharma\\nPrincipal Software Engineer and Founder, MindsOnAI Technologies (OPC), India\\n\\nSee Profile\\n\\nDr. Shailesh Kumar\\nChief Data Scientist, Center of Excellence in AI/ML, Reliance Jio\\n\\nSee Profile\\n\\nSray Agarwal\\nPrincipal Consultant, Fractal AI, UK\\n\\nSee Profile\\n\\nDr. Sudipta Roy\\nAssociate Professor, Artificial Intelligence & Data Science, Jio Institute, India\\n\\nSee Profile\\n\\nDr. Varun Aggarwala\\nAssistant Professor, Jio Institute\\n\\nSee Profile\\n\\nDr. Vidya Setlur\\nSenior Director, Tableau Research, Tableau, USA\\n\\nSee Profile\\n\\nDr. Vishal Lala\\nProfessor of Marketing, Lubin School of Business, PACE University, USA\\n\\nSee Profile\\n\\nDr. Vishnuprasad Nagadevara\\nFormer Professor and Dean, Indian Institute of Management Bangalore, India\\n\\nSee Profile\\n\\nProgramme Advisory Council\\n\\nDr. Dan Roth\\nEduardo D. Glandt Distinguished Professor, University of Pennsylvania, USA\\n\\nSee Profile\\n\\nDr. Joydeep Ghosh\\nSchlumberger Centennial Chair Professor of Electrical and Computer Engineering, University of Texas at Austin, USA\\n\\nSee Profile\\n\\nDr. Maneesh Agarwala\\nForest Baskett Professor of Computer Science | Director of the Brown Institute for Media Innovation, Stanford University, USA\\n\\nSee Profile\\n\\nDr. Michael Franklin\\nLiew\\xa0Family Chairman of Computer Science, Senior Advisor to the Provost for Computing and Data Science, The University of Chicago, USA\\n\\nSee Profile\\n\\nDr.')]"
      ]
     },
     "execution_count": 96,
     "metadata": {},
     "output_type": "execute_result"
    }
   ],
   "source": [
    "#Check default settings\n",
    "docs = retriever.invoke(question)\n",
    "docs"
   ]
  },
  {
   "cell_type": "code",
   "execution_count": 78,
   "id": "c94a76e0",
   "metadata": {},
   "outputs": [
    {
     "data": {
      "text/plain": [
       "'What is the PGP AI & DS at Jio Institute all about?'"
      ]
     },
     "execution_count": 78,
     "metadata": {},
     "output_type": "execute_result"
    }
   ],
   "source": [
    "question"
   ]
  },
  {
   "cell_type": "markdown",
   "id": "6dce1986",
   "metadata": {},
   "source": [
    "**Now let's pass a search parameter, that retrieves based on similarity score threshold.**"
   ]
  },
  {
   "cell_type": "code",
   "execution_count": 79,
   "id": "0e4bca9e",
   "metadata": {},
   "outputs": [],
   "source": [
    "#Create retriever from vector store with similarity score threshold\n",
    "retriever = vector_store_faiss.as_retriever(\n",
    "    search_type=\"similarity_score_threshold\", search_kwargs={\"score_threshold\": 0.3}  # hyperparameter that can be tuned\n",
    ")"
   ]
  },
  {
   "cell_type": "code",
   "execution_count": 80,
   "id": "4c7b86bf",
   "metadata": {},
   "outputs": [
    {
     "data": {
      "text/plain": [
       "[Document(id='4256b285-9264-4b32-b58d-86c360aefe20', metadata={'source': 'https://www.jioinstitute.edu.in/academics/artificial-intelligence-data-science'}, page_content='PGP in Artificial Intelligence & Data Science\\n\\nThis postgraduate programme has a comprehensive and rigorous curriculum that covers foundation and advanced courses to train future-ready full-stack data scientists and AI architects. Download Brochure\\n\\nVideo\\n\\nVideo\\n\\nVideo\\n\\nVideo\\n\\nVideo\\n\\nVideo\\n\\nVideo\\n\\nVideo\\n\\nProgramme overviewIn this programme, students will embark on a journey that explores the fascinating realm of cutting-edge AI technologies that are reshaping industries, revolutionizing decision-making, and transforming the way we interact with data/information. Our comprehensive and rigorous curriculum covers courses from foundation to advanced levels. Key concepts and technologies include Machine Learning, Deep Learning, Fundamentals of AI, Natural Language Processing (NLP), Optimization, Bigdata Engineering, Data Visualisation, Responsible AI, Reinforcement Learning and Time Series Analysis. The various courses are taught by renowned research-oriented faculty and industry practitioners from India and from around the world. The programme aims to instil strong theoretical foundations as well as the know-how to create practical solutions for enterprises and society. Students learn to convert business problems and workflows into AI&DS products and solutions across multiple verticals/industries.')]"
      ]
     },
     "execution_count": 80,
     "metadata": {},
     "output_type": "execute_result"
    }
   ],
   "source": [
    "docs = retriever.invoke(question)\n",
    "docs"
   ]
  },
  {
   "cell_type": "code",
   "execution_count": 85,
   "id": "3106a483",
   "metadata": {},
   "outputs": [
    {
     "name": "stdout",
     "output_type": "stream",
     "text": [
      "PGP in Artificial Intelligence & Data Science\n",
      "\n",
      "This postgraduate programme has a comprehensive and rigorous curriculum that covers foundation and advanced courses to train future-ready full-stack data scientists and AI architects. Download Brochure\n",
      "\n",
      "Video\n",
      "\n",
      "Video\n",
      "\n",
      "Video\n",
      "\n",
      "Video\n",
      "\n",
      "Video\n",
      "\n",
      "Video\n",
      "\n",
      "Video\n",
      "\n",
      "Video\n",
      "\n",
      "Programme overviewIn this programme, students will embark on a journey that explores the fascinating realm of cutting-edge AI technologies that are reshaping industries, revolutionizing decision-making, and transforming the way we interact with data/information. Our comprehensive and rigorous curriculum covers courses from foundation to advanced levels. Key concepts and technologies include Machine Learning, Deep Learning, Fundamentals of AI, Natural Language Processing (NLP), Optimization, Bigdata Engineering, Data Visualisation, Responsible AI, Reinforcement Learning and Time Series Analysis. The various courses are taught by renowned research-oriented faculty and industry practitioners from India and from around the world. The programme aims to instil strong theoretical foundations as well as the know-how to create practical solutions for enterprises and society. Students learn to convert business problems and workflows into AI&DS products and solutions across multiple verticals/industries.\n"
     ]
    }
   ],
   "source": [
    "print(docs[0].page_content)"
   ]
  },
  {
   "cell_type": "markdown",
   "id": "096f23ab",
   "metadata": {},
   "source": [
    "**Now let's pass another search parameter, that retrieves top k results only.**"
   ]
  },
  {
   "cell_type": "code",
   "execution_count": 90,
   "id": "eee65b21",
   "metadata": {},
   "outputs": [],
   "source": [
    "#Create retriever from vector store with similarity score threshold\n",
    "retriever = vector_store_faiss.as_retriever(\n",
    "    search_kwargs={\"k\": 3} # hyperparameter that can be tuned\n",
    ")"
   ]
  },
  {
   "cell_type": "code",
   "execution_count": 91,
   "id": "4fd307a6",
   "metadata": {
    "collapsed": true,
    "jupyter": {
     "outputs_hidden": true
    }
   },
   "outputs": [
    {
     "data": {
      "text/plain": [
       "[Document(id='4256b285-9264-4b32-b58d-86c360aefe20', metadata={'source': 'https://www.jioinstitute.edu.in/academics/artificial-intelligence-data-science'}, page_content='PGP in Artificial Intelligence & Data Science\\n\\nThis postgraduate programme has a comprehensive and rigorous curriculum that covers foundation and advanced courses to train future-ready full-stack data scientists and AI architects. Download Brochure\\n\\nVideo\\n\\nVideo\\n\\nVideo\\n\\nVideo\\n\\nVideo\\n\\nVideo\\n\\nVideo\\n\\nVideo\\n\\nProgramme overviewIn this programme, students will embark on a journey that explores the fascinating realm of cutting-edge AI technologies that are reshaping industries, revolutionizing decision-making, and transforming the way we interact with data/information. Our comprehensive and rigorous curriculum covers courses from foundation to advanced levels. Key concepts and technologies include Machine Learning, Deep Learning, Fundamentals of AI, Natural Language Processing (NLP), Optimization, Bigdata Engineering, Data Visualisation, Responsible AI, Reinforcement Learning and Time Series Analysis. The various courses are taught by renowned research-oriented faculty and industry practitioners from India and from around the world. The programme aims to instil strong theoretical foundations as well as the know-how to create practical solutions for enterprises and society. Students learn to convert business problems and workflows into AI&DS products and solutions across multiple verticals/industries.'),\n",
       " Document(id='7e67e18d-bee4-4dab-ad6d-87d6f7e8d87a', metadata={'source': 'https://www.jioinstitute.edu.in/about/'}, page_content='Raghunath Mashelkar\\n\\nPadma Vibhushan | Former Director General, CSIR, Government of India\\n\\nSee Profile\\n\\nVICE-CHANCELLOR\\nDr. Dipak Jain\\n\\nFormer Dean, Kellogg School of Management, USA | Former Dean, INSEAD, France\\n\\nSee Profile\\n\\nCampus Experience & Student Life\\nA vibrant campus replete with world-class facilities. Food & Dining\\n\\nAuditorium\\n\\nLibrary\\n\\nTech Enabled Classrooms\\n\\nState of the art labs\\n\\nSport & Fitness\\n\\nPrevious\\nNext\\n\\nExplore Campus Life'),\n",
       " Document(id='7025bdad-92c3-4917-8741-3e327ee45405', metadata={'source': 'https://www.jioinstitute.edu.in/about/'}, page_content='About Us\\n\\nJio Institute is a multidisciplinary higher education institute set up as a philanthropic initiative by the Reliance Group. The Institute is dedicated to the pursuit of excellence by bringing together global scholars and thought leaders and providing an enriching student experience through world-class education, and a culture of research and innovation. Our Story\\nPursuit of excellence in academics, research and innovation. We stand at the confluence of the best higher education practices from India and the world. The institute aims to nurture students’ aspirations, and provide a platform to their entrepreneurial spirit. Read more\\n\\nOur Vision\\nIn sync with global aspirations. In step with changing times. We envisage to be a world-class higher education institute through our multi-disciplinary academic programmes, robust research endeavours and a culture of innovation and entrepreneurship. Read more\\n\\nGrowth Plan\\nWell thought out growth strategy. In the future, we envisage to cater to 10,000 students across multiple disciplines covering undergraduate, post graduate, doctoral, and post-doctoral programmes. Read more\\n\\nFounders\\nOur founders’ legacy of transformative endeavors and their unwavering faith in the potential of India’s youth form the keystone of Jio Institute. Smt. Nita Ambani\\nFounder Chairperson, Reliance Foundation Institution of Education and Research\\nKnow More\\n\\nShri Mukesh Ambani\\nChairman and Managing Director, Reliance Industries Limited\\nKnow More\\n\\nGoverning Council\\n\\nFOUNDER\\nSmt. Nita Ambani\\n\\nFounder Chairperson, Reliance Foundation Institution of Education and Research\\n\\nSee Profile\\n\\nChancellor\\nDr. Raghunath Mashelkar\\n\\nPadma Vibhushan | Former Director General, CSIR, Government of India | Ex-officio invitee, Governing Council, Jio Institute\\n\\nSee Profile\\n\\nMr. Akash Ambani\\n\\nChairman, Reliance Jio Infocomm Ltd | Director, Reliance Retail Ventures Ltd. See Profile\\n\\nVICE-CHANCELLOR\\nDr. Dipak Jain\\n\\nFormer Dean, Kellogg School of Management, USA | Former Dean, INSEAD, France | Ex-officio invitee, Governing Council, Jio Institute\\n\\nSee Profile\\n\\nMs. Isha Ambani\\n\\nMember of Executive Leadership teams, Reliance Retail, Reliance Jio, Reliance Foundation, and Dhirubhai Ambani International School\\n\\nSee Profile\\n\\nDr. Pradeep Khosla\\n\\nChancellor, University of California, San Diego, USA\\n\\nSee Profile\\n\\nMr. Anant Ambani\\n\\nDirector, Jio Platforms Limited and Reliance Retail Ventures Ltd. See Profile\\n\\nDr. Bimal Patel\\n\\nPresident, CEPT University | Managing Director, HCP Design, Planning and Management Pvt. Ltd. See Profile\\n\\nMr. Vikram Mehta\\n\\nFormer Executive Chairman, Brookings India | Former CEO, Shell India\\n\\nSee Profile\\n\\nMr. Jalaj Dani\\n\\nChairman of the Board of Governors, IIM Trichy | Co-Promoter, Asian Paints\\n\\nSee Profile\\n\\nMr.')]"
      ]
     },
     "execution_count": 91,
     "metadata": {},
     "output_type": "execute_result"
    }
   ],
   "source": [
    "docs = retriever.invoke(question)\n",
    "docs"
   ]
  },
  {
   "cell_type": "markdown",
   "id": "cc1269b3",
   "metadata": {},
   "source": [
    "**Now let's do metadata filtering.** \n",
    "\n",
    "A lot of vector stores also support filtering on metadata. Check more information on self-querying retrieval [here](https://python.langchain.com/docs/how_to/self_query/).\n",
    "\n",
    "Thus, we can do both 1) **semantic search** by querying unstructured data directly 2) **metadata search** by applying structured query to metadata."
   ]
  },
  {
   "cell_type": "code",
   "execution_count": 274,
   "id": "17d9e4c3",
   "metadata": {},
   "outputs": [],
   "source": [
    "#Create retriever from vector store with metadata filter\n",
    "retriever = vector_store_faiss.as_retriever(\n",
    "    search_kwargs={\"filter\": {\"source\": \"https://www.jioinstitute.edu.in/about/\"}}\n",
    ")"
   ]
  },
  {
   "cell_type": "code",
   "execution_count": 93,
   "id": "04463b7c",
   "metadata": {},
   "outputs": [],
   "source": [
    "# all_splits_semantic"
   ]
  },
  {
   "cell_type": "code",
   "execution_count": 275,
   "id": "e140f976",
   "metadata": {
    "scrolled": true
   },
   "outputs": [
    {
     "data": {
      "text/plain": [
       "[Document(id='9b350d50-180d-4b92-80ae-c1e240eccb7d', metadata={'source': 'https://www.jioinstitute.edu.in/about/'}, page_content='About Us\\n\\nJio Institute is a multidisciplinary higher education institute set up as a philanthropic initiative by the Reliance Group. The Institute is dedicated to the pursuit of excellence by bringing together global scholars and thought leaders and providing an enriching student experience through world-class education, and a culture of research and innovation. Our Story\\nPursuit of excellence in academics, research and innovation. We stand at the confluence of the best higher education practices from India and the world. The institute aims to nurture students’ aspirations, and provide a platform to their entrepreneurial spirit. Read more\\n\\nOur Vision\\nIn sync with global aspirations. In step with changing times. We envisage to be a world-class higher education institute through our multi-disciplinary academic programmes, robust research endeavours and a culture of innovation and entrepreneurship. Read more\\n\\nGrowth Plan\\nWell thought out growth strategy. In the future, we envisage to cater to 10,000 students across multiple disciplines covering undergraduate, post graduate, doctoral, and post-doctoral programmes.'),\n",
       " Document(id='66177276-83d1-4d12-9595-2f1aa3512c98', metadata={'source': 'https://www.jioinstitute.edu.in/about/'}, page_content='Raghunath Mashelkar\\n\\nPadma Vibhushan | Former Director General, CSIR, Government of India\\n\\nSee Profile\\n\\nVICE-CHANCELLOR\\nDr. Dipak Jain\\n\\nFormer Dean, Kellogg School of Management, USA | Former Dean, INSEAD, France\\n\\nSee Profile\\n\\nCampus Experience & Student Life\\nA vibrant campus replete with world-class facilities. Food & Dining\\n\\nAuditorium\\n\\nLibrary\\n\\nTech Enabled Classrooms\\n\\nState of the art labs\\n\\nSport & Fitness\\n\\nPrevious\\nNext\\n\\nExplore Campus Life'),\n",
       " Document(id='104ca0f9-683a-4317-b767-8f32478d81d1', metadata={'source': 'https://www.jioinstitute.edu.in/about/'}, page_content='Read more\\n\\nFounders\\nOur founders’ legacy of transformative endeavors and their unwavering faith in the potential of India’s youth form the keystone of Jio Institute. Smt. Nita Ambani\\nFounder Chairperson, Reliance Foundation Institution of Education and Research\\nKnow More\\n\\nShri Mukesh Ambani\\nChairman and Managing Director, Reliance Industries Limited\\nKnow More\\n\\nGoverning Council\\n\\nFOUNDER\\nSmt. Nita Ambani\\n\\nFounder Chairperson, Reliance Foundation Institution of Education and Research\\n\\nSee Profile\\n\\nChancellor\\nDr. Raghunath Mashelkar\\n\\nPadma Vibhushan | Former Director General, CSIR, Government of India | Ex-officio invitee, Governing Council, Jio Institute\\n\\nSee Profile\\n\\nMr. Akash Ambani\\n\\nChairman, Reliance Jio Infocomm Ltd | Director, Reliance Retail Ventures Ltd. See Profile\\n\\nVICE-CHANCELLOR\\nDr. Dipak Jain\\n\\nFormer Dean, Kellogg School of Management, USA | Former Dean, INSEAD, France | Ex-officio invitee, Governing Council, Jio Institute\\n\\nSee Profile\\n\\nMs. Isha Ambani\\n\\nMember of Executive Leadership teams, Reliance Retail, Reliance Jio, Reliance Foundation, and Dhirubhai Ambani International School\\n\\nSee Profile\\n\\nDr. Pradeep Khosla\\n\\nChancellor, University of California, San Diego, USA\\n\\nSee Profile\\n\\nMr. Anant Ambani\\n\\nDirector, Jio Platforms Limited and Reliance Retail Ventures Ltd. See Profile\\n\\nDr. Bimal Patel\\n\\nPresident, CEPT University | Managing Director, HCP Design, Planning and Management Pvt. Ltd. See Profile\\n\\nMr. Vikram Mehta\\n\\nFormer Executive Chairman, Brookings India | Former CEO, Shell India\\n\\nSee Profile\\n\\nMr. Jalaj Dani\\n\\nChairman of the Board of Governors, IIM Trichy | Co-Promoter, Asian Paints\\n\\nSee Profile\\n\\nMr. R. Venkataramanan\\n\\nFormer Managing Trustee, Tata Trusts\\n\\nSee Profile\\n\\nJio Institute Leadership\\nFrom reputed academicians and researchers around the world to Indian stalwarts across the spectrum – Jio Institute’s distinguished leadership is committed to guiding the Institute from strength to strength. Chancellor\\nDr.')]"
      ]
     },
     "execution_count": 275,
     "metadata": {},
     "output_type": "execute_result"
    }
   ],
   "source": [
    "docs = retriever.invoke(question)\n",
    "docs"
   ]
  },
  {
   "cell_type": "markdown",
   "id": "4f67ae5e",
   "metadata": {},
   "source": [
    "We can see that the result from the other webpage **has been filtered out**!"
   ]
  },
  {
   "cell_type": "markdown",
   "id": "f5f6b1bc",
   "metadata": {},
   "source": [
    "#### Advanced Retrieval Based On Maximum Marginal Relevance"
   ]
  },
  {
   "cell_type": "markdown",
   "id": "0485b093",
   "metadata": {},
   "source": [
    "*Maximum marginal relevance* is a **re-ranking** algorithm that optimizes for both similarity to query *AND* diversity among selected documents. This can be used, if supported by the particular vector store."
   ]
  },
  {
   "cell_type": "code",
   "execution_count": 98,
   "id": "8d7f5a72",
   "metadata": {},
   "outputs": [
    {
     "name": "stdout",
     "output_type": "stream",
     "text": [
      "PGP in Artificial Intelligence & Data Science\n",
      "\n",
      "This postgraduate programme has a comprehensive and rigorous curriculum that covers foundation and advanced courses to train future-ready full-stack data scientists and AI architects. Download Brochure\n",
      "\n",
      "Video\n",
      "\n",
      "Video\n",
      "\n",
      "Video\n",
      "\n",
      "Video\n",
      "\n",
      "Video\n",
      "\n",
      "Video\n",
      "\n",
      "Video\n",
      "\n",
      "Video\n",
      "\n",
      "Programme overviewIn this programme, students will embark on a journey that explores the fascinating realm of cutting-edge AI technologies that are reshaping industries, revolutionizing decision-making, and transforming the way we interact with data/information. Our comprehensive and rigorous curriculum covers courses from foundation to advanced levels. Key concepts and technologies include Machine Learning, Deep Learning, Fundamentals of AI, Natural Language Processing (NLP), Optimization, Bigdata Engineering, Data Visualisation, Responsible AI, Reinforcement Learning and Time Series Analysis. The various courses are taught by renowned research-oriented faculty and industry practitioners from India and from around the world. The programme aims to instil strong theoretical foundations as well as the know-how to create practical solutions for enterprises and society. Students learn to convert business problems and workflows into AI&DS products and solutions across multiple verticals/industries.\n",
      "----------------------------------------------------------------------------------------------------\n",
      "Raghunath Mashelkar\n",
      "\n",
      "Padma Vibhushan | Former Director General, CSIR, Government of India\n",
      "\n",
      "See Profile\n",
      "\n",
      "VICE-CHANCELLOR\n",
      "Dr. Dipak Jain\n",
      "\n",
      "Former Dean, Kellogg School of Management, USA | Former Dean, INSEAD, France\n",
      "\n",
      "See Profile\n",
      "\n",
      "Campus Experience & Student Life\n",
      "A vibrant campus replete with world-class facilities. Food & Dining\n",
      "\n",
      "Auditorium\n",
      "\n",
      "Library\n",
      "\n",
      "Tech Enabled Classrooms\n",
      "\n",
      "State of the art labs\n",
      "\n",
      "Sport & Fitness\n",
      "\n",
      "Previous\n",
      "Next\n",
      "\n",
      "Explore Campus Life\n",
      "----------------------------------------------------------------------------------------------------\n",
      "About Us\n",
      "\n",
      "Jio Institute is a multidisciplinary higher education institute set up as a philanthropic initiative by the Reliance Group. The Institute is dedicated to the pursuit of excellence by bringing together global scholars and thought leaders and providing an enriching student experience through world-class education, and a culture of research and innovation. Our Story\n",
      "Pursuit of excellence in academics, research and innovation. We stand at the confluence of the best higher education practices from India and the world. The institute aims to nurture students’ aspirations, and provide a platform to their entrepreneurial spirit. Read more\n",
      "\n",
      "Our Vision\n",
      "In sync with global aspirations. In step with changing times. We envisage to be a world-class higher education institute through our multi-disciplinary academic programmes, robust research endeavours and a culture of innovation and entrepreneurship. Read more\n",
      "\n",
      "Growth Plan\n",
      "Well thought out growth strategy. In the future, we envisage to cater to 10,000 students across multiple disciplines covering undergraduate, post graduate, doctoral, and post-doctoral programmes. Read more\n",
      "\n",
      "Founders\n",
      "Our founders’ legacy of transformative endeavors and their unwavering faith in the potential of India’s youth form the keystone of Jio Institute. Smt. Nita Ambani\n",
      "Founder Chairperson, Reliance Foundation Institution of Education and Research\n",
      "Know More\n",
      "\n",
      "Shri Mukesh Ambani\n",
      "Chairman and Managing Director, Reliance Industries Limited\n",
      "Know More\n",
      "\n",
      "Governing Council\n",
      "\n",
      "FOUNDER\n",
      "Smt. Nita Ambani\n",
      "\n",
      "Founder Chairperson, Reliance Foundation Institution of Education and Research\n",
      "\n",
      "See Profile\n",
      "\n",
      "Chancellor\n",
      "Dr. Raghunath Mashelkar\n",
      "\n",
      "Padma Vibhushan | Former Director General, CSIR, Government of India | Ex-officio invitee, Governing Council, Jio Institute\n",
      "\n",
      "See Profile\n",
      "\n",
      "Mr. Akash Ambani\n",
      "\n",
      "Chairman, Reliance Jio Infocomm Ltd | Director, Reliance Retail Ventures Ltd. See Profile\n",
      "\n",
      "VICE-CHANCELLOR\n",
      "Dr. Dipak Jain\n",
      "\n",
      "Former Dean, Kellogg School of Management, USA | Former Dean, INSEAD, France | Ex-officio invitee, Governing Council, Jio Institute\n",
      "\n",
      "See Profile\n",
      "\n",
      "Ms. Isha Ambani\n",
      "\n",
      "Member of Executive Leadership teams, Reliance Retail, Reliance Jio, Reliance Foundation, and Dhirubhai Ambani International School\n",
      "\n",
      "See Profile\n",
      "\n",
      "Dr. Pradeep Khosla\n",
      "\n",
      "Chancellor, University of California, San Diego, USA\n",
      "\n",
      "See Profile\n",
      "\n",
      "Mr. Anant Ambani\n",
      "\n",
      "Director, Jio Platforms Limited and Reliance Retail Ventures Ltd. See Profile\n",
      "\n",
      "Dr. Bimal Patel\n",
      "\n",
      "President, CEPT University | Managing Director, HCP Design, Planning and Management Pvt. Ltd. See Profile\n",
      "\n",
      "Mr. Vikram Mehta\n",
      "\n",
      "Former Executive Chairman, Brookings India | Former CEO, Shell India\n",
      "\n",
      "See Profile\n",
      "\n",
      "Mr. Jalaj Dani\n",
      "\n",
      "Chairman of the Board of Governors, IIM Trichy | Co-Promoter, Asian Paints\n",
      "\n",
      "See Profile\n",
      "\n",
      "Mr.\n",
      "----------------------------------------------------------------------------------------------------\n",
      "Enriched by exposure to real-life AI&DS applications through capstone projects and lectures from industry veterans, students are exposed to hands-on exercises, practical projects and quizzes to reinforce their learning. PGP in Artificial Intelligence & Data Science\n",
      "\n",
      "Leadership\n",
      "Faculty\n",
      "Advisors\n",
      "Curriculum\n",
      "Tools\n",
      "Highlights\n",
      "Admissions\n",
      "FAQ\n",
      "Brochure\n",
      "\n",
      "PGP in Artificial Intelligence & Data Science\n",
      "\n",
      "Choose your purpose\n",
      "\n",
      "Leadership\n",
      "Faculty\n",
      "Advisors\n",
      "Curriculum\n",
      "Tools\n",
      "Highlights\n",
      "Admissions\n",
      "FAQ\n",
      "Brochure\n",
      "\n",
      "Programme Leadership\n",
      "\n",
      "Dr. Larry Birnbaum\n",
      "\n",
      "Professor, Computer Science, Northwestern University, USA\n",
      "\n",
      "See Profile\n",
      "\n",
      "Dr. Shailesh Kumar\n",
      "\n",
      "Chief Data Scientist, Center of Excellence in AI/ML, Reliance Jio\n",
      "\n",
      "See Profile\n",
      "\n",
      "Faculty\n",
      "\n",
      "Anant Agarwal\n",
      "Data Science Manager, Nissan Motor Corporation, India\n",
      "\n",
      "See Profile\n",
      "\n",
      "Anmol Karnwal\n",
      "Applied AI Scientist, Microsoft, India\n",
      "\n",
      "See Profile\n",
      "\n",
      "Dr. Arindam Banerjee\n",
      "Founder Professor at the Department of Computer Science, University of Illinois Urbana-Champaign, USA\n",
      "\n",
      "See Profile\n",
      "\n",
      "Arpit Yadav\n",
      "Senior Data Scientist-R&D, CCE Bangalore, India\n",
      "\n",
      "See Profile\n",
      "\n",
      "Dr. Chandra Sekhar Bhagavatula\n",
      "Senior Research Scientist, Allen Institute for AI, USA\n",
      "\n",
      "See Profile\n",
      "\n",
      "Dr. Divyakant Agrawal\n",
      "Distinguished Professor, University of California, Santa Barbara, USA\n",
      "\n",
      "See Profile\n",
      "\n",
      "Dr. Dwarikanath Mahapatra\n",
      "Senior Research Scientist at the Inception Institute of Artificial Intelligence, Abu Dhabi, UAE\n",
      "\n",
      "See Profile\n",
      "\n",
      "Dr. Gaurav Aggarwal\n",
      "Vice President, Special Projects AI/ML, Reliance Jio, India\n",
      "\n",
      "See Profile\n",
      "\n",
      "Dr. Khyathi Chandu\n",
      "Research Scientist, Allen Institute of AI, USA\n",
      "\n",
      "See Profile\n",
      "\n",
      "Dr. Larry Birnbaum\n",
      "Professor, Computer Science, Northwestern University, USA\n",
      "\n",
      "See Profile\n",
      "\n",
      "Manaranjan Pradhan\n",
      "Founder & Director, AwesomeStats Consulting Pvt Ltd, India | Adjunct Faculty for Indian Institute of Management, Bangalore and Indian School of Business, Hyderabad\n",
      "\n",
      "See Profile\n",
      "\n",
      "Dr. Niket Tandon\n",
      "Senior Research Scientist, Allen Institute of AI, USA\n",
      "\n",
      "See Profile\n",
      "\n",
      "Rishabh Sharma\n",
      "Principal Software Engineer and Founder, MindsOnAI Technologies (OPC), India\n",
      "\n",
      "See Profile\n",
      "\n",
      "Dr. Shailesh Kumar\n",
      "Chief Data Scientist, Center of Excellence in AI/ML, Reliance Jio\n",
      "\n",
      "See Profile\n",
      "\n",
      "Sray Agarwal\n",
      "Principal Consultant, Fractal AI, UK\n",
      "\n",
      "See Profile\n",
      "\n",
      "Dr. Sudipta Roy\n",
      "Associate Professor, Artificial Intelligence & Data Science, Jio Institute, India\n",
      "\n",
      "See Profile\n",
      "\n",
      "Dr. Varun Aggarwala\n",
      "Assistant Professor, Jio Institute\n",
      "\n",
      "See Profile\n",
      "\n",
      "Dr. Vidya Setlur\n",
      "Senior Director, Tableau Research, Tableau, USA\n",
      "\n",
      "See Profile\n",
      "\n",
      "Dr. Vishal Lala\n",
      "Professor of Marketing, Lubin School of Business, PACE University, USA\n",
      "\n",
      "See Profile\n",
      "\n",
      "Dr. Vishnuprasad Nagadevara\n",
      "Former Professor and Dean, Indian Institute of Management Bangalore, India\n",
      "\n",
      "See Profile\n",
      "\n",
      "Programme Advisory Council\n",
      "\n",
      "Dr. Dan Roth\n",
      "Eduardo D. Glandt Distinguished Professor, University of Pennsylvania, USA\n",
      "\n",
      "See Profile\n",
      "\n",
      "Dr. Joydeep Ghosh\n",
      "Schlumberger Centennial Chair Professor of Electrical and Computer Engineering, University of Texas at Austin, USA\n",
      "\n",
      "See Profile\n",
      "\n",
      "Dr. Maneesh Agarwala\n",
      "Forest Baskett Professor of Computer Science | Director of the Brown Institute for Media Innovation, Stanford University, USA\n",
      "\n",
      "See Profile\n",
      "\n",
      "Dr. Michael Franklin\n",
      "Liew Family Chairman of Computer Science, Senior Advisor to the Provost for Computing and Data Science, The University of Chicago, USA\n",
      "\n",
      "See Profile\n",
      "\n",
      "Dr.\n",
      "----------------------------------------------------------------------------------------------------\n"
     ]
    }
   ],
   "source": [
    "#Original retrieval\n",
    "for doc in docs:\n",
    "    print(doc.page_content)\n",
    "    print(\"-\"*100)\n"
   ]
  },
  {
   "cell_type": "code",
   "execution_count": 99,
   "id": "782dc3e3",
   "metadata": {},
   "outputs": [],
   "source": [
    "retriever = vector_store_faiss.as_retriever(search_type=\"mmr\")"
   ]
  },
  {
   "cell_type": "code",
   "execution_count": 100,
   "id": "68477ff0",
   "metadata": {},
   "outputs": [
    {
     "data": {
      "text/plain": [
       "[Document(id='4256b285-9264-4b32-b58d-86c360aefe20', metadata={'source': 'https://www.jioinstitute.edu.in/academics/artificial-intelligence-data-science'}, page_content='PGP in Artificial Intelligence & Data Science\\n\\nThis postgraduate programme has a comprehensive and rigorous curriculum that covers foundation and advanced courses to train future-ready full-stack data scientists and AI architects. Download Brochure\\n\\nVideo\\n\\nVideo\\n\\nVideo\\n\\nVideo\\n\\nVideo\\n\\nVideo\\n\\nVideo\\n\\nVideo\\n\\nProgramme overviewIn this programme, students will embark on a journey that explores the fascinating realm of cutting-edge AI technologies that are reshaping industries, revolutionizing decision-making, and transforming the way we interact with data/information. Our comprehensive and rigorous curriculum covers courses from foundation to advanced levels. Key concepts and technologies include Machine Learning, Deep Learning, Fundamentals of AI, Natural Language Processing (NLP), Optimization, Bigdata Engineering, Data Visualisation, Responsible AI, Reinforcement Learning and Time Series Analysis. The various courses are taught by renowned research-oriented faculty and industry practitioners from India and from around the world. The programme aims to instil strong theoretical foundations as well as the know-how to create practical solutions for enterprises and society. Students learn to convert business problems and workflows into AI&DS products and solutions across multiple verticals/industries.'),\n",
       " Document(id='7025bdad-92c3-4917-8741-3e327ee45405', metadata={'source': 'https://www.jioinstitute.edu.in/about/'}, page_content='About Us\\n\\nJio Institute is a multidisciplinary higher education institute set up as a philanthropic initiative by the Reliance Group. The Institute is dedicated to the pursuit of excellence by bringing together global scholars and thought leaders and providing an enriching student experience through world-class education, and a culture of research and innovation. Our Story\\nPursuit of excellence in academics, research and innovation. We stand at the confluence of the best higher education practices from India and the world. The institute aims to nurture students’ aspirations, and provide a platform to their entrepreneurial spirit. Read more\\n\\nOur Vision\\nIn sync with global aspirations. In step with changing times. We envisage to be a world-class higher education institute through our multi-disciplinary academic programmes, robust research endeavours and a culture of innovation and entrepreneurship. Read more\\n\\nGrowth Plan\\nWell thought out growth strategy. In the future, we envisage to cater to 10,000 students across multiple disciplines covering undergraduate, post graduate, doctoral, and post-doctoral programmes. Read more\\n\\nFounders\\nOur founders’ legacy of transformative endeavors and their unwavering faith in the potential of India’s youth form the keystone of Jio Institute. Smt. Nita Ambani\\nFounder Chairperson, Reliance Foundation Institution of Education and Research\\nKnow More\\n\\nShri Mukesh Ambani\\nChairman and Managing Director, Reliance Industries Limited\\nKnow More\\n\\nGoverning Council\\n\\nFOUNDER\\nSmt. Nita Ambani\\n\\nFounder Chairperson, Reliance Foundation Institution of Education and Research\\n\\nSee Profile\\n\\nChancellor\\nDr. Raghunath Mashelkar\\n\\nPadma Vibhushan | Former Director General, CSIR, Government of India | Ex-officio invitee, Governing Council, Jio Institute\\n\\nSee Profile\\n\\nMr. Akash Ambani\\n\\nChairman, Reliance Jio Infocomm Ltd | Director, Reliance Retail Ventures Ltd. See Profile\\n\\nVICE-CHANCELLOR\\nDr. Dipak Jain\\n\\nFormer Dean, Kellogg School of Management, USA | Former Dean, INSEAD, France | Ex-officio invitee, Governing Council, Jio Institute\\n\\nSee Profile\\n\\nMs. Isha Ambani\\n\\nMember of Executive Leadership teams, Reliance Retail, Reliance Jio, Reliance Foundation, and Dhirubhai Ambani International School\\n\\nSee Profile\\n\\nDr. Pradeep Khosla\\n\\nChancellor, University of California, San Diego, USA\\n\\nSee Profile\\n\\nMr. Anant Ambani\\n\\nDirector, Jio Platforms Limited and Reliance Retail Ventures Ltd. See Profile\\n\\nDr. Bimal Patel\\n\\nPresident, CEPT University | Managing Director, HCP Design, Planning and Management Pvt. Ltd. See Profile\\n\\nMr. Vikram Mehta\\n\\nFormer Executive Chairman, Brookings India | Former CEO, Shell India\\n\\nSee Profile\\n\\nMr. Jalaj Dani\\n\\nChairman of the Board of Governors, IIM Trichy | Co-Promoter, Asian Paints\\n\\nSee Profile\\n\\nMr.'),\n",
       " Document(id='7e67e18d-bee4-4dab-ad6d-87d6f7e8d87a', metadata={'source': 'https://www.jioinstitute.edu.in/about/'}, page_content='Raghunath Mashelkar\\n\\nPadma Vibhushan | Former Director General, CSIR, Government of India\\n\\nSee Profile\\n\\nVICE-CHANCELLOR\\nDr. Dipak Jain\\n\\nFormer Dean, Kellogg School of Management, USA | Former Dean, INSEAD, France\\n\\nSee Profile\\n\\nCampus Experience & Student Life\\nA vibrant campus replete with world-class facilities. Food & Dining\\n\\nAuditorium\\n\\nLibrary\\n\\nTech Enabled Classrooms\\n\\nState of the art labs\\n\\nSport & Fitness\\n\\nPrevious\\nNext\\n\\nExplore Campus Life'),\n",
       " Document(id='dbaff372-0c11-4abc-af8f-0f1e4b7861a2', metadata={'source': 'https://www.jioinstitute.edu.in/academics/artificial-intelligence-data-science'}, page_content='M Vidyasagar\\nFellow of The Royal Society, UK | National Science Chair, Science & Engineering Research Board (SERB), India | Distinguished Professor, Electrical Engineering, IIT Hyderabad, India\\n\\nSee Profile\\n\\nDr. Padmanabhan Anandan\\nFormer\\xa0CEO, Wadhwani Institute for Artificial Intelligence, India | Researcher Emeritus, Microsoft Research\\xa0India\\n\\nSee Prof')]"
      ]
     },
     "execution_count": 100,
     "metadata": {},
     "output_type": "execute_result"
    }
   ],
   "source": [
    "docs = retriever.invoke(question)\n",
    "docs"
   ]
  },
  {
   "cell_type": "code",
   "execution_count": 101,
   "id": "dfe0b6ba",
   "metadata": {},
   "outputs": [
    {
     "name": "stdout",
     "output_type": "stream",
     "text": [
      "PGP in Artificial Intelligence & Data Science\n",
      "\n",
      "This postgraduate programme has a comprehensive and rigorous curriculum that covers foundation and advanced courses to train future-ready full-stack data scientists and AI architects. Download Brochure\n",
      "\n",
      "Video\n",
      "\n",
      "Video\n",
      "\n",
      "Video\n",
      "\n",
      "Video\n",
      "\n",
      "Video\n",
      "\n",
      "Video\n",
      "\n",
      "Video\n",
      "\n",
      "Video\n",
      "\n",
      "Programme overviewIn this programme, students will embark on a journey that explores the fascinating realm of cutting-edge AI technologies that are reshaping industries, revolutionizing decision-making, and transforming the way we interact with data/information. Our comprehensive and rigorous curriculum covers courses from foundation to advanced levels. Key concepts and technologies include Machine Learning, Deep Learning, Fundamentals of AI, Natural Language Processing (NLP), Optimization, Bigdata Engineering, Data Visualisation, Responsible AI, Reinforcement Learning and Time Series Analysis. The various courses are taught by renowned research-oriented faculty and industry practitioners from India and from around the world. The programme aims to instil strong theoretical foundations as well as the know-how to create practical solutions for enterprises and society. Students learn to convert business problems and workflows into AI&DS products and solutions across multiple verticals/industries.\n",
      "----------------------------------------------------------------------------------------------------\n",
      "About Us\n",
      "\n",
      "Jio Institute is a multidisciplinary higher education institute set up as a philanthropic initiative by the Reliance Group. The Institute is dedicated to the pursuit of excellence by bringing together global scholars and thought leaders and providing an enriching student experience through world-class education, and a culture of research and innovation. Our Story\n",
      "Pursuit of excellence in academics, research and innovation. We stand at the confluence of the best higher education practices from India and the world. The institute aims to nurture students’ aspirations, and provide a platform to their entrepreneurial spirit. Read more\n",
      "\n",
      "Our Vision\n",
      "In sync with global aspirations. In step with changing times. We envisage to be a world-class higher education institute through our multi-disciplinary academic programmes, robust research endeavours and a culture of innovation and entrepreneurship. Read more\n",
      "\n",
      "Growth Plan\n",
      "Well thought out growth strategy. In the future, we envisage to cater to 10,000 students across multiple disciplines covering undergraduate, post graduate, doctoral, and post-doctoral programmes. Read more\n",
      "\n",
      "Founders\n",
      "Our founders’ legacy of transformative endeavors and their unwavering faith in the potential of India’s youth form the keystone of Jio Institute. Smt. Nita Ambani\n",
      "Founder Chairperson, Reliance Foundation Institution of Education and Research\n",
      "Know More\n",
      "\n",
      "Shri Mukesh Ambani\n",
      "Chairman and Managing Director, Reliance Industries Limited\n",
      "Know More\n",
      "\n",
      "Governing Council\n",
      "\n",
      "FOUNDER\n",
      "Smt. Nita Ambani\n",
      "\n",
      "Founder Chairperson, Reliance Foundation Institution of Education and Research\n",
      "\n",
      "See Profile\n",
      "\n",
      "Chancellor\n",
      "Dr. Raghunath Mashelkar\n",
      "\n",
      "Padma Vibhushan | Former Director General, CSIR, Government of India | Ex-officio invitee, Governing Council, Jio Institute\n",
      "\n",
      "See Profile\n",
      "\n",
      "Mr. Akash Ambani\n",
      "\n",
      "Chairman, Reliance Jio Infocomm Ltd | Director, Reliance Retail Ventures Ltd. See Profile\n",
      "\n",
      "VICE-CHANCELLOR\n",
      "Dr. Dipak Jain\n",
      "\n",
      "Former Dean, Kellogg School of Management, USA | Former Dean, INSEAD, France | Ex-officio invitee, Governing Council, Jio Institute\n",
      "\n",
      "See Profile\n",
      "\n",
      "Ms. Isha Ambani\n",
      "\n",
      "Member of Executive Leadership teams, Reliance Retail, Reliance Jio, Reliance Foundation, and Dhirubhai Ambani International School\n",
      "\n",
      "See Profile\n",
      "\n",
      "Dr. Pradeep Khosla\n",
      "\n",
      "Chancellor, University of California, San Diego, USA\n",
      "\n",
      "See Profile\n",
      "\n",
      "Mr. Anant Ambani\n",
      "\n",
      "Director, Jio Platforms Limited and Reliance Retail Ventures Ltd. See Profile\n",
      "\n",
      "Dr. Bimal Patel\n",
      "\n",
      "President, CEPT University | Managing Director, HCP Design, Planning and Management Pvt. Ltd. See Profile\n",
      "\n",
      "Mr. Vikram Mehta\n",
      "\n",
      "Former Executive Chairman, Brookings India | Former CEO, Shell India\n",
      "\n",
      "See Profile\n",
      "\n",
      "Mr. Jalaj Dani\n",
      "\n",
      "Chairman of the Board of Governors, IIM Trichy | Co-Promoter, Asian Paints\n",
      "\n",
      "See Profile\n",
      "\n",
      "Mr.\n",
      "----------------------------------------------------------------------------------------------------\n",
      "Raghunath Mashelkar\n",
      "\n",
      "Padma Vibhushan | Former Director General, CSIR, Government of India\n",
      "\n",
      "See Profile\n",
      "\n",
      "VICE-CHANCELLOR\n",
      "Dr. Dipak Jain\n",
      "\n",
      "Former Dean, Kellogg School of Management, USA | Former Dean, INSEAD, France\n",
      "\n",
      "See Profile\n",
      "\n",
      "Campus Experience & Student Life\n",
      "A vibrant campus replete with world-class facilities. Food & Dining\n",
      "\n",
      "Auditorium\n",
      "\n",
      "Library\n",
      "\n",
      "Tech Enabled Classrooms\n",
      "\n",
      "State of the art labs\n",
      "\n",
      "Sport & Fitness\n",
      "\n",
      "Previous\n",
      "Next\n",
      "\n",
      "Explore Campus Life\n",
      "----------------------------------------------------------------------------------------------------\n",
      "M Vidyasagar\n",
      "Fellow of The Royal Society, UK | National Science Chair, Science & Engineering Research Board (SERB), India | Distinguished Professor, Electrical Engineering, IIT Hyderabad, India\n",
      "\n",
      "See Profile\n",
      "\n",
      "Dr. Padmanabhan Anandan\n",
      "Former CEO, Wadhwani Institute for Artificial Intelligence, India | Researcher Emeritus, Microsoft Research India\n",
      "\n",
      "See Prof\n",
      "----------------------------------------------------------------------------------------------------\n"
     ]
    }
   ],
   "source": [
    "#Retrieval with MMR\n",
    "for doc in docs:\n",
    "    print(doc.page_content)\n",
    "    print(\"-\"*100)\n"
   ]
  },
  {
   "cell_type": "markdown",
   "id": "1a8e5f4b",
   "metadata": {
    "jp-MarkdownHeadingCollapsed": true
   },
   "source": [
    "#### Advanced Retrieval Based On Hybrid Search"
   ]
  },
  {
   "cell_type": "markdown",
   "id": "b898e89a",
   "metadata": {},
   "source": [
    "*Hybrid search* combines the benefits of both standard semantic similarity search offered by LangChain, as well as other search techniques (such as BM25, full-text and so on). We'll do **BM25+Semantic Search** in our example below and we'll make use of ChromaDB for a change."
   ]
  },
  {
   "cell_type": "code",
   "execution_count": 102,
   "id": "055c54a0",
   "metadata": {},
   "outputs": [],
   "source": [
    "from langchain.retrievers import BM25Retriever, EnsembleRetriever"
   ]
  },
  {
   "cell_type": "code",
   "execution_count": 103,
   "id": "1b7095bf",
   "metadata": {},
   "outputs": [],
   "source": [
    "#Initialize BM25 retriever\n",
    "bm25_retriever = BM25Retriever.from_documents(documents=all_splits_semantic)\n",
    "bm25_retriever.k = 3 # Set the number of top documents to retrieve"
   ]
  },
  {
   "cell_type": "code",
   "execution_count": 104,
   "id": "24bb6f31",
   "metadata": {},
   "outputs": [],
   "source": [
    "#Initialize ChromaDB as a retriever\n",
    "chroma_retriever = vector_store_chroma.as_retriever(search_kwargs={\"k\": 3})"
   ]
  },
  {
   "cell_type": "code",
   "execution_count": 105,
   "id": "7f16624f",
   "metadata": {},
   "outputs": [],
   "source": [
    "#Perform reciprocal rank fusion (RRF)\n",
    "ensemble_retriever = EnsembleRetriever(\n",
    "    retrievers=[bm25_retriever, chroma_retriever],\n",
    "    weights=[0.7, 0.3]\n",
    ")"
   ]
  },
  {
   "cell_type": "code",
   "execution_count": 106,
   "id": "7306d8da",
   "metadata": {},
   "outputs": [
    {
     "data": {
      "text/plain": [
       "[Document(metadata={'source': 'https://www.jioinstitute.edu.in/academics/artificial-intelligence-data-science'}, page_content='Enriched by exposure to real-life AI&DS applications through capstone projects and lectures from industry veterans, students are exposed to hands-on exercises, practical projects and quizzes to reinforce their learning. PGP in Artificial Intelligence & Data Science\\n\\nLeadership\\nFaculty\\nAdvisors\\nCurriculum\\nTools\\nHighlights\\nAdmissions\\nFAQ\\nBrochure\\n\\nPGP in Artificial Intelligence & Data Science\\n\\nChoose your purpose\\n\\nLeadership\\nFaculty\\nAdvisors\\nCurriculum\\nTools\\nHighlights\\nAdmissions\\nFAQ\\nBrochure\\n\\nProgramme Leadership\\n\\nDr. Larry Birnbaum\\n\\nProfessor, Computer Science, Northwestern University, USA\\n\\nSee Profile\\n\\nDr. Shailesh Kumar\\n\\nChief Data Scientist, Center of Excellence in AI/ML, Reliance Jio\\n\\nSee Profile\\n\\nFaculty\\n\\nAnant Agarwal\\nData Science Manager, Nissan Motor Corporation, India\\n\\nSee Profile\\n\\nAnmol Karnwal\\nApplied AI Scientist, Microsoft, India\\n\\nSee Profile\\n\\nDr. Arindam Banerjee\\nFounder Professor at the Department of Computer Science, University of Illinois Urbana-Champaign, USA\\n\\nSee Profile\\n\\nArpit Yadav\\nSenior Data Scientist-R&D, CCE Bangalore, India\\n\\nSee Profile\\n\\nDr. Chandra Sekhar Bhagavatula\\nSenior Research Scientist, Allen Institute for AI, USA\\n\\nSee Profile\\n\\nDr. Divyakant Agrawal\\nDistinguished Professor, University of California, Santa Barbara, USA\\n\\nSee Profile\\n\\nDr. Dwarikanath Mahapatra\\nSenior Research Scientist at the Inception Institute of Artificial Intelligence, Abu Dhabi, UAE\\n\\nSee Profile\\n\\nDr. Gaurav Aggarwal\\nVice President, Special Projects AI/ML, Reliance Jio, India\\n\\nSee Profile\\n\\nDr. Khyathi Chandu\\nResearch Scientist, Allen Institute of AI, USA\\n\\nSee Profile\\n\\nDr. Larry Birnbaum\\nProfessor, Computer Science, Northwestern University, USA\\n\\nSee Profile\\n\\nManaranjan Pradhan\\nFounder & Director, AwesomeStats Consulting Pvt Ltd, India | Adjunct Faculty for Indian Institute of Management, Bangalore and Indian School of Business, Hyderabad\\n\\nSee Profile\\n\\nDr. Niket Tandon\\nSenior Research Scientist, Allen Institute of AI, USA\\n\\nSee Profile\\n\\nRishabh Sharma\\nPrincipal Software Engineer and Founder, MindsOnAI Technologies (OPC), India\\n\\nSee Profile\\n\\nDr. Shailesh Kumar\\nChief Data Scientist, Center of Excellence in AI/ML, Reliance Jio\\n\\nSee Profile\\n\\nSray Agarwal\\nPrincipal Consultant, Fractal AI, UK\\n\\nSee Profile\\n\\nDr. Sudipta Roy\\nAssociate Professor, Artificial Intelligence & Data Science, Jio Institute, India\\n\\nSee Profile\\n\\nDr. Varun Aggarwala\\nAssistant Professor, Jio Institute\\n\\nSee Profile\\n\\nDr. Vidya Setlur\\nSenior Director, Tableau Research, Tableau, USA\\n\\nSee Profile\\n\\nDr. Vishal Lala\\nProfessor of Marketing, Lubin School of Business, PACE University, USA\\n\\nSee Profile\\n\\nDr. Vishnuprasad Nagadevara\\nFormer Professor and Dean, Indian Institute of Management Bangalore, India\\n\\nSee Profile\\n\\nProgramme Advisory Council\\n\\nDr. Dan Roth\\nEduardo D. Glandt Distinguished Professor, University of Pennsylvania, USA\\n\\nSee Profile\\n\\nDr. Joydeep Ghosh\\nSchlumberger Centennial Chair Professor of Electrical and Computer Engineering, University of Texas at Austin, USA\\n\\nSee Profile\\n\\nDr. Maneesh Agarwala\\nForest Baskett Professor of Computer Science | Director of the Brown Institute for Media Innovation, Stanford University, USA\\n\\nSee Profile\\n\\nDr. Michael Franklin\\nLiew\\xa0Family Chairman of Computer Science, Senior Advisor to the Provost for Computing and Data Science, The University of Chicago, USA\\n\\nSee Profile\\n\\nDr.'),\n",
       " Document(metadata={'source': 'https://www.jioinstitute.edu.in/academics/artificial-intelligence-data-science'}, page_content='PGP in Artificial Intelligence & Data Science\\n\\nThis postgraduate programme has a comprehensive and rigorous curriculum that covers foundation and advanced courses to train future-ready full-stack data scientists and AI architects. Download Brochure\\n\\nVideo\\n\\nVideo\\n\\nVideo\\n\\nVideo\\n\\nVideo\\n\\nVideo\\n\\nVideo\\n\\nVideo\\n\\nProgramme overviewIn this programme, students will embark on a journey that explores the fascinating realm of cutting-edge AI technologies that are reshaping industries, revolutionizing decision-making, and transforming the way we interact with data/information. Our comprehensive and rigorous curriculum covers courses from foundation to advanced levels. Key concepts and technologies include Machine Learning, Deep Learning, Fundamentals of AI, Natural Language Processing (NLP), Optimization, Bigdata Engineering, Data Visualisation, Responsible AI, Reinforcement Learning and Time Series Analysis. The various courses are taught by renowned research-oriented faculty and industry practitioners from India and from around the world. The programme aims to instil strong theoretical foundations as well as the know-how to create practical solutions for enterprises and society. Students learn to convert business problems and workflows into AI&DS products and solutions across multiple verticals/industries.'),\n",
       " Document(metadata={'source': 'https://www.jioinstitute.edu.in/about/'}, page_content='R. Venkataramanan\\n\\nFormer Managing Trustee, Tata Trusts\\n\\nSee Profile\\n\\nJio Institute Leadership\\nFrom reputed academicians and researchers around the world to Indian stalwarts across the spectrum – Jio Institute’s distinguished leadership is committed to guiding the Institute from strength to strength. Chancellor\\nDr.')]"
      ]
     },
     "execution_count": 106,
     "metadata": {},
     "output_type": "execute_result"
    }
   ],
   "source": [
    "#Perform hybrid search\n",
    "docs = ensemble_retriever.invoke(question)\n",
    "docs"
   ]
  },
  {
   "cell_type": "markdown",
   "id": "1523948a",
   "metadata": {},
   "source": [
    "### Generation"
   ]
  },
  {
   "cell_type": "markdown",
   "id": "2105f394",
   "metadata": {},
   "source": [
    "**We'll use the advanced retrieval based on hybrid search, for our generation.**"
   ]
  },
  {
   "cell_type": "code",
   "execution_count": 107,
   "id": "b6a7889c",
   "metadata": {},
   "outputs": [
    {
     "data": {
      "text/plain": [
       "'What is the PGP AI & DS at Jio Institute all about?'"
      ]
     },
     "execution_count": 107,
     "metadata": {},
     "output_type": "execute_result"
    }
   ],
   "source": [
    "#For reference\n",
    "question"
   ]
  },
  {
   "cell_type": "code",
   "execution_count": 110,
   "id": "9fe70fc0",
   "metadata": {},
   "outputs": [
    {
     "data": {
      "text/plain": [
       "\"IIM Calcutta's PGDBA program seems to be affiliated with Jio Institute, is that true?\""
      ]
     },
     "execution_count": 110,
     "metadata": {},
     "output_type": "execute_result"
    }
   ],
   "source": [
    "#For reference\n",
    "question_out_of_context"
   ]
  },
  {
   "cell_type": "markdown",
   "id": "eb5cd945",
   "metadata": {},
   "source": [
    "#### Select the Chat Model"
   ]
  },
  {
   "cell_type": "markdown",
   "id": "57baa176",
   "metadata": {},
   "source": [
    "Conceptual Reference - [Chat models](https://python.langchain.com/docs/concepts/chat_models/)"
   ]
  },
  {
   "cell_type": "code",
   "execution_count": 111,
   "id": "a8995b34",
   "metadata": {},
   "outputs": [],
   "source": [
    "from langchain.chat_models import init_chat_model\n",
    "\n",
    "model_name = \"llama-3.1-8b-instant\"\n",
    "llm = init_chat_model(model_name, model_provider=\"groq\") #Other Llama alternatives available are llama3-8b-8192, llama-3.3-70b-versatile"
   ]
  },
  {
   "cell_type": "markdown",
   "id": "84ec06e2",
   "metadata": {},
   "source": [
    "**Question - Can we choose an embedding model that has a different dimension than the chat (generation) model used for RAG?**"
   ]
  },
  {
   "cell_type": "markdown",
   "id": "7f3e30ca",
   "metadata": {
    "jp-MarkdownHeadingCollapsed": true
   },
   "source": [
    "#### Create custom Chat Prompt Template"
   ]
  },
  {
   "cell_type": "code",
   "execution_count": 112,
   "id": "2431c60b",
   "metadata": {},
   "outputs": [
    {
     "data": {
      "text/plain": [
       "ChatPromptTemplate(input_variables=['context', 'question'], input_types={}, partial_variables={}, messages=[HumanMessagePromptTemplate(prompt=PromptTemplate(input_variables=['context', 'question'], input_types={}, partial_variables={}, template='You are given the following information for reference:\\n{context}\\n\\nAnswer the following question:\\nQuestion: {question}\\n'), additional_kwargs={})])"
      ]
     },
     "execution_count": 112,
     "metadata": {},
     "output_type": "execute_result"
    }
   ],
   "source": [
    "from langchain.prompts import ChatPromptTemplate\n",
    "\n",
    "# Prompt\n",
    "template = \"\"\"You are given the following information for reference:\n",
    "{context}\n",
    "\n",
    "Answer the following question:\n",
    "Question: {question}\n",
    "\"\"\"\n",
    "\n",
    "prompt = ChatPromptTemplate.from_template(template)\n",
    "prompt"
   ]
  },
  {
   "cell_type": "code",
   "execution_count": 113,
   "id": "297a12ce",
   "metadata": {},
   "outputs": [],
   "source": [
    "chain = prompt | llm"
   ]
  },
  {
   "cell_type": "code",
   "execution_count": 354,
   "id": "787ddbaa",
   "metadata": {},
   "outputs": [
    {
     "data": {
      "text/markdown": [
       "The PGP AI & DS (Artificial Intelligence & Data Science) at Jio Institute is a postgraduate programme that aims to train future-ready full-stack data scientists and AI architects. The comprehensive and rigorous curriculum covers courses from foundation to advanced levels, including Machine Learning, Deep Learning, Fundamentals of AI, Natural Language Processing (NLP), Optimization, Big data Engineering, Data Visualisation, Responsible AI, Reinforcement Learning, and Time Series Analysis.\n",
       "\n",
       "The programme is designed to instil strong theoretical foundations as well as the know-how to create practical solutions for enterprises and society. Students learn to convert business problems and workflows into AI&DS products and solutions across multiple verticals/industries. The programme is taught by renowned research-oriented faculty and industry practitioners from India and around the world, and is enriched by exposure to real-life AI&DS applications through capstone projects and lectures from industry veterans.\n",
       "\n",
       "Some of the key features of the programme include:\n",
       "\n",
       "* Hands-on exercises, practical projects, and quizzes to reinforce learning\n",
       "* Exposure to real-life AI&DS applications through capstone projects and lectures from industry veterans\n",
       "* Comprehensive and rigorous curriculum covering foundation and advanced courses\n",
       "* Faculty and industry practitioners from India and around the world\n",
       "* Opportunities for practical solutions and entrepreneurship\n",
       "\n",
       "The programme aims to produce graduates who are equipped with the skills and knowledge to create innovative solutions in AI and Data Science, and are prepared to take on leadership roles in industry, academia, and research."
      ],
      "text/plain": [
       "<IPython.core.display.Markdown object>"
      ]
     },
     "metadata": {},
     "output_type": "display_data"
    }
   ],
   "source": [
    "response = chain.invoke({\"context\":docs,\"question\":question})\n",
    "display(Markdown(response.content))"
   ]
  },
  {
   "cell_type": "code",
   "execution_count": 365,
   "id": "90447bb3",
   "metadata": {},
   "outputs": [
    {
     "data": {
      "text/markdown": [
       "There is no information in the provided data that suggests Jio Institute has any affiliation with IIM Calcutta's PGDBA program."
      ],
      "text/plain": [
       "<IPython.core.display.Markdown object>"
      ]
     },
     "metadata": {},
     "output_type": "display_data"
    }
   ],
   "source": [
    "response = chain.invoke({\"context\":docs,\"question\":question_out_of_context})\n",
    "display(Markdown(response.content))"
   ]
  },
  {
   "cell_type": "markdown",
   "id": "0e6aca50",
   "metadata": {
    "jp-MarkdownHeadingCollapsed": true
   },
   "source": [
    "#### Pull Chat Prompt Template from the Hub"
   ]
  },
  {
   "cell_type": "code",
   "execution_count": 114,
   "id": "85a6dc7b",
   "metadata": {},
   "outputs": [
    {
     "data": {
      "text/plain": [
       "ChatPromptTemplate(input_variables=['context', 'question'], input_types={}, partial_variables={}, metadata={'lc_hub_owner': 'rlm', 'lc_hub_repo': 'rag-prompt', 'lc_hub_commit_hash': '50442af133e61576e74536c6556cefe1fac147cad032f4377b60c436e6cdcb6e'}, messages=[HumanMessagePromptTemplate(prompt=PromptTemplate(input_variables=['context', 'question'], input_types={}, partial_variables={}, template=\"You are an assistant for question-answering tasks. Use the following pieces of retrieved context to answer the question. If you don't know the answer, just say that you don't know. Use three sentences maximum and keep the answer concise.\\nQuestion: {question} \\nContext: {context} \\nAnswer:\"), additional_kwargs={})])"
      ]
     },
     "execution_count": 114,
     "metadata": {},
     "output_type": "execute_result"
    }
   ],
   "source": [
    "from langchain import hub\n",
    "prompt_hub_rag = hub.pull(\"rlm/rag-prompt\")\n",
    "prompt_hub_rag"
   ]
  },
  {
   "cell_type": "markdown",
   "id": "8b5745a1",
   "metadata": {},
   "source": [
    "**Notice the prompt! This is how a good prompt should look like.** It explicity states to say *I don't know* if context is missing, which is a best practice."
   ]
  },
  {
   "cell_type": "code",
   "execution_count": 367,
   "id": "49508d21",
   "metadata": {},
   "outputs": [],
   "source": [
    "chain = prompt_hub_rag | llm"
   ]
  },
  {
   "cell_type": "code",
   "execution_count": 115,
   "id": "cb251f7c",
   "metadata": {},
   "outputs": [
    {
     "data": {
      "text/markdown": [
       "According to the provided information, the PGP in Artificial Intelligence & Data Science (AI & DS) at Jio Institute is a comprehensive and rigorous postgraduate programme that aims to train future-ready full-stack data scientists and AI architects. The programme has a curriculum that covers foundation and advanced courses, including key concepts and technologies such as:\n",
       "\n",
       "1. Machine Learning\n",
       "2. Deep Learning\n",
       "3. Fundamentals of AI\n",
       "4. Natural Language Processing (NLP)\n",
       "5. Optimization\n",
       "6. Big Data Engineering\n",
       "7. Data Visualization\n",
       "8. Responsible AI\n",
       "9. Reinforcement Learning\n",
       "10. Time Series Analysis\n",
       "\n",
       "The programme is designed to provide strong theoretical foundations as well as the practical know-how to create solutions for enterprises and society. Students will learn to convert business problems and workflows into AI & DS products and solutions across multiple verticals/industries. The programme is taught by renowned research-oriented faculty and industry practitioners from India and around the world."
      ],
      "text/plain": [
       "<IPython.core.display.Markdown object>"
      ]
     },
     "metadata": {},
     "output_type": "display_data"
    }
   ],
   "source": [
    "response = chain.invoke({\"context\":docs,\"question\":question})\n",
    "display(Markdown(response.content))"
   ]
  },
  {
   "cell_type": "code",
   "execution_count": 116,
   "id": "d198386a",
   "metadata": {},
   "outputs": [
    {
     "data": {
      "text/markdown": [
       "There is no information provided in the given documents about IIM Calcutta's PGDBA program being affiliated with Jio Institute. In fact, the provided documents do not mention IIM Calcutta at all."
      ],
      "text/plain": [
       "<IPython.core.display.Markdown object>"
      ]
     },
     "metadata": {},
     "output_type": "display_data"
    }
   ],
   "source": [
    "response = chain.invoke({\"context\":docs,\"question\":question_out_of_context})\n",
    "display(Markdown(response.content))"
   ]
  },
  {
   "cell_type": "markdown",
   "id": "649bb761",
   "metadata": {
    "jp-MarkdownHeadingCollapsed": true
   },
   "source": [
    "#### Pull Chat Prompt Template from the Hub (and use LCEL!) - Recommended"
   ]
  },
  {
   "cell_type": "markdown",
   "id": "714b523e",
   "metadata": {},
   "source": [
    "Reference - [RAG chains](https://python.langchain.com/docs/how_to/sequence/)"
   ]
  },
  {
   "cell_type": "code",
   "execution_count": 117,
   "id": "53cb1059",
   "metadata": {},
   "outputs": [
    {
     "name": "stdout",
     "output_type": "stream",
     "text": [
      "The PGP in Artificial Intelligence & Data Science (AI & DS) at Jio Institute is a comprehensive and rigorous postgraduate programme that aims to train future-ready full-stack data scientists and AI architects. The programme covers foundation and advanced courses to equip students with strong theoretical foundations as well as the practical skills to create solutions for enterprises and society.\n",
      "\n",
      "Key concepts and technologies covered in the programme include:\n",
      "\n",
      "1. Machine Learning\n",
      "2. Deep Learning\n",
      "3. Fundamentals of AI\n",
      "4. Natural Language Processing (NLP)\n",
      "5. Optimization\n",
      "6. Big Data Engineering\n",
      "7. Data Visualization\n",
      "8. Responsible AI\n",
      "9. Reinforcement Learning\n",
      "10. Time Series Analysis\n",
      "\n",
      "The programme is taught by renowned research-oriented faculty and industry practitioners from India and around the world. The curriculum is designed to help students convert business problems and workflows into AI & DS products and solutions across multiple verticals and industries.\n",
      "\n",
      "The programme aims to instil in students the ability to:\n",
      "\n",
      "1. Create practical solutions for enterprises and society\n",
      "2. Convert business problems and workflows into AI & DS products and solutions\n",
      "3. Develop strong theoretical foundations in AI & DS\n",
      "4. Work with cutting-edge AI technologies\n",
      "5. Apply AI & DS concepts to real-world problems\n",
      "\n",
      "Overall, the PGP in AI & DS at Jio Institute is designed to equip students with the skills and knowledge needed to succeed in the rapidly evolving field of AI & DS.\n"
     ]
    }
   ],
   "source": [
    "# USE LCEL! (Recommended)\n",
    "from langchain_core.output_parsers import StrOutputParser\n",
    "from langchain_core.runnables import RunnablePassthrough\n",
    "\n",
    "rag_chain = (\n",
    "    {\"context\": ensemble_retriever, \"question\": RunnablePassthrough()}\n",
    "    | prompt\n",
    "    | llm\n",
    "    | StrOutputParser()\n",
    ")\n",
    "\n",
    "response = rag_chain.invoke(question)\n",
    "print(response)"
   ]
  },
  {
   "cell_type": "code",
   "execution_count": 118,
   "id": "8a84b2ac",
   "metadata": {},
   "outputs": [
    {
     "data": {
      "text/plain": [
       "langchain_core.runnables.base.RunnableSequence"
      ]
     },
     "execution_count": 118,
     "metadata": {},
     "output_type": "execute_result"
    }
   ],
   "source": [
    "#What is the type?\n",
    "type(rag_chain)"
   ]
  },
  {
   "cell_type": "code",
   "execution_count": null,
   "id": "58bfc10c",
   "metadata": {},
   "outputs": [],
   "source": []
  }
 ],
 "metadata": {
  "kernelspec": {
   "display_name": "Python 3 (ipykernel)",
   "language": "python",
   "name": "python3"
  },
  "language_info": {
   "codemirror_mode": {
    "name": "ipython",
    "version": 3
   },
   "file_extension": ".py",
   "mimetype": "text/x-python",
   "name": "python",
   "nbconvert_exporter": "python",
   "pygments_lexer": "ipython3",
   "version": "3.13.5"
  },
  "varInspector": {
   "cols": {
    "lenName": 16,
    "lenType": 16,
    "lenVar": 40
   },
   "kernels_config": {
    "python": {
     "delete_cmd_postfix": "",
     "delete_cmd_prefix": "del ",
     "library": "var_list.py",
     "varRefreshCmd": "print(var_dic_list())"
    },
    "r": {
     "delete_cmd_postfix": ") ",
     "delete_cmd_prefix": "rm(",
     "library": "var_list.r",
     "varRefreshCmd": "cat(var_dic_list()) "
    }
   },
   "types_to_exclude": [
    "module",
    "function",
    "builtin_function_or_method",
    "instance",
    "_Feature"
   ],
   "window_display": false
  }
 },
 "nbformat": 4,
 "nbformat_minor": 5
}
