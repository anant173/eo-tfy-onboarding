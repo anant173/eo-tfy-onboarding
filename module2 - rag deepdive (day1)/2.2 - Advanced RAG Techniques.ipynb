{
 "cells": [
  {
   "cell_type": "markdown",
   "id": "8534fad7",
   "metadata": {},
   "source": [
    "# Advanced Retrieval Augmented Generation with LangChain"
   ]
  },
  {
   "cell_type": "markdown",
   "id": "7af284c2",
   "metadata": {},
   "source": [
    "## Initial Setup"
   ]
  },
  {
   "cell_type": "code",
   "execution_count": 76,
   "id": "efea333d",
   "metadata": {},
   "outputs": [],
   "source": [
    "# !uv pip install sentence-transformers"
   ]
  },
  {
   "cell_type": "code",
   "execution_count": 77,
   "id": "d7fc80fe",
   "metadata": {},
   "outputs": [],
   "source": [
    "import os, json, re, getpass, warnings\n",
    "import numpy as np\n",
    "from dotenv import load_dotenv\n",
    "from uuid import uuid4\n",
    "from IPython.display import display, Markdown"
   ]
  },
  {
   "cell_type": "code",
   "execution_count": 78,
   "id": "27dc7c7a",
   "metadata": {},
   "outputs": [
    {
     "data": {
      "text/plain": [
       "True"
      ]
     },
     "execution_count": 78,
     "metadata": {},
     "output_type": "execute_result"
    }
   ],
   "source": [
    "warnings.filterwarnings('ignore')\n",
    "load_dotenv(override=True)"
   ]
  },
  {
   "cell_type": "code",
   "execution_count": 79,
   "id": "38ad899a",
   "metadata": {},
   "outputs": [],
   "source": [
    "#Check for Groq API Key\n",
    "if \"GROQ_API_KEY\" not in os.environ:\n",
    "    os.environ[\"GROQ_API_KEY\"] = getpass.getpass(\"GROQ API Key: \")"
   ]
  },
  {
   "cell_type": "code",
   "execution_count": 80,
   "id": "2fbf0efd",
   "metadata": {},
   "outputs": [],
   "source": [
    "#Set Hugging Face token (as we will be using some of Hugging Face's functionalities\n",
    "from huggingface_hub.hf_api import HfFolder\n",
    "HfFolder.save_token(os.environ[\"HF_TOKEN\"])"
   ]
  },
  {
   "cell_type": "markdown",
   "id": "27d96f6d",
   "metadata": {},
   "source": [
    "## Defining Components"
   ]
  },
  {
   "cell_type": "code",
   "execution_count": 81,
   "id": "8ae83c65",
   "metadata": {},
   "outputs": [],
   "source": [
    "# Question\n",
    "question = \"What is the PGP AI & DS at Jio Institute all about?\""
   ]
  },
  {
   "cell_type": "markdown",
   "id": "3a708729",
   "metadata": {},
   "source": [
    "### Chat Model"
   ]
  },
  {
   "cell_type": "code",
   "execution_count": 82,
   "id": "3371ce46",
   "metadata": {},
   "outputs": [],
   "source": [
    "from langchain.chat_models import init_chat_model\n",
    "\n",
    "model_name = \"llama-3.1-8b-instant\"\n",
    "llm = init_chat_model(model_name, model_provider=\"groq\") #Other Llama alternatives available are llama3-8b-8192, llama-3.3-70b-versatile"
   ]
  },
  {
   "cell_type": "markdown",
   "id": "56a333d5",
   "metadata": {
    "jp-MarkdownHeadingCollapsed": true
   },
   "source": [
    "### Embedding Model"
   ]
  },
  {
   "cell_type": "code",
   "execution_count": 39,
   "id": "a7fc938a",
   "metadata": {
    "scrolled": true
   },
   "outputs": [
    {
     "name": "stdout",
     "output_type": "stream",
     "text": [
      "\u001b[?2026h\u001b[?25l\u001b[1Gpulling manifest ⠋ \u001b[K\u001b[?25h\u001b[?2026l\u001b[?2026h\u001b[?25l\u001b[1Gpulling manifest ⠙ \u001b[K\u001b[?25h\u001b[?2026l\u001b[?2026h\u001b[?25l\u001b[1Gpulling manifest ⠹ \u001b[K\u001b[?25h\u001b[?2026l\u001b[?2026h\u001b[?25l\u001b[1Gpulling manifest ⠸ \u001b[K\u001b[?25h\u001b[?2026l\u001b[?2026h\u001b[?25l\u001b[1Gpulling manifest ⠼ \u001b[K\u001b[?25h\u001b[?2026l\u001b[?2026h\u001b[?25l\u001b[1Gpulling manifest ⠴ \u001b[K\u001b[?25h\u001b[?2026l\u001b[?2026h\u001b[?25l\u001b[1Gpulling manifest ⠦ \u001b[K\u001b[?25h\u001b[?2026l\u001b[?2026h\u001b[?25l\u001b[1Gpulling manifest ⠧ \u001b[K\u001b[?25h\u001b[?2026l\u001b[?2026h\u001b[?25l\u001b[1Gpulling manifest ⠇ \u001b[K\u001b[?25h\u001b[?2026l\u001b[?2026h\u001b[?25l\u001b[1Gpulling manifest ⠏ \u001b[K\u001b[?25h\u001b[?2026l\u001b[?2026h\u001b[?25l\u001b[1Gpulling manifest ⠋ \u001b[K\u001b[?25h\u001b[?2026l\u001b[?2026h\u001b[?25l\u001b[1Gpulling manifest ⠙ \u001b[K\u001b[?25h\u001b[?2026l\u001b[?2026h\u001b[?25l\u001b[1Gpulling manifest \u001b[K\n",
      "pulling 667b0c1932bc: 100% ▕██████████████████▏ 4.9 GB                         \u001b[K\n",
      "pulling 948af2743fc7: 100% ▕██████████████████▏ 1.5 KB                         \u001b[K\n",
      "pulling 0ba8f0e314b4: 100% ▕██████████████████▏  12 KB                         \u001b[K\n",
      "pulling 56bb8bd477a5: 100% ▕██████████████████▏   96 B                         \u001b[K\n",
      "pulling 455f34728c9b: 100% ▕██████████████████▏  487 B                         \u001b[K\n",
      "verifying sha256 digest \u001b[K\n",
      "writing manifest \u001b[K\n",
      "success \u001b[K\u001b[?25h\u001b[?2026l\n"
     ]
    }
   ],
   "source": [
    "!ollama pull llama3.1:8b"
   ]
  },
  {
   "cell_type": "code",
   "execution_count": 40,
   "id": "c7b91c3f",
   "metadata": {},
   "outputs": [],
   "source": [
    "from langchain_ollama import OllamaEmbeddings\n",
    "\n",
    "embeddings_model = OllamaEmbeddings(model=\"llama3.1:8b\")"
   ]
  },
  {
   "cell_type": "markdown",
   "id": "9434b6e6",
   "metadata": {
    "jp-MarkdownHeadingCollapsed": true
   },
   "source": [
    "### Vector Store"
   ]
  },
  {
   "cell_type": "code",
   "execution_count": 41,
   "id": "bced664c",
   "metadata": {},
   "outputs": [],
   "source": [
    "#Import library\n",
    "from langchain_chroma import Chroma"
   ]
  },
  {
   "cell_type": "code",
   "execution_count": 42,
   "id": "1a1fa070",
   "metadata": {},
   "outputs": [],
   "source": [
    "#Create a vector store\n",
    "vector_store_chroma = Chroma(\n",
    "    collection_name=\"session-4\",\n",
    "    embedding_function=embeddings_model,\n",
    "    persist_directory=\"./chroma_langchain_db\",  # Where to save data locally, remove if not necessary\n",
    ")"
   ]
  },
  {
   "cell_type": "markdown",
   "id": "2ba474b6",
   "metadata": {
    "jp-MarkdownHeadingCollapsed": true
   },
   "source": [
    "## Indexing"
   ]
  },
  {
   "cell_type": "markdown",
   "id": "f68ad623",
   "metadata": {
    "jp-MarkdownHeadingCollapsed": true
   },
   "source": [
    "### Loading Documents"
   ]
  },
  {
   "cell_type": "code",
   "execution_count": 43,
   "id": "f14ba019",
   "metadata": {},
   "outputs": [],
   "source": [
    "import bs4 #import Beautiful Soup\n",
    "from langchain_community.document_loaders import WebBaseLoader"
   ]
  },
  {
   "cell_type": "code",
   "execution_count": 44,
   "id": "bc57b7f6",
   "metadata": {
    "scrolled": true
   },
   "outputs": [
    {
     "name": "stdout",
     "output_type": "stream",
     "text": [
      "Total characters: 4210\n"
     ]
    }
   ],
   "source": [
    "# Only keep the main content from the full HTML\n",
    "bs4_strainer = bs4.SoupStrainer(class_=(\"node__content clearfix\", \"col-md-9 pl-lg-5\"))\n",
    "loader = WebBaseLoader(\n",
    "    web_paths=(\"https://www.jioinstitute.edu.in/about/\",\n",
    "    \"https://www.jioinstitute.edu.in/academics/artificial-intelligence-data-science\"),\n",
    "    bs_kwargs={\"parse_only\": bs4_strainer},\n",
    ")\n",
    "docs = loader.load()\n",
    "\n",
    "assert len(docs) == 2\n",
    "\n",
    "print(f\"Total characters: {len(docs[0].page_content)}\")"
   ]
  },
  {
   "cell_type": "code",
   "execution_count": 45,
   "id": "13e0a8f0",
   "metadata": {},
   "outputs": [],
   "source": [
    "# --- Post-processing to clean up excessive newlines and whitespace ---\n",
    "for i, doc in enumerate(docs):\n",
    "    if doc.page_content:\n",
    "        # 1. Replace multiple newlines with a single newline\n",
    "        cleaned_content = re.sub(r'\\n\\s*\\n', '\\n\\n', doc.page_content)\n",
    "        # 2. Replace multiple spaces with a single space\n",
    "        cleaned_content = re.sub(r' {2,}', ' ', cleaned_content)\n",
    "        # 3. Strip leading/trailing whitespace from each line\n",
    "        cleaned_content = '\\n'.join([line.strip() for line in cleaned_content.split('\\n')])\n",
    "        # 4. Remove leading/trailing whitespace from the whole string\n",
    "        cleaned_content = cleaned_content.strip()\n",
    "    \n",
    "        docs[i].page_content = cleaned_content\n",
    "# --- End of post-processing ---"
   ]
  },
  {
   "cell_type": "code",
   "execution_count": 46,
   "id": "67fba12a",
   "metadata": {},
   "outputs": [
    {
     "name": "stdout",
     "output_type": "stream",
     "text": [
      "Total characters: 3548\n",
      "\n",
      "--- Cleaned Content Snippet ---\n",
      "About Us\n",
      "\n",
      "Jio Institute is a multidisciplinary higher education institute set up as a philanthropic initiative by the Reliance Group. The Institute is dedicated to the pursuit of excellence by bringing together global scholars and thought leaders and providing an enriching student experience through world-class education, and a culture of research and innovation.\n",
      "\n",
      "Our Story\n",
      "Pursuit of excellence in academics, research and innovation.\n",
      "We stand at the confluence of the best higher education practices from India and the world. The institute aims to nurture students’ aspirations, and provide a platform to their entrepreneurial spirit.\n",
      "\n",
      "Read more\n",
      "\n",
      "Our Vision\n",
      "In sync with global aspirations. In step with changing times.\n",
      "We envisage to be a world-class higher education institute through our multi-disciplinary academic programmes, robust research endeavours and a culture of innovation and entrepreneurship.\n",
      "\n",
      "Read more\n",
      "\n",
      "Growth Plan\n",
      "Well thought out growth strategy.\n",
      "In the future, we envisage to \n"
     ]
    }
   ],
   "source": [
    "print(f\"Total characters: {len(docs[0].page_content)}\")\n",
    "print(\"\\n--- Cleaned Content Snippet ---\")\n",
    "print(docs[0].page_content[:1000]) # Print a snippet to verify"
   ]
  },
  {
   "cell_type": "markdown",
   "id": "2bce8a9f",
   "metadata": {
    "jp-MarkdownHeadingCollapsed": true
   },
   "source": [
    "### Splitting Documents"
   ]
  },
  {
   "cell_type": "code",
   "execution_count": 47,
   "id": "a951515b",
   "metadata": {},
   "outputs": [
    {
     "name": "stdout",
     "output_type": "stream",
     "text": [
      "Split blog post into 62 sub-documents.\n"
     ]
    }
   ],
   "source": [
    "from langchain_text_splitters import RecursiveCharacterTextSplitter\n",
    "\n",
    "text_splitter = RecursiveCharacterTextSplitter(\n",
    "    chunk_size=1000,  # chunk size (characters)\n",
    "    chunk_overlap=200,  # chunk overlap (characters)\n",
    "    add_start_index=True,  # track index in original document\n",
    ")\n",
    "all_splits = text_splitter.split_documents(docs)\n",
    "\n",
    "print(f\"Split blog post into {len(all_splits)} sub-documents.\")"
   ]
  },
  {
   "cell_type": "code",
   "execution_count": 48,
   "id": "badf635b",
   "metadata": {
    "scrolled": true
   },
   "outputs": [
    {
     "name": "stdout",
     "output_type": "stream",
     "text": [
      "\n",
      "--- Split0 ---\n",
      "\n",
      "About Us\n",
      "\n",
      "Jio Institute is a multidisciplinary higher education institute set up as a philanthropic initiative by the Reliance Group. The Institute is dedicated to the pursuit of excellence by bringing together global scholars and thought leaders and providing an enriching student experience through world-class education, and a culture of research and innovation.\n",
      "\n",
      "Our Story\n",
      "Pursuit of excellence in academics, research and innovation.\n",
      "We stand at the confluence of the best higher education practices from India and the world. The institute aims to nurture students’ aspirations, and provide a platform to their entrepreneurial spirit.\n",
      "\n",
      "Read more\n",
      "\n",
      "Our Vision\n",
      "In sync with global aspirations. In step with changing times.\n",
      "We envisage to be a world-class higher education institute through our multi-disciplinary academic programmes, robust research endeavours and a culture of innovation and entrepreneurship.\n",
      "\n",
      "Read more\n",
      "\n",
      "--- Split1 ---\n",
      "\n",
      "Read more\n",
      "\n",
      "Growth Plan\n",
      "Well thought out growth strategy.\n",
      "In the future, we envisage to cater to 10,000 students across multiple disciplines covering undergraduate, post graduate, doctoral, and post-doctoral programmes.\n",
      "\n",
      "Read more\n",
      "\n",
      "Founders\n",
      "Our founders’ legacy of transformative endeavors and their unwavering faith in the potential of India’s youth form the keystone of Jio Institute.\n",
      "\n",
      "Smt. Nita Ambani\n",
      "Founder Chairperson, Reliance Foundation Institution of Education and Research\n",
      "Know More\n",
      "\n",
      "Shri Mukesh Ambani\n",
      "Chairman and Managing Director, Reliance Industries Limited\n",
      "Know More\n",
      "\n",
      "Governing Council\n",
      "\n",
      "FOUNDER\n",
      "Smt. Nita Ambani\n",
      "\n",
      "Founder Chairperson, Reliance Foundation Institution of Education and Research\n",
      "\n",
      "See Profile\n",
      "\n",
      "Chancellor\n",
      "Dr. Raghunath Mashelkar\n",
      "\n",
      "Padma Vibhushan | Former Director General, CSIR, Government of India | Ex-officio invitee, Governing Council, Jio Institute\n",
      "\n",
      "See Profile\n",
      "\n",
      "Mr. Akash Ambani\n",
      "\n",
      "Chairman, Reliance Jio Infocomm Ltd | Director, Reliance Retail Ventures Ltd.\n",
      "\n",
      "--- Split2 ---\n",
      "\n",
      "See Profile\n",
      "\n",
      "Mr. Akash Ambani\n",
      "\n",
      "Chairman, Reliance Jio Infocomm Ltd | Director, Reliance Retail Ventures Ltd.\n",
      "\n",
      "See Profile\n",
      "\n",
      "VICE-CHANCELLOR\n",
      "Dr. Dipak Jain\n",
      "\n",
      "Former Dean, Kellogg School of Management, USA | Former Dean, INSEAD, France | Ex-officio invitee, Governing Council, Jio Institute\n",
      "\n",
      "See Profile\n",
      "\n",
      "Ms. Isha Ambani\n",
      "\n",
      "Member of Executive Leadership teams, Reliance Retail, Reliance Jio, Reliance Foundation, and Dhirubhai Ambani International School\n",
      "\n",
      "See Profile\n",
      "\n",
      "Dr. Pradeep Khosla\n",
      "\n",
      "Chancellor, University of California, San Diego, USA\n",
      "\n",
      "See Profile\n",
      "\n",
      "Mr. Anant Ambani\n",
      "\n",
      "Director, Jio Platforms Limited and Reliance Retail Ventures Ltd.\n",
      "\n",
      "See Profile\n",
      "\n",
      "Dr. Bimal Patel\n",
      "\n",
      "President, CEPT University | Managing Director, HCP Design, Planning and Management Pvt. Ltd.\n",
      "\n",
      "See Profile\n",
      "\n",
      "Mr. Vikram Mehta\n",
      "\n",
      "Former Executive Chairman, Brookings India | Former CEO, Shell India\n",
      "\n",
      "See Profile\n",
      "\n",
      "Mr. Jalaj Dani\n",
      "\n",
      "Chairman of the Board of Governors, IIM Trichy | Co-Promoter, Asian Paints\n",
      "\n",
      "See Profile\n",
      "\n",
      "--- Split3 ---\n",
      "\n",
      "Former Executive Chairman, Brookings India | Former CEO, Shell India\n",
      "\n",
      "See Profile\n",
      "\n",
      "Mr. Jalaj Dani\n",
      "\n",
      "Chairman of the Board of Governors, IIM Trichy | Co-Promoter, Asian Paints\n",
      "\n",
      "See Profile\n",
      "\n",
      "Mr. R. Venkataramanan\n",
      "\n",
      "Former Managing Trustee, Tata Trusts\n",
      "\n",
      "See Profile\n",
      "\n",
      "Jio Institute Leadership\n",
      "From reputed academicians and researchers around the world to Indian stalwarts across the spectrum – Jio Institute’s distinguished leadership is committed to guiding the Institute from strength to strength.\n",
      "\n",
      "Chancellor\n",
      "Dr. Raghunath Mashelkar\n",
      "\n",
      "Padma Vibhushan | Former Director General, CSIR, Government of India\n",
      "\n",
      "See Profile\n",
      "\n",
      "VICE-CHANCELLOR\n",
      "Dr. Dipak Jain\n",
      "\n",
      "Former Dean, Kellogg School of Management, USA | Former Dean, INSEAD, France\n",
      "\n",
      "See Profile\n",
      "\n",
      "Campus Experience & Student Life\n",
      "A vibrant campus replete with world-class facilities.\n",
      "\n",
      "Food & Dining\n",
      "\n",
      "Auditorium\n",
      "\n",
      "Library\n",
      "\n",
      "Tech Enabled Classrooms\n",
      "\n",
      "State of the art labs\n",
      "\n",
      "Sport & Fitness\n",
      "\n",
      "Previous\n",
      "Next\n",
      "\n",
      "Explore Campus Life\n",
      "\n",
      "--- Split4 ---\n",
      "\n",
      "PGP in Artificial Intelligence & Data Science\n",
      "\n",
      "This postgraduate programme has a comprehensive and rigorous curriculum that covers foundation and advanced courses to train future-ready full-stack data scientists and AI architects.  Download Brochure\n",
      "\n",
      "Video\n",
      "\n",
      "Video\n",
      "\n",
      "Video\n",
      "\n",
      "Video\n",
      "\n",
      "Video\n",
      "\n",
      "Video\n",
      "\n",
      "Video\n",
      "\n",
      "Video\n",
      "\n",
      "--- Split5 ---\n",
      "\n",
      "Programme overviewIn this programme, students will embark on a journey that explores the fascinating realm of cutting-edge AI technologies that are reshaping industries, revolutionizing decision-making, and transforming the way we interact with data/information. Our comprehensive and rigorous curriculum covers courses from foundation to advanced levels. Key concepts and technologies include Machine Learning, Deep Learning, Fundamentals of AI, Natural Language Processing (NLP), Optimization, Bigdata Engineering, Data Visualisation, Responsible AI, Reinforcement Learning and Time Series Analysis. The various courses are taught by renowned research-oriented faculty and industry practitioners from India and from around the world. The programme aims to instil strong theoretical foundations as well as the know-how to create practical solutions for enterprises and society. Students learn to convert business problems and workflows into AI&DS products and solutions across multiple\n",
      "\n",
      "--- Split6 ---\n",
      "\n",
      "as well as the know-how to create practical solutions for enterprises and society. Students learn to convert business problems and workflows into AI&DS products and solutions across multiple verticals/industries. Enriched by exposure to real-life AI&DS applications through capstone projects and lectures from industry veterans, students are exposed to hands-on exercises, practical projects and quizzes to reinforce their learning.\n",
      "\n",
      "--- Split7 ---\n",
      "\n",
      "PGP in Artificial Intelligence & Data Science\n",
      "\n",
      "Leadership\n",
      "Faculty\n",
      "Advisors\n",
      "Curriculum\n",
      "Tools\n",
      "Highlights\n",
      "Admissions\n",
      "FAQ\n",
      "Brochure\n",
      "\n",
      "PGP in Artificial Intelligence & Data Science\n",
      "\n",
      "Choose your purpose\n",
      "\n",
      "Leadership\n",
      "Faculty\n",
      "Advisors\n",
      "Curriculum\n",
      "Tools\n",
      "Highlights\n",
      "Admissions\n",
      "FAQ\n",
      "Brochure\n",
      "\n",
      "Programme Leadership\n",
      "\n",
      "Dr. Larry Birnbaum\n",
      "\n",
      "Professor, Computer Science, Northwestern University, USA\n",
      "\n",
      "See Profile\n",
      "\n",
      "Dr. Shailesh Kumar\n",
      "\n",
      "Chief Data Scientist, Center of Excellence in AI/ML, Reliance Jio\n",
      "\n",
      "See Profile\n",
      "\n",
      "Faculty\n",
      "\n",
      "Anant Agarwal\n",
      "Data Science Manager, Nissan Motor Corporation, India\n",
      "\n",
      "See Profile\n",
      "\n",
      "Anmol Karnwal\n",
      "Applied AI Scientist, Microsoft, India\n",
      "\n",
      "See Profile\n",
      "\n",
      "Dr. Arindam Banerjee\n",
      "Founder Professor at the Department of Computer Science, University of Illinois Urbana-Champaign, USA\n",
      "\n",
      "See Profile\n",
      "\n",
      "Arpit Yadav\n",
      "Senior Data Scientist-R&D, CCE Bangalore, India\n",
      "\n",
      "See Profile\n",
      "\n",
      "Dr. Chandra Sekhar Bhagavatula\n",
      "Senior Research Scientist, Allen Institute for AI, USA\n",
      "\n",
      "See Profile\n",
      "\n",
      "--- Split8 ---\n",
      "\n",
      "See Profile\n",
      "\n",
      "Arpit Yadav\n",
      "Senior Data Scientist-R&D, CCE Bangalore, India\n",
      "\n",
      "See Profile\n",
      "\n",
      "Dr. Chandra Sekhar Bhagavatula\n",
      "Senior Research Scientist, Allen Institute for AI, USA\n",
      "\n",
      "See Profile\n",
      "\n",
      "Dr. Divyakant Agrawal\n",
      "Distinguished Professor, University of California, Santa Barbara, USA\n",
      "\n",
      "See Profile\n",
      "\n",
      "Dr. Dwarikanath Mahapatra\n",
      "Senior Research Scientist at the Inception Institute of Artificial Intelligence, Abu Dhabi, UAE\n",
      "\n",
      "See Profile\n",
      "\n",
      "Dr. Gaurav Aggarwal\n",
      "Vice President, Special Projects AI/ML, Reliance Jio, India\n",
      "\n",
      "See Profile\n",
      "\n",
      "Dr. Khyathi Chandu\n",
      "Research Scientist, Allen Institute of AI, USA\n",
      "\n",
      "See Profile\n",
      "\n",
      "Dr. Larry Birnbaum\n",
      "Professor, Computer Science, Northwestern University, USA\n",
      "\n",
      "See Profile\n",
      "\n",
      "Manaranjan Pradhan\n",
      "Founder & Director, AwesomeStats Consulting Pvt Ltd, India | Adjunct Faculty for Indian Institute of Management, Bangalore and Indian School of Business, Hyderabad\n",
      "\n",
      "See Profile\n",
      "\n",
      "Dr. Niket Tandon\n",
      "Senior Research Scientist, Allen Institute of AI, USA\n",
      "\n",
      "See Profile\n",
      "\n",
      "--- Split9 ---\n",
      "\n",
      "See Profile\n",
      "\n",
      "Dr. Niket Tandon\n",
      "Senior Research Scientist, Allen Institute of AI, USA\n",
      "\n",
      "See Profile\n",
      "\n",
      "Rishabh Sharma\n",
      "Principal Software Engineer and Founder, MindsOnAI Technologies (OPC), India\n",
      "\n",
      "See Profile\n",
      "\n",
      "Dr. Shailesh Kumar\n",
      "Chief Data Scientist, Center of Excellence in AI/ML, Reliance Jio\n",
      "\n",
      "See Profile\n",
      "\n",
      "Sray Agarwal\n",
      "Principal Consultant, Fractal AI, UK\n",
      "\n",
      "See Profile\n",
      "\n",
      "Dr. Sudipta Roy\n",
      "Associate Professor, Artificial Intelligence & Data Science, Jio Institute, India\n",
      "\n",
      "See Profile\n",
      "\n",
      "Dr. Varun Aggarwala\n",
      "Assistant Professor, Jio Institute\n",
      "\n",
      "See Profile\n",
      "\n",
      "Dr. Vidya Setlur\n",
      "Senior Director, Tableau Research, Tableau, USA\n",
      "\n",
      "See Profile\n",
      "\n",
      "Dr. Vishal Lala\n",
      "Professor of Marketing, Lubin School of Business, PACE University, USA\n",
      "\n",
      "See Profile\n",
      "\n",
      "Dr. Vishnuprasad Nagadevara\n",
      "Former Professor and Dean, Indian Institute of Management Bangalore, India\n",
      "\n",
      "See Profile\n",
      "\n",
      "Programme Advisory Council\n",
      "\n",
      "Dr. Dan Roth\n",
      "Eduardo D. Glandt Distinguished Professor, University of Pennsylvania, USA\n",
      "\n",
      "See Profile\n",
      "\n",
      "--- Split10 ---\n",
      "\n",
      "See Profile\n",
      "\n",
      "Programme Advisory Council\n",
      "\n",
      "Dr. Dan Roth\n",
      "Eduardo D. Glandt Distinguished Professor, University of Pennsylvania, USA\n",
      "\n",
      "See Profile\n",
      "\n",
      "Dr. Joydeep Ghosh\n",
      "Schlumberger Centennial Chair Professor of Electrical and Computer Engineering, University of Texas at Austin, USA\n",
      "\n",
      "See Profile\n",
      "\n",
      "Dr. Maneesh Agarwala\n",
      "Forest Baskett Professor of Computer Science | Director of the Brown Institute for Media Innovation, Stanford University, USA\n",
      "\n",
      "See Profile\n",
      "\n",
      "Dr. Michael Franklin\n",
      "Liew Family Chairman of Computer Science, Senior Advisor to the Provost for Computing and Data Science, The University of Chicago, USA\n",
      "\n",
      "See Profile\n",
      "\n",
      "Dr. M Vidyasagar\n",
      "Fellow of The Royal Society, UK | National Science Chair, Science & Engineering Research Board (SERB), India | Distinguished Professor, Electrical Engineering, IIT Hyderabad, India\n",
      "\n",
      "See Profile\n",
      "\n",
      "Dr. Padmanabhan Anandan\n",
      "Former CEO, Wadhwani Institute for Artificial Intelligence, India | Researcher Emeritus, Microsoft Research India\n",
      "\n",
      "See Profile\n",
      "\n",
      "--- Split11 ---\n",
      "\n",
      "See Profile\n",
      "\n",
      "Dr. Padmanabhan Anandan\n",
      "Former CEO, Wadhwani Institute for Artificial Intelligence, India | Researcher Emeritus, Microsoft Research India\n",
      "\n",
      "See Profile\n",
      "\n",
      "Dr. Prateek Jain\n",
      "Sr. Principal Researcher, Microsoft Research India\n",
      "\n",
      "See Profile\n",
      "\n",
      "Dr. Rajesh Gupta\n",
      "Distinguished Professor, Department of Computer Science & Engineering, University of California, San Diego, USA | Director, Halicioglu Data Science Institute, University of California, San Diego, USA\n",
      "\n",
      "See Profile\n",
      "\n",
      "Sudhir Wadhwa\n",
      "Chief Data & AI Officer, Aduro, USA | Programme Advisory Council, AI & DS, Jio Institute\n",
      "\n",
      "See Profile\n",
      "\n",
      "Dr. Uday B. Desai\n",
      "Founding Director and Professor Emeritus, Electrical Engineering, Indian Institute of Technology, Hyderabad, India\n",
      "\n",
      "See Profile\n",
      "\n",
      "Course Curriculum\n",
      "\n",
      "No Description\n",
      "Foundation Courses\n",
      "\n",
      "Mathematical Foundations (Probability, Statistics, Linear Algebra)\n",
      "\n",
      "Mathematical Foundations (Probability, Statistics, Linear Algebra)\n",
      "\n",
      "x\n",
      "\n",
      "--- Split12 ---\n",
      "\n",
      "Course Curriculum\n",
      "\n",
      "No Description\n",
      "Foundation Courses\n",
      "\n",
      "Mathematical Foundations (Probability, Statistics, Linear Algebra)\n",
      "\n",
      "Mathematical Foundations (Probability, Statistics, Linear Algebra)\n",
      "\n",
      "x\n",
      "\n",
      "This course covers essential mathematical concepts that form the backbone of AI and machine learning. Students will explore probability theory, statistical inference, and key linear algebra techniques used in data representation and model computations. Emphasis is placed on eigenvalues, matrix factorization, and vector spaces, crucial for optimization and deep learning. The course includes practical applications in AI and real-world problem-solving. By the end, learners will develop a strong mathematical intuition for AI algorithms. Hands-on exercises reinforce theoretical concepts through Python-based implementations.\n",
      "\n",
      "Python Programming\n",
      "\n",
      "Python Programming\n",
      "\n",
      "x\n",
      "\n",
      "--- Split13 ---\n",
      "\n",
      "Python Programming\n",
      "\n",
      "Python Programming\n",
      "\n",
      "x\n",
      "\n",
      "This course provides a foundational and practical introduction to Python for AI and data science applications. Students will learn core programming concepts, including data structures, control flow, functions, and object-oriented programming. Special focus is given to data manipulation, visualization, and automation using libraries like NumPy, Pandas, and Matplotlib. Hands-on projects will reinforce concepts through real-world scenarios in AI, finance, and business analytics. Students will also explore debugging techniques and best practices for writing efficient code. By the end, learners will be proficient in Python and ready for advanced AI coursework.\n",
      "\n",
      "Data Structures and Algorithms\n",
      "\n",
      "Data Structures and Algorithms\n",
      "\n",
      "x\n",
      "\n",
      "--- Split14 ---\n",
      "\n",
      "A good algorithm usually comes together with a set of good data structures that allow the algorithm to manipulate the data efficiently. In this course, we consider the common data structures that are used in various computational problems. You will learn how these data structures are implemented in programming languages. This will help you understand what is going on inside a particular built-in data structure implementation and what to expect from it. You will also learn typical use cases for these data structures. In this course, we will explore several fundamental algorithms and data structures in computer science. Some of the data structures, we will encounter include linked lists, stacks, queues, trees, heaps, hash tables, and graphs. We will study and analyze algorithms for searching, traversing trees, hashing, manipulating priority queues, sorting, finding shortest paths in graphs, and much more.The basic idea of this course is to help you understand many of the fundamental\n",
      "\n",
      "--- Split15 ---\n",
      "\n",
      "traversing trees, hashing, manipulating priority queues, sorting, finding shortest paths in graphs, and much more.The basic idea of this course is to help you understand many of the fundamental data structures of computer science. With an appreciation for data structures and algorithms and practical experience in implementing them you can be a much more effective designer and developer for new applications. Elegant algorithms are also a nice counterpoint to the crafty code and weird features we encounter in daily work.\n",
      "\n",
      "--- Split16 ---\n",
      "\n",
      "Databases & Data Warehouses\n",
      "\n",
      "Databases & Data Warehouses\n",
      "\n",
      "x\n",
      "\n",
      "The ability to deal with data plays a critical role in all disciplines of information technology. This course covers all the essential topics in database management building the foundation needed for dealing with persistent data. It introduces the fundamental concepts of designing, using, and implementing database systems and applications.Database system architectures, Relational data model, Query Processing, Database design, Data Storage and Indexing, Query Optimization, Transaction Management, Data Warehousing, Data Analytics, Advanced Topics: Data Mining, Blockchains, etc.\n",
      "\n",
      "Optimization for Business\n",
      "\n",
      "Optimization for Business\n",
      "\n",
      "x\n",
      "\n",
      "--- Split17 ---\n",
      "\n",
      "The applicability and use of optimization and decision models have increased significantly in recent years.  Information has become an important organizational resource, and optimization models play an important role in the optimal utilization of this resource along with others, in the form of organizing and structuring information so that it can be used more efficiently. This course will introduce and apply optimization techniques to managerial decision problems with the objective of enhancing decision-making capabilities as well as knowledge about using spreadsheet-based tools.The course emphasizes model-formulation skills and provides a basic understanding of some of the assumptions and limitations of decision models. We will not focus on algorithmic details but will use established software packages to obtain the solutions.  The major emphasis is on interpreting the solution and strategizing based on the interpretation.  The aim of the course is to help students become intelligent\n",
      "\n",
      "--- Split18 ---\n",
      "\n",
      "packages to obtain the solutions.  The major emphasis is on interpreting the solution and strategizing based on the interpretation.  The aim of the course is to help students become intelligent consumers of analytical modeling tools and adopt an analytical, data-driven approach to making business decisions.\n",
      "\n",
      "--- Split19 ---\n",
      "\n",
      "Data Visualization\n",
      "\n",
      "Data Visualization\n",
      "\n",
      "x\n",
      "\n",
      "Data contains a wealth of insights about the process that generated it. Finding deep insights from data by asking it the right questions, interpreting the answer to those questions correctly, and letting the data speak to us is an essential skill for a data scientist. There is data all around us. As humans, to make sense of the world and the information that it contains, we rely on our visual systems and cognitive abilities. Well-designed information visualizations leverage these human capabilities to help see and understand data. In this course, we will study techniques for understanding and creating effective visualizations based on principles from perception, design, and cognitive science. The course is targeted toward students interested in understanding effective visualizations, building better visualization tools and systems, as well as understanding the state of the art in research in this space.\n",
      "\n",
      "Time Series Analysis\n",
      "\n",
      "--- Split20 ---\n",
      "\n",
      "Time Series Analysis\n",
      "\n",
      "Time Series Analysis\n",
      "\n",
      "x\n",
      "\n",
      "--- Split21 ---\n",
      "\n",
      "Data obtained from observations collected sequentially over time are extremely common in a business requiring analysis of time series data. Some examples are weekly interest rates, daily closing stock prices, monthly price indices, yearly sales figures, etc. In addition, time series analysis is applicable in diverse fields.  Much familiar time series occur in the field of economics, where we are continually exposed to daily stock market quotations or monthly unemployment figures, annual GDP figures, etc.  Social scientists follow population series, such as birthrates or school enrollments. An epidemiologist might be interested in the number of Covid - 19 cases observed over some period.The first step in any time series investigation involves scrutiny of the recorded data plotted over time. This scrutiny often suggests the method of analysis as well as statistics that will be of use in summarizing the information in the data. The time domain approach which assumes that correlation\n",
      "\n",
      "--- Split22 ---\n",
      "\n",
      "time. This scrutiny often suggests the method of analysis as well as statistics that will be of use in summarizing the information in the data. The time domain approach which assumes that correlation between adjacent points in time is best explained in terms of a dependence of the current value on past values. This focuses on modeling some future value of a time series as a parametric function of the current and past values, usually by decomposing components of time series data.  Another approach develops a systematic class of models called autoregressive integrated moving average (ARIMA) models to handle time-correlated modeling and forecasting, with a provision for treating more than one input series through multivariate ARIMA. A completely different approach to time series analysis is the survival analysis. The objective of this course is to expose students to various methods of analyzing time series data to understand its behavior as well as make forecasts for the future.\n",
      "\n",
      "--- Split23 ---\n",
      "\n",
      ".\n",
      "Core Courses\n",
      "\n",
      "Big-Data Engineering\n",
      "\n",
      "Big-Data Engineering\n",
      "\n",
      "x\n",
      "\n",
      "--- Split24 ---\n",
      "\n",
      "Traditional database systems and data analysis algorithms have become increasingly insufficient to deal with this unprecedented growth in the volume, variety, velocity, and veracity of data. Big Data tools and techniques promise to store and crunch this data at scale, find deep insights in it, build sophisticated prescriptive, predictive, and descriptive models from it, and enable accurate and real-time decisions. Adapting business models to digital through data and analytics is critical for the long-term success of mainstream enterprises.The objective of this course is to primarily focus on modern database systems to solve real-world business problems for both batch and streaming data. This course aims to take a 360-degree view of the Big Data ecosystem through various prisms i.e., start-ups, VC firms, publicly traded, and privately held corporations. The course is going to be a good mix of theory, hands-on experience, and class discussions on both case studies as well as business\n",
      "\n",
      "--- Split25 ---\n",
      "\n",
      "VC firms, publicly traded, and privately held corporations. The course is going to be a good mix of theory, hands-on experience, and class discussions on both case studies as well as business use cases.\n",
      "\n",
      "--- Split26 ---\n",
      "\n",
      "Machine Learning (Supervised & Unsupervised Learning)\n",
      "\n",
      "Machine Learning (Supervised & Unsupervised Learning)\n",
      "\n",
      "x\n",
      "\n",
      "--- Split27 ---\n",
      "\n",
      "Most modern Enterprises across variety of verticals that have become “data rich” due to the first wave of digital transformation (Automation) are now investing heavily to become “AI First” in their second wave of digital transformation. They are aspiring to migrate from broadcast, batch, reactive, tactical decision-making to personalized, real-time, proactive, strategic decision-making. This has the potential to improve the quality of service they provide to their customers, the efficiency and reliability of their operations, optimal utilization of their resources – personnel, money, and materials, and adapting their ability to make dynamic decisions with evolving contexts. This in turn leads to systemic growth in customer satisfaction, net profitability, and market share.This unprecedented paradigm shifts in “how Enterprises make decisions” is enabled by a proven suite of algorithms, techniques, frameworks, processes, and platforms that have emerged in the varied fields of Artificial\n",
      "\n",
      "--- Split28 ---\n",
      "\n",
      "paradigm shifts in “how Enterprises make decisions” is enabled by a proven suite of algorithms, techniques, frameworks, processes, and platforms that have emerged in the varied fields of Artificial Intelligence, Machine Learning, Data Mining, Statistical Pattern Recognition, etc. over the last several decades.In this course, we will study a plethora of frameworks, algorithms, techniques, tools, and guiding principles to (a) understand any type of data better, (b) combine it with the domain knowledge appropriately, (d) find deeper insights hidden in the data, (d) build a wide variety of powerful descriptive, predictive, and prescriptive models, and (e) continuously improve them with feedback data coming from the environment they are deployed in.\n",
      "\n",
      "--- Split29 ---\n",
      "\n",
      "Natural Language Processing\n",
      "\n",
      "Natural Language Processing\n",
      "\n",
      "x\n",
      "\n",
      "--- Split30 ---\n",
      "\n",
      "Language can be considered our “sixth sense” that has literally made humans the dominant species on the planet and made modern human civilization possible. It is the primary mechanism used throughout human history to communicate and share knowledge both across society and across generations. One of the holy grails of AI is to build Machines that can “understand” (analyze), “generate” (synthesize), and “translate” language the way humans do so that we can communicate with machines in our natural languages the way we communicate with each other.This course introduces the major challenges of, and classic approaches to, Natural Language Processing (NLP) at a beginning graduate level.  The course takes a functional approach — developing data representations and algorithms based on analysis of what is required by key uses of language — as well as considering the critical properties of language with respect to these uses.  The primary focus is on developing applications to enable computer\n",
      "\n",
      "--- Split31 ---\n",
      "\n",
      "what is required by key uses of language — as well as considering the critical properties of language with respect to these uses.  The primary focus is on developing applications to enable computer use of language as a medium of communication with human beings.\n",
      "\n",
      "--- Split32 ---\n",
      "\n",
      "Classical Approaches to Modern AI in Computer Vision\n",
      "\n",
      "Classical Approaches to Modern AI in Computer Vision\n",
      "\n",
      "x\n",
      "\n",
      "This course delves into the evolution of computer vision, from classical image processing to deep learning-based AI techniques. Topics include feature extraction, object detection, and convolutional neural networks (CNNs) for image recognition. Students will study traditional approaches like edge detection and SIFT before transitioning to modern architectures such as ResNets and Transformers. Case studies on medical imaging, autonomous vehicles, and facial recognition are included. Practical coding exercises will provide hands-on experience with OpenCV and TensorFlow. The course equips students with the ability to design and implement vision-based AI solutions.\n",
      "\n",
      "Deep Learning\n",
      "\n",
      "Deep Learning\n",
      "\n",
      "x\n",
      "\n",
      "--- Split33 ---\n",
      "\n",
      "Deep Learning\n",
      "\n",
      "Deep Learning\n",
      "\n",
      "x\n",
      "\n",
      "Unstructured and semantically low-level data such as images, videos, audio, and text are becoming increasingly common in enterprises and society as people and systems generate and consume such data in both public and private settings. Human systems of visual, auditory, and linguistic perception and generation have mastered the art of processing such data in the brain. Modern Deep learning systems try to mimic a similar multi-layered architecture to interpret this low-level data (e.g., pixels, signals, words) into high-level semantics. This course explores the biological, computational, theoretical, architectural, and modelling aspects of deep learning models that come in a variety of architectures, on different data types and are used for a variety of applications.\n",
      "\n",
      "Responsible AI\n",
      "\n",
      "Responsible AI\n",
      "\n",
      "x\n",
      "\n",
      "--- Split34 ---\n",
      "\n",
      "Responsible AI\n",
      "\n",
      "Responsible AI\n",
      "\n",
      "x\n",
      "\n",
      "“With great power comes great responsibility”. AI is emerging as a tool for fundamental and disruptive transformation of human society. If not used ethically and responsibly, it has the potential of doing more harm than good to individuals, societies, and the human civilization as a whole. Strong regulations are emerging across the globe to ensure that AI is used for the right purpose, in the right way, and with the right governance.\n",
      "In this core course we will understand the emerging guiding principles of Responsible AI, the state-of-the-art algorithms used to detect and correct any intentional or unintentional transgressions by AI systems w.r.t. these guiding principles, and the emerging landscape of regulations for AI across the world. This will enable emerging data scientists to “consciously and proactively” incorporate these principles and regulations into their model building from the start and not as an afterthought.\n",
      "\n",
      "--- Split35 ---\n",
      "\n",
      "Gen AI & Prompt Engineering\n",
      "\n",
      "Gen AI & Prompt Engineering\n",
      "\n",
      "x\n",
      "\n",
      "This course explores Generative AI models and the principles of prompt engineering for effective interaction with AI systems. Topics include the architecture of generative models like GANs, VAEs, and diffusion models, along with practical applications in text, image, and code generation. A deep dive into prompt engineering strategies will enhance students’ ability to guide AI outputs efficiently. The course includes industry use cases such as chatbots, content creation, and AI-assisted design. Ethical considerations and limitations of generative AI are also discussed. Hands-on labs with tools like ChatGPT and Stable Diffusion ensure experiential learning.\n",
      "\n",
      "No Description No Description No Description No Description No Description No Description No Description No Description No Description No Description No Description No Description No Description No Description No Description No Description\n",
      "Advanced Courses\n",
      "\n",
      "--- Split36 ---\n",
      "\n",
      "Advanced Topics in Machine Learning\n",
      "\n",
      "Advanced Topics in Machine Learning\n",
      "\n",
      "x\n",
      "\n",
      "With this unprecedented growth in the volume, variety, velocity, and veracity of data, it has become increasing challenging to deal with big data using the traditional data management systems. Deriving insights from big data in near real time has become is critical for the long-term success of mainstream enterprises. So, the objective of this course is to primarily focus on modern data architecture and data lake design to facilitate downstream analytics applications including descriptive and predictive analysis. Many new ideas that have evolved in recent times like data lake-house, data discovery, feature stores, experiment tracking will also be discussed in detail to empower the participants to design and develop advanced data management systems in the real world.\n",
      "\n",
      "Advanced Topics in Bigdata Engineering\n",
      "\n",
      "Advanced Topics in Bigdata Engineering\n",
      "\n",
      "x\n",
      "\n",
      "--- Split37 ---\n",
      "\n",
      "Advanced Topics in Bigdata Engineering\n",
      "\n",
      "Advanced Topics in Bigdata Engineering\n",
      "\n",
      "x\n",
      "\n",
      "With this unprecedented growth in the volume, variety, velocity, and veracity of data, it has become increasing challenging to deal with big data using the traditional data management systems. Deriving insights from big data in near real time has become is critical for the long-term success of mainstream enterprises. So, the objective of this course is to primarily focus on modern data architecture and data lake design to facilitate downstream analytics applications including descriptive and predictive analysis. Many new ideas that have evolved in recent times like data lake-house, data discovery, feature stores, experiment tracking will also be discussed in detail to empower the participants to design and develop advanced data management systems in the real world.\n",
      "\n",
      "Large Language Models (LLMs)\n",
      "\n",
      "Large Language Models (LLMs)\n",
      "\n",
      "x\n",
      "\n",
      "--- Split38 ---\n",
      "\n",
      "Large Language Models (LLMs)\n",
      "\n",
      "Large Language Models (LLMs)\n",
      "\n",
      "x\n",
      "\n",
      "This course explores the architecture, training, and applications of Large Language Models (LLMs) like GPT, BERT, and LLaMA. Students will understand transformer architectures, attention mechanisms, and model fine-tuning for domain-specific tasks. The course covers ethical concerns, bias mitigation, and responsible AI practices in LLM deployment. Hands-on labs include building and fine-tuning LLMs using Hugging Face and OpenAI APIs. Use cases in natural language processing, chatbot development, and automated text generation are discussed. By the end, students will be equipped to leverage LLMs for enterprise and research applications.\n",
      "\n",
      "Machine Learning Operations (ML Ops)\n",
      "\n",
      "Machine Learning Operations (ML Ops)\n",
      "\n",
      "x\n",
      "\n",
      "--- Split39 ---\n",
      "\n",
      "Machine Learning Operations (ML Ops)\n",
      "\n",
      "Machine Learning Operations (ML Ops)\n",
      "\n",
      "x\n",
      "\n",
      "Machine Learning Operations (MLOps) refers to the tools, techniques and practical experiences required to train your machine learning models and deploy and monitor them in production. After we have trained our machine learning model, the next big task is to deploy the model to production and scale it so that more users can use it. In this course, you will learn how to use various tools and methodologies to do all this effectively.While knowing machine learning and deep learning concepts is essential, but for building a successful career in Artificial Intelligence, you need to have good experience with production engineering capabilities. This course deep-dives into machine learning and deep learning algorithms along with building expertise in DevOps technologies.\n",
      "\n",
      "Human Computer Interface\n",
      "\n",
      "Human Computer Interface\n",
      "\n",
      "x\n",
      "\n",
      "--- Split40 ---\n",
      "\n",
      "Human Computer Interface\n",
      "\n",
      "Human Computer Interface\n",
      "\n",
      "x\n",
      "\n",
      "This course examines the design and evaluation of user interfaces that enable seamless interaction between humans and computers. Topics include usability principles, cognitive psychology, and interface design for web, mobile, and AI-driven applications. Students will explore gesture-based, voice-controlled, and multimodal interfaces, along with accessibility considerations. Case studies in VR, AR, and AI-assisted interfaces provide real-world insights. Hands-on projects will involve prototyping and testing interfaces using tools like Figma and UX research methodologies. The course prepares students to design intuitive, user-friendly digital experiences.\n",
      "\n",
      "Digital Business Transformation using AI\n",
      "\n",
      "Digital Business Transformation using AI\n",
      "\n",
      "x\n",
      "\n",
      "--- Split41 ---\n",
      "\n",
      "Digital Business Transformation using AI\n",
      "\n",
      "Digital Business Transformation using AI\n",
      "\n",
      "x\n",
      "\n",
      "This course explores the strategic role of AI in driving digital business transformation across industries. Students will analyze AI-driven innovation in areas such as automation, customer experience, and data-driven decision-making. Key topics include predictive analytics, AI-powered marketing, and operational efficiencies through intelligent systems. Case studies from finance, healthcare, and retail illustrate real-world applications. Ethical and regulatory considerations in AI adoption are also covered. By the end, students will be equipped with the knowledge to leverage AI for competitive advantage in digital enterprises.\n",
      "\n",
      "--- Split42 ---\n",
      "\n",
      "In this “industry talk series” and “case studies for AI applications” course, students will learn how AI/DS is applied to various industry verticals. The wide variety of use-cases across different verticals will highlight the common principles of applied AI/DS in real-world inclsing: (a) understanding the right pain points and identifying the right opportunities for AI/DS in each vertical, (b) formulating the business problem into an AI architecture, (c) using both domain knowledge and data to build AI/ML/DL models, and (d) integrating these models into the existing business processes. This course will have industry lectures throughout the year on:\n",
      "AI for X series\n",
      "\n",
      "AI for Industry Verticals\n",
      "\n",
      "AI for Industry Verticals\n",
      "\n",
      "x\n",
      "\n",
      "●    AI for Telecom●    AI for Retail●    AI for Manufacturing●    AI for Refineries●    AI for Banking●    AI for Finance●    AI for Insurance\n",
      "\n",
      "AI for Society Verticals\n",
      "\n",
      "AI for Society Verticals\n",
      "\n",
      "x\n",
      "\n",
      "--- Split43 ---\n",
      "\n",
      "●    AI for Telecom●    AI for Retail●    AI for Manufacturing●    AI for Refineries●    AI for Banking●    AI for Finance●    AI for Insurance\n",
      "\n",
      "AI for Society Verticals\n",
      "\n",
      "AI for Society Verticals\n",
      "\n",
      "x\n",
      "\n",
      "●    AI for Agriculture●    AI for Healthcare●    AI for Education●    AI for Smart Cities●    AI for Sustainability\n",
      "\n",
      "AI for Business Functions\n",
      "\n",
      "AI for Business Functions\n",
      "\n",
      "x\n",
      "\n",
      "●    AI for Customer Lifetime Management●    AI for Human Resources ●    AI for Accounting and Finance●    AI for Infrastructure and Asset Management●    AI for Supply Chain and Operations●    AI for Risk and Compliance\n",
      "\n",
      "NA\n",
      "Holistic Learning Module\n",
      "\n",
      "Design Thinking\n",
      "\n",
      "Design Thinking\n",
      "\n",
      "x\n",
      "\n",
      "--- Split44 ---\n",
      "\n",
      "“Necessity is the mother of invention”. Every successful product that we use today is addressing a very critical human need, addressing an important individual, industrial, or societal pain point, and has evolved over multiple iterations through a very well defined process that has now matured into what we call “Design Thinking”. Traditionally, the design thinking process is taught mostly to product managers, customer experience designers, and growth managers. But as the charter of AI/DS is evolving from merely “embedding intelligence into existing products and services” to “building intelligent solutions for society”, it becomes critical for AI architects and Data Scientists to also become first principles “product thinkers” and “design thinkers”. This hands-on Holistic Learning Module on Design Thinking will explore the core guiding principles and a systematic process of both conceiving new, and continuously improving existing products by identifying the right pain points and\n",
      "\n",
      "--- Split45 ---\n",
      "\n",
      "on Design Thinking will explore the core guiding principles and a systematic process of both conceiving new, and continuously improving existing products by identifying the right pain points and addressing them with the right product features.\n",
      "\n",
      "--- Split46 ---\n",
      "\n",
      "System and Solution Thinking\n",
      "\n",
      "System and Solution Thinking\n",
      "\n",
      "x\n",
      "\n",
      "--- Split47 ---\n",
      "\n",
      "Over the last several centuries, products have evolved from mostly physical products such as cars and TV’s to purely digital products such as search engines and social networks. The next generation products will be complex digital-physical ecosystem products such as telecom networks, e-commerce platforms, agriculture and healthcare for a country, smart cities of the future, and so on. Today these third generation products are put together by clobbering together existing building blocks giving a very siloed experience to customers, a broken architecture to engineers, and a fragmented and inefficient design of operations. A whole new set of skills are needed to conceive, design, build, and operate such ecosystem products that will require a new kind of integrated operating system that doesn't exist yet. The Holistic Learning Module on System and Solution Thinking will develop the required skills to not just build and deploy bottom-up AI/ML models wrapped in microservices but to build a\n",
      "\n",
      "--- Split48 ---\n",
      "\n",
      "exist yet. The Holistic Learning Module on System and Solution Thinking will develop the required skills to not just build and deploy bottom-up AI/ML models wrapped in microservices but to build a top-down AI + IT architecture for such complex ecosystems.\n",
      "\n",
      "--- Split49 ---\n",
      "\n",
      "Communication Skills for Data Scientists\n",
      "\n",
      "Communication Skills for Data Scientists\n",
      "\n",
      "x\n",
      "\n",
      "--- Split50 ---\n",
      "\n",
      "x\n",
      "\n",
      "Data Scientists and AI experts not only have to create intelligent solutions for businesses but they also have to become well versed in the art of domain, business, technical, and engineering communication. As they have to work with multiple stakeholders in the ecosystem including the business leadership that articulates the problem statements in business terms, subject matter experts that have built up enormous domain knowledge within the vertical over the years, data and engineering teams that will help them build and deploy the AI solutions at scale, and the operations team who will execute the decisions generated by the AI systems. This Holistic Learning Module will explore the art of listening and conversing about pain points that AI/DS can address, domain knowledge required to build the right models and solutions, presenting the insights generated from the data, and describing the nuances of the solution to business, platform, and operations stakeholders.\n",
      "\n",
      "--- Split51 ---\n",
      "\n",
      "Leadership & Entrepreneurship for AI&DS\n",
      "\n",
      "Leadership & Entrepreneurship for AI&DS\n",
      "\n",
      "x\n",
      "\n",
      "--- Split52 ---\n",
      "\n",
      "Leadership & Entrepreneurship for AI&DS\n",
      "\n",
      "x\n",
      "\n",
      "There are three different types of leadership and entrepreneurial opportunities for data scientists and AI experts in the foreseeable future. First, leading the transformation journeys of existing businesses in different verticals such as banking, finance, insurance, manufacturing, retail, telecom, mobility, entertainment, etc. from “data-rich” organizations to “AI-first” organizations. Second, building startups that champion an AI-first solution to industrial or societal use-cases addressing the efficiency, precision, personalization, automation, and democratization of AI in these areas, and third, to create completely new business or technology innovations that could disrupt the way we live, work, educate our children, take care of our health, grow our crops, or run our cities and governments. This holistic learning module will explore the opportunities, challenges, and a journey towards a “Data Science Leader and Entrepreneur”.\n",
      "\n",
      "--- Split53 ---\n",
      "\n",
      "Laboratories\n",
      "\n",
      "AR/VR Lab\n",
      "\n",
      "AR/VR Lab\n",
      "\n",
      "x\n",
      "\n",
      "AR/VR (Augmented Reality/ Virtual Reality) Lab particularly focuses on interaction technologies including virtual, augmented and mixed reality as well as mobile computing, epigenetic and evolutionary robotics, and haptic communication.\n",
      "\n",
      "Computer Vision Lab\n",
      "\n",
      "Computer Vision Lab\n",
      "\n",
      "x\n",
      "\n",
      "This lab provides exposure to students to the complexity, breadth, and depth of how vision works and how to make machines “see the way humans do” in different areas including healthcare, agriculture, retail, autonomous vehicles, drones, manufacturing, security, traﬃc management, remote sensing, defense applications, and so on.\n",
      "\n",
      "Media Studio\n",
      "\n",
      "Media Studio\n",
      "\n",
      "x\n",
      "\n",
      "Media Studio is designed with state of the art equipment used in newsrooms for students to gain extensive practice in the technology and process of content creation. Students will get hands-on training in the audio, video, and social construction of media and the associated best practices in audience research.\n",
      "\n",
      "--- Split54 ---\n",
      "\n",
      "Production Control Lab\n",
      "\n",
      "Production Control Lab\n",
      "\n",
      "x\n",
      "\n",
      "Production Control Lab will complement the media studio to mimic the environment and technological standards of the live creation of digital media and longer feature programming. Students will become skilled at lighting design, reading from a teleprompter, managing multiple audio and video inputs, in-ear communication and monitoring, robotic and person-operated cameras, pacing and voice, and collaborative construction of media at this lab.\n",
      "\n",
      "Video Editing Bay\n",
      "\n",
      "Video Editing Bay\n",
      "\n",
      "x\n",
      "\n",
      "Video Editing Bay includes state-of-the-art audio equipment and is also be outﬁtted for HD, Ultra-HD, and 4K video editing including Adobe Creative Suite software, a playback interface, a color console, and a professional reference monitor. In these rooms, students will be able to reﬁne and edit video shorts, news pieces, feature-length stories, documentaries, and AR/VR content.\n",
      "\n",
      "Audio Editing Bay\n",
      "\n",
      "Audio Editing Bay\n",
      "\n",
      "x\n",
      "\n",
      "--- Split55 ---\n",
      "\n",
      "Audio Editing Bay\n",
      "\n",
      "Audio Editing Bay\n",
      "\n",
      "x\n",
      "\n",
      "Audio Editing Bay comprises acoustically treated rooms that will be equipped with sound-mixing consoles, associated software, surround sound, and ampliﬁcation. These rooms will allow students to record and edit podcasts, and voice-overs for ﬁlms and AR/VR applications.\n",
      "\n",
      "Placement Overview\n",
      "\n",
      "Tools and Platforms covered\n",
      "\n",
      "Previous\n",
      "Next\n",
      "\n",
      "Highlights\n",
      "\n",
      "Experiential Learning\n",
      "Jio Institute takes a holistic approach to education, prioritizing the overall growth of students alongside their academic progress. The institute designs courses that enable students to acquire crucial contemporary life skills, regardless of their chosen field of study.\n",
      "Know more\n",
      "\n",
      "--- Split56 ---\n",
      "\n",
      "Study Abroad\n",
      "The Study Abroad Module is a key element of the curriculum. It provides students with essential international exposure through mandatory study at a top global university. This experience integrates academic learning with industry and cultural immersion. By participating in contemporary courses and engaging with diverse environments, students develop a global mindset that enhances their professional profiles\n",
      "Know more\n",
      "\n",
      "Capstone and Industry Immersion\n",
      "Jio Institute aims to be a leading institute operating in a global ecosystem, incorporating real-world applications into its core pedagogical elements. Students of Jio Institute receive an opportunity to immerse themselves in professional setups that focus on developing the relevant skills and personal networks needed to succeed in an interconnected global work environment.\n",
      "Know more\n",
      "\n",
      "--- Split57 ---\n",
      "\n",
      "Innovation and Entrepreneurship\n",
      "For students who are keen to ideate, innovate, and incubate their own ventures, Jio Institute provides mentorship and networking opportunities with incubators and entrepreneurs.\n",
      "\n",
      "Know more\n",
      "\n",
      "Laboratories\n",
      "Jio Institute’s specialized laboratories and studio spaces are equipped with cutting-edge gadgets and technologies, creating an ideal environment for students to conduct experiments, explore innovative ideas and tackle complex challenges.\n",
      "Know more\n",
      "\n",
      "Admissions & Fees\n",
      "\n",
      "--- Split58 ---\n",
      "\n",
      "Admissions & Fees\n",
      "\n",
      "Jio Institute has formulated a seamless digital admissions process to apply to its academic programmes. We invite applications from meritorious students from accross the globe. Eligibility for PGP in Artificial Intelligence & Data Science :A four-year undergraduate degree or its equivalent, in the field of Engineering/Science/ Mathematics and Statistics with minimum 50 per cent or equivalent CGPA. A postgraduate degree (if the undergraduate degree is of three years) in the field of Engineering/Science/Mathematics and Statistics with minimum 50 per cent or equivalent CGPA.A strong foundation in Mathematics, Statistics and Computer Science along with programming experience.A valid GRE/GMAT/GATE/CAT score or appear for Jio Institute Entrance Test (JET)Preference shall be given to candidates with relevant experience. Know More\n",
      "\n",
      "Frequently asked questions\n",
      "\n",
      "--- Split59 ---\n",
      "\n",
      "When will Jio Institute begin its academic year?Academic year 2025-26 will begin in April 2025. For more information about our academic programmes, please click here- Admissions What about placements? Are you giving any assurance?Jio Institute has a dedicated Office of Career Services (OCS) which liaises with corporates, start-ups, and MNCs to explore live projects and job opportunities for students. Apart from inviting companies for placements, the OCS also provides a comprehensive career preparation module that will help the student pursue a career of his/her choice. For more details, please visit Office of Career ServicesWhat is the ‘Study Abroad’ module at Jio Institute?Jio Institute has designed a module in collaboration with leading academic institutions from different parts of the world to provide students with an opportunity to experience their academic and research ecosystems; enhance skills relevant to their programmes as well as explore global cultures.For more information,\n",
      "\n",
      "--- Split60 ---\n",
      "\n",
      "to provide students with an opportunity to experience their academic and research ecosystems; enhance skills relevant to their programmes as well as explore global cultures.For more information, click here.Are Scholarships available? How can I get Scholarship?Jio Institute believes that all deserving candidates should have an opportunity to fulfil their higher education aspirations irrespective of their financial constraints.  As a part of Jio Institute’s commitment to access and diversity, Jio Institute offers merit-based and need-based scholarships, supporting students from various disciplines and backgrounds.You can apply for our programmes by visiting our Admissions portal.\n",
      "\n",
      "--- Split61 ---\n",
      "\n",
      "See all\n",
      "\n",
      "Download Brochure×\n"
     ]
    }
   ],
   "source": [
    "for i in range(len(all_splits)):\n",
    "    print(f\"\\n--- Split{i} ---\\n\")\n",
    "    print(all_splits[i].page_content)"
   ]
  },
  {
   "cell_type": "markdown",
   "id": "d709da37",
   "metadata": {
    "jp-MarkdownHeadingCollapsed": true
   },
   "source": [
    "### Storing in Vector Store"
   ]
  },
  {
   "cell_type": "code",
   "execution_count": 49,
   "id": "23c9aedb",
   "metadata": {},
   "outputs": [
    {
     "data": {
      "text/plain": [
       "['3977720a-f0b4-40c0-9f57-64681369fd60',\n",
       " 'f95e3681-5c6a-430a-8e80-35f57563b652',\n",
       " '7eacb750-6428-40a4-ac1a-311cadb763cf',\n",
       " '3dc437a1-f883-4e98-a60a-effa20eb0540',\n",
       " 'c7abb518-74dd-41d2-9994-b02e8b1e5acb',\n",
       " '33678f54-8e55-4d7f-9ebe-cbc8396a4845',\n",
       " '62578d0d-26ae-4e30-91ea-aefb5ef5b068',\n",
       " '4af879cc-1eea-4fae-bed9-d2f9a9562513',\n",
       " 'd0dccbba-c8e2-4d2b-b3c9-bd6a8c475f16',\n",
       " '43b1f331-1241-4cd2-97cb-6ce56694edc3']"
      ]
     },
     "execution_count": 49,
     "metadata": {},
     "output_type": "execute_result"
    }
   ],
   "source": [
    "#Add first 10 chunks to vector DB\n",
    "uuids = [str(uuid4()) for _ in range(len(all_splits))] #Universally unique identifier\n",
    "vector_store_chroma.add_documents(documents=all_splits[:10], ids=uuids[:10])"
   ]
  },
  {
   "cell_type": "markdown",
   "id": "51df8746",
   "metadata": {},
   "source": [
    "## Advanced Retrieval and Reranking Strategies"
   ]
  },
  {
   "cell_type": "markdown",
   "id": "ca6ffbec",
   "metadata": {},
   "source": [
    "### Multi Query Retrieval"
   ]
  },
  {
   "cell_type": "markdown",
   "id": "71a25b5e",
   "metadata": {},
   "source": [
    "Retrieval may produce different results with subtle changes in query wording, or if the embeddings do not capture the semantics of the data well. Prompt engineering / tuning is sometimes done to manually address these problems, but can be tedious.\n",
    "\n",
    "The [`MultiQueryRetriever`](https://api.python.langchain.com/en/latest/retrievers/langchain.retrievers.multi_query.MultiQueryRetriever.html) automates the process of prompt tuning by using an LLM to generate multiple queries from different perspectives for a given user input query. For each query, it retrieves a set of relevant documents and takes the unique union across all queries to get a larger set of potentially relevant documents."
   ]
  },
  {
   "cell_type": "code",
   "execution_count": 51,
   "id": "ea924303",
   "metadata": {},
   "outputs": [],
   "source": [
    "#Import libraries\n",
    "from langchain.retrievers.multi_query import MultiQueryRetriever\n",
    "import logging # Set logging for the queries"
   ]
  },
  {
   "cell_type": "code",
   "execution_count": 52,
   "id": "8cda934f",
   "metadata": {},
   "outputs": [],
   "source": [
    "#Initialize retriever\n",
    "retriever = vector_store_chroma.as_retriever(search_type=\"similarity\",\n",
    "                                                search_kwargs={\"k\": 2})"
   ]
  },
  {
   "cell_type": "code",
   "execution_count": 53,
   "id": "c3b475b3",
   "metadata": {},
   "outputs": [],
   "source": [
    "mq_retriever = MultiQueryRetriever.from_llm(\n",
    "    retriever=retriever, \n",
    "    llm=llm,\n",
    "    include_original=True\n",
    ")"
   ]
  },
  {
   "cell_type": "code",
   "execution_count": 54,
   "id": "20c594f8",
   "metadata": {},
   "outputs": [],
   "source": [
    "logging.basicConfig()\n",
    "# so we can see what queries are generated by the LLM\n",
    "logging.getLogger(\"langchain.retrievers.multi_query\").setLevel(logging.INFO)"
   ]
  },
  {
   "cell_type": "code",
   "execution_count": 55,
   "id": "ffeb6dca",
   "metadata": {
    "scrolled": true
   },
   "outputs": [
    {
     "name": "stderr",
     "output_type": "stream",
     "text": [
      "INFO:langchain.retrievers.multi_query:Generated queries: ['Here are three alternative perspectives on the original question:', 'What is the program curriculum and course structure of the Post Graduate Program in Artificial Intelligence & Data Science at Jio Institute?', 'Can you provide information about the faculty expertise and research areas of the Post Graduate Program in Artificial Intelligence & Data Science at Jio Institute?', 'What are the career prospects and alumni outcomes of students who have completed the Post Graduate Program in Artificial Intelligence & Data Science at Jio Institute?']\n"
     ]
    },
    {
     "data": {
      "text/plain": [
       "[Document(id='62578d0d-26ae-4e30-91ea-aefb5ef5b068', metadata={'start_index': 1103, 'source': 'https://www.jioinstitute.edu.in/academics/artificial-intelligence-data-science'}, page_content='as well as the know-how to create practical solutions for enterprises and society. Students learn to convert business problems and workflows into AI&DS products and solutions across multiple verticals/industries. Enriched by exposure to real-life AI&DS applications through capstone projects and lectures from industry veterans, students are exposed to hands-on exercises, practical projects and quizzes to reinforce their learning.'),\n",
       " Document(id='4af879cc-1eea-4fae-bed9-d2f9a9562513', metadata={'source': 'https://www.jioinstitute.edu.in/academics/artificial-intelligence-data-science', 'start_index': 1537}, page_content='PGP in Artificial Intelligence & Data Science\\n\\nLeadership\\nFaculty\\nAdvisors\\nCurriculum\\nTools\\nHighlights\\nAdmissions\\nFAQ\\nBrochure\\n\\nPGP in Artificial Intelligence & Data Science\\n\\nChoose your purpose\\n\\nLeadership\\nFaculty\\nAdvisors\\nCurriculum\\nTools\\nHighlights\\nAdmissions\\nFAQ\\nBrochure\\n\\nProgramme Leadership\\n\\nDr. Larry Birnbaum\\n\\nProfessor, Computer Science, Northwestern University, USA\\n\\nSee Profile\\n\\nDr. Shailesh Kumar\\n\\nChief Data Scientist, Center of Excellence in AI/ML, Reliance Jio\\n\\nSee Profile\\n\\nFaculty\\n\\nAnant Agarwal\\nData Science Manager, Nissan Motor Corporation, India\\n\\nSee Profile\\n\\nAnmol Karnwal\\nApplied AI Scientist, Microsoft, India\\n\\nSee Profile\\n\\nDr. Arindam Banerjee\\nFounder Professor at the Department of Computer Science, University of Illinois Urbana-Champaign, USA\\n\\nSee Profile\\n\\nArpit Yadav\\nSenior Data Scientist-R&D, CCE Bangalore, India\\n\\nSee Profile\\n\\nDr. Chandra Sekhar Bhagavatula\\nSenior Research Scientist, Allen Institute for AI, USA\\n\\nSee Profile'),\n",
       " Document(id='3dc437a1-f883-4e98-a60a-effa20eb0540', metadata={'start_index': 2588, 'source': 'https://www.jioinstitute.edu.in/about/'}, page_content='Former Executive Chairman, Brookings India | Former CEO, Shell India\\n\\nSee Profile\\n\\nMr. Jalaj Dani\\n\\nChairman of the Board of Governors, IIM Trichy | Co-Promoter, Asian Paints\\n\\nSee Profile\\n\\nMr. R. Venkataramanan\\n\\nFormer Managing Trustee, Tata Trusts\\n\\nSee Profile\\n\\nJio Institute Leadership\\nFrom reputed academicians and researchers around the world to Indian stalwarts across the spectrum – Jio Institute’s distinguished leadership is committed to guiding the Institute from strength to strength.\\n\\nChancellor\\nDr. Raghunath Mashelkar\\n\\nPadma Vibhushan | Former Director General, CSIR, Government of India\\n\\nSee Profile\\n\\nVICE-CHANCELLOR\\nDr. Dipak Jain\\n\\nFormer Dean, Kellogg School of Management, USA | Former Dean, INSEAD, France\\n\\nSee Profile\\n\\nCampus Experience & Student Life\\nA vibrant campus replete with world-class facilities.\\n\\nFood & Dining\\n\\nAuditorium\\n\\nLibrary\\n\\nTech Enabled Classrooms\\n\\nState of the art labs\\n\\nSport & Fitness\\n\\nPrevious\\nNext\\n\\nExplore Campus Life')]"
      ]
     },
     "execution_count": 55,
     "metadata": {},
     "output_type": "execute_result"
    }
   ],
   "source": [
    "docs = mq_retriever.invoke(question)\n",
    "docs"
   ]
  },
  {
   "cell_type": "markdown",
   "id": "950f323a",
   "metadata": {},
   "source": [
    "### Chained Retrieval with Reranker"
   ]
  },
  {
   "cell_type": "markdown",
   "id": "95731a6a",
   "metadata": {},
   "source": [
    "This strategy uses a chain of multiple retrievers sequentially to get to the most relevant documents. The following is the flow:\n",
    "\n",
    "*Similarity Retrieval → Reranker Model Retrieval*\n",
    "\n",
    "**What are rerankers?**\n",
    "\n",
    "- Rerankers are fine-tuned cross-encoder transformer models\n",
    "- These models take in a pair of documents (Query, Document) and return back a relevance score\n",
    "- Models fine-tuned on more pairs and released recently will usually be better"
   ]
  },
  {
   "cell_type": "code",
   "execution_count": 56,
   "id": "4d61679b",
   "metadata": {},
   "outputs": [],
   "source": [
    "#Import libraries\n",
    "from langchain_community.cross_encoders import HuggingFaceCrossEncoder\n",
    "from langchain.retrievers.document_compressors import CrossEncoderReranker\n",
    "from langchain.retrievers import ContextualCompressionRetriever"
   ]
  },
  {
   "cell_type": "code",
   "execution_count": 58,
   "id": "3deb415c",
   "metadata": {},
   "outputs": [],
   "source": [
    "# Retriever 1 - simple cosine distance based retriever\n",
    "retriever = vector_store_chroma.as_retriever(search_type=\"similarity\",\n",
    "                                              search_kwargs={\"k\": 3})"
   ]
  },
  {
   "cell_type": "code",
   "execution_count": 61,
   "id": "c0a3ad32",
   "metadata": {},
   "outputs": [
    {
     "data": {
      "application/vnd.jupyter.widget-view+json": {
       "model_id": "99d45d6fa89c4b8d9289421c7d1b22f3",
       "version_major": 2,
       "version_minor": 0
      },
      "text/plain": [
       "config.json:   0%|          | 0.00/771 [00:00<?, ?B/s]"
      ]
     },
     "metadata": {},
     "output_type": "display_data"
    },
    {
     "data": {
      "application/vnd.jupyter.widget-view+json": {
       "model_id": "8b9e76a560124dcfa3ca9a87291fb3b0",
       "version_major": 2,
       "version_minor": 0
      },
      "text/plain": [
       "model.safetensors:   0%|          | 0.00/438M [00:00<?, ?B/s]"
      ]
     },
     "metadata": {},
     "output_type": "display_data"
    },
    {
     "data": {
      "application/vnd.jupyter.widget-view+json": {
       "model_id": "9dd9100c291347c98d0f43d07274b6d4",
       "version_major": 2,
       "version_minor": 0
      },
      "text/plain": [
       "tokenizer_config.json: 0.00B [00:00, ?B/s]"
      ]
     },
     "metadata": {},
     "output_type": "display_data"
    },
    {
     "data": {
      "application/vnd.jupyter.widget-view+json": {
       "model_id": "10215b0fbdec46eab7af2e1da6532753",
       "version_major": 2,
       "version_minor": 0
      },
      "text/plain": [
       "vocab.txt: 0.00B [00:00, ?B/s]"
      ]
     },
     "metadata": {},
     "output_type": "display_data"
    },
    {
     "data": {
      "application/vnd.jupyter.widget-view+json": {
       "model_id": "817a2e882c524671aecf1717fc2e5567",
       "version_major": 2,
       "version_minor": 0
      },
      "text/plain": [
       "tokenizer.json: 0.00B [00:00, ?B/s]"
      ]
     },
     "metadata": {},
     "output_type": "display_data"
    },
    {
     "data": {
      "application/vnd.jupyter.widget-view+json": {
       "model_id": "0b28016aac79477b8820f0123df4e1d8",
       "version_major": 2,
       "version_minor": 0
      },
      "text/plain": [
       "special_tokens_map.json:   0%|          | 0.00/132 [00:00<?, ?B/s]"
      ]
     },
     "metadata": {},
     "output_type": "display_data"
    },
    {
     "data": {
      "application/vnd.jupyter.widget-view+json": {
       "model_id": "71494ab605404071b5a4a5c21d7cea4a",
       "version_major": 2,
       "version_minor": 0
      },
      "text/plain": [
       "README.md: 0.00B [00:00, ?B/s]"
      ]
     },
     "metadata": {},
     "output_type": "display_data"
    }
   ],
   "source": [
    "# Download an open-source reranker model - cross-encoder/qnli-electra-base\n",
    "reranker = HuggingFaceCrossEncoder(model_name=\"cross-encoder/qnli-electra-base\")\n",
    "reranker_compressor = CrossEncoderReranker(model=reranker, top_n=2)"
   ]
  },
  {
   "cell_type": "code",
   "execution_count": 63,
   "id": "c1a297fd",
   "metadata": {},
   "outputs": [],
   "source": [
    "# Retriever 2 - Uses a Reranker model to rerank retrieval results from the previous retriever\n",
    "final_retriever = ContextualCompressionRetriever(\n",
    "    base_compressor=reranker_compressor,\n",
    "    base_retriever=retriever\n",
    ")"
   ]
  },
  {
   "cell_type": "code",
   "execution_count": 64,
   "id": "8407d9a7",
   "metadata": {},
   "outputs": [
    {
     "data": {
      "text/plain": [
       "[Document(id='62578d0d-26ae-4e30-91ea-aefb5ef5b068', metadata={'start_index': 1103, 'source': 'https://www.jioinstitute.edu.in/academics/artificial-intelligence-data-science'}, page_content='as well as the know-how to create practical solutions for enterprises and society. Students learn to convert business problems and workflows into AI&DS products and solutions across multiple verticals/industries. Enriched by exposure to real-life AI&DS applications through capstone projects and lectures from industry veterans, students are exposed to hands-on exercises, practical projects and quizzes to reinforce their learning.'),\n",
       " Document(id='3977720a-f0b4-40c0-9f57-64681369fd60', metadata={'source': 'https://www.jioinstitute.edu.in/about/', 'start_index': 0}, page_content='About Us\\n\\nJio Institute is a multidisciplinary higher education institute set up as a philanthropic initiative by the Reliance Group. The Institute is dedicated to the pursuit of excellence by bringing together global scholars and thought leaders and providing an enriching student experience through world-class education, and a culture of research and innovation.\\n\\nOur Story\\nPursuit of excellence in academics, research and innovation.\\nWe stand at the confluence of the best higher education practices from India and the world. The institute aims to nurture students’ aspirations, and provide a platform to their entrepreneurial spirit.\\n\\nRead more\\n\\nOur Vision\\nIn sync with global aspirations. In step with changing times.\\nWe envisage to be a world-class higher education institute through our multi-disciplinary academic programmes, robust research endeavours and a culture of innovation and entrepreneurship.\\n\\nRead more')]"
      ]
     },
     "execution_count": 64,
     "metadata": {},
     "output_type": "execute_result"
    }
   ],
   "source": [
    "docs = final_retriever.invoke(question)\n",
    "docs"
   ]
  },
  {
   "cell_type": "markdown",
   "id": "03f397cd",
   "metadata": {},
   "source": [
    "## Context Compression Strategies"
   ]
  },
  {
   "cell_type": "markdown",
   "id": "d6fe122f",
   "metadata": {},
   "source": [
    "Here, we'll explore **LLM prompt-based context compression** strategies. The context compression can happen in the form of:\n",
    "\n",
    "- **Extractor**: Remove parts of the content of retrieved documents which are not relevant to the query. This is done by extracting only relevant parts of the document to the given query\n",
    "\n",
    "- **Filter**: Filter out documents which are not relevant to the given query but do not remove content from the document\n",
    "\n",
    "Good to also read about [Microsoft LLMLingua Prompt\n",
    "Compression](https://www.microsoft.com/en-us/research/blog/llmlingua-innovating-llm-efficiency-with-prompt-compression/)."
   ]
  },
  {
   "cell_type": "markdown",
   "id": "043e32d3",
   "metadata": {},
   "source": [
    "### LLMChainExtractor"
   ]
  },
  {
   "cell_type": "markdown",
   "id": "2eec58a3",
   "metadata": {},
   "source": [
    "Here we look at `LLMChainExtractor`, which will iterate over the initially returned documents and extract from each only the content that is relevant to the query. Totally irrelevant documents might also be dropped."
   ]
  },
  {
   "cell_type": "code",
   "execution_count": 66,
   "id": "6591af0b",
   "metadata": {},
   "outputs": [],
   "source": [
    "#Import libraries\n",
    "from langchain.retrievers import ContextualCompressionRetriever\n",
    "from langchain.retrievers.document_compressors import LLMChainExtractor"
   ]
  },
  {
   "cell_type": "code",
   "execution_count": 67,
   "id": "f4760bd9",
   "metadata": {},
   "outputs": [],
   "source": [
    "#Initialize retriever\n",
    "retriever = vector_store_chroma.as_retriever(search_type=\"similarity\",\n",
    "                                              search_kwargs={\"k\": 3})"
   ]
  },
  {
   "cell_type": "code",
   "execution_count": 68,
   "id": "95ee960d",
   "metadata": {},
   "outputs": [],
   "source": [
    "# Extracts from each document only the content that is relevant to the query\n",
    "compressor = LLMChainExtractor.from_llm(llm=llm)"
   ]
  },
  {
   "cell_type": "code",
   "execution_count": 69,
   "id": "0fafc356",
   "metadata": {},
   "outputs": [],
   "source": [
    "# Retrieves the documents similar to query and then applies the compressor\n",
    "compression_retriever = ContextualCompressionRetriever(\n",
    "    base_compressor=compressor, base_retriever=retriever\n",
    ")"
   ]
  },
  {
   "cell_type": "code",
   "execution_count": 70,
   "id": "8e3dfc0c",
   "metadata": {},
   "outputs": [
    {
     "data": {
      "text/plain": [
       "[Document(metadata={'source': 'https://www.jioinstitute.edu.in/academics/artificial-intelligence-data-science', 'start_index': 1103}, page_content='as well as the know-how to create practical solutions for enterprises and society. Students learn to convert business problems and workflows into AI&DS products and solutions across multiple verticals/industries.'),\n",
       " Document(metadata={'start_index': 2588, 'source': 'https://www.jioinstitute.edu.in/about/'}, page_content='From reputed academicians and researchers around the world to Indian stalwarts across the spectrum – Jio Institute’s distinguished leadership is committed to guiding the Institute from strength to strength.\\n\\nJio Institute Leadership\\nChancellor\\nDr. Raghunath Mashelkar\\n\\nPadma Vibhushan | Former Director General, CSIR, Government of India\\n\\nSee Profile\\n\\nVICE-CHANCELLOR\\nDr. Dipak Jain\\n\\nFormer Dean, Kellogg School of Management, USA | Former Dean, INSEAD, France\\n\\nSee Profile'),\n",
       " Document(metadata={'source': 'https://www.jioinstitute.edu.in/about/', 'start_index': 0}, page_content='>>>\\nOur Story\\nPursuit of excellence in academics, research and innovation.\\nWe stand at the confluence of the best higher education practices from India and the world. The institute aims to nurture students’ aspirations, and provide a platform to their entrepreneurial spirit.\\n\\nOur Vision\\nIn sync with global aspirations. In step with changing times.\\nWe envisage to be a world-class higher education institute through our multi-disciplinary academic programmes, robust research endeavours and a culture of innovation and entrepreneurship.\\n\\nOur Vision (specifically) \\nPursuit of excellence in academics, research and innovation')]"
      ]
     },
     "execution_count": 70,
     "metadata": {},
     "output_type": "execute_result"
    }
   ],
   "source": [
    "docs = compression_retriever.invoke(question)\n",
    "docs"
   ]
  },
  {
   "cell_type": "markdown",
   "id": "15a95b3a",
   "metadata": {
    "jp-MarkdownHeadingCollapsed": true
   },
   "source": [
    "### LLMChainFilter"
   ]
  },
  {
   "cell_type": "markdown",
   "id": "088b83ea",
   "metadata": {},
   "source": [
    "The `LLMChainFilter` is slightly simpler but more robust compressor that uses an LLM chain to decide which of the initially retrieved documents to filter out and which ones to return, without manipulating the document contents."
   ]
  },
  {
   "cell_type": "code",
   "execution_count": 71,
   "id": "b6781ed3",
   "metadata": {},
   "outputs": [],
   "source": [
    "#Import library\n",
    "from langchain.retrievers.document_compressors import LLMChainFilter"
   ]
  },
  {
   "cell_type": "code",
   "execution_count": 72,
   "id": "b188fa56",
   "metadata": {},
   "outputs": [],
   "source": [
    "#Initialize retriever\n",
    "retriever = vector_store_chroma.as_retriever(search_type=\"similarity\",\n",
    "                                              search_kwargs={\"k\": 3})"
   ]
  },
  {
   "cell_type": "code",
   "execution_count": 73,
   "id": "3169daf4",
   "metadata": {},
   "outputs": [],
   "source": [
    "# Decides which of the initially retrieved documents to filter out and which ones to return\n",
    "_filter = LLMChainFilter.from_llm(llm=llm)"
   ]
  },
  {
   "cell_type": "code",
   "execution_count": 74,
   "id": "cab61dcb",
   "metadata": {},
   "outputs": [],
   "source": [
    "# Retrieves the documents similar to query and then applies the filter\n",
    "compression_retriever = ContextualCompressionRetriever(\n",
    "    base_compressor=_filter, base_retriever=retriever\n",
    ")"
   ]
  },
  {
   "cell_type": "code",
   "execution_count": 75,
   "id": "e364f5ab",
   "metadata": {},
   "outputs": [
    {
     "data": {
      "text/plain": [
       "[Document(id='62578d0d-26ae-4e30-91ea-aefb5ef5b068', metadata={'start_index': 1103, 'source': 'https://www.jioinstitute.edu.in/academics/artificial-intelligence-data-science'}, page_content='as well as the know-how to create practical solutions for enterprises and society. Students learn to convert business problems and workflows into AI&DS products and solutions across multiple verticals/industries. Enriched by exposure to real-life AI&DS applications through capstone projects and lectures from industry veterans, students are exposed to hands-on exercises, practical projects and quizzes to reinforce their learning.')]"
      ]
     },
     "execution_count": 75,
     "metadata": {},
     "output_type": "execute_result"
    }
   ],
   "source": [
    "docs = compression_retriever.invoke(question)\n",
    "docs"
   ]
  }
 ],
 "metadata": {
  "kernelspec": {
   "display_name": "Python 3 (ipykernel)",
   "language": "python",
   "name": "python3"
  },
  "language_info": {
   "codemirror_mode": {
    "name": "ipython",
    "version": 3
   },
   "file_extension": ".py",
   "mimetype": "text/x-python",
   "name": "python",
   "nbconvert_exporter": "python",
   "pygments_lexer": "ipython3",
   "version": "3.13.5"
  },
  "varInspector": {
   "cols": {
    "lenName": 16,
    "lenType": 16,
    "lenVar": 40
   },
   "kernels_config": {
    "python": {
     "delete_cmd_postfix": "",
     "delete_cmd_prefix": "del ",
     "library": "var_list.py",
     "varRefreshCmd": "print(var_dic_list())"
    },
    "r": {
     "delete_cmd_postfix": ") ",
     "delete_cmd_prefix": "rm(",
     "library": "var_list.r",
     "varRefreshCmd": "cat(var_dic_list()) "
    }
   },
   "types_to_exclude": [
    "module",
    "function",
    "builtin_function_or_method",
    "instance",
    "_Feature"
   ],
   "window_display": false
  }
 },
 "nbformat": 4,
 "nbformat_minor": 5
}
